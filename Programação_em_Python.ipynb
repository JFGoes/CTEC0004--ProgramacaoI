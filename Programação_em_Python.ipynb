{
  "nbformat": 4,
  "nbformat_minor": 0,
  "metadata": {
    "celltoolbar": "Slideshow",
    "kernelspec": {
      "display_name": "Python 3",
      "language": "python",
      "name": "python3"
    },
    "language_info": {
      "codemirror_mode": {
        "name": "ipython",
        "version": 3
      },
      "file_extension": ".py",
      "mimetype": "text/x-python",
      "name": "python",
      "nbconvert_exporter": "python",
      "pygments_lexer": "ipython3",
      "version": "3.7.4"
    },
    "colab": {
      "provenance": [],
      "collapsed_sections": [
        "jA-mALRKfrY5",
        "E5hQiLFyfrY-",
        "8c4SBOejfrZM",
        "6B7gTXIffrZV",
        "WpiW6NkXfrZi",
        "GBTKACidfrZw",
        "kEsfx8uifraB",
        "91r4HEI9fraD",
        "Vogj0rtXfraQ",
        "jVijl8iUfrbH",
        "HtPbjREQfrb7",
        "jSes6yAyfrcr",
        "hfy9cNytfrcs",
        "KRlQ3XCOfrcu",
        "Dw0TsJOvfrcx",
        "rvsT6UXgfrcz",
        "V6Pympjqfrc0"
      ],
      "toc_visible": true,
      "include_colab_link": true
    }
  },
  "cells": [
    {
      "cell_type": "markdown",
      "metadata": {
        "id": "view-in-github",
        "colab_type": "text"
      },
      "source": [
        "<a href=\"https://colab.research.google.com/github/JFGoes/CTEC0004--ProgramacaoI/blob/master/Programa%C3%A7%C3%A3o_em_Python.ipynb\" target=\"_parent\"><img src=\"https://colab.research.google.com/assets/colab-badge.svg\" alt=\"Open In Colab\"/></a>"
      ]
    },
    {
      "cell_type": "markdown",
      "metadata": {
        "id": "hvzb-zw4frV2"
      },
      "source": [
        "<center> \n",
        "\n",
        "# Introdução à Linguagem Python e Visualização de Dados \n",
        "\n",
        "</center>\n",
        "\n",
        "### Ministrante: \n",
        "* Josecley Fialho Góes (Professor)\n",
        "\n",
        "#Ementa:\n",
        "## Algorítmos; Representação e resolução de problemas em linguagem imperativa; Tipos elementares de dados, registros, constantes, variáveis; Expressões Aritméticas e Lógicas. Estruturas de Controle. Recursividade. Vetores, Matrizes e Strings. Arquivos. \n",
        "\n"
      ]
    },
    {
      "cell_type": "markdown",
      "metadata": {
        "id": "X2IfqgoifrV3"
      },
      "source": [
        "\n",
        "### Tópicos do Curso:\n",
        "\n",
        "Este notebook vai apenas passar pelos tópicos básicos em ordem:\n",
        "* Introdução ao Colab - Jupyter Notebook\n",
        "* Tipos de dados\n",
        "    * Números\n",
        "    * Textos -- Strings\n",
        "    * Printando\n",
        "    * Listas\n",
        "    * Dicionários\n",
        "    * Boleanos\n",
        "    * Tuplas\n",
        "    * Sets"
      ]
    },
    {
      "cell_type": "markdown",
      "metadata": {
        "id": "ZM5qlKqv8Eah"
      },
      "source": [
        "\n",
        "### Carga horária: \n",
        "\n",
        "60 horas\n",
        "### Dias e horários: \n",
        "\n",
        "às quintas-feiras, das 14 às 17:35 h \n",
        "\n",
        "### Professor: \n",
        "Josecley Góes\n",
        "\n",
        "### Assuntos:\n",
        "Introdução à linguagem Python. Principais Estruturas de Dados em Python. Principais bibliotecas para Ciência de Dados. NumPy. Matplotlib e Seaborn para visualização de dados.\n",
        "\n"
      ]
    },
    {
      "cell_type": "markdown",
      "metadata": {
        "id": "fITe9TvBfrV4"
      },
      "source": [
        "* Operadores de comparação\n",
        "* if,elif e else;\n",
        "* for Loops;\n",
        "* while Loops;\n",
        "* range();\n",
        "* list comprehension - Compreensão de Listas;\n",
        "* funções;\n",
        "* expressões lamda;\n",
        "* map e filter;\n",
        "* métodos\n",
        "* Files:\n",
        "    * Reading\n",
        "    * Writing"
      ]
    },
    {
      "cell_type": "markdown",
      "metadata": {
        "id": "r9HK-HTffrV5"
      },
      "source": [
        "## Introdução ao Colab - modos Code e Text \n",
        "\n",
        " O colab é baseado no Jupyter Notebook, que é um ambiente computacional web para a internet rica para criação de documentos para a plataforma Jupyter. O termo \"notebook\" pode, dependendo do contexto, fazer referência a entidades distintas como Jupyter (aplicativo Web), Jupyter Python (servidor Web) ou ao formato de documento para a plataforma. "
      ]
    },
    {
      "cell_type": "markdown",
      "metadata": {
        "id": "qT3GOPFifrV6"
      },
      "source": [
        "Um documento Jupyter Notebook é estruturado no formato JSON, contendo uma lista ordenada de células de entrada / saída que podem conter código, texto (usando Markdown), matemática, gráficos e texto enriquecido, geralmente terminando com a extensão \".ipynb\".\n",
        "\n",
        "\n",
        "### Comandos de atalhos\n",
        "A seguir estão alguns dos comandos de atalhos, que facilitam o uso e agilizam na hora de programar\n",
        "\n",
        "### Executar\n",
        "  * **SHIFT + ENTER**\n",
        "\n",
        "### Criar nova entrada\n",
        " * **ALT + ENTER**\n"
      ]
    },
    {
      "cell_type": "code",
      "metadata": {
        "id": "FP_ngCTIfrV6",
        "colab": {
          "base_uri": "https://localhost:8080/"
        },
        "outputId": "85bef3b1-67c8-4808-dd96-03b49b5b59d6"
      },
      "source": [
        "#Executar: SHIFT + Enter\n",
        "a = 2 #Variavel em python\n",
        "a # print(a)"
      ],
      "execution_count": null,
      "outputs": [
        {
          "output_type": "execute_result",
          "data": {
            "text/plain": [
              "2"
            ]
          },
          "metadata": {},
          "execution_count": 200
        }
      ]
    },
    {
      "cell_type": "code",
      "source": [
        "print(a)"
      ],
      "metadata": {
        "colab": {
          "base_uri": "https://localhost:8080/"
        },
        "id": "piYyKGdpcH2Y",
        "outputId": "eff041a0-434f-44d4-b065-6c64fad5eb37"
      },
      "execution_count": null,
      "outputs": [
        {
          "output_type": "stream",
          "name": "stdout",
          "text": [
            "2\n"
          ]
        }
      ]
    },
    {
      "cell_type": "code",
      "source": [],
      "metadata": {
        "id": "_wX4zOMHcZES"
      },
      "execution_count": null,
      "outputs": []
    },
    {
      "cell_type": "code",
      "metadata": {
        "colab": {
          "base_uri": "https://localhost:8080/"
        },
        "id": "iVXkQDBUtDSW",
        "outputId": "4e5609f0-ec82-4d05-b5c5-1cef6f005768"
      },
      "source": [
        "a"
      ],
      "execution_count": null,
      "outputs": [
        {
          "output_type": "execute_result",
          "data": {
            "text/plain": [
              "2"
            ]
          },
          "metadata": {},
          "execution_count": 202
        }
      ]
    },
    {
      "cell_type": "code",
      "metadata": {
        "colab": {
          "base_uri": "https://localhost:8080/"
        },
        "id": "NgJKb5DRIWV9",
        "outputId": "295b07e3-3098-42a7-aae2-6d4820ad05bc"
      },
      "source": [
        "print(a)"
      ],
      "execution_count": null,
      "outputs": [
        {
          "output_type": "stream",
          "name": "stdout",
          "text": [
            "2\n"
          ]
        }
      ]
    },
    {
      "cell_type": "code",
      "metadata": {
        "id": "_900kqKnfrWA"
      },
      "source": [
        "# Nova Entrada: Alt + Enter"
      ],
      "execution_count": null,
      "outputs": []
    },
    {
      "cell_type": "code",
      "source": [
        "#Criou uma nova entrada, ou seja, uma nova célula"
      ],
      "metadata": {
        "id": "_jZtpnFZcn_Q"
      },
      "execution_count": null,
      "outputs": []
    },
    {
      "cell_type": "markdown",
      "metadata": {
        "id": "cZ3MJ-17frWF"
      },
      "source": [
        "#### Comando para mudar a célula de code para Text\n",
        "\n",
        "* **CTRL + M , M**\n"
      ]
    },
    {
      "cell_type": "markdown",
      "metadata": {
        "id": "iFvrpmCNfrWG"
      },
      "source": []
    },
    {
      "cell_type": "markdown",
      "metadata": {
        "id": "colnAu-6muhN"
      },
      "source": [
        "### Comando para mudar a célula de Text para Code\n",
        "* **CRTL + M, Y**"
      ]
    },
    {
      "cell_type": "markdown",
      "metadata": {
        "id": "tfma_ZPqfrWJ"
      },
      "source": [
        "## Apagar uma célula\n",
        "\n",
        "* **CRTL + M, D**"
      ]
    },
    {
      "cell_type": "markdown",
      "metadata": {
        "id": "zIA78fylfFFO"
      },
      "source": []
    },
    {
      "cell_type": "code",
      "metadata": {
        "id": "HeBHKvDNfHpM"
      },
      "source": [],
      "execution_count": null,
      "outputs": []
    },
    {
      "cell_type": "code",
      "metadata": {
        "id": "GXUJ0ERStc7Z"
      },
      "source": [],
      "execution_count": null,
      "outputs": []
    },
    {
      "cell_type": "markdown",
      "metadata": {
        "id": "3R2pb-7mteSI"
      },
      "source": []
    },
    {
      "cell_type": "markdown",
      "metadata": {
        "id": "RJ6aXE-2frWP"
      },
      "source": [
        "# Formatando o Texto:\n",
        "\n",
        "Visite o blog: https://blog.da2k.com.br/2015/02/08/aprenda-markdown/ para maiores informações e formatações."
      ]
    },
    {
      "cell_type": "code",
      "metadata": {
        "id": "wIZHyEpPfrWP"
      },
      "source": [],
      "execution_count": null,
      "outputs": []
    },
    {
      "cell_type": "markdown",
      "metadata": {
        "id": "dlGnvfUyfrWU"
      },
      "source": [
        "##  Usando Python como uma calculadora:\n",
        "\n",
        "Operações básicas: \n",
        "\n",
        "+ **Adição (+);**\n",
        "+ **Subtração (-);**\n",
        "+ **Multiplicação (*);** \n",
        "+ **Divisão (/);**\n",
        "+ **Potência ($**$ )** \n",
        "+ **Expressões**\n",
        "  + **Resto (%)** \n",
        "  + **Divisor Inteiro (/\\/\\)** \n"
      ]
    },
    {
      "cell_type": "markdown",
      "source": [
        "\n",
        "Operador |\tDescrição |\tExemplo\n",
        "--------|----------|----------\n",
        "+ |soma dois valores|5 + 2 resulta em 7\n",
        "- |subtrai dois valores|5 - 2 resulta em 3\n",
        "* |multiplica dois valores | 5 * 2 resulta em 10\n",
        "/ |divide dois valores (sem arredondar)|5 / 2 resulta em 2.5\n",
        "// |divide dois valores (arredondando para baixo)|5 // 2 resulta em 2\n",
        "% | resto da divisão|5 % 2 resulta em 1\n",
        "** |exponenciação| 5\\** 2 resulta em 25"
      ],
      "metadata": {
        "id": "xQ7DkBKdiHhl"
      }
    },
    {
      "cell_type": "code",
      "metadata": {
        "id": "A7eFz_RvfrWV",
        "colab": {
          "base_uri": "https://localhost:8080/"
        },
        "outputId": "cb6bc320-f79a-4f72-9a48-9802ade4e749"
      },
      "source": [
        "5 + 6 # Soma de dois números inteiros"
      ],
      "execution_count": null,
      "outputs": [
        {
          "output_type": "execute_result",
          "data": {
            "text/plain": [
              "11"
            ]
          },
          "metadata": {},
          "execution_count": 206
        }
      ]
    },
    {
      "cell_type": "code",
      "metadata": {
        "id": "ibV4IljvfrWY",
        "colab": {
          "base_uri": "https://localhost:8080/"
        },
        "outputId": "8c8dfdb9-e67e-4d6b-a377-62f7a092a16d"
      },
      "source": [
        "4.0 + 12.0 # Soma de dois números reais - floats"
      ],
      "execution_count": null,
      "outputs": [
        {
          "output_type": "execute_result",
          "data": {
            "text/plain": [
              "16.0"
            ]
          },
          "metadata": {},
          "execution_count": 207
        }
      ]
    },
    {
      "cell_type": "code",
      "source": [
        "45 + 34.0"
      ],
      "metadata": {
        "colab": {
          "base_uri": "https://localhost:8080/"
        },
        "id": "dSZxKbn4e7l2",
        "outputId": "027978ca-321d-488a-f60b-2b3cc1bc8120"
      },
      "execution_count": null,
      "outputs": [
        {
          "output_type": "execute_result",
          "data": {
            "text/plain": [
              "79.0"
            ]
          },
          "metadata": {},
          "execution_count": 208
        }
      ]
    },
    {
      "cell_type": "code",
      "metadata": {
        "id": "W9nMePn0frWb",
        "colab": {
          "base_uri": "https://localhost:8080/"
        },
        "outputId": "ce75f75c-1567-4c3e-fa14-403afe9e1253"
      },
      "source": [
        "1 * 3 # Multiplicação"
      ],
      "execution_count": null,
      "outputs": [
        {
          "output_type": "execute_result",
          "data": {
            "text/plain": [
              "3"
            ]
          },
          "metadata": {},
          "execution_count": 209
        }
      ]
    },
    {
      "cell_type": "code",
      "metadata": {
        "id": "Qc6hRuv6frWf",
        "colab": {
          "base_uri": "https://localhost:8080/"
        },
        "outputId": "cb1abf60-d5bf-458b-8d22-c0141b0bd525"
      },
      "source": [
        "1 / 2 # Divisão"
      ],
      "execution_count": null,
      "outputs": [
        {
          "output_type": "execute_result",
          "data": {
            "text/plain": [
              "0.5"
            ]
          },
          "metadata": {},
          "execution_count": 210
        }
      ]
    },
    {
      "cell_type": "code",
      "metadata": {
        "id": "FiG-mWpgfrWk",
        "colab": {
          "base_uri": "https://localhost:8080/"
        },
        "outputId": "e4d40bc7-7004-4d7b-c4e1-88a5895c8957"
      },
      "source": [
        "2 ** 4 # Potência"
      ],
      "execution_count": null,
      "outputs": [
        {
          "output_type": "execute_result",
          "data": {
            "text/plain": [
              "16"
            ]
          },
          "metadata": {},
          "execution_count": 211
        }
      ]
    },
    {
      "cell_type": "code",
      "metadata": {
        "id": "eFoRl77MfrWn",
        "colab": {
          "base_uri": "https://localhost:8080/"
        },
        "outputId": "5032e0bf-8614-4a10-8a16-3cefaef8c029"
      },
      "source": [
        "10 % 3 # Resto da divisão"
      ],
      "execution_count": null,
      "outputs": [
        {
          "output_type": "execute_result",
          "data": {
            "text/plain": [
              "1"
            ]
          },
          "metadata": {},
          "execution_count": 212
        }
      ]
    },
    {
      "cell_type": "code",
      "source": [
        "23%2"
      ],
      "metadata": {
        "colab": {
          "base_uri": "https://localhost:8080/"
        },
        "id": "Lu-uvuDSfs5o",
        "outputId": "378e8993-3425-4e88-b54b-405a6805e9ca"
      },
      "execution_count": null,
      "outputs": [
        {
          "output_type": "execute_result",
          "data": {
            "text/plain": [
              "1"
            ]
          },
          "metadata": {},
          "execution_count": 213
        }
      ]
    },
    {
      "cell_type": "code",
      "metadata": {
        "colab": {
          "base_uri": "https://localhost:8080/"
        },
        "id": "dvM2tWYPLm-o",
        "outputId": "e8718797-ff7e-4535-e2b2-d8df105edc8b"
      },
      "source": [
        "100*(10/100)"
      ],
      "execution_count": null,
      "outputs": [
        {
          "output_type": "execute_result",
          "data": {
            "text/plain": [
              "10.0"
            ]
          },
          "metadata": {},
          "execution_count": 214
        }
      ]
    },
    {
      "cell_type": "code",
      "metadata": {
        "id": "zRC5TbANh_WU",
        "colab": {
          "base_uri": "https://localhost:8080/"
        },
        "outputId": "73eb9c47-cc8c-439c-c8a1-d9a406f88beb"
      },
      "source": [
        "5//3 # Parte inteira da divisão"
      ],
      "execution_count": null,
      "outputs": [
        {
          "output_type": "execute_result",
          "data": {
            "text/plain": [
              "1"
            ]
          },
          "metadata": {},
          "execution_count": 215
        }
      ]
    },
    {
      "cell_type": "code",
      "source": [
        "5/3"
      ],
      "metadata": {
        "colab": {
          "base_uri": "https://localhost:8080/"
        },
        "id": "KGL2x3GGgPJr",
        "outputId": "7fe2d9fe-5813-4fb9-8c63-faa3334c811b"
      },
      "execution_count": null,
      "outputs": [
        {
          "output_type": "execute_result",
          "data": {
            "text/plain": [
              "1.6666666666666667"
            ]
          },
          "metadata": {},
          "execution_count": 216
        }
      ]
    },
    {
      "cell_type": "code",
      "source": [
        "120*(0.1) # 10% de 120"
      ],
      "metadata": {
        "colab": {
          "base_uri": "https://localhost:8080/"
        },
        "id": "rqFSjFyZgaWt",
        "outputId": "c853c9ba-9604-4025-f5b5-4dd6d55e7a39"
      },
      "execution_count": null,
      "outputs": [
        {
          "output_type": "execute_result",
          "data": {
            "text/plain": [
              "12.0"
            ]
          },
          "metadata": {},
          "execution_count": 217
        }
      ]
    },
    {
      "cell_type": "code",
      "metadata": {
        "id": "rRCdBWO5frWu",
        "colab": {
          "base_uri": "https://localhost:8080/"
        },
        "outputId": "8813136a-b28d-456d-d4e8-27ba447b0bb7"
      },
      "source": [
        "(2 + 3) * (5 + 5)"
      ],
      "execution_count": null,
      "outputs": [
        {
          "output_type": "execute_result",
          "data": {
            "text/plain": [
              "50"
            ]
          },
          "metadata": {},
          "execution_count": 218
        }
      ]
    },
    {
      "cell_type": "markdown",
      "metadata": {
        "id": "bAiFFXpXlt_x"
      },
      "source": [
        "# **Expressão numérica**"
      ]
    },
    {
      "cell_type": "code",
      "metadata": {
        "id": "js2P40WaA94I"
      },
      "source": [],
      "execution_count": null,
      "outputs": []
    },
    {
      "cell_type": "markdown",
      "metadata": {
        "id": "BA691XtljSlB"
      },
      "source": [
        "$\n",
        "\\begin{align}\n",
        "&-54\\div\\{(-2+ \\sqrt{81})^2\\div7-[(-2^3+\\sqrt{4})\\div3]\\}\\\\\n",
        "&-54\\div\\{(-2+ 9)^2\\div7-[(-8+2)\\div3]\\}\\\\\n",
        "&-54\\div\\{(+7)^2\\div7-[(-6)\\div3]\\}\\\\\n",
        "&-54\\div\\{49\\div7-[-2]\\}\\\\\n",
        "&-54\\div\\{49\\div7+2\\}\\\\\n",
        "&-54\\div\\{7+2\\}\\\\\n",
        "&-54\\div9\\\\\n",
        "&-6\n",
        "\\end{align}\n",
        "$\n"
      ]
    },
    {
      "cell_type": "code",
      "source": [],
      "metadata": {
        "id": "HOMrvTNQhr_1"
      },
      "execution_count": null,
      "outputs": []
    },
    {
      "cell_type": "markdown",
      "metadata": {
        "id": "-CGZb9_oo_mu"
      },
      "source": [
        "# Mais comando do Python\n",
        "+ $\\sqrt{x}$ $\\qquad \\longrightarrow $ np.sqrt(x)\n",
        "\n",
        "np é uma simplificação da biblioteca [numpy](https://numpy.org/devdocs/user/quickstart.html)\n",
        "\n",
        "**NumPy** é o pacote fundamental para a computação científica com Python."
      ]
    },
    {
      "cell_type": "code",
      "metadata": {
        "id": "Lt_-Ghvbl2Fm"
      },
      "source": [
        "#-54/((-2+sqrt(81))**2/7-((-2**3 + sqrt(4))/3))"
      ],
      "execution_count": null,
      "outputs": []
    },
    {
      "cell_type": "code",
      "metadata": {
        "id": "Oyco8Fd8mx5E"
      },
      "source": [
        "import numpy as np\n"
      ],
      "execution_count": null,
      "outputs": []
    },
    {
      "cell_type": "code",
      "metadata": {
        "id": "PoTn2tmUNeuQ"
      },
      "source": [
        "c=-54/((-2+np.sqrt(81))**2/7-((-2**3 + np.sqrt(4))/3))"
      ],
      "execution_count": null,
      "outputs": []
    },
    {
      "cell_type": "code",
      "metadata": {
        "colab": {
          "base_uri": "https://localhost:8080/"
        },
        "id": "4AoSheSbN4IV",
        "outputId": "cdc43704-17cf-4f90-b9fb-c630b7303282"
      },
      "source": [
        "print(c)"
      ],
      "execution_count": null,
      "outputs": [
        {
          "output_type": "stream",
          "name": "stdout",
          "text": [
            "-6.0\n"
          ]
        }
      ]
    },
    {
      "cell_type": "code",
      "source": [
        "from numpy import sqrt # Importa apenas a função determinada, neste caso, sqrt."
      ],
      "metadata": {
        "id": "I3hZAkD6qTxf"
      },
      "execution_count": null,
      "outputs": []
    },
    {
      "cell_type": "code",
      "source": [
        "-54/((-2+sqrt(81))**2/7-((-2**3 + sqrt(4))/3))"
      ],
      "metadata": {
        "colab": {
          "base_uri": "https://localhost:8080/"
        },
        "id": "addMNHCjqZ-O",
        "outputId": "f7026baf-f834-4eaf-b3a3-615b608a4dbf"
      },
      "execution_count": null,
      "outputs": [
        {
          "output_type": "execute_result",
          "data": {
            "text/plain": [
              "-6.0"
            ]
          },
          "metadata": {},
          "execution_count": 224
        }
      ]
    },
    {
      "cell_type": "markdown",
      "metadata": {
        "id": "ZZXTRSHZfrWx"
      },
      "source": [
        "### Definição de variáveis e tipos de dados\n",
        "\n",
        "**Variáveis:** \n",
        "\n",
        "Uma variável é um nome que se refere a um valor. Um comando de atribuição cria uma nova variável e lhe dá um valor.\n",
        "\n",
        "Variáveis são usadas para guardarmos valores que poderão ser usados posteriormente.\n",
        "\n",
        "**Atribuição:**\n",
        "\n",
        "Um comando é uma unidade de código que o interpretador pode executar. Um comando de atribuição tem a forma:\n",
        "\n",
        "**variavel = argumento**"
      ]
    },
    {
      "cell_type": "code",
      "metadata": {
        "id": "-dsHB8T4frWx"
      },
      "source": [
        "# Não se pode iniciar uma variável com números ou carateres especais\n",
        "nome_da_variavel = 2"
      ],
      "execution_count": null,
      "outputs": []
    },
    {
      "cell_type": "code",
      "metadata": {
        "id": "69Zetvy8J1OS"
      },
      "source": [
        "idade = 39\n",
        "altura = 1.66\n",
        "peso = 80.3\n",
        "nota_aval01 =  9.5\n",
        "nota_trab02 = 8.5\n",
        "\n",
        "sexo = \"masc\"\n"
      ],
      "execution_count": null,
      "outputs": []
    },
    {
      "cell_type": "code",
      "metadata": {
        "id": "VcOZ0xbgfrW2"
      },
      "source": [
        "x = 7\n",
        "y = 3"
      ],
      "execution_count": null,
      "outputs": []
    },
    {
      "cell_type": "code",
      "metadata": {
        "id": "J5RzXbTcJ0KD"
      },
      "source": [
        "z = x + y"
      ],
      "execution_count": null,
      "outputs": []
    },
    {
      "cell_type": "code",
      "metadata": {
        "id": "kxX49jPHfrW5",
        "colab": {
          "base_uri": "https://localhost:8080/"
        },
        "outputId": "4c22dcae-07c7-43e5-fb27-15779f364ffd"
      },
      "source": [
        "z"
      ],
      "execution_count": null,
      "outputs": [
        {
          "output_type": "execute_result",
          "data": {
            "text/plain": [
              "10"
            ]
          },
          "metadata": {},
          "execution_count": 229
        }
      ]
    },
    {
      "cell_type": "code",
      "source": [
        "w = z**2\n",
        "print(w)"
      ],
      "metadata": {
        "colab": {
          "base_uri": "https://localhost:8080/"
        },
        "id": "okSP_RsouYjT",
        "outputId": "df40f7dd-16cd-4b19-d0a8-8de9c20143aa"
      },
      "execution_count": null,
      "outputs": [
        {
          "output_type": "stream",
          "name": "stdout",
          "text": [
            "100\n"
          ]
        }
      ]
    },
    {
      "cell_type": "markdown",
      "metadata": {
        "id": "eURvSHxpJy2K"
      },
      "source": [
        "# Tipos de dados\n",
        "\n",
        "+ type(nome_da_variavel)"
      ]
    },
    {
      "cell_type": "code",
      "metadata": {
        "id": "sUcDDW_6frW8",
        "colab": {
          "base_uri": "https://localhost:8080/"
        },
        "outputId": "3ee60ef1-df5a-43a9-dbbd-dc50202ca3de"
      },
      "source": [
        "type(idade)"
      ],
      "execution_count": null,
      "outputs": [
        {
          "output_type": "execute_result",
          "data": {
            "text/plain": [
              "int"
            ]
          },
          "metadata": {},
          "execution_count": 231
        }
      ]
    },
    {
      "cell_type": "code",
      "metadata": {
        "id": "od7mp2YHfrW-",
        "colab": {
          "base_uri": "https://localhost:8080/"
        },
        "outputId": "d953638d-4ca6-473f-c5da-b3dd712ec3de"
      },
      "source": [
        "type(altura)"
      ],
      "execution_count": null,
      "outputs": [
        {
          "output_type": "execute_result",
          "data": {
            "text/plain": [
              "float"
            ]
          },
          "metadata": {},
          "execution_count": 232
        }
      ]
    },
    {
      "cell_type": "code",
      "metadata": {
        "colab": {
          "base_uri": "https://localhost:8080/"
        },
        "id": "koWITa5aO6Hn",
        "outputId": "05904e25-6c90-4cbb-9a89-81bff90ecce1"
      },
      "source": [
        "type(sexo)"
      ],
      "execution_count": null,
      "outputs": [
        {
          "output_type": "execute_result",
          "data": {
            "text/plain": [
              "str"
            ]
          },
          "metadata": {},
          "execution_count": 233
        }
      ]
    },
    {
      "cell_type": "code",
      "metadata": {
        "id": "2IpEB78AfrXC",
        "colab": {
          "base_uri": "https://localhost:8080/"
        },
        "outputId": "a134c9f8-e1af-4880-f7b3-cdfc48ffd596"
      },
      "source": [
        "x = 4\n",
        "y = 10\n",
        "z  = x*y\n",
        "z"
      ],
      "execution_count": null,
      "outputs": [
        {
          "output_type": "execute_result",
          "data": {
            "text/plain": [
              "40"
            ]
          },
          "metadata": {},
          "execution_count": 234
        }
      ]
    },
    {
      "cell_type": "markdown",
      "metadata": {
        "id": "vlE22VO9frYs"
      },
      "source": [
        "### Booleanos"
      ]
    },
    {
      "cell_type": "markdown",
      "metadata": {
        "id": "nKYyVqN_YdMX"
      },
      "source": [
        "#### Valores do tipo booleano são dados do tipo primitivo da computação resumida apenas aos valores:\n",
        "\n",
        "1.   Verdadeiro(True)\n",
        "2.   Falso(False)\n",
        "\n"
      ]
    },
    {
      "cell_type": "code",
      "metadata": {
        "id": "_53kOWGpfrYs",
        "colab": {
          "base_uri": "https://localhost:8080/"
        },
        "outputId": "c5f5b00a-b0f9-4ba5-8be6-dc9248b645db"
      },
      "source": [
        "True"
      ],
      "execution_count": null,
      "outputs": [
        {
          "output_type": "execute_result",
          "data": {
            "text/plain": [
              "True"
            ]
          },
          "metadata": {},
          "execution_count": 235
        }
      ]
    },
    {
      "cell_type": "code",
      "metadata": {
        "id": "uL7saDwifrYu",
        "colab": {
          "base_uri": "https://localhost:8080/"
        },
        "outputId": "043cd0c8-c919-4416-ad56-eb78b7c4b90a"
      },
      "source": [
        "False"
      ],
      "execution_count": null,
      "outputs": [
        {
          "output_type": "execute_result",
          "data": {
            "text/plain": [
              "False"
            ]
          },
          "metadata": {},
          "execution_count": 236
        }
      ]
    },
    {
      "cell_type": "code",
      "source": [
        "b = 5>3\n",
        "b"
      ],
      "metadata": {
        "colab": {
          "base_uri": "https://localhost:8080/"
        },
        "id": "GtoAGKY0vUuT",
        "outputId": "8444926b-5531-4673-ce1c-2f6b0b710beb"
      },
      "execution_count": null,
      "outputs": [
        {
          "output_type": "execute_result",
          "data": {
            "text/plain": [
              "True"
            ]
          },
          "metadata": {},
          "execution_count": 237
        }
      ]
    },
    {
      "cell_type": "code",
      "source": [
        "c = 4<=1"
      ],
      "metadata": {
        "id": "FFpTnMdZvc34"
      },
      "execution_count": null,
      "outputs": []
    },
    {
      "cell_type": "code",
      "source": [
        "print(c)"
      ],
      "metadata": {
        "colab": {
          "base_uri": "https://localhost:8080/"
        },
        "id": "nQBjWYD-vqY_",
        "outputId": "08aef329-7039-42be-a3d9-84518163c730"
      },
      "execution_count": null,
      "outputs": [
        {
          "output_type": "stream",
          "name": "stdout",
          "text": [
            "False\n"
          ]
        }
      ]
    },
    {
      "cell_type": "markdown",
      "metadata": {
        "id": "Mkx6K_rp8-xC"
      },
      "source": [
        "## EXERCÍCIO DIÁRIO\n",
        "### Dia 1\n"
      ]
    },
    {
      "cell_type": "markdown",
      "metadata": {
        "id": "2nLbYZ3CtmEx"
      },
      "source": [
        "#### Resolva esses exercícios de fixação da matéria abordada:\n",
        "\n",
        "\n",
        "1.   Resolva a equação abaixo:\n",
        "\n",
        "$\n",
        "\\begin{align}\n",
        "S = S_0 + V_0t + \\frac{at^2}{2}\n",
        "\\end{align}\n",
        "$\n",
        "\n",
        "Sendo dados, $S_0 = 0, V_0 = 12m/s, t = 10s, S = 50m$.  Defina primeiramente os valores dados e, posteriormente, reescreva a equação em função da aceleração (\"a\"):\n",
        "\n",
        "\n",
        "\n",
        "\n",
        "\n",
        "\n",
        "\n",
        "\n",
        "\n",
        "\n",
        "\n",
        "\n"
      ]
    },
    {
      "cell_type": "code",
      "source": [
        "#Solução questão 01\n",
        "S0 = 0\n",
        "V0 = 12 #m/s\n",
        "t = 10 # segundos\n",
        "S = 50 # metros\n",
        "\n",
        "a = (2/t**2) * (S - S0 - V0 * t)\n",
        "\n",
        "print(f'A aceleração é igual a: {a:0.2f} m/s^2')"
      ],
      "metadata": {
        "colab": {
          "base_uri": "https://localhost:8080/"
        },
        "id": "lik-EiLXwwcP",
        "outputId": "c3275bc1-9f01-4ab9-e085-e3f4328a64bb"
      },
      "execution_count": null,
      "outputs": [
        {
          "output_type": "stream",
          "name": "stdout",
          "text": [
            "A aceleração é igual a: -1.40 m/s^2\n"
          ]
        }
      ]
    },
    {
      "cell_type": "markdown",
      "source": [
        "\n",
        "-----------\n",
        "\n",
        "2.   Faça um código para resolver o seguinte problema. \n",
        "\n",
        "Tenho uma parede retangular com a área (A) medida em metros quadrados, que é preciso ser pintada. A razão da quantidade de litros pela aréa da parede (Ra) é Litros/m². De acordo com a área retangular informada pelo cliente, você deverá retorná-lo com a quantidade de litros(x) necessária para a pintura da área. Diante disso, qual será a resposta para os seguintes pedidos abaixo?\n",
        "\n",
        "a) Área da parede é 50m² e a tinta tem razão de 0,5 Litros/m²:\n",
        "\n",
        "b) Área da parede é 25m² e a tinta tem razão de 2 Litros/m²:\n",
        "\n",
        "c) A parede tem altura de 2m e largura de 5m e a tinta tem a razão de 0,8 Litros/m²:\n",
        "\n",
        "--------\n",
        "\n",
        "3. Considerando a questão 2, sabendo que cada lata tem 5 litros, faça em vez da resposta em litros, quantas latas a pessoa precisará comprar.\n"
      ],
      "metadata": {
        "id": "10nJlxWUxAZy"
      }
    },
    {
      "cell_type": "code",
      "source": [
        "#Solução questão 01\n"
      ],
      "metadata": {
        "id": "xruqb_NixPrM"
      },
      "execution_count": null,
      "outputs": []
    },
    {
      "cell_type": "markdown",
      "source": [
        "---\n",
        "####Resolva a equação quadrática: \n",
        "$$a*x^2 + b*x + c = 0$$"
      ],
      "metadata": {
        "id": "ruZ277vsYDuI"
      }
    },
    {
      "cell_type": "code",
      "source": [
        "#a =int(input(\"Entre com o valor de a: \"))\n",
        "#b =int(input(\"Entre com o valor de b: \"))\n",
        "#c =int(input(\"Entre com o valor de c: \"))\n",
        "a,b,c = 1,2,-3\n",
        "D = -b - 4*a*c\n",
        "print(f\"Delta = {D}\\n\")\n",
        "x1 = (-b + sqrt(D))/(2*a)\n",
        "x2 = (-b - sqrt(D))/(2*a)\n",
        "print(f'x1 = {x1:.2f} \\nx2 = {x2:.2f}')"
      ],
      "metadata": {
        "colab": {
          "base_uri": "https://localhost:8080/"
        },
        "id": "fov6EEyX0x3x",
        "outputId": "80283c6b-8488-41aa-ba18-8bad352c1bed"
      },
      "execution_count": null,
      "outputs": [
        {
          "output_type": "stream",
          "name": "stdout",
          "text": [
            "Delta = 10\n",
            "\n",
            "x1 = 0.58 \n",
            "x2 = -2.58\n"
          ]
        }
      ]
    },
    {
      "cell_type": "markdown",
      "metadata": {
        "id": "RI7ftZfQfrXG"
      },
      "source": [
        "### Strings"
      ]
    },
    {
      "cell_type": "markdown",
      "metadata": {
        "id": "X8J8E-2VC-5t"
      },
      "source": [
        "####String é um conjunto ordenado de caracteres - palavras, frases, textos...\n",
        "\n",
        "Representamos strings com aspas simples ou duplas."
      ]
    },
    {
      "cell_type": "code",
      "metadata": {
        "id": "iMTLihkrfrXH",
        "colab": {
          "base_uri": "https://localhost:8080/",
          "height": 36
        },
        "outputId": "67e7088c-c3ea-4ccc-ed62-f6976e4e14ef"
      },
      "source": [
        "'Citação simples'"
      ],
      "execution_count": null,
      "outputs": [
        {
          "output_type": "execute_result",
          "data": {
            "text/plain": [
              "'Citação simples'"
            ],
            "application/vnd.google.colaboratory.intrinsic+json": {
              "type": "string"
            }
          },
          "metadata": {},
          "execution_count": 243
        }
      ]
    },
    {
      "cell_type": "code",
      "metadata": {
        "id": "cYO1SE5QfrXK",
        "colab": {
          "base_uri": "https://localhost:8080/",
          "height": 36
        },
        "outputId": "558f1992-9fb6-47f2-99d5-1fdf4956e7d6"
      },
      "source": [
        "\"Citações duplas\""
      ],
      "execution_count": null,
      "outputs": [
        {
          "output_type": "execute_result",
          "data": {
            "text/plain": [
              "'Citações duplas'"
            ],
            "application/vnd.google.colaboratory.intrinsic+json": {
              "type": "string"
            }
          },
          "metadata": {},
          "execution_count": 244
        }
      ]
    },
    {
      "cell_type": "markdown",
      "source": [],
      "metadata": {
        "id": "bY0STifhbjYb"
      }
    },
    {
      "cell_type": "code",
      "metadata": {
        "id": "clm8NbD1frXN",
        "colab": {
          "base_uri": "https://localhost:8080/",
          "height": 36
        },
        "outputId": "c06abeff-e736-4a7f-e85d-871ff8da7926"
      },
      "source": [
        "'s'"
      ],
      "execution_count": null,
      "outputs": [
        {
          "output_type": "execute_result",
          "data": {
            "text/plain": [
              "'s'"
            ],
            "application/vnd.google.colaboratory.intrinsic+json": {
              "type": "string"
            }
          },
          "metadata": {},
          "execution_count": 245
        }
      ]
    },
    {
      "cell_type": "markdown",
      "metadata": {
        "id": "YyMTSAAuDJPV"
      },
      "source": [
        "#####Começar com aspa simples e terminar com dupla, dá erro.\n",
        "\n",
        "#####E o inverso também.\n",
        "\n",
        "#####Para strings com várias linhas, usar três aspas simples - ou duplas.\n",
        "\n",
        "#####O \\n (que aparece ao executar) indica quebra de linha."
      ]
    },
    {
      "cell_type": "code",
      "metadata": {
        "colab": {
          "base_uri": "https://localhost:8080/",
          "height": 36
        },
        "id": "m6fyCxotDZ6m",
        "outputId": "58de6b96-2d31-44e4-f905-0a67f5b09859"
      },
      "source": [
        "'''Linha 0\n",
        "Linha 1\n",
        "comentários em \n",
        "várias \n",
        "linhas\n",
        "'''"
      ],
      "execution_count": null,
      "outputs": [
        {
          "output_type": "execute_result",
          "data": {
            "text/plain": [
              "'Linha 0\\nLinha 1\\ncomentários em \\nvárias \\nlinhas\\n'"
            ],
            "application/vnd.google.colaboratory.intrinsic+json": {
              "type": "string"
            }
          },
          "metadata": {},
          "execution_count": 246
        }
      ]
    },
    {
      "cell_type": "markdown",
      "metadata": {
        "id": "9JSd6oiFfrXT"
      },
      "source": [
        "### Printando"
      ]
    },
    {
      "cell_type": "markdown",
      "metadata": {
        "id": "nNMzcvUqHX6n"
      },
      "source": [
        "####A função print(), basicamente, é responsável por exibir mensagens na tela."
      ]
    },
    {
      "cell_type": "code",
      "metadata": {
        "id": "aQ01x5gQfrXU"
      },
      "source": [
        "x = 'ola'"
      ],
      "execution_count": null,
      "outputs": []
    },
    {
      "cell_type": "code",
      "metadata": {
        "id": "q30jffE0frXX",
        "colab": {
          "base_uri": "https://localhost:8080/",
          "height": 36
        },
        "outputId": "d831effd-b4f7-4b74-cc8f-91df83ca8420"
      },
      "source": [
        "x"
      ],
      "execution_count": null,
      "outputs": [
        {
          "output_type": "execute_result",
          "data": {
            "text/plain": [
              "'ola'"
            ],
            "application/vnd.google.colaboratory.intrinsic+json": {
              "type": "string"
            }
          },
          "metadata": {},
          "execution_count": 248
        }
      ]
    },
    {
      "cell_type": "code",
      "metadata": {
        "id": "--eOkp1LfrXa",
        "colab": {
          "base_uri": "https://localhost:8080/"
        },
        "outputId": "1fbe8178-67bb-4cf8-fca0-09d8f2cfc549"
      },
      "source": [
        "type(x)"
      ],
      "execution_count": null,
      "outputs": [
        {
          "output_type": "execute_result",
          "data": {
            "text/plain": [
              "str"
            ]
          },
          "metadata": {},
          "execution_count": 249
        }
      ]
    },
    {
      "cell_type": "code",
      "metadata": {
        "id": "KJiyaHSBfrXc",
        "colab": {
          "base_uri": "https://localhost:8080/"
        },
        "outputId": "02fb97e7-e294-4548-b4ca-969e5fbbc3de"
      },
      "source": [
        "print(x)"
      ],
      "execution_count": null,
      "outputs": [
        {
          "output_type": "stream",
          "name": "stdout",
          "text": [
            "ola\n"
          ]
        }
      ]
    },
    {
      "cell_type": "code",
      "metadata": {
        "id": "vBNGeAMBfrXf"
      },
      "source": [
        "num = 12\n",
        "nome = 'Sam'"
      ],
      "execution_count": null,
      "outputs": []
    },
    {
      "cell_type": "code",
      "metadata": {
        "id": "hIeBj1qGfrXh",
        "colab": {
          "base_uri": "https://localhost:8080/"
        },
        "outputId": "05403843-09a2-46ba-94fb-19bf9f77e434"
      },
      "source": [
        "print('Meu número é: {one}, e meu nome é: {two}'.format(one=num,two=nome))"
      ],
      "execution_count": null,
      "outputs": [
        {
          "output_type": "stream",
          "name": "stdout",
          "text": [
            "Meu número é: 12, e meu nome é: Sam\n"
          ]
        }
      ]
    },
    {
      "cell_type": "code",
      "source": [
        "print(f\"Meu número é: {num}, e meu nome é: {nome}\")"
      ],
      "metadata": {
        "id": "XomgCAKxfznj",
        "colab": {
          "base_uri": "https://localhost:8080/"
        },
        "outputId": "9017e186-9b5c-4ec7-a88c-6d851d0fa5bc"
      },
      "execution_count": null,
      "outputs": [
        {
          "output_type": "stream",
          "name": "stdout",
          "text": [
            "Meu número é: 12, e meu nome é: Sam\n"
          ]
        }
      ]
    },
    {
      "cell_type": "markdown",
      "metadata": {
        "id": "BUJES3IRQCjd"
      },
      "source": [
        "Exercício: Pesquise outras formas de formatar a saída do print:"
      ]
    },
    {
      "cell_type": "code",
      "metadata": {
        "id": "SeydTmzKQCLG"
      },
      "source": [],
      "execution_count": null,
      "outputs": []
    },
    {
      "cell_type": "markdown",
      "metadata": {
        "id": "PxhFbeIBfrXk"
      },
      "source": [
        "### Listas\n",
        "\n",
        "Listas são mutáveis. Diferentemente de strings, listas são mutáveis (mutable). Isto significa que podemos alterar um item em uma lista acessando-o diretamente como parte do comando de atribuição. Usando o operador e indexação (colchetes) à esquerda de um comando de atribuição, podemos atualizar um dos itens de uma lista."
      ]
    },
    {
      "cell_type": "code",
      "metadata": {
        "id": "jjmScSJrfrXl",
        "colab": {
          "base_uri": "https://localhost:8080/"
        },
        "outputId": "61e92e32-85be-487f-97de-34d885090e59"
      },
      "source": [
        "[1,2,3]"
      ],
      "execution_count": null,
      "outputs": [
        {
          "output_type": "execute_result",
          "data": {
            "text/plain": [
              "[1, 2, 3]"
            ]
          },
          "metadata": {},
          "execution_count": 254
        }
      ]
    },
    {
      "cell_type": "code",
      "source": [
        "l = ['nome','endereco', 234,[4,5,6],30.5]\n",
        "print(l)"
      ],
      "metadata": {
        "colab": {
          "base_uri": "https://localhost:8080/"
        },
        "id": "RkSb9ONghHJN",
        "outputId": "a34a4ee5-bf76-429c-8650-1af8f083cee4"
      },
      "execution_count": null,
      "outputs": [
        {
          "output_type": "stream",
          "name": "stdout",
          "text": [
            "['nome', 'endereco', 234, [4, 5, 6], 30.5]\n"
          ]
        }
      ]
    },
    {
      "cell_type": "markdown",
      "metadata": {
        "id": "kKk7_IXFHxwq"
      },
      "source": [
        "####É possível acrescentar listas como elementos dentro de outras listas."
      ]
    },
    {
      "cell_type": "code",
      "metadata": {
        "id": "Atf59K_yfrXo",
        "colab": {
          "base_uri": "https://localhost:8080/"
        },
        "outputId": "d901b735-55b4-47b4-fc71-ed9efd799416"
      },
      "source": [
        "['hi',1,[1,2]]"
      ],
      "execution_count": null,
      "outputs": [
        {
          "output_type": "execute_result",
          "data": {
            "text/plain": [
              "['hi', 1, [1, 2]]"
            ]
          },
          "metadata": {},
          "execution_count": 256
        }
      ]
    },
    {
      "cell_type": "markdown",
      "metadata": {
        "id": "uLMoquq_H5jt"
      },
      "source": [
        "####Adicionando elementos na lista"
      ]
    },
    {
      "cell_type": "code",
      "source": [
        "a = 'Josecley'"
      ],
      "metadata": {
        "id": "xGjtUrkUkvWo"
      },
      "execution_count": null,
      "outputs": []
    },
    {
      "cell_type": "code",
      "metadata": {
        "id": "9wAdl5WkfrXr",
        "colab": {
          "base_uri": "https://localhost:8080/"
        },
        "outputId": "c97e8c02-350e-446e-d66a-6629e4c0eefb"
      },
      "source": [
        "minha_lista = [a,'b','c'] # o elemento a (variável a)\n",
        "print(minha_lista)"
      ],
      "execution_count": null,
      "outputs": [
        {
          "output_type": "stream",
          "name": "stdout",
          "text": [
            "['Josecley', 'b', 'c']\n"
          ]
        }
      ]
    },
    {
      "cell_type": "code",
      "source": [
        "minha_lista = ['a','b','c'] # o elemento a (string a)\n",
        "print(minha_lista)"
      ],
      "metadata": {
        "colab": {
          "base_uri": "https://localhost:8080/"
        },
        "id": "9JkK7dxYlVwm",
        "outputId": "a38c4b65-7c36-4643-a88f-dfe0c50b7a3d"
      },
      "execution_count": null,
      "outputs": [
        {
          "output_type": "stream",
          "name": "stdout",
          "text": [
            "['a', 'b', 'c']\n"
          ]
        }
      ]
    },
    {
      "cell_type": "code",
      "metadata": {
        "id": "P5xNcQkyfrXt"
      },
      "source": [
        "minha_lista.append('d')#adciona elemento no final da lista: append"
      ],
      "execution_count": null,
      "outputs": []
    },
    {
      "cell_type": "code",
      "metadata": {
        "id": "THsb3IfWfrXv",
        "colab": {
          "base_uri": "https://localhost:8080/"
        },
        "outputId": "9c49ba39-d683-4a7e-80f5-532a8007b8d3"
      },
      "source": [
        "minha_lista"
      ],
      "execution_count": null,
      "outputs": [
        {
          "output_type": "execute_result",
          "data": {
            "text/plain": [
              "['a', 'b', 'c', 'd']"
            ]
          },
          "metadata": {},
          "execution_count": 261
        }
      ]
    },
    {
      "cell_type": "code",
      "metadata": {
        "id": "xuNfl9OrfrXy",
        "colab": {
          "base_uri": "https://localhost:8080/"
        },
        "outputId": "c5b99d87-24d1-40b2-c96f-b720fcf5601f"
      },
      "source": [
        "minha_lista.append(100)\n",
        "minha_lista\n"
      ],
      "execution_count": null,
      "outputs": [
        {
          "output_type": "execute_result",
          "data": {
            "text/plain": [
              "['a', 'b', 'c', 'd', 100]"
            ]
          },
          "metadata": {},
          "execution_count": 262
        }
      ]
    },
    {
      "cell_type": "markdown",
      "metadata": {
        "id": "y2_QC_k6IBik"
      },
      "source": [
        "####Procurando elementos da lista de acordo com a sua posição. Vale ressaltar que o primeiro elemento de uma lista sempre é classificado como elemento 0."
      ]
    },
    {
      "cell_type": "code",
      "metadata": {
        "id": "nXeocWaZfrX4",
        "colab": {
          "base_uri": "https://localhost:8080/",
          "height": 36
        },
        "outputId": "67bdd7c0-5be0-41db-e0df-4595937e2614"
      },
      "source": [
        "minha_lista[0]"
      ],
      "execution_count": null,
      "outputs": [
        {
          "output_type": "execute_result",
          "data": {
            "text/plain": [
              "'a'"
            ],
            "application/vnd.google.colaboratory.intrinsic+json": {
              "type": "string"
            }
          },
          "metadata": {},
          "execution_count": 263
        }
      ]
    },
    {
      "cell_type": "code",
      "metadata": {
        "id": "9XFo066afrX8",
        "colab": {
          "base_uri": "https://localhost:8080/",
          "height": 36
        },
        "outputId": "80caf6b0-08c6-4a06-c1ee-3f6cd09c4d1b"
      },
      "source": [
        "minha_lista[1]"
      ],
      "execution_count": null,
      "outputs": [
        {
          "output_type": "execute_result",
          "data": {
            "text/plain": [
              "'b'"
            ],
            "application/vnd.google.colaboratory.intrinsic+json": {
              "type": "string"
            }
          },
          "metadata": {},
          "execution_count": 264
        }
      ]
    },
    {
      "cell_type": "code",
      "source": [
        "print(minha_lista[-1]) # pega o último elemento da lista\n",
        "print(minha_lista[4])"
      ],
      "metadata": {
        "colab": {
          "base_uri": "https://localhost:8080/"
        },
        "id": "YHcL9L_anGO0",
        "outputId": "206588ac-351c-4936-d9fb-171facc8b2fe"
      },
      "execution_count": null,
      "outputs": [
        {
          "output_type": "stream",
          "name": "stdout",
          "text": [
            "100\n",
            "100\n"
          ]
        }
      ]
    },
    {
      "cell_type": "code",
      "source": [],
      "metadata": {
        "id": "on4wErL-nlP_"
      },
      "execution_count": null,
      "outputs": []
    },
    {
      "cell_type": "markdown",
      "metadata": {
        "id": "FGhq20LCIXA_"
      },
      "source": [
        "####Escolhendo elementos da lista dentro de determinados intervalos"
      ]
    },
    {
      "cell_type": "code",
      "source": [
        "minha_lista"
      ],
      "metadata": {
        "colab": {
          "base_uri": "https://localhost:8080/"
        },
        "id": "KU100BHuppqU",
        "outputId": "878237b6-4693-4b3b-d182-b213200b270d"
      },
      "execution_count": null,
      "outputs": [
        {
          "output_type": "execute_result",
          "data": {
            "text/plain": [
              "['a', 'b', 'c', 'd', 100]"
            ]
          },
          "metadata": {},
          "execution_count": 266
        }
      ]
    },
    {
      "cell_type": "code",
      "metadata": {
        "id": "uw_YLRetfrX_",
        "colab": {
          "base_uri": "https://localhost:8080/"
        },
        "outputId": "2ceba5f9-7747-4014-d60b-dc8a6033a1ad"
      },
      "source": [
        "minha_lista[1:] # mostra os elementos da lista incluindo o indice 1"
      ],
      "execution_count": null,
      "outputs": [
        {
          "output_type": "execute_result",
          "data": {
            "text/plain": [
              "['b', 'c', 'd', 100]"
            ]
          },
          "metadata": {},
          "execution_count": 267
        }
      ]
    },
    {
      "cell_type": "code",
      "metadata": {
        "id": "gOzLxLD8frYB",
        "colab": {
          "base_uri": "https://localhost:8080/"
        },
        "outputId": "a0741ed3-f818-4c92-d4d4-3dab42c6871f"
      },
      "source": [
        "minha_lista[:3]"
      ],
      "execution_count": null,
      "outputs": [
        {
          "output_type": "execute_result",
          "data": {
            "text/plain": [
              "['a', 'b', 'c']"
            ]
          },
          "metadata": {},
          "execution_count": 268
        }
      ]
    },
    {
      "cell_type": "code",
      "metadata": {
        "colab": {
          "base_uri": "https://localhost:8080/"
        },
        "id": "OufGkwvCR4nX",
        "outputId": "127d9de0-343a-4d49-bb37-de399063652c"
      },
      "source": [
        "minha_lista[1:4] # [1,4) em relação aos índices"
      ],
      "execution_count": null,
      "outputs": [
        {
          "output_type": "execute_result",
          "data": {
            "text/plain": [
              "['b', 'c', 'd']"
            ]
          },
          "metadata": {},
          "execution_count": 269
        }
      ]
    },
    {
      "cell_type": "code",
      "source": [
        "minha_lista"
      ],
      "metadata": {
        "colab": {
          "base_uri": "https://localhost:8080/"
        },
        "id": "6ExC2szQqzKd",
        "outputId": "3f1ae562-51df-401d-9460-7996f905798f"
      },
      "execution_count": null,
      "outputs": [
        {
          "output_type": "execute_result",
          "data": {
            "text/plain": [
              "['a', 'b', 'c', 'd', 100]"
            ]
          },
          "metadata": {},
          "execution_count": 270
        }
      ]
    },
    {
      "cell_type": "code",
      "metadata": {
        "id": "lTg13Wt0frYF"
      },
      "source": [
        "minha_lista[0] = 'NOVO'"
      ],
      "execution_count": null,
      "outputs": []
    },
    {
      "cell_type": "code",
      "metadata": {
        "id": "JBldW0BSfrYJ",
        "colab": {
          "base_uri": "https://localhost:8080/"
        },
        "outputId": "5537b6b4-4a2f-4e90-df63-a7ea78caa9c9"
      },
      "source": [
        "minha_lista"
      ],
      "execution_count": null,
      "outputs": [
        {
          "output_type": "execute_result",
          "data": {
            "text/plain": [
              "['NOVO', 'b', 'c', 'd', 100]"
            ]
          },
          "metadata": {},
          "execution_count": 272
        }
      ]
    },
    {
      "cell_type": "code",
      "source": [
        "minha_lista[3] = '123'\n",
        "minha_lista"
      ],
      "metadata": {
        "colab": {
          "base_uri": "https://localhost:8080/"
        },
        "id": "jBzU-CPjrA-r",
        "outputId": "5e51e8e4-d092-4dbe-b594-08399cdf6365"
      },
      "execution_count": null,
      "outputs": [
        {
          "output_type": "execute_result",
          "data": {
            "text/plain": [
              "['NOVO', 'b', 'c', '123', 100]"
            ]
          },
          "metadata": {},
          "execution_count": 273
        }
      ]
    },
    {
      "cell_type": "code",
      "source": [
        "minha_lista[2] = 123\n",
        "minha_lista"
      ],
      "metadata": {
        "colab": {
          "base_uri": "https://localhost:8080/"
        },
        "id": "DXbQIi6crODz",
        "outputId": "c2df1062-8989-41b4-b005-9188364f1462"
      },
      "execution_count": null,
      "outputs": [
        {
          "output_type": "execute_result",
          "data": {
            "text/plain": [
              "['NOVO', 'b', 123, '123', 100]"
            ]
          },
          "metadata": {},
          "execution_count": 274
        }
      ]
    },
    {
      "cell_type": "code",
      "source": [
        "type(minha_lista[2])"
      ],
      "metadata": {
        "colab": {
          "base_uri": "https://localhost:8080/"
        },
        "id": "OgMLy-MIrWPD",
        "outputId": "74409895-d49b-48c3-e4d6-1b317129e613"
      },
      "execution_count": null,
      "outputs": [
        {
          "output_type": "execute_result",
          "data": {
            "text/plain": [
              "int"
            ]
          },
          "metadata": {},
          "execution_count": 275
        }
      ]
    },
    {
      "cell_type": "code",
      "source": [
        "type(minha_lista[3])"
      ],
      "metadata": {
        "colab": {
          "base_uri": "https://localhost:8080/"
        },
        "id": "EBa-iYfnrenK",
        "outputId": "ae1a8a30-9bbb-4da8-e6b6-34b2d268078b"
      },
      "execution_count": null,
      "outputs": [
        {
          "output_type": "execute_result",
          "data": {
            "text/plain": [
              "str"
            ]
          },
          "metadata": {},
          "execution_count": 276
        }
      ]
    },
    {
      "cell_type": "code",
      "metadata": {
        "id": "dTq4bVVIfrYN"
      },
      "source": [
        "nest = [1,2,3,[4,5,['target']]]   "
      ],
      "execution_count": null,
      "outputs": []
    },
    {
      "cell_type": "code",
      "metadata": {
        "id": "iMO72LrRfrYP",
        "colab": {
          "base_uri": "https://localhost:8080/"
        },
        "outputId": "e067e571-0a5d-4572-d50b-d900d4ff4964"
      },
      "source": [
        "nest[3]"
      ],
      "execution_count": null,
      "outputs": [
        {
          "output_type": "execute_result",
          "data": {
            "text/plain": [
              "[4, 5, ['target']]"
            ]
          },
          "metadata": {},
          "execution_count": 278
        }
      ]
    },
    {
      "cell_type": "code",
      "metadata": {
        "id": "BvzrEvRxfrYR",
        "colab": {
          "base_uri": "https://localhost:8080/"
        },
        "outputId": "b5c7ff71-2351-459b-e605-5945edb33a4e"
      },
      "source": [
        "nest[3][2]"
      ],
      "execution_count": null,
      "outputs": [
        {
          "output_type": "execute_result",
          "data": {
            "text/plain": [
              "['target']"
            ]
          },
          "metadata": {},
          "execution_count": 279
        }
      ]
    },
    {
      "cell_type": "code",
      "metadata": {
        "id": "IwOtRU3ZfrYU",
        "colab": {
          "base_uri": "https://localhost:8080/",
          "height": 36
        },
        "outputId": "acd915dd-de2c-4d25-e0bb-6bf55c5448ae"
      },
      "source": [
        "nest[3][2][0]"
      ],
      "execution_count": null,
      "outputs": [
        {
          "output_type": "execute_result",
          "data": {
            "text/plain": [
              "'target'"
            ],
            "application/vnd.google.colaboratory.intrinsic+json": {
              "type": "string"
            }
          },
          "metadata": {},
          "execution_count": 280
        }
      ]
    },
    {
      "cell_type": "code",
      "metadata": {
        "id": "PduJwUA2TEQv"
      },
      "source": [
        "nest1 = [1,2,3,[4,5,['target',8]]]"
      ],
      "execution_count": null,
      "outputs": []
    },
    {
      "cell_type": "code",
      "metadata": {
        "colab": {
          "base_uri": "https://localhost:8080/"
        },
        "id": "3nGBOSQoTJEO",
        "outputId": "19536fa7-3cb0-4d99-ea3a-453e6df180a7"
      },
      "source": [
        "print(nest1)"
      ],
      "execution_count": null,
      "outputs": [
        {
          "output_type": "stream",
          "name": "stdout",
          "text": [
            "[1, 2, 3, [4, 5, ['target', 8]]]\n"
          ]
        }
      ]
    },
    {
      "cell_type": "code",
      "metadata": {
        "colab": {
          "base_uri": "https://localhost:8080/"
        },
        "id": "zzCH1Mx3TMvB",
        "outputId": "28917973-72c8-41d9-9f5a-fc195c9514bc"
      },
      "source": [
        "nest1[3][2][1]"
      ],
      "execution_count": null,
      "outputs": [
        {
          "output_type": "execute_result",
          "data": {
            "text/plain": [
              "8"
            ]
          },
          "metadata": {},
          "execution_count": 283
        }
      ]
    },
    {
      "cell_type": "code",
      "metadata": {
        "id": "dD7oZFDJfrYW"
      },
      "source": [
        "nomes = ['{<python>}','{c++}','{java}','{<fortran>}']"
      ],
      "execution_count": null,
      "outputs": []
    },
    {
      "cell_type": "code",
      "metadata": {
        "id": "OScHmqZRfrYb",
        "colab": {
          "base_uri": "https://localhost:8080/",
          "height": 36
        },
        "outputId": "153b6373-0bcc-4ea7-aa18-17807f605e55"
      },
      "source": [
        "nomes[1]"
      ],
      "execution_count": null,
      "outputs": [
        {
          "output_type": "execute_result",
          "data": {
            "text/plain": [
              "'{c++}'"
            ],
            "application/vnd.google.colaboratory.intrinsic+json": {
              "type": "string"
            }
          },
          "metadata": {},
          "execution_count": 285
        }
      ]
    },
    {
      "cell_type": "code",
      "metadata": {
        "id": "t9xLp-oQfrYd",
        "colab": {
          "base_uri": "https://localhost:8080/",
          "height": 36
        },
        "outputId": "985f5922-68fb-4abe-f3ee-674acb617a0a"
      },
      "source": [
        "nomes[-1]"
      ],
      "execution_count": null,
      "outputs": [
        {
          "output_type": "execute_result",
          "data": {
            "text/plain": [
              "'{<fortran>}'"
            ],
            "application/vnd.google.colaboratory.intrinsic+json": {
              "type": "string"
            }
          },
          "metadata": {},
          "execution_count": 286
        }
      ]
    },
    {
      "cell_type": "code",
      "metadata": {
        "colab": {
          "base_uri": "https://localhost:8080/",
          "height": 36
        },
        "id": "T6SzCxBsT5nq",
        "outputId": "33afd94b-27f9-4369-8562-9e9978f3b8ef"
      },
      "source": [
        "nomes[-3]"
      ],
      "execution_count": null,
      "outputs": [
        {
          "output_type": "execute_result",
          "data": {
            "text/plain": [
              "'{c++}'"
            ],
            "application/vnd.google.colaboratory.intrinsic+json": {
              "type": "string"
            }
          },
          "metadata": {},
          "execution_count": 287
        }
      ]
    },
    {
      "cell_type": "code",
      "source": [
        "l1 = [5,6,7]\n",
        "l2 = [3,4,'c',l1]\n",
        "l3 = [1,2,l2]\n",
        "l3"
      ],
      "metadata": {
        "colab": {
          "base_uri": "https://localhost:8080/"
        },
        "id": "p_cn1dxAXah2",
        "outputId": "2fd94a2f-4436-4380-9859-1a0e7f2486ce"
      },
      "execution_count": null,
      "outputs": [
        {
          "output_type": "execute_result",
          "data": {
            "text/plain": [
              "[1, 2, [3, 4, 'c', [5, 6, 7]]]"
            ]
          },
          "metadata": {},
          "execution_count": 288
        }
      ]
    },
    {
      "cell_type": "code",
      "source": [
        "l3[1]"
      ],
      "metadata": {
        "colab": {
          "base_uri": "https://localhost:8080/"
        },
        "id": "gjly3ApKXquT",
        "outputId": "7901e1a1-1f6f-45db-fe80-6ed0dd5d5938"
      },
      "execution_count": null,
      "outputs": [
        {
          "output_type": "execute_result",
          "data": {
            "text/plain": [
              "2"
            ]
          },
          "metadata": {},
          "execution_count": 289
        }
      ]
    },
    {
      "cell_type": "code",
      "source": [
        "l3[2]"
      ],
      "metadata": {
        "colab": {
          "base_uri": "https://localhost:8080/"
        },
        "id": "WMf9cvAeXu09",
        "outputId": "57fb7b26-c0bd-4701-864a-08b9fb73d753"
      },
      "execution_count": null,
      "outputs": [
        {
          "output_type": "execute_result",
          "data": {
            "text/plain": [
              "[3, 4, 'c', [5, 6, 7]]"
            ]
          },
          "metadata": {},
          "execution_count": 290
        }
      ]
    },
    {
      "cell_type": "code",
      "source": [
        "l3[2][2]"
      ],
      "metadata": {
        "colab": {
          "base_uri": "https://localhost:8080/",
          "height": 36
        },
        "id": "9r_XEI4DXxX5",
        "outputId": "d4ca3307-4fe0-4771-b57b-cec5cdcbe7b4"
      },
      "execution_count": null,
      "outputs": [
        {
          "output_type": "execute_result",
          "data": {
            "text/plain": [
              "'c'"
            ],
            "application/vnd.google.colaboratory.intrinsic+json": {
              "type": "string"
            }
          },
          "metadata": {},
          "execution_count": 291
        }
      ]
    },
    {
      "cell_type": "code",
      "source": [
        "l3[2][3]"
      ],
      "metadata": {
        "colab": {
          "base_uri": "https://localhost:8080/"
        },
        "id": "8ZvIpUZ4X2zJ",
        "outputId": "623c22fd-24ef-4957-eb11-78f91d569b33"
      },
      "execution_count": null,
      "outputs": [
        {
          "output_type": "execute_result",
          "data": {
            "text/plain": [
              "[5, 6, 7]"
            ]
          },
          "metadata": {},
          "execution_count": 292
        }
      ]
    },
    {
      "cell_type": "code",
      "source": [
        "l3[2][3][1]"
      ],
      "metadata": {
        "colab": {
          "base_uri": "https://localhost:8080/"
        },
        "id": "fz3G8hN3X5h4",
        "outputId": "48756bf9-38e1-4649-a326-d63c8a558701"
      },
      "execution_count": null,
      "outputs": [
        {
          "output_type": "execute_result",
          "data": {
            "text/plain": [
              "6"
            ]
          },
          "metadata": {},
          "execution_count": 293
        }
      ]
    },
    {
      "cell_type": "markdown",
      "metadata": {
        "id": "mgr1-E1-frYh"
      },
      "source": [
        "### Dicionários"
      ]
    },
    {
      "cell_type": "markdown",
      "metadata": {
        "id": "bZ-_7Tb3Z_c2"
      },
      "source": [
        "#### Dicionários são usados quando precisamos de uma maneira especial para identificar uma séries de dados em uma variável. Nele podemos definir o nome do indice de cada elemento."
      ]
    },
    {
      "cell_type": "code",
      "metadata": {
        "id": "yZmG_p_AfrYh"
      },
      "source": [
        "d = {'chave1':'item1','chave2':'item2'}"
      ],
      "execution_count": null,
      "outputs": []
    },
    {
      "cell_type": "code",
      "metadata": {
        "id": "hWBXm7EDfrYk",
        "colab": {
          "base_uri": "https://localhost:8080/"
        },
        "outputId": "874df685-17be-4cf8-c968-f7f8ced5b533"
      },
      "source": [
        "d"
      ],
      "execution_count": null,
      "outputs": [
        {
          "output_type": "execute_result",
          "data": {
            "text/plain": [
              "{'chave1': 'item1', 'chave2': 'item2'}"
            ]
          },
          "metadata": {},
          "execution_count": 295
        }
      ]
    },
    {
      "cell_type": "code",
      "metadata": {
        "id": "bfnL0l66frYp",
        "colab": {
          "base_uri": "https://localhost:8080/",
          "height": 36
        },
        "outputId": "e089984c-942c-4a5f-d288-bb0217110664"
      },
      "source": [
        "d['chave1']"
      ],
      "execution_count": null,
      "outputs": [
        {
          "output_type": "execute_result",
          "data": {
            "text/plain": [
              "'item1'"
            ],
            "application/vnd.google.colaboratory.intrinsic+json": {
              "type": "string"
            }
          },
          "metadata": {},
          "execution_count": 296
        }
      ]
    },
    {
      "cell_type": "code",
      "metadata": {
        "id": "1-pxXBUlV8qG",
        "colab": {
          "base_uri": "https://localhost:8080/"
        },
        "outputId": "a093e809-156b-4239-df88-f5531a5334aa"
      },
      "source": [
        "type(d)"
      ],
      "execution_count": null,
      "outputs": [
        {
          "output_type": "execute_result",
          "data": {
            "text/plain": [
              "dict"
            ]
          },
          "metadata": {},
          "execution_count": 297
        }
      ]
    },
    {
      "cell_type": "code",
      "metadata": {
        "id": "gYjfJrICZFNP"
      },
      "source": [],
      "execution_count": null,
      "outputs": []
    },
    {
      "cell_type": "markdown",
      "metadata": {
        "id": "ad7LV-6MfrYw"
      },
      "source": [
        "### Tuplas"
      ]
    },
    {
      "cell_type": "markdown",
      "metadata": {
        "id": "DYvMnXMKKBqT"
      },
      "source": [
        "####Diferentemente das Listas, as Tuplas são imutáveis, ou seja, não é possível retirar ou acrescentar elementos nessas sequências."
      ]
    },
    {
      "cell_type": "code",
      "metadata": {
        "id": "RVekDwlkfrYw"
      },
      "source": [
        "t = (1,2,3)"
      ],
      "execution_count": null,
      "outputs": []
    },
    {
      "cell_type": "code",
      "metadata": {
        "scrolled": true,
        "id": "iyOam89rfrYy",
        "colab": {
          "base_uri": "https://localhost:8080/"
        },
        "outputId": "3878b8c7-e81f-4781-9e8e-1d7c1acc5942"
      },
      "source": [
        "t[0]"
      ],
      "execution_count": null,
      "outputs": [
        {
          "output_type": "execute_result",
          "data": {
            "text/plain": [
              "1"
            ]
          },
          "metadata": {},
          "execution_count": 299
        }
      ]
    },
    {
      "cell_type": "code",
      "metadata": {
        "id": "hsi7e2KhfrY1"
      },
      "source": [
        "#t[0] = \"NEW\""
      ],
      "execution_count": null,
      "outputs": []
    },
    {
      "cell_type": "markdown",
      "metadata": {
        "id": "edqR5BKOnN1C"
      },
      "source": [
        "###EXERCÍCIO DIÁRIO\n",
        "###Dia 2\n",
        "\n",
        "1. Crie um print que mostre os dados de uma pessoa da seguinte forma:\n",
        "```\n",
        " *********************** Identidade ***************************\n",
        " Nome: Julio Nogueira\n",
        " Numero de Telefone: 123123123123\n",
        " RG: 123123\n",
        " Dinheiro em conta: R$723.00\n",
        " 3 primeiros numero cartão de credito: 123\n",
        " **************************************************************\n",
        "```\n",
        "\n"
      ]
    },
    {
      "cell_type": "markdown",
      "metadata": {
        "id": "jA-mALRKfrY5"
      },
      "source": [
        "### Sets"
      ]
    },
    {
      "cell_type": "markdown",
      "metadata": {
        "id": "zQ1hDDtDLJ3t"
      },
      "source": [
        "####Os sets são uma coleção de itens desordenada, parcialmente imutável e que não podem conter elementos duplicados. Por ser parcialmente imutável, os sets possuem permissão de adição e remoção de elementos.\n",
        "\n",
        "####Além disso, os sets são utilizados, normalmente, com operações matemáticas de união, interseção e diferença simétrica."
      ]
    },
    {
      "cell_type": "code",
      "metadata": {
        "id": "zRMrhT7ZfrY5",
        "colab": {
          "base_uri": "https://localhost:8080/"
        },
        "outputId": "444420be-f778-4e64-c0f0-2df0f074b032"
      },
      "source": [
        "{1,2,3}"
      ],
      "execution_count": null,
      "outputs": [
        {
          "output_type": "execute_result",
          "data": {
            "text/plain": [
              "{1, 2, 3}"
            ]
          },
          "metadata": {},
          "execution_count": 301
        }
      ]
    },
    {
      "cell_type": "code",
      "metadata": {
        "id": "1WooZkP4frY7",
        "colab": {
          "base_uri": "https://localhost:8080/"
        },
        "outputId": "c9ef8b65-ce01-4402-94a3-1981a192aa43"
      },
      "source": [
        "{1,2,3,1,2,1,2,3,3,3,3,2,2,2,1,1,2}"
      ],
      "execution_count": null,
      "outputs": [
        {
          "output_type": "execute_result",
          "data": {
            "text/plain": [
              "{1, 2, 3}"
            ]
          },
          "metadata": {},
          "execution_count": 302
        }
      ]
    },
    {
      "cell_type": "code",
      "metadata": {
        "colab": {
          "base_uri": "https://localhost:8080/"
        },
        "id": "4keJs3r-LW0P",
        "outputId": "0ac0d755-2c9d-437d-c0cb-0b905f04d217"
      },
      "source": [
        "y = set(\"exemplo\")\n",
        "print (y)"
      ],
      "execution_count": null,
      "outputs": [
        {
          "output_type": "stream",
          "name": "stdout",
          "text": [
            "{'x', 'e', 'p', 'o', 'l', 'm'}\n"
          ]
        }
      ]
    },
    {
      "cell_type": "code",
      "metadata": {
        "colab": {
          "base_uri": "https://localhost:8080/"
        },
        "id": "NJ8IY1qPL8Wb",
        "outputId": "7ea0760e-c847-483d-c34b-7fa9ed8653bd"
      },
      "source": [
        "y.add(3) #Adicionando o elemento 3 ao set\n",
        "print(y)"
      ],
      "execution_count": null,
      "outputs": [
        {
          "output_type": "stream",
          "name": "stdout",
          "text": [
            "{'x', 3, 'e', 'p', 'o', 'l', 'm'}\n"
          ]
        }
      ]
    },
    {
      "cell_type": "code",
      "metadata": {
        "colab": {
          "base_uri": "https://localhost:8080/"
        },
        "id": "_dCoZ0a9OWrV",
        "outputId": "ca86a678-b018-4e37-8bc8-60be3ea0f4d1"
      },
      "source": [
        "y.remove('x') #Retirando o elemento 'x' do set\n",
        "print(y)"
      ],
      "execution_count": null,
      "outputs": [
        {
          "output_type": "stream",
          "name": "stdout",
          "text": [
            "{3, 'e', 'p', 'o', 'l', 'm'}\n"
          ]
        }
      ]
    },
    {
      "cell_type": "markdown",
      "metadata": {
        "id": "E5hQiLFyfrY-"
      },
      "source": [
        "## Operadores de comparação"
      ]
    },
    {
      "cell_type": "markdown",
      "metadata": {
        "id": "cNf7whZRa9Ll"
      },
      "source": [
        "#### Operadores de comparação são responsáveis pela comparação dos valores a partir de um critério estabelecido respondendo apenas com valores booleanos, ou seja, True ou False."
      ]
    },
    {
      "cell_type": "markdown",
      "source": [
        "A tabela abaixo resume o funcionamento dos operadores de comparação em Python. Nela assumimos que estamos fazendo <font color = red>a operador b</font>, ou seja, que estamos aplicando um operador a dois operandos, a e b.\n",
        "\n",
        "Operador |\tDescrição |\tExemplo\n",
        "--------|:----------|:---------\n",
        "== |True se a e b são iguais|5 == 2 resulta em False\n",
        "!= |True se a e b são diferentes|5 != 2 resulta em True\n",
        "> |True se a é maior que b|5 > 2 resulta em True\n",
        "<|True se a é menor que b| 5 < 2 resulta em False\n",
        ">=| True se a é maior ou igual a b|5 >= 2 resulta em True\n",
        "<=|True se a é menor ou igual a b|5 <= 2 resulta em False\n"
      ],
      "metadata": {
        "id": "jaOtOu-Ic1By"
      }
    },
    {
      "cell_type": "code",
      "metadata": {
        "id": "EiWPYjeMfrY-",
        "colab": {
          "base_uri": "https://localhost:8080/"
        },
        "outputId": "0ea3cb64-6467-4a5b-a8b8-5f28926d1d7c"
      },
      "source": [
        "1 > 2"
      ],
      "execution_count": null,
      "outputs": [
        {
          "output_type": "execute_result",
          "data": {
            "text/plain": [
              "False"
            ]
          },
          "metadata": {},
          "execution_count": 306
        }
      ]
    },
    {
      "cell_type": "code",
      "metadata": {
        "id": "U9Gfxd7yfrZA",
        "colab": {
          "base_uri": "https://localhost:8080/"
        },
        "outputId": "fb5ed6b3-e2cd-456d-c691-9bf41b257376"
      },
      "source": [
        "1 < 2"
      ],
      "execution_count": null,
      "outputs": [
        {
          "output_type": "execute_result",
          "data": {
            "text/plain": [
              "True"
            ]
          },
          "metadata": {},
          "execution_count": 307
        }
      ]
    },
    {
      "cell_type": "code",
      "metadata": {
        "id": "2a37sgE2frZC",
        "colab": {
          "base_uri": "https://localhost:8080/"
        },
        "outputId": "9857f509-62c6-4b63-f2c3-e040dfa85c77"
      },
      "source": [
        "1 >= 1"
      ],
      "execution_count": null,
      "outputs": [
        {
          "output_type": "execute_result",
          "data": {
            "text/plain": [
              "True"
            ]
          },
          "metadata": {},
          "execution_count": 308
        }
      ]
    },
    {
      "cell_type": "code",
      "metadata": {
        "id": "V6zDTOhTfrZF",
        "colab": {
          "base_uri": "https://localhost:8080/"
        },
        "outputId": "ca387f4f-3469-43d6-d3cb-e3339774bc52"
      },
      "source": [
        "1 <= 4"
      ],
      "execution_count": null,
      "outputs": [
        {
          "output_type": "execute_result",
          "data": {
            "text/plain": [
              "True"
            ]
          },
          "metadata": {},
          "execution_count": 309
        }
      ]
    },
    {
      "cell_type": "code",
      "metadata": {
        "id": "L-Ct1dl5frZH",
        "colab": {
          "base_uri": "https://localhost:8080/"
        },
        "outputId": "dccdfae9-84dd-487e-f132-e4aaa943b99f"
      },
      "source": [
        "1 == 1"
      ],
      "execution_count": null,
      "outputs": [
        {
          "output_type": "execute_result",
          "data": {
            "text/plain": [
              "True"
            ]
          },
          "metadata": {},
          "execution_count": 310
        }
      ]
    },
    {
      "cell_type": "code",
      "metadata": {
        "id": "-b3tFznjfrZJ",
        "colab": {
          "base_uri": "https://localhost:8080/"
        },
        "outputId": "e9a3a342-0b70-4ca6-b145-96a1c5cc8131"
      },
      "source": [
        "'oi' == 'tchau'"
      ],
      "execution_count": null,
      "outputs": [
        {
          "output_type": "execute_result",
          "data": {
            "text/plain": [
              "False"
            ]
          },
          "metadata": {},
          "execution_count": 311
        }
      ]
    },
    {
      "cell_type": "markdown",
      "metadata": {
        "id": "8c4SBOejfrZM"
      },
      "source": [
        "## Operadores lógicos"
      ]
    },
    {
      "cell_type": "markdown",
      "source": [
        "Operador \t|Conceito |\tExemplo\n",
        "----------|---------|---------\n",
        "and |\tRetorna True se todas as condições forem verdadeiras, caso contrário retorna False |\tx > 1 and x < 5\n",
        "or |\tRetorna True se uma das condições for verdadeiras, caso contrário retorna False |\tx > 1 or x < 5\n",
        "not |\tInverte o resultado: se o resultado da expressão for True, o operador retorna false |\tnot(x > 1 and x < 5)"
      ],
      "metadata": {
        "id": "xov64MZmjMbP"
      }
    },
    {
      "cell_type": "code",
      "metadata": {
        "id": "tAYRTcV_frZM",
        "colab": {
          "base_uri": "https://localhost:8080/"
        },
        "outputId": "c9786683-f264-4074-b1b5-50982b4720a1"
      },
      "source": [
        "(1 > 2) and (2 < 3)"
      ],
      "execution_count": null,
      "outputs": [
        {
          "output_type": "execute_result",
          "data": {
            "text/plain": [
              "False"
            ]
          },
          "metadata": {},
          "execution_count": 312
        }
      ]
    },
    {
      "cell_type": "code",
      "metadata": {
        "id": "Bu93ZqMJfrZQ",
        "colab": {
          "base_uri": "https://localhost:8080/"
        },
        "outputId": "9d6cbb48-a562-4338-a280-0f7c6c363d85"
      },
      "source": [
        "(1 > 2) or (2 < 3)"
      ],
      "execution_count": null,
      "outputs": [
        {
          "output_type": "execute_result",
          "data": {
            "text/plain": [
              "True"
            ]
          },
          "metadata": {},
          "execution_count": 313
        }
      ]
    },
    {
      "cell_type": "code",
      "metadata": {
        "id": "76MXCjkIb0OD",
        "colab": {
          "base_uri": "https://localhost:8080/"
        },
        "outputId": "d9f90746-0961-475f-b09e-481a193c1c20"
      },
      "source": [
        "not (1 > 2)"
      ],
      "execution_count": null,
      "outputs": [
        {
          "output_type": "execute_result",
          "data": {
            "text/plain": [
              "True"
            ]
          },
          "metadata": {},
          "execution_count": 314
        }
      ]
    },
    {
      "cell_type": "code",
      "metadata": {
        "id": "9tBrG4CFfrZS",
        "colab": {
          "base_uri": "https://localhost:8080/"
        },
        "outputId": "ab552ab3-35d4-43e9-87cf-2eff0393e145"
      },
      "source": [
        "(1 == 2) or (2 == 3) or (4 == 4)"
      ],
      "execution_count": null,
      "outputs": [
        {
          "output_type": "execute_result",
          "data": {
            "text/plain": [
              "True"
            ]
          },
          "metadata": {},
          "execution_count": 126
        }
      ]
    },
    {
      "cell_type": "markdown",
      "metadata": {
        "id": "6B7gTXIffrZV"
      },
      "source": [
        "## if,elif, else"
      ]
    },
    {
      "cell_type": "markdown",
      "metadata": {
        "id": "oo1qfZRcSwby"
      },
      "source": [
        "####São estruturas de condição que permitem avaliar determinada expressão.\n",
        "\n",
        "\n",
        "\n",
        "```\n",
        "if condição:\n",
        "  faça\n",
        "```\n",
        "\n"
      ]
    },
    {
      "cell_type": "code",
      "metadata": {
        "id": "A-74k_zsfrZW",
        "colab": {
          "base_uri": "https://localhost:8080/"
        },
        "outputId": "8a888371-e978-4bd5-de16-a74ace001d4c"
      },
      "source": [
        "if 1 < 2:\n",
        "  print('Sim!')\n",
        "  print('Sim, é menor!')\n",
        "\n",
        "#print('passo aqui sempre')\n"
      ],
      "execution_count": null,
      "outputs": [
        {
          "output_type": "stream",
          "name": "stdout",
          "text": [
            "Sim!\n",
            "Sim, é menor!\n"
          ]
        }
      ]
    },
    {
      "cell_type": "markdown",
      "source": [
        "\n",
        "\n",
        "```\n",
        "if condição:\n",
        "  faça isso\n",
        "else:\n",
        "  faça outra coisa\n",
        "```\n",
        "\n"
      ],
      "metadata": {
        "id": "48CWk7dSKRj2"
      }
    },
    {
      "cell_type": "code",
      "metadata": {
        "id": "7l-6jYY8frZY",
        "colab": {
          "base_uri": "https://localhost:8080/"
        },
        "outputId": "b2ca07e2-8b8d-4c47-e07f-f026fcdf91f0"
      },
      "source": [
        "if 1 < 2:\n",
        "    print('Primeiro')\n",
        "else:\n",
        "    print('Último')"
      ],
      "execution_count": null,
      "outputs": [
        {
          "output_type": "stream",
          "name": "stdout",
          "text": [
            "Primeiro\n"
          ]
        }
      ]
    },
    {
      "cell_type": "code",
      "metadata": {
        "id": "sa7hIxLHfrZc",
        "colab": {
          "base_uri": "https://localhost:8080/"
        },
        "outputId": "ee9ff275-1d8d-45aa-e89f-5c73582c8231"
      },
      "source": [
        "if 1 > 2:\n",
        "    print('Primeiro')\n",
        "else:\n",
        "    print('Último')"
      ],
      "execution_count": null,
      "outputs": [
        {
          "output_type": "stream",
          "name": "stdout",
          "text": [
            "Último\n"
          ]
        }
      ]
    },
    {
      "cell_type": "markdown",
      "source": [
        "\n",
        "\n",
        "```\n",
        "if condição:\n",
        "  faça isso\n",
        "elif condição:\n",
        "  faça outra coisa\n",
        "else:\n",
        "  faça por último isso\n",
        "```\n",
        "\n"
      ],
      "metadata": {
        "id": "MahbZvF2KhYh"
      }
    },
    {
      "cell_type": "code",
      "metadata": {
        "id": "6S2IUGBQfrZg",
        "colab": {
          "base_uri": "https://localhost:8080/"
        },
        "outputId": "847ce612-0b10-46d6-865d-91e7e9fb1554"
      },
      "source": [
        "if 1 == 2:\n",
        "    print('Primeiro')\n",
        "elif 4 == 3:\n",
        "    print('Meio')\n",
        "else:\n",
        "    print('Último')"
      ],
      "execution_count": null,
      "outputs": [
        {
          "output_type": "stream",
          "name": "stdout",
          "text": [
            "Último\n"
          ]
        }
      ]
    },
    {
      "cell_type": "code",
      "metadata": {
        "colab": {
          "base_uri": "https://localhost:8080/"
        },
        "id": "TJlDyn0dRWY7",
        "outputId": "3261ce2c-6b23-40b5-c68c-2263b3ba06e7"
      },
      "source": [
        "n = 4\n",
        "z = 4\n",
        "\n",
        "if n < z:\n",
        "  print(\"{ene} é menor que {ze}\".format(ene=n, ze=z))\n",
        "elif n == z:\n",
        "  print(\"{ene} é igual a {ze}\".format(ene=n, ze=z))\n",
        "else:\n",
        "  print(\"{ene} é maior que {ze}\".format(ene=n, ze=z))"
      ],
      "execution_count": null,
      "outputs": [
        {
          "output_type": "stream",
          "name": "stdout",
          "text": [
            "4 é igual a 4\n"
          ]
        }
      ]
    },
    {
      "cell_type": "markdown",
      "source": [
        "Implementar a solução da equação quadrática\n",
        "\n",
        "$$ax^2 + b x + c = 0$$"
      ],
      "metadata": {
        "id": "KSyD_ainMwhK"
      }
    },
    {
      "cell_type": "code",
      "source": [
        "import numpy as np\n",
        "\n",
        "a = 1\n",
        "b = 2\n",
        "c =-3\n",
        "#a,b,c = 1,2,-3 # faz a mesma coisa que acima\n",
        "\n",
        "delta = b**2 - 4 * a * c\n",
        "\n",
        "if delta > 0:\n",
        "  x1 = (-b + np.sqrt(delta))/(2*a)\n",
        "  x2 = (-b - np.sqrt(delta))/(2*a)\n",
        "  print (f'solução: x1 = {x1} x2 = {x2}')\n",
        "elif delta == 0:\n",
        "  x = -b/(2*a)\n",
        "  print (f'solução múltipla: x = {x}')\n",
        "else:\n",
        "  print('As raizes são complexas!')\n",
        "\n",
        "\n"
      ],
      "metadata": {
        "colab": {
          "base_uri": "https://localhost:8080/"
        },
        "id": "tlJjTbnlM8eV",
        "outputId": "2a81d47b-2f9e-4472-a89f-9972c0da58f0"
      },
      "execution_count": null,
      "outputs": [
        {
          "output_type": "stream",
          "name": "stdout",
          "text": [
            "solução: x1 = 1.0 x2 = -3.0\n"
          ]
        }
      ]
    },
    {
      "cell_type": "code",
      "source": [
        "nota = 9.0\n",
        "\n",
        "if nota >= 9.0:\n",
        "  print(\"EXC\")\n",
        "elif nota < 9.0 and nota >=-7.0:\n",
        "  print(\"BOM\")\n",
        "elif nota < 7.0 and nota >=6.0:\n",
        "  print(\"REG\")\n",
        "elif nota < 6.0 and nota >=3.5:\n",
        "  print(\"REC\")\n",
        "else:\n",
        "  print(\"REP\")"
      ],
      "metadata": {
        "id": "W7yQrdPKsG9h"
      },
      "execution_count": null,
      "outputs": []
    },
    {
      "cell_type": "code",
      "source": [],
      "metadata": {
        "colab": {
          "base_uri": "https://localhost:8080/"
        },
        "id": "2jTeEprbxS2r",
        "outputId": "55ae72be-b8e9-4224-c859-936531dc4b32"
      },
      "execution_count": null,
      "outputs": [
        {
          "output_type": "execute_result",
          "data": {
            "text/plain": [
              "True"
            ]
          },
          "metadata": {},
          "execution_count": 341
        }
      ]
    },
    {
      "cell_type": "markdown",
      "metadata": {
        "id": "WpiW6NkXfrZi"
      },
      "source": [
        "## for Loops"
      ]
    },
    {
      "cell_type": "markdown",
      "metadata": {
        "id": "wuvsbz1OS-Cp"
      },
      "source": [
        "####Loops correspondem a laços de repetição que executam determinado trecho do código até que determinada quantidade pré-determinada seja alcançada.\n",
        "\n",
        "\n",
        "\n",
        "```\n",
        "for i in range(n):\n",
        "  executa n vezes o mesmo código\n",
        "```\n",
        "\n"
      ]
    },
    {
      "cell_type": "code",
      "source": [
        "for i in range(10):\n",
        "  print(i)"
      ],
      "metadata": {
        "colab": {
          "base_uri": "https://localhost:8080/"
        },
        "id": "7Vp0dxZCLNJA",
        "outputId": "41a1d6d1-6267-4e7b-9da6-01dd40334c62"
      },
      "execution_count": null,
      "outputs": [
        {
          "output_type": "stream",
          "name": "stdout",
          "text": [
            "0\n",
            "1\n",
            "2\n",
            "3\n",
            "4\n",
            "5\n",
            "6\n",
            "7\n",
            "8\n",
            "9\n"
          ]
        }
      ]
    },
    {
      "cell_type": "code",
      "source": [
        "for i in range(10):\n",
        "  print(i, end = \",\")"
      ],
      "metadata": {
        "colab": {
          "base_uri": "https://localhost:8080/"
        },
        "id": "lALE6OmA1MK6",
        "outputId": "4ae4edb0-34bd-4c29-d2fa-40670606bc67"
      },
      "execution_count": null,
      "outputs": [
        {
          "output_type": "stream",
          "name": "stdout",
          "text": [
            "0,1,2,3,4,5,6,7,8,9,"
          ]
        }
      ]
    },
    {
      "cell_type": "code",
      "metadata": {
        "id": "nshtWQgOfrZi"
      },
      "source": [
        "seq = [1,2,3,4,5]"
      ],
      "execution_count": null,
      "outputs": []
    },
    {
      "cell_type": "code",
      "metadata": {
        "id": "I3iKR0RIfrZl",
        "colab": {
          "base_uri": "https://localhost:8080/"
        },
        "outputId": "5f03f125-12cf-4965-e545-b83ddcee0a13"
      },
      "source": [
        "#imprime cada elemento da lista seg, usando a variável item\n",
        "for item in seq:\n",
        "    print(item)"
      ],
      "execution_count": null,
      "outputs": [
        {
          "output_type": "stream",
          "name": "stdout",
          "text": [
            "1\n",
            "2\n",
            "3\n",
            "4\n",
            "5\n"
          ]
        }
      ]
    },
    {
      "cell_type": "code",
      "metadata": {
        "id": "EixUHb_afrZo",
        "colab": {
          "base_uri": "https://localhost:8080/"
        },
        "outputId": "7f4d5b12-38cd-4ea6-b76a-2992e22a7876"
      },
      "source": [
        "for item in seq:\n",
        "    print(\"!\")"
      ],
      "execution_count": null,
      "outputs": [
        {
          "output_type": "stream",
          "name": "stdout",
          "text": [
            "!\n",
            "!\n",
            "!\n",
            "!\n",
            "!\n"
          ]
        }
      ]
    },
    {
      "cell_type": "code",
      "metadata": {
        "id": "LPU-StS2frZr",
        "colab": {
          "base_uri": "https://localhost:8080/"
        },
        "outputId": "42d7a8c3-715b-4fa0-e6ee-74458b8550eb"
      },
      "source": [
        "for outra_coisa in seq:\n",
        "    print(outra_coisa+outra_coisa)"
      ],
      "execution_count": null,
      "outputs": [
        {
          "output_type": "stream",
          "name": "stdout",
          "text": [
            "2\n",
            "4\n",
            "6\n",
            "8\n",
            "10\n"
          ]
        }
      ]
    },
    {
      "cell_type": "code",
      "metadata": {
        "id": "gkwUiyiIfrZt",
        "colab": {
          "base_uri": "https://localhost:8080/"
        },
        "outputId": "2c58b5d0-c4d6-4e53-ddc2-1970c647c8e3"
      },
      "source": [
        "nomes = ['{<python>}','{c++}','{java}','{<fortran>}']\n",
        "# A lista nomes foi inserida anteriormente. Vamos acessar seus elementos através do for:\n",
        "for elementos in nomes:\n",
        "    print(elementos)"
      ],
      "execution_count": null,
      "outputs": [
        {
          "output_type": "stream",
          "name": "stdout",
          "text": [
            "{<python>}\n",
            "{c++}\n",
            "{java}\n",
            "{<fortran>}\n"
          ]
        }
      ]
    },
    {
      "cell_type": "markdown",
      "metadata": {
        "id": "GBTKACidfrZw"
      },
      "source": [
        "### Limpando uma lista ou removendo caracteres indesejados"
      ]
    },
    {
      "cell_type": "code",
      "metadata": {
        "id": "YDgdg7cRfrZw"
      },
      "source": [
        "naoQueremos = \"{}<>\""
      ],
      "execution_count": null,
      "outputs": []
    },
    {
      "cell_type": "code",
      "metadata": {
        "id": "4cuFgnx2frZ0"
      },
      "source": [
        "novaLista = []\n",
        "for elementos in nomes:\n",
        "    dados = ''\n",
        "    for letra in elementos:\n",
        "          if letra not in naoQueremos:\n",
        "                dados += letra\n",
        "    novaLista.append(dados)"
      ],
      "execution_count": null,
      "outputs": []
    },
    {
      "cell_type": "code",
      "metadata": {
        "id": "JS8DKixwfrZ1",
        "colab": {
          "base_uri": "https://localhost:8080/"
        },
        "outputId": "a02e1688-313e-4c9b-fdfa-aed061367416"
      },
      "source": [
        "novaLista"
      ],
      "execution_count": null,
      "outputs": [
        {
          "output_type": "execute_result",
          "data": {
            "text/plain": [
              "['python', 'c++', 'java', 'fortran']"
            ]
          },
          "metadata": {},
          "execution_count": 364
        }
      ]
    },
    {
      "cell_type": "code",
      "metadata": {
        "id": "7nB7TbjufrZ4",
        "colab": {
          "base_uri": "https://localhost:8080/"
        },
        "outputId": "689c75fe-631d-49c4-b1e6-208a09158cfe"
      },
      "source": [
        "nomes"
      ],
      "execution_count": null,
      "outputs": [
        {
          "output_type": "execute_result",
          "data": {
            "text/plain": [
              "['{<python>}', '{c++}', '{java}', '{<fortran>}']"
            ]
          },
          "metadata": {},
          "execution_count": 365
        }
      ]
    },
    {
      "cell_type": "code",
      "metadata": {
        "id": "hkdKb99cfrZ6"
      },
      "source": [
        "for i in range(len(nomes)):\n",
        "    dados = ''\n",
        "    for letra in nomes[i]:\n",
        "          if letra not in naoQueremos:\n",
        "                dados += letra\n",
        "    nomes[i] = dados"
      ],
      "execution_count": null,
      "outputs": []
    },
    {
      "cell_type": "code",
      "metadata": {
        "id": "2IuWAPASfrZ8",
        "colab": {
          "base_uri": "https://localhost:8080/"
        },
        "outputId": "9eaf2c55-1e7d-46ac-d701-617bc399055e"
      },
      "source": [
        "nomes"
      ],
      "execution_count": null,
      "outputs": [
        {
          "output_type": "execute_result",
          "data": {
            "text/plain": [
              "['python', 'c++', 'java', 'fortran']"
            ]
          },
          "metadata": {},
          "execution_count": 367
        }
      ]
    },
    {
      "cell_type": "code",
      "metadata": {
        "id": "YK7eDEpdfrZ_",
        "colab": {
          "base_uri": "https://localhost:8080/"
        },
        "outputId": "731c3852-24ea-45de-832d-b80c90b02ce9"
      },
      "source": [
        "len(nomes) # len(lista) determina o tamanho (quantidade de elementos) de uma lista"
      ],
      "execution_count": null,
      "outputs": [
        {
          "output_type": "execute_result",
          "data": {
            "text/plain": [
              "4"
            ]
          },
          "metadata": {},
          "execution_count": 368
        }
      ]
    },
    {
      "cell_type": "markdown",
      "metadata": {
        "id": "kEsfx8uifraB"
      },
      "source": [
        "## while Loops"
      ]
    },
    {
      "cell_type": "markdown",
      "metadata": {
        "id": "XBowijXvTcqm"
      },
      "source": [
        "####While corresponde a um laço de repetição que acontece \"enquanto\" determinada condição não é atingida."
      ]
    },
    {
      "cell_type": "code",
      "metadata": {
        "id": "3Mw06EonfraB",
        "colab": {
          "base_uri": "https://localhost:8080/"
        },
        "outputId": "6895cbc5-39e1-49d3-e4b0-d587614fe898"
      },
      "source": [
        "i = 1\n",
        "while i < 5:\n",
        "    print('i is: {}'.format(i))\n",
        "    i = i+1"
      ],
      "execution_count": null,
      "outputs": [
        {
          "output_type": "stream",
          "name": "stdout",
          "text": [
            "i is: 1\n",
            "i is: 2\n",
            "i is: 3\n",
            "i is: 4\n"
          ]
        }
      ]
    },
    {
      "cell_type": "code",
      "metadata": {
        "id": "e2Rf03K4Tx2D",
        "colab": {
          "base_uri": "https://localhost:8080/"
        },
        "outputId": "2a963e9a-2bc2-4bc4-d25f-ffa7a43ed198"
      },
      "source": [
        "n = 0\n",
        "while n != -3:\n",
        "  print(\"{ene} é diferente de -3.\".format(ene=n))\n",
        "  n -= 1\n",
        "\n",
        "print(\"\\nn é igual a -3.\") #Fim do loop While"
      ],
      "execution_count": null,
      "outputs": [
        {
          "output_type": "stream",
          "name": "stdout",
          "text": [
            "0 é diferente de -3.\n",
            "-1 é diferente de -3.\n",
            "-2 é diferente de -3.\n",
            "\n",
            "n é igual a -3.\n"
          ]
        }
      ]
    },
    {
      "cell_type": "code",
      "metadata": {
        "id": "4R2PpACCUd7Q",
        "colab": {
          "base_uri": "https://localhost:8080/"
        },
        "outputId": "3e9e5001-3e22-4e36-9911-b494ef213918"
      },
      "source": [
        "z = 7\n",
        "while z > 2:\n",
        "  print(\"Objetivo não atingido.\")\n",
        "  z -= 1\n",
        "\n",
        "print(\"\\nObjetivo atingido. Fim do loop!\") #Fim do loop While"
      ],
      "execution_count": null,
      "outputs": [
        {
          "output_type": "stream",
          "name": "stdout",
          "text": [
            "Objetivo não atingido.\n",
            "Objetivo não atingido.\n",
            "Objetivo não atingido.\n",
            "Objetivo não atingido.\n",
            "Objetivo não atingido.\n",
            "\n",
            "Objetivo atingido. Fim do loop!\n"
          ]
        }
      ]
    },
    {
      "cell_type": "code",
      "source": [
        "cont = 0\n",
        "while True:\n",
        "\n",
        "  if cont % 2 == 0:\n",
        "    print (f'numero par: {cont}')\n",
        "  else:\n",
        "    print(f'numero impar: {cont}')\n",
        "\n",
        "  if cont > 20:\n",
        "    break\n",
        "  cont +=1"
      ],
      "metadata": {
        "colab": {
          "base_uri": "https://localhost:8080/"
        },
        "id": "0fiChUrlDxxG",
        "outputId": "71c0d9ce-efea-4c09-e45f-4fa8a4616ba0"
      },
      "execution_count": null,
      "outputs": [
        {
          "output_type": "stream",
          "name": "stdout",
          "text": [
            "numero par: 0\n",
            "numero impar: 1\n",
            "numero par: 2\n",
            "numero impar: 3\n",
            "numero par: 4\n",
            "numero impar: 5\n",
            "numero par: 6\n",
            "numero impar: 7\n",
            "numero par: 8\n",
            "numero impar: 9\n",
            "numero par: 10\n",
            "numero impar: 11\n",
            "numero par: 12\n",
            "numero impar: 13\n",
            "numero par: 14\n",
            "numero impar: 15\n",
            "numero par: 16\n",
            "numero impar: 17\n",
            "numero par: 18\n",
            "numero impar: 19\n",
            "numero par: 20\n",
            "numero impar: 21\n"
          ]
        }
      ]
    },
    {
      "cell_type": "code",
      "source": [
        "s = 0\n",
        "for i in range(1,5):\n",
        "  print(f\" 1/{i**2}\",end=\" + \")\n",
        "  s+= 1/i**2\n",
        "\n",
        "print(f\"={s:,.2f}\")"
      ],
      "metadata": {
        "colab": {
          "base_uri": "https://localhost:8080/"
        },
        "id": "g2Z2hSpGvtc-",
        "outputId": "15a11c1f-0c68-4f65-fc56-e28bdf74b387"
      },
      "execution_count": null,
      "outputs": [
        {
          "output_type": "stream",
          "name": "stdout",
          "text": [
            " 1/1 +  1/4 +  1/9 +  1/16 + =1.42\n"
          ]
        }
      ]
    },
    {
      "cell_type": "code",
      "source": [
        "s = 0\n",
        "i=1\n",
        "while i < 5:\n",
        "  print(f\" 1/{i**2}\",end=\" + \")\n",
        "  s+= 1/i**2\n",
        "  i+=1\n",
        "print(f\"={s:,.2f}\")"
      ],
      "metadata": {
        "colab": {
          "base_uri": "https://localhost:8080/"
        },
        "id": "bZjd16Fm2RnI",
        "outputId": "e7fa43da-a01d-454a-9c7f-7636c72a9457"
      },
      "execution_count": null,
      "outputs": [
        {
          "output_type": "stream",
          "name": "stdout",
          "text": [
            " 1/1 +  1/4 +  1/9 +  1/16 + =1.42\n"
          ]
        }
      ]
    },
    {
      "cell_type": "markdown",
      "metadata": {
        "id": "91r4HEI9fraD"
      },
      "source": [
        "## range()"
      ]
    },
    {
      "cell_type": "markdown",
      "metadata": {
        "id": "7Gocajl5V-gk"
      },
      "source": [
        "####Com a função range() podem ser determinados o início, o meio e o fim de uma sequência."
      ]
    },
    {
      "cell_type": "code",
      "metadata": {
        "id": "u7xN6DzDfraD",
        "colab": {
          "base_uri": "https://localhost:8080/"
        },
        "outputId": "bf1e8a93-1fd7-49bb-aa13-53f31de8a495"
      },
      "source": [
        "range(5) #Início subentendido: 0"
      ],
      "execution_count": null,
      "outputs": [
        {
          "output_type": "execute_result",
          "data": {
            "text/plain": [
              "range(0, 5)"
            ]
          },
          "metadata": {},
          "execution_count": 13
        }
      ]
    },
    {
      "cell_type": "code",
      "metadata": {
        "id": "6mxwsO8PfraF",
        "colab": {
          "base_uri": "https://localhost:8080/"
        },
        "outputId": "3aaae99c-9dd0-4eac-ded8-b33482e9740a"
      },
      "source": [
        "for i in range(5):\n",
        "    print(i)"
      ],
      "execution_count": null,
      "outputs": [
        {
          "output_type": "stream",
          "name": "stdout",
          "text": [
            "0\n",
            "1\n",
            "2\n",
            "3\n",
            "4\n"
          ]
        }
      ]
    },
    {
      "cell_type": "code",
      "metadata": {
        "id": "Qze8kZuWfraG",
        "colab": {
          "base_uri": "https://localhost:8080/"
        },
        "outputId": "bf4e9f5b-bcac-405d-a74c-558578b78cd0"
      },
      "source": [
        "list(range(5))"
      ],
      "execution_count": null,
      "outputs": [
        {
          "output_type": "execute_result",
          "data": {
            "text/plain": [
              "[0, 1, 2, 3, 4]"
            ]
          },
          "metadata": {},
          "execution_count": 141
        }
      ]
    },
    {
      "cell_type": "code",
      "source": [
        "list(range(0,20,2))"
      ],
      "metadata": {
        "colab": {
          "base_uri": "https://localhost:8080/"
        },
        "id": "_mvK0x0M4XCe",
        "outputId": "5a408dcb-3e93-43fd-86a2-d125d40073e1"
      },
      "execution_count": null,
      "outputs": [
        {
          "output_type": "execute_result",
          "data": {
            "text/plain": [
              "[0, 2, 4, 6, 8, 10, 12, 14, 16, 18]"
            ]
          },
          "metadata": {},
          "execution_count": 17
        }
      ]
    },
    {
      "cell_type": "code",
      "source": [
        "t = list(range(0,20))\n",
        "t"
      ],
      "metadata": {
        "colab": {
          "base_uri": "https://localhost:8080/"
        },
        "id": "bHnmqW6U5EYD",
        "outputId": "1ba97a82-dace-4c84-8fc4-603f1314ac36"
      },
      "execution_count": null,
      "outputs": [
        {
          "output_type": "execute_result",
          "data": {
            "text/plain": [
              "[0, 1, 2, 3, 4, 5, 6, 7, 8, 9, 10, 11, 12, 13, 14, 15, 16, 17, 18, 19]"
            ]
          },
          "metadata": {},
          "execution_count": 20
        }
      ]
    },
    {
      "cell_type": "code",
      "source": [
        "t[19]"
      ],
      "metadata": {
        "colab": {
          "base_uri": "https://localhost:8080/"
        },
        "id": "R-a8dTCL5VYN",
        "outputId": "a22b1ded-977f-4d5a-999c-5025ba0f023e"
      },
      "execution_count": null,
      "outputs": [
        {
          "output_type": "execute_result",
          "data": {
            "text/plain": [
              "19"
            ]
          },
          "metadata": {},
          "execution_count": 22
        }
      ]
    },
    {
      "cell_type": "code",
      "metadata": {
        "id": "bCsZpYaTXDkU",
        "colab": {
          "base_uri": "https://localhost:8080/"
        },
        "outputId": "e61e8c5e-a7bf-4799-dd4b-59df72417e1c"
      },
      "source": [
        "for i in range (3, 8): #Sendo 3 o valor inicial da sequência e 8 o seu final. \n",
        "  print(i)"
      ],
      "execution_count": null,
      "outputs": [
        {
          "output_type": "stream",
          "name": "stdout",
          "text": [
            "3\n",
            "4\n",
            "5\n",
            "6\n",
            "7\n"
          ]
        }
      ]
    },
    {
      "cell_type": "markdown",
      "metadata": {
        "id": "z2Qk5XNpfraI"
      },
      "source": [
        "## List comprehension"
      ]
    },
    {
      "cell_type": "markdown",
      "metadata": {
        "id": "e0_acsncGuIy"
      },
      "source": [
        "#### Esse metódo e uma forma de compressão de lista. A partir de instruções, a lista criada automaticamente em somente uma linha de codigo."
      ]
    },
    {
      "cell_type": "code",
      "metadata": {
        "id": "YWOl1rpgfraI"
      },
      "source": [
        "x = [1,2,3,4]"
      ],
      "execution_count": null,
      "outputs": []
    },
    {
      "cell_type": "code",
      "metadata": {
        "id": "2MwDIGJvfraK",
        "colab": {
          "base_uri": "https://localhost:8080/"
        },
        "outputId": "dce8e3a7-b980-4ea6-c919-6da1c01648f5"
      },
      "source": [
        "out = []\n",
        "for item in x:\n",
        "    out.append(item**2)\n",
        "print(out)"
      ],
      "execution_count": null,
      "outputs": [
        {
          "output_type": "stream",
          "name": "stdout",
          "text": [
            "[1, 4, 9, 16]\n"
          ]
        }
      ]
    },
    {
      "cell_type": "code",
      "metadata": {
        "id": "KtEW9OpKfraO",
        "colab": {
          "base_uri": "https://localhost:8080/"
        },
        "outputId": "0031e627-8091-43fc-bc4b-002b98b5fb8f"
      },
      "source": [
        "out2 = [item**2 for item in x]\n",
        "out2"
      ],
      "execution_count": null,
      "outputs": [
        {
          "output_type": "execute_result",
          "data": {
            "text/plain": [
              "[1, 4, 9, 16]"
            ]
          },
          "metadata": {},
          "execution_count": 26
        }
      ]
    },
    {
      "cell_type": "code",
      "source": [
        "sentenca = 'o foguete voltou de marte'\n",
        "vogais = [i for i in sentenca if i in 'aeiou']\n",
        "vogais"
      ],
      "metadata": {
        "colab": {
          "base_uri": "https://localhost:8080/"
        },
        "id": "S2v1cWm-N4Oz",
        "outputId": "f27482cf-b20b-4d69-ab9a-4e17516ed7f5"
      },
      "execution_count": null,
      "outputs": [
        {
          "output_type": "execute_result",
          "data": {
            "text/plain": [
              "['o', 'o', 'u', 'e', 'e', 'o', 'o', 'u', 'e', 'a', 'e']"
            ]
          },
          "metadata": {},
          "execution_count": 27
        }
      ]
    },
    {
      "cell_type": "code",
      "source": [
        "precos_orig = [1.25, -9.45, 10.22, 3.78, -5.92, 1.16]\n",
        "precos = [i if i > 0 else 0 for i in precos_orig]\n",
        "precos"
      ],
      "metadata": {
        "colab": {
          "base_uri": "https://localhost:8080/"
        },
        "id": "Gb_yM6nUOZMp",
        "outputId": "85ee5113-cd4a-4044-8a8c-5f81279bc103"
      },
      "execution_count": null,
      "outputs": [
        {
          "output_type": "execute_result",
          "data": {
            "text/plain": [
              "[1.25, 0, 10.22, 3.78, 0, 1.16]"
            ]
          },
          "metadata": {},
          "execution_count": 148
        }
      ]
    },
    {
      "cell_type": "code",
      "source": [
        "number_list = [ x for x in range(20) if x % 2 == 0]\n",
        "print(number_list)"
      ],
      "metadata": {
        "colab": {
          "base_uri": "https://localhost:8080/"
        },
        "id": "4AV90YqBPSVb",
        "outputId": "056f4b75-d2c4-461e-f0e3-b28c933fc30b"
      },
      "execution_count": null,
      "outputs": [
        {
          "output_type": "stream",
          "name": "stdout",
          "text": [
            "[0, 2, 4, 6, 8, 10, 12, 14, 16, 18]\n"
          ]
        }
      ]
    },
    {
      "cell_type": "code",
      "source": [
        "num_list = [y for y in range(100) if y % 2 == 0 if y % 5 == 0]\n",
        "print(num_list)"
      ],
      "metadata": {
        "colab": {
          "base_uri": "https://localhost:8080/"
        },
        "id": "Cp1RcLXaPXu5",
        "outputId": "c518a5f9-4967-4790-b95b-b0bd147b7352"
      },
      "execution_count": null,
      "outputs": [
        {
          "output_type": "stream",
          "name": "stdout",
          "text": [
            "[0, 10, 20, 30, 40, 50, 60, 70, 80, 90]\n"
          ]
        }
      ]
    },
    {
      "cell_type": "code",
      "source": [
        "obj = [\"Even\" if i%2==0 else \"Odd\" for i in range(10)]\n",
        "print(obj)"
      ],
      "metadata": {
        "colab": {
          "base_uri": "https://localhost:8080/"
        },
        "id": "hjxLLuKwPect",
        "outputId": "63a93f4c-2e1a-4ce2-b463-5dccba0130c5"
      },
      "execution_count": null,
      "outputs": [
        {
          "output_type": "stream",
          "name": "stdout",
          "text": [
            "['Even', 'Odd', 'Even', 'Odd', 'Even', 'Odd', 'Even', 'Odd', 'Even', 'Odd']\n"
          ]
        }
      ]
    },
    {
      "cell_type": "code",
      "source": [
        "dic_quadrado = {i: i * i for i in range(10)}\n",
        "dic_quadrado"
      ],
      "metadata": {
        "colab": {
          "base_uri": "https://localhost:8080/"
        },
        "id": "iMFUdoT0OukI",
        "outputId": "8dd1165a-0725-4fc2-a5f9-1f5257353b98"
      },
      "execution_count": null,
      "outputs": [
        {
          "output_type": "execute_result",
          "data": {
            "text/plain": [
              "{0: 0, 1: 1, 2: 4, 3: 9, 4: 16, 5: 25, 6: 36, 7: 49, 8: 64, 9: 81}"
            ]
          },
          "metadata": {},
          "execution_count": 149
        }
      ]
    },
    {
      "cell_type": "code",
      "source": [
        "transposed = []\n",
        "matrix = [[1, 2, 3, 4], [4, 5, 6, 8]]\n",
        "\n",
        "for i in range(len(matrix[0])):\n",
        "    transposed_row = []\n",
        "\n",
        "    for row in matrix:\n",
        "        transposed_row.append(row[i])\n",
        "    transposed.append(transposed_row)\n",
        "\n",
        "print(transposed,\"\\n\")\n",
        "\n",
        "for i in transposed:\n",
        "  print(i)"
      ],
      "metadata": {
        "colab": {
          "base_uri": "https://localhost:8080/"
        },
        "id": "af_n4aqjPpQW",
        "outputId": "bdd7b2d0-e167-46ea-f191-0a4b1ed11c09"
      },
      "execution_count": null,
      "outputs": [
        {
          "output_type": "stream",
          "name": "stdout",
          "text": [
            "[[1, 4], [2, 5], [3, 6], [4, 8]] \n",
            "\n",
            "[1, 4]\n",
            "[2, 5]\n",
            "[3, 6]\n",
            "[4, 8]\n"
          ]
        }
      ]
    },
    {
      "cell_type": "markdown",
      "metadata": {
        "id": "Vogj0rtXfraQ"
      },
      "source": [
        "## Funções"
      ]
    },
    {
      "cell_type": "markdown",
      "metadata": {
        "id": "FfaTk6dRHww7"
      },
      "source": [
        "#### Funções são subrotinas que serão usadas no códigos, que podem ter ou não entrada de dados. Sendo normalmente, usadas em linhas de códigos que serão usadas mais de uma vez durante sua execução."
      ]
    },
    {
      "cell_type": "code",
      "metadata": {
        "id": "PHpfy9y5fraQ"
      },
      "source": [
        "def my_func(param1='default'):\n",
        "    \"\"\"\n",
        "    Documentação da função vai aqui.\n",
        "    \"\"\"\n",
        "    print(param1)"
      ],
      "execution_count": null,
      "outputs": []
    },
    {
      "cell_type": "code",
      "metadata": {
        "id": "y6umwVkffraU",
        "colab": {
          "base_uri": "https://localhost:8080/"
        },
        "outputId": "c57f3096-2f01-4033-b4b1-4b013ec93c52"
      },
      "source": [
        "my_func"
      ],
      "execution_count": null,
      "outputs": [
        {
          "output_type": "execute_result",
          "data": {
            "text/plain": [
              "<function __main__.my_func(param1='default')>"
            ]
          },
          "metadata": {},
          "execution_count": 29
        }
      ]
    },
    {
      "cell_type": "code",
      "metadata": {
        "id": "tWyG5nMhfraW",
        "colab": {
          "base_uri": "https://localhost:8080/"
        },
        "outputId": "9b6d0811-7170-433c-c55f-8c23d486baa9"
      },
      "source": [
        "my_func()"
      ],
      "execution_count": null,
      "outputs": [
        {
          "output_type": "stream",
          "name": "stdout",
          "text": [
            "default\n"
          ]
        }
      ]
    },
    {
      "cell_type": "code",
      "metadata": {
        "id": "9MGbdoa_fraX",
        "colab": {
          "base_uri": "https://localhost:8080/"
        },
        "outputId": "fdf80826-d589-43a6-984c-c2f50c80199f"
      },
      "source": [
        "my_func('novo parametro')"
      ],
      "execution_count": null,
      "outputs": [
        {
          "output_type": "stream",
          "name": "stdout",
          "text": [
            "novo parametro\n"
          ]
        }
      ]
    },
    {
      "cell_type": "code",
      "metadata": {
        "id": "owYbzJ0VfraZ",
        "colab": {
          "base_uri": "https://localhost:8080/"
        },
        "outputId": "01cb9069-1219-4fc3-f180-977cadd78539"
      },
      "source": [
        "my_func(param1='novo parametro')"
      ],
      "execution_count": null,
      "outputs": [
        {
          "output_type": "stream",
          "name": "stdout",
          "text": [
            "novo parametro\n"
          ]
        }
      ]
    },
    {
      "cell_type": "code",
      "metadata": {
        "id": "dV6qUIB2frab"
      },
      "source": [
        "def square(x):\n",
        "    return x**2"
      ],
      "execution_count": null,
      "outputs": []
    },
    {
      "cell_type": "code",
      "metadata": {
        "id": "NAuWeSNKfrah"
      },
      "source": [
        "out = square(6)"
      ],
      "execution_count": null,
      "outputs": []
    },
    {
      "cell_type": "code",
      "metadata": {
        "scrolled": true,
        "id": "wSbztuNhfraj",
        "colab": {
          "base_uri": "https://localhost:8080/"
        },
        "outputId": "b80f4044-f5ac-494c-dcab-796bf899a148"
      },
      "source": [
        "print(out)"
      ],
      "execution_count": null,
      "outputs": [
        {
          "output_type": "stream",
          "name": "stdout",
          "text": [
            "36\n"
          ]
        }
      ]
    },
    {
      "cell_type": "code",
      "source": [
        "def soma(x,y):\n",
        "  s = x + y\n",
        "  print(s)\n",
        "\n",
        "\n",
        "soma(3,4)"
      ],
      "metadata": {
        "colab": {
          "base_uri": "https://localhost:8080/"
        },
        "id": "IJVPUZ4Q_ewR",
        "outputId": "f8d29905-8f27-47c6-f8e2-c054fbb3800c"
      },
      "execution_count": null,
      "outputs": [
        {
          "output_type": "stream",
          "name": "stdout",
          "text": [
            "7\n"
          ]
        }
      ]
    },
    {
      "cell_type": "code",
      "source": [
        "def soma2(x,y):\n",
        "  return x + y\n",
        "\n",
        "soma2(3,4)"
      ],
      "metadata": {
        "colab": {
          "base_uri": "https://localhost:8080/"
        },
        "id": "2UvOxk_BBIXf",
        "outputId": "b04f0e96-8b97-46dc-b6d9-661e970e427f"
      },
      "execution_count": null,
      "outputs": [
        {
          "output_type": "execute_result",
          "data": {
            "text/plain": [
              "7"
            ]
          },
          "metadata": {},
          "execution_count": 42
        }
      ]
    },
    {
      "cell_type": "code",
      "source": [
        "for i in range(1,10000):\n",
        "  s = 1/i**2\n",
        "print(s)"
      ],
      "metadata": {
        "colab": {
          "base_uri": "https://localhost:8080/"
        },
        "id": "KYlSgKQBCkBP",
        "outputId": "236a744d-e542-406b-ffcd-7935e5441b8f"
      },
      "execution_count": null,
      "outputs": [
        {
          "output_type": "stream",
          "name": "stdout",
          "text": [
            "1.0002000300040005e-08\n"
          ]
        }
      ]
    },
    {
      "cell_type": "code",
      "metadata": {
        "id": "LIPvhLaHfral"
      },
      "source": [
        "import time"
      ],
      "execution_count": null,
      "outputs": []
    },
    {
      "cell_type": "code",
      "metadata": {
        "id": "uNpFFuDxfram"
      },
      "source": [
        "def TestPrint(lista,tempo=0.1):\n",
        "    for elemento in lista:\n",
        "        print(elemento)\n",
        "        time.sleep(tempo)"
      ],
      "execution_count": null,
      "outputs": []
    },
    {
      "cell_type": "code",
      "metadata": {
        "id": "tAUPipRYfrao"
      },
      "source": [
        "x = [1,2,3,4,5,6,7]"
      ],
      "execution_count": null,
      "outputs": []
    },
    {
      "cell_type": "code",
      "metadata": {
        "id": "UkPVvQxYfras"
      },
      "source": [
        "TestPrint(lista=x,tempo=1)"
      ],
      "execution_count": null,
      "outputs": []
    },
    {
      "cell_type": "markdown",
      "metadata": {
        "id": "dbuWtqCbfrau"
      },
      "source": [
        "## Expressões lambda"
      ]
    },
    {
      "cell_type": "markdown",
      "metadata": {
        "id": "1X7zzw4aMTYU"
      },
      "source": [
        "#### A expressão lambda e usado quando atribuimos uma função a um objeto/variavél, sendo assim podemos chamar esse objeto como se fosse uma função, onde, ela pode ter varios argumentos, mas somente uma expressão."
      ]
    },
    {
      "cell_type": "code",
      "metadata": {
        "id": "HIPBTYWSfrau"
      },
      "source": [
        "def vezes2(var):\n",
        "    return var*2"
      ],
      "execution_count": null,
      "outputs": []
    },
    {
      "cell_type": "code",
      "metadata": {
        "id": "JbQfT6ARfray"
      },
      "source": [
        "vezes2(2)"
      ],
      "execution_count": null,
      "outputs": []
    },
    {
      "cell_type": "code",
      "metadata": {
        "id": "qU3UF51Nfra0"
      },
      "source": [
        "f = lambda var: var*2"
      ],
      "execution_count": null,
      "outputs": []
    },
    {
      "cell_type": "code",
      "metadata": {
        "id": "X-wN9iJbM8D7"
      },
      "source": [
        "f(2)"
      ],
      "execution_count": null,
      "outputs": []
    },
    {
      "cell_type": "markdown",
      "metadata": {
        "id": "cJxHRndifra2"
      },
      "source": [
        "## map e filter"
      ]
    },
    {
      "cell_type": "markdown",
      "metadata": {
        "id": "kkAcZjAYOVAy"
      },
      "source": [
        "A função **map** é uma função usada para aplicar uma função a cada item em uma lista ou dicionário e retornar um nova lista com os resultados da iteração com a função. Já a função **filter** é usada para filtrar valores de uma série de dados, onde aplica a função a cada elemento, se retorna True o elemento permanece ou retorna False será retirado do resultado."
      ]
    },
    {
      "cell_type": "code",
      "metadata": {
        "id": "eFhSAMTcfra2"
      },
      "source": [
        "seq = [1,2,3,4,5]"
      ],
      "execution_count": null,
      "outputs": []
    },
    {
      "cell_type": "code",
      "metadata": {
        "id": "K1hFW1o1fra8"
      },
      "source": [
        "map(vezes2,seq)"
      ],
      "execution_count": null,
      "outputs": []
    },
    {
      "cell_type": "code",
      "metadata": {
        "id": "LwYybgyWfra_"
      },
      "source": [
        "list(map(vezes2,seq))"
      ],
      "execution_count": null,
      "outputs": []
    },
    {
      "cell_type": "code",
      "metadata": {
        "id": "HadGRSYRfrbC"
      },
      "source": [
        "list(map(lambda var: var*2,seq))"
      ],
      "execution_count": null,
      "outputs": []
    },
    {
      "cell_type": "code",
      "metadata": {
        "id": "urG9LzcdfrbE"
      },
      "source": [
        "filter(lambda item: item%2 == 0,seq)"
      ],
      "execution_count": null,
      "outputs": []
    },
    {
      "cell_type": "code",
      "metadata": {
        "id": "icWws2iDfrbG"
      },
      "source": [
        "list(filter(lambda item: item%2 == 0,seq))"
      ],
      "execution_count": null,
      "outputs": []
    },
    {
      "cell_type": "markdown",
      "metadata": {
        "id": "jVijl8iUfrbH"
      },
      "source": [
        "## Métodos"
      ]
    },
    {
      "cell_type": "markdown",
      "metadata": {
        "id": "JARCgqWNThJl"
      },
      "source": [
        "#### Métodos são funções predefinidas que permitem que à manipulem as variáveis sem precisar de funções externas."
      ]
    },
    {
      "cell_type": "code",
      "metadata": {
        "id": "h1fSFR9hfrbH"
      },
      "source": [
        "st = 'Olá, me chamo Sam'"
      ],
      "execution_count": null,
      "outputs": []
    },
    {
      "cell_type": "code",
      "metadata": {
        "id": "rT0wUU_ufrbJ"
      },
      "source": [
        "st.lower()"
      ],
      "execution_count": null,
      "outputs": []
    },
    {
      "cell_type": "code",
      "metadata": {
        "id": "8sAwEQs2frbK"
      },
      "source": [
        "st.upper()"
      ],
      "execution_count": null,
      "outputs": []
    },
    {
      "cell_type": "code",
      "metadata": {
        "id": "VEBQo4agfrbL"
      },
      "source": [
        "st.split()"
      ],
      "execution_count": null,
      "outputs": []
    },
    {
      "cell_type": "code",
      "metadata": {
        "id": "znhOjJW7frbO"
      },
      "source": [
        "tweet = 'Dale Grêmio! #Gremio'"
      ],
      "execution_count": null,
      "outputs": []
    },
    {
      "cell_type": "code",
      "metadata": {
        "id": "4YHPGtB2frbQ"
      },
      "source": [
        "tweet.split('#')"
      ],
      "execution_count": null,
      "outputs": []
    },
    {
      "cell_type": "code",
      "metadata": {
        "id": "Qcelsh6QfrbS"
      },
      "source": [
        "tweet.split('#')[1]"
      ],
      "execution_count": null,
      "outputs": []
    },
    {
      "cell_type": "code",
      "metadata": {
        "id": "juHcNUR6frbV"
      },
      "source": [
        "d"
      ],
      "execution_count": null,
      "outputs": []
    },
    {
      "cell_type": "code",
      "metadata": {
        "id": "WfCTHnVUfrbX"
      },
      "source": [
        "d.keys()"
      ],
      "execution_count": null,
      "outputs": []
    },
    {
      "cell_type": "code",
      "metadata": {
        "id": "ebOj62PpfrbY"
      },
      "source": [
        "d.items()"
      ],
      "execution_count": null,
      "outputs": []
    },
    {
      "cell_type": "code",
      "metadata": {
        "id": "Du7o_wCzfrbZ"
      },
      "source": [
        "lst = [1,2,3]"
      ],
      "execution_count": null,
      "outputs": []
    },
    {
      "cell_type": "code",
      "metadata": {
        "id": "foDvD0n_frbc"
      },
      "source": [
        "lst.pop()"
      ],
      "execution_count": null,
      "outputs": []
    },
    {
      "cell_type": "code",
      "metadata": {
        "id": "9LFwXf9Cfrbh"
      },
      "source": [
        "lst"
      ],
      "execution_count": null,
      "outputs": []
    },
    {
      "cell_type": "code",
      "metadata": {
        "id": "FM5h7mxgfrbl"
      },
      "source": [
        "a = 1,2 in [1,2,3]\n",
        "a"
      ],
      "execution_count": null,
      "outputs": []
    },
    {
      "cell_type": "code",
      "metadata": {
        "scrolled": true,
        "id": "a7rLfzdWfrbm"
      },
      "source": [
        "'x' in ['x','y','z']"
      ],
      "execution_count": null,
      "outputs": []
    },
    {
      "cell_type": "markdown",
      "metadata": {
        "id": "5U7MifJufrbo"
      },
      "source": [
        "## Files\n",
        "\n",
        "Em Python, devemos abrir (open) arquivos antes de usá-los e fechar (close) os arquivos depois de que tivermos terminado de utilizá-los. Como você pode imaginar, depois de aberto um arquivo passa a ser um objeto Python de maneira semelhante que outros dados.\n",
        "\n",
        "- Reading\n",
        "\n",
        "`open(nome_arquivo,'r')`\tAbre um arquivo chamado nome_arquivo e o usa para leitura. Retorna uma referëncia para um objeto file.\n",
        "\n",
        "- Writing\n",
        "\n",
        "`open(nome_arquivo,'w')`\tAbre um arquivo chamado nome_arquivo e o usa para escrita. Retorna uma referência para um objeto file."
      ]
    },
    {
      "cell_type": "markdown",
      "metadata": {
        "id": "DOVxOBjMfrbo"
      },
      "source": [
        "### Lendo um arquivo"
      ]
    },
    {
      "cell_type": "code",
      "metadata": {
        "id": "h1Rm8YCUfrbo",
        "colab": {
          "base_uri": "https://localhost:8080/"
        },
        "outputId": "a8432a0a-20ed-4bac-9aa6-930cfd6b3d2c"
      },
      "source": [
        "with open('ler.txt','r') as texto:\n",
        "    dados = texto.read().splitlines()\n",
        "dados"
      ],
      "execution_count": null,
      "outputs": [
        {
          "output_type": "execute_result",
          "data": {
            "text/plain": [
              "['Esse arquivo vai ser lido pelo python', 'primeira linha', 'segunda linha']"
            ]
          },
          "metadata": {
            "tags": []
          },
          "execution_count": 1
        }
      ]
    },
    {
      "cell_type": "code",
      "metadata": {
        "id": "UoLNCQT5frbq",
        "colab": {
          "base_uri": "https://localhost:8080/"
        },
        "outputId": "0dd819df-b21b-4849-d7d1-87e74980d72f"
      },
      "source": [
        "dados2 = open('ler.txt','r').read().splitlines()\n",
        "dados2"
      ],
      "execution_count": null,
      "outputs": [
        {
          "output_type": "execute_result",
          "data": {
            "text/plain": [
              "['Esse arquivo vai ser lido pelo python', 'primeira linha', 'segunda linha']"
            ]
          },
          "metadata": {
            "tags": []
          },
          "execution_count": 2
        }
      ]
    },
    {
      "cell_type": "markdown",
      "metadata": {
        "id": "CrrBZeqHfrbr"
      },
      "source": [
        "### Escrevendo num arquivo"
      ]
    },
    {
      "cell_type": "code",
      "metadata": {
        "id": "_SO7pbP-frbs"
      },
      "source": [
        "primeiraLinha = 'Essa é a primeira linha'\n",
        "segundaLinha  = 'Essa é a segunda linha'"
      ],
      "execution_count": null,
      "outputs": []
    },
    {
      "cell_type": "code",
      "metadata": {
        "id": "8f-k4fEBfrbt"
      },
      "source": [
        "with open('escrever.txt','w') as escrever:\n",
        "    escrever.write(primeiraLinha)\n",
        "    escrever.write('\\n')\n",
        "    escrever.write(segundaLinha)"
      ],
      "execution_count": null,
      "outputs": []
    },
    {
      "cell_type": "markdown",
      "metadata": {
        "id": "cS-5bFhCfrbw"
      },
      "source": [
        "#### Abrindo o arquivo escrito acima"
      ]
    },
    {
      "cell_type": "code",
      "metadata": {
        "id": "d7TMOEAyfrbw",
        "colab": {
          "base_uri": "https://localhost:8080/"
        },
        "outputId": "ff31db0d-5cf0-4d04-9c47-820d91eeb9b7"
      },
      "source": [
        "with open('escrever.txt','r') as ler:\n",
        "    dados = ler.read().splitlines()\n",
        "    \n",
        "dados"
      ],
      "execution_count": null,
      "outputs": [
        {
          "output_type": "execute_result",
          "data": {
            "text/plain": [
              "['primeira linha', 'segunda linha', 'terceira linha', 'quarta linha']"
            ]
          },
          "metadata": {
            "tags": []
          },
          "execution_count": 3
        }
      ]
    },
    {
      "cell_type": "markdown",
      "metadata": {
        "id": "HKpjWFsOfrb0"
      },
      "source": [
        "#### Appending\n",
        "\n",
        "Podemos adicionar textos ou alterá-los em um arquivo criado anteriormente."
      ]
    },
    {
      "cell_type": "code",
      "metadata": {
        "id": "4nAciQyPfrb0"
      },
      "source": [
        "with open('escrever.txt','w') as txt:\n",
        "    txt.write('primeira linha')\n",
        "    txt.write('\\n')\n",
        "    txt.write('segunda linha')\n",
        "    txt.write('\\n')"
      ],
      "execution_count": null,
      "outputs": []
    },
    {
      "cell_type": "code",
      "metadata": {
        "id": "h7QQkxCdfrb2"
      },
      "source": [
        "with open('escrever.txt', 'a') as txt:\n",
        "    txt.write('terceira linha\\n')\n",
        "    txt.write('quarta linha')"
      ],
      "execution_count": null,
      "outputs": []
    },
    {
      "cell_type": "code",
      "metadata": {
        "id": "pRrtxJVCfrb4"
      },
      "source": [
        "with open('escrever.txt','r') as txt:\n",
        "    data = txt.read().splitlines()\n",
        "data"
      ],
      "execution_count": null,
      "outputs": []
    },
    {
      "cell_type": "markdown",
      "metadata": {
        "id": "DmW0QSwUfrb5"
      },
      "source": [
        "# Projeto: Criar um cadastro de alunos e lançamento de notas"
      ]
    },
    {
      "cell_type": "code",
      "metadata": {
        "id": "IJR7E2pnfrb5"
      },
      "source": [
        "#coding= latin-1 \n",
        "from math import*\n",
        "from string import* \n",
        "  \n",
        "laluno=[] \n",
        "lhr=[] \n",
        "lnota1=[]\n",
        "lnota2=[]\n",
        "lnota3=[]\n",
        "lfalta=[] \n",
        "ldiario = [laluno,lhr,lnota1,lnota2,lnota3,lfalta] \n",
        "  \n",
        "aluno=0 \n",
        "hr=0 \n",
        "nota1=0\n",
        "nota2=0\n",
        "nota3=0 \n",
        "falta=0 \n",
        "salvar_diario=0 \n",
        "ini=0\n",
        "print('Diário de nota de alunos')\n",
        "print('Escola Curso de Férias em Ciência de Dados')\n",
        "\n",
        "\n",
        "\n",
        "#A função que ira ser usada \n",
        "def menu (): \n",
        "    print ('Menu:') \n",
        "    print ('   1 - Matricular aluno') \n",
        "    print ('   2 - Remover matricula') \n",
        "    print ('   3 - Lançar notas') \n",
        "    print ('   4 - Lançar faltas') \n",
        "    print ('   5 - Listar alunos matriculados') \n",
        "    print ('   6 - Verificar situaçao de alunos')\n",
        "    print ('   7 - Ver o Diário')\n",
        "    print ('   8 - Gravar o Diário')\n",
        "    print ('   9 - Sair') \n",
        "    opt = input('Digite a opçao desejada: ') \n",
        "    return opt \n",
        "  \n",
        "def adicionar_matricula ():\n",
        "    aluno = str(input(\"Digite o nome do aluno:\"))\n",
        "    aluno=aluno.upper()\n",
        "    if aluno in laluno:\n",
        "        print('Aluno já está Matriculado')\n",
        "    else:\n",
        "        laluno.append(aluno)\n",
        "        hr=float(input(\"Digite as horas de aula do aluno:\"))\n",
        "        lhr.append(hr)\n",
        "        print('Aluno Matriculado') \n",
        "    pass \n",
        "  \n",
        "def remover_matricula (): \n",
        "    aluno=str(input(\"Digite o nome do aluno:\"))\n",
        "    aluno=aluno.upper()\n",
        "    if aluno in laluno:\n",
        "        laluno.remove(aluno) \n",
        "        print('Aluno Removido')\n",
        "    else:\n",
        "        print('Esse Aluno Não Está Matriculado') \n",
        "    pass \n",
        "  \n",
        "def lancar_notas ():\n",
        "    aluno=str(input(\"Digite o nome do aluno:\"))\n",
        "    aluno=aluno.upper()\n",
        "    if  aluno in laluno:\n",
        "        nota1=input(\"Digite a nota 1 do aluno:\")\n",
        "        nota2=input(\"Digite a nota 2 do aluno:\")\n",
        "        nota3=input(\"Digite a nota 3 do aluno:\") \n",
        "        lnota1.append(nota1)\n",
        "        lnota2.append(nota2)\n",
        "        lnota3.append(nota3)\n",
        "    else:\n",
        "        print('Esse Aluno Não Está Matriculado')\n",
        "    pass \n",
        "  \n",
        "def lancar_faltas ():\n",
        "    aluno=str(input(\"Digite o nome do aluno:\"))\n",
        "    aluno=aluno.upper()\n",
        "    if  aluno in laluno:\n",
        "        falta=float(input(\"Digite as faltas do aluno(em hora):\")) \n",
        "        lfalta.append(falta)\n",
        "    else:\n",
        "        print('Esse Aluno Não Está Matriculado')\n",
        "    pass \n",
        "  \n",
        "def listar_alunos (): \n",
        "    print('Alunos Matriculados', laluno) \n",
        "    pass \n",
        "  \n",
        "def verificar_situacao ():\n",
        "    aluno = str(input(\"Digite o nome do aluno: \"))\n",
        "    pass \n",
        "  \n",
        "def le_diario (): \n",
        "    print(ldiario) \n",
        "    pass \n",
        "\n",
        "def gravar_diario (): \n",
        "    salvar=input(\"Deseja salvar o diario:\")\n",
        "    if salvar=='sim' or salvar=='yes': \n",
        "        arquivo = open('diario.txt','r')\n",
        "        conteudo = arquivo.readlines()\n",
        "        conteudo.append('ldiario')\n",
        "        arquivo = open('diario.txt','w')\n",
        "        arquivo.writelines(conteudo)\n",
        "        arquivo.close()\n",
        "        \n",
        "        print(\"Diario Salvo\") \n",
        "        \n",
        "    else:\n",
        "        salvar=='não' or  salvar=='not'\n",
        "        print(\"Diario não Salvo\")\n",
        "    pass\n",
        "\n",
        "def salva_diario (): \n",
        "    salvar=input(\"Deseja salvar o diario:\")\n",
        "    if salvar=='sim' or salvar=='yes': \n",
        "        arquivo = open('diario.txt','r')\n",
        "        conteudo = arquivo.readlines()\n",
        "        conteudo.append('ldiario')\n",
        "        arquivo = open('diario.txt','w')\n",
        "        arquivo.writelines(conteudo)\n",
        "        arquivo.close()\n",
        "        \n",
        "        print(\"Diario Salvo\") \n",
        "        \n",
        "    else:\n",
        "        salvar=='não' or  salvar=='not'\n",
        "        print(\"Diario não Salvo\")\n",
        "    pass \n",
        "  \n",
        "le_diario() \n",
        "opcao = menu() \n",
        "while opcao != '9': \n",
        "    if opcao == '1': \n",
        "        adicionar_matricula() \n",
        "    elif opcao == '2':  \n",
        "        remover_matricula() \n",
        "    elif opcao == '3':  \n",
        "        lancar_notas() \n",
        "    elif opcao == '4':  \n",
        "        lancar_faltas() \n",
        "    elif opcao == '5':  \n",
        "        listar_alunos() \n",
        "    elif opcao == '6':  \n",
        "        verificar_situacao()\n",
        "    elif opcao == '7':\n",
        "        le_diario()\n",
        "    elif opcao == '8':\n",
        "        gravar_diario()\n",
        " \n",
        "  \n",
        "    opcao = menu() \n",
        "  \n",
        "salva_diario()"
      ],
      "execution_count": null,
      "outputs": []
    },
    {
      "cell_type": "markdown",
      "metadata": {
        "id": "tM8k9Q9tfrcq"
      },
      "source": [
        "# Importando módulos no Python (imports)"
      ]
    },
    {
      "cell_type": "markdown",
      "metadata": {
        "id": "mYNinl69frcq"
      },
      "source": [
        "Veremos como importar um módulo em sua totalidade e parcialmente, além de ilustrar que também podemos fazer isso com simples scripts Python, uma vez que um script Python na verdade é (também) um módulo.\n"
      ]
    },
    {
      "cell_type": "markdown",
      "metadata": {
        "id": "jSes6yAyfrcr"
      },
      "source": [
        "### import package\n",
        "Para importar um módulo utilizamos o import."
      ]
    },
    {
      "cell_type": "code",
      "metadata": {
        "id": "GjkpsOGFfrcr"
      },
      "source": [
        "import math\n",
        "print(math.sqrt(25))"
      ],
      "execution_count": null,
      "outputs": []
    },
    {
      "cell_type": "markdown",
      "metadata": {
        "id": "qhKJsVqLfrcs"
      },
      "source": [
        "O código acima importará todos os módulos de math, para importar apenas o necessário utilizamos from."
      ]
    },
    {
      "cell_type": "markdown",
      "metadata": {
        "id": "hfy9cNytfrcs"
      },
      "source": [
        "### from package import item\n",
        "O código abaixo importará o módulo sqrt do pacote math."
      ]
    },
    {
      "cell_type": "code",
      "metadata": {
        "id": "QDlr9O3Ifrct"
      },
      "source": [
        "from math import sqrt\n",
        "print(sqrt(25))"
      ],
      "execution_count": null,
      "outputs": []
    },
    {
      "cell_type": "markdown",
      "metadata": {
        "id": "MbSmzuGtfrcu"
      },
      "source": [
        "Observe que ao utilizar from package import item, o item pode ser um subpacote, submódulo, classe, função ou variável.\n",
        "\n",
        "O comando import primeiro testa se o item está definido no pacote, senão assume que é um módulo e tenta carregá-lo. Se falhar em encontrar o módulo uma exceção ImportError é lançada (documentação Python)"
      ]
    },
    {
      "cell_type": "markdown",
      "metadata": {
        "id": "KRlQ3XCOfrcu"
      },
      "source": [
        "### from package import *\n",
        "No terminal, para diminuir a digitação, costuma-se importar todas as funções de math dessa forma:"
      ]
    },
    {
      "cell_type": "code",
      "metadata": {
        "id": "5druje2wfrcu"
      },
      "source": [
        "from math import *"
      ],
      "execution_count": null,
      "outputs": []
    },
    {
      "cell_type": "code",
      "metadata": {
        "id": "R6LGgykIfrcw"
      },
      "source": [
        "# Inserir um exemplo"
      ],
      "execution_count": null,
      "outputs": []
    },
    {
      "cell_type": "markdown",
      "metadata": {
        "id": "JiLhQfcLfrcx"
      },
      "source": [
        "Em geral, a prática do ```import *``` de um módulo ou pacote é desaprovada, uma vez que muitas vezes dificulta a leitura do código. O uso no terminal, com dito, é muito comum."
      ]
    },
    {
      "cell_type": "markdown",
      "metadata": {
        "id": "Dw0TsJOvfrcx"
      },
      "source": [
        "### import item.subitem.subsubitem\n",
        "Em uma construção como import item.subitem.subsubitem, cada item, com exceção do último, deve ser um pacote. O último pode ser também um pacote ou módulo, mas nunca uma classe, função ou variável contida em um módulo."
      ]
    },
    {
      "cell_type": "code",
      "metadata": {
        "id": "iMnQqBqufrcx"
      },
      "source": [
        "# Inserir um exemplo"
      ],
      "execution_count": null,
      "outputs": []
    },
    {
      "cell_type": "markdown",
      "metadata": {
        "id": "rvsT6UXgfrcz"
      },
      "source": [
        "## Serve também para seus arquivos\n",
        "Ao nos deparamos pela primeira vez com o comando import, a impressão que temos é que ele funciona apenas para os módulos embutidos da linguagem Python, mas não é bem assim, veja o que a documentação diz \"Quando um módulo chamado math é importado, o interpretador procura um módulo embutido com este nome. Se não existe, procura um arquivo chamado math.py em uma lista de diretórios incluídos na variável sys.path.\""
      ]
    },
    {
      "cell_type": "markdown",
      "metadata": {
        "id": "GPZluQEDfrcz"
      },
      "source": [
        "# Bônus: Usando o Spyder\n",
        "\n",
        "O Spyder é um poderoso ambiente científico escrito em Python, para Python, e projetado por e para cientistas, engenheiros e analistas de dados. Ele oferece uma combinação exclusiva das funcionalidades avançadas de edição, análise, depuração e criação de perfil de uma ferramenta abrangente de desenvolvimento com exploração de dados, execução interativa, inspeção profunda e belos recursos de visualização de um pacote científico.\n",
        "Link para maiores informações e download: <https://www.spyder-ide.org/>"
      ]
    },
    {
      "cell_type": "markdown",
      "metadata": {
        "id": "a_gdYk0lfrc0"
      },
      "source": [
        "Usar o spyder para separar os arquivos do último exemplo, salvando-os com os nomes: classPessoa.py; classPai.py; classMae.py, classFilho.py, main.py.\n",
        "O .py é a extensão usada para identificar que um determinado arquivo é escrito em python. "
      ]
    },
    {
      "cell_type": "markdown",
      "metadata": {
        "id": "V6Pympjqfrc0"
      },
      "source": [
        "## Glossário\n",
        "### atributo\n",
        "Um dos itens nomeados de dados que compõem uma instância.\n",
        "### classe\n",
        "Um tipo de composto definido pelo usuário. Uma classe também pode ser pensada como um modelo para os objetos que são instâncias da mesma. (O iPhone é uma classe. Até dezembro de 2010, as estimativas são de que 50 milhões de instâncias tinham sido vendidas!)\n",
        "### construtor\n",
        "Cada classe tem uma “fábrica”, chamada pelo mesmo nome da classe, por fazer novas instâncias. Se a classe tem um método de inicialização, este método é usado para obter os atributos (ou seja, o estado) do novo objeto adequadamente configurado.\n",
        "### instância\n",
        "Um objeto cujo tipo é de alguma classe. Instância e objeto são usados como sinônimos.\n",
        "### instanciar\n",
        "Significa criar uma instância de uma classe e executar o seu método de inicialização.\n",
        "### linguagem orientada a objetos\n",
        "Uma linguagem que fornece recursos, como as classes definidas pelo usuário e herança, que facilitam a programação orientada a objetos.\n",
        "### método\n",
        "Uma função que é definida dentro de uma definição de classe e é chamado em instâncias dessa classe.\n",
        "### método de inicialização\n",
        "Um método especial em Python (chamado __init__) que é chamado automaticamente para configurar um objeto recém-criado no seu estado inicial (padrão de fábrica).\n",
        "### objeto\n",
        "Um tipo de dados composto que é frequentemente usado para modelar uma coisa ou conceito do mundo real. Ele agrupa os dados e as operações que são relevantes para esse tipo de dados. Instância e objeto são usados como sinônimos.\n",
        "### programação orientada a objetos\n",
        "Um estilo poderoso de programação em que os dados e as operações que os manipulam são organizados em classes e métodos."
      ]
    }
  ]
}