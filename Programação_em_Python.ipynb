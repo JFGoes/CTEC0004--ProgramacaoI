{
  "nbformat": 4,
  "nbformat_minor": 0,
  "metadata": {
    "celltoolbar": "Slideshow",
    "kernelspec": {
      "display_name": "Python 3",
      "language": "python",
      "name": "python3"
    },
    "language_info": {
      "codemirror_mode": {
        "name": "ipython",
        "version": 3
      },
      "file_extension": ".py",
      "mimetype": "text/x-python",
      "name": "python",
      "nbconvert_exporter": "python",
      "pygments_lexer": "ipython3",
      "version": "3.7.4"
    },
    "colab": {
      "provenance": [],
      "collapsed_sections": [
        "jA-mALRKfrY5",
        "E5hQiLFyfrY-",
        "8c4SBOejfrZM",
        "6B7gTXIffrZV",
        "WpiW6NkXfrZi",
        "GBTKACidfrZw",
        "kEsfx8uifraB",
        "91r4HEI9fraD",
        "Vogj0rtXfraQ",
        "jVijl8iUfrbH",
        "HtPbjREQfrb7",
        "jSes6yAyfrcr",
        "hfy9cNytfrcs",
        "KRlQ3XCOfrcu",
        "Dw0TsJOvfrcx",
        "rvsT6UXgfrcz",
        "V6Pympjqfrc0"
      ],
      "include_colab_link": true
    }
  },
  "cells": [
    {
      "cell_type": "markdown",
      "metadata": {
        "id": "view-in-github",
        "colab_type": "text"
      },
      "source": [
        "<a href=\"https://colab.research.google.com/github/JFGoes/CTEC0004--ProgramacaoI/blob/master/Programa%C3%A7%C3%A3o_em_Python.ipynb\" target=\"_parent\"><img src=\"https://colab.research.google.com/assets/colab-badge.svg\" alt=\"Open In Colab\"/></a>"
      ]
    },
    {
      "cell_type": "markdown",
      "metadata": {
        "id": "hvzb-zw4frV2"
      },
      "source": [
        "<center> \n",
        "\n",
        "# Introdução à Linguagem Python e Visualização de Dados \n",
        "\n",
        "</center>\n",
        "\n",
        "### Ministrante: \n",
        "* Josecley Fialho Góes (Professor)\n",
        "\n",
        "#Ementa:\n",
        "## Algorítmos; Representação e resolução de problemas em linguagem imperativa; Tipos elementares de dados, registros, constantes, variáveis; Expressões Aritméticas e Lógicas. Estruturas de Controle. Recursividade. Vetores, Matrizes e Strings. Arquivos. \n",
        "\n"
      ]
    },
    {
      "cell_type": "markdown",
      "metadata": {
        "id": "X2IfqgoifrV3"
      },
      "source": [
        "\n",
        "### Tópicos do Curso:\n",
        "\n",
        "Este notebook vai apenas passar pelos tópicos básicos em ordem:\n",
        "* Introdução ao Colab - Jupyter Notebook\n",
        "* Tipos de dados\n",
        "    * Números\n",
        "    * Textos -- Strings\n",
        "    * Printando\n",
        "    * Listas\n",
        "    * Dicionários\n",
        "    * Boleanos\n",
        "    * Tuplas\n",
        "    * Sets"
      ]
    },
    {
      "cell_type": "markdown",
      "metadata": {
        "id": "ZM5qlKqv8Eah"
      },
      "source": [
        "\n",
        "### Carga horária: \n",
        "\n",
        "60 horas\n",
        "### Dias e horários: \n",
        "\n",
        "às quintas-feiras, das 14 às 17:35 h \n",
        "\n",
        "### Professor: \n",
        "Josecley Góes\n",
        "\n",
        "### Assuntos:\n",
        "Introdução à linguagem Python. Principais Estruturas de Dados em Python. Principais bibliotecas para Ciência de Dados. NumPy. Matplotlib e Seaborn para visualização de dados.\n",
        "\n"
      ]
    },
    {
      "cell_type": "markdown",
      "metadata": {
        "id": "fITe9TvBfrV4"
      },
      "source": [
        "* Operadores de comparação\n",
        "* if,elif e else;\n",
        "* for Loops;\n",
        "* while Loops;\n",
        "* range();\n",
        "* list comprehension - Compreensão de Listas;\n",
        "* funções;\n",
        "* expressões lamda;\n",
        "* map e filter;\n",
        "* métodos\n",
        "* Files:\n",
        "    * Reading\n",
        "    * Writing"
      ]
    },
    {
      "cell_type": "markdown",
      "metadata": {
        "id": "r9HK-HTffrV5"
      },
      "source": [
        "## Introdução ao Colab - modos Code e Text \n",
        "\n",
        " O colab é baseado no Jupyter Notebook, que é um ambiente computacional web para a internet rica para criação de documentos para a plataforma Jupyter. O termo \"notebook\" pode, dependendo do contexto, fazer referência a entidades distintas como Jupyter (aplicativo Web), Jupyter Python (servidor Web) ou ao formato de documento para a plataforma. "
      ]
    },
    {
      "cell_type": "markdown",
      "metadata": {
        "id": "qT3GOPFifrV6"
      },
      "source": [
        "Um documento Jupyter Notebook é estruturado no formato JSON, contendo uma lista ordenada de células de entrada / saída que podem conter código, texto (usando Markdown), matemática, gráficos e texto enriquecido, geralmente terminando com a extensão \".ipynb\".\n",
        "\n",
        "\n",
        "### Comandos de atalhos\n",
        "A seguir estão alguns dos comandos de atalhos, que facilitam o uso e agilizam na hora de programar\n",
        "\n",
        "### Executar\n",
        "  * **SHIFT + ENTER**\n",
        "\n",
        "### Criar nova entrada\n",
        " * **ALT + ENTER**\n"
      ]
    },
    {
      "cell_type": "code",
      "metadata": {
        "id": "FP_ngCTIfrV6",
        "colab": {
          "base_uri": "https://localhost:8080/"
        },
        "outputId": "ffdd7dfe-e9ef-40ac-ab0b-a994f8d3573e"
      },
      "source": [
        "#Executar: SHIFT + Enter\n",
        "a = 2 #Variavel em python\n",
        "a # print(a)"
      ],
      "execution_count": null,
      "outputs": [
        {
          "output_type": "execute_result",
          "data": {
            "text/plain": [
              "2"
            ]
          },
          "metadata": {},
          "execution_count": 6
        }
      ]
    },
    {
      "cell_type": "code",
      "source": [
        "print(a)"
      ],
      "metadata": {
        "colab": {
          "base_uri": "https://localhost:8080/"
        },
        "id": "piYyKGdpcH2Y",
        "outputId": "f2e539f4-1248-428a-bdfb-9c3d0379d63d"
      },
      "execution_count": null,
      "outputs": [
        {
          "output_type": "stream",
          "name": "stdout",
          "text": [
            "2\n"
          ]
        }
      ]
    },
    {
      "cell_type": "code",
      "source": [],
      "metadata": {
        "id": "_wX4zOMHcZES"
      },
      "execution_count": null,
      "outputs": []
    },
    {
      "cell_type": "code",
      "metadata": {
        "colab": {
          "base_uri": "https://localhost:8080/"
        },
        "id": "iVXkQDBUtDSW",
        "outputId": "09da789c-09b1-4a76-a966-ca934edc2041"
      },
      "source": [
        "a"
      ],
      "execution_count": null,
      "outputs": [
        {
          "output_type": "execute_result",
          "data": {
            "text/plain": [
              "2"
            ]
          },
          "metadata": {},
          "execution_count": 5
        }
      ]
    },
    {
      "cell_type": "code",
      "metadata": {
        "colab": {
          "base_uri": "https://localhost:8080/"
        },
        "id": "NgJKb5DRIWV9",
        "outputId": "8d8cb6e5-a6f5-4785-da44-bc64f0d16f24"
      },
      "source": [
        "print(a)"
      ],
      "execution_count": null,
      "outputs": [
        {
          "output_type": "stream",
          "name": "stdout",
          "text": [
            "2\n"
          ]
        }
      ]
    },
    {
      "cell_type": "code",
      "metadata": {
        "id": "_900kqKnfrWA"
      },
      "source": [
        "# Nova Entrada: Alt + Enter"
      ],
      "execution_count": null,
      "outputs": []
    },
    {
      "cell_type": "code",
      "source": [
        "#Criou uma nova entrada, ou seja, uma nova célula"
      ],
      "metadata": {
        "id": "_jZtpnFZcn_Q"
      },
      "execution_count": null,
      "outputs": []
    },
    {
      "cell_type": "markdown",
      "metadata": {
        "id": "cZ3MJ-17frWF"
      },
      "source": [
        "#### Comando para mudar a célula de code para Text\n",
        "\n",
        "* **CTRL + M , M**\n"
      ]
    },
    {
      "cell_type": "markdown",
      "metadata": {
        "id": "iFvrpmCNfrWG"
      },
      "source": []
    },
    {
      "cell_type": "markdown",
      "metadata": {
        "id": "colnAu-6muhN"
      },
      "source": [
        "### Comando para mudar a célula de Text para Code\n",
        "* **CRTL + M, Y**"
      ]
    },
    {
      "cell_type": "markdown",
      "metadata": {
        "id": "tfma_ZPqfrWJ"
      },
      "source": [
        "## Apagar uma célula\n",
        "\n",
        "* **CRTL + M, D**"
      ]
    },
    {
      "cell_type": "markdown",
      "metadata": {
        "id": "zIA78fylfFFO"
      },
      "source": []
    },
    {
      "cell_type": "code",
      "metadata": {
        "id": "HeBHKvDNfHpM"
      },
      "source": [],
      "execution_count": null,
      "outputs": []
    },
    {
      "cell_type": "code",
      "metadata": {
        "id": "GXUJ0ERStc7Z"
      },
      "source": [],
      "execution_count": null,
      "outputs": []
    },
    {
      "cell_type": "markdown",
      "metadata": {
        "id": "3R2pb-7mteSI"
      },
      "source": []
    },
    {
      "cell_type": "markdown",
      "metadata": {
        "id": "RJ6aXE-2frWP"
      },
      "source": [
        "# Formatando o Texto:\n",
        "\n",
        "Visite o blog: https://blog.da2k.com.br/2015/02/08/aprenda-markdown/ para maiores informações e formatações."
      ]
    },
    {
      "cell_type": "code",
      "metadata": {
        "id": "wIZHyEpPfrWP"
      },
      "source": [],
      "execution_count": null,
      "outputs": []
    },
    {
      "cell_type": "markdown",
      "metadata": {
        "id": "dlGnvfUyfrWU"
      },
      "source": [
        "##  Usando Python como uma calculadora:\n",
        "\n",
        "Operações básicas: \n",
        "\n",
        "+ **Adição (+);**\n",
        "+ **Subtração (-);**\n",
        "+ **Multiplicação (*);** \n",
        "+ **Divisão (/);**\n",
        "+ **Potência ($**$ )** \n",
        "+ **Expressões**\n",
        "  + **Resto (%)** \n",
        "  + **Divisor Inteiro (/\\/\\)** \n"
      ]
    },
    {
      "cell_type": "code",
      "metadata": {
        "id": "A7eFz_RvfrWV",
        "colab": {
          "base_uri": "https://localhost:8080/"
        },
        "outputId": "2761199a-e6a0-4570-c89e-cc2042fa69d4"
      },
      "source": [
        "5 + 6 # Soma de dois números inteiros"
      ],
      "execution_count": null,
      "outputs": [
        {
          "output_type": "execute_result",
          "data": {
            "text/plain": [
              "11"
            ]
          },
          "metadata": {},
          "execution_count": 10
        }
      ]
    },
    {
      "cell_type": "code",
      "metadata": {
        "id": "ibV4IljvfrWY",
        "colab": {
          "base_uri": "https://localhost:8080/"
        },
        "outputId": "03c3963d-4382-41e9-a598-e69c06afcdf1"
      },
      "source": [
        "4.0 + 12.0 # Soma de dois números reais - floats"
      ],
      "execution_count": null,
      "outputs": [
        {
          "output_type": "execute_result",
          "data": {
            "text/plain": [
              "16.0"
            ]
          },
          "metadata": {},
          "execution_count": 12
        }
      ]
    },
    {
      "cell_type": "code",
      "source": [
        "45 + 34.0"
      ],
      "metadata": {
        "colab": {
          "base_uri": "https://localhost:8080/"
        },
        "id": "dSZxKbn4e7l2",
        "outputId": "7ebc0035-4768-4b0f-a227-79150a126326"
      },
      "execution_count": null,
      "outputs": [
        {
          "output_type": "execute_result",
          "data": {
            "text/plain": [
              "79.0"
            ]
          },
          "metadata": {},
          "execution_count": 13
        }
      ]
    },
    {
      "cell_type": "code",
      "metadata": {
        "id": "W9nMePn0frWb",
        "colab": {
          "base_uri": "https://localhost:8080/",
          "height": 34
        },
        "outputId": "e5fc6d73-68d0-46fc-978e-835f51e6d69d"
      },
      "source": [
        "1 * 3 # Multiplicação"
      ],
      "execution_count": null,
      "outputs": [
        {
          "output_type": "execute_result",
          "data": {
            "text/plain": [
              "3"
            ]
          },
          "metadata": {
            "tags": []
          },
          "execution_count": 26
        }
      ]
    },
    {
      "cell_type": "code",
      "metadata": {
        "id": "Qc6hRuv6frWf",
        "colab": {
          "base_uri": "https://localhost:8080/",
          "height": 34
        },
        "outputId": "e7d90162-9cf3-4936-abc5-cf6ae9e761b5"
      },
      "source": [
        "1 / 2 # Divisão"
      ],
      "execution_count": null,
      "outputs": [
        {
          "output_type": "execute_result",
          "data": {
            "text/plain": [
              "0.5"
            ]
          },
          "metadata": {
            "tags": []
          },
          "execution_count": 27
        }
      ]
    },
    {
      "cell_type": "code",
      "metadata": {
        "id": "FiG-mWpgfrWk",
        "colab": {
          "base_uri": "https://localhost:8080/"
        },
        "outputId": "d120deae-0606-47bf-d333-bc8a77e96877"
      },
      "source": [
        "2 ** 4 # Potência"
      ],
      "execution_count": null,
      "outputs": [
        {
          "output_type": "execute_result",
          "data": {
            "text/plain": [
              "16"
            ]
          },
          "metadata": {
            "tags": []
          },
          "execution_count": 4
        }
      ]
    },
    {
      "cell_type": "code",
      "metadata": {
        "id": "eFoRl77MfrWn",
        "colab": {
          "base_uri": "https://localhost:8080/"
        },
        "outputId": "4d565ac4-aa4f-40d8-db95-780c96001a48"
      },
      "source": [
        "10 % 3 # Resto da divisão"
      ],
      "execution_count": null,
      "outputs": [
        {
          "output_type": "execute_result",
          "data": {
            "text/plain": [
              "1"
            ]
          },
          "metadata": {
            "tags": []
          },
          "execution_count": 6
        }
      ]
    },
    {
      "cell_type": "code",
      "source": [
        "23%2"
      ],
      "metadata": {
        "colab": {
          "base_uri": "https://localhost:8080/"
        },
        "id": "Lu-uvuDSfs5o",
        "outputId": "85fa8fe1-3b86-48f2-9498-2caab2abdc10"
      },
      "execution_count": null,
      "outputs": [
        {
          "output_type": "execute_result",
          "data": {
            "text/plain": [
              "1"
            ]
          },
          "metadata": {},
          "execution_count": 14
        }
      ]
    },
    {
      "cell_type": "code",
      "metadata": {
        "colab": {
          "base_uri": "https://localhost:8080/"
        },
        "id": "dvM2tWYPLm-o",
        "outputId": "fcd902be-382f-4b56-b6ce-84c4765ef9dd"
      },
      "source": [
        "100*(10/100)"
      ],
      "execution_count": null,
      "outputs": [
        {
          "output_type": "execute_result",
          "data": {
            "text/plain": [
              "10.0"
            ]
          },
          "metadata": {
            "tags": []
          },
          "execution_count": 7
        }
      ]
    },
    {
      "cell_type": "code",
      "metadata": {
        "id": "zRC5TbANh_WU",
        "colab": {
          "base_uri": "https://localhost:8080/",
          "height": 34
        },
        "outputId": "2c9c9693-73ee-4c7a-967d-e0efced0de0d"
      },
      "source": [
        "5//3 # Parte inteira da divisão"
      ],
      "execution_count": null,
      "outputs": [
        {
          "output_type": "execute_result",
          "data": {
            "text/plain": [
              "1"
            ]
          },
          "metadata": {
            "tags": []
          },
          "execution_count": 30
        }
      ]
    },
    {
      "cell_type": "code",
      "source": [
        "5/3"
      ],
      "metadata": {
        "colab": {
          "base_uri": "https://localhost:8080/"
        },
        "id": "KGL2x3GGgPJr",
        "outputId": "66de03ff-48c3-475f-8b7e-5314052c8ec8"
      },
      "execution_count": null,
      "outputs": [
        {
          "output_type": "execute_result",
          "data": {
            "text/plain": [
              "1.6666666666666667"
            ]
          },
          "metadata": {},
          "execution_count": 15
        }
      ]
    },
    {
      "cell_type": "code",
      "source": [
        "120*(0.1) # 10% de 120"
      ],
      "metadata": {
        "colab": {
          "base_uri": "https://localhost:8080/"
        },
        "id": "rqFSjFyZgaWt",
        "outputId": "12b3fa3e-ec13-4f09-f4f9-6350b2388bc9"
      },
      "execution_count": null,
      "outputs": [
        {
          "output_type": "execute_result",
          "data": {
            "text/plain": [
              "12.0"
            ]
          },
          "metadata": {},
          "execution_count": 16
        }
      ]
    },
    {
      "cell_type": "code",
      "metadata": {
        "id": "rRCdBWO5frWu",
        "colab": {
          "base_uri": "https://localhost:8080/"
        },
        "outputId": "8b2c78af-1afa-483d-815d-0b0f130f09bb"
      },
      "source": [
        "(2 + 3) * (5 + 5)"
      ],
      "execution_count": null,
      "outputs": [
        {
          "output_type": "execute_result",
          "data": {
            "text/plain": [
              "50"
            ]
          },
          "metadata": {},
          "execution_count": 17
        }
      ]
    },
    {
      "cell_type": "markdown",
      "metadata": {
        "id": "bAiFFXpXlt_x"
      },
      "source": [
        "# **Expressão numérica**"
      ]
    },
    {
      "cell_type": "code",
      "metadata": {
        "id": "js2P40WaA94I"
      },
      "source": [],
      "execution_count": null,
      "outputs": []
    },
    {
      "cell_type": "markdown",
      "metadata": {
        "id": "BA691XtljSlB"
      },
      "source": [
        "$\n",
        "\\begin{align}\n",
        "&-54\\div\\{(-2+ \\sqrt{81})^2\\div7-[(-2^3+\\sqrt{4})\\div3]\\}\\\\\n",
        "&-54\\div\\{(-2+ 9)^2\\div7-[(-8+2)\\div3]\\}\\\\\n",
        "&-54\\div\\{(+7)^2\\div7-[(-6)\\div3]\\}\\\\\n",
        "&-54\\div\\{49\\div7-[-2]\\}\\\\\n",
        "&-54\\div\\{49\\div7+2\\}\\\\\n",
        "&-54\\div\\{7+2\\}\\\\\n",
        "&-54\\div9\\\\\n",
        "&-6\n",
        "\\end{align}\n",
        "$\n"
      ]
    },
    {
      "cell_type": "code",
      "source": [],
      "metadata": {
        "id": "HOMrvTNQhr_1"
      },
      "execution_count": null,
      "outputs": []
    },
    {
      "cell_type": "markdown",
      "metadata": {
        "id": "-CGZb9_oo_mu"
      },
      "source": [
        "# Mais comando do Python\n",
        "+ $\\sqrt{x}$ $\\qquad \\longrightarrow $ np.sqrt(x)\n",
        "\n",
        "np é uma simplificação da biblioteca [numpy](https://numpy.org/devdocs/user/quickstart.html)\n",
        "\n",
        "**NumPy** é o pacote fundamental para a computação científica com Python."
      ]
    },
    {
      "cell_type": "code",
      "metadata": {
        "id": "Lt_-Ghvbl2Fm",
        "colab": {
          "base_uri": "https://localhost:8080/",
          "height": 207
        },
        "outputId": "df749987-3d42-423c-b9c1-01a9b3e548cb"
      },
      "source": [
        "-54/((-2+sqrt(81))**2/7-((-2**3 + sqrt(4))/3))"
      ],
      "execution_count": null,
      "outputs": [
        {
          "output_type": "error",
          "ename": "NameError",
          "evalue": "ignored",
          "traceback": [
            "\u001b[0;31m---------------------------------------------------------------------------\u001b[0m",
            "\u001b[0;31mNameError\u001b[0m                                 Traceback (most recent call last)",
            "\u001b[0;32m<ipython-input-18-87f1f0a15bca>\u001b[0m in \u001b[0;36m<module>\u001b[0;34m\u001b[0m\n\u001b[0;32m----> 1\u001b[0;31m \u001b[0;34m-\u001b[0m\u001b[0;36m54\u001b[0m\u001b[0;34m/\u001b[0m\u001b[0;34m(\u001b[0m\u001b[0;34m(\u001b[0m\u001b[0;34m-\u001b[0m\u001b[0;36m2\u001b[0m\u001b[0;34m+\u001b[0m\u001b[0msqrt\u001b[0m\u001b[0;34m(\u001b[0m\u001b[0;36m81\u001b[0m\u001b[0;34m)\u001b[0m\u001b[0;34m)\u001b[0m\u001b[0;34m**\u001b[0m\u001b[0;36m2\u001b[0m\u001b[0;34m/\u001b[0m\u001b[0;36m7\u001b[0m\u001b[0;34m-\u001b[0m\u001b[0;34m(\u001b[0m\u001b[0;34m(\u001b[0m\u001b[0;34m-\u001b[0m\u001b[0;36m2\u001b[0m\u001b[0;34m**\u001b[0m\u001b[0;36m3\u001b[0m \u001b[0;34m+\u001b[0m \u001b[0msqrt\u001b[0m\u001b[0;34m(\u001b[0m\u001b[0;36m4\u001b[0m\u001b[0;34m)\u001b[0m\u001b[0;34m)\u001b[0m\u001b[0;34m/\u001b[0m\u001b[0;36m3\u001b[0m\u001b[0;34m)\u001b[0m\u001b[0;34m)\u001b[0m\u001b[0;34m\u001b[0m\u001b[0;34m\u001b[0m\u001b[0m\n\u001b[0m",
            "\u001b[0;31mNameError\u001b[0m: name 'sqrt' is not defined"
          ]
        }
      ]
    },
    {
      "cell_type": "code",
      "metadata": {
        "id": "Oyco8Fd8mx5E"
      },
      "source": [
        "import numpy as np\n"
      ],
      "execution_count": 9,
      "outputs": []
    },
    {
      "cell_type": "code",
      "metadata": {
        "id": "PoTn2tmUNeuQ"
      },
      "source": [
        "c=-54/((-2+np.sqrt(81))**2/7-((-2**3 + np.sqrt(4))/3))"
      ],
      "execution_count": null,
      "outputs": []
    },
    {
      "cell_type": "code",
      "metadata": {
        "colab": {
          "base_uri": "https://localhost:8080/"
        },
        "id": "4AoSheSbN4IV",
        "outputId": "ea873099-943d-47dc-afeb-15218f8e92b8"
      },
      "source": [
        "print(c)"
      ],
      "execution_count": null,
      "outputs": [
        {
          "output_type": "stream",
          "name": "stdout",
          "text": [
            "-6.0\n"
          ]
        }
      ]
    },
    {
      "cell_type": "code",
      "source": [
        "from numpy import sqrt # Importa apenas a função determinada, neste caso, sqrt."
      ],
      "metadata": {
        "id": "I3hZAkD6qTxf"
      },
      "execution_count": 11,
      "outputs": []
    },
    {
      "cell_type": "code",
      "source": [
        "-54/((-2+sqrt(81))**2/7-((-2**3 + sqrt(4))/3))"
      ],
      "metadata": {
        "colab": {
          "base_uri": "https://localhost:8080/"
        },
        "id": "addMNHCjqZ-O",
        "outputId": "b056f534-55a7-4fdc-ee70-e3a6b7c0de61"
      },
      "execution_count": null,
      "outputs": [
        {
          "output_type": "execute_result",
          "data": {
            "text/plain": [
              "-6.0"
            ]
          },
          "metadata": {},
          "execution_count": 26
        }
      ]
    },
    {
      "cell_type": "markdown",
      "metadata": {
        "id": "ZZXTRSHZfrWx"
      },
      "source": [
        "### Definição de variáveis e tipos de dados\n",
        "\n",
        "**Variáveis:** \n",
        "\n",
        "Uma variável é um nome que se refere a um valor. Um comando de atribuição cria uma nova variável e lhe dá um valor.\n",
        "\n",
        "Variáveis são usadas para guardarmos valores que poderão ser usados posteriormente.\n",
        "\n",
        "**Atribuição:**\n",
        "\n",
        "Um comando é uma unidade de código que o interpretador pode executar. Um comando de atribuição tem a forma:\n",
        "\n",
        "**variavel = argumento**"
      ]
    },
    {
      "cell_type": "code",
      "metadata": {
        "id": "-dsHB8T4frWx"
      },
      "source": [
        "# Não se pode iniciar uma variável com números ou carateres especais\n",
        "nome_da_variavel = 2"
      ],
      "execution_count": null,
      "outputs": []
    },
    {
      "cell_type": "code",
      "metadata": {
        "id": "69Zetvy8J1OS"
      },
      "source": [
        "idade = 39\n",
        "altura = 1.66\n",
        "peso = 80.3\n",
        "nota_aval01 =  9.5\n",
        "nota_trab02 = 8.5\n",
        "\n",
        "sexo = \"masc\"\n"
      ],
      "execution_count": null,
      "outputs": []
    },
    {
      "cell_type": "code",
      "metadata": {
        "id": "VcOZ0xbgfrW2"
      },
      "source": [
        "x = 7\n",
        "y = 3"
      ],
      "execution_count": null,
      "outputs": []
    },
    {
      "cell_type": "code",
      "metadata": {
        "id": "J5RzXbTcJ0KD"
      },
      "source": [
        "z = x + y"
      ],
      "execution_count": null,
      "outputs": []
    },
    {
      "cell_type": "code",
      "metadata": {
        "id": "kxX49jPHfrW5",
        "colab": {
          "base_uri": "https://localhost:8080/"
        },
        "outputId": "c4ad263f-5f4d-4602-bfd8-4f2768146ff0"
      },
      "source": [
        "z"
      ],
      "execution_count": null,
      "outputs": [
        {
          "output_type": "execute_result",
          "data": {
            "text/plain": [
              "10"
            ]
          },
          "metadata": {},
          "execution_count": 31
        }
      ]
    },
    {
      "cell_type": "code",
      "source": [
        "w = z**2\n",
        "print(w)"
      ],
      "metadata": {
        "colab": {
          "base_uri": "https://localhost:8080/"
        },
        "id": "okSP_RsouYjT",
        "outputId": "6ee0f226-2f23-4c06-fd02-ec6cf211c132"
      },
      "execution_count": null,
      "outputs": [
        {
          "output_type": "stream",
          "name": "stdout",
          "text": [
            "100\n"
          ]
        }
      ]
    },
    {
      "cell_type": "markdown",
      "metadata": {
        "id": "eURvSHxpJy2K"
      },
      "source": [
        "# Tipos de dados\n",
        "\n",
        "+ type(nome_da_variavel)"
      ]
    },
    {
      "cell_type": "code",
      "metadata": {
        "id": "sUcDDW_6frW8",
        "colab": {
          "base_uri": "https://localhost:8080/"
        },
        "outputId": "0b05d232-86c9-49c8-dfa5-b34edbff134a"
      },
      "source": [
        "type(idade)"
      ],
      "execution_count": null,
      "outputs": [
        {
          "output_type": "execute_result",
          "data": {
            "text/plain": [
              "int"
            ]
          },
          "metadata": {},
          "execution_count": 34
        }
      ]
    },
    {
      "cell_type": "code",
      "metadata": {
        "id": "od7mp2YHfrW-",
        "colab": {
          "base_uri": "https://localhost:8080/"
        },
        "outputId": "9e1336ca-fd21-499c-c6db-1bd191e577c3"
      },
      "source": [
        "type(altura)"
      ],
      "execution_count": null,
      "outputs": [
        {
          "output_type": "execute_result",
          "data": {
            "text/plain": [
              "float"
            ]
          },
          "metadata": {},
          "execution_count": 35
        }
      ]
    },
    {
      "cell_type": "code",
      "metadata": {
        "colab": {
          "base_uri": "https://localhost:8080/"
        },
        "id": "koWITa5aO6Hn",
        "outputId": "d74f830d-4500-4d63-cb1b-8e3c3a0f1210"
      },
      "source": [
        "type(sexo)"
      ],
      "execution_count": null,
      "outputs": [
        {
          "output_type": "execute_result",
          "data": {
            "text/plain": [
              "str"
            ]
          },
          "metadata": {},
          "execution_count": 36
        }
      ]
    },
    {
      "cell_type": "code",
      "metadata": {
        "id": "2IpEB78AfrXC",
        "colab": {
          "base_uri": "https://localhost:8080/"
        },
        "outputId": "40a1e036-e037-471f-da88-8456c48f6dcb"
      },
      "source": [
        "x = 4\n",
        "y = 10\n",
        "z  = x*y\n",
        "z"
      ],
      "execution_count": null,
      "outputs": [
        {
          "output_type": "execute_result",
          "data": {
            "text/plain": [
              "40"
            ]
          },
          "metadata": {},
          "execution_count": 37
        }
      ]
    },
    {
      "cell_type": "markdown",
      "metadata": {
        "id": "vlE22VO9frYs"
      },
      "source": [
        "### Booleanos"
      ]
    },
    {
      "cell_type": "markdown",
      "metadata": {
        "id": "nKYyVqN_YdMX"
      },
      "source": [
        "#### Valores do tipo booleano são dados do tipo primitivo da computação resumida apenas aos valores:\n",
        "\n",
        "1.   Verdadeiro(True)\n",
        "2.   Falso(False)\n",
        "\n"
      ]
    },
    {
      "cell_type": "code",
      "metadata": {
        "id": "_53kOWGpfrYs",
        "colab": {
          "base_uri": "https://localhost:8080/",
          "height": 34
        },
        "outputId": "36533e70-6eab-419d-d8fb-49eaf1037668"
      },
      "source": [
        "True"
      ],
      "execution_count": null,
      "outputs": [
        {
          "output_type": "execute_result",
          "data": {
            "text/plain": [
              "True"
            ]
          },
          "metadata": {
            "tags": []
          },
          "execution_count": 71
        }
      ]
    },
    {
      "cell_type": "code",
      "metadata": {
        "id": "uL7saDwifrYu",
        "colab": {
          "base_uri": "https://localhost:8080/",
          "height": 34
        },
        "outputId": "92df9fe0-21cf-4d05-ad22-8816b3ed52a1"
      },
      "source": [
        "False"
      ],
      "execution_count": null,
      "outputs": [
        {
          "output_type": "execute_result",
          "data": {
            "text/plain": [
              "False"
            ]
          },
          "metadata": {
            "tags": []
          },
          "execution_count": 72
        }
      ]
    },
    {
      "cell_type": "code",
      "source": [
        "b = 5>3\n",
        "b"
      ],
      "metadata": {
        "colab": {
          "base_uri": "https://localhost:8080/"
        },
        "id": "GtoAGKY0vUuT",
        "outputId": "1b6d7a34-a335-455c-ca33-dc9ee66a96d6"
      },
      "execution_count": null,
      "outputs": [
        {
          "output_type": "execute_result",
          "data": {
            "text/plain": [
              "True"
            ]
          },
          "metadata": {},
          "execution_count": 41
        }
      ]
    },
    {
      "cell_type": "code",
      "source": [
        "c = 4<=1"
      ],
      "metadata": {
        "id": "FFpTnMdZvc34"
      },
      "execution_count": null,
      "outputs": []
    },
    {
      "cell_type": "code",
      "source": [
        "print(c)"
      ],
      "metadata": {
        "colab": {
          "base_uri": "https://localhost:8080/"
        },
        "id": "nQBjWYD-vqY_",
        "outputId": "a1081b71-c257-46ad-9563-1942cdfd3233"
      },
      "execution_count": null,
      "outputs": [
        {
          "output_type": "stream",
          "name": "stdout",
          "text": [
            "False\n"
          ]
        }
      ]
    },
    {
      "cell_type": "markdown",
      "metadata": {
        "id": "Mkx6K_rp8-xC"
      },
      "source": [
        "## EXERCÍCIO DIÁRIO\n",
        "### Dia 1\n"
      ]
    },
    {
      "cell_type": "markdown",
      "metadata": {
        "id": "2nLbYZ3CtmEx"
      },
      "source": [
        "#### Resolva esses exercícios de fixação da matéria abordada:\n",
        "\n",
        "\n",
        "1.   Resolva a equação abaixo:\n",
        "\n",
        "$\n",
        "\\begin{align}\n",
        "S = S_0 + V_0t + \\frac{at^2}{2}\n",
        "\\end{align}\n",
        "$\n",
        "\n",
        "Sendo dados, $S_0 = 0, V_0 = 12m/s, t = 10s, S = 50m$.  Defina primeiramente os valores dados e, posteriormente, reescreva a equação em função da aceleração (\"a\"):\n",
        "\n",
        "\n",
        "\n",
        "\n",
        "\n",
        "\n",
        "\n",
        "\n",
        "\n",
        "\n",
        "\n",
        "\n"
      ]
    },
    {
      "cell_type": "code",
      "source": [
        "#Solução questão 01\n",
        "S0 = 0\n",
        "V0 = 12 #m/s\n",
        "t = 10 # segundos\n",
        "S = 50 # metros\n",
        "\n",
        "a = (2/t**2) * (S - S0 - V0 * t)\n",
        "\n",
        "print(f'A aceleração é igual a: {a:0.2f} m/s^2')"
      ],
      "metadata": {
        "colab": {
          "base_uri": "https://localhost:8080/"
        },
        "id": "lik-EiLXwwcP",
        "outputId": "86769945-d104-4509-b1a1-6c7660832741"
      },
      "execution_count": null,
      "outputs": [
        {
          "output_type": "stream",
          "name": "stdout",
          "text": [
            "A aceleração é igual a: -1.40 m/s^2\n"
          ]
        }
      ]
    },
    {
      "cell_type": "markdown",
      "source": [
        "\n",
        "-----------\n",
        "\n",
        "2.   Faça um código para resolver o seguinte problema. \n",
        "\n",
        "Tenho uma parede retangular com a área (A) medida em metros quadrados, que é preciso ser pintada. A razão da quantidade de litros pela aréa da parede (Ra) é Litros/m². De acordo com a área retangular informada pelo cliente, você deverá retorná-lo com a quantidade de litros(x) necessária para a pintura da área. Diante disso, qual será a resposta para os seguintes pedidos abaixo?\n",
        "\n",
        "a) Área da parede é 50m² e a tinta tem razão de 0,5 Litros/m²:\n",
        "\n",
        "b) Área da parede é 25m² e a tinta tem razão de 2 Litros/m²:\n",
        "\n",
        "c) A parede tem altura de 2m e largura de 5m e a tinta tem a razão de 0,8 Litros/m²:\n",
        "\n",
        "--------\n",
        "\n",
        "3. Considerando a questão 2, sabendo que cada lata tem 5 litros, faça em vez da resposta em litros, quantas latas a pessoa precisará comprar.\n"
      ],
      "metadata": {
        "id": "10nJlxWUxAZy"
      }
    },
    {
      "cell_type": "code",
      "source": [
        "#Solução questão 01\n"
      ],
      "metadata": {
        "id": "xruqb_NixPrM"
      },
      "execution_count": null,
      "outputs": []
    },
    {
      "cell_type": "markdown",
      "source": [
        "---\n",
        "####Resolva a equação quadrática: \n",
        "$$a*x^2 + b*x + c = 0$$"
      ],
      "metadata": {
        "id": "ruZ277vsYDuI"
      }
    },
    {
      "cell_type": "code",
      "source": [
        "a =int(input(\"Entre com o valor de a: \"))\n",
        "b =int(input(\"Entre com o valor de b: \"))\n",
        "c =int(input(\"Entre com o valor de c: \"))\n",
        "\n",
        "D = -b - 4*a*c\n",
        "print(f\"Delta = {D}\\n\")\n",
        "x1 = (-b + sqrt(D))/(2*a)\n",
        "x2 = (-b - sqrt(D))/(2*a)\n",
        "print(f'x1 = {x1:.2f} \\nx2 = {x2:.2f}')"
      ],
      "metadata": {
        "colab": {
          "base_uri": "https://localhost:8080/"
        },
        "id": "fov6EEyX0x3x",
        "outputId": "f84e0d98-0fd3-4ab1-d4a5-aac6fbe277d4"
      },
      "execution_count": 12,
      "outputs": [
        {
          "output_type": "stream",
          "name": "stdout",
          "text": [
            "Entre com o valor de a: 1\n",
            "Entre com o valor de b: 3\n",
            "Entre com o valor de c: -4\n",
            "Delta = 13\n",
            "\n",
            "x1 = 0.30 \n",
            "x2 = -3.30\n"
          ]
        }
      ]
    },
    {
      "cell_type": "markdown",
      "metadata": {
        "id": "RI7ftZfQfrXG"
      },
      "source": [
        "### Strings"
      ]
    },
    {
      "cell_type": "markdown",
      "metadata": {
        "id": "X8J8E-2VC-5t"
      },
      "source": [
        "####String é um conjunto ordenado de caracteres - palavras, frases, textos...\n",
        "\n",
        "Representamos strings com aspas simples ou duplas."
      ]
    },
    {
      "cell_type": "code",
      "metadata": {
        "id": "iMTLihkrfrXH",
        "colab": {
          "base_uri": "https://localhost:8080/",
          "height": 36
        },
        "outputId": "e7cdc6b5-d86f-4948-8f35-b11b27eb7abd"
      },
      "source": [
        "'Citação simples'"
      ],
      "execution_count": null,
      "outputs": [
        {
          "output_type": "execute_result",
          "data": {
            "text/plain": [
              "'Citação simples'"
            ],
            "application/vnd.google.colaboratory.intrinsic+json": {
              "type": "string"
            }
          },
          "metadata": {},
          "execution_count": 1
        }
      ]
    },
    {
      "cell_type": "code",
      "metadata": {
        "id": "cYO1SE5QfrXK",
        "colab": {
          "base_uri": "https://localhost:8080/",
          "height": 36
        },
        "outputId": "b2fc9984-8ad2-4be8-b371-e56ba7e0555a"
      },
      "source": [
        "\"Citações duplas\""
      ],
      "execution_count": null,
      "outputs": [
        {
          "output_type": "execute_result",
          "data": {
            "text/plain": [
              "'Citações duplas'"
            ],
            "application/vnd.google.colaboratory.intrinsic+json": {
              "type": "string"
            }
          },
          "metadata": {},
          "execution_count": 2
        }
      ]
    },
    {
      "cell_type": "markdown",
      "source": [],
      "metadata": {
        "id": "bY0STifhbjYb"
      }
    },
    {
      "cell_type": "markdown",
      "source": [],
      "metadata": {
        "id": "CsFQU0NzbjRh"
      }
    },
    {
      "cell_type": "code",
      "metadata": {
        "id": "clm8NbD1frXN",
        "colab": {
          "base_uri": "https://localhost:8080/",
          "height": 36
        },
        "outputId": "cdd55fec-0910-44e1-972e-29624dfe0be0"
      },
      "source": [
        "'s'"
      ],
      "execution_count": null,
      "outputs": [
        {
          "output_type": "execute_result",
          "data": {
            "text/plain": [
              "'s'"
            ],
            "application/vnd.google.colaboratory.intrinsic+json": {
              "type": "string"
            }
          },
          "metadata": {},
          "execution_count": 3
        }
      ]
    },
    {
      "cell_type": "markdown",
      "metadata": {
        "id": "YyMTSAAuDJPV"
      },
      "source": [
        "#####Começar com aspa simples e terminar com dupla, dá erro.\n",
        "\n",
        "#####E o inverso também.\n",
        "\n",
        "#####Para strings com várias linhas, usar três aspas simples - ou duplas.\n",
        "\n",
        "#####O \\n (que aparece ao executar) indica quebra de linha."
      ]
    },
    {
      "cell_type": "code",
      "metadata": {
        "colab": {
          "base_uri": "https://localhost:8080/",
          "height": 36
        },
        "id": "m6fyCxotDZ6m",
        "outputId": "f1f7513e-85f4-4bfd-bd0a-eb7befb9582d"
      },
      "source": [
        "'''Linha 0\n",
        "Linha 1\n",
        "comentários em \n",
        "várias \n",
        "linhas\n",
        "'''"
      ],
      "execution_count": null,
      "outputs": [
        {
          "output_type": "execute_result",
          "data": {
            "text/plain": [
              "'Linha 0\\nLinha 1\\ncomentários em \\nvárias \\nlinhas\\n'"
            ],
            "application/vnd.google.colaboratory.intrinsic+json": {
              "type": "string"
            }
          },
          "metadata": {},
          "execution_count": 5
        }
      ]
    },
    {
      "cell_type": "markdown",
      "metadata": {
        "id": "9JSd6oiFfrXT"
      },
      "source": [
        "### Printando"
      ]
    },
    {
      "cell_type": "markdown",
      "metadata": {
        "id": "nNMzcvUqHX6n"
      },
      "source": [
        "####A função print(), basicamente, é responsável por exibir mensagens na tela."
      ]
    },
    {
      "cell_type": "code",
      "metadata": {
        "id": "aQ01x5gQfrXU"
      },
      "source": [
        "x = 'ola'"
      ],
      "execution_count": null,
      "outputs": []
    },
    {
      "cell_type": "code",
      "metadata": {
        "id": "q30jffE0frXX",
        "colab": {
          "base_uri": "https://localhost:8080/",
          "height": 36
        },
        "outputId": "32982552-675f-4468-c05c-63d4d1bec8bc"
      },
      "source": [
        "x"
      ],
      "execution_count": null,
      "outputs": [
        {
          "output_type": "execute_result",
          "data": {
            "text/plain": [
              "'ola'"
            ],
            "application/vnd.google.colaboratory.intrinsic+json": {
              "type": "string"
            }
          },
          "metadata": {},
          "execution_count": 7
        }
      ]
    },
    {
      "cell_type": "code",
      "metadata": {
        "id": "--eOkp1LfrXa",
        "colab": {
          "base_uri": "https://localhost:8080/"
        },
        "outputId": "1e5a76d5-04a8-45e1-c1f1-b83d526da112"
      },
      "source": [
        "type(x)"
      ],
      "execution_count": null,
      "outputs": [
        {
          "output_type": "execute_result",
          "data": {
            "text/plain": [
              "str"
            ]
          },
          "metadata": {},
          "execution_count": 8
        }
      ]
    },
    {
      "cell_type": "code",
      "metadata": {
        "id": "KJiyaHSBfrXc",
        "colab": {
          "base_uri": "https://localhost:8080/"
        },
        "outputId": "f493e160-bc0d-4e62-b986-946dbb902426"
      },
      "source": [
        "print(x)"
      ],
      "execution_count": null,
      "outputs": [
        {
          "output_type": "stream",
          "name": "stdout",
          "text": [
            "ola\n"
          ]
        }
      ]
    },
    {
      "cell_type": "code",
      "metadata": {
        "id": "vBNGeAMBfrXf"
      },
      "source": [
        "num = 12\n",
        "nome = 'Sam'"
      ],
      "execution_count": null,
      "outputs": []
    },
    {
      "cell_type": "code",
      "metadata": {
        "id": "hIeBj1qGfrXh",
        "colab": {
          "base_uri": "https://localhost:8080/"
        },
        "outputId": "96906e68-0b96-4253-cdb2-02b5b3f8d88c"
      },
      "source": [
        "print('Meu número é: {one}, e meu nome é: {two}'.format(one=num,two=nome))"
      ],
      "execution_count": null,
      "outputs": [
        {
          "output_type": "stream",
          "name": "stdout",
          "text": [
            "Meu número é: 12, e meu nome é: Sam\n"
          ]
        }
      ]
    },
    {
      "cell_type": "code",
      "source": [
        "print(f\"Meu número é: {num}, e meu nome é: {nome}\")"
      ],
      "metadata": {
        "id": "XomgCAKxfznj",
        "colab": {
          "base_uri": "https://localhost:8080/"
        },
        "outputId": "3adfb958-fbaf-4593-a173-e38c12575372"
      },
      "execution_count": null,
      "outputs": [
        {
          "output_type": "stream",
          "name": "stdout",
          "text": [
            "Meu número é: 12, e meu nome é: Sam\n"
          ]
        }
      ]
    },
    {
      "cell_type": "markdown",
      "metadata": {
        "id": "BUJES3IRQCjd"
      },
      "source": [
        "Exercício: Pesquise outras formas de formatar a saída do print:"
      ]
    },
    {
      "cell_type": "code",
      "metadata": {
        "id": "SeydTmzKQCLG"
      },
      "source": [],
      "execution_count": null,
      "outputs": []
    },
    {
      "cell_type": "markdown",
      "metadata": {
        "id": "PxhFbeIBfrXk"
      },
      "source": [
        "### Listas\n",
        "\n",
        "Listas são mutáveis. Diferentemente de strings, listas são mutáveis (mutable). Isto significa que podemos alterar um item em uma lista acessando-o diretamente como parte do comando de atribuição. Usando o operador e indexação (colchetes) à esquerda de um comando de atribuição, podemos atualizar um dos itens de uma lista."
      ]
    },
    {
      "cell_type": "code",
      "metadata": {
        "id": "jjmScSJrfrXl",
        "colab": {
          "base_uri": "https://localhost:8080/"
        },
        "outputId": "2c181280-3539-4604-8575-28a12e011889"
      },
      "source": [
        "[1,2,3]"
      ],
      "execution_count": null,
      "outputs": [
        {
          "output_type": "execute_result",
          "data": {
            "text/plain": [
              "[1, 2, 3]"
            ]
          },
          "metadata": {},
          "execution_count": 14
        }
      ]
    },
    {
      "cell_type": "code",
      "source": [
        "l = ['nome','endereco', 234,[4,5,6],30.5]\n",
        "print(l)"
      ],
      "metadata": {
        "colab": {
          "base_uri": "https://localhost:8080/"
        },
        "id": "RkSb9ONghHJN",
        "outputId": "0da09fe1-a35c-431f-eabc-687d2d9873c5"
      },
      "execution_count": null,
      "outputs": [
        {
          "output_type": "stream",
          "name": "stdout",
          "text": [
            "['nome', 'endereco', 234, [4, 5, 6], 30.5]\n"
          ]
        }
      ]
    },
    {
      "cell_type": "markdown",
      "metadata": {
        "id": "kKk7_IXFHxwq"
      },
      "source": [
        "####É possível acrescentar listas como elementos dentro de outras listas."
      ]
    },
    {
      "cell_type": "code",
      "metadata": {
        "id": "Atf59K_yfrXo",
        "colab": {
          "base_uri": "https://localhost:8080/"
        },
        "outputId": "947cd60e-b1ed-4aa6-a671-02139e8b916e"
      },
      "source": [
        "['hi',1,[1,2]]"
      ],
      "execution_count": null,
      "outputs": [
        {
          "output_type": "execute_result",
          "data": {
            "text/plain": [
              "['hi', 1, [1, 2]]"
            ]
          },
          "metadata": {},
          "execution_count": 18
        }
      ]
    },
    {
      "cell_type": "markdown",
      "metadata": {
        "id": "uLMoquq_H5jt"
      },
      "source": [
        "####Adicionando elementos na lista"
      ]
    },
    {
      "cell_type": "code",
      "source": [
        "a = 'Josecley'"
      ],
      "metadata": {
        "id": "xGjtUrkUkvWo"
      },
      "execution_count": null,
      "outputs": []
    },
    {
      "cell_type": "code",
      "metadata": {
        "id": "9wAdl5WkfrXr",
        "colab": {
          "base_uri": "https://localhost:8080/"
        },
        "outputId": "4a0f63d3-60d1-4875-d11d-ea72aaac592e"
      },
      "source": [
        "minha_lista = [a,'b','c'] # o elemento a (variável a)\n",
        "print(minha_lista)"
      ],
      "execution_count": null,
      "outputs": [
        {
          "output_type": "stream",
          "name": "stdout",
          "text": [
            "['Josecley', 'b', 'c']\n"
          ]
        }
      ]
    },
    {
      "cell_type": "code",
      "source": [
        "minha_lista = ['a','b','c'] # o elemento a (string a)\n",
        "print(minha_lista)"
      ],
      "metadata": {
        "colab": {
          "base_uri": "https://localhost:8080/"
        },
        "id": "9JkK7dxYlVwm",
        "outputId": "b42f8aef-6319-43f7-fac4-a58dc777ba64"
      },
      "execution_count": null,
      "outputs": [
        {
          "output_type": "stream",
          "name": "stdout",
          "text": [
            "['a', 'b', 'c']\n"
          ]
        }
      ]
    },
    {
      "cell_type": "code",
      "metadata": {
        "id": "P5xNcQkyfrXt"
      },
      "source": [
        "minha_lista.append('d')#adciona elemento no final da lista: append"
      ],
      "execution_count": null,
      "outputs": []
    },
    {
      "cell_type": "code",
      "metadata": {
        "id": "THsb3IfWfrXv",
        "colab": {
          "base_uri": "https://localhost:8080/"
        },
        "outputId": "dca40b46-6b87-454d-ded5-78319ea5daa0"
      },
      "source": [
        "minha_lista"
      ],
      "execution_count": null,
      "outputs": [
        {
          "output_type": "execute_result",
          "data": {
            "text/plain": [
              "['a', 'b', 'c', 'd']"
            ]
          },
          "metadata": {},
          "execution_count": 32
        }
      ]
    },
    {
      "cell_type": "code",
      "metadata": {
        "id": "xuNfl9OrfrXy",
        "colab": {
          "base_uri": "https://localhost:8080/"
        },
        "outputId": "39bc39d7-37e8-46e1-b11e-edacd86fb963"
      },
      "source": [
        "minha_lista.append(100)\n",
        "minha_lista\n"
      ],
      "execution_count": null,
      "outputs": [
        {
          "output_type": "execute_result",
          "data": {
            "text/plain": [
              "['a', 'b', 'c', 'd', 100]"
            ]
          },
          "metadata": {},
          "execution_count": 33
        }
      ]
    },
    {
      "cell_type": "markdown",
      "metadata": {
        "id": "y2_QC_k6IBik"
      },
      "source": [
        "####Procurando elementos da lista de acordo com a sua posição. Vale ressaltar que o primeiro elemento de uma lista sempre é classificado como elemento 0."
      ]
    },
    {
      "cell_type": "code",
      "metadata": {
        "id": "nXeocWaZfrX4",
        "colab": {
          "base_uri": "https://localhost:8080/",
          "height": 36
        },
        "outputId": "1c18950b-4bf0-4d61-ce79-91851700ac3d"
      },
      "source": [
        "minha_lista[0]"
      ],
      "execution_count": null,
      "outputs": [
        {
          "output_type": "execute_result",
          "data": {
            "text/plain": [
              "'a'"
            ],
            "application/vnd.google.colaboratory.intrinsic+json": {
              "type": "string"
            }
          },
          "metadata": {},
          "execution_count": 34
        }
      ]
    },
    {
      "cell_type": "code",
      "metadata": {
        "id": "9XFo066afrX8",
        "colab": {
          "base_uri": "https://localhost:8080/",
          "height": 36
        },
        "outputId": "4a9be23c-f03e-4216-ca41-2043792f3c52"
      },
      "source": [
        "minha_lista[1]"
      ],
      "execution_count": null,
      "outputs": [
        {
          "output_type": "execute_result",
          "data": {
            "text/plain": [
              "'b'"
            ],
            "application/vnd.google.colaboratory.intrinsic+json": {
              "type": "string"
            }
          },
          "metadata": {},
          "execution_count": 35
        }
      ]
    },
    {
      "cell_type": "code",
      "source": [
        "print(minha_lista[-1]) # pega o último elemento da lista\n",
        "print(minha_lista[4])"
      ],
      "metadata": {
        "colab": {
          "base_uri": "https://localhost:8080/"
        },
        "id": "YHcL9L_anGO0",
        "outputId": "b528a545-14ab-4502-b193-d5a83152bf59"
      },
      "execution_count": null,
      "outputs": [
        {
          "output_type": "stream",
          "name": "stdout",
          "text": [
            "100\n",
            "100\n"
          ]
        }
      ]
    },
    {
      "cell_type": "code",
      "source": [],
      "metadata": {
        "id": "on4wErL-nlP_"
      },
      "execution_count": null,
      "outputs": []
    },
    {
      "cell_type": "markdown",
      "metadata": {
        "id": "FGhq20LCIXA_"
      },
      "source": [
        "####Escolhendo elementos da lista dentro de determinados intervalos"
      ]
    },
    {
      "cell_type": "code",
      "source": [
        "minha_lista"
      ],
      "metadata": {
        "colab": {
          "base_uri": "https://localhost:8080/"
        },
        "id": "KU100BHuppqU",
        "outputId": "87391f84-1b37-46f6-c3fc-679438e135c0"
      },
      "execution_count": null,
      "outputs": [
        {
          "output_type": "execute_result",
          "data": {
            "text/plain": [
              "['a', 'b', 'c', 'd', 100]"
            ]
          },
          "metadata": {},
          "execution_count": 41
        }
      ]
    },
    {
      "cell_type": "code",
      "metadata": {
        "id": "uw_YLRetfrX_",
        "colab": {
          "base_uri": "https://localhost:8080/"
        },
        "outputId": "ef735d21-4c4b-4129-9501-d6c3eedbfc37"
      },
      "source": [
        "minha_lista[1:] # mostra os elementos da lista incluindo o indice 1"
      ],
      "execution_count": null,
      "outputs": [
        {
          "output_type": "execute_result",
          "data": {
            "text/plain": [
              "['b', 'c', 'd', 100]"
            ]
          },
          "metadata": {},
          "execution_count": 44
        }
      ]
    },
    {
      "cell_type": "code",
      "metadata": {
        "id": "gOzLxLD8frYB",
        "colab": {
          "base_uri": "https://localhost:8080/"
        },
        "outputId": "3c4231f3-d12e-48db-a7de-91999558cc8e"
      },
      "source": [
        "minha_lista[:3]"
      ],
      "execution_count": null,
      "outputs": [
        {
          "output_type": "execute_result",
          "data": {
            "text/plain": [
              "['a', 'b', 'c']"
            ]
          },
          "metadata": {},
          "execution_count": 45
        }
      ]
    },
    {
      "cell_type": "code",
      "metadata": {
        "colab": {
          "base_uri": "https://localhost:8080/"
        },
        "id": "OufGkwvCR4nX",
        "outputId": "bd0a7974-67f3-4865-c858-74429ad77f91"
      },
      "source": [
        "minha_lista[1:4] # [1,4) em relação aos índices"
      ],
      "execution_count": null,
      "outputs": [
        {
          "output_type": "execute_result",
          "data": {
            "text/plain": [
              "['b', 'c', 'd']"
            ]
          },
          "metadata": {},
          "execution_count": 47
        }
      ]
    },
    {
      "cell_type": "code",
      "source": [
        "minha_lista"
      ],
      "metadata": {
        "colab": {
          "base_uri": "https://localhost:8080/"
        },
        "id": "6ExC2szQqzKd",
        "outputId": "1364c7cc-6c37-4c76-9b2e-b0897ff4c426"
      },
      "execution_count": null,
      "outputs": [
        {
          "output_type": "execute_result",
          "data": {
            "text/plain": [
              "['a', 'b', 'c', 'd', 100]"
            ]
          },
          "metadata": {},
          "execution_count": 48
        }
      ]
    },
    {
      "cell_type": "code",
      "metadata": {
        "id": "lTg13Wt0frYF"
      },
      "source": [
        "minha_lista[0] = 'NOVO'"
      ],
      "execution_count": null,
      "outputs": []
    },
    {
      "cell_type": "code",
      "metadata": {
        "id": "JBldW0BSfrYJ",
        "colab": {
          "base_uri": "https://localhost:8080/"
        },
        "outputId": "f390c1ca-3255-4fc7-dd67-c8ed2030e0de"
      },
      "source": [
        "minha_lista"
      ],
      "execution_count": null,
      "outputs": [
        {
          "output_type": "execute_result",
          "data": {
            "text/plain": [
              "['NOVO', 'b', 'c', 'd', 100]"
            ]
          },
          "metadata": {},
          "execution_count": 50
        }
      ]
    },
    {
      "cell_type": "code",
      "source": [
        "minha_lista[3] = '123'\n",
        "minha_lista"
      ],
      "metadata": {
        "colab": {
          "base_uri": "https://localhost:8080/"
        },
        "id": "jBzU-CPjrA-r",
        "outputId": "803dafe2-4210-4347-e24f-cf4928a8563f"
      },
      "execution_count": null,
      "outputs": [
        {
          "output_type": "execute_result",
          "data": {
            "text/plain": [
              "['NOVO', 'b', 'c', '123', 100]"
            ]
          },
          "metadata": {},
          "execution_count": 52
        }
      ]
    },
    {
      "cell_type": "code",
      "source": [
        "minha_lista[2] = 123\n",
        "minha_lista"
      ],
      "metadata": {
        "colab": {
          "base_uri": "https://localhost:8080/"
        },
        "id": "DXbQIi6crODz",
        "outputId": "bffda778-4151-4d38-e1e6-04c3f7a059d9"
      },
      "execution_count": null,
      "outputs": [
        {
          "output_type": "execute_result",
          "data": {
            "text/plain": [
              "['NOVO', 'b', 123, '123', 100]"
            ]
          },
          "metadata": {},
          "execution_count": 53
        }
      ]
    },
    {
      "cell_type": "code",
      "source": [
        "type(minha_lista[2])"
      ],
      "metadata": {
        "colab": {
          "base_uri": "https://localhost:8080/"
        },
        "id": "OgMLy-MIrWPD",
        "outputId": "c9aac021-fb61-41f2-b67f-4606dcaad31c"
      },
      "execution_count": null,
      "outputs": [
        {
          "output_type": "execute_result",
          "data": {
            "text/plain": [
              "int"
            ]
          },
          "metadata": {},
          "execution_count": 54
        }
      ]
    },
    {
      "cell_type": "code",
      "source": [
        "type(minha_lista[3])"
      ],
      "metadata": {
        "colab": {
          "base_uri": "https://localhost:8080/"
        },
        "id": "EBa-iYfnrenK",
        "outputId": "9722528b-e0b8-4c7a-90ac-cfce9d29ff99"
      },
      "execution_count": null,
      "outputs": [
        {
          "output_type": "execute_result",
          "data": {
            "text/plain": [
              "str"
            ]
          },
          "metadata": {},
          "execution_count": 55
        }
      ]
    },
    {
      "cell_type": "code",
      "metadata": {
        "id": "dTq4bVVIfrYN"
      },
      "source": [
        "nest = [1,2,3,[4,5,['target']]]   "
      ],
      "execution_count": null,
      "outputs": []
    },
    {
      "cell_type": "code",
      "metadata": {
        "id": "iMO72LrRfrYP",
        "colab": {
          "base_uri": "https://localhost:8080/"
        },
        "outputId": "867d68e8-29bc-4112-ef9f-9ed22649fb48"
      },
      "source": [
        "nest[3]"
      ],
      "execution_count": null,
      "outputs": [
        {
          "output_type": "execute_result",
          "data": {
            "text/plain": [
              "[4, 5, ['target']]"
            ]
          },
          "metadata": {},
          "execution_count": 57
        }
      ]
    },
    {
      "cell_type": "code",
      "metadata": {
        "id": "BvzrEvRxfrYR",
        "colab": {
          "base_uri": "https://localhost:8080/"
        },
        "outputId": "63b867c0-074e-4e5d-8ec5-cb7016613996"
      },
      "source": [
        "nest[3][2]"
      ],
      "execution_count": null,
      "outputs": [
        {
          "output_type": "execute_result",
          "data": {
            "text/plain": [
              "['target']"
            ]
          },
          "metadata": {
            "tags": []
          },
          "execution_count": 54
        }
      ]
    },
    {
      "cell_type": "code",
      "metadata": {
        "id": "IwOtRU3ZfrYU",
        "colab": {
          "base_uri": "https://localhost:8080/",
          "height": 35
        },
        "outputId": "14fd2bc6-3574-4a36-c19b-5d2a93e0be8f"
      },
      "source": [
        "nest[3][2][0]"
      ],
      "execution_count": null,
      "outputs": [
        {
          "output_type": "execute_result",
          "data": {
            "application/vnd.google.colaboratory.intrinsic+json": {
              "type": "string"
            },
            "text/plain": [
              "'target'"
            ]
          },
          "metadata": {
            "tags": []
          },
          "execution_count": 55
        }
      ]
    },
    {
      "cell_type": "code",
      "metadata": {
        "id": "PduJwUA2TEQv"
      },
      "source": [
        "nest1 = [1,2,3,[4,5,['target',8]]]"
      ],
      "execution_count": null,
      "outputs": []
    },
    {
      "cell_type": "code",
      "metadata": {
        "colab": {
          "base_uri": "https://localhost:8080/"
        },
        "id": "3nGBOSQoTJEO",
        "outputId": "3205339b-7d45-44fd-f37b-e9fb99c99fed"
      },
      "source": [
        "print(nest1)"
      ],
      "execution_count": null,
      "outputs": [
        {
          "output_type": "stream",
          "text": [
            "[1, 2, 3, [4, 5, ['target', 8]]]\n"
          ],
          "name": "stdout"
        }
      ]
    },
    {
      "cell_type": "code",
      "metadata": {
        "colab": {
          "base_uri": "https://localhost:8080/"
        },
        "id": "zzCH1Mx3TMvB",
        "outputId": "82b77e8c-8018-417d-e76e-dc36cce2c48c"
      },
      "source": [
        "nest1[3][2][1]"
      ],
      "execution_count": null,
      "outputs": [
        {
          "output_type": "execute_result",
          "data": {
            "text/plain": [
              "8"
            ]
          },
          "metadata": {
            "tags": []
          },
          "execution_count": 60
        }
      ]
    },
    {
      "cell_type": "code",
      "metadata": {
        "id": "dD7oZFDJfrYW"
      },
      "source": [
        "nomes = ['{<python>}','{c++}','{java}','{<fortran>}']"
      ],
      "execution_count": null,
      "outputs": []
    },
    {
      "cell_type": "code",
      "metadata": {
        "id": "OScHmqZRfrYb",
        "colab": {
          "base_uri": "https://localhost:8080/",
          "height": 36
        },
        "outputId": "dff3bb96-ece9-48b4-d931-28a85439890b"
      },
      "source": [
        "nomes[1]"
      ],
      "execution_count": null,
      "outputs": [
        {
          "output_type": "execute_result",
          "data": {
            "text/plain": [
              "'{c++}'"
            ],
            "application/vnd.google.colaboratory.intrinsic+json": {
              "type": "string"
            }
          },
          "metadata": {},
          "execution_count": 59
        }
      ]
    },
    {
      "cell_type": "code",
      "metadata": {
        "id": "t9xLp-oQfrYd",
        "colab": {
          "base_uri": "https://localhost:8080/",
          "height": 36
        },
        "outputId": "c2c52472-d484-496a-8da1-e3a7dd807fac"
      },
      "source": [
        "nomes[-1]"
      ],
      "execution_count": null,
      "outputs": [
        {
          "output_type": "execute_result",
          "data": {
            "text/plain": [
              "'{<fortran>}'"
            ],
            "application/vnd.google.colaboratory.intrinsic+json": {
              "type": "string"
            }
          },
          "metadata": {},
          "execution_count": 60
        }
      ]
    },
    {
      "cell_type": "code",
      "metadata": {
        "colab": {
          "base_uri": "https://localhost:8080/",
          "height": 36
        },
        "id": "T6SzCxBsT5nq",
        "outputId": "5830a07f-1271-4b85-fcec-7f4c9f27b51d"
      },
      "source": [
        "nomes[-3]"
      ],
      "execution_count": null,
      "outputs": [
        {
          "output_type": "execute_result",
          "data": {
            "text/plain": [
              "'{c++}'"
            ],
            "application/vnd.google.colaboratory.intrinsic+json": {
              "type": "string"
            }
          },
          "metadata": {},
          "execution_count": 61
        }
      ]
    },
    {
      "cell_type": "code",
      "source": [
        "l1 = [5,6,7]\n",
        "l2 = [3,4,'c',l1]\n",
        "l3 = [1,2,l2]\n",
        "l3"
      ],
      "metadata": {
        "colab": {
          "base_uri": "https://localhost:8080/"
        },
        "id": "p_cn1dxAXah2",
        "outputId": "6a010500-3a74-4df4-d02c-989f0f270d7a"
      },
      "execution_count": 1,
      "outputs": [
        {
          "output_type": "execute_result",
          "data": {
            "text/plain": [
              "[1, 2, [3, 4, 'c', [5, 6, 7]]]"
            ]
          },
          "metadata": {},
          "execution_count": 1
        }
      ]
    },
    {
      "cell_type": "code",
      "source": [
        "l3[1]"
      ],
      "metadata": {
        "colab": {
          "base_uri": "https://localhost:8080/"
        },
        "id": "gjly3ApKXquT",
        "outputId": "27a49062-cd88-4e3d-ad67-1d1bff6c9873"
      },
      "execution_count": 2,
      "outputs": [
        {
          "output_type": "execute_result",
          "data": {
            "text/plain": [
              "2"
            ]
          },
          "metadata": {},
          "execution_count": 2
        }
      ]
    },
    {
      "cell_type": "code",
      "source": [
        "l3[2]"
      ],
      "metadata": {
        "colab": {
          "base_uri": "https://localhost:8080/"
        },
        "id": "WMf9cvAeXu09",
        "outputId": "7b30ff1c-ea7b-4d64-ade1-db02d0b07b1f"
      },
      "execution_count": 3,
      "outputs": [
        {
          "output_type": "execute_result",
          "data": {
            "text/plain": [
              "[3, 4, 'c', [5, 6, 7]]"
            ]
          },
          "metadata": {},
          "execution_count": 3
        }
      ]
    },
    {
      "cell_type": "code",
      "source": [
        "l3[2][2]"
      ],
      "metadata": {
        "colab": {
          "base_uri": "https://localhost:8080/",
          "height": 36
        },
        "id": "9r_XEI4DXxX5",
        "outputId": "9f542a3a-6365-425e-b536-254f8320ef79"
      },
      "execution_count": 4,
      "outputs": [
        {
          "output_type": "execute_result",
          "data": {
            "text/plain": [
              "'c'"
            ],
            "application/vnd.google.colaboratory.intrinsic+json": {
              "type": "string"
            }
          },
          "metadata": {},
          "execution_count": 4
        }
      ]
    },
    {
      "cell_type": "code",
      "source": [
        "l3[2][3]"
      ],
      "metadata": {
        "colab": {
          "base_uri": "https://localhost:8080/"
        },
        "id": "8ZvIpUZ4X2zJ",
        "outputId": "2ceb3e95-09f3-4490-c659-a18b2ebfe885"
      },
      "execution_count": 5,
      "outputs": [
        {
          "output_type": "execute_result",
          "data": {
            "text/plain": [
              "[5, 6, 7]"
            ]
          },
          "metadata": {},
          "execution_count": 5
        }
      ]
    },
    {
      "cell_type": "code",
      "source": [
        "l3[2][3][1]"
      ],
      "metadata": {
        "colab": {
          "base_uri": "https://localhost:8080/"
        },
        "id": "fz3G8hN3X5h4",
        "outputId": "f5f81b21-f526-45c2-b80b-cf1935422535"
      },
      "execution_count": 6,
      "outputs": [
        {
          "output_type": "execute_result",
          "data": {
            "text/plain": [
              "6"
            ]
          },
          "metadata": {},
          "execution_count": 6
        }
      ]
    },
    {
      "cell_type": "markdown",
      "metadata": {
        "id": "mgr1-E1-frYh"
      },
      "source": [
        "### Dicionários"
      ]
    },
    {
      "cell_type": "markdown",
      "metadata": {
        "id": "bZ-_7Tb3Z_c2"
      },
      "source": [
        "#### Dicionários são usados quando precisamos de uma maneira especial para identificar uma séries de dados em uma variável. Nele podemos definir o nome do indice de cada elemento."
      ]
    },
    {
      "cell_type": "code",
      "metadata": {
        "id": "yZmG_p_AfrYh"
      },
      "source": [
        "d = {'chave1':'item1','chave2':'item2'}"
      ],
      "execution_count": null,
      "outputs": []
    },
    {
      "cell_type": "code",
      "metadata": {
        "id": "hWBXm7EDfrYk",
        "colab": {
          "base_uri": "https://localhost:8080/"
        },
        "outputId": "1dcd5b61-2ce9-49e3-9b78-9a017634aa74"
      },
      "source": [
        "d"
      ],
      "execution_count": null,
      "outputs": [
        {
          "output_type": "execute_result",
          "data": {
            "text/plain": [
              "{'chave1': 'item1', 'chave2': 'item2'}"
            ]
          },
          "metadata": {},
          "execution_count": 63
        }
      ]
    },
    {
      "cell_type": "code",
      "metadata": {
        "id": "bfnL0l66frYp",
        "colab": {
          "base_uri": "https://localhost:8080/",
          "height": 36
        },
        "outputId": "3fe754a3-a125-41eb-bf12-7ef0bf1a9ec3"
      },
      "source": [
        "d['chave1']"
      ],
      "execution_count": null,
      "outputs": [
        {
          "output_type": "execute_result",
          "data": {
            "text/plain": [
              "'item1'"
            ],
            "application/vnd.google.colaboratory.intrinsic+json": {
              "type": "string"
            }
          },
          "metadata": {},
          "execution_count": 64
        }
      ]
    },
    {
      "cell_type": "code",
      "metadata": {
        "id": "1-pxXBUlV8qG",
        "colab": {
          "base_uri": "https://localhost:8080/"
        },
        "outputId": "f4b2da55-4e22-4bd0-e123-56f0c7ab8a37"
      },
      "source": [
        "type(d)"
      ],
      "execution_count": null,
      "outputs": [
        {
          "output_type": "execute_result",
          "data": {
            "text/plain": [
              "dict"
            ]
          },
          "metadata": {},
          "execution_count": 65
        }
      ]
    },
    {
      "cell_type": "code",
      "metadata": {
        "id": "gYjfJrICZFNP"
      },
      "source": [],
      "execution_count": null,
      "outputs": []
    },
    {
      "cell_type": "markdown",
      "metadata": {
        "id": "ad7LV-6MfrYw"
      },
      "source": [
        "### Tuplas"
      ]
    },
    {
      "cell_type": "markdown",
      "metadata": {
        "id": "DYvMnXMKKBqT"
      },
      "source": [
        "####Diferentemente das Listas, as Tuplas são imutáveis, ou seja, não é possível retirar ou acrescentar elementos nessas sequências."
      ]
    },
    {
      "cell_type": "code",
      "metadata": {
        "id": "RVekDwlkfrYw"
      },
      "source": [
        "t = (1,2,3)"
      ],
      "execution_count": null,
      "outputs": []
    },
    {
      "cell_type": "code",
      "metadata": {
        "scrolled": true,
        "id": "iyOam89rfrYy",
        "colab": {
          "base_uri": "https://localhost:8080/"
        },
        "outputId": "8c564a82-daa4-411a-c113-11a17cd7924d"
      },
      "source": [
        "t[0]"
      ],
      "execution_count": null,
      "outputs": [
        {
          "output_type": "execute_result",
          "data": {
            "text/plain": [
              "1"
            ]
          },
          "metadata": {},
          "execution_count": 68
        }
      ]
    },
    {
      "cell_type": "code",
      "metadata": {
        "id": "hsi7e2KhfrY1",
        "colab": {
          "base_uri": "https://localhost:8080/",
          "height": 169
        },
        "outputId": "d0883097-4c73-45f6-8f28-f47703d30a91"
      },
      "source": [
        "t[0] = \"NEW\""
      ],
      "execution_count": null,
      "outputs": [
        {
          "output_type": "error",
          "ename": "TypeError",
          "evalue": "ignored",
          "traceback": [
            "\u001b[0;31m---------------------------------------------------------------------------\u001b[0m",
            "\u001b[0;31mTypeError\u001b[0m                                 Traceback (most recent call last)",
            "\u001b[0;32m<ipython-input-71-f97ddc837ffd>\u001b[0m in \u001b[0;36m<module>\u001b[0;34m\u001b[0m\n\u001b[0;32m----> 1\u001b[0;31m \u001b[0mt\u001b[0m\u001b[0;34m[\u001b[0m\u001b[0;36m0\u001b[0m\u001b[0;34m]\u001b[0m \u001b[0;34m=\u001b[0m \u001b[0;34m\"NEW\"\u001b[0m\u001b[0;34m\u001b[0m\u001b[0;34m\u001b[0m\u001b[0m\n\u001b[0m",
            "\u001b[0;31mTypeError\u001b[0m: 'tuple' object does not support item assignment"
          ]
        }
      ]
    },
    {
      "cell_type": "markdown",
      "metadata": {
        "id": "edqR5BKOnN1C"
      },
      "source": [
        "###EXERCÍCIO DIÁRIO\n",
        "###Dia 2\n",
        "\n",
        "1. Crie um print que mostre os dados de uma pessoa da seguinte forma:\n",
        "```\n",
        " *********************** Identidade ***************************\n",
        " Nome: Julio Nogueira\n",
        " Numero de Telefone: 123123123123\n",
        " RG: 123123\n",
        " Dinheiro em conta: R$723.00\n",
        " 3 primeiros numero cartão de credito: 123\n",
        " **************************************************************\n",
        "```\n",
        "\n"
      ]
    },
    {
      "cell_type": "markdown",
      "metadata": {
        "id": "jA-mALRKfrY5"
      },
      "source": [
        "### Sets"
      ]
    },
    {
      "cell_type": "markdown",
      "metadata": {
        "id": "zQ1hDDtDLJ3t"
      },
      "source": [
        "####Os sets são uma coleção de itens desordenada, parcialmente imutável e que não podem conter elementos duplicados. Por ser parcialmente imutável, os sets possuem permissão de adição e remoção de elementos.\n",
        "\n",
        "####Além disso, os sets são utilizados, normalmente, com operações matemáticas de união, interseção e diferença simétrica."
      ]
    },
    {
      "cell_type": "code",
      "metadata": {
        "id": "zRMrhT7ZfrY5",
        "colab": {
          "base_uri": "https://localhost:8080/"
        },
        "outputId": "b929df4a-ce95-4c42-f28c-9dbd3f49d968"
      },
      "source": [
        "{1,2,3}"
      ],
      "execution_count": null,
      "outputs": [
        {
          "output_type": "execute_result",
          "data": {
            "text/plain": [
              "{1, 2, 3}"
            ]
          },
          "metadata": {},
          "execution_count": 72
        }
      ]
    },
    {
      "cell_type": "code",
      "metadata": {
        "id": "1WooZkP4frY7",
        "colab": {
          "base_uri": "https://localhost:8080/"
        },
        "outputId": "8b7badb1-294a-44fe-fc94-37510d5b5f1e"
      },
      "source": [
        "{1,2,3,1,2,1,2,3,3,3,3,2,2,2,1,1,2}"
      ],
      "execution_count": null,
      "outputs": [
        {
          "output_type": "execute_result",
          "data": {
            "text/plain": [
              "{1, 2, 3}"
            ]
          },
          "metadata": {},
          "execution_count": 73
        }
      ]
    },
    {
      "cell_type": "code",
      "metadata": {
        "colab": {
          "base_uri": "https://localhost:8080/"
        },
        "id": "4keJs3r-LW0P",
        "outputId": "f79bd601-0faf-4efd-e684-654e43f7686c"
      },
      "source": [
        "y = set(\"exemplo\")\n",
        "print (y)"
      ],
      "execution_count": null,
      "outputs": [
        {
          "output_type": "stream",
          "name": "stdout",
          "text": [
            "{'x', 'o', 'e', 'm', 'p', 'l'}\n"
          ]
        }
      ]
    },
    {
      "cell_type": "code",
      "metadata": {
        "colab": {
          "base_uri": "https://localhost:8080/"
        },
        "id": "NJ8IY1qPL8Wb",
        "outputId": "392f7924-33b1-41a7-ace5-944185806c0f"
      },
      "source": [
        "y.add(3) #Adicionando o elemento 3 ao set\n",
        "print(y)"
      ],
      "execution_count": null,
      "outputs": [
        {
          "output_type": "stream",
          "name": "stdout",
          "text": [
            "{'x', 3, 'o', 'e', 'm', 'p', 'l'}\n"
          ]
        }
      ]
    },
    {
      "cell_type": "code",
      "metadata": {
        "colab": {
          "base_uri": "https://localhost:8080/"
        },
        "id": "_dCoZ0a9OWrV",
        "outputId": "26bb3c85-510c-4d09-eb50-8951e1a99256"
      },
      "source": [
        "y.remove('x') #Retirando o elemento 'x' do set\n",
        "print(y)"
      ],
      "execution_count": null,
      "outputs": [
        {
          "output_type": "stream",
          "name": "stdout",
          "text": [
            "{3, 'o', 'e', 'm', 'p', 'l'}\n"
          ]
        }
      ]
    },
    {
      "cell_type": "markdown",
      "metadata": {
        "id": "E5hQiLFyfrY-"
      },
      "source": [
        "## Operadores de comparação"
      ]
    },
    {
      "cell_type": "markdown",
      "metadata": {
        "id": "cNf7whZRa9Ll"
      },
      "source": [
        "#### Operadores de comparação são responsáveis pela comparação dos valores a partir de um critério estabelecido respondendo apenas com valores booleanos."
      ]
    },
    {
      "cell_type": "code",
      "metadata": {
        "id": "EiWPYjeMfrY-",
        "colab": {
          "base_uri": "https://localhost:8080/"
        },
        "outputId": "f9f98a6d-349d-41a4-d57a-932cd4a1c226"
      },
      "source": [
        "1 > 2"
      ],
      "execution_count": null,
      "outputs": [
        {
          "output_type": "execute_result",
          "data": {
            "text/plain": [
              "False"
            ]
          },
          "metadata": {},
          "execution_count": 83
        }
      ]
    },
    {
      "cell_type": "code",
      "metadata": {
        "id": "U9Gfxd7yfrZA",
        "colab": {
          "base_uri": "https://localhost:8080/"
        },
        "outputId": "9929073d-2f95-4d9d-ad95-5a8ec9e4ede3"
      },
      "source": [
        "1 < 2"
      ],
      "execution_count": null,
      "outputs": [
        {
          "output_type": "execute_result",
          "data": {
            "text/plain": [
              "True"
            ]
          },
          "metadata": {},
          "execution_count": 84
        }
      ]
    },
    {
      "cell_type": "code",
      "metadata": {
        "id": "2a37sgE2frZC",
        "colab": {
          "base_uri": "https://localhost:8080/"
        },
        "outputId": "36e6ebe2-5f9f-428a-a009-22091d150591"
      },
      "source": [
        "1 >= 1"
      ],
      "execution_count": null,
      "outputs": [
        {
          "output_type": "execute_result",
          "data": {
            "text/plain": [
              "True"
            ]
          },
          "metadata": {},
          "execution_count": 85
        }
      ]
    },
    {
      "cell_type": "code",
      "metadata": {
        "id": "V6zDTOhTfrZF",
        "colab": {
          "base_uri": "https://localhost:8080/"
        },
        "outputId": "e584f804-c165-48fe-a16d-816148145fdd"
      },
      "source": [
        "1 <= 4"
      ],
      "execution_count": null,
      "outputs": [
        {
          "output_type": "execute_result",
          "data": {
            "text/plain": [
              "True"
            ]
          },
          "metadata": {},
          "execution_count": 86
        }
      ]
    },
    {
      "cell_type": "code",
      "metadata": {
        "id": "L-Ct1dl5frZH",
        "colab": {
          "base_uri": "https://localhost:8080/"
        },
        "outputId": "f8b085bd-d0ac-48fc-e783-3c6d8795c8f4"
      },
      "source": [
        "1 == 1"
      ],
      "execution_count": null,
      "outputs": [
        {
          "output_type": "execute_result",
          "data": {
            "text/plain": [
              "True"
            ]
          },
          "metadata": {},
          "execution_count": 87
        }
      ]
    },
    {
      "cell_type": "code",
      "metadata": {
        "id": "-b3tFznjfrZJ",
        "colab": {
          "base_uri": "https://localhost:8080/"
        },
        "outputId": "5d1a0368-f93c-4efc-d04e-67772b44cb67"
      },
      "source": [
        "'oi' == 'tchau'"
      ],
      "execution_count": null,
      "outputs": [
        {
          "output_type": "execute_result",
          "data": {
            "text/plain": [
              "False"
            ]
          },
          "metadata": {},
          "execution_count": 88
        }
      ]
    },
    {
      "cell_type": "markdown",
      "metadata": {
        "id": "8c4SBOejfrZM"
      },
      "source": [
        "## Operadores lógicos"
      ]
    },
    {
      "cell_type": "code",
      "metadata": {
        "id": "tAYRTcV_frZM",
        "colab": {
          "base_uri": "https://localhost:8080/"
        },
        "outputId": "5cb027f4-42ee-4b22-fc3c-4ba8251674e0"
      },
      "source": [
        "(1 > 2) and (2 < 3)"
      ],
      "execution_count": null,
      "outputs": [
        {
          "output_type": "execute_result",
          "data": {
            "text/plain": [
              "False"
            ]
          },
          "metadata": {},
          "execution_count": 89
        }
      ]
    },
    {
      "cell_type": "code",
      "metadata": {
        "id": "Bu93ZqMJfrZQ",
        "colab": {
          "base_uri": "https://localhost:8080/"
        },
        "outputId": "05d04655-0fe9-4748-807e-7d20c4e0c674"
      },
      "source": [
        "(1 > 2) or (2 < 3)"
      ],
      "execution_count": null,
      "outputs": [
        {
          "output_type": "execute_result",
          "data": {
            "text/plain": [
              "True"
            ]
          },
          "metadata": {},
          "execution_count": 90
        }
      ]
    },
    {
      "cell_type": "code",
      "metadata": {
        "id": "76MXCjkIb0OD",
        "colab": {
          "base_uri": "https://localhost:8080/"
        },
        "outputId": "29307a30-ae4c-440a-d0c4-4e76391cafa9"
      },
      "source": [
        "not (1 > 2)"
      ],
      "execution_count": null,
      "outputs": [
        {
          "output_type": "execute_result",
          "data": {
            "text/plain": [
              "True"
            ]
          },
          "metadata": {},
          "execution_count": 91
        }
      ]
    },
    {
      "cell_type": "code",
      "metadata": {
        "id": "9tBrG4CFfrZS",
        "colab": {
          "base_uri": "https://localhost:8080/"
        },
        "outputId": "58369e86-1af3-441e-a9fd-e84c6791cdb1"
      },
      "source": [
        "(1 == 2) or (2 == 3) or (4 == 4)"
      ],
      "execution_count": null,
      "outputs": [
        {
          "output_type": "execute_result",
          "data": {
            "text/plain": [
              "True"
            ]
          },
          "metadata": {},
          "execution_count": 92
        }
      ]
    },
    {
      "cell_type": "markdown",
      "metadata": {
        "id": "6B7gTXIffrZV"
      },
      "source": [
        "## if,elif, else"
      ]
    },
    {
      "cell_type": "markdown",
      "metadata": {
        "id": "oo1qfZRcSwby"
      },
      "source": [
        "####São estruturas de condição que permitem avaliar determinada expressão."
      ]
    },
    {
      "cell_type": "code",
      "metadata": {
        "id": "A-74k_zsfrZW",
        "colab": {
          "base_uri": "https://localhost:8080/"
        },
        "outputId": "e86bf964-cb0b-40a8-c096-8f145ed0c307"
      },
      "source": [
        "if 1 < 2:\n",
        "    print('Sim!')"
      ],
      "execution_count": null,
      "outputs": [
        {
          "output_type": "stream",
          "text": [
            "Sim!\n"
          ],
          "name": "stdout"
        }
      ]
    },
    {
      "cell_type": "code",
      "metadata": {
        "id": "7l-6jYY8frZY",
        "colab": {
          "base_uri": "https://localhost:8080/"
        },
        "outputId": "3f4c0131-befb-4815-b609-0d79e789582a"
      },
      "source": [
        "if 1 < 2:\n",
        "    print('Primeiro')\n",
        "else:\n",
        "    print('Último')"
      ],
      "execution_count": null,
      "outputs": [
        {
          "output_type": "stream",
          "text": [
            "Primeiro\n"
          ],
          "name": "stdout"
        }
      ]
    },
    {
      "cell_type": "code",
      "metadata": {
        "id": "sa7hIxLHfrZc",
        "colab": {
          "base_uri": "https://localhost:8080/"
        },
        "outputId": "017f355f-9642-49fa-a38e-d4853317320b"
      },
      "source": [
        "if 1 > 2:\n",
        "    print('Primeiro')\n",
        "else:\n",
        "    print('Último')"
      ],
      "execution_count": null,
      "outputs": [
        {
          "output_type": "stream",
          "text": [
            "Último\n"
          ],
          "name": "stdout"
        }
      ]
    },
    {
      "cell_type": "code",
      "metadata": {
        "id": "6S2IUGBQfrZg",
        "colab": {
          "base_uri": "https://localhost:8080/"
        },
        "outputId": "bca5d86c-8310-4f19-8864-6e8c6b89efb2"
      },
      "source": [
        "if 1 == 2:\n",
        "    print('Primeiro')\n",
        "elif 3 == 3:\n",
        "    print('Meio')\n",
        "else:\n",
        "    print('Último')"
      ],
      "execution_count": null,
      "outputs": [
        {
          "output_type": "stream",
          "text": [
            "Meio\n"
          ],
          "name": "stdout"
        }
      ]
    },
    {
      "cell_type": "code",
      "metadata": {
        "colab": {
          "base_uri": "https://localhost:8080/"
        },
        "id": "TJlDyn0dRWY7",
        "outputId": "3354cdfb-d14b-45c1-ac82-5f32794b2534"
      },
      "source": [
        "n = 1\n",
        "z = 3\n",
        "\n",
        "if n < z:\n",
        "  print(\"{ene} é menor que {ze}\".format(ene=n, ze=z))\n",
        "elif n == z:\n",
        "  print(\"{ene} é igual a {ze}\".format(ene=n, ze=z))\n",
        "else:\n",
        "  print(\"{ene} é maior que {ze}\".format(ene=n, ze=z))"
      ],
      "execution_count": null,
      "outputs": [
        {
          "output_type": "stream",
          "text": [
            "1 é menor que 3\n"
          ],
          "name": "stdout"
        }
      ]
    },
    {
      "cell_type": "markdown",
      "metadata": {
        "id": "WpiW6NkXfrZi"
      },
      "source": [
        "## for Loops"
      ]
    },
    {
      "cell_type": "markdown",
      "metadata": {
        "id": "wuvsbz1OS-Cp"
      },
      "source": [
        "####Loops correspondem a laços de repetição que executam determinado trecho do código até que determinada quantidade pré-determinada seja alcançada."
      ]
    },
    {
      "cell_type": "code",
      "metadata": {
        "id": "nshtWQgOfrZi"
      },
      "source": [
        "seq = [1,2,3,4,5]"
      ],
      "execution_count": null,
      "outputs": []
    },
    {
      "cell_type": "code",
      "metadata": {
        "id": "I3iKR0RIfrZl"
      },
      "source": [
        "for item in seq:\n",
        "    print(item)"
      ],
      "execution_count": null,
      "outputs": []
    },
    {
      "cell_type": "code",
      "metadata": {
        "id": "EixUHb_afrZo"
      },
      "source": [
        "for item in seq:\n",
        "    print('!')"
      ],
      "execution_count": null,
      "outputs": []
    },
    {
      "cell_type": "code",
      "metadata": {
        "id": "LPU-StS2frZr"
      },
      "source": [
        "for outra_coisa in seq:\n",
        "    print(outra_coisa+outra_coisa)"
      ],
      "execution_count": null,
      "outputs": []
    },
    {
      "cell_type": "code",
      "metadata": {
        "id": "gkwUiyiIfrZt"
      },
      "source": [
        "# A lista nomes foi inserida anteriormente. Vamos acessar seus elementos atavés do for:\n",
        "for elementos in nomes:\n",
        "    print(elementos)"
      ],
      "execution_count": null,
      "outputs": []
    },
    {
      "cell_type": "markdown",
      "metadata": {
        "id": "GBTKACidfrZw"
      },
      "source": [
        "### Limpando uma lista ou removendo caracteres indesejados"
      ]
    },
    {
      "cell_type": "code",
      "metadata": {
        "id": "YDgdg7cRfrZw"
      },
      "source": [
        "naoQueremos = \"{}<>\""
      ],
      "execution_count": null,
      "outputs": []
    },
    {
      "cell_type": "code",
      "metadata": {
        "id": "4cuFgnx2frZ0"
      },
      "source": [
        "novaLista = []\n",
        "for elementos in nomes:\n",
        "    dados = ''\n",
        "    for letra in elementos:\n",
        "          if letra not in naoQueremos:\n",
        "                dados += letra\n",
        "    novaLista.append(dados)"
      ],
      "execution_count": null,
      "outputs": []
    },
    {
      "cell_type": "code",
      "metadata": {
        "id": "JS8DKixwfrZ1"
      },
      "source": [
        "novaLista"
      ],
      "execution_count": null,
      "outputs": []
    },
    {
      "cell_type": "code",
      "metadata": {
        "id": "7nB7TbjufrZ4"
      },
      "source": [
        "nomes"
      ],
      "execution_count": null,
      "outputs": []
    },
    {
      "cell_type": "code",
      "metadata": {
        "id": "hkdKb99cfrZ6"
      },
      "source": [
        "for i in range(len(nomes)):\n",
        "    dados = ''\n",
        "    for letra in nomes[i]:\n",
        "          if letra not in naoQueremos:\n",
        "                dados += letra\n",
        "    nomes[i] = dados"
      ],
      "execution_count": null,
      "outputs": []
    },
    {
      "cell_type": "code",
      "metadata": {
        "id": "2IuWAPASfrZ8"
      },
      "source": [
        "nomes"
      ],
      "execution_count": null,
      "outputs": []
    },
    {
      "cell_type": "code",
      "metadata": {
        "id": "YK7eDEpdfrZ_"
      },
      "source": [
        "len(nomes)"
      ],
      "execution_count": null,
      "outputs": []
    },
    {
      "cell_type": "markdown",
      "metadata": {
        "id": "kEsfx8uifraB"
      },
      "source": [
        "## while Loops"
      ]
    },
    {
      "cell_type": "markdown",
      "metadata": {
        "id": "XBowijXvTcqm"
      },
      "source": [
        "####While corresponde a um laço de repetição que acontece \"enquanto\" determinada condição não é atingida."
      ]
    },
    {
      "cell_type": "code",
      "metadata": {
        "id": "3Mw06EonfraB"
      },
      "source": [
        "i = 1\n",
        "while i < 5:\n",
        "    print('i is: {}'.format(i))\n",
        "    i = i+1"
      ],
      "execution_count": null,
      "outputs": []
    },
    {
      "cell_type": "code",
      "metadata": {
        "id": "e2Rf03K4Tx2D"
      },
      "source": [
        "n = 0\n",
        "while n != -3:\n",
        "  print(\"{ene} é diferente de -3.\".format(ene=n))\n",
        "  n -= 1\n",
        "\n",
        "print(\"\\nn é igual a -3.\") #Fim do loop While"
      ],
      "execution_count": null,
      "outputs": []
    },
    {
      "cell_type": "code",
      "metadata": {
        "id": "4R2PpACCUd7Q"
      },
      "source": [
        "z = 7\n",
        "while z > 2:\n",
        "  print(\"Objetivo não atingido.\")\n",
        "  z -= 1\n",
        "\n",
        "print(\"\\nObjetivo atingido. Fim do loop!\") #Fim do loop While"
      ],
      "execution_count": null,
      "outputs": []
    },
    {
      "cell_type": "markdown",
      "metadata": {
        "id": "91r4HEI9fraD"
      },
      "source": [
        "## range()"
      ]
    },
    {
      "cell_type": "markdown",
      "metadata": {
        "id": "7Gocajl5V-gk"
      },
      "source": [
        "####Com a função range() podem ser determinados o início, o meio e o fim de uma sequência."
      ]
    },
    {
      "cell_type": "code",
      "metadata": {
        "id": "u7xN6DzDfraD"
      },
      "source": [
        "range(5) #Início subentendido: 0"
      ],
      "execution_count": null,
      "outputs": []
    },
    {
      "cell_type": "code",
      "metadata": {
        "id": "6mxwsO8PfraF"
      },
      "source": [
        "for i in range(5):\n",
        "    print(i)"
      ],
      "execution_count": null,
      "outputs": []
    },
    {
      "cell_type": "code",
      "metadata": {
        "id": "Qze8kZuWfraG"
      },
      "source": [
        "list(range(5))"
      ],
      "execution_count": null,
      "outputs": []
    },
    {
      "cell_type": "code",
      "metadata": {
        "id": "bCsZpYaTXDkU"
      },
      "source": [
        "for i in range (3, 8): #Sendo 3 o valor inicial da sequência e 8 o seu final. \n",
        "  print(i)"
      ],
      "execution_count": null,
      "outputs": []
    },
    {
      "cell_type": "markdown",
      "metadata": {
        "id": "z2Qk5XNpfraI"
      },
      "source": [
        "## List comprehension"
      ]
    },
    {
      "cell_type": "markdown",
      "metadata": {
        "id": "e0_acsncGuIy"
      },
      "source": [
        "#### Esse metódo e uma forma de compressão de lista. A partir de instruções, a lista criada automaticamente em somente uma linha de codigo."
      ]
    },
    {
      "cell_type": "code",
      "metadata": {
        "id": "YWOl1rpgfraI"
      },
      "source": [
        "x = [1,2,3,4]"
      ],
      "execution_count": null,
      "outputs": []
    },
    {
      "cell_type": "code",
      "metadata": {
        "id": "2MwDIGJvfraK"
      },
      "source": [
        "out = []\n",
        "for item in x:\n",
        "    out.append(item**2)\n",
        "print(out)"
      ],
      "execution_count": null,
      "outputs": []
    },
    {
      "cell_type": "code",
      "metadata": {
        "id": "KtEW9OpKfraO"
      },
      "source": [
        "[item**2 for item in x]"
      ],
      "execution_count": null,
      "outputs": []
    },
    {
      "cell_type": "markdown",
      "metadata": {
        "id": "Vogj0rtXfraQ"
      },
      "source": [
        "## Funções"
      ]
    },
    {
      "cell_type": "markdown",
      "metadata": {
        "id": "FfaTk6dRHww7"
      },
      "source": [
        "#### Funções são subrotinas que serão usadas no códigos, que podem ter ou não entrada de dados. Sendo normalmente, usadas em linhas de códigos que serão usadas mais de uma vez durante sua execução."
      ]
    },
    {
      "cell_type": "code",
      "metadata": {
        "id": "PHpfy9y5fraQ"
      },
      "source": [
        "def my_func(param1='default'):\n",
        "    \"\"\"\n",
        "    Documentação da função vai aqui.\n",
        "    \"\"\"\n",
        "    print(param1)"
      ],
      "execution_count": null,
      "outputs": []
    },
    {
      "cell_type": "code",
      "metadata": {
        "id": "y6umwVkffraU"
      },
      "source": [
        "my_func"
      ],
      "execution_count": null,
      "outputs": []
    },
    {
      "cell_type": "code",
      "metadata": {
        "id": "tWyG5nMhfraW"
      },
      "source": [
        "my_func()"
      ],
      "execution_count": null,
      "outputs": []
    },
    {
      "cell_type": "code",
      "metadata": {
        "id": "9MGbdoa_fraX"
      },
      "source": [
        "my_func('novo parametro')"
      ],
      "execution_count": null,
      "outputs": []
    },
    {
      "cell_type": "code",
      "metadata": {
        "id": "owYbzJ0VfraZ"
      },
      "source": [
        "my_func(param1='novo parametro')"
      ],
      "execution_count": null,
      "outputs": []
    },
    {
      "cell_type": "code",
      "metadata": {
        "id": "dV6qUIB2frab"
      },
      "source": [
        "def square(x):\n",
        "    return x**2"
      ],
      "execution_count": null,
      "outputs": []
    },
    {
      "cell_type": "code",
      "metadata": {
        "id": "NAuWeSNKfrah"
      },
      "source": [
        "out = square(2)"
      ],
      "execution_count": null,
      "outputs": []
    },
    {
      "cell_type": "code",
      "metadata": {
        "scrolled": true,
        "id": "wSbztuNhfraj"
      },
      "source": [
        " print(out)"
      ],
      "execution_count": null,
      "outputs": []
    },
    {
      "cell_type": "code",
      "metadata": {
        "id": "LIPvhLaHfral"
      },
      "source": [
        "import time"
      ],
      "execution_count": null,
      "outputs": []
    },
    {
      "cell_type": "code",
      "metadata": {
        "id": "uNpFFuDxfram"
      },
      "source": [
        "def TestPrint(lista,tempo=0.1):\n",
        "    for elemento in lista:\n",
        "        print(elemento)\n",
        "        time.sleep(tempo)"
      ],
      "execution_count": null,
      "outputs": []
    },
    {
      "cell_type": "code",
      "metadata": {
        "id": "tAUPipRYfrao"
      },
      "source": [
        "x = [1,2,3,4,5,6,7]"
      ],
      "execution_count": null,
      "outputs": []
    },
    {
      "cell_type": "code",
      "metadata": {
        "id": "UkPVvQxYfras"
      },
      "source": [
        "TestPrint(lista=x,tempo=1)"
      ],
      "execution_count": null,
      "outputs": []
    },
    {
      "cell_type": "markdown",
      "metadata": {
        "id": "dbuWtqCbfrau"
      },
      "source": [
        "## Expressões lambda"
      ]
    },
    {
      "cell_type": "markdown",
      "metadata": {
        "id": "1X7zzw4aMTYU"
      },
      "source": [
        "#### A expressão lambda e usado quando atribuimos uma função a um objeto/variavél, sendo assim podemos chamar esse objeto como se fosse uma função, onde, ela pode ter varios argumentos, mas somente uma expressão."
      ]
    },
    {
      "cell_type": "code",
      "metadata": {
        "id": "HIPBTYWSfrau"
      },
      "source": [
        "def vezes2(var):\n",
        "    return var*2"
      ],
      "execution_count": null,
      "outputs": []
    },
    {
      "cell_type": "code",
      "metadata": {
        "id": "JbQfT6ARfray"
      },
      "source": [
        "vezes2(2)"
      ],
      "execution_count": null,
      "outputs": []
    },
    {
      "cell_type": "code",
      "metadata": {
        "id": "qU3UF51Nfra0"
      },
      "source": [
        "f = lambda var: var*2"
      ],
      "execution_count": null,
      "outputs": []
    },
    {
      "cell_type": "code",
      "metadata": {
        "id": "X-wN9iJbM8D7"
      },
      "source": [
        "f(2)"
      ],
      "execution_count": null,
      "outputs": []
    },
    {
      "cell_type": "markdown",
      "metadata": {
        "id": "cJxHRndifra2"
      },
      "source": [
        "## map e filter"
      ]
    },
    {
      "cell_type": "markdown",
      "metadata": {
        "id": "kkAcZjAYOVAy"
      },
      "source": [
        "A função map é uma função usada para aplicar uma função a cada item em uma lista ou dicionário e retornar um nova lista com os resultados da iteração com a função. Já a função filter é usada para filtrar valores de uma série de dados, onde aplica a função a cada elemento, se retorna True o elemento permanece ou retorna False será retirado do resultado."
      ]
    },
    {
      "cell_type": "code",
      "metadata": {
        "id": "eFhSAMTcfra2"
      },
      "source": [
        "seq = [1,2,3,4,5]"
      ],
      "execution_count": null,
      "outputs": []
    },
    {
      "cell_type": "code",
      "metadata": {
        "id": "K1hFW1o1fra8"
      },
      "source": [
        "map(vezes2,seq)"
      ],
      "execution_count": null,
      "outputs": []
    },
    {
      "cell_type": "code",
      "metadata": {
        "id": "LwYybgyWfra_"
      },
      "source": [
        "list(map(vezes2,seq))"
      ],
      "execution_count": null,
      "outputs": []
    },
    {
      "cell_type": "code",
      "metadata": {
        "id": "HadGRSYRfrbC"
      },
      "source": [
        "list(map(lambda var: var*2,seq))"
      ],
      "execution_count": null,
      "outputs": []
    },
    {
      "cell_type": "code",
      "metadata": {
        "id": "urG9LzcdfrbE"
      },
      "source": [
        "filter(lambda item: item%2 == 0,seq)"
      ],
      "execution_count": null,
      "outputs": []
    },
    {
      "cell_type": "code",
      "metadata": {
        "id": "icWws2iDfrbG"
      },
      "source": [
        "list(filter(lambda item: item%2 == 0,seq))"
      ],
      "execution_count": null,
      "outputs": []
    },
    {
      "cell_type": "markdown",
      "metadata": {
        "id": "jVijl8iUfrbH"
      },
      "source": [
        "## Métodos"
      ]
    },
    {
      "cell_type": "markdown",
      "metadata": {
        "id": "JARCgqWNThJl"
      },
      "source": [
        "#### Métodos são funções predefinidas que permitem que à manipulem as variáveis sem precisar de funções externas."
      ]
    },
    {
      "cell_type": "code",
      "metadata": {
        "id": "h1fSFR9hfrbH"
      },
      "source": [
        "st = 'Olá, me chamo Sam'"
      ],
      "execution_count": null,
      "outputs": []
    },
    {
      "cell_type": "code",
      "metadata": {
        "id": "rT0wUU_ufrbJ"
      },
      "source": [
        "st.lower()"
      ],
      "execution_count": null,
      "outputs": []
    },
    {
      "cell_type": "code",
      "metadata": {
        "id": "8sAwEQs2frbK"
      },
      "source": [
        "st.upper()"
      ],
      "execution_count": null,
      "outputs": []
    },
    {
      "cell_type": "code",
      "metadata": {
        "id": "VEBQo4agfrbL"
      },
      "source": [
        "st.split()"
      ],
      "execution_count": null,
      "outputs": []
    },
    {
      "cell_type": "code",
      "metadata": {
        "id": "znhOjJW7frbO"
      },
      "source": [
        "tweet = 'Dale Grêmio! #Gremio'"
      ],
      "execution_count": null,
      "outputs": []
    },
    {
      "cell_type": "code",
      "metadata": {
        "id": "4YHPGtB2frbQ"
      },
      "source": [
        "tweet.split('#')"
      ],
      "execution_count": null,
      "outputs": []
    },
    {
      "cell_type": "code",
      "metadata": {
        "id": "Qcelsh6QfrbS"
      },
      "source": [
        "tweet.split('#')[1]"
      ],
      "execution_count": null,
      "outputs": []
    },
    {
      "cell_type": "code",
      "metadata": {
        "id": "juHcNUR6frbV"
      },
      "source": [
        "d"
      ],
      "execution_count": null,
      "outputs": []
    },
    {
      "cell_type": "code",
      "metadata": {
        "id": "WfCTHnVUfrbX"
      },
      "source": [
        "d.keys()"
      ],
      "execution_count": null,
      "outputs": []
    },
    {
      "cell_type": "code",
      "metadata": {
        "id": "ebOj62PpfrbY"
      },
      "source": [
        "d.items()"
      ],
      "execution_count": null,
      "outputs": []
    },
    {
      "cell_type": "code",
      "metadata": {
        "id": "Du7o_wCzfrbZ"
      },
      "source": [
        "lst = [1,2,3]"
      ],
      "execution_count": null,
      "outputs": []
    },
    {
      "cell_type": "code",
      "metadata": {
        "id": "foDvD0n_frbc"
      },
      "source": [
        "lst.pop()"
      ],
      "execution_count": null,
      "outputs": []
    },
    {
      "cell_type": "code",
      "metadata": {
        "id": "9LFwXf9Cfrbh"
      },
      "source": [
        "lst"
      ],
      "execution_count": null,
      "outputs": []
    },
    {
      "cell_type": "code",
      "metadata": {
        "id": "FM5h7mxgfrbl"
      },
      "source": [
        "a = 1,2 in [1,2,3]\n",
        "a"
      ],
      "execution_count": null,
      "outputs": []
    },
    {
      "cell_type": "code",
      "metadata": {
        "scrolled": true,
        "id": "a7rLfzdWfrbm"
      },
      "source": [
        "'x' in ['x','y','z']"
      ],
      "execution_count": null,
      "outputs": []
    },
    {
      "cell_type": "markdown",
      "metadata": {
        "id": "5U7MifJufrbo"
      },
      "source": [
        "## Files\n",
        "\n",
        "Em Python, devemos abrir (open) arquivos antes de usá-los e fechar (close) os arquivos depois de que tivermos terminado de utilizá-los. Como você pode imaginar, depois de aberto um arquivo passa a ser um objeto Python de maneira semelhante que outros dados.\n",
        "\n",
        "- Reading\n",
        "\n",
        "`open(nome_arquivo,'r')`\tAbre um arquivo chamado nome_arquivo e o usa para leitura. Retorna uma referëncia para um objeto file.\n",
        "\n",
        "- Writing\n",
        "\n",
        "`open(nome_arquivo,'w')`\tAbre um arquivo chamado nome_arquivo e o usa para escrita. Retorna uma referência para um objeto file."
      ]
    },
    {
      "cell_type": "markdown",
      "metadata": {
        "id": "DOVxOBjMfrbo"
      },
      "source": [
        "### Lendo um arquivo"
      ]
    },
    {
      "cell_type": "code",
      "metadata": {
        "id": "h1Rm8YCUfrbo",
        "colab": {
          "base_uri": "https://localhost:8080/"
        },
        "outputId": "a8432a0a-20ed-4bac-9aa6-930cfd6b3d2c"
      },
      "source": [
        "with open('ler.txt','r') as texto:\n",
        "    dados = texto.read().splitlines()\n",
        "dados"
      ],
      "execution_count": null,
      "outputs": [
        {
          "output_type": "execute_result",
          "data": {
            "text/plain": [
              "['Esse arquivo vai ser lido pelo python', 'primeira linha', 'segunda linha']"
            ]
          },
          "metadata": {
            "tags": []
          },
          "execution_count": 1
        }
      ]
    },
    {
      "cell_type": "code",
      "metadata": {
        "id": "UoLNCQT5frbq",
        "colab": {
          "base_uri": "https://localhost:8080/"
        },
        "outputId": "0dd819df-b21b-4849-d7d1-87e74980d72f"
      },
      "source": [
        "dados2 = open('ler.txt','r').read().splitlines()\n",
        "dados2"
      ],
      "execution_count": null,
      "outputs": [
        {
          "output_type": "execute_result",
          "data": {
            "text/plain": [
              "['Esse arquivo vai ser lido pelo python', 'primeira linha', 'segunda linha']"
            ]
          },
          "metadata": {
            "tags": []
          },
          "execution_count": 2
        }
      ]
    },
    {
      "cell_type": "markdown",
      "metadata": {
        "id": "CrrBZeqHfrbr"
      },
      "source": [
        "### Escrevendo num arquivo"
      ]
    },
    {
      "cell_type": "code",
      "metadata": {
        "id": "_SO7pbP-frbs"
      },
      "source": [
        "primeiraLinha = 'Essa é a primeira linha'\n",
        "segundaLinha  = 'Essa é a segunda linha'"
      ],
      "execution_count": null,
      "outputs": []
    },
    {
      "cell_type": "code",
      "metadata": {
        "id": "8f-k4fEBfrbt"
      },
      "source": [
        "with open('escrever.txt','w') as escrever:\n",
        "    escrever.write(primeiraLinha)\n",
        "    escrever.write('\\n')\n",
        "    escrever.write(segundaLinha)"
      ],
      "execution_count": null,
      "outputs": []
    },
    {
      "cell_type": "markdown",
      "metadata": {
        "id": "cS-5bFhCfrbw"
      },
      "source": [
        "#### Abrindo o arquivo escrito acima"
      ]
    },
    {
      "cell_type": "code",
      "metadata": {
        "id": "d7TMOEAyfrbw",
        "colab": {
          "base_uri": "https://localhost:8080/"
        },
        "outputId": "ff31db0d-5cf0-4d04-9c47-820d91eeb9b7"
      },
      "source": [
        "with open('escrever.txt','r') as ler:\n",
        "    dados = ler.read().splitlines()\n",
        "    \n",
        "dados"
      ],
      "execution_count": null,
      "outputs": [
        {
          "output_type": "execute_result",
          "data": {
            "text/plain": [
              "['primeira linha', 'segunda linha', 'terceira linha', 'quarta linha']"
            ]
          },
          "metadata": {
            "tags": []
          },
          "execution_count": 3
        }
      ]
    },
    {
      "cell_type": "markdown",
      "metadata": {
        "id": "HKpjWFsOfrb0"
      },
      "source": [
        "#### Appending\n",
        "\n",
        "Podemos adicionar textos ou alterá-los em um arquivo criado anteriormente."
      ]
    },
    {
      "cell_type": "code",
      "metadata": {
        "id": "4nAciQyPfrb0"
      },
      "source": [
        "with open('escrever.txt','w') as txt:\n",
        "    txt.write('primeira linha')\n",
        "    txt.write('\\n')\n",
        "    txt.write('segunda linha')\n",
        "    txt.write('\\n')"
      ],
      "execution_count": null,
      "outputs": []
    },
    {
      "cell_type": "code",
      "metadata": {
        "id": "h7QQkxCdfrb2"
      },
      "source": [
        "with open('escrever.txt', 'a') as txt:\n",
        "    txt.write('terceira linha\\n')\n",
        "    txt.write('quarta linha')"
      ],
      "execution_count": null,
      "outputs": []
    },
    {
      "cell_type": "code",
      "metadata": {
        "id": "pRrtxJVCfrb4"
      },
      "source": [
        "with open('escrever.txt','r') as txt:\n",
        "    data = txt.read().splitlines()\n",
        "data"
      ],
      "execution_count": null,
      "outputs": []
    },
    {
      "cell_type": "markdown",
      "metadata": {
        "id": "DmW0QSwUfrb5"
      },
      "source": [
        "# Projeto: Criar um cadastro de alunos e lançamento de notas"
      ]
    },
    {
      "cell_type": "code",
      "metadata": {
        "id": "IJR7E2pnfrb5"
      },
      "source": [
        "#coding= latin-1 \n",
        "from math import*\n",
        "from string import* \n",
        "  \n",
        "laluno=[] \n",
        "lhr=[] \n",
        "lnota1=[]\n",
        "lnota2=[]\n",
        "lnota3=[]\n",
        "lfalta=[] \n",
        "ldiario = [laluno,lhr,lnota1,lnota2,lnota3,lfalta] \n",
        "  \n",
        "aluno=0 \n",
        "hr=0 \n",
        "nota1=0\n",
        "nota2=0\n",
        "nota3=0 \n",
        "falta=0 \n",
        "salvar_diario=0 \n",
        "ini=0\n",
        "print('Diário de nota de alunos')\n",
        "print('Escola Curso de Férias em Ciência de Dados')\n",
        "\n",
        "\n",
        "\n",
        "#A função que ira ser usada \n",
        "def menu (): \n",
        "    print ('Menu:') \n",
        "    print ('   1 - Matricular aluno') \n",
        "    print ('   2 - Remover matricula') \n",
        "    print ('   3 - Lançar notas') \n",
        "    print ('   4 - Lançar faltas') \n",
        "    print ('   5 - Listar alunos matriculados') \n",
        "    print ('   6 - Verificar situaçao de alunos')\n",
        "    print ('   7 - Ver o Diário')\n",
        "    print ('   8 - Gravar o Diário')\n",
        "    print ('   9 - Sair') \n",
        "    opt = input('Digite a opçao desejada: ') \n",
        "    return opt \n",
        "  \n",
        "def adicionar_matricula ():\n",
        "    aluno = str(input(\"Digite o nome do aluno:\"))\n",
        "    aluno=aluno.upper()\n",
        "    if aluno in laluno:\n",
        "        print('Aluno já está Matriculado')\n",
        "    else:\n",
        "        laluno.append(aluno)\n",
        "        hr=float(input(\"Digite as horas de aula do aluno:\"))\n",
        "        lhr.append(hr)\n",
        "        print('Aluno Matriculado') \n",
        "    pass \n",
        "  \n",
        "def remover_matricula (): \n",
        "    aluno=str(input(\"Digite o nome do aluno:\"))\n",
        "    aluno=aluno.upper()\n",
        "    if aluno in laluno:\n",
        "        laluno.remove(aluno) \n",
        "        print('Aluno Removido')\n",
        "    else:\n",
        "        print('Esse Aluno Não Está Matriculado') \n",
        "    pass \n",
        "  \n",
        "def lancar_notas ():\n",
        "    aluno=str(input(\"Digite o nome do aluno:\"))\n",
        "    aluno=aluno.upper()\n",
        "    if  aluno in laluno:\n",
        "        nota1=input(\"Digite a nota 1 do aluno:\")\n",
        "        nota2=input(\"Digite a nota 2 do aluno:\")\n",
        "        nota3=input(\"Digite a nota 3 do aluno:\") \n",
        "        lnota1.append(nota1)\n",
        "        lnota2.append(nota2)\n",
        "        lnota3.append(nota3)\n",
        "    else:\n",
        "        print('Esse Aluno Não Está Matriculado')\n",
        "    pass \n",
        "  \n",
        "def lancar_faltas ():\n",
        "    aluno=str(input(\"Digite o nome do aluno:\"))\n",
        "    aluno=aluno.upper()\n",
        "    if  aluno in laluno:\n",
        "        falta=float(input(\"Digite as faltas do aluno(em hora):\")) \n",
        "        lfalta.append(falta)\n",
        "    else:\n",
        "        print('Esse Aluno Não Está Matriculado')\n",
        "    pass \n",
        "  \n",
        "def listar_alunos (): \n",
        "    print('Alunos Matriculados', laluno) \n",
        "    pass \n",
        "  \n",
        "def verificar_situacao ():\n",
        "    aluno = str(input(\"Digite o nome do aluno: \"))\n",
        "    pass \n",
        "  \n",
        "def le_diario (): \n",
        "    print(ldiario) \n",
        "    pass \n",
        "\n",
        "def gravar_diario (): \n",
        "    salvar=input(\"Deseja salvar o diario:\")\n",
        "    if salvar=='sim' or salvar=='yes': \n",
        "        arquivo = open('diario.txt','r')\n",
        "        conteudo = arquivo.readlines()\n",
        "        conteudo.append('ldiario')\n",
        "        arquivo = open('diario.txt','w')\n",
        "        arquivo.writelines(conteudo)\n",
        "        arquivo.close()\n",
        "        \n",
        "        print(\"Diario Salvo\") \n",
        "        \n",
        "    else:\n",
        "        salvar=='não' or  salvar=='not'\n",
        "        print(\"Diario não Salvo\")\n",
        "    pass\n",
        "\n",
        "def salva_diario (): \n",
        "    salvar=input(\"Deseja salvar o diario:\")\n",
        "    if salvar=='sim' or salvar=='yes': \n",
        "        arquivo = open('diario.txt','r')\n",
        "        conteudo = arquivo.readlines()\n",
        "        conteudo.append('ldiario')\n",
        "        arquivo = open('diario.txt','w')\n",
        "        arquivo.writelines(conteudo)\n",
        "        arquivo.close()\n",
        "        \n",
        "        print(\"Diario Salvo\") \n",
        "        \n",
        "    else:\n",
        "        salvar=='não' or  salvar=='not'\n",
        "        print(\"Diario não Salvo\")\n",
        "    pass \n",
        "  \n",
        "le_diario() \n",
        "opcao = menu() \n",
        "while opcao != '9': \n",
        "    if opcao == '1': \n",
        "        adicionar_matricula() \n",
        "    elif opcao == '2':  \n",
        "        remover_matricula() \n",
        "    elif opcao == '3':  \n",
        "        lancar_notas() \n",
        "    elif opcao == '4':  \n",
        "        lancar_faltas() \n",
        "    elif opcao == '5':  \n",
        "        listar_alunos() \n",
        "    elif opcao == '6':  \n",
        "        verificar_situacao()\n",
        "    elif opcao == '7':\n",
        "        le_diario()\n",
        "    elif opcao == '8':\n",
        "        gravar_diario()\n",
        " \n",
        "  \n",
        "    opcao = menu() \n",
        "  \n",
        "salva_diario()"
      ],
      "execution_count": null,
      "outputs": []
    },
    {
      "cell_type": "markdown",
      "metadata": {
        "id": "tM8k9Q9tfrcq"
      },
      "source": [
        "# Importando módulos no Python (imports)"
      ]
    },
    {
      "cell_type": "markdown",
      "metadata": {
        "id": "mYNinl69frcq"
      },
      "source": [
        "Veremos como importar um módulo em sua totalidade e parcialmente, além de ilustrar que também podemos fazer isso com simples scripts Python, uma vez que um script Python na verdade é (também) um módulo.\n"
      ]
    },
    {
      "cell_type": "markdown",
      "metadata": {
        "id": "jSes6yAyfrcr"
      },
      "source": [
        "### import package\n",
        "Para importar um módulo utilizamos o import."
      ]
    },
    {
      "cell_type": "code",
      "metadata": {
        "id": "GjkpsOGFfrcr"
      },
      "source": [
        "import math\n",
        "print(math.sqrt(25))"
      ],
      "execution_count": null,
      "outputs": []
    },
    {
      "cell_type": "markdown",
      "metadata": {
        "id": "qhKJsVqLfrcs"
      },
      "source": [
        "O código acima importará todos os módulos de math, para importar apenas o necessário utilizamos from."
      ]
    },
    {
      "cell_type": "markdown",
      "metadata": {
        "id": "hfy9cNytfrcs"
      },
      "source": [
        "### from package import item\n",
        "O código abaixo importará o módulo sqrt do pacote math."
      ]
    },
    {
      "cell_type": "code",
      "metadata": {
        "id": "QDlr9O3Ifrct"
      },
      "source": [
        "from math import sqrt\n",
        "print(sqrt(25))"
      ],
      "execution_count": null,
      "outputs": []
    },
    {
      "cell_type": "markdown",
      "metadata": {
        "id": "MbSmzuGtfrcu"
      },
      "source": [
        "Observe que ao utilizar from package import item, o item pode ser um subpacote, submódulo, classe, função ou variável.\n",
        "\n",
        "O comando import primeiro testa se o item está definido no pacote, senão assume que é um módulo e tenta carregá-lo. Se falhar em encontrar o módulo uma exceção ImportError é lançada (documentação Python)"
      ]
    },
    {
      "cell_type": "markdown",
      "metadata": {
        "id": "KRlQ3XCOfrcu"
      },
      "source": [
        "### from package import *\n",
        "No terminal, para diminuir a digitação, costuma-se importar todas as funções de math dessa forma:"
      ]
    },
    {
      "cell_type": "code",
      "metadata": {
        "id": "5druje2wfrcu"
      },
      "source": [
        "from math import *"
      ],
      "execution_count": null,
      "outputs": []
    },
    {
      "cell_type": "code",
      "metadata": {
        "id": "R6LGgykIfrcw"
      },
      "source": [
        "# Inserir um exemplo"
      ],
      "execution_count": null,
      "outputs": []
    },
    {
      "cell_type": "markdown",
      "metadata": {
        "id": "JiLhQfcLfrcx"
      },
      "source": [
        "Em geral, a prática do ```import *``` de um módulo ou pacote é desaprovada, uma vez que muitas vezes dificulta a leitura do código. O uso no terminal, com dito, é muito comum."
      ]
    },
    {
      "cell_type": "markdown",
      "metadata": {
        "id": "Dw0TsJOvfrcx"
      },
      "source": [
        "### import item.subitem.subsubitem\n",
        "Em uma construção como import item.subitem.subsubitem, cada item, com exceção do último, deve ser um pacote. O último pode ser também um pacote ou módulo, mas nunca uma classe, função ou variável contida em um módulo."
      ]
    },
    {
      "cell_type": "code",
      "metadata": {
        "id": "iMnQqBqufrcx"
      },
      "source": [
        "# Inserir um exemplo"
      ],
      "execution_count": null,
      "outputs": []
    },
    {
      "cell_type": "markdown",
      "metadata": {
        "id": "rvsT6UXgfrcz"
      },
      "source": [
        "## Serve também para seus arquivos\n",
        "Ao nos deparamos pela primeira vez com o comando import, a impressão que temos é que ele funciona apenas para os módulos embutidos da linguagem Python, mas não é bem assim, veja o que a documentação diz \"Quando um módulo chamado math é importado, o interpretador procura um módulo embutido com este nome. Se não existe, procura um arquivo chamado math.py em uma lista de diretórios incluídos na variável sys.path.\""
      ]
    },
    {
      "cell_type": "markdown",
      "metadata": {
        "id": "GPZluQEDfrcz"
      },
      "source": [
        "# Bônus: Usando o Spyder\n",
        "\n",
        "O Spyder é um poderoso ambiente científico escrito em Python, para Python, e projetado por e para cientistas, engenheiros e analistas de dados. Ele oferece uma combinação exclusiva das funcionalidades avançadas de edição, análise, depuração e criação de perfil de uma ferramenta abrangente de desenvolvimento com exploração de dados, execução interativa, inspeção profunda e belos recursos de visualização de um pacote científico.\n",
        "Link para maiores informações e download: <https://www.spyder-ide.org/>"
      ]
    },
    {
      "cell_type": "markdown",
      "metadata": {
        "id": "a_gdYk0lfrc0"
      },
      "source": [
        "Usar o spyder para separar os arquivos do último exemplo, salvando-os com os nomes: classPessoa.py; classPai.py; classMae.py, classFilho.py, main.py.\n",
        "O .py é a extensão usada para identificar que um determinado arquivo é escrito em python. "
      ]
    },
    {
      "cell_type": "markdown",
      "metadata": {
        "id": "V6Pympjqfrc0"
      },
      "source": [
        "## Glossário\n",
        "### atributo\n",
        "Um dos itens nomeados de dados que compõem uma instância.\n",
        "### classe\n",
        "Um tipo de composto definido pelo usuário. Uma classe também pode ser pensada como um modelo para os objetos que são instâncias da mesma. (O iPhone é uma classe. Até dezembro de 2010, as estimativas são de que 50 milhões de instâncias tinham sido vendidas!)\n",
        "### construtor\n",
        "Cada classe tem uma “fábrica”, chamada pelo mesmo nome da classe, por fazer novas instâncias. Se a classe tem um método de inicialização, este método é usado para obter os atributos (ou seja, o estado) do novo objeto adequadamente configurado.\n",
        "### instância\n",
        "Um objeto cujo tipo é de alguma classe. Instância e objeto são usados como sinônimos.\n",
        "### instanciar\n",
        "Significa criar uma instância de uma classe e executar o seu método de inicialização.\n",
        "### linguagem orientada a objetos\n",
        "Uma linguagem que fornece recursos, como as classes definidas pelo usuário e herança, que facilitam a programação orientada a objetos.\n",
        "### método\n",
        "Uma função que é definida dentro de uma definição de classe e é chamado em instâncias dessa classe.\n",
        "### método de inicialização\n",
        "Um método especial em Python (chamado __init__) que é chamado automaticamente para configurar um objeto recém-criado no seu estado inicial (padrão de fábrica).\n",
        "### objeto\n",
        "Um tipo de dados composto que é frequentemente usado para modelar uma coisa ou conceito do mundo real. Ele agrupa os dados e as operações que são relevantes para esse tipo de dados. Instância e objeto são usados como sinônimos.\n",
        "### programação orientada a objetos\n",
        "Um estilo poderoso de programação em que os dados e as operações que os manipulam são organizados em classes e métodos."
      ]
    }
  ]
}