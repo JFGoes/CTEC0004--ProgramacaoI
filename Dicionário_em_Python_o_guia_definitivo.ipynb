{
  "nbformat": 4,
  "nbformat_minor": 0,
  "metadata": {
    "colab": {
      "provenance": [],
      "toc_visible": true,
      "authorship_tag": "ABX9TyOz20oZacE50oO7wr7DV7Yu",
      "include_colab_link": true
    },
    "kernelspec": {
      "name": "python3",
      "display_name": "Python 3"
    },
    "language_info": {
      "name": "python"
    }
  },
  "cells": [
    {
      "cell_type": "markdown",
      "metadata": {
        "id": "view-in-github",
        "colab_type": "text"
      },
      "source": [
        "<a href=\"https://colab.research.google.com/github/JFGoes/CTEC0004--ProgramacaoI/blob/master/Dicion%C3%A1rio_em_Python_o_guia_definitivo.ipynb\" target=\"_parent\"><img src=\"https://colab.research.google.com/assets/colab-badge.svg\" alt=\"Open In Colab\"/></a>"
      ]
    },
    {
      "cell_type": "markdown",
      "metadata": {
        "id": "9hyb6flPPCti"
      },
      "source": [
        "<center>\n",
        "\n",
        "# **Dicionário em Python** - `o guia definitivo`\n",
        "\n",
        "</center>\n"
      ]
    },
    {
      "cell_type": "markdown",
      "metadata": {
        "id": "THYyM89bPOvP"
      },
      "source": [
        "Traduzido do blog [finxter](https://blog.finxter.com/python-dictionary/)"
      ]
    },
    {
      "cell_type": "markdown",
      "metadata": {
        "id": "spmRMcm33LlX"
      },
      "source": [
        "Para checar se  o código está bem escrito: [pythonchecker](https://www.pythonchecker.com/)"
      ]
    },
    {
      "cell_type": "markdown",
      "metadata": {
        "id": "vcmVLsW9Pm_J"
      },
      "source": [
        "O Python vem com vários tipos de dados integrados. Esses são os blocos de construção fundamentais de toda a linguagem. Eles foram otimizados e aperfeiçoados ao longo de muitos anos. Neste tutorial abrangente, exploraremos um dos mais importantes: o **dicionário** (ou **dict** abreviado)."
      ]
    },
    {
      "cell_type": "markdown",
      "metadata": {
        "id": "aP1E1MNHP17f"
      },
      "source": [
        "A menos que seja declarado de outra forma, estarei usando Python 3.8 em todo o processo. A funcionalidade do dicionário mudou nas últimas versões do Python. Se você estiver usando uma versão diferente da 3.8, provavelmente obterá resultados diferentes.\n",
        "\n",
        "Para verificar qual versão do Python você está executando, digite o seguinte em uma janela de terminal (o meu retorna 3.8)."
      ]
    },
    {
      "cell_type": "code",
      "metadata": {
        "colab": {
          "base_uri": "https://localhost:8080/"
        },
        "id": "1HASotmRO_Jf",
        "outputId": "be2e3d6c-550d-4e77-836f-d08a920466c3"
      },
      "source": [
        "!python --version\n"
      ],
      "execution_count": null,
      "outputs": [
        {
          "output_type": "stream",
          "text": [
            "Python 3.7.10\n"
          ],
          "name": "stdout"
        }
      ]
    },
    {
      "cell_type": "markdown",
      "metadata": {
        "id": "RoD5vu4MQoOz"
      },
      "source": [
        "crie um dicionário"
      ]
    },
    {
      "cell_type": "code",
      "metadata": {
        "id": "yaqn0KXFP5RI"
      },
      "source": [
        "#crie um dicionário\n",
        "frutas = {'maça': 2, 'mamão': 1}"
      ],
      "execution_count": null,
      "outputs": []
    },
    {
      "cell_type": "code",
      "metadata": {
        "id": "ZK1pkj4XQtVQ"
      },
      "source": [
        "# adicione outra fruta\n",
        "frutas['mirtilo'] = 6"
      ],
      "execution_count": null,
      "outputs": []
    },
    {
      "cell_type": "code",
      "metadata": {
        "colab": {
          "base_uri": "https://localhost:8080/"
        },
        "id": "Zs2y3TZ7QejB",
        "outputId": "03b28ee9-4cf6-4165-916d-5517f0ae1166"
      },
      "source": [
        "# Print o número de maças\n",
        "print(frutas['maça'])\n"
      ],
      "execution_count": null,
      "outputs": [
        {
          "output_type": "stream",
          "text": [
            "2\n"
          ],
          "name": "stdout"
        }
      ]
    },
    {
      "cell_type": "code",
      "metadata": {
        "colab": {
          "base_uri": "https://localhost:8080/"
        },
        "id": "NXgPedboRhky",
        "outputId": "dbc3fc98-fb6b-4264-eb06-d208c5f067ef"
      },
      "source": [
        "# Print todas as chaves\n",
        "print(frutas.keys())\n"
      ],
      "execution_count": null,
      "outputs": [
        {
          "output_type": "stream",
          "text": [
            "dict_keys(['maça', 'mamão', 'mirtilo'])\n"
          ],
          "name": "stdout"
        }
      ]
    },
    {
      "cell_type": "code",
      "metadata": {
        "colab": {
          "base_uri": "https://localhost:8080/"
        },
        "id": "-Ql9J2DkRpMk",
        "outputId": "52be25ba-2567-4e9c-f9eb-a4f3a5f5b5cb"
      },
      "source": [
        "# Print todos os valores\n",
        "print(frutas.values())"
      ],
      "execution_count": null,
      "outputs": [
        {
          "output_type": "stream",
          "text": [
            "dict_values([2, 1, 6])\n"
          ],
          "name": "stdout"
        }
      ]
    },
    {
      "cell_type": "code",
      "metadata": {
        "colab": {
          "base_uri": "https://localhost:8080/"
        },
        "id": "4FrPiU5QRvqm",
        "outputId": "14981abd-cd47-482b-c132-27048bda52cf"
      },
      "source": [
        "# Some todos os valores\n",
        "print(sum(frutas.values()))"
      ],
      "execution_count": null,
      "outputs": [
        {
          "output_type": "stream",
          "text": [
            "9\n"
          ],
          "name": "stdout"
        }
      ]
    },
    {
      "cell_type": "markdown",
      "metadata": {
        "id": "WtCwZuHcR8zR"
      },
      "source": [
        "**Exercício:** Adicione 2 maçãs e 3 laranjas à sua cesta de frutas! Quantas frutas tem na sua cesta?"
      ]
    },
    {
      "cell_type": "code",
      "source": [],
      "metadata": {
        "id": "o5xkzCh4rUEt"
      },
      "execution_count": null,
      "outputs": []
    },
    {
      "cell_type": "markdown",
      "metadata": {
        "id": "u02Z0pEzwele"
      },
      "source": [
        "# Dicionário Python - Por que é tão útil?\n",
        "\n",
        "Quando descobri sobre os dicionários, não tinha certeza se eles seriam muito úteis. Pareciam um pouco desajeitados e achei que as listas seriam muito mais úteis. Mas cara, eu estava errado!\n",
        "\n",
        "Na vida real, um dicionário é um livro cheio de palavras em ordem alfabética. Ao lado de cada palavra, há uma definição. Se tiver muitos significados, existem muitas definições. Cada palavra aparece exatamente uma vez.\n",
        "\n",
        "> * Um livro de palavras em ordem alfabética.\n",
        "> * Cada palavra tem uma definição associada\n",
        "> * Se uma palavra tem muitos significados, ela tem muitas definições\n",
        "> * Conforme o tempo muda, mais significados podem ser adicionados a uma palavra.\n",
        "> * A grafia de uma palavra nunca muda.\n",
        "> * Cada palavra aparece exatamente uma vez.\n",
        "> * Algumas palavras têm a mesma definição.\n",
        "\n",
        "Se abstrairmos essa ideia, podemos ver um dicionário como um mapeamento de uma palavra para sua definição. Tornando isso mais abstrato, um dicionário é um mapeamento de algo que sabemos (uma palavra) para algo que não sabemos (sua definição).\n",
        "\n",
        "Aplicamos esse mapeamento o tempo todo na vida real: em nosso telefone, mapeamos os nomes de nossos amigos para seus números de telefone.\n",
        "\n",
        "Em nossas mentes, mapeamos o nome de uma pessoa em seu rosto.\n",
        "\n",
        "Mapeamos as palavras de acordo com seu significado.\n",
        "\n",
        "Este ‘mapeamento’ é realmente fácil de entender para os humanos e torna a vida muito mais eficiente. Fazemos isso o tempo todo, mesmo sem perceber. Portanto, faz sentido para o Python incluí-lo como um tipo de dados fundamental.\n",
        "\n",
        "# Estrutura do dicionário em Python\n",
        "\n",
        "Um dicionário tradicional mapeia palavras para definições. Os dicionários em Python podem conter qualquer tipo de dados, então dizemos que eles mapeiam chaves para valores. Cada um é chamado par de chave-valores.\n",
        "\n",
        "A chave \"desbloqueia\" o valor. Uma chave deve ser fácil de lembrar e não deve ser alterada com o tempo. O valor pode ser mais complicado e pode mudar com o tempo.\n",
        "\n",
        "Agora expressaremos a mesma lista acima usando a terminologia do dicionário Python.\n",
        "\n",
        "> * O dicionário Python é uma coleção de objetos (chaves e valores)\n",
        "> * Cada chave possui um valor associado\n",
        "> * Uma chave pode ter muitos valores\n",
        "> * Conforme o tempo muda, mais valores podem ser adicionados a uma chave (os valores são mutáveis)\n",
        "> * Uma chave não pode ser alterada (as chaves são imutáveis)\n",
        "> * Cada tecla aparece exatamente uma vez\n",
        "> * As chaves podem ter o mesmo valor\n",
        "\n",
        "**Nota**: podemos ordenar dicionários se quisermos, mas não é necessário fazer isso. Explicaremos todos esses conceitos com mais detalhes ao longo do artigo. Mas antes de qualquer coisa, precisamos saber como criar um dicionário!\n",
        "\n",
        "# **Criar Dicionário Python**\n",
        "Existem duas maneiras de criar um dicionário em Python:\n",
        "\n",
        "1 - Par de chaves {}\n",
        "2 - O construtor dict()\n",
        "\n",
        "#### **Par de chaves { }**\n",
        "\n",
        "\n",
        "\n",
        "```\n",
        "meu_dict =  {chave1: valor1,\n",
        "           chave2: valor2,\n",
        "           chave3: valor3,\n",
        "           chave4: valor4,\n",
        "           chave5: valor5}\n",
        "```\n",
        "\n"
      ]
    },
    {
      "cell_type": "markdown",
      "metadata": {
        "id": "oOAQW_VwzGIh"
      },
      "source": [
        "Escrevemos a chave, seguida imediatamente por dois pontos. Em seguida, um único espaço, o valor e finalmente uma vírgula. Após o último par, substitua a vírgula por uma chave de fechamento.\n",
        "\n",
        "Você pode escrever todos os pares na mesma linha. Coloquei cada um em uma linha separada para facilitar a leitura.\n",
        "\n",
        "Digamos que você tenha 5 amigos e queira registrar de que país eles são. Você escreveria assim (nomes e países começam com a mesma letra para torná-los fáceis de lembrar!)."
      ]
    },
    {
      "cell_type": "code",
      "metadata": {
        "id": "5cC30w5hR03z"
      },
      "source": [
        "nomes_e_paises = {'Alex': 'Argentina',\n",
        "                       'Beto': 'Bulgaria',\n",
        "                       'Charlene': 'Colombia',\n",
        "                       'Daniele': 'Dinamarca',\n",
        "                       'Ester': 'Estonia'}"
      ],
      "execution_count": null,
      "outputs": []
    },
    {
      "cell_type": "markdown",
      "metadata": {
        "id": "f1ytSE_9zkzY"
      },
      "source": [
        "### **O construtor dict()**\n",
        "Opção 1 - mais rápido de digitar\n",
        "\n",
        "\n",
        "\n",
        "```\n",
        "meu_dict =  dict(chave1: valor1,\n",
        "           chave2: valor2,\n",
        "           chave3: valor3,\n",
        "           chave4: valor4,\n",
        "           chave5: valor5)\n",
        "```\n",
        "\n"
      ]
    },
    {
      "cell_type": "markdown",
      "metadata": {
        "id": "iCjHw2Hoz82g"
      },
      "source": [
        "Então, nomes_e_paises torna-se:"
      ]
    },
    {
      "cell_type": "code",
      "metadata": {
        "id": "lr2bJRWxyqwM"
      },
      "source": [
        "nomes_e_paises = dict(Alex = 'Argentina',\n",
        "                       Beto = 'Bulgaria',\n",
        "                       Charlene =  'Colombia',\n",
        "                       Daniele =  'Dinamarca',\n",
        "                       Ester = 'Estonia')"
      ],
      "execution_count": null,
      "outputs": []
    },
    {
      "cell_type": "markdown",
      "metadata": {
        "id": "eSVXZebB0cPP"
      },
      "source": [
        "Cada par é como um argumento de palavra-chave em uma função. As chaves são convertidas automaticamente em strings, mas os valores devem ser digitados como strings.\n",
        "\n",
        "### **Opção 2 - mais lento para digitar, melhor usado com zip()**"
      ]
    },
    {
      "cell_type": "markdown",
      "metadata": {
        "id": "P9NdlhCd0quS"
      },
      "source": [
        "\n",
        "\n",
        "```\n",
        "meu_dict =  dict([(chave1,valor1),\n",
        "           (chave2, valor2),\n",
        "           (chave3, valor3),\n",
        "           (chave4, valor4),\n",
        "           (chave5, valor5)])\n",
        "```\n",
        "\n"
      ]
    },
    {
      "cell_type": "markdown",
      "metadata": {
        "id": "nT7hpoBM098l"
      },
      "source": [
        "Então, nomes_e_paises torna-se:"
      ]
    },
    {
      "cell_type": "code",
      "metadata": {
        "id": "LX6bC8P10JoD"
      },
      "source": [
        "nomes_e_paises = dict([('Alex', 'Argentina'),\n",
        "                       ('Beto', 'Bulgaria'),\n",
        "                       ('Charlene',  'Colombia'),\n",
        "                       ('Daniele',  'Dinamarca'),\n",
        "                       ('Ester', 'Estonia')])"
      ],
      "execution_count": null,
      "outputs": []
    },
    {
      "cell_type": "markdown",
      "metadata": {
        "id": "VWo14l791WG3"
      },
      "source": [
        "Como acontece com as chaves, devemos digitar explicitamente as strings como strings. Se você esquecer as aspas, o Python as interpreta como uma função."
      ]
    },
    {
      "cell_type": "markdown",
      "metadata": {
        "id": "TCMBp4oj1cVZ"
      },
      "source": [
        "### **Opção 2 com zip () - lista Python para dict**\n",
        "Se você tiver duas listas e quiser fazer um dicionário com elas, faça isso"
      ]
    },
    {
      "cell_type": "code",
      "metadata": {
        "id": "ptlS018I1PZo"
      },
      "source": [
        "nomes = ['Alex','Beto','Charlene', 'Daniele','Ester']\n",
        "paises = ['Argentina', 'Bulgaria',  'Colombia',  'Dinamarca', 'Estonia']"
      ],
      "execution_count": null,
      "outputs": []
    },
    {
      "cell_type": "code",
      "metadata": {
        "id": "s4unACuV1762"
      },
      "source": [
        "nomes_e_paises = dict(zip(nomes,paises))"
      ],
      "execution_count": null,
      "outputs": []
    },
    {
      "cell_type": "code",
      "metadata": {
        "colab": {
          "base_uri": "https://localhost:8080/"
        },
        "id": "7OhMhim92FJR",
        "outputId": "21fb537a-497f-4ee2-d8b8-10df8d599aa3"
      },
      "source": [
        "nomes_e_paises"
      ],
      "execution_count": null,
      "outputs": [
        {
          "output_type": "execute_result",
          "data": {
            "text/plain": [
              "{'Alex': 'Argentina',\n",
              " 'Beto': 'Bulgaria',\n",
              " 'Charlene': 'Colombia',\n",
              " 'Daniele': 'Dinamarca',\n",
              " 'Ester': 'Estonia'}"
            ]
          },
          "metadata": {
            "tags": []
          },
          "execution_count": 6
        }
      ]
    },
    {
      "cell_type": "markdown",
      "metadata": {
        "id": "P23ccTed2MpF"
      },
      "source": [
        "Se você tiver mais de duas listas, faça isso"
      ]
    },
    {
      "cell_type": "code",
      "metadata": {
        "id": "c5SoU4Ld2IDM"
      },
      "source": [
        "nomes = ['Alex','Beto','Charlene', 'Daniele','Ester']\n",
        "paises = ['Argentina', 'Bulgaria',  'Colombia',  'Dinamarca', 'Estonia']\n",
        "\n",
        "idades = [11, 24, 37, 75, 99]"
      ],
      "execution_count": null,
      "outputs": []
    },
    {
      "cell_type": "code",
      "metadata": {
        "id": "eXfnRZME2Xdo"
      },
      "source": [
        "# Zip todos os valores juntos\n",
        "valores = zip(paises, idades)"
      ],
      "execution_count": null,
      "outputs": []
    },
    {
      "cell_type": "code",
      "metadata": {
        "id": "jrImJ_p_2dSN"
      },
      "source": [
        "# As chaves são os nomes, os valores são a tupla (países, idades)\n",
        "pessoas_info = dict(zip(nomes, valores))"
      ],
      "execution_count": null,
      "outputs": []
    },
    {
      "cell_type": "code",
      "metadata": {
        "colab": {
          "base_uri": "https://localhost:8080/"
        },
        "id": "oCAoMtMI2rl8",
        "outputId": "f097258f-2f09-4da2-9eaa-521cfd8e6135"
      },
      "source": [
        "pessoas_info"
      ],
      "execution_count": null,
      "outputs": [
        {
          "output_type": "execute_result",
          "data": {
            "text/plain": [
              "{'Alex': ('Argentina', 11),\n",
              " 'Beto': ('Bulgaria', 24),\n",
              " 'Charlene': ('Colombia', 37),\n",
              " 'Daniele': ('Dinamarca', 75),\n",
              " 'Ester': ('Estonia', 99)}"
            ]
          },
          "metadata": {
            "tags": []
          },
          "execution_count": 10
        }
      ]
    },
    {
      "cell_type": "markdown",
      "metadata": {
        "id": "Tm2FHJ3G21H8"
      },
      "source": [
        "Esta é a primeira vez que vimos um dicionário contendo mais do que apenas strings! Em breve descobriremos o que pode e o que não pode ser uma chave ou valor. Mas, primeiro, vamos ver como acessar nossos dados."
      ]
    },
    {
      "cell_type": "markdown",
      "metadata": {
        "id": "odjKDBUM2sia"
      },
      "source": [
        "# **Acessando pares de valores-chave**\n",
        "Existem 2 maneiras de acessar os dados em nossos dicionários:\n",
        "\n",
        "> 1 - Notação de **colchetes [ ]**\n",
        "\n",
        "> 2 - O método **get()**"
      ]
    },
    {
      "cell_type": "markdown",
      "metadata": {
        "id": "AGfiAEID3G8_"
      },
      "source": [
        "## **Notação de colchetes [  ]**"
      ]
    },
    {
      "cell_type": "code",
      "metadata": {
        "colab": {
          "base_uri": "https://localhost:8080/",
          "height": 34
        },
        "id": "339mHib72umE",
        "outputId": "86fe6a3c-5948-4223-ecb3-3696c81818d4"
      },
      "source": [
        "# Obtenha o valor da chave 'Alex'\n",
        "nomes_e_paises['Alex']"
      ],
      "execution_count": null,
      "outputs": [
        {
          "output_type": "execute_result",
          "data": {
            "application/vnd.google.colaboratory.intrinsic+json": {
              "type": "string"
            },
            "text/plain": [
              "'Argentina'"
            ]
          },
          "metadata": {
            "tags": []
          },
          "execution_count": 11
        }
      ]
    },
    {
      "cell_type": "code",
      "metadata": {
        "colab": {
          "base_uri": "https://localhost:8080/",
          "height": 34
        },
        "id": "FTLj_0O_3dCZ",
        "outputId": "f41f1e01-9a4d-49b8-e9af-bc029bbbcf4e"
      },
      "source": [
        "# Obtenha o valor da chave 'Beto'\n",
        "nomes_e_paises['Beto']"
      ],
      "execution_count": null,
      "outputs": [
        {
          "output_type": "execute_result",
          "data": {
            "application/vnd.google.colaboratory.intrinsic+json": {
              "type": "string"
            },
            "text/plain": [
              "'Bulgaria'"
            ]
          },
          "metadata": {
            "tags": []
          },
          "execution_count": 12
        }
      ]
    },
    {
      "cell_type": "code",
      "metadata": {
        "colab": {
          "base_uri": "https://localhost:8080/",
          "height": 34
        },
        "id": "evbAW0va3zUE",
        "outputId": "9ee6947b-b5f6-4943-c3b5-8dfddb97dda3"
      },
      "source": [
        "# Obtenha o valor da chave 'Daniele'\n",
        "nomes_e_paises['Daniele']"
      ],
      "execution_count": null,
      "outputs": [
        {
          "output_type": "execute_result",
          "data": {
            "application/vnd.google.colaboratory.intrinsic+json": {
              "type": "string"
            },
            "text/plain": [
              "'Dinamarca'"
            ]
          },
          "metadata": {
            "tags": []
          },
          "execution_count": 13
        }
      ]
    },
    {
      "cell_type": "code",
      "metadata": {
        "colab": {
          "base_uri": "https://localhost:8080/",
          "height": 184
        },
        "id": "qm9VaXa736y_",
        "outputId": "a6b646b4-cb41-4939-bbe8-38022c7e5804"
      },
      "source": [
        "# KeyError se você procurar uma chave que não está no dicionário\n",
        "nomes_e_paises['Pedro']"
      ],
      "execution_count": null,
      "outputs": [
        {
          "output_type": "error",
          "ename": "KeyError",
          "evalue": "ignored",
          "traceback": [
            "\u001b[0;31m---------------------------------------------------------------------------\u001b[0m",
            "\u001b[0;31mKeyError\u001b[0m                                  Traceback (most recent call last)",
            "\u001b[0;32m<ipython-input-14-3903008f849d>\u001b[0m in \u001b[0;36m<module>\u001b[0;34m()\u001b[0m\n\u001b[1;32m      1\u001b[0m \u001b[0;31m# KeyError se você procurar uma chave que não está no dicionário\u001b[0m\u001b[0;34m\u001b[0m\u001b[0;34m\u001b[0m\u001b[0;34m\u001b[0m\u001b[0m\n\u001b[0;32m----> 2\u001b[0;31m \u001b[0mnomes_e_paises\u001b[0m\u001b[0;34m[\u001b[0m\u001b[0;34m'Pedro'\u001b[0m\u001b[0;34m]\u001b[0m\u001b[0;34m\u001b[0m\u001b[0;34m\u001b[0m\u001b[0m\n\u001b[0m",
            "\u001b[0;31mKeyError\u001b[0m: 'Pedro'"
          ]
        }
      ]
    },
    {
      "cell_type": "markdown",
      "metadata": {
        "id": "Qj6qyqmD4RnR"
      },
      "source": [
        "Digite a chave entre colchetes para obter o valor correspondente. Se você inserir uma chave que não está no dicionário, o Python gerará um **KeyError**.\n",
        "\n",
        "Isso se parece com a indexação de lista, mas é completamente diferente! Por exemplo, você não pode acessar valores por sua posição relativa ou por fracionamento."
      ]
    },
    {
      "cell_type": "code",
      "metadata": {
        "colab": {
          "base_uri": "https://localhost:8080/",
          "height": 184
        },
        "id": "qexlgy1K4JVL",
        "outputId": "744db077-65e8-477c-b749-c6890e024cd8"
      },
      "source": [
        "# Não tem primeiro elemento do dicionário\n",
        "nomes_e_paises[0]"
      ],
      "execution_count": null,
      "outputs": [
        {
          "output_type": "error",
          "ename": "KeyError",
          "evalue": "ignored",
          "traceback": [
            "\u001b[0;31m---------------------------------------------------------------------------\u001b[0m",
            "\u001b[0;31mKeyError\u001b[0m                                  Traceback (most recent call last)",
            "\u001b[0;32m<ipython-input-15-289c1403bad4>\u001b[0m in \u001b[0;36m<module>\u001b[0;34m()\u001b[0m\n\u001b[1;32m      1\u001b[0m \u001b[0;31m# Não tem primeiro elemento do dicionário\u001b[0m\u001b[0;34m\u001b[0m\u001b[0;34m\u001b[0m\u001b[0;34m\u001b[0m\u001b[0m\n\u001b[0;32m----> 2\u001b[0;31m \u001b[0mnomes_e_paises\u001b[0m\u001b[0;34m[\u001b[0m\u001b[0;36m0\u001b[0m\u001b[0;34m]\u001b[0m\u001b[0;34m\u001b[0m\u001b[0;34m\u001b[0m\u001b[0m\n\u001b[0m",
            "\u001b[0;31mKeyError\u001b[0m: 0"
          ]
        }
      ]
    },
    {
      "cell_type": "code",
      "metadata": {
        "colab": {
          "base_uri": "https://localhost:8080/",
          "height": 184
        },
        "id": "OH2LLdwb4j92",
        "outputId": "62f86517-ef2c-4116-bd17-89f22374f556"
      },
      "source": [
        "#não tem último elemento em dicionário\n",
        "nomes_e_paises[-1]"
      ],
      "execution_count": null,
      "outputs": [
        {
          "output_type": "error",
          "ename": "KeyError",
          "evalue": "ignored",
          "traceback": [
            "\u001b[0;31m---------------------------------------------------------------------------\u001b[0m",
            "\u001b[0;31mKeyError\u001b[0m                                  Traceback (most recent call last)",
            "\u001b[0;32m<ipython-input-16-20f9ec1e0cac>\u001b[0m in \u001b[0;36m<module>\u001b[0;34m()\u001b[0m\n\u001b[1;32m      1\u001b[0m \u001b[0;31m#não tem último elemento em dicionário\u001b[0m\u001b[0;34m\u001b[0m\u001b[0;34m\u001b[0m\u001b[0;34m\u001b[0m\u001b[0m\n\u001b[0;32m----> 2\u001b[0;31m \u001b[0mnomes_e_paises\u001b[0m\u001b[0;34m[\u001b[0m\u001b[0;34m-\u001b[0m\u001b[0;36m1\u001b[0m\u001b[0;34m]\u001b[0m\u001b[0;34m\u001b[0m\u001b[0;34m\u001b[0m\u001b[0m\n\u001b[0m",
            "\u001b[0;31mKeyError\u001b[0m: -1"
          ]
        }
      ]
    },
    {
      "cell_type": "code",
      "metadata": {
        "colab": {
          "base_uri": "https://localhost:8080/",
          "height": 184
        },
        "id": "WLW7ofyd4sG6",
        "outputId": "f25eda77-5010-49ff-9a22-219afc121a53"
      },
      "source": [
        "# Você não pode fatiar\n",
        "nomes_e_paises['Alex':'Daniele']"
      ],
      "execution_count": null,
      "outputs": [
        {
          "output_type": "error",
          "ename": "TypeError",
          "evalue": "ignored",
          "traceback": [
            "\u001b[0;31m---------------------------------------------------------------------------\u001b[0m",
            "\u001b[0;31mTypeError\u001b[0m                                 Traceback (most recent call last)",
            "\u001b[0;32m<ipython-input-17-27e1fa0d076b>\u001b[0m in \u001b[0;36m<module>\u001b[0;34m()\u001b[0m\n\u001b[1;32m      1\u001b[0m \u001b[0;31m# Você não pode fatiar\u001b[0m\u001b[0;34m\u001b[0m\u001b[0;34m\u001b[0m\u001b[0;34m\u001b[0m\u001b[0m\n\u001b[0;32m----> 2\u001b[0;31m \u001b[0mnomes_e_paises\u001b[0m\u001b[0;34m[\u001b[0m\u001b[0;34m'Alex'\u001b[0m\u001b[0;34m:\u001b[0m\u001b[0;34m'Daniele'\u001b[0m\u001b[0;34m]\u001b[0m\u001b[0;34m\u001b[0m\u001b[0;34m\u001b[0m\u001b[0m\n\u001b[0m",
            "\u001b[0;31mTypeError\u001b[0m: unhashable type: 'slice'"
          ]
        }
      ]
    },
    {
      "cell_type": "markdown",
      "metadata": {
        "id": "SEjSWNUF5JpW"
      },
      "source": [
        "Python espera que tudo entre os colchetes seja uma chave. Portanto, para os primeiros dois exemplos, temos um KeyError porque nem 0 nem -1 são chaves no dicionário. Mas é possível usar 0 ou -1 como chave, como veremos em breve.\n",
        "\n",
        "Observação: a partir do Python 3.7, os elementos de ordem adicionados são preservados. No entanto, você não pode usar este pedido para acessar os elementos. É mais para fins de iteração e visuais, como veremos mais tarde.\n",
        "\n",
        "Se tentarmos dividir nosso dicionário, Python gerará um TypeError. Explicamos o porquê na seção **Hashing**.\n",
        "\n",
        "Vejamos o segundo método para acessar os dados armazenados em nosso dicionário."
      ]
    },
    {
      "cell_type": "markdown",
      "metadata": {
        "id": "6KyhT6Z-5Z2u"
      },
      "source": [
        "# **Método get() do Dicionário Python**"
      ]
    },
    {
      "cell_type": "code",
      "metadata": {
        "colab": {
          "base_uri": "https://localhost:8080/",
          "height": 34
        },
        "id": "I-Sipwgz46_0",
        "outputId": "3095c870-3821-415f-fb44-a972676fd121"
      },
      "source": [
        "# Obtenha o valor da chave 'Alex'\n",
        "nomes_e_paises.get('Alex')"
      ],
      "execution_count": null,
      "outputs": [
        {
          "output_type": "execute_result",
          "data": {
            "application/vnd.google.colaboratory.intrinsic+json": {
              "type": "string"
            },
            "text/plain": [
              "'Argentina'"
            ]
          },
          "metadata": {
            "tags": []
          },
          "execution_count": 18
        }
      ]
    },
    {
      "cell_type": "code",
      "metadata": {
        "id": "YEH9p3Ie5jF1"
      },
      "source": [
        "#Retorna nada se a chave não estiver no dicionário\n",
        "nomes_e_paises.get('Pedro')"
      ],
      "execution_count": null,
      "outputs": []
    },
    {
      "cell_type": "code",
      "metadata": {
        "colab": {
          "base_uri": "https://localhost:8080/",
          "height": 34
        },
        "id": "LuHJO-Vp575A",
        "outputId": "40f1f5ab-7a59-4543-aeca-997167f9dc31"
      },
      "source": [
        "# Segundo argumento retornado se a chave não estiver no dicionário\n",
        "nomes_e_paises.get('Pedro', 'Nome não está no dicionário')"
      ],
      "execution_count": null,
      "outputs": [
        {
          "output_type": "execute_result",
          "data": {
            "application/vnd.google.colaboratory.intrinsic+json": {
              "type": "string"
            },
            "text/plain": [
              "'Nome não está no dicionário'"
            ]
          },
          "metadata": {
            "tags": []
          },
          "execution_count": 21
        }
      ]
    },
    {
      "cell_type": "code",
      "metadata": {
        "colab": {
          "base_uri": "https://localhost:8080/",
          "height": 34
        },
        "id": "SmArLU086Puh",
        "outputId": "acccefce-b1f5-4bab-a4c7-51552fc4b0f9"
      },
      "source": [
        "#Retorna o valor se a chave está no dicionário\n",
        "nomes_e_paises.get('Charlene','Nome não está no dicionário')"
      ],
      "execution_count": null,
      "outputs": [
        {
          "output_type": "execute_result",
          "data": {
            "application/vnd.google.colaboratory.intrinsic+json": {
              "type": "string"
            },
            "text/plain": [
              "'Colombia'"
            ]
          },
          "metadata": {
            "tags": []
          },
          "execution_count": 22
        }
      ]
    },
    {
      "cell_type": "markdown",
      "metadata": {
        "id": "uGi_E_ny6qbo"
      },
      "source": [
        "O método **get()** leva dois argumentos:\n",
        "\n",
        "> 1 - A chave que você deseja pesquisar\n",
        "\n",
        "> 2 - (opcional) Valor a ser retornado se a chave não estiver no dicionário (o padrão é Nenhum).\n",
        "\n",
        "Funciona como a notação de colchetes. Mas nunca gerará um KeyError. Em vez disso, ele retorna Nenhum ou o objeto inserido como o segundo argumento.\n",
        "\n",
        "Isso é extremamente benéfico se você estiver iterando em um dicionário. Se você usar a notação de colchetes e encontrar um erro, toda a iteração será interrompida. Se você usar get(), nenhum erro será gerado e a iteração será concluída.\n",
        "\n",
        "Veremos como iterar em dicionários em breve. Mas não adianta fazer isso se nem mesmo sabemos o que nosso dicionário pode conter! Vamos aprender sobre o que pode e o que não pode ser um par de cahve-valores.\n"
      ]
    },
    {
      "cell_type": "markdown",
      "metadata": {
        "id": "DfQoV7ip7GSX"
      },
      "source": [
        "\n",
        "# **Python Dict Keys**\n",
        "Em dicionários reais, a grafia das palavras não muda. Seria muito difícil usar um se o fizessem. O mesmo se aplica aos dicionários Python. As chaves não podem mudar. Mas eles podem ser mais do que apenas strings. Na verdade, as chaves podem ser de qualquer tipo de dados imutável: **string**, **int**, **float**, **bool** ou **tupla**."
      ]
    },
    {
      "cell_type": "code",
      "metadata": {
        "id": "1SxCq5zP6jqf"
      },
      "source": [
        "string_dict = {'Oi': 'Olá'}"
      ],
      "execution_count": null,
      "outputs": []
    },
    {
      "cell_type": "code",
      "metadata": {
        "id": "CbCzmcz57Ztu"
      },
      "source": [
        "int_dict = {1: 'Olá'}"
      ],
      "execution_count": null,
      "outputs": []
    },
    {
      "cell_type": "code",
      "metadata": {
        "id": "sz9Fajym7ckA"
      },
      "source": [
        "float_dict = {1.0: 'Olá'}"
      ],
      "execution_count": null,
      "outputs": []
    },
    {
      "cell_type": "code",
      "metadata": {
        "id": "HDro0DIi7e2C"
      },
      "source": [
        "bool_dict = {True: 'Olá', False: 'Adeus'}"
      ],
      "execution_count": null,
      "outputs": []
    },
    {
      "cell_type": "code",
      "metadata": {
        "colab": {
          "base_uri": "https://localhost:8080/",
          "height": 184
        },
        "id": "B-zW9Eug7l-I",
        "outputId": "e8101b51-d4fc-435d-9b79-bfdafd1cb052"
      },
      "source": [
        "# Tuplas devem conter apenas tipos imutáveis\n",
        "erro_tuple_dict = {(1, [2, 3]): 'Olá'}"
      ],
      "execution_count": null,
      "outputs": [
        {
          "output_type": "error",
          "ename": "TypeError",
          "evalue": "ignored",
          "traceback": [
            "\u001b[0;31m---------------------------------------------------------------------------\u001b[0m",
            "\u001b[0;31mTypeError\u001b[0m                                 Traceback (most recent call last)",
            "\u001b[0;32m<ipython-input-30-fdd72a96b4a1>\u001b[0m in \u001b[0;36m<module>\u001b[0;34m()\u001b[0m\n\u001b[1;32m      1\u001b[0m \u001b[0;31m# Tuplas devem conter apenas tipos imutáveis\u001b[0m\u001b[0;34m\u001b[0m\u001b[0;34m\u001b[0m\u001b[0;34m\u001b[0m\u001b[0m\n\u001b[0;32m----> 2\u001b[0;31m \u001b[0merro_tuple_dict\u001b[0m \u001b[0;34m=\u001b[0m \u001b[0;34m{\u001b[0m\u001b[0;34m(\u001b[0m\u001b[0;36m1\u001b[0m\u001b[0;34m,\u001b[0m \u001b[0;34m[\u001b[0m\u001b[0;36m2\u001b[0m\u001b[0;34m,\u001b[0m \u001b[0;36m3\u001b[0m\u001b[0;34m]\u001b[0m\u001b[0;34m)\u001b[0m\u001b[0;34m:\u001b[0m \u001b[0;34m'Olá'\u001b[0m\u001b[0;34m}\u001b[0m\u001b[0;34m\u001b[0m\u001b[0;34m\u001b[0m\u001b[0m\n\u001b[0m",
            "\u001b[0;31mTypeError\u001b[0m: unhashable type: 'list'"
          ]
        }
      ]
    },
    {
      "cell_type": "markdown",
      "metadata": {
        "id": "xdL9Mc3L8CHL"
      },
      "source": [
        "Esta é a segunda vez que vimos **\"TypeError: unhashable type: 'list'\"**. Então, o que significa **\"inalterável\"**?"
      ]
    },
    {
      "cell_type": "markdown",
      "metadata": {
        "id": "XimhjSMl8YJx"
      },
      "source": [
        "# **O que é Hashing em Python?**\n",
        "Em segundo plano, um dicionário Python é uma estrutura de dados conhecida como **tabela hash**. Ele contém chaves e valores de hash (números de comprimento fixo). Você aplica **hash()** a uma chave para retornar seu valor de hash. Se chamarmos **hash()** na mesma chave muitas vezes, o resultado não mudará."
      ]
    },
    {
      "cell_type": "code",
      "metadata": {
        "colab": {
          "base_uri": "https://localhost:8080/"
        },
        "id": "X92BG-sU74ks",
        "outputId": "afd9a0c8-b26a-4279-a5c5-4622a69581d9"
      },
      "source": [
        "# Python 3.8 (diferentes versões podem dar resultados diferentes)\n",
        "hash('Olá mundo!')"
      ],
      "execution_count": null,
      "outputs": [
        {
          "output_type": "execute_result",
          "data": {
            "text/plain": [
              "9083226204161043626"
            ]
          },
          "metadata": {
            "tags": []
          },
          "execution_count": 31
        }
      ]
    },
    {
      "cell_type": "code",
      "metadata": {
        "colab": {
          "base_uri": "https://localhost:8080/"
        },
        "id": "eSr-Zlhg8nen",
        "outputId": "e12a985f-5777-4702-a1ea-a3d577714f54"
      },
      "source": [
        "# O mesmo resultado como acima\n",
        "hash('Olá mundo!')"
      ],
      "execution_count": null,
      "outputs": [
        {
          "output_type": "execute_result",
          "data": {
            "text/plain": [
              "9083226204161043626"
            ]
          },
          "metadata": {
            "tags": []
          },
          "execution_count": 35
        }
      ]
    },
    {
      "cell_type": "code",
      "metadata": {
        "colab": {
          "base_uri": "https://localhost:8080/"
        },
        "id": "3v0DhQrt8sYa",
        "outputId": "b413c84f-c815-4651-a27b-a12912be49d2"
      },
      "source": [
        "# Se mudarmos o objeto, mudamos o valor do hash\n",
        "hash('Adeus!')"
      ],
      "execution_count": null,
      "outputs": [
        {
          "output_type": "execute_result",
          "data": {
            "text/plain": [
              "2879382769498990672"
            ]
          },
          "metadata": {
            "tags": []
          },
          "execution_count": 36
        }
      ]
    },
    {
      "cell_type": "markdown",
      "metadata": {
        "id": "9sXnZxf89RDC"
      },
      "source": [
        "Quando criamos um par de chave-valor, o Python cria um par de hash-valor em segundo plano"
      ]
    },
    {
      "cell_type": "code",
      "metadata": {
        "colab": {
          "base_uri": "https://localhost:8080/"
        },
        "id": "bV1TrmhD9LrD",
        "outputId": "82ded8c0-01b7-415b-b4ee-8fa84d35b08f"
      },
      "source": [
        "#Nós escrevemos\n",
        "{'Olá mundo!': 1}"
      ],
      "execution_count": null,
      "outputs": [
        {
          "output_type": "execute_result",
          "data": {
            "text/plain": [
              "{'Olá mundo!': 1}"
            ]
          },
          "metadata": {
            "tags": []
          },
          "execution_count": 38
        }
      ]
    },
    {
      "cell_type": "code",
      "metadata": {
        "colab": {
          "base_uri": "https://localhost:8080/"
        },
        "id": "aJ8E7bmE-Q-O",
        "outputId": "1ceb134a-906b-4cf4-9aa1-75c8d1fbbcc9"
      },
      "source": [
        "#Python executa no plano de fundo (backgroud)\n",
        "{hash('Olá mundo!'):1}"
      ],
      "execution_count": null,
      "outputs": [
        {
          "output_type": "execute_result",
          "data": {
            "text/plain": [
              "{9083226204161043626: 1}"
            ]
          },
          "metadata": {
            "tags": []
          },
          "execution_count": 39
        }
      ]
    },
    {
      "cell_type": "code",
      "metadata": {
        "colab": {
          "base_uri": "https://localhost:8080/"
        },
        "id": "OoZ_SLxD-eVo",
        "outputId": "413554d6-972e-48d1-f9cc-76ad2aa251e2"
      },
      "source": [
        "#Isso é equivalente a\n",
        "{9083226204161043626:1}"
      ],
      "execution_count": null,
      "outputs": [
        {
          "output_type": "execute_result",
          "data": {
            "text/plain": [
              "{9083226204161043626: 1}"
            ]
          },
          "metadata": {
            "tags": []
          },
          "execution_count": 40
        }
      ]
    },
    {
      "cell_type": "markdown",
      "metadata": {
        "id": "s2xSKz9Q-nXW"
      },
      "source": [
        "Python usa esse hash-valor  quando procuramos um par de chave-valor. Por design, a função hash só pode ser aplicada a tipos de dados imutáveis. Se as chaves pudessem ser alteradas, o Python teria que criar uma nova tabela hash do zero toda vez que você as alterasse. Isso causaria enormes ineficiências e muitos bugs.\n",
        "\n",
        "Em vez disso, depois que uma tabela é criada, o valor do hash não pode ser alterado. Python sabe quais valores estão na tabela e não precisa calculá-los novamente. Isso torna as operações de consulta e associação de dicionário instantâneas e O(1).\n",
        "\n",
        "Em Python, o conceito de **hashing** só surge ao discutir dicionários. Considerando que, tipos de dados mutáveis vs imutáveis surgem em todos os lugares. Assim, dizemos que você só pode usar tipos de dados imutáveis como chaves, em vez de dizer tipos de dados *‘hasháveis’*.\n",
        "\n",
        "Finalmente, o que acontece se você usar o valor hash de um objeto como outra chave no mesmo dicionário? Python fica confuso?"
      ]
    },
    {
      "cell_type": "code",
      "metadata": {
        "id": "72fGP1rW-gtN"
      },
      "source": [
        "isso_funciona = {'olá': 1,\n",
        "                  hash('olá'): 2}"
      ],
      "execution_count": null,
      "outputs": []
    },
    {
      "cell_type": "code",
      "metadata": {
        "colab": {
          "base_uri": "https://localhost:8080/"
        },
        "id": "sor78kTj_HXC",
        "outputId": "21d35dab-9942-4e10-8a5b-1dfed0cc1d97"
      },
      "source": [
        "isso_funciona['olá']"
      ],
      "execution_count": null,
      "outputs": [
        {
          "output_type": "execute_result",
          "data": {
            "text/plain": [
              "1"
            ]
          },
          "metadata": {
            "tags": []
          },
          "execution_count": 42
        }
      ]
    },
    {
      "cell_type": "code",
      "metadata": {
        "colab": {
          "base_uri": "https://localhost:8080/"
        },
        "id": "OaFcLZv9_PRG",
        "outputId": "2161ead8-6ebd-4b4d-f9b4-f39040dacf45"
      },
      "source": [
        "isso_funciona[hash('olá')]"
      ],
      "execution_count": null,
      "outputs": [
        {
          "output_type": "execute_result",
          "data": {
            "text/plain": [
              "2"
            ]
          },
          "metadata": {
            "tags": []
          },
          "execution_count": 43
        }
      ]
    },
    {
      "cell_type": "markdown",
      "metadata": {
        "id": "KsPVJz2g_b2x"
      },
      "source": [
        "Funciona! Os motivos estão além do escopo deste artigo. A implementação completa do algoritmo e as razões pelas quais ele funciona são descritos [aqui](https://hg.python.org/cpython/file/default/Objects/dictobject.c). Tudo o que você realmente precisa saber é que o Python sempre escolhe o valor correto ... mesmo se você tentar confundi-lo!"
      ]
    },
    {
      "cell_type": "markdown",
      "source": [
        "# **Valores do Dicionário Python**\n",
        "\n",
        "Existem restrições nas chaves do dicionário, as os valores não têm nenhuma. Literalmente qualquer coisa pode ser um valor. Desde que sua chave seja um tipo de dados imutável, seus pares de chave-valores podem ser qualquer combinação de tipos que você desejar. Você tem controle total!"
      ],
      "metadata": {
        "id": "N-E_2SPKsDnG"
      }
    },
    {
      "cell_type": "code",
      "source": [
        "crazy_dict = { 11.0 : ( 'foo' , 'bar' ) ,'baz' : { 1 : 'a' , 2 : 'b' } ,( 42 , 55 ) : { 10 , 20 , 30 } ,True : False }"
      ],
      "metadata": {
        "id": "GlcYm22KsJrV"
      },
      "execution_count": null,
      "outputs": []
    },
    {
      "cell_type": "code",
      "source": [
        "# O valor do float 11.0 é uma tupla\n",
        "crazy_dict [ 11.0 ]"
      ],
      "metadata": {
        "colab": {
          "base_uri": "https://localhost:8080/"
        },
        "id": "1dagNjTksZcM",
        "outputId": "f4275d45-6ec7-42e5-b46c-7df0ca5af0e3"
      },
      "execution_count": null,
      "outputs": [
        {
          "output_type": "execute_result",
          "data": {
            "text/plain": [
              "('foo', 'bar')"
            ]
          },
          "metadata": {},
          "execution_count": 6
        }
      ]
    },
    {
      "cell_type": "code",
      "source": [
        "# O valor da string 'baz' é um dicionário\n",
        "crazy_dict. get ( 'baz' )"
      ],
      "metadata": {
        "colab": {
          "base_uri": "https://localhost:8080/"
        },
        "id": "WW4q1UGfsmE8",
        "outputId": "9910139a-43c2-4af5-8a73-901576420935"
      },
      "execution_count": null,
      "outputs": [
        {
          "output_type": "execute_result",
          "data": {
            "text/plain": [
              "{1: 'a', 2: 'b'}"
            ]
          },
          "metadata": {},
          "execution_count": 8
        }
      ]
    },
    {
      "cell_type": "code",
      "source": [
        "# O valor da tupla (42, 55) é um conjunto\n",
        "crazy_dict [( 42 , 55 )]"
      ],
      "metadata": {
        "colab": {
          "base_uri": "https://localhost:8080/"
        },
        "id": "rtWzZDt6s8jg",
        "outputId": "af17d8ad-4c40-4b9f-92c1-aba0a0d92f06"
      },
      "execution_count": null,
      "outputs": [
        {
          "output_type": "execute_result",
          "data": {
            "text/plain": [
              "{10, 20, 30}"
            ]
          },
          "metadata": {},
          "execution_count": 9
        }
      ]
    },
    {
      "cell_type": "code",
      "source": [
        "# Valor do Bool True é o Bool False\n",
        "crazy_dict. get ( True )"
      ],
      "metadata": {
        "colab": {
          "base_uri": "https://localhost:8080/"
        },
        "id": "cqfkGpzUtHa1",
        "outputId": "10f910da-82fe-40cb-f245-a60791ebac6d"
      },
      "execution_count": null,
      "outputs": [
        {
          "output_type": "execute_result",
          "data": {
            "text/plain": [
              "False"
            ]
          },
          "metadata": {},
          "execution_count": 10
        }
      ]
    },
    {
      "cell_type": "markdown",
      "source": [
        "**Nota** : você deve usar a notação de chaves para digitar um dicionário como este. Se você tentar usar o construtor dict(), obterá **SyntaxErrors** (a menos que você use o método verbose e digite uma lista de tuplas... mas por que você faria isso?)."
      ],
      "metadata": {
        "id": "lrniRjqStUUl"
      }
    },
    {
      "cell_type": "markdown",
      "source": [
        "# **Dicionários aninhados do Python**\n",
        "\n",
        "Ao fazer *web scraping* , é muito comum trabalhar com dicionários dentro de dicionários (dicionários aninhados). Para acessar valores em níveis mais profundos, você simplesmente encadeia os métodos. Qualquer ordem de notação de colchetes e **get()** é possível.\n"
      ],
      "metadata": {
        "id": "Qd5GSHuPtjvt"
      }
    },
    {
      "cell_type": "code",
      "source": [
        "# Retorna um ditado\n",
        "crazy_dict.get( 'baz' )"
      ],
      "metadata": {
        "colab": {
          "base_uri": "https://localhost:8080/"
        },
        "id": "ckFCWzAXtNJq",
        "outputId": "e5fd0925-b2a5-4450-8e17-f617650d4a06"
      },
      "execution_count": null,
      "outputs": [
        {
          "output_type": "execute_result",
          "data": {
            "text/plain": [
              "{1: 'a', 2: 'b'}"
            ]
          },
          "metadata": {},
          "execution_count": 11
        }
      ]
    },
    {
      "cell_type": "code",
      "source": [
        "# Encadeia outro método para acessar os valores deste dict\n",
        "crazy_dict.get( 'baz' ).get ( 1 )"
      ],
      "metadata": {
        "colab": {
          "base_uri": "https://localhost:8080/",
          "height": 36
        },
        "id": "PmyOwEmwt2lU",
        "outputId": "6867cda1-21c5-480b-83ca-c08eabea9909"
      },
      "execution_count": null,
      "outputs": [
        {
          "output_type": "execute_result",
          "data": {
            "text/plain": [
              "'a'"
            ],
            "application/vnd.google.colaboratory.intrinsic+json": {
              "type": "string"
            }
          },
          "metadata": {},
          "execution_count": 12
        }
      ]
    },
    {
      "cell_type": "code",
      "source": [
        "crazy_dict.get('baz')[2]"
      ],
      "metadata": {
        "colab": {
          "base_uri": "https://localhost:8080/",
          "height": 36
        },
        "id": "jvNjBl6gt8-r",
        "outputId": "360daece-9a0d-4872-b061-c252ce193e6c"
      },
      "execution_count": null,
      "outputs": [
        {
          "output_type": "execute_result",
          "data": {
            "text/plain": [
              "'b'"
            ],
            "application/vnd.google.colaboratory.intrinsic+json": {
              "type": "string"
            }
          },
          "metadata": {},
          "execution_count": 13
        }
      ]
    },
    {
      "cell_type": "markdown",
      "source": [
        "Agora sabemos como criar um dicionário e quais tipos de dados que são permitidos. Mas e se você já criou um dicionário e deseja adicionar mais valores a ele? "
      ],
      "metadata": {
        "id": "tqWYWv1DuDp2"
      }
    },
    {
      "cell_type": "markdown",
      "source": [
        "#**Adicionar ao dicionário Python**\n",
        "\n"
      ],
      "metadata": {
        "id": "NeUdSVktuXbK"
      }
    },
    {
      "cell_type": "code",
      "source": [
        "names_and_countries={'Adam': 'Argentina',\n",
        "                     'Beth': 'Bulgaria',\n",
        "                     'Charlie': 'Colombia',\n",
        "                     'Dani': 'Denmark', \n",
        "                     'Ethan': 'Estonia'}"
      ],
      "metadata": {
        "id": "LgiTisMXuAqi"
      },
      "execution_count": null,
      "outputs": []
    },
    {
      "cell_type": "code",
      "source": [
        "# Adiciona o par chave-valor 'Zoe': 'Zimbabwe'\n",
        "names_and_countries['Zoe'] = 'Zimbabwe'"
      ],
      "metadata": {
        "id": "mPgxetI9uh3k"
      },
      "execution_count": null,
      "outputs": []
    },
    {
      "cell_type": "code",
      "source": [
        "# Adiciona o par chave-valor 'Fred': 'France'\n",
        "names_and_countries['Fred'] = 'France'"
      ],
      "metadata": {
        "id": "I3maU3meuwup"
      },
      "execution_count": null,
      "outputs": []
    },
    {
      "cell_type": "code",
      "source": [
        "# Imprime dict atualizado\n",
        "names_and_countries"
      ],
      "metadata": {
        "colab": {
          "base_uri": "https://localhost:8080/"
        },
        "id": "0TwYVyWUu8Da",
        "outputId": "13e2581f-0c40-4857-b13a-edba621b3af0"
      },
      "execution_count": null,
      "outputs": [
        {
          "output_type": "execute_result",
          "data": {
            "text/plain": [
              "{'Adam': 'Argentina',\n",
              " 'Beth': 'Bulgaria',\n",
              " 'Charlie': 'Colombia',\n",
              " 'Dani': 'Denmark',\n",
              " 'Ethan': 'Estonia',\n",
              " 'Zoe': 'Zimbabwe',\n",
              " 'Fred': 'France'}"
            ]
          },
          "metadata": {},
          "execution_count": 20
        }
      ]
    },
    {
      "cell_type": "markdown",
      "source": [
        "Nosso dicionário reflete a ordem em que adicionamos os pares mostrando primeiro *Zoe* e depois *Fred*.\n",
        "\n",
        "Para adicionar um novo par chave-valor, simplesmente assumimos que a chave já existe e tentamos acessá-la por meio da notação de colchetes"
      ],
      "metadata": {
        "id": "owiWw4HyvHds"
      }
    },
    {
      "cell_type": "markdown",
      "source": [
        "\n",
        "\n",
        "```\n",
        "my_dict['new_key']\n",
        "```\n",
        "\n"
      ],
      "metadata": {
        "id": "xmhuLXhnvR_H"
      }
    },
    {
      "cell_type": "markdown",
      "source": [
        "Então (antes de pressionar return) use o operador de atribuição '=' e forneça um valor."
      ],
      "metadata": {
        "id": "96d9QDD7vbaa"
      }
    },
    {
      "cell_type": "markdown",
      "source": [
        "`my_dict [ 'new_key' ] = 'new_value'`"
      ],
      "metadata": {
        "id": "jUmbj-OPvBgn"
      }
    },
    {
      "cell_type": "markdown",
      "source": [
        "Você não pode atribuir novos pares de valores-chave por meio do get() método porque é uma chamada de função."
      ],
      "metadata": {
        "id": "qYPMr9xEv1oA"
      }
    },
    {
      "cell_type": "code",
      "source": [
        "names_and_countries.get('Holly') = 'Hungary'"
      ],
      "metadata": {
        "colab": {
          "base_uri": "https://localhost:8080/",
          "height": 133
        },
        "id": "C0yQgxxfvOZq",
        "outputId": "1b6be1d4-7bf8-4201-865c-243613e8fc0c"
      },
      "execution_count": null,
      "outputs": [
        {
          "output_type": "error",
          "ename": "SyntaxError",
          "evalue": "ignored",
          "traceback": [
            "\u001b[0;36m  File \u001b[0;32m\"<ipython-input-24-1dd59ab4a1b7>\"\u001b[0;36m, line \u001b[0;32m1\u001b[0m\n\u001b[0;31m    names_and_countries.get('Holly') = 'Hungary'\u001b[0m\n\u001b[0m                                                ^\u001b[0m\n\u001b[0;31mSyntaxError\u001b[0m\u001b[0;31m:\u001b[0m can't assign to function call\n"
          ]
        }
      ]
    },
    {
      "cell_type": "markdown",
      "source": [
        "Para excluir um par chave-valor, use a  instrução **del**. Para alterar o valor de uma chave existente, use a mesma notação de colchetes acima."
      ],
      "metadata": {
        "id": "9rJw2iR7wOHi"
      }
    },
    {
      "cell_type": "code",
      "source": [
        "# Excluir a entrada Zoe\n",
        "del names_and_countries['Zoe']"
      ],
      "metadata": {
        "id": "-jFiPe1Tv8yl"
      },
      "execution_count": null,
      "outputs": []
    },
    {
      "cell_type": "code",
      "source": [
        "# Muda o valor de Ethan\n",
        "names_and_countries['Ethan'] = 'DIFFERENT_COUNTRY'"
      ],
      "metadata": {
        "id": "vu3t45ciwZ_o"
      },
      "execution_count": null,
      "outputs": []
    },
    {
      "cell_type": "code",
      "source": [
        "names_and_countries"
      ],
      "metadata": {
        "colab": {
          "base_uri": "https://localhost:8080/"
        },
        "id": "VZPxn9v1wgnq",
        "outputId": "86859684-dc8d-4663-ac46-42145e53235c"
      },
      "execution_count": null,
      "outputs": [
        {
          "output_type": "execute_result",
          "data": {
            "text/plain": [
              "{'Adam': 'Argentina',\n",
              " 'Beth': 'Bulgaria',\n",
              " 'Charlie': 'Colombia',\n",
              " 'Dani': 'Denmark',\n",
              " 'Ethan': 'DIFFERENT_COUNTRY',\n",
              " 'Fred': 'France'}"
            ]
          },
          "metadata": {},
          "execution_count": 27
        }
      ]
    },
    {
      "cell_type": "markdown",
      "source": [
        "Assim como outros tipos de dados mutáveis, tenha cuidado ao usar a instrução **del** em um loop. Modifica o dicionário no lugar e pode levar a consequências não intencionais. A melhor prática é criar uma cópia do dicionário e alterá-la. Ou você pode usar, meu favorito pessoal, compreensão de dicionário (que abordaremos mais tarde) - um recurso poderoso semelhante ao popular recurso de compreensão de lista em Python ."
      ],
      "metadata": {
        "id": "S_YuHbvhwnsl"
      }
    },
    {
      "cell_type": "markdown",
      "source": [
        "# **Método de cópia do Dicionário** - `copy()`\n"
      ],
      "metadata": {
        "id": "kalKBCVzw5is"
      }
    },
    {
      "cell_type": "code",
      "source": [
        "my_dict = { 'a' : 1 , 'b' : 2 }"
      ],
      "metadata": {
        "id": "9K_6HS8HwiwW"
      },
      "execution_count": null,
      "outputs": []
    },
    {
      "cell_type": "code",
      "source": [
        "# Crie uma cópia superficial\n",
        "shallow_copy = my_dict.copy()"
      ],
      "metadata": {
        "id": "3KLjctIRxEUN"
      },
      "execution_count": null,
      "outputs": []
    },
    {
      "cell_type": "code",
      "source": [
        "# Crie uma cópia profunda\n",
        "import copy\n",
        "deep_copy = copy.deepcopy(my_dict)"
      ],
      "metadata": {
        "id": "hwlJDk_bxNP7"
      },
      "execution_count": null,
      "outputs": []
    },
    {
      "cell_type": "markdown",
      "source": [
        "Para criar uma cópia superficial de um dicionário, use o método **copy()**. Para criar uma cópia profunda, use o método **deepcopy()**  do módulo **copy** integrado. Não discutiremos a distinção entre os métodos de cópia neste artigo para brevidade."
      ],
      "metadata": {
        "id": "OAsj7VKvxoEd"
      }
    },
    {
      "cell_type": "markdown",
      "source": [
        "# Verificando a associação ao dicionário\n",
        "\n",
        "Digamos que temos um dicionário com 100 mil pares de chave-valores. Não podemos imprimi-lo na tela e verificar visualmente quais pares de chave-valores ele contém.\n",
        "\n",
        "Felizmente, a sintaxe a seguir é a mesma para dicionários e para outros objetos, como listas e conjuntos. Usamos a palavra- chave **in**."
      ],
      "metadata": {
        "id": "ri5OIf3Gz4Gl"
      }
    },
    {
      "cell_type": "code",
      "source": [
        "# Nome obviamente não está em nosso dict\n",
        "'INCORRECT_NAME' in names_and_countries"
      ],
      "metadata": {
        "colab": {
          "base_uri": "https://localhost:8080/"
        },
        "id": "YkTuKqW4xVyA",
        "outputId": "fb33ee03-6282-4419-b73f-c28493460671"
      },
      "execution_count": null,
      "outputs": [
        {
          "output_type": "execute_result",
          "data": {
            "text/plain": [
              "False"
            ]
          },
          "metadata": {},
          "execution_count": 32
        }
      ]
    },
    {
      "cell_type": "code",
      "source": [
        "# Sabemos que isso está em nosso dict\n",
        "'Adam' in names_and_countries"
      ],
      "metadata": {
        "colab": {
          "base_uri": "https://localhost:8080/"
        },
        "id": "yeCH9WBt0TkO",
        "outputId": "5051fb55-300b-4611-89eb-43da1416c789"
      },
      "execution_count": null,
      "outputs": [
        {
          "output_type": "execute_result",
          "data": {
            "text/plain": [
              "True"
            ]
          },
          "metadata": {},
          "execution_count": 33
        }
      ]
    },
    {
      "cell_type": "code",
      "source": [
        "# O valor de Adam está no dict... certo?\n",
        "names_and_countries['Adam']"
      ],
      "metadata": {
        "colab": {
          "base_uri": "https://localhost:8080/",
          "height": 36
        },
        "id": "1j5in_yv0cXp",
        "outputId": "8a1c7886-dc10-47cf-bf76-196c85ac9244"
      },
      "execution_count": null,
      "outputs": [
        {
          "output_type": "execute_result",
          "data": {
            "text/plain": [
              "'Argentina'"
            ],
            "application/vnd.google.colaboratory.intrinsic+json": {
              "type": "string"
            }
          },
          "metadata": {},
          "execution_count": 34
        }
      ]
    },
    {
      "cell_type": "code",
      "source": [
        "'Argentina' in names_and_countries"
      ],
      "metadata": {
        "colab": {
          "base_uri": "https://localhost:8080/"
        },
        "id": "AFptkAZC0hlk",
        "outputId": "8565f5ef-2174-493e-8e9d-90d2491917ad"
      },
      "execution_count": null,
      "outputs": [
        {
          "output_type": "execute_result",
          "data": {
            "text/plain": [
              "False"
            ]
          },
          "metadata": {},
          "execution_count": 35
        }
      ]
    },
    {
      "cell_type": "markdown",
      "source": [
        "Esperamos que INCORRECT_NAME não esteja em nosso dict e Adam esteja nele. Mas por que 'Argentina' retorna False? Acabamos de ver que é o valor de Adam?!"
      ],
      "metadata": {
        "id": "M7ws7nLI04qe"
      }
    },
    {
      "cell_type": "markdown",
      "source": [
        "Lembra no início do artigo que eu disse que dicionários são mapas? Eles mapeiam de algo que conhecemos (a chave) para algo que não sabemos (o valor). Então, quando perguntamos se algo está em nosso dicionário, estamos perguntando se é uma chave. Não estamos perguntando se é um valor"
      ],
      "metadata": {
        "id": "cA2MhcMF0_k8"
      }
    },
    {
      "cell_type": "markdown",
      "source": [
        "O que é mais natural quando se pensa em um dicionário da vida real:\n",
        "\n",
        "    A palavra 'facetious' neste dicionário?\n",
        "    A palavra significa 'falta de intenção séria; preocupado com algo não essencial, divertido ou frívolo' neste dicionário?\n",
        "\n",
        "Claramente o primeiro é o vencedor e este é o comportamento padrão para Python."
      ],
      "metadata": {
        "id": "H0ytXVNJ1Ehj"
      }
    },
    {
      "cell_type": "code",
      "source": [
        "'algo' in my_dict"
      ],
      "metadata": {
        "colab": {
          "base_uri": "https://localhost:8080/"
        },
        "id": "ka1n8Rqh0lQB",
        "outputId": "f83bb129-5888-4e57-bf58-f1e32891f76c"
      },
      "execution_count": null,
      "outputs": [
        {
          "output_type": "execute_result",
          "data": {
            "text/plain": [
              "False"
            ]
          },
          "metadata": {},
          "execution_count": 36
        }
      ]
    },
    {
      "cell_type": "markdown",
      "source": [
        "Estamos verificando se 'algo' é uma chave em my_dict.\n",
        "\n",
        "Mas não tenha medo, se você quiser verificar se um valor específico está em um dicionário, isso é possível! Nós simplesmente temos que usar alguns métodos."
      ],
      "metadata": {
        "id": "Ri6j2o8T1S2y"
      }
    },
    {
      "cell_type": "markdown",
      "source": [
        "# Métodos do Dicionário Python – Chaves, Valores e Itens"
      ],
      "metadata": {
        "id": "z1DTzeeo1eaL"
      }
    },
    {
      "cell_type": "markdown",
      "source": [
        "Existem 3 métodos para usar. Todos podem ser usados ​​para verificar a associação ou para iterar partes específicas de um dicionário. Cada um retorna um iterável."
      ],
      "metadata": {
        "id": "y8rtr5IO1jqJ"
      }
    },
    {
      "cell_type": "markdown",
      "source": [
        "\n",
        "    .keys() – iterar sobre as chaves do dicionário\n",
        "    .values() – iterar sobre os valores do dicionário\n",
        "    .items() – itere sobre as chaves e valores do dicionário\n"
      ],
      "metadata": {
        "id": "rdR7WQFC1uzu"
      }
    },
    {
      "cell_type": "markdown",
      "source": [
        "**Observação**: alteraremos o país de Ethan de volta para a Estônia para facilitar a leitura."
      ],
      "metadata": {
        "id": "tRScIORZ15fI"
      }
    },
    {
      "cell_type": "code",
      "source": [
        "# Muda o valor de Ethan\n",
        "names_and_countries['Ethan'] = 'Estonia'"
      ],
      "metadata": {
        "id": "4r-8sPb92K5N"
      },
      "execution_count": null,
      "outputs": []
    },
    {
      "cell_type": "code",
      "source": [
        "names_and_countries"
      ],
      "metadata": {
        "colab": {
          "base_uri": "https://localhost:8080/"
        },
        "id": "lmkbvWhW1PO9",
        "outputId": "de1f5a5b-187e-40bf-f419-244b835c40a1"
      },
      "execution_count": null,
      "outputs": [
        {
          "output_type": "execute_result",
          "data": {
            "text/plain": [
              "{'Adam': 'Argentina',\n",
              " 'Beth': 'Bulgaria',\n",
              " 'Charlie': 'Colombia',\n",
              " 'Dani': 'Denmark',\n",
              " 'Ethan': 'Estonia',\n",
              " 'Fred': 'France'}"
            ]
          },
          "metadata": {},
          "execution_count": 39
        }
      ]
    },
    {
      "cell_type": "code",
      "source": [
        "names_and_countries.keys()"
      ],
      "metadata": {
        "colab": {
          "base_uri": "https://localhost:8080/"
        },
        "id": "c8f4xzaz2BEA",
        "outputId": "ebbfc2fc-280c-4b16-f210-e8defb6e0211"
      },
      "execution_count": null,
      "outputs": [
        {
          "output_type": "execute_result",
          "data": {
            "text/plain": [
              "dict_keys(['Adam', 'Beth', 'Charlie', 'Dani', 'Ethan', 'Fred'])"
            ]
          },
          "metadata": {},
          "execution_count": 40
        }
      ]
    },
    {
      "cell_type": "code",
      "source": [
        "names_and_countries.values()"
      ],
      "metadata": {
        "colab": {
          "base_uri": "https://localhost:8080/"
        },
        "id": "WBSZiBxM2VXb",
        "outputId": "a6d2a19b-c27e-461c-eef7-522727c18f84"
      },
      "execution_count": null,
      "outputs": [
        {
          "output_type": "execute_result",
          "data": {
            "text/plain": [
              "dict_values(['Argentina', 'Bulgaria', 'Colombia', 'Denmark', 'Estonia', 'France'])"
            ]
          },
          "metadata": {},
          "execution_count": 41
        }
      ]
    },
    {
      "cell_type": "code",
      "source": [
        "names_and_countries.items()"
      ],
      "metadata": {
        "colab": {
          "base_uri": "https://localhost:8080/"
        },
        "id": "Gu4HZxK-2Xpv",
        "outputId": "d299efd8-e02f-49aa-c41a-1a1f4da91148"
      },
      "execution_count": null,
      "outputs": [
        {
          "output_type": "execute_result",
          "data": {
            "text/plain": [
              "dict_items([('Adam', 'Argentina'), ('Beth', 'Bulgaria'), ('Charlie', 'Colombia'), ('Dani', 'Denmark'), ('Ethan', 'Estonia'), ('Fred', 'France')])"
            ]
          },
          "metadata": {},
          "execution_count": 42
        }
      ]
    },
    {
      "cell_type": "markdown",
      "source": [
        "Agora podemos verificar a associação em chaves e valores:"
      ],
      "metadata": {
        "id": "3yHQL1aK2eqw"
      }
    },
    {
      "cell_type": "code",
      "source": [
        "# Verifique a associação nas chaves do dict\n",
        "'Adam' in names_and_countries"
      ],
      "metadata": {
        "colab": {
          "base_uri": "https://localhost:8080/"
        },
        "id": "8w2dgQMk2aCD",
        "outputId": "dadcc8c4-d47a-4e04-c2ac-2c009e0576c4"
      },
      "execution_count": null,
      "outputs": [
        {
          "output_type": "execute_result",
          "data": {
            "text/plain": [
              "True"
            ]
          },
          "metadata": {},
          "execution_count": 43
        }
      ]
    },
    {
      "cell_type": "code",
      "source": [
        "'Adam' in names_and_countries.keys()"
      ],
      "metadata": {
        "colab": {
          "base_uri": "https://localhost:8080/"
        },
        "id": "xW49SZsO2l50",
        "outputId": "151578d2-ba54-4085-ccd8-f6eb14dc7d96"
      },
      "execution_count": null,
      "outputs": [
        {
          "output_type": "execute_result",
          "data": {
            "text/plain": [
              "True"
            ]
          },
          "metadata": {},
          "execution_count": 44
        }
      ]
    },
    {
      "cell_type": "code",
      "source": [
        "# Verifique a associação nos valores do dict\n",
        "'Argentina' in names_and_countries.values()"
      ],
      "metadata": {
        "colab": {
          "base_uri": "https://localhost:8080/"
        },
        "id": "KAvupq-K2pqe",
        "outputId": "de931423-5ed8-4fdc-e43c-f75a5fb3e9f2"
      },
      "execution_count": null,
      "outputs": [
        {
          "output_type": "execute_result",
          "data": {
            "text/plain": [
              "True"
            ]
          },
          "metadata": {},
          "execution_count": 45
        }
      ]
    },
    {
      "cell_type": "code",
      "source": [
        "# Verifique a associação em chaves ou valores?\n",
        "'Denmark' in names_and_countries.items()"
      ],
      "metadata": {
        "colab": {
          "base_uri": "https://localhost:8080/"
        },
        "id": "YGgxjfHd2yPS",
        "outputId": "a78e364f-8cdf-4b0a-ef5f-3ee041d2c359"
      },
      "execution_count": null,
      "outputs": [
        {
          "output_type": "execute_result",
          "data": {
            "text/plain": [
              "False"
            ]
          },
          "metadata": {},
          "execution_count": 46
        }
      ]
    },
    {
      "cell_type": "markdown",
      "source": [
        "Você não pode fazer check-in das chaves e valores ao mesmo tempo. Isso ocorre porque *items()* retorna um iterável de tuplas. Como 'Denmark' não é uma tupla, retornará False."
      ],
      "metadata": {
        "id": "bX4sJIMZ2_Mz"
      }
    },
    {
      "cell_type": "code",
      "source": [
        "for thing in names_and_countries.items():\n",
        "  print(thing)"
      ],
      "metadata": {
        "colab": {
          "base_uri": "https://localhost:8080/"
        },
        "id": "FHHEdWtQ221m",
        "outputId": "69a83655-462b-49db-90b6-fce801c6adb7"
      },
      "execution_count": null,
      "outputs": [
        {
          "output_type": "stream",
          "name": "stdout",
          "text": [
            "('Adam', 'Argentina')\n",
            "('Beth', 'Bulgaria')\n",
            "('Charlie', 'Colombia')\n",
            "('Dani', 'Denmark')\n",
            "('Ethan', 'Estonia')\n",
            "('Fred', 'France')\n"
          ]
        }
      ]
    },
    {
      "cell_type": "code",
      "source": [
        "# True porque é uma tupla contendo um par chave-valor\n",
        "('Dani', 'Denmark') in names_and_countries.items()"
      ],
      "metadata": {
        "colab": {
          "base_uri": "https://localhost:8080/"
        },
        "id": "bz0fsARr3KZX",
        "outputId": "e037ea73-707f-4005-a081-2817fee6fd7f"
      },
      "execution_count": null,
      "outputs": [
        {
          "output_type": "execute_result",
          "data": {
            "text/plain": [
              "True"
            ]
          },
          "metadata": {},
          "execution_count": 48
        }
      ]
    },
    {
      "cell_type": "markdown",
      "source": [
        "# **Python Loop Através do Dicionário - Uma visão geral**\n",
        "\n",
        "Para iterar sobre qualquer parte do dicionário, podemos usar um `loop for`"
      ],
      "metadata": {
        "id": "y4uFAcSJAXCS"
      }
    },
    {
      "cell_type": "code",
      "source": [
        "for name in names_and_countries.keys():\n",
        "  print(name)"
      ],
      "metadata": {
        "colab": {
          "base_uri": "https://localhost:8080/"
        },
        "id": "Heoeo6i2AJRr",
        "outputId": "e1b78e08-96f2-4405-fe48-c593dfe97ddf"
      },
      "execution_count": null,
      "outputs": [
        {
          "output_type": "stream",
          "name": "stdout",
          "text": [
            "Adam\n",
            "Beth\n",
            "Charlie\n",
            "Dani\n",
            "Ethan\n",
            "Fred\n"
          ]
        }
      ]
    },
    {
      "cell_type": "code",
      "source": [
        "for country in names_and_countries.values():\n",
        "  print(f'{country} is wonderful!')"
      ],
      "metadata": {
        "colab": {
          "base_uri": "https://localhost:8080/"
        },
        "id": "_geyxN2XAktQ",
        "outputId": "30de429c-e7e5-47fd-9a32-f2d53281e1f5"
      },
      "execution_count": null,
      "outputs": [
        {
          "output_type": "stream",
          "name": "stdout",
          "text": [
            "Argentina is wonderful!\n",
            "Bulgaria is wonderful!\n",
            "Colombia is wonderful!\n",
            "Denmark is wonderful!\n",
            "Estonia is wonderful!\n",
            "France is wonderful!\n"
          ]
        }
      ]
    },
    {
      "cell_type": "code",
      "source": [
        "for name, country in names_and_countries.items():\n",
        "  print(f'{name} is from {country}.')"
      ],
      "metadata": {
        "colab": {
          "base_uri": "https://localhost:8080/"
        },
        "id": "Kbs9N_dWApO5",
        "outputId": "89c3b3d2-16e6-45c9-ff54-381677249c38"
      },
      "execution_count": null,
      "outputs": [
        {
          "output_type": "stream",
          "name": "stdout",
          "text": [
            "Adam is from Argentina.\n",
            "Beth is from Bulgaria.\n",
            "Charlie is from Colombia.\n",
            "Dani is from Denmark.\n",
            "Ethan is from Estonia.\n",
            "Fred is from France.\n"
          ]
        }
      ]
    },
    {
      "cell_type": "markdown",
      "source": [
        "É uma prática recomendada usar nomes descritivos para os objetos sobre os quais você itera. Código é feito para ser lido e entendido por humanos! Assim, escolhemos 'nome' e 'país' em vez de 'chave' e 'valor'."
      ],
      "metadata": {
        "id": "jYVNTuy5AzmL"
      }
    },
    {
      "cell_type": "code",
      "source": [
        "# Melhor prática\n",
        "for descriptive_key, descriptive_value in my_dict.items():\n",
        "  # do something\n",
        "  pass"
      ],
      "metadata": {
        "id": "ihU2pHW0Atsd"
      },
      "execution_count": null,
      "outputs": []
    },
    {
      "cell_type": "code",
      "source": [
        "# Prática ruim (mas você verá 'na natureza'!)\n",
        "for key, value in my_dict.items():\n",
        "  # do something\n",
        "  pass"
      ],
      "metadata": {
        "id": "VjSfYI9PBJMe"
      },
      "execution_count": null,
      "outputs": []
    },
    {
      "cell_type": "markdown",
      "source": [
        "Se seus pares de chave-valores não seguirem um padrão específico, não há problema em usar 'chave' e 'valor' como suas variáveis ​​iteráveis, ou mesmo 'k' e 'v'."
      ],
      "metadata": {
        "id": "zaj7a-56BR6w"
      }
    },
    {
      "cell_type": "code",
      "source": [
        "# Iterar sobre o dict é o mesmo que dict.keys()\n",
        "for thing in names_and_countries:\n",
        "  print(thing)"
      ],
      "metadata": {
        "colab": {
          "base_uri": "https://localhost:8080/"
        },
        "id": "eWwjMVs1BOUI",
        "outputId": "59bfac26-15ae-4ce8-f7d3-3eef208d5804"
      },
      "execution_count": null,
      "outputs": [
        {
          "output_type": "stream",
          "name": "stdout",
          "text": [
            "Adam\n",
            "Beth\n",
            "Charlie\n",
            "Dani\n",
            "Ethan\n",
            "Fred\n"
          ]
        }
      ]
    },
    {
      "cell_type": "markdown",
      "source": [
        "#**Uma nota sobre reutilização**\n"
      ],
      "metadata": {
        "id": "VqjiKbp7BiIo"
      }
    },
    {
      "cell_type": "markdown",
      "source": [
        "\n",
        "\n",
        "```\n",
        "# Funciona com tipos gerais do Python\n",
        "for key in object:\n",
        "  # do something\n",
        " ```\n",
        "\n"
      ],
      "metadata": {
        "id": "TiUUq9oqBflj"
      }
    },
    {
      "cell_type": "markdown",
      "source": [
        "```\n",
        "# Funciona apenas com dicionários\n",
        "for key in object.keys():\n",
        "  # faça alguma coisa\n",
        "```\n",
        "\n"
      ],
      "metadata": {
        "id": "5lqIx7s1B6_q"
      }
    },
    {
      "cell_type": "markdown",
      "source": [
        "Não especifique `keys()` se seu código precisar trabalhar com outros objetos como listas e conjuntos. Use o método `keys()` se seu código for destinado apenas a dicionários. Isso evita que futuros usuários insiram objetos incorretos."
      ],
      "metadata": {
        "id": "dToQQUXaCKEC"
      }
    },
    {
      "cell_type": "markdown",
      "source": [
        "# **Python dict has_key**\n",
        "\n",
        "O método `has_key()` é exclusivo do Python 2. Ele retorna True se a chave estiver no dicionário e False se não estiver.\n",
        "\n",
        "O Python 3 removeu essa funcionalidade em favor da seguinte sintaxe:\n",
        "\n",
        "\n",
        "```\n",
        "if key in d:\n",
        "  # do something\n",
        "```\n",
        "\n"
      ],
      "metadata": {
        "id": "0rSVrXdkCTKu"
      }
    },
    {
      "cell_type": "markdown",
      "source": [
        "Isso mantém a sintaxe do dicionário alinhada com a de outros tipos de dados, como conjuntos e listas. Isso ajuda a legibilidade e a reutilização."
      ],
      "metadata": {
        "id": "D6gz-eL7Ch58"
      }
    },
    {
      "cell_type": "markdown",
      "source": [
        "##Dicionários de impressão elegante usando `pprint()`"
      ],
      "metadata": {
        "id": "kdi0qIP2CnYw"
      }
    },
    {
      "cell_type": "markdown",
      "source": [
        "O módulo interno `pprint` contém a função `pprint`. Isto irá 'imprimir muito bem' o seu dicionário. Ele classifica as chaves em ordem alfabética e imprime cada par chave-valor em uma nova linha."
      ],
      "metadata": {
        "id": "J6fLyBv9CtZA"
      }
    },
    {
      "cell_type": "code",
      "source": [
        "from pprint import pprint"
      ],
      "metadata": {
        "id": "crg1fzUEBug7"
      },
      "execution_count": null,
      "outputs": []
    },
    {
      "cell_type": "code",
      "source": [
        "messy_dict = dict(z='Here is a really long key that spans a lot of text', a='here is another long key that is really too long', j='this is the final key in this dictionary')"
      ],
      "metadata": {
        "id": "zkYT2kTLC3fG"
      },
      "execution_count": null,
      "outputs": []
    },
    {
      "cell_type": "code",
      "source": [
        "pprint(messy_dict)"
      ],
      "metadata": {
        "colab": {
          "base_uri": "https://localhost:8080/"
        },
        "id": "nLjtIs5oC7pl",
        "outputId": "b7ce0031-7b14-4939-acca-99a6dca9bf68"
      },
      "execution_count": null,
      "outputs": [
        {
          "output_type": "stream",
          "name": "stdout",
          "text": [
            "{'a': 'here is another long key that is really too long',\n",
            " 'j': 'this is the final key in this dictionary',\n",
            " 'z': 'Here is a really long key that spans a lot of text'}\n"
          ]
        }
      ]
    },
    {
      "cell_type": "markdown",
      "source": [
        "Não altera em nada o dicionário. É apenas muito mais legível agora."
      ],
      "metadata": {
        "id": "owMMTdGHDH2m"
      }
    },
    {
      "cell_type": "markdown",
      "source": [
        "#Dicionários Python e arquivos JSON\n",
        "\n",
        "Precisamos codificar e decodificar todos esses dados ."
      ],
      "metadata": {
        "id": "ymQr-trEDLkN"
      }
    },
    {
      "cell_type": "markdown",
      "source": [
        "Um tipo de arquivo comum com o qual você interagirá é um arquivo `JSON`. Significa `Javascript Object Notation`. Eles são usados ​​para estruturar e enviar dados em aplicações web.\n",
        "\n",
        "Eles funcionam quase exatamente da mesma maneira que os dicionários e você pode facilmente transformar um no outro com muita facilidade.\n",
        "\n",
        "## Python Dict para `JSON`"
      ],
      "metadata": {
        "id": "2FqyxoFoDP8o"
      }
    },
    {
      "cell_type": "code",
      "source": [
        "import json"
      ],
      "metadata": {
        "id": "bs1nrFtFDBXX"
      },
      "execution_count": null,
      "outputs": []
    },
    {
      "cell_type": "code",
      "source": [
        "my_dict = dict(a=1, b=2, c=3, d=4)"
      ],
      "metadata": {
        "id": "1NA6_nLdDlgg"
      },
      "execution_count": null,
      "outputs": []
    },
    {
      "cell_type": "code",
      "source": [
        "with open('my_json.json', 'w') as f:\n",
        "  json.dump(my_dict, f)"
      ],
      "metadata": {
        "id": "VZB62oMgDnlY"
      },
      "execution_count": null,
      "outputs": []
    },
    {
      "cell_type": "markdown",
      "source": [
        "O código acima pega `my_dict` e grava no arquivo `my_json.json` no diretório atual.\n",
        "\n",
        "Você pode ficar mais complexo do que isso definindo codificações de caracteres e espaços. Para mais detalhes, direcionamos o leitor para a documentação [JSON](https://docs.python.org/3.8/library/json.html)."
      ],
      "metadata": {
        "id": "RxHXlPH8DxU6"
      }
    },
    {
      "cell_type": "markdown",
      "source": [
        "## Python JSON para ditar\n",
        "\n",
        "Temos o arquivo `my_json.json` em nosso diretório de trabalho atual."
      ],
      "metadata": {
        "id": "kIfRAYhgEMGT"
      }
    },
    {
      "cell_type": "code",
      "source": [
        "import json"
      ],
      "metadata": {
        "id": "hV06K6gsDqsy"
      },
      "execution_count": null,
      "outputs": []
    },
    {
      "cell_type": "code",
      "source": [
        "with open('my_json.json', 'r') as f:\n",
        "  new_dict = json.load(f)"
      ],
      "metadata": {
        "id": "76t4eCHBEcvu"
      },
      "execution_count": null,
      "outputs": []
    },
    {
      "cell_type": "code",
      "source": [
        "new_dict"
      ],
      "metadata": {
        "colab": {
          "base_uri": "https://localhost:8080/"
        },
        "id": "w5ZRqhqrEgEV",
        "outputId": "340a6db7-230b-4be8-dab6-bfb497dadf62"
      },
      "execution_count": null,
      "outputs": [
        {
          "output_type": "execute_result",
          "data": {
            "text/plain": [
              "{'a': 1, 'b': 2, 'c': 3, 'd': 4}"
            ]
          },
          "metadata": {},
          "execution_count": 65
        }
      ]
    },
    {
      "cell_type": "markdown",
      "source": [
        "**Observação**: os pares de chave-valores em `JSON` são sempre convertidos em strings quando codificados em Python. É fácil transformar qualquer objeto em uma string e isso leva a menos erros ao codificar e decodificar arquivos. Mas isso significa que, às vezes, o arquivo que você carrega e o arquivo com o qual você iniciou não são idênticos."
      ],
      "metadata": {
        "id": "z5-BjIBsEnFx"
      }
    },
    {
      "cell_type": "markdown",
      "source": [
        "#Métodos de dicionário Python\n",
        "\n",
        "Aqui está uma visão geral rápida:"
      ],
      "metadata": {
        "id": "wj-nodQBEziO"
      }
    },
    {
      "cell_type": "markdown",
      "source": [
        "\n",
        "    1. dict.clear() – remove todos os pares chave-valor de um dict\n",
        "    2. dict.update() – mescla dois dicionários juntos\n",
        "    3. dict.pop() – remove uma chave e retorna seu valor\n",
        "    4. dict.popitem() – remove um par de chave-valor aleatório e o retorna como uma tupla\n",
        "\n",
        "Usaremos as letras A e B para nossos dicionários, pois são mais fáceis de ler do que nomes descritivos. Além disso, mantivemos os exemplos simples para ajudar na compreensão."
      ],
      "metadata": {
        "id": "HkUkkEGvE5y4"
      }
    },
    {
      "cell_type": "markdown",
      "source": [
        "#### dict.clear() – remove todos os pares chave-valor de um dict"
      ],
      "metadata": {
        "id": "4-7EinJfFTfK"
      }
    },
    {
      "cell_type": "code",
      "source": [
        "A = dict(a=1, b=2)"
      ],
      "metadata": {
        "id": "u6spKnmIEiSI"
      },
      "execution_count": null,
      "outputs": []
    },
    {
      "cell_type": "code",
      "source": [
        "A.clear()"
      ],
      "metadata": {
        "id": "m6vpCScwFYw9"
      },
      "execution_count": null,
      "outputs": []
    },
    {
      "cell_type": "code",
      "source": [
        "A"
      ],
      "metadata": {
        "colab": {
          "base_uri": "https://localhost:8080/"
        },
        "id": "zA4VVkqlFabR",
        "outputId": "446479ff-fde4-4d02-d159-938573dbddb4"
      },
      "execution_count": null,
      "outputs": [
        {
          "output_type": "execute_result",
          "data": {
            "text/plain": [
              "{}"
            ]
          },
          "metadata": {},
          "execution_count": 71
        }
      ]
    },
    {
      "cell_type": "markdown",
      "source": [
        "Chamar isso em um dict remove todos os pares de valores-chave em vigor. O dict está agora vazio."
      ],
      "metadata": {
        "id": "V1isJxAbFhWD"
      }
    },
    {
      "cell_type": "markdown",
      "source": [
        "#### `dict.update()` – mescla dois dicionários juntos"
      ],
      "metadata": {
        "id": "uHrxVL-kFlJy"
      }
    },
    {
      "cell_type": "code",
      "source": [
        "A = dict(a=1, b=2)\n",
        "B = dict(c=3, d=4)\n",
        "A.update(B)\n",
        "A"
      ],
      "metadata": {
        "colab": {
          "base_uri": "https://localhost:8080/"
        },
        "id": "K3YkPuXLFa7x",
        "outputId": "b83ad77b-a7a2-44e1-9bde-460cc5451a94"
      },
      "execution_count": null,
      "outputs": [
        {
          "output_type": "execute_result",
          "data": {
            "text/plain": [
              "{'a': 1, 'b': 2, 'c': 3, 'd': 4}"
            ]
          },
          "metadata": {},
          "execution_count": 74
        }
      ]
    },
    {
      "cell_type": "code",
      "source": [
        "\n",
        "B"
      ],
      "metadata": {
        "colab": {
          "base_uri": "https://localhost:8080/"
        },
        "id": "9ZHpJAMRFy7T",
        "outputId": "2e998839-fe0f-4f10-c43e-7f63a7c53272"
      },
      "execution_count": null,
      "outputs": [
        {
          "output_type": "execute_result",
          "data": {
            "text/plain": [
              "{'c': 3, 'd': 4}"
            ]
          },
          "metadata": {},
          "execution_count": 75
        }
      ]
    },
    {
      "cell_type": "markdown",
      "source": [
        "Acabamos de atualizar A. Assim, todos os pares `chave-valor` de B foram adicionados a A. B não mudou.\n",
        "\n",
        "Se A e B forem chaves, o valor de B substituirá o de A. Isso ocorre porque A é atualizado por B e, portanto, recebe todos os valores de B (não o contrário)."
      ],
      "metadata": {
        "id": "j_8MiFa_GPHk"
      }
    },
    {
      "cell_type": "code",
      "source": [
        "A = dict(a=1, b=2)\n",
        "B = dict(b=100)"
      ],
      "metadata": {
        "id": "MoVsTIv8F7xI"
      },
      "execution_count": null,
      "outputs": []
    },
    {
      "cell_type": "code",
      "source": [
        "A.update(B)"
      ],
      "metadata": {
        "id": "K8PhDPltGYQV"
      },
      "execution_count": null,
      "outputs": []
    },
    {
      "cell_type": "code",
      "source": [
        "A"
      ],
      "metadata": {
        "colab": {
          "base_uri": "https://localhost:8080/"
        },
        "id": "grpk1V-fGaFy",
        "outputId": "b8f400c2-d4bd-49b7-d0a0-839b2f7087e5"
      },
      "execution_count": null,
      "outputs": [
        {
          "output_type": "execute_result",
          "data": {
            "text/plain": [
              "{'a': 1, 'b': 100}"
            ]
          },
          "metadata": {},
          "execution_count": 78
        }
      ]
    },
    {
      "cell_type": "code",
      "source": [
        "B"
      ],
      "metadata": {
        "colab": {
          "base_uri": "https://localhost:8080/"
        },
        "id": "JycHfzvRGbZR",
        "outputId": "8a7ed6f5-2371-4e20-cc78-4deaef7bb5e8"
      },
      "execution_count": null,
      "outputs": [
        {
          "output_type": "execute_result",
          "data": {
            "text/plain": [
              "{'b': 100}"
            ]
          },
          "metadata": {},
          "execution_count": 79
        }
      ]
    },
    {
      "cell_type": "markdown",
      "source": [
        "Você também pode passar uma sequência de tuplas ou argumentos de palavras-chave para update(), como faria com o construtor dict()."
      ],
      "metadata": {
        "id": "o766sAHLGkMy"
      }
    },
    {
      "cell_type": "code",
      "source": [
        "A = dict(a=1, b=2)"
      ],
      "metadata": {
        "id": "sJcqTrZwGc47"
      },
      "execution_count": null,
      "outputs": []
    },
    {
      "cell_type": "code",
      "source": [
        "# Sequência de tuplas\n",
        "B = [( 'c' , 3 ) , ( 'd' , 4 )]"
      ],
      "metadata": {
        "id": "cKkIcchKI7LH"
      },
      "execution_count": null,
      "outputs": []
    },
    {
      "cell_type": "code",
      "source": [
        "A.update(B)\n",
        "A"
      ],
      "metadata": {
        "colab": {
          "base_uri": "https://localhost:8080/"
        },
        "id": "7i7xpkyQI-td",
        "outputId": "768dc9ed-5257-42a8-f803-75afa4eeca52"
      },
      "execution_count": null,
      "outputs": [
        {
          "output_type": "execute_result",
          "data": {
            "text/plain": [
              "{'a': 1, 'b': 2, 'c': 3, 'd': 4}"
            ]
          },
          "metadata": {},
          "execution_count": 82
        }
      ]
    },
    {
      "cell_type": "code",
      "source": [
        "A = dict(a=1, b=2)\n",
        "A"
      ],
      "metadata": {
        "colab": {
          "base_uri": "https://localhost:8080/"
        },
        "id": "mnfY3h5tJBUO",
        "outputId": "abaf9c37-b5c2-40a5-8077-11e2e02741a1"
      },
      "execution_count": null,
      "outputs": [
        {
          "output_type": "execute_result",
          "data": {
            "text/plain": [
              "{'a': 1, 'b': 2}"
            ]
          },
          "metadata": {},
          "execution_count": 86
        }
      ]
    },
    {
      "cell_type": "code",
      "source": [
        "# Passa pares de chave-valores como argumentos de palavras-chave\n",
        "A.update( c= 3 , d= 4 )\n",
        "A"
      ],
      "metadata": {
        "colab": {
          "base_uri": "https://localhost:8080/"
        },
        "id": "Za9y8-Q-JDyu",
        "outputId": "bc1d8ad9-af87-4272-f47e-de802958b041"
      },
      "execution_count": null,
      "outputs": [
        {
          "output_type": "execute_result",
          "data": {
            "text/plain": [
              "{'a': 1, 'b': 2, 'c': 3, 'd': 4}"
            ]
          },
          "metadata": {},
          "execution_count": 87
        }
      ]
    },
    {
      "cell_type": "markdown",
      "source": [
        "### dict.pop() – remove uma chave e retorna seu valor"
      ],
      "metadata": {
        "id": "VVZ_SOyIJhL9"
      }
    },
    {
      "cell_type": "code",
      "source": [
        "A = dict(a=1, b=2)\n",
        "A"
      ],
      "metadata": {
        "colab": {
          "base_uri": "https://localhost:8080/"
        },
        "id": "DygVvrDvJJJB",
        "outputId": "b3106cfd-6381-482b-fc4e-1c1094d95238"
      },
      "execution_count": null,
      "outputs": [
        {
          "output_type": "execute_result",
          "data": {
            "text/plain": [
              "{'a': 1, 'b': 2}"
            ]
          },
          "metadata": {},
          "execution_count": 88
        }
      ]
    },
    {
      "cell_type": "code",
      "source": [
        "A.pop('a')"
      ],
      "metadata": {
        "colab": {
          "base_uri": "https://localhost:8080/"
        },
        "id": "rpRYBxdyJmr3",
        "outputId": "5fd03bab-b823-47f4-b720-9c8ec026f28b"
      },
      "execution_count": null,
      "outputs": [
        {
          "output_type": "execute_result",
          "data": {
            "text/plain": [
              "1"
            ]
          },
          "metadata": {},
          "execution_count": 89
        }
      ]
    },
    {
      "cell_type": "code",
      "source": [
        "A"
      ],
      "metadata": {
        "colab": {
          "base_uri": "https://localhost:8080/"
        },
        "id": "z0bEZMPqJpOQ",
        "outputId": "c116a01e-ce35-4524-bbe5-78432620cc68"
      },
      "execution_count": null,
      "outputs": [
        {
          "output_type": "execute_result",
          "data": {
            "text/plain": [
              "{'b': 2}"
            ]
          },
          "metadata": {},
          "execution_count": 90
        }
      ]
    },
    {
      "cell_type": "markdown",
      "source": [
        "Se você tentar chamar `dict.pop()` com uma chave que não está no dicionário, o Python gerará um `KeyError`."
      ],
      "metadata": {
        "id": "nPoNf1FkJt1W"
      }
    },
    {
      "cell_type": "code",
      "source": [
        "A.pop('non_existent_key')"
      ],
      "metadata": {
        "colab": {
          "base_uri": "https://localhost:8080/",
          "height": 168
        },
        "id": "4hEr0OqJJq7W",
        "outputId": "e60764e0-0f96-4c2e-a611-9edc0f9be354"
      },
      "execution_count": null,
      "outputs": [
        {
          "output_type": "error",
          "ename": "KeyError",
          "evalue": "ignored",
          "traceback": [
            "\u001b[0;31m---------------------------------------------------------------------------\u001b[0m",
            "\u001b[0;31mKeyError\u001b[0m                                  Traceback (most recent call last)",
            "\u001b[0;32m<ipython-input-91-d5e12660bc6b>\u001b[0m in \u001b[0;36m<module>\u001b[0;34m\u001b[0m\n\u001b[0;32m----> 1\u001b[0;31m \u001b[0mA\u001b[0m\u001b[0;34m.\u001b[0m\u001b[0mpop\u001b[0m\u001b[0;34m(\u001b[0m\u001b[0;34m'non_existent_key'\u001b[0m\u001b[0;34m)\u001b[0m\u001b[0;34m\u001b[0m\u001b[0;34m\u001b[0m\u001b[0m\n\u001b[0m",
            "\u001b[0;31mKeyError\u001b[0m: 'non_existent_key'"
          ]
        }
      ]
    },
    {
      "cell_type": "markdown",
      "source": [
        "Assim como o método `get()`, você pode especificar um segundo argumento opcional. Isso é retornado se a chave não estiver no dicionário e, portanto, evita `KeyErrors`."
      ],
      "metadata": {
        "id": "YUyi1077J2nG"
      }
    },
    {
      "cell_type": "code",
      "source": [
        "A.pop('non_existent_key', 'not here')"
      ],
      "metadata": {
        "colab": {
          "base_uri": "https://localhost:8080/",
          "height": 36
        },
        "id": "kptr1jUXJzVw",
        "outputId": "079872c8-6386-41af-9100-dd85e9497269"
      },
      "execution_count": null,
      "outputs": [
        {
          "output_type": "execute_result",
          "data": {
            "text/plain": [
              "'not here'"
            ],
            "application/vnd.google.colaboratory.intrinsic+json": {
              "type": "string"
            }
          },
          "metadata": {},
          "execution_count": 92
        }
      ]
    },
    {
      "cell_type": "markdown",
      "source": [
        "### dict.popitem() – remove um par de chave-valor aleatório e o retorna como uma tupla"
      ],
      "metadata": {
        "id": "gXb4ou2CKAp7"
      }
    },
    {
      "cell_type": "code",
      "source": [
        "A = dict(a=1, b=2, c=3)"
      ],
      "metadata": {
        "id": "hfPQRNfIJ9u8"
      },
      "execution_count": null,
      "outputs": []
    },
    {
      "cell_type": "code",
      "source": [
        "# Seus resultados provavelmente serão diferentes\n",
        "A.popitem()"
      ],
      "metadata": {
        "colab": {
          "base_uri": "https://localhost:8080/"
        },
        "id": "wgO5tcJbKF5Q",
        "outputId": "bb50baa5-3b0b-449a-d1fb-9b3e36c48b56"
      },
      "execution_count": null,
      "outputs": [
        {
          "output_type": "execute_result",
          "data": {
            "text/plain": [
              "('c', 3)"
            ]
          },
          "metadata": {},
          "execution_count": 94
        }
      ]
    },
    {
      "cell_type": "code",
      "source": [
        "A"
      ],
      "metadata": {
        "colab": {
          "base_uri": "https://localhost:8080/"
        },
        "id": "UC-9SuR9KKg7",
        "outputId": "bd71892f-d0f8-4872-e1be-f66ac0daa774"
      },
      "execution_count": null,
      "outputs": [
        {
          "output_type": "execute_result",
          "data": {
            "text/plain": [
              "{'a': 1, 'b': 2}"
            ]
          },
          "metadata": {},
          "execution_count": 95
        }
      ]
    },
    {
      "cell_type": "code",
      "source": [
        "A. popitem()"
      ],
      "metadata": {
        "colab": {
          "base_uri": "https://localhost:8080/"
        },
        "id": "6D5mv6UNKOYK",
        "outputId": "8634d5d5-0dfb-4130-e577-52c56bc6d349"
      },
      "execution_count": null,
      "outputs": [
        {
          "output_type": "execute_result",
          "data": {
            "text/plain": [
              "('b', 2)"
            ]
          },
          "metadata": {},
          "execution_count": 96
        }
      ]
    },
    {
      "cell_type": "code",
      "source": [
        "A"
      ],
      "metadata": {
        "colab": {
          "base_uri": "https://localhost:8080/"
        },
        "id": "06qjqjiJKRmS",
        "outputId": "dfc27eac-9b86-4e28-89a0-e6602033de8f"
      },
      "execution_count": null,
      "outputs": [
        {
          "output_type": "execute_result",
          "data": {
            "text/plain": [
              "{'a': 1}"
            ]
          },
          "metadata": {},
          "execution_count": 97
        }
      ]
    },
    {
      "cell_type": "markdown",
      "source": [
        "Se o dicionário estiver vazio, o Python gera um `KeyError`. "
      ],
      "metadata": {
        "id": "ji7oEA7OKSed"
      }
    },
    {
      "cell_type": "code",
      "source": [
        "A = dict()"
      ],
      "metadata": {
        "id": "pO91kGKgKYEw"
      },
      "execution_count": null,
      "outputs": []
    },
    {
      "cell_type": "code",
      "source": [
        "A.popitem()"
      ],
      "metadata": {
        "colab": {
          "base_uri": "https://localhost:8080/",
          "height": 168
        },
        "id": "X0yNJStYKcJ-",
        "outputId": "595489b5-6d25-4c58-f77b-f8f98bb4f7d7"
      },
      "execution_count": null,
      "outputs": [
        {
          "output_type": "error",
          "ename": "KeyError",
          "evalue": "ignored",
          "traceback": [
            "\u001b[0;31m---------------------------------------------------------------------------\u001b[0m",
            "\u001b[0;31mKeyError\u001b[0m                                  Traceback (most recent call last)",
            "\u001b[0;32m<ipython-input-99-1035845901b7>\u001b[0m in \u001b[0;36m<module>\u001b[0;34m\u001b[0m\n\u001b[0;32m----> 1\u001b[0;31m \u001b[0mA\u001b[0m\u001b[0;34m.\u001b[0m\u001b[0mpopitem\u001b[0m\u001b[0;34m(\u001b[0m\u001b[0;34m)\u001b[0m\u001b[0;34m\u001b[0m\u001b[0;34m\u001b[0m\u001b[0m\n\u001b[0m",
            "\u001b[0;31mKeyError\u001b[0m: 'popitem(): dictionary is empty'"
          ]
        }
      ]
    },
    {
      "cell_type": "markdown",
      "source": [
        "### **Loop Através do Dicionário – Em Detalhes**"
      ],
      "metadata": {
        "id": "WBewKOlNKi2s"
      }
    },
    {
      "cell_type": "markdown",
      "source": [
        "Existem várias situações comuns que você encontrará ao iterar em dicionários. Python desenvolveu vários métodos para ajudá-lo a trabalhar com mais eficiência."
      ],
      "metadata": {
        "id": "SJowLZ03KdX6"
      }
    },
    {
      "cell_type": "markdown",
      "source": [
        "Mas antes de prosseguirmos, lembre-se do seguinte:\n",
        "\n",
        "**NUNCA, NUNCA, use a notação de colchetes ao iterar sobre um dicionário. Se houver algum erro, toda a iteração será interrompida e você não ficará feliz.**\n",
        "\n",
        "A notação padrão do Python para incrementar números ou anexar a listas é"
      ],
      "metadata": {
        "id": "pw0EwhumKwCV"
      }
    },
    {
      "cell_type": "code",
      "source": [],
      "metadata": {
        "id": "H5gAs3XzLMDQ"
      },
      "execution_count": null,
      "outputs": []
    },
    {
      "cell_type": "markdown",
      "source": [
        "\n",
        "\n",
        "```\n",
        "# Contagem\n",
        "meu_num = 0\n",
        "fo coisa in outra_coisa:\n",
        "    meu_núm += 1\n",
        " \n",
        "# Anexando a listas\n",
        "minha_lista = []\n",
        "for coisa in outra_coisa:\n",
        "    minha lista.append(coisa)\n",
        "```\n",
        "\n"
      ],
      "metadata": {
        "id": "c7jYjslDKssB"
      }
    },
    {
      "cell_type": "markdown",
      "source": [
        "Isso segue o modelo padrão:\n",
        "\n",
        "    1. Inicializar objeto 'vazio'\n",
        "    2. Comece para o loop\n",
        "    3. Adicione coisas a esse objeto\n",
        "\n",
        "Ao iterar em um dicionário, nossos valores podem ser números ou tipo lista. Assim, podemos adicionar ou anexar valores. Seria ótimo se nosso código seguisse o padrão acima. Mas…"
      ],
      "metadata": {
        "id": "tt2sgHNBk8Dk"
      }
    },
    {
      "cell_type": "code",
      "source": [
        "my_dict = {}\n",
        "other_thing= {'key1':\"item1\",'key2':\"item2\",'key3':\"item3\"}"
      ],
      "metadata": {
        "id": "KSiyI1jBLGmY"
      },
      "execution_count": null,
      "outputs": []
    },
    {
      "cell_type": "code",
      "source": [
        "for thing in other_thing:\n",
        "  my_dict['numerical_key'] += 1"
      ],
      "metadata": {
        "colab": {
          "base_uri": "https://localhost:8080/",
          "height": 185
        },
        "id": "MhScePtilf8B",
        "outputId": "77200724-6830-400d-9cce-d9d6f113f0d4"
      },
      "execution_count": null,
      "outputs": [
        {
          "output_type": "error",
          "ename": "KeyError",
          "evalue": "ignored",
          "traceback": [
            "\u001b[0;31m---------------------------------------------------------------------------\u001b[0m",
            "\u001b[0;31mKeyError\u001b[0m                                  Traceback (most recent call last)",
            "\u001b[0;32m<ipython-input-103-b1c677eab94d>\u001b[0m in \u001b[0;36m<module>\u001b[0;34m\u001b[0m\n\u001b[1;32m      1\u001b[0m \u001b[0;32mfor\u001b[0m \u001b[0mthing\u001b[0m \u001b[0;32min\u001b[0m \u001b[0mother_thing\u001b[0m\u001b[0;34m:\u001b[0m\u001b[0;34m\u001b[0m\u001b[0;34m\u001b[0m\u001b[0m\n\u001b[0;32m----> 2\u001b[0;31m   \u001b[0mmy_dict\u001b[0m\u001b[0;34m[\u001b[0m\u001b[0;34m'numerical_key'\u001b[0m\u001b[0;34m]\u001b[0m \u001b[0;34m+=\u001b[0m \u001b[0;36m1\u001b[0m\u001b[0;34m\u001b[0m\u001b[0;34m\u001b[0m\u001b[0m\n\u001b[0m",
            "\u001b[0;31mKeyError\u001b[0m: 'numerical_key'"
          ]
        }
      ]
    },
    {
      "cell_type": "code",
      "source": [
        "for thing in other_thing:\n",
        "  my_dict['list_key'].append(thing)"
      ],
      "metadata": {
        "colab": {
          "base_uri": "https://localhost:8080/",
          "height": 185
        },
        "id": "IjroecSLmkbS",
        "outputId": "9eadf895-131e-4b02-8a0b-2867b2ce8223"
      },
      "execution_count": null,
      "outputs": [
        {
          "output_type": "error",
          "ename": "KeyError",
          "evalue": "ignored",
          "traceback": [
            "\u001b[0;31m---------------------------------------------------------------------------\u001b[0m",
            "\u001b[0;31mKeyError\u001b[0m                                  Traceback (most recent call last)",
            "\u001b[0;32m<ipython-input-104-100f3d213c47>\u001b[0m in \u001b[0;36m<module>\u001b[0;34m\u001b[0m\n\u001b[1;32m      1\u001b[0m \u001b[0;32mfor\u001b[0m \u001b[0mthing\u001b[0m \u001b[0;32min\u001b[0m \u001b[0mother_thing\u001b[0m\u001b[0;34m:\u001b[0m\u001b[0;34m\u001b[0m\u001b[0;34m\u001b[0m\u001b[0m\n\u001b[0;32m----> 2\u001b[0;31m   \u001b[0mmy_dict\u001b[0m\u001b[0;34m[\u001b[0m\u001b[0;34m'list_key'\u001b[0m\u001b[0;34m]\u001b[0m\u001b[0;34m.\u001b[0m\u001b[0mappend\u001b[0m\u001b[0;34m(\u001b[0m\u001b[0mthing\u001b[0m\u001b[0;34m)\u001b[0m\u001b[0;34m\u001b[0m\u001b[0;34m\u001b[0m\u001b[0m\n\u001b[0m",
            "\u001b[0;31mKeyError\u001b[0m: 'list_key'"
          ]
        }
      ]
    },
    {
      "cell_type": "markdown",
      "source": [
        "Infelizmente, ambos geram um `KeyError`. Python nos diz que a chave não existe e, portanto, não podemos incrementar seu valor. Assim, devemos primeiro criar um par `chave-valor` antes de fazer qualquer coisa com ele.\n",
        "\n",
        "Vamos agora mostrar 4 maneiras de resolver este problema:\n",
        "\n",
        "    1. Inicialize manualmente uma chave se ela não existir\n",
        "    2. O método get()\n",
        "    3. O método setdefault()\n",
        "    4. O defaultdict()\n",
        "\n",
        "Vamos explicar isso através de alguns exemplos, então vamos para a configuração.\n",
        "\n",
        "Três amigos – Adam, Bella e Cara, saíram para jantar no aniversário de Adam. Eles armazenaram seus pedidos iniciais, principais e de bebidas em uma lista. O preço de cada item está em outra lista. Usaremos esses dados para construir diferentes dicionários."
      ],
      "metadata": {
        "id": "M_PWXLQdmurq"
      }
    },
    {
      "cell_type": "code",
      "source": [
        "people = ['Adam', 'Bella', 'Cara',\n",
        "          'Adam', 'Bella', 'Cara',\n",
        "          'Adam', 'Bella', 'Cara',]\n",
        "\n",
        "\n",
        "food = ['soup', 'bruschetta', 'calamari',   # starter\n",
        "        'burger', 'calzone', 'pizza',       # main\n",
        "        'coca-cola', 'fanta', 'water']      # drink\n",
        "\n",
        "\n",
        "# Custo de cada item em £\n",
        "prices = [3.20, 4.50, 3.89,\n",
        "          12.50, 15.00, 13.15,\n",
        "          3.10, 2.95, 1.86]"
      ],
      "metadata": {
        "id": "LElLy8B_m-Nr"
      },
      "execution_count": null,
      "outputs": []
    },
    {
      "cell_type": "code",
      "source": [
        "# Compacte os dados juntos para permitir a iteração\n",
        "# Só precisamos de informações sobre a pessoa e o preço\n",
        "meal_data = zip(people, prices)"
      ],
      "metadata": {
        "id": "ibHOyMY-nM0U"
      },
      "execution_count": null,
      "outputs": []
    },
    {
      "cell_type": "markdown",
      "source": [
        "Nossos três amigos são muito rigorosos com seu dinheiro. Eles querem pagar exatamente o valor que pediram. Então vamos criar um dicionário contendo o custo total para cada pessoa. Este é um problema de incremento numérico."
      ],
      "metadata": {
        "id": "4wDNOJpGnhnH"
      }
    },
    {
      "cell_type": "markdown",
      "source": [
        "## **Inicializar manualmente uma chave**\n",
        "\n"
      ],
      "metadata": {
        "id": "QNYNjm6SnmuG"
      }
    },
    {
      "cell_type": "code",
      "source": [
        "# Inicializa dict vazio\n",
        "total = {}\n",
        "\n",
        "# Iterar usando nomes de objetos descritivos\n",
        "for (person, price) in meal_data:\n",
        "  # Crie uma nova chave e defina o valor como 0 se a chave ainda não existir\n",
        "  if person not in total:\n",
        "    total[person] = 0\n",
        "  # Incrementar o valor pelo preço de cada item comprado.\n",
        "  total[person] += price"
      ],
      "metadata": {
        "id": "kRN2FEVEncFU"
      },
      "execution_count": null,
      "outputs": []
    },
    {
      "cell_type": "code",
      "source": [
        "total"
      ],
      "metadata": {
        "colab": {
          "base_uri": "https://localhost:8080/"
        },
        "id": "9zc8cFJloFqJ",
        "outputId": "a9c0853c-1b97-4309-eff8-9ffedb77690e"
      },
      "execution_count": null,
      "outputs": [
        {
          "output_type": "execute_result",
          "data": {
            "text/plain": [
              "{'Adam': 18.8, 'Bella': 22.45, 'Cara': 18.9}"
            ]
          },
          "metadata": {},
          "execution_count": 109
        }
      ]
    },
    {
      "cell_type": "markdown",
      "source": [
        "Escrevemos uma instrução `if` que verifica se a chave já está no dicionário. Se não for, definimos o valor como 0. Se for, o Python não executa a instrução `if`. Em seguida, incrementamos usando a sintaxe esperada.\n",
        "\n",
        "Isso funciona bem, mas requer algumas linhas de código. Certamente podemos fazer melhor?"
      ],
      "metadata": {
        "id": "AHhzGCoOoKAu"
      }
    },
    {
      "cell_type": "markdown",
      "source": [
        "### Método Dict `get()` ao iterar"
      ],
      "metadata": {
        "id": "3DEBoAYioZCG"
      }
    },
    {
      "cell_type": "code",
      "source": [
        "# Reinicialize o meal_data como já iteramos sobre ele\n",
        "meal_data = zip(people, prices)\n",
        "total = {}\n",
        "for (person, price) in meal_data:\n",
        "  # método get retorna 0 na primeira vez que o chamamos\n",
        "  # e retorna o valor atual nas vezes seguintes\n",
        "  total[person] = total.get(person, 0) + price"
      ],
      "metadata": {
        "id": "cjG7gLCYoGWc"
      },
      "execution_count": null,
      "outputs": []
    },
    {
      "cell_type": "code",
      "source": [
        "total"
      ],
      "metadata": {
        "colab": {
          "base_uri": "https://localhost:8080/"
        },
        "id": "9WZr-sYEor5B",
        "outputId": "7cfee474-7b29-4faf-ed50-1d72c323ee45"
      },
      "execution_count": null,
      "outputs": [
        {
          "output_type": "execute_result",
          "data": {
            "text/plain": [
              "{'Adam': 18.8, 'Bella': 22.45, 'Cara': 18.9}"
            ]
          },
          "metadata": {},
          "execution_count": 111
        }
      ]
    },
    {
      "cell_type": "markdown",
      "source": [
        "Nós temos uma linha!\n",
        "\n",
        "Passamos a `get()` um segundo valor que é retornado se a chave não estiver no dicionário. Neste caso, escolhemos 0 como no exemplo acima. A primeira vez que chamamos `get()` ele retorna 0. Acabamos de inicializar um par chave-valor! Na mesma linha, adicionamos 'preço'. Na próxima vez que chamarmos get(), ele retornará o valor atual e podemos adicionar 'price' novamente.\n",
        "\n",
        "Este método não funciona para anexar. Você precisa de algumas linhas extras de código. Em vez disso, veremos o método `setdefault()`."
      ],
      "metadata": {
        "id": "U_VWWGEAo0OT"
      }
    },
    {
      "cell_type": "markdown",
      "source": [
        "### Método Python Dict `setdefault()`\n",
        "\n",
        "A sintaxe desse método o torna uma excelente opção para modificar o valor de uma chave por meio do método `append()`.\n",
        "\n",
        "Primeiro vamos mostrar porque não é uma ótima opção se você estiver incrementando com números."
      ],
      "metadata": {
        "id": "zUZznOC4pC8I"
      }
    },
    {
      "cell_type": "code",
      "source": [
        "meal_data = zip(people, prices)\n",
        "total = {}\n",
        "for (person, price) in meal_data:\n",
        "  # Defina o valor inicial de pessoa para 0\n",
        "  total.setdefault(person, 0)\n",
        "  # Incremento por preço\n",
        "  total[person] += price"
      ],
      "metadata": {
        "id": "cgWfCjaEou8k"
      },
      "execution_count": null,
      "outputs": []
    },
    {
      "cell_type": "code",
      "source": [
        "total"
      ],
      "metadata": {
        "colab": {
          "base_uri": "https://localhost:8080/"
        },
        "id": "ebiTJJcopZy0",
        "outputId": "2df92083-3bb8-4a91-c778-6023e48d6250"
      },
      "execution_count": null,
      "outputs": [
        {
          "output_type": "execute_result",
          "data": {
            "text/plain": [
              "{'Adam': 18.8, 'Bella': 22.45, 'Cara': 18.9}"
            ]
          },
          "metadata": {},
          "execution_count": 113
        }
      ]
    },
    {
      "cell_type": "markdown",
      "source": [
        "Funciona, mas requer mais linhas de código do que `get()` e imprime muitos números na tela. Por que é isso?\n",
        "\n",
        "O método setdefault() recebe dois argumentos:\n",
        "\n",
        "    A chave para a qual você deseja definir um valor padrão\n",
        "    O que você deseja que seja o valor padrão\n",
        "\n",
        "Então `setdefault(person, 0)` define o valor padrão de pessoa como 0.\n",
        "\n",
        "Ele sempre retorna uma de duas coisas:\n",
        "\n",
        "    O valor atual da chave\n",
        "    Se a chave não existir, ela retornará o valor padrão fornecido\n",
        "\n",
        "É por isso que os números são impressos na tela. Eles são os valores de 'pessoa' em cada iteração.\n",
        "\n",
        "Claramente este não é o método mais conveniente para o nosso problema atual. Se fizermos 100 mil iterações, não queremos 100 mil números impressos na tela.\n",
        "\n",
        "Portanto, recomendamos usar o método get() para cálculos numéricos.\n",
        "\n",
        "Vamos vê-lo em ação com listas e conjuntos. Neste dicionário, o nome de cada pessoa é uma chave. Cada valor é uma lista contendo o preço de cada item pedido (entrada, prato principal, sobremesa). "
      ],
      "metadata": {
        "id": "c-zSt91hsQUO"
      }
    },
    {
      "cell_type": "code",
      "source": [
        "meal_data = zip(people, prices)\n",
        "individual_bill = {}\n",
        " \n",
        "for (person, price) in meal_data:\n",
        " \n",
        "    # Set default to empty list and append in one line!\n",
        "    individual_bill.setdefault(person, []).append(price)\n",
        " \n",
        "individual_bill"
      ],
      "metadata": {
        "colab": {
          "base_uri": "https://localhost:8080/"
        },
        "id": "FGnUX_a2pfag",
        "outputId": "94ff4ee2-4218-4575-b8b6-37d77981f793"
      },
      "execution_count": null,
      "outputs": [
        {
          "output_type": "execute_result",
          "data": {
            "text/plain": [
              "{'Adam': [3.2, 12.5, 3.1],\n",
              " 'Bella': [4.5, 15.0, 2.95],\n",
              " 'Cara': [3.89, 13.15, 1.86]}"
            ]
          },
          "metadata": {},
          "execution_count": 114
        }
      ]
    },
    {
      "cell_type": "markdown",
      "source": [
        "Agora vemos o verdadeiro poder de setdefault()! Como o método get em nosso exemplo numérico, inicializamos um valor padrão e o modificamos em uma linha!\n",
        "\n",
        "**Nota:** `setdefault()` calcula o valor padrão toda vez que é chamado. Isso pode ser um problema se o valor padrão for caro para calcular. `Get()` só calcula o valor padrão se a chave não existir. Assim `get()` é uma escolha melhor se seu valor padrão for caro. Como a maioria dos valores padrão são 'zeros', como 0, [ ] e {}, isso não é um problema para a maioria dos casos.\n",
        "\n",
        "Já vimos três soluções para o problema. Reduzimos o código para 1 linha. Mas a sintaxe para cada um tem sido diferente do que queremos. Agora vamos ver algo que resolve o problema exatamente como esperávamos: introduzindo `defaultdict`!"
      ],
      "metadata": {
        "id": "mYz6Sk3DslYy"
      }
    },
    {
      "cell_type": "markdown",
      "source": [
        "## Python `defaultdict()`\n",
        "\n",
        "Vamos resolver nosso problema de incrementação numérica:"
      ],
      "metadata": {
        "id": "yc-zgKHysvfZ"
      }
    },
    {
      "cell_type": "code",
      "source": [
        "# Import from collections module\n",
        "from collections import defaultdict\n",
        " \n",
        "meal_data = zip(people, prices)\n",
        " \n",
        "# Initialise with int to do numerical incrementation\n",
        "total = defaultdict(int)\n",
        " \n",
        "# Increment exactly as we want to!\n",
        "for (person, price) in meal_data:\n",
        "    total[person] += price\n",
        "total"
      ],
      "metadata": {
        "colab": {
          "base_uri": "https://localhost:8080/"
        },
        "id": "rpt_P_jQshJW",
        "outputId": "37d56a79-4f08-475f-f349-9ac57efd18f0"
      },
      "execution_count": null,
      "outputs": [
        {
          "output_type": "execute_result",
          "data": {
            "text/plain": [
              "defaultdict(int, {'Adam': 18.8, 'Bella': 22.45, 'Cara': 18.9})"
            ]
          },
          "metadata": {},
          "execution_count": 115
        }
      ]
    },
    {
      "cell_type": "markdown",
      "source": [
        "Sucesso!! Mas e o nosso problema de lista?"
      ],
      "metadata": {
        "id": "nTsO5gsWtGKY"
      }
    },
    {
      "cell_type": "code",
      "source": [
        "from collections import defaultdict\n",
        " \n",
        "meal_data = zip(people, prices)\n",
        " \n",
        "# Initialise with list to let us append\n",
        "individual_bill = defaultdict(list)\n",
        " \n",
        "for (person, price) in meal_data:\n",
        "    individual_bill[person].append(price)"
      ],
      "metadata": {
        "id": "INLLEcZ6s--c"
      },
      "execution_count": null,
      "outputs": []
    },
    {
      "cell_type": "code",
      "source": [
        "individual_bill"
      ],
      "metadata": {
        "colab": {
          "base_uri": "https://localhost:8080/"
        },
        "id": "0kVz7FWxtKy5",
        "outputId": "09021dc8-4d54-4c6a-da59-778f3d2153a4"
      },
      "execution_count": null,
      "outputs": [
        {
          "output_type": "execute_result",
          "data": {
            "text/plain": [
              "defaultdict(list,\n",
              "            {'Adam': [3.2, 12.5, 3.1],\n",
              "             'Bella': [4.5, 15.0, 2.95],\n",
              "             'Cara': [3.89, 13.15, 1.86]})"
            ]
          },
          "metadata": {},
          "execution_count": 117
        }
      ]
    },
    {
      "cell_type": "code",
      "source": [],
      "metadata": {
        "id": "MNkWH3JdtNKF"
      },
      "execution_count": null,
      "outputs": []
    },
    {
      "cell_type": "markdown",
      "source": [
        "# Contador() `Counter()`\n",
        "\n",
        "Digamos que queremos contar quantas vezes cada palavra aparece em um pedaço de texto (uma coisa comum de se fazer em PNL). Usaremos `The Zen of Python` para nosso exemplo. Se você não sabe o que é, execute:"
      ],
      "metadata": {
        "id": "0DUId0OMD0go"
      }
    },
    {
      "cell_type": "code",
      "source": [
        "import this"
      ],
      "metadata": {
        "colab": {
          "base_uri": "https://localhost:8080/"
        },
        "id": "Y-1dH4T4EBQY",
        "outputId": "643ed584-c894-453c-ab6b-f6334340a31e"
      },
      "execution_count": null,
      "outputs": [
        {
          "output_type": "stream",
          "name": "stdout",
          "text": [
            "The Zen of Python, by Tim Peters\n",
            "\n",
            "Beautiful is better than ugly.\n",
            "Explicit is better than implicit.\n",
            "Simple is better than complex.\n",
            "Complex is better than complicated.\n",
            "Flat is better than nested.\n",
            "Sparse is better than dense.\n",
            "Readability counts.\n",
            "Special cases aren't special enough to break the rules.\n",
            "Although practicality beats purity.\n",
            "Errors should never pass silently.\n",
            "Unless explicitly silenced.\n",
            "In the face of ambiguity, refuse the temptation to guess.\n",
            "There should be one-- and preferably only one --obvious way to do it.\n",
            "Although that way may not be obvious at first unless you're Dutch.\n",
            "Now is better than never.\n",
            "Although never is often better than *right* now.\n",
            "If the implementation is hard to explain, it's a bad idea.\n",
            "If the implementation is easy to explain, it may be a good idea.\n",
            "Namespaces are one honking great idea -- let's do more of those!\n"
          ]
        }
      ]
    },
    {
      "cell_type": "markdown",
      "source": [
        "Eu armazenei na lista `zen_words` onde cada elemento é uma única palavra.\n",
        "\n",
        "Podemos contar manualmente cada palavra usando defaultdict. Mas imprimi-lo com as palavras mais frequentes ocorrendo primeiro é um pouco complicado."
      ],
      "metadata": {
        "id": "-Yq_5cMWEKaC"
      }
    },
    {
      "cell_type": "code",
      "source": [
        "def Convert(string): \n",
        "    li = list(string.split(\" \")) \n",
        "    return li \n",
        "str1 = '''The Zen of Python, by Tim Peters\n",
        "\n",
        "Beautiful is better than ugly.\n",
        "Explicit is better than implicit.\n",
        "Simple is better than complex.\n",
        "Complex is better than complicated.\n",
        "Flat is better than nested.\n",
        "Sparse is better than dense.\n",
        "Readability counts.\n",
        "Special cases aren't special enough to break the rules.\n",
        "Although practicality beats purity.\n",
        "Errors should never pass silently.\n",
        "Unless explicitly silenced.\n",
        "In the face of ambiguity, refuse the temptation to guess.\n",
        "There should be one-- and preferably only one --obvious way to do it.\n",
        "Although that way may not be obvious at first unless you're Dutch.\n",
        "Now is better than never.\n",
        "Although never is often better than *right* now.\n",
        "If the implementation is hard to explain, it's a bad idea.\n",
        "If the implementation is easy to explain, it may be a good idea.\n",
        "Namespaces are one honking great idea -- let's do more of those!'''\n",
        "zen_words=Convert(str1)\n",
        "zen_words"
      ],
      "metadata": {
        "colab": {
          "base_uri": "https://localhost:8080/"
        },
        "id": "5_yy2BqFGWhs",
        "outputId": "ae323084-db51-4b4d-b6a9-74553f69e5ae"
      },
      "execution_count": null,
      "outputs": [
        {
          "output_type": "execute_result",
          "data": {
            "text/plain": [
              "['The',\n",
              " 'Zen',\n",
              " 'of',\n",
              " 'Python,',\n",
              " 'by',\n",
              " 'Tim',\n",
              " 'Peters\\n\\nBeautiful',\n",
              " 'is',\n",
              " 'better',\n",
              " 'than',\n",
              " 'ugly.\\nExplicit',\n",
              " 'is',\n",
              " 'better',\n",
              " 'than',\n",
              " 'implicit.\\nSimple',\n",
              " 'is',\n",
              " 'better',\n",
              " 'than',\n",
              " 'complex.\\nComplex',\n",
              " 'is',\n",
              " 'better',\n",
              " 'than',\n",
              " 'complicated.\\nFlat',\n",
              " 'is',\n",
              " 'better',\n",
              " 'than',\n",
              " 'nested.\\nSparse',\n",
              " 'is',\n",
              " 'better',\n",
              " 'than',\n",
              " 'dense.\\nReadability',\n",
              " 'counts.\\nSpecial',\n",
              " 'cases',\n",
              " \"aren't\",\n",
              " 'special',\n",
              " 'enough',\n",
              " 'to',\n",
              " 'break',\n",
              " 'the',\n",
              " 'rules.\\nAlthough',\n",
              " 'practicality',\n",
              " 'beats',\n",
              " 'purity.\\nErrors',\n",
              " 'should',\n",
              " 'never',\n",
              " 'pass',\n",
              " 'silently.\\nUnless',\n",
              " 'explicitly',\n",
              " 'silenced.\\nIn',\n",
              " 'the',\n",
              " 'face',\n",
              " 'of',\n",
              " 'ambiguity,',\n",
              " 'refuse',\n",
              " 'the',\n",
              " 'temptation',\n",
              " 'to',\n",
              " 'guess.\\nThere',\n",
              " 'should',\n",
              " 'be',\n",
              " 'one--',\n",
              " 'and',\n",
              " 'preferably',\n",
              " 'only',\n",
              " 'one',\n",
              " '--obvious',\n",
              " 'way',\n",
              " 'to',\n",
              " 'do',\n",
              " 'it.\\nAlthough',\n",
              " 'that',\n",
              " 'way',\n",
              " 'may',\n",
              " 'not',\n",
              " 'be',\n",
              " 'obvious',\n",
              " 'at',\n",
              " 'first',\n",
              " 'unless',\n",
              " \"you're\",\n",
              " 'Dutch.\\nNow',\n",
              " 'is',\n",
              " 'better',\n",
              " 'than',\n",
              " 'never.\\nAlthough',\n",
              " 'never',\n",
              " 'is',\n",
              " 'often',\n",
              " 'better',\n",
              " 'than',\n",
              " '*right*',\n",
              " 'now.\\nIf',\n",
              " 'the',\n",
              " 'implementation',\n",
              " 'is',\n",
              " 'hard',\n",
              " 'to',\n",
              " 'explain,',\n",
              " \"it's\",\n",
              " 'a',\n",
              " 'bad',\n",
              " 'idea.\\nIf',\n",
              " 'the',\n",
              " 'implementation',\n",
              " 'is',\n",
              " 'easy',\n",
              " 'to',\n",
              " 'explain,',\n",
              " 'it',\n",
              " 'may',\n",
              " 'be',\n",
              " 'a',\n",
              " 'good',\n",
              " 'idea.\\nNamespaces',\n",
              " 'are',\n",
              " 'one',\n",
              " 'honking',\n",
              " 'great',\n",
              " 'idea',\n",
              " '--',\n",
              " \"let's\",\n",
              " 'do',\n",
              " 'more',\n",
              " 'of',\n",
              " 'those!']"
            ]
          },
          "metadata": {},
          "execution_count": 121
        }
      ]
    },
    {
      "cell_type": "code",
      "source": [
        "from collections import defaultdict\n",
        "word_count = defaultdict(int)\n",
        "for word in zen_words:\n",
        "        word_count[word] += 1\n",
        " \n",
        "# Define a função para retornar o segundo valor de uma tupla\n",
        "def select_second(tup):\n",
        "        return tup[1]\n",
        " \n",
        "# Reverse=True - queremos o mais comum primeiro\n",
        "# word_count.items() - queremos chaves e valores\n",
        "# sorted() retorna uma lista, então envolva dict() para retornar um dict\n",
        " \n",
        "dict(sorted(word_count.items(), reverse=True, key=select_second))\n"
      ],
      "metadata": {
        "colab": {
          "base_uri": "https://localhost:8080/"
        },
        "id": "b1aQMtY6EDcn",
        "outputId": "0f0e3e0f-e759-4586-8918-6fb62267c722"
      },
      "execution_count": null,
      "outputs": [
        {
          "output_type": "execute_result",
          "data": {
            "text/plain": [
              "{'is': 10,\n",
              " 'better': 8,\n",
              " 'than': 8,\n",
              " 'to': 5,\n",
              " 'the': 5,\n",
              " 'of': 3,\n",
              " 'be': 3,\n",
              " 'should': 2,\n",
              " 'never': 2,\n",
              " 'one': 2,\n",
              " 'way': 2,\n",
              " 'do': 2,\n",
              " 'may': 2,\n",
              " 'implementation': 2,\n",
              " 'explain,': 2,\n",
              " 'a': 2,\n",
              " 'The': 1,\n",
              " 'Zen': 1,\n",
              " 'Python,': 1,\n",
              " 'by': 1,\n",
              " 'Tim': 1,\n",
              " 'Peters\\n\\nBeautiful': 1,\n",
              " 'ugly.\\nExplicit': 1,\n",
              " 'implicit.\\nSimple': 1,\n",
              " 'complex.\\nComplex': 1,\n",
              " 'complicated.\\nFlat': 1,\n",
              " 'nested.\\nSparse': 1,\n",
              " 'dense.\\nReadability': 1,\n",
              " 'counts.\\nSpecial': 1,\n",
              " 'cases': 1,\n",
              " \"aren't\": 1,\n",
              " 'special': 1,\n",
              " 'enough': 1,\n",
              " 'break': 1,\n",
              " 'rules.\\nAlthough': 1,\n",
              " 'practicality': 1,\n",
              " 'beats': 1,\n",
              " 'purity.\\nErrors': 1,\n",
              " 'pass': 1,\n",
              " 'silently.\\nUnless': 1,\n",
              " 'explicitly': 1,\n",
              " 'silenced.\\nIn': 1,\n",
              " 'face': 1,\n",
              " 'ambiguity,': 1,\n",
              " 'refuse': 1,\n",
              " 'temptation': 1,\n",
              " 'guess.\\nThere': 1,\n",
              " 'one--': 1,\n",
              " 'and': 1,\n",
              " 'preferably': 1,\n",
              " 'only': 1,\n",
              " '--obvious': 1,\n",
              " 'it.\\nAlthough': 1,\n",
              " 'that': 1,\n",
              " 'not': 1,\n",
              " 'obvious': 1,\n",
              " 'at': 1,\n",
              " 'first': 1,\n",
              " 'unless': 1,\n",
              " \"you're\": 1,\n",
              " 'Dutch.\\nNow': 1,\n",
              " 'never.\\nAlthough': 1,\n",
              " 'often': 1,\n",
              " '*right*': 1,\n",
              " 'now.\\nIf': 1,\n",
              " 'hard': 1,\n",
              " \"it's\": 1,\n",
              " 'bad': 1,\n",
              " 'idea.\\nIf': 1,\n",
              " 'easy': 1,\n",
              " 'it': 1,\n",
              " 'good': 1,\n",
              " 'idea.\\nNamespaces': 1,\n",
              " 'are': 1,\n",
              " 'honking': 1,\n",
              " 'great': 1,\n",
              " 'idea': 1,\n",
              " '--': 1,\n",
              " \"let's\": 1,\n",
              " 'more': 1,\n",
              " 'those!': 1}"
            ]
          },
          "metadata": {},
          "execution_count": 122
        }
      ]
    },
    {
      "cell_type": "markdown",
      "source": [
        "Como a contagem é um processo bastante comum, foi criada a subclasse `Counter()`. É complexo o suficiente para que pudéssemos escrever um artigo inteiro sobre isso. \n",
        "\n",
        "Por brevidade, incluiremos os casos de uso mais básicos e deixaremos o leitor examinar os próprios [documentos](https://docs-python-org.translate.goog/3.8/library/collections.html?_x_tr_sl=en&_x_tr_tl=pt&_x_tr_hl=pt-BR&_x_tr_pto=wapp#collections.Counter)."
      ],
      "metadata": {
        "id": "tQO6eJbOHbOj"
      }
    },
    {
      "cell_type": "code",
      "source": [
        "from collections import Counter\n",
        "word_count = Counter(zen_words)\n",
        "word_count"
      ],
      "metadata": {
        "colab": {
          "base_uri": "https://localhost:8080/"
        },
        "id": "7ALM2Z7bHpEA",
        "outputId": "44eaebdb-ef0d-475f-b980-3b65e3fa6525"
      },
      "execution_count": null,
      "outputs": [
        {
          "output_type": "execute_result",
          "data": {
            "text/plain": [
              "Counter({'The': 1,\n",
              "         'Zen': 1,\n",
              "         'of': 3,\n",
              "         'Python,': 1,\n",
              "         'by': 1,\n",
              "         'Tim': 1,\n",
              "         'Peters\\n\\nBeautiful': 1,\n",
              "         'is': 10,\n",
              "         'better': 8,\n",
              "         'than': 8,\n",
              "         'ugly.\\nExplicit': 1,\n",
              "         'implicit.\\nSimple': 1,\n",
              "         'complex.\\nComplex': 1,\n",
              "         'complicated.\\nFlat': 1,\n",
              "         'nested.\\nSparse': 1,\n",
              "         'dense.\\nReadability': 1,\n",
              "         'counts.\\nSpecial': 1,\n",
              "         'cases': 1,\n",
              "         \"aren't\": 1,\n",
              "         'special': 1,\n",
              "         'enough': 1,\n",
              "         'to': 5,\n",
              "         'break': 1,\n",
              "         'the': 5,\n",
              "         'rules.\\nAlthough': 1,\n",
              "         'practicality': 1,\n",
              "         'beats': 1,\n",
              "         'purity.\\nErrors': 1,\n",
              "         'should': 2,\n",
              "         'never': 2,\n",
              "         'pass': 1,\n",
              "         'silently.\\nUnless': 1,\n",
              "         'explicitly': 1,\n",
              "         'silenced.\\nIn': 1,\n",
              "         'face': 1,\n",
              "         'ambiguity,': 1,\n",
              "         'refuse': 1,\n",
              "         'temptation': 1,\n",
              "         'guess.\\nThere': 1,\n",
              "         'be': 3,\n",
              "         'one--': 1,\n",
              "         'and': 1,\n",
              "         'preferably': 1,\n",
              "         'only': 1,\n",
              "         'one': 2,\n",
              "         '--obvious': 1,\n",
              "         'way': 2,\n",
              "         'do': 2,\n",
              "         'it.\\nAlthough': 1,\n",
              "         'that': 1,\n",
              "         'may': 2,\n",
              "         'not': 1,\n",
              "         'obvious': 1,\n",
              "         'at': 1,\n",
              "         'first': 1,\n",
              "         'unless': 1,\n",
              "         \"you're\": 1,\n",
              "         'Dutch.\\nNow': 1,\n",
              "         'never.\\nAlthough': 1,\n",
              "         'often': 1,\n",
              "         '*right*': 1,\n",
              "         'now.\\nIf': 1,\n",
              "         'implementation': 2,\n",
              "         'hard': 1,\n",
              "         'explain,': 2,\n",
              "         \"it's\": 1,\n",
              "         'a': 2,\n",
              "         'bad': 1,\n",
              "         'idea.\\nIf': 1,\n",
              "         'easy': 1,\n",
              "         'it': 1,\n",
              "         'good': 1,\n",
              "         'idea.\\nNamespaces': 1,\n",
              "         'are': 1,\n",
              "         'honking': 1,\n",
              "         'great': 1,\n",
              "         'idea': 1,\n",
              "         '--': 1,\n",
              "         \"let's\": 1,\n",
              "         'more': 1,\n",
              "         'those!': 1})"
            ]
          },
          "metadata": {},
          "execution_count": 124
        }
      ]
    },
    {
      "cell_type": "markdown",
      "source": [
        "Você pode passar qualquer iterável ou dicionário para Counter(). Retorna um dicionário em ordem decrescente de contagens"
      ],
      "metadata": {
        "id": "YK8oRvCmH9EO"
      }
    },
    {
      "cell_type": "code",
      "source": [
        "letters = Counter(['a', 'b', 'c', 'c', 'c', 'c', 'd', 'd', 'a'])\n",
        "letters"
      ],
      "metadata": {
        "colab": {
          "base_uri": "https://localhost:8080/"
        },
        "id": "YGQhDsOoH1ub",
        "outputId": "8583a7a7-1cc1-413a-c011-eb9321cbc4cd"
      },
      "execution_count": null,
      "outputs": [
        {
          "output_type": "execute_result",
          "data": {
            "text/plain": [
              "Counter({'a': 2, 'b': 1, 'c': 4, 'd': 2})"
            ]
          },
          "metadata": {},
          "execution_count": 126
        }
      ]
    },
    {
      "cell_type": "code",
      "source": [
        "# A contagem de uma chave ausente é 0\n",
        "letters['z']"
      ],
      "metadata": {
        "colab": {
          "base_uri": "https://localhost:8080/"
        },
        "id": "g9xwQ-R9Ibd1",
        "outputId": "e7e72a43-25c3-4e18-9dc7-b195522ecda8"
      },
      "execution_count": null,
      "outputs": [
        {
          "output_type": "execute_result",
          "data": {
            "text/plain": [
              "0"
            ]
          },
          "metadata": {},
          "execution_count": 127
        }
      ]
    },
    {
      "cell_type": "markdown",
      "source": [
        "# Invertido() - `reversed()`\n",
        "\n",
        "No Python 3.8 eles introduziram a reversed()função para dicionários! Ele retorna um iterador. Ele itera sobre o dicionário na ordem oposta à forma como os pares chave-valor foram adicionados. Se os pares chave-valor não tiverem ordem, reversed() não dará a eles nenhuma ordem adicional. Se você quiser classificar as chaves em ordem alfabética, por exemplo, use sorted()."
      ],
      "metadata": {
        "id": "NyfKiGYtIqms"
      }
    },
    {
      "cell_type": "code",
      "source": [
        "!python --version"
      ],
      "metadata": {
        "colab": {
          "base_uri": "https://localhost:8080/"
        },
        "id": "en1hMAzoJSLD",
        "outputId": "737e8952-5a11-42fb-88af-e05e63f2d768"
      },
      "execution_count": null,
      "outputs": [
        {
          "output_type": "stream",
          "name": "stdout",
          "text": [
            "Python 3.7.15\n"
          ]
        }
      ]
    },
    {
      "cell_type": "code",
      "source": [
        "ordered_dict = dict(a=1, b=2, c=3)\n"
      ],
      "metadata": {
        "id": "Eqrq_YziIl5L"
      },
      "execution_count": null,
      "outputs": []
    },
    {
      "cell_type": "code",
      "source": [
        "for key, value in reversed(ordered_dict.items()):\n",
        "  print(key, value)"
      ],
      "metadata": {
        "colab": {
          "base_uri": "https://localhost:8080/",
          "height": 185
        },
        "id": "N2_1amLaI0mS",
        "outputId": "11dfb6cf-63c7-4327-a88f-0ffb98d96049"
      },
      "execution_count": null,
      "outputs": [
        {
          "output_type": "error",
          "ename": "TypeError",
          "evalue": "ignored",
          "traceback": [
            "\u001b[0;31m---------------------------------------------------------------------------\u001b[0m",
            "\u001b[0;31mTypeError\u001b[0m                                 Traceback (most recent call last)",
            "\u001b[0;32m<ipython-input-132-14cda4548676>\u001b[0m in \u001b[0;36m<module>\u001b[0;34m\u001b[0m\n\u001b[0;32m----> 1\u001b[0;31m \u001b[0;32mfor\u001b[0m \u001b[0mkey\u001b[0m\u001b[0;34m,\u001b[0m \u001b[0mvalue\u001b[0m \u001b[0;32min\u001b[0m \u001b[0mreversed\u001b[0m\u001b[0;34m(\u001b[0m\u001b[0mordered_dict\u001b[0m\u001b[0;34m.\u001b[0m\u001b[0mitems\u001b[0m\u001b[0;34m(\u001b[0m\u001b[0;34m)\u001b[0m\u001b[0;34m)\u001b[0m\u001b[0;34m:\u001b[0m\u001b[0;34m\u001b[0m\u001b[0;34m\u001b[0m\u001b[0m\n\u001b[0m\u001b[1;32m      2\u001b[0m   \u001b[0mprint\u001b[0m\u001b[0;34m(\u001b[0m\u001b[0mkey\u001b[0m\u001b[0;34m,\u001b[0m \u001b[0mvalue\u001b[0m\u001b[0;34m)\u001b[0m\u001b[0;34m\u001b[0m\u001b[0;34m\u001b[0m\u001b[0m\n",
            "\u001b[0;31mTypeError\u001b[0m: 'dict_items' object is not reversible"
          ]
        }
      ]
    },
    {
      "cell_type": "code",
      "source": [
        "# Does not insert order where there is none.\n",
        "unordered_dict = dict(c=3, a=1, b=2)\n",
        "for key, value in reversed(unordered_dict.items()):\n",
        "  print(key, value)"
      ],
      "metadata": {
        "colab": {
          "base_uri": "https://localhost:8080/",
          "height": 220
        },
        "id": "E2UiT1v2JPha",
        "outputId": "e97737fe-ff74-4306-adfc-bbd979bf8cb7"
      },
      "execution_count": null,
      "outputs": [
        {
          "output_type": "error",
          "ename": "TypeError",
          "evalue": "ignored",
          "traceback": [
            "\u001b[0;31m---------------------------------------------------------------------------\u001b[0m",
            "\u001b[0;31mTypeError\u001b[0m                                 Traceback (most recent call last)",
            "\u001b[0;32m<ipython-input-135-2353586bc2f7>\u001b[0m in \u001b[0;36m<module>\u001b[0;34m\u001b[0m\n\u001b[1;32m      1\u001b[0m \u001b[0;31m# Does not insert order where there is none.\u001b[0m\u001b[0;34m\u001b[0m\u001b[0;34m\u001b[0m\u001b[0;34m\u001b[0m\u001b[0m\n\u001b[1;32m      2\u001b[0m \u001b[0munordered_dict\u001b[0m \u001b[0;34m=\u001b[0m \u001b[0mdict\u001b[0m\u001b[0;34m(\u001b[0m\u001b[0mc\u001b[0m\u001b[0;34m=\u001b[0m\u001b[0;36m3\u001b[0m\u001b[0;34m,\u001b[0m \u001b[0ma\u001b[0m\u001b[0;34m=\u001b[0m\u001b[0;36m1\u001b[0m\u001b[0;34m,\u001b[0m \u001b[0mb\u001b[0m\u001b[0;34m=\u001b[0m\u001b[0;36m2\u001b[0m\u001b[0;34m)\u001b[0m\u001b[0;34m\u001b[0m\u001b[0;34m\u001b[0m\u001b[0m\n\u001b[0;32m----> 3\u001b[0;31m \u001b[0;32mfor\u001b[0m \u001b[0mkey\u001b[0m\u001b[0;34m,\u001b[0m \u001b[0mvalue\u001b[0m \u001b[0;32min\u001b[0m \u001b[0mreversed\u001b[0m\u001b[0;34m(\u001b[0m\u001b[0munordered_dict\u001b[0m\u001b[0;34m.\u001b[0m\u001b[0mitems\u001b[0m\u001b[0;34m(\u001b[0m\u001b[0;34m)\u001b[0m\u001b[0;34m)\u001b[0m\u001b[0;34m:\u001b[0m\u001b[0;34m\u001b[0m\u001b[0;34m\u001b[0m\u001b[0m\n\u001b[0m\u001b[1;32m      4\u001b[0m   \u001b[0mprint\u001b[0m\u001b[0;34m(\u001b[0m\u001b[0mkey\u001b[0m\u001b[0;34m,\u001b[0m \u001b[0mvalue\u001b[0m\u001b[0;34m)\u001b[0m\u001b[0;34m\u001b[0m\u001b[0;34m\u001b[0m\u001b[0m\n",
            "\u001b[0;31mTypeError\u001b[0m: 'dict_items' object is not reversible"
          ]
        }
      ]
    },
    {
      "cell_type": "code",
      "source": [
        "# Order unordered_dict alphabetically using sorted()\n",
        "dict(sorted(unordered_dict.items()))"
      ],
      "metadata": {
        "colab": {
          "base_uri": "https://localhost:8080/"
        },
        "id": "tIt4lHJpJZoZ",
        "outputId": "065eddb6-ca9b-490e-b895-d3e8264926d6"
      },
      "execution_count": null,
      "outputs": [
        {
          "output_type": "execute_result",
          "data": {
            "text/plain": [
              "{'a': 1, 'b': 2, 'c': 3}"
            ]
          },
          "metadata": {},
          "execution_count": 136
        }
      ]
    },
    {
      "cell_type": "markdown",
      "source": [
        "Como é um iterador, lembre-se de usar os métodos `keys()`, `values()` e items() para selecionar os elementos desejados. Se você não especificar nada, irá iterar sobre as chaves."
      ],
      "metadata": {
        "id": "1nDwVLZBJjBg"
      }
    },
    {
      "cell_type": "markdown",
      "source": [
        "# **Compreensão do dicionário** -\n",
        "\n",
        "Uma característica maravilhosa dos dicionários, e do Python em geral, é a compreensão. Isso permite que você crie dicionários de maneira limpa, fácil de entender e Python. Você deve usar chaves `{}` para fazer isso (não `dict()`).\n",
        "\n",
        "Já vimos que se você tem duas listas, você pode criar um dicionário a partir delas usando dict(`zip()`). "
      ],
      "metadata": {
        "id": "nNDgrkKoJqZ3"
      }
    },
    {
      "cell_type": "code",
      "source": [
        "names = ['Adam', 'Beth', 'Charlie', 'Dani', 'Ethan']\n",
        "countries = ['Argentina', 'Bulgaria', 'Colombia', 'Denmark', 'Estonia']\n",
        " \n",
        "dict_zip = dict(zip(names, countries))"
      ],
      "metadata": {
        "id": "uxY1VY-1JdUn"
      },
      "execution_count": null,
      "outputs": []
    },
    {
      "cell_type": "code",
      "source": [
        "dict_zip"
      ],
      "metadata": {
        "colab": {
          "base_uri": "https://localhost:8080/"
        },
        "id": "A3_SyghQJ7ct",
        "outputId": "4194d201-388c-4f1e-e4b7-11cffb74e223"
      },
      "execution_count": null,
      "outputs": [
        {
          "output_type": "execute_result",
          "data": {
            "text/plain": [
              "{'Adam': 'Argentina',\n",
              " 'Beth': 'Bulgaria',\n",
              " 'Charlie': 'Colombia',\n",
              " 'Dani': 'Denmark',\n",
              " 'Ethan': 'Estonia'}"
            ]
          },
          "metadata": {},
          "execution_count": 138
        }
      ]
    },
    {
      "cell_type": "markdown",
      "source": [
        "Também podemos fazer isso usando um loop for"
      ],
      "metadata": {
        "id": "0tMuQ1I2KDgd"
      }
    },
    {
      "cell_type": "code",
      "source": [
        "new_dict = {}\n",
        "for name, country in zip(names, countries):\n",
        " new_dict[name] = country"
      ],
      "metadata": {
        "id": "v8ewQ4iDJ-Up"
      },
      "execution_count": null,
      "outputs": []
    },
    {
      "cell_type": "code",
      "source": [
        "new_dict"
      ],
      "metadata": {
        "colab": {
          "base_uri": "https://localhost:8080/"
        },
        "id": "4Ordc14OKK1J",
        "outputId": "1051759a-51ef-4598-9679-e4c85995050a"
      },
      "execution_count": null,
      "outputs": [
        {
          "output_type": "execute_result",
          "data": {
            "text/plain": [
              "{'Adam': 'Argentina',\n",
              " 'Beth': 'Bulgaria',\n",
              " 'Charlie': 'Colombia',\n",
              " 'Dani': 'Denmark',\n",
              " 'Ethan': 'Estonia'}"
            ]
          },
          "metadata": {},
          "execution_count": 140
        }
      ]
    },
    {
      "cell_type": "markdown",
      "source": [
        "Inicializamos nossas variáveis ​​dict e iterator com nomes descritivos. Para iterar sobre ambas as listas ao mesmo tempo, nós as compactamos juntas. Por fim, adicionamos pares de valores-chave conforme desejado. Isso leva 3 linhas.\n",
        "\n",
        "Usar uma compreensão transforma isso em uma linha."
      ],
      "metadata": {
        "id": "nMmjrRREKhaf"
      }
    },
    {
      "cell_type": "code",
      "source": [
        "dict_comp = {name: country for name, country in zip(names, countries)}\n",
        " \n",
        "dict_comp"
      ],
      "metadata": {
        "colab": {
          "base_uri": "https://localhost:8080/"
        },
        "id": "pnf2_EG5KNAq",
        "outputId": "6368be75-b0ce-4f23-8aa9-ce3dea53555c"
      },
      "execution_count": null,
      "outputs": [
        {
          "output_type": "execute_result",
          "data": {
            "text/plain": [
              "{'Adam': 'Argentina',\n",
              " 'Beth': 'Bulgaria',\n",
              " 'Charlie': 'Colombia',\n",
              " 'Dani': 'Denmark',\n",
              " 'Ethan': 'Estonia'}"
            ]
          },
          "metadata": {},
          "execution_count": 141
        }
      ]
    },
    {
      "cell_type": "markdown",
      "source": [
        "Eles são um pouco como loops ao contrário. Primeiro, declaramos o que queremos que nossos pares de valores-chave sejam. Em seguida, usamos o mesmo loop for como fizemos acima. Por fim, envolvemos tudo com chaves.\n",
        "\n",
        "Observe que toda compreensão pode ser escrita como um loop for. Se você obtiver resultados inesperados, tente como um loop for para ver o que está acontecendo.\n",
        "\n",
        "Aqui está um erro comum"
      ],
      "metadata": {
        "id": "5JQJThUXK2nX"
      }
    },
    {
      "cell_type": "code",
      "source": [
        "dict_comp_bad = {name: country \n",
        "                 for name in names \n",
        "                 for country in countries}\n",
        " \n",
        "dict_comp_bad"
      ],
      "metadata": {
        "colab": {
          "base_uri": "https://localhost:8080/"
        },
        "id": "rMTyRnwOKxQx",
        "outputId": "f8c79421-8880-4e8d-9e08-3f068a5fecb0"
      },
      "execution_count": null,
      "outputs": [
        {
          "output_type": "execute_result",
          "data": {
            "text/plain": [
              "{'Adam': 'Estonia',\n",
              " 'Beth': 'Estonia',\n",
              " 'Charlie': 'Estonia',\n",
              " 'Dani': 'Estonia',\n",
              " 'Ethan': 'Estonia'}"
            ]
          },
          "metadata": {},
          "execution_count": 142
        }
      ]
    },
    {
      "cell_type": "markdown",
      "source": [
        "O que está acontecendo? Vamos escrevê-lo como um loop for para ver. Primeiro, vamos escrevê-lo para ter certeza de que estamos obtendo o mesmo resultado indesejado."
      ],
      "metadata": {
        "id": "Pu9yOB9iLBFa"
      }
    },
    {
      "cell_type": "code",
      "source": [
        "bad_dict = {}\n",
        "for name in names:\n",
        "    for country in countries:\n",
        "        bad_dict[name] = country\n",
        " \n",
        "bad_dict"
      ],
      "metadata": {
        "colab": {
          "base_uri": "https://localhost:8080/"
        },
        "id": "Hta4lujkK67c",
        "outputId": "83cda21f-f4e7-443e-aff4-0795e8f1254f"
      },
      "execution_count": null,
      "outputs": [
        {
          "output_type": "execute_result",
          "data": {
            "text/plain": [
              "{'Adam': 'Estonia',\n",
              " 'Beth': 'Estonia',\n",
              " 'Charlie': 'Estonia',\n",
              " 'Dani': 'Estonia',\n",
              " 'Ethan': 'Estonia'}"
            ]
          },
          "metadata": {},
          "execution_count": 143
        }
      ]
    },
    {
      "cell_type": "markdown",
      "source": [
        "Agora vamos usar o melhor amigo do localizador de bugs: a declaração de impressão!"
      ],
      "metadata": {
        "id": "TJae1iweLIM5"
      }
    },
    {
      "cell_type": "code",
      "source": [
        "# Não inicialize dict apenas para verificar a lógica do loop\n",
        "for name in names:\n",
        "    for country in countries:\n",
        "        print(name, country)"
      ],
      "metadata": {
        "colab": {
          "base_uri": "https://localhost:8080/"
        },
        "id": "X5Hpimt8LEjt",
        "outputId": "a11d69bf-d502-4a2d-cb30-89fb23f940c8"
      },
      "execution_count": null,
      "outputs": [
        {
          "output_type": "stream",
          "name": "stdout",
          "text": [
            "Adam Argentina\n",
            "Adam Bulgaria\n",
            "Adam Colombia\n",
            "Adam Denmark\n",
            "Adam Estonia\n",
            "Beth Argentina\n",
            "Beth Bulgaria\n",
            "Beth Colombia\n",
            "Beth Denmark\n",
            "Beth Estonia\n",
            "Charlie Argentina\n",
            "Charlie Bulgaria\n",
            "Charlie Colombia\n",
            "Charlie Denmark\n",
            "Charlie Estonia\n",
            "Dani Argentina\n",
            "Dani Bulgaria\n",
            "Dani Colombia\n",
            "Dani Denmark\n",
            "Dani Estonia\n",
            "Ethan Argentina\n",
            "Ethan Bulgaria\n",
            "Ethan Colombia\n",
            "Ethan Denmark\n",
            "Ethan Estonia\n"
          ]
        }
      ]
    },
    {
      "cell_type": "markdown",
      "source": [
        "Aqui removemos o dicionário para verificar o que realmente está acontecendo no loop. Agora vemos o problema! O problema é que temos loops for aninhados. O loop diz: para cada nome, emparelhe-o com todos os países. Como as chaves do dicionário só podem aparecer, o valor é substituído em cada iteração. Assim, o valor de cada chave é o último que aparece no loop – 'Estônia'.\n",
        "\n",
        "A solução é remover os loops for aninhados e usar `zip()` em vez disso."
      ],
      "metadata": {
        "id": "q1mPbSzrLWY2"
      }
    },
    {
      "cell_type": "markdown",
      "source": [
        "# Dicionários aninhados do Python com compreensões de dicionário"
      ],
      "metadata": {
        "id": "Wzu68Vm8LhFE"
      }
    },
    {
      "cell_type": "code",
      "source": [
        "nums = [0, 1, 2, 3, 4, 5]\n",
        " \n",
        "dict_nums = {n: {'even': n % 2 == 0,\n",
        "                 'square': n**2,\n",
        "                 'cube': n**3,\n",
        "                 'square_root': n**0.5}\n",
        "             for n in nums}"
      ],
      "metadata": {
        "id": "LKf2uBuZLRhk"
      },
      "execution_count": null,
      "outputs": []
    },
    {
      "cell_type": "code",
      "source": [
        "# Impressão bonita para facilitar a leitura\n",
        "pprint(dict_nums)"
      ],
      "metadata": {
        "colab": {
          "base_uri": "https://localhost:8080/"
        },
        "id": "OADg12RFL7rb",
        "outputId": "59f4d12e-ce1e-4b04-b530-88135b6f571c"
      },
      "execution_count": null,
      "outputs": [
        {
          "output_type": "stream",
          "name": "stdout",
          "text": [
            "{0: {'cube': 0, 'even': True, 'square': 0, 'square_root': 0.0},\n",
            " 1: {'cube': 1, 'even': False, 'square': 1, 'square_root': 1.0},\n",
            " 2: {'cube': 8, 'even': True, 'square': 4, 'square_root': 1.4142135623730951},\n",
            " 3: {'cube': 27, 'even': False, 'square': 9, 'square_root': 1.7320508075688772},\n",
            " 4: {'cube': 64, 'even': True, 'square': 16, 'square_root': 2.0},\n",
            " 5: {'cube': 125, 'even': False, 'square': 25, 'square_root': 2.23606797749979}}\n"
          ]
        }
      ]
    },
    {
      "cell_type": "markdown",
      "source": [
        "# Declarações `If-Elf-Else`"
      ],
      "metadata": {
        "id": "3iIrW1dFMKH5"
      }
    },
    {
      "cell_type": "code",
      "source": [
        "nums = [0, 1, 2, 3, 4, 5, 6, 7, 8, 9, 10]\n",
        " \n",
        "# Apenas os números pares\n",
        "even_squares = {n: n ** 2 for n in nums\n",
        "                if n % 2 == 0}\n",
        " \n",
        "# Apenas os números ímpares\n",
        "odd_squares = {n: n ** 2 for n in nums\n",
        "               if n % 2 == 1}"
      ],
      "metadata": {
        "id": "k2CJqUimMAz6"
      },
      "execution_count": null,
      "outputs": []
    },
    {
      "cell_type": "code",
      "source": [
        "even_squares"
      ],
      "metadata": {
        "colab": {
          "base_uri": "https://localhost:8080/"
        },
        "id": "A7eS3kSjMVHQ",
        "outputId": "82018d67-f2b8-4c9b-ac38-a67fe86a50dc"
      },
      "execution_count": null,
      "outputs": [
        {
          "output_type": "execute_result",
          "data": {
            "text/plain": [
              "{0: 0, 2: 4, 4: 16, 6: 36, 8: 64, 10: 100}"
            ]
          },
          "metadata": {},
          "execution_count": 149
        }
      ]
    },
    {
      "cell_type": "code",
      "source": [
        "odd_squares"
      ],
      "metadata": {
        "colab": {
          "base_uri": "https://localhost:8080/"
        },
        "id": "PQKhhzTRMX4I",
        "outputId": "d68ca152-fd91-4df1-ceda-b258f81c91dd"
      },
      "execution_count": null,
      "outputs": [
        {
          "output_type": "execute_result",
          "data": {
            "text/plain": [
              "{1: 1, 3: 9, 5: 25, 7: 49, 9: 81}"
            ]
          },
          "metadata": {},
          "execution_count": 150
        }
      ]
    },
    {
      "cell_type": "markdown",
      "source": [
        "Podemos aplicar condições if após a instrução for. Isso afeta todos os valores sobre os quais você está iterando."
      ],
      "metadata": {
        "id": "IIngsZONMm34"
      }
    },
    {
      "cell_type": "markdown",
      "source": [
        "Você também pode aplicá-los às suas definições de chave e valor. Agora, criaremos diferentes pares de valores-chave com base no fato de um número ser par ou ímpar."
      ],
      "metadata": {
        "id": "j3uJ8Y4WvIP3"
      }
    },
    {
      "cell_type": "code",
      "source": [
        "# Use parênteses para facilitar a leitura\n",
        "different_vals = {n: ('even' if n % 2 == 0 else 'odd')\n",
        "                  for n in range(5)}\n",
        "different_vals"
      ],
      "metadata": {
        "colab": {
          "base_uri": "https://localhost:8080/"
        },
        "id": "6lkvjI7yMi1M",
        "outputId": "25172c1d-5f30-49d1-99a6-29c6ba17cba9"
      },
      "execution_count": null,
      "outputs": [
        {
          "output_type": "execute_result",
          "data": {
            "text/plain": [
              "{0: 'even', 1: 'odd', 2: 'even', 3: 'odd', 4: 'even'}"
            ]
          },
          "metadata": {},
          "execution_count": 1
        }
      ]
    },
    {
      "cell_type": "markdown",
      "source": [
        "Podemos ficar realmente complexos e usar instruções `if/else` nas definições de valor-chave e após o `loop for`!"
      ],
      "metadata": {
        "id": "j9D3fZbrvV-4"
      }
    },
    {
      "cell_type": "code",
      "source": [
        "#Altere cada chave usando uma f-string\n",
        "{(f'{n}_cubed' if n % 2 == 1 else f'{n}_squared'): \n",
        "# Cubo de números ímpares, quadrados de númerios pares\n",
        "(n ** 3 if n % 2 == 1 else n ** 2)   \n",
        "# Os números 0-10 inclusive\n",
        "for n in range(11) \n",
        "# Se não forem múltiplos de 3\n",
        "if n % 3 != 0}"
      ],
      "metadata": {
        "colab": {
          "base_uri": "https://localhost:8080/"
        },
        "id": "dOX1na7NvRL8",
        "outputId": "dba16d44-72c2-4628-e172-678bcef3a23f"
      },
      "execution_count": null,
      "outputs": [
        {
          "output_type": "execute_result",
          "data": {
            "text/plain": [
              "{'1_cubed': 1,\n",
              " '2_squared': 4,\n",
              " '4_squared': 16,\n",
              " '5_cubed': 125,\n",
              " '7_cubed': 343,\n",
              " '8_squared': 64,\n",
              " '10_squared': 100}"
            ]
          },
          "metadata": {},
          "execution_count": 6
        }
      ]
    },
    {
      "cell_type": "markdown",
      "source": [
        "É relativamente simples fazer isso usando compreensões. Tentar fazer isso com um construtor for loop ou dict() seria muito mais difícil."
      ],
      "metadata": {
        "id": "wnohjcP8wFPJ"
      }
    },
    {
      "cell_type": "markdown",
      "source": [
        "# **Mesclando dois dicionários**\n",
        "\n",
        "Digamos que temos dois dicionários `A e B`. Queremos criar um dicionário, `C`, que contenha todos os pares chave-valor de `A e B`. Como fazemos isso?"
      ],
      "metadata": {
        "id": "kpp-7t6nwKCN"
      }
    },
    {
      "cell_type": "code",
      "source": [
        "A = dict(a=1, b=2)\n",
        "B = dict(c=3, d=4)\n",
        "# O método Update não cria um novo dicionário\n",
        "C = A.update(B)"
      ],
      "metadata": {
        "id": "lH19fgK_vybX"
      },
      "execution_count": null,
      "outputs": []
    },
    {
      "cell_type": "code",
      "source": [
        "C"
      ],
      "metadata": {
        "id": "-mQvQ4xLwVzx"
      },
      "execution_count": null,
      "outputs": []
    },
    {
      "cell_type": "code",
      "source": [
        "type(C)"
      ],
      "metadata": {
        "colab": {
          "base_uri": "https://localhost:8080/"
        },
        "id": "HFbc_WmGwt0L",
        "outputId": "17895be6-1e74-45f8-9d34-129de8402e22"
      },
      "execution_count": null,
      "outputs": [
        {
          "output_type": "execute_result",
          "data": {
            "text/plain": [
              "NoneType"
            ]
          },
          "metadata": {},
          "execution_count": 10
        }
      ]
    },
    {
      "cell_type": "code",
      "source": [
        "A"
      ],
      "metadata": {
        "colab": {
          "base_uri": "https://localhost:8080/"
        },
        "id": "KDDfyQ21wx_3",
        "outputId": "bd1b2257-8a28-4e2c-a1db-0e4c254e937b"
      },
      "execution_count": null,
      "outputs": [
        {
          "output_type": "execute_result",
          "data": {
            "text/plain": [
              "{'a': 1, 'b': 2, 'c': 3, 'd': 4}"
            ]
          },
          "metadata": {},
          "execution_count": 11
        }
      ]
    },
    {
      "cell_type": "markdown",
      "source": [
        "O uso de mesclagem não funciona. Ele modifica A no local e, portanto, não retorna nada.\n",
        "\n",
        "Antes do `Python 3.5`, você tinha que escrever uma função para fazer isso. No `Python 3.5` eles introduziram esse maravilhoso pedaço de sintaxe."
      ],
      "metadata": {
        "id": "W0p1fEgdw6zC"
      }
    },
    {
      "cell_type": "code",
      "source": [
        "# Python >= 3.5\n",
        "A = dict(a=1, b=2)\n",
        "B = dict(c=3, d=4)\n",
        "C = {**A, **B}\n",
        "C"
      ],
      "metadata": {
        "colab": {
          "base_uri": "https://localhost:8080/"
        },
        "id": "AAujcCA_wz6l",
        "outputId": "0fe2fd7f-bc65-4d8c-b997-8fbc7c033b43"
      },
      "execution_count": null,
      "outputs": [
        {
          "output_type": "execute_result",
          "data": {
            "text/plain": [
              "{'a': 1, 'b': 2, 'c': 3, 'd': 4}"
            ]
          },
          "metadata": {},
          "execution_count": 12
        }
      ]
    },
    {
      "cell_type": "markdown",
      "source": [
        "Usamos `**` antes de cada dicionário para 'descompactar' todos os pares chave-valor.\n",
        "\n",
        "A sintaxe é muito simples: uma lista de dicionários separados por vírgulas entre chaves. Você pode fazer isso para um número arbitrário de dicionários."
      ],
      "metadata": {
        "id": "9OyZICxlxILj"
      }
    },
    {
      "cell_type": "code",
      "source": [
        "A = dict(a=1, b=2)\n",
        "B = dict(c=3, d=4)\n",
        "C = dict(e=5, f=6)\n",
        "D = dict(g=7, h=8)\n",
        "all_the_dicts = {**A, **B, **C, **D}\n",
        "all_the_dicts"
      ],
      "metadata": {
        "colab": {
          "base_uri": "https://localhost:8080/"
        },
        "id": "1QUSiRD3xENT",
        "outputId": "4e4a44f6-d1ea-4897-af83-8fb53e0c4ce5"
      },
      "execution_count": null,
      "outputs": [
        {
          "output_type": "execute_result",
          "data": {
            "text/plain": [
              "{'a': 1, 'b': 2, 'c': 3, 'd': 4, 'e': 5, 'f': 6, 'g': 7, 'h': 8}"
            ]
          },
          "metadata": {},
          "execution_count": 13
        }
      ]
    },
    {
      "cell_type": "markdown",
      "source": [
        "Finalmente, o que acontece se os dicts compartilharem pares de chave-valores?"
      ],
      "metadata": {
        "id": "p3CTgF4qxVMk"
      }
    },
    {
      "cell_type": "code",
      "source": [
        "A = dict(a=1, b=2)\n",
        "B = dict(a=999)\n",
        "B_second = {**A, **B}\n",
        "A_second = {**B, **A}\n",
        " \n",
        "# Valor de 'a' tirado de B\n",
        "B_second"
      ],
      "metadata": {
        "colab": {
          "base_uri": "https://localhost:8080/"
        },
        "id": "11pAYT-gxP4i",
        "outputId": "85241f99-f5a9-4098-e14c-9c1fb856b500"
      },
      "execution_count": null,
      "outputs": [
        {
          "output_type": "execute_result",
          "data": {
            "text/plain": [
              "{'a': 999, 'b': 2}"
            ]
          },
          "metadata": {},
          "execution_count": 14
        }
      ]
    },
    {
      "cell_type": "code",
      "source": [
        "# Valor de 'a' tirado de A\n",
        "A_second"
      ],
      "metadata": {
        "colab": {
          "base_uri": "https://localhost:8080/"
        },
        "id": "nY3pUbnuxim6",
        "outputId": "dbe46a8c-9018-4c66-906f-3297df84cdac"
      },
      "execution_count": null,
      "outputs": [
        {
          "output_type": "execute_result",
          "data": {
            "text/plain": [
              "{'a': 1, 'b': 2}"
            ]
          },
          "metadata": {},
          "execution_count": 15
        }
      ]
    },
    {
      "cell_type": "markdown",
      "source": [
        "Como sempre acontece com os dicionários Python, o valor de uma chave é ditado por sua última atribuição. O dict `B_second` primeiro recebe os valores de A e depois os de B. Assim, quaisquer chaves compartilhadas entre A e B serão substituídas pelos valores de B. O oposto é verdadeiro para A_second.\n",
        "\n",
        "Nota: se o valor de uma chave for substituído, a posição dessa chave no dict não será alterada."
      ],
      "metadata": {
        "id": "XU4geccBxr0m"
      }
    },
    {
      "cell_type": "code",
      "source": [
        "D = dict ( g = 7 , h = 8 )\n",
        "A = dict ( a = 1 , g = 999 )\n",
        "{ **D, **A }\n",
        "# 'g' ainda está na primeira posição apesar de ser substituído pelo valor de A"
      ],
      "metadata": {
        "colab": {
          "base_uri": "https://localhost:8080/"
        },
        "id": "9lsma_zCxoKT",
        "outputId": "b44d23f8-2ae2-4a1d-d459-72e39b1a70a8"
      },
      "execution_count": null,
      "outputs": [
        {
          "output_type": "execute_result",
          "data": {
            "text/plain": [
              "{'g': 999, 'h': 8, 'a': 1}"
            ]
          },
          "metadata": {},
          "execution_count": 16
        }
      ]
    },
    {
      "cell_type": "markdown",
      "source": [
        "# **Conclusão**\n",
        "\n",
        "Agora você sabe quase tudo o que precisa saber para usar os Dicionários Python. Bem feito! Por favor, marque esta página e consulte-a sempre que precisar!"
      ],
      "metadata": {
        "id": "zmxHFSeXyAh8"
      }
    },
    {
      "cell_type": "markdown",
      "source": [
        "Lembrando que esse material foi traduzido a partir do site: [https://blog.finxter.com/python-dictionary/](https://blog.finxter.com/python-dictionary/)"
      ],
      "metadata": {
        "id": "1csnSfNpym6F"
      }
    },
    {
      "cell_type": "code",
      "source": [],
      "metadata": {
        "id": "QDHpR1ICx4P5"
      },
      "execution_count": null,
      "outputs": []
    }
  ]
}