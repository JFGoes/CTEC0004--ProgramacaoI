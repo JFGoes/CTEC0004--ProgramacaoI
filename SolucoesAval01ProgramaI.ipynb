{
  "cells": [
    {
      "cell_type": "markdown",
      "metadata": {
        "id": "view-in-github",
        "colab_type": "text"
      },
      "source": [
        "<a href=\"https://colab.research.google.com/github/JFGoes/CTEC0004--ProgramacaoI/blob/master/SolucoesAval01ProgramaI.ipynb\" target=\"_parent\"><img src=\"https://colab.research.google.com/assets/colab-badge.svg\" alt=\"Open In Colab\"/></a>"
      ]
    },
    {
      "cell_type": "markdown",
      "metadata": {
        "id": "qG9fn2_o8WG9"
      },
      "source": [
        "<center>\n",
        "\n",
        "Universidade Federal do Pará<br>\n",
        "Instituto de Engenharia e Geociências<br>\n",
        "Programa de Ciência e Tecnologia<br>\n",
        "</center>\n",
        "\n",
        "Disciplina: Programação I<br>\n",
        "Professor: Josecley Fialho Góes<br>\n",
        "Data: 15/12/2022<br>"
      ]
    },
    {
      "cell_type": "markdown",
      "metadata": {
        "id": "ZzsC7Ppb9cX4"
      },
      "source": [
        "Aluno: `Coloque o seu nome aqui`"
      ]
    },
    {
      "cell_type": "markdown",
      "metadata": {
        "id": "F89rJejk9e3y"
      },
      "source": [
        "<center>\n",
        "\n",
        "### Avaliação I\n",
        "</center>"
      ]
    },
    {
      "cell_type": "markdown",
      "metadata": {
        "id": "JkEjempu9jA9"
      },
      "source": [
        "**Questão 01:** Escreva um programa que solicita a entrada do teclado do número de uma cor de fundo, verifica se é uma das cores da `Tabela de cores válidas` e imprima-a na tela. Se não, imprimir o texto \"Cores inválidas\" com fundo vermelho, da `Tabela cor inválida`.\n",
        "\n",
        "Tabelas de cores válidas:\n",
        "\n",
        "código| nome da cor\n",
        ":------:|:------------:\n",
        "42 |Verde\n",
        "43 |Amarelo\n",
        "44 |Azul\n",
        "45 |magenta\n",
        "46 |Cyan\n",
        "47 |Cinza\n",
        "\n",
        "Tabela cor inválida:\n",
        "\n",
        "código| nome da cor\n",
        ":------:|:------------:\n",
        "41 |vermelho"
      ]
    },
    {
      "cell_type": "markdown",
      "metadata": {
        "id": "_Qvan59yFIK2"
      },
      "source": [
        "\n",
        "\n",
        "```\n",
        "print('\\33[CORm Vermelho.\\n\\033[m')\n",
        "```\n",
        "\n"
      ]
    },
    {
      "cell_type": "code",
      "execution_count": null,
      "metadata": {
        "colab": {
          "base_uri": "https://localhost:8080/"
        },
        "id": "ZwZnJ1Hq8Vlv",
        "outputId": "5767f490-0d3c-44fe-d9be-57de618b1462"
      },
      "outputs": [
        {
          "output_type": "stream",
          "name": "stdout",
          "text": [
            "Cor de fundo\n",
            "\u001b[41m Vermelho.\n",
            "\u001b[m\n",
            "\u001b[42m Verde.\n",
            "\u001b[m\n",
            "\u001b[43m Amarelo.\n",
            "\u001b[m\n",
            "\u001b[44m Azul.\n",
            "\u001b[m\n",
            "\u001b[45m Magenta.\n",
            "\u001b[m\n",
            "\u001b[46m Cyan.\n",
            "\u001b[m\n",
            "\u001b[47m Cinza.\n",
            "\u001b[m\n"
          ]
        }
      ],
      "source": [
        "#cores dadas\n",
        "print('Cor de fundo'),\n",
        "print('\\33[41m Vermelho.\\n\\033[m')\n",
        "print('\\33[42m Verde.\\n\\033[m')\n",
        "print('\\33[43m Amarelo.\\n\\033[m')\n",
        "print('\\33[44m Azul.\\n\\033[m')\n",
        "print('\\33[45m Magenta.\\n\\033[m')\n",
        "print('\\33[46m Cyan.\\n\\033[m')\n",
        "print('\\33[47m Cinza.\\n\\033[m')"
      ]
    },
    {
      "cell_type": "markdown",
      "metadata": {
        "id": "Onvsfba56jv8"
      },
      "source": [
        "Solução 01:"
      ]
    },
    {
      "cell_type": "code",
      "execution_count": null,
      "metadata": {
        "colab": {
          "base_uri": "https://localhost:8080/"
        },
        "id": "e1coY8VoDJf8",
        "outputId": "98c075d4-3d0c-4bc2-b6c8-defca7c4f14f"
      },
      "outputs": [
        {
          "output_type": "stream",
          "name": "stdout",
          "text": [
            "\n",
            "42 -\tVerde\n",
            "43 -\tAmarelo\n",
            "44 -\tAzul\n",
            "45 -\tmagenta\n",
            "46 -\tCyan\n",
            "47 -\tCinza\n",
            "\n",
            "Entre com um número das cores tabeladas: 43\n",
            "\u001b[43m Amarelo.\n",
            "\u001b[m\n"
          ]
        }
      ],
      "source": [
        "print('''\n",
        "42 -\tVerde\n",
        "43 -\tAmarelo\n",
        "44 -\tAzul\n",
        "45 -\tmagenta\n",
        "46 -\tCyan\n",
        "47 -\tCinza\n",
        "''')\n",
        "\n",
        "cor = int(input(\"Entre com um número das cores tabeladas: \"))\n",
        "\n",
        "if cor == 42:\n",
        "  print('\\33[42m Verde.\\n\\033[m')\n",
        "elif cor == 43:\n",
        "  print('\\33[43m Amarelo.\\n\\033[m')\n",
        "elif cor == 44:\n",
        "  print('\\33[44m Azul.\\n\\033[m')\n",
        "elif cor == 45:  \n",
        "  print('\\33[45m Magenta.\\n\\033[m')\n",
        "elif cor == 46:\n",
        "  print('\\33[46m Cyan.\\n\\033[m')\n",
        "elif cor == 47:\n",
        "  print('\\33[47m Cinza.\\n\\033[m')\n",
        "else:\n",
        "  print('\\33[41m Cor inválida!.\\n\\033[m')"
      ]
    },
    {
      "cell_type": "markdown",
      "source": [
        "Solução 02: "
      ],
      "metadata": {
        "id": "-VeAnQlDv98l"
      }
    },
    {
      "cell_type": "code",
      "execution_count": null,
      "metadata": {
        "id": "8KwvQ_XM8m_q"
      },
      "outputs": [],
      "source": [
        "print('''\n",
        "42 -\tVerde\n",
        "43 -\tAmarelo\n",
        "44 -\tAzul\n",
        "45 -\tmagenta\n",
        "46 -\tCyan\n",
        "47 -\tCinza\n",
        "''')\n",
        "cores = [42,43,44,45,46,47]\n",
        "cor = int(input(\"Entre com um número das cores tabeladas: \"))\n",
        "if cor in cores:\n",
        "  print(f'\\33[{cor}m \\t \\n\\033[m')\n",
        "else:\n",
        "  print('\\33[41m Cor Inválida \\n\\033[m')"
      ]
    },
    {
      "cell_type": "markdown",
      "metadata": {
        "id": "buY43ZwqIwGa"
      },
      "source": [
        "**Questão 02:** Escreva um programa que verifica quantos números entre 0 e 100 são múltiplos de 6, usando o critério de divisibilidade e imprime-os na tela."
      ]
    },
    {
      "cell_type": "markdown",
      "source": [
        "Solução 01:"
      ],
      "metadata": {
        "id": "V_Med3fjwBzB"
      }
    },
    {
      "cell_type": "code",
      "execution_count": null,
      "metadata": {
        "id": "jXaYfyujJFgh"
      },
      "outputs": [],
      "source": [
        "print(\"\"\"Para que um número seja divisível por 6,\n",
        "deve ser divisível por 2 e por 3 também.\n",
        "num % 2 == 0 e num % 3 == 0:\\n\"\"\")\n",
        "count = 0\n",
        "for i in range(101):\n",
        "  if i%2 == 0 and i%3 ==0:\n",
        "    print(i,end=' ')\n",
        "    count+=1\n",
        "\n",
        "print(f\"\\n\\nSão {count} números divisíveis por 6 entre 0 e 100.\")"
      ]
    },
    {
      "cell_type": "markdown",
      "source": [
        "Solução 02:"
      ],
      "metadata": {
        "id": "h3rRklPywEAa"
      }
    },
    {
      "cell_type": "code",
      "execution_count": null,
      "metadata": {
        "id": "oZN4BGgY_NNQ"
      },
      "outputs": [],
      "source": [
        "print(\"\"\"Um número é divisível por 6 \\nquando o resto é igual a zero: num%6==0 \\n\\n\"\"\")\n",
        "count = 0\n",
        "print(\"Números divisível por 6:\")\n",
        "for i in range(101):\n",
        "  if i%6 == 0:\n",
        "    print(i,end=' ')\n",
        "    count+=1\n",
        "\n",
        "print(f\"\\n\\nSão {count} números divisíveis por 6 entre 0 e 100.\")"
      ]
    },
    {
      "cell_type": "markdown",
      "metadata": {
        "id": "_ETeJ9-iJGPO"
      },
      "source": [
        "**Questão 03:** Escreva um programa que avalia se a senha digitada é igual a senha dada: `\"prog2022\"`. Enquanto a senha estiver errada continue pedindo até que o usuário informe a senha válido. \n",
        "Mensagens de saída:<br>\n",
        "1. Ao digitar uma senha inválida, imprimir na tela: \"Senha inválida. Tente novamente!\"<br>\n",
        "2. Ao digitar a senha válida, imprimir na tela: \"Login feito com sucesso\"."
      ]
    },
    {
      "cell_type": "markdown",
      "source": [
        "Solução 01:"
      ],
      "metadata": {
        "id": "kXYEwiIOwKJ4"
      }
    },
    {
      "cell_type": "code",
      "execution_count": null,
      "metadata": {
        "id": "5jrzenoSLadV"
      },
      "outputs": [],
      "source": [
        "senha = input(\"Digite a senha cadastrada: \")\n",
        "while senha!=\"prog2022\":\n",
        "  print(\"Senha inválida. Tente novamente!\")\n",
        "  senha = input(\"Digite a senha cadastrada: \")\n",
        "else:\n",
        "  print(\"Login feito com sucesso!\")\n"
      ]
    },
    {
      "cell_type": "markdown",
      "source": [
        "Solução 02:"
      ],
      "metadata": {
        "id": "oJ0JEDMXwMz2"
      }
    },
    {
      "cell_type": "code",
      "execution_count": null,
      "metadata": {
        "id": "is7viw0RAeU3"
      },
      "outputs": [],
      "source": [
        "senha = input(\"Digite a senha cadastrada: \")\n",
        "while True:\n",
        "  if senha != \"prog2022\":\n",
        "    print(\"Senha inválida. Tente novamente!\")\n",
        "    senha = input(\"Digite a senha cadastrada: \")\n",
        "  else:\n",
        "    print(\"Login feito com sucesso!\")\n",
        "    break"
      ]
    },
    {
      "cell_type": "markdown",
      "metadata": {
        "id": "o8pGmxcNLeet"
      },
      "source": [
        "**Questão 04:** Escreva um programa que calcula o número $\\pi$ usando a fórmula abaixo:\n",
        "\n",
        "$$\\pi  =\\sqrt{12} \\displaystyle \\sum_{k=0}^n \\dfrac{\\left(-\\dfrac{1}{3}\\right)^k}{2k + 1}$$\n",
        "\n",
        "Use uma aproximação de 11 casas decimais na impressão para os $n=21$ primeiros termos."
      ]
    },
    {
      "cell_type": "markdown",
      "source": [
        "Solução 01:"
      ],
      "metadata": {
        "id": "yZSIP5z-wPOF"
      }
    },
    {
      "cell_type": "code",
      "execution_count": null,
      "metadata": {
        "colab": {
          "base_uri": "https://localhost:8080/"
        },
        "id": "_EMaKpowP3Is",
        "outputId": "b7cfdbc7-558e-4d0c-972e-d27df48a3940"
      },
      "outputs": [
        {
          "output_type": "stream",
          "name": "stdout",
          "text": [
            "Pi: 3.14159265359\n"
          ]
        }
      ],
      "source": [
        "pi = 0.0\n",
        "\n",
        "for k in range(22):\n",
        "  pi += 12**(1/2)*((-1/3)**k)/(2*k + 1)\n",
        "\n",
        "print(f'Pi: {pi:,.11f}')"
      ]
    },
    {
      "cell_type": "markdown",
      "source": [
        "Solução 02:"
      ],
      "metadata": {
        "id": "38MLiZPEwRkh"
      }
    },
    {
      "cell_type": "code",
      "source": [
        "f = lambda x: ((-1/3)**x)/(2*x + 1)\n",
        "sum = 0.0\n",
        "for k in range(22):\n",
        "  sum += f(k)\n",
        "\n",
        "pi = 12**(1/2) * sum\n",
        "print(f'Pi: {pi:,.11f}')"
      ],
      "metadata": {
        "colab": {
          "base_uri": "https://localhost:8080/"
        },
        "id": "Nj6L3fgUwRD8",
        "outputId": "c08853fb-bdcd-4bb0-a03c-b03763de9787"
      },
      "execution_count": null,
      "outputs": [
        {
          "output_type": "stream",
          "name": "stdout",
          "text": [
            "Pi: 3.14159265359\n"
          ]
        }
      ]
    },
    {
      "cell_type": "markdown",
      "metadata": {
        "id": "EsiAycDIQ5Bf"
      },
      "source": [
        "**Questão 05:** Escreva um programa que descreve o menu de uma lanchonete com cinco opções de lanches e com os devidos preços. Mostre na tela a opção de escolha dos lanches, a quantidade solicitada pelo cliente e valor a pagar.\n",
        "\n",
        "Por exemplo, com duas opções:\n",
        "\n",
        "1 - Cachorro quente: R\\$5,00<br>\n",
        "2 - Misto quente:  R\\$ 3,50\n",
        "\n",
        "Pedido: \n",
        "\n",
        "Qtde  | Opções     |     Valores (R\\$)\n",
        "-------|-----------|-------------\n",
        "2 |cachorro quente |  10,00\n",
        "2 |Misto quente| 7,00\n",
        "\n",
        "Total a pagar: R\\$ 17,00"
      ]
    },
    {
      "cell_type": "markdown",
      "source": [
        "Solução 01: força bruta"
      ],
      "metadata": {
        "id": "MdAHCKrB7ZB5"
      }
    },
    {
      "cell_type": "code",
      "source": [
        "menu1 = 'Cachorro Quente'\n",
        "menu2 = 'Sanduíche de atum'\n",
        "menu3 = 'X-Salada'\n",
        "menu4 = 'Ambúrguer'\n",
        "menu5 =  'X-Tudo' \n",
        "n = 5 # total de opções\n",
        "preco1 = 3.00\n",
        "preco2 = 5.00\n",
        "preco3 = 7.00 \n",
        "preco4 = 15.00\n",
        "preco5 = 19.00\n",
        "qtde1, total1 = 0,0\n",
        "qtde2, total2 = 0,0\n",
        "qtde3, total3 = 0,0\n",
        "qtde4, total4 = 0,0\n",
        "qtde5, total5 = 0,0\n",
        "while True:\n",
        "  print(\"---\"*18)\n",
        "  print(f\"{'Menu':^50}\")\n",
        "  print(\"---\"*18)\n",
        "  print(\"\"\"\n",
        "  1 - Cachorro Quente    ---- R$ 3,00\n",
        "  2 - Sanduíche de atum  ---- R$ 5,00\n",
        "  3 - X-Salada           ---- R$ 7,00\n",
        "  4 - Ambúrguer          ---- R$ 15,00\n",
        "  5 - X-Tudo             ---- R$ 19,00\"\"\")\n",
        "  print(\"---\"*18)\n",
        "  valores = 0\n",
        "  pedido = int(input(\"O que deseja? (1-5 ou 0 para sair) \"))\n",
        "  if pedido <= 0 or pedido > 5:\n",
        "    print(\"Saindo ...\\n\\n\")\n",
        "    break\n",
        "  quantos = int(input(\"Quantos? \"))\n",
        "  if pedido == 1:\n",
        "    valores = quantos * preco1\n",
        "    qtde1 +=quantos\n",
        "    total1+=valores\n",
        "  elif pedido == 2:\n",
        "    valores = quantos * preco2\n",
        "    qtde2 +=quantos\n",
        "    total2+=valores\n",
        "  elif pedido == 3:\n",
        "    valores = quantos * preco3\n",
        "    qtde3 +=quantos\n",
        "    total3+=valores\n",
        "  elif pedido == 4:\n",
        "    valores = quantos * preco4\n",
        "    qtde4 +=quantos\n",
        "    total4+=valores\n",
        "  elif pedido == 5:\n",
        "    valores = quantos * preco5\n",
        "    qtde5 +=quantos\n",
        "    total5+=valores\n",
        "  \n",
        "print(\"---\"*18)\n",
        "print(f\" {'Pedido':^50}  \")\n",
        "print(\"---\"*18)\n",
        "print(f\"{'Qtde':^10}  {'Descricao':^28}  {'valor':^10}\")\n",
        "print(\"---\"*18)\n",
        "if qtde1!=0:\n",
        "    print(f\"{qtde1:^10}  {menu1:^20} {'.'*10}R${total1:,.2f}\")\n",
        "if qtde2!=0:\n",
        "    print(f\"{qtde2:^10}  {menu2:^20} {'.'*10}R${total2:,.2f}\")\n",
        "if qtde3!=0:\n",
        "    print(f\"{qtde3:^10}  {menu3:^20} {'.'*10}R${total3:,.2f}\")\n",
        "if qtde4!=0:\n",
        "    print(f\"{qtde4:^10}  {menu4:^20} {'.'*10}R${total4:,.2f}\")\n",
        "if qtde5!=0:\n",
        "    print(f\"{qtde5:^10}  {menu5:^20} {'.'*10}R${total5:,.2f}\")\n",
        "print(\"---\"*18)\n",
        "totais = total1 + total2 + total3 + total4 + total5\n",
        "print(f\"Total a Pagar: {'.'*28}R${totais:,.2f}\")"
      ],
      "metadata": {
        "colab": {
          "base_uri": "https://localhost:8080/"
        },
        "id": "kSWWU9ZO5GqF",
        "outputId": "1c01f776-f2e5-4b6e-c712-9564fdf4375b"
      },
      "execution_count": 5,
      "outputs": [
        {
          "output_type": "stream",
          "name": "stdout",
          "text": [
            "------------------------------------------------------\n",
            "                       Menu                       \n",
            "------------------------------------------------------\n",
            "\n",
            "  1 - Cachorro Quente    ---- R$ 3,00\n",
            "  2 - Sanduíche de atum  ---- R$ 5,00\n",
            "  3 - X-Salada           ---- R$ 7,00\n",
            "  4 - Ambúrguer          ---- R$ 15,00\n",
            "  5 - X-Tudo             ---- R$ 19,00\n",
            "------------------------------------------------------\n",
            "O que deseja? (1-5 ou 0 para sair) 1\n",
            "Quantos? 2\n",
            "------------------------------------------------------\n",
            "                       Menu                       \n",
            "------------------------------------------------------\n",
            "\n",
            "  1 - Cachorro Quente    ---- R$ 3,00\n",
            "  2 - Sanduíche de atum  ---- R$ 5,00\n",
            "  3 - X-Salada           ---- R$ 7,00\n",
            "  4 - Ambúrguer          ---- R$ 15,00\n",
            "  5 - X-Tudo             ---- R$ 19,00\n",
            "------------------------------------------------------\n",
            "O que deseja? (1-5 ou 0 para sair) 4\n",
            "Quantos? 3\n",
            "------------------------------------------------------\n",
            "                       Menu                       \n",
            "------------------------------------------------------\n",
            "\n",
            "  1 - Cachorro Quente    ---- R$ 3,00\n",
            "  2 - Sanduíche de atum  ---- R$ 5,00\n",
            "  3 - X-Salada           ---- R$ 7,00\n",
            "  4 - Ambúrguer          ---- R$ 15,00\n",
            "  5 - X-Tudo             ---- R$ 19,00\n",
            "------------------------------------------------------\n",
            "O que deseja? (1-5 ou 0 para sair) 3\n",
            "Quantos? 2\n",
            "------------------------------------------------------\n",
            "                       Menu                       \n",
            "------------------------------------------------------\n",
            "\n",
            "  1 - Cachorro Quente    ---- R$ 3,00\n",
            "  2 - Sanduíche de atum  ---- R$ 5,00\n",
            "  3 - X-Salada           ---- R$ 7,00\n",
            "  4 - Ambúrguer          ---- R$ 15,00\n",
            "  5 - X-Tudo             ---- R$ 19,00\n",
            "------------------------------------------------------\n",
            "O que deseja? (1-5 ou 0 para sair) 2\n",
            "Quantos? 5\n",
            "------------------------------------------------------\n",
            "                       Menu                       \n",
            "------------------------------------------------------\n",
            "\n",
            "  1 - Cachorro Quente    ---- R$ 3,00\n",
            "  2 - Sanduíche de atum  ---- R$ 5,00\n",
            "  3 - X-Salada           ---- R$ 7,00\n",
            "  4 - Ambúrguer          ---- R$ 15,00\n",
            "  5 - X-Tudo             ---- R$ 19,00\n",
            "------------------------------------------------------\n",
            "O que deseja? (1-5 ou 0 para sair) 5\n",
            "Quantos? 2\n",
            "------------------------------------------------------\n",
            "                       Menu                       \n",
            "------------------------------------------------------\n",
            "\n",
            "  1 - Cachorro Quente    ---- R$ 3,00\n",
            "  2 - Sanduíche de atum  ---- R$ 5,00\n",
            "  3 - X-Salada           ---- R$ 7,00\n",
            "  4 - Ambúrguer          ---- R$ 15,00\n",
            "  5 - X-Tudo             ---- R$ 19,00\n",
            "------------------------------------------------------\n",
            "O que deseja? (1-5 ou 0 para sair) 0\n",
            "Saindo ...\n",
            "\n",
            "\n",
            "------------------------------------------------------\n",
            "                       Pedido                        \n",
            "------------------------------------------------------\n",
            "   Qtde              Descricao              valor   \n",
            "------------------------------------------------------\n",
            "    2         Cachorro Quente    ..........R$6.00\n",
            "    5        Sanduíche de atum   ..........R$25.00\n",
            "    2             X-Salada       ..........R$14.00\n",
            "    3            Ambúrguer       ..........R$45.00\n",
            "    2              X-Tudo        ..........R$38.00\n",
            "------------------------------------------------------\n",
            "Total a Pagar: ............................R$128.00\n"
          ]
        }
      ]
    },
    {
      "cell_type": "markdown",
      "source": [
        "Solução 02: força bruta melhorado"
      ],
      "metadata": {
        "id": "dHaS0VYB5BI4"
      }
    },
    {
      "cell_type": "code",
      "execution_count": null,
      "metadata": {
        "colab": {
          "base_uri": "https://localhost:8080/"
        },
        "id": "yEm5uk8kVEbm",
        "outputId": "58f48ff6-b9a0-409b-d85e-6d8cc79b8749"
      },
      "outputs": [
        {
          "output_type": "stream",
          "name": "stdout",
          "text": [
            "------------------------------------------------------\n",
            "                       Menu                       \n",
            "------------------------------------------------------\n",
            "\n",
            "  1 - Cachorro Quente    ---- R$ 3,00\n",
            "  2 - Sanduíche de atum  ---- R$ 5,00\n",
            "  3 - X-Salada           ---- R$ 7,00\n",
            "  4 - Ambúrguer          ---- R$ 15,00\n",
            "  5 - X-Tudo             ---- R$ 19,00\n",
            "------------------------------------------------------\n",
            "O que deseja? (1-5 ou 0 para sair) 3\n",
            "Quantos? 4\n",
            "------------------------------------------------------\n",
            "                       Menu                       \n",
            "------------------------------------------------------\n",
            "\n",
            "  1 - Cachorro Quente    ---- R$ 3,00\n",
            "  2 - Sanduíche de atum  ---- R$ 5,00\n",
            "  3 - X-Salada           ---- R$ 7,00\n",
            "  4 - Ambúrguer          ---- R$ 15,00\n",
            "  5 - X-Tudo             ---- R$ 19,00\n",
            "------------------------------------------------------\n",
            "O que deseja? (1-5 ou 0 para sair) 2\n",
            "Quantos? 3\n",
            "------------------------------------------------------\n",
            "                       Menu                       \n",
            "------------------------------------------------------\n",
            "\n",
            "  1 - Cachorro Quente    ---- R$ 3,00\n",
            "  2 - Sanduíche de atum  ---- R$ 5,00\n",
            "  3 - X-Salada           ---- R$ 7,00\n",
            "  4 - Ambúrguer          ---- R$ 15,00\n",
            "  5 - X-Tudo             ---- R$ 19,00\n",
            "------------------------------------------------------\n",
            "O que deseja? (1-5 ou 0 para sair) 22\n",
            "Saindo ...\n",
            "\n",
            "\n",
            "------------------------------------------------------\n",
            "                       Pedido                        \n",
            "------------------------------------------------------\n",
            "   Qtde              Descricao              valor   \n",
            "------------------------------------------------------\n",
            "    3        Sanduíche de atum   ..........R$15.00\n",
            "    4             X-Salada       ..........R$28.00\n",
            "------------------------------------------------------\n",
            "Total a Pagar: ............................R$43.00\n"
          ]
        }
      ],
      "source": [
        "menu = {1:'Cachorro Quente', 2:'Sanduíche de atum', 3:'X-Salada', 4: 'Ambúrguer', 5: 'X-Tudo' }\n",
        "n = 5 # total de opções\n",
        "preco = [3.00,5.00,7.00,15.00,19.00]\n",
        "totais = [0.]*n\n",
        "qtde = [0] * n\n",
        "while True:\n",
        "  print(\"---\"*18)\n",
        "  print(f\"{'Menu':^50}\")\n",
        "  print(\"---\"*18)\n",
        "  print(\"\"\"\n",
        "  1 - Cachorro Quente    ---- R$ 3,00\n",
        "  2 - Sanduíche de atum  ---- R$ 5,00\n",
        "  3 - X-Salada           ---- R$ 7,00\n",
        "  4 - Ambúrguer          ---- R$ 15,00\n",
        "  5 - X-Tudo             ---- R$ 19,00\"\"\")\n",
        "  print(\"---\"*18)\n",
        "  valores = 0\n",
        "  pedido = int(input(\"O que deseja? (1-5 ou 0 para sair) \"))\n",
        "  if pedido <= 0 or pedido > 5:\n",
        "    print(\"Saindo ...\\n\\n\")\n",
        "    break\n",
        "  quantos = int(input(\"Quantos? \"))\n",
        "  if pedido == 1:\n",
        "    valores = quantos * preco[0]\n",
        "    qtde[0] +=quantos\n",
        "    totais[0]+=valores\n",
        "  elif pedido == 2:\n",
        "    valores = quantos * preco[1]\n",
        "    qtde[1] +=quantos\n",
        "    totais[1]+=valores\n",
        "  elif pedido == 3:\n",
        "    valores = quantos * preco[2]\n",
        "    qtde[2] +=quantos\n",
        "    totais[2]+=valores\n",
        "  elif pedido == 4:\n",
        "    valores = quantos * preco[3]\n",
        "    qtde[3] +=quantos\n",
        "    totais[3]+=valores\n",
        "  elif pedido == 5:\n",
        "    valores = quantos * preco[4]\n",
        "    qtde[4] +=quantos\n",
        "    totais[4]+=valores\n",
        "  \n",
        "print(\"---\"*18)\n",
        "print(f\" {'Pedido':^50}  \")\n",
        "print(\"---\"*18)\n",
        "print(f\"{'Qtde':^10}  {'Descricao':^28}  {'valor':^10}\")\n",
        "print(\"---\"*18)\n",
        "for i in range(n):\n",
        "  if qtde[i]!=0:\n",
        "    print(f\"{qtde[i]:^10}  {menu[i+1]:^20} {'.'*10}R${totais[i]:,.2f}\")\n",
        "print(\"---\"*18)\n",
        "print(f\"Total a Pagar: {'.'*28}R${sum(totais):,.2f}\")"
      ]
    },
    {
      "cell_type": "markdown",
      "source": [
        "solução 03: Otimizado"
      ],
      "metadata": {
        "id": "O5_eh9V872sJ"
      }
    },
    {
      "cell_type": "code",
      "source": [
        "menu = {1:'Cachorro Quente', 2:'Sanduíche de atum', 3:'X-Salada', 4: 'Ambúrguer', 5: 'X-Tudo' }\n",
        "n = 5 # total de opções\n",
        "preco = [3.00,5.00,7.00,15.00,19.00]\n",
        "totais = [0.]*n\n",
        "qtde = [0] * n\n",
        "while True:\n",
        "  print(\"---\"*18)\n",
        "  print(f\"{'Menu':^50}\")\n",
        "  print(\"---\"*18)\n",
        "  print(\"\"\"\n",
        "  1 - Cachorro Quente    ---- R$ 3,00\n",
        "  2 - Sanduíche de atum  ---- R$ 5,00\n",
        "  3 - X-Salada           ---- R$ 7,00\n",
        "  4 - Ambúrguer          ---- R$ 15,00\n",
        "  5 - X-Tudo             ---- R$ 19,00\"\"\")\n",
        "  print(\"---\"*18)\n",
        "  valores = 0\n",
        "  pedido = int(input(\"O que deseja? (0 para sair) \"))\n",
        "  if pedido <= 0 or pedido > n:\n",
        "    print(\"Saindo ...\\n\\n\")\n",
        "    break\n",
        "  quantos = int(input(\"Quantos? \"))\n",
        " \n",
        "  valores = quantos * preco[pedido-1]\n",
        "  qtde[pedido-1] +=quantos\n",
        "  totais[pedido-1]+=valores\n",
        "    \n",
        "print(\"---\"*18)\n",
        "print(f\" {'Pedido':^50}  \")\n",
        "print(\"---\"*18)\n",
        "print(f\"{'Qtde':^10}  {'Descricao':^28}  {'valor':^10}\")\n",
        "print(\"---\"*18)\n",
        "for i in range(n):\n",
        "  if qtde[i]!=0:\n",
        "    print(f\"{qtde[i]:^10}  {menu[i+1]:^20} {'.'*10}R${totais[i]:,.2f}\")\n",
        "print(\"---\"*18)\n",
        "print(f\"Total a Pagar: {'.'*28}R${sum(totais):,.2f}\")"
      ],
      "metadata": {
        "id": "vyOf3r2g2yG1",
        "colab": {
          "base_uri": "https://localhost:8080/"
        },
        "outputId": "c86f59e5-415b-4a25-8d96-21994fefedcd"
      },
      "execution_count": null,
      "outputs": [
        {
          "output_type": "stream",
          "name": "stdout",
          "text": [
            "------------------------------------------------------\n",
            "                       Menu                       \n",
            "------------------------------------------------------\n",
            "\n",
            "  1 - Cachorro Quente    ---- R$ 3,00\n",
            "  2 - Sanduíche de atum  ---- R$ 5,00\n",
            "  3 - X-Salada           ---- R$ 7,00\n",
            "  4 - Ambúrguer          ---- R$ 15,00\n",
            "  5 - X-Tudo             ---- R$ 19,00\n",
            "------------------------------------------------------\n",
            "O que deseja? (0 para sair) 1\n",
            "Quantos? 2\n",
            "------------------------------------------------------\n",
            "                       Menu                       \n",
            "------------------------------------------------------\n",
            "\n",
            "  1 - Cachorro Quente    ---- R$ 3,00\n",
            "  2 - Sanduíche de atum  ---- R$ 5,00\n",
            "  3 - X-Salada           ---- R$ 7,00\n",
            "  4 - Ambúrguer          ---- R$ 15,00\n",
            "  5 - X-Tudo             ---- R$ 19,00\n",
            "------------------------------------------------------\n",
            "O que deseja? (0 para sair) 4\n",
            "Quantos? 2\n",
            "------------------------------------------------------\n",
            "                       Menu                       \n",
            "------------------------------------------------------\n",
            "\n",
            "  1 - Cachorro Quente    ---- R$ 3,00\n",
            "  2 - Sanduíche de atum  ---- R$ 5,00\n",
            "  3 - X-Salada           ---- R$ 7,00\n",
            "  4 - Ambúrguer          ---- R$ 15,00\n",
            "  5 - X-Tudo             ---- R$ 19,00\n",
            "------------------------------------------------------\n",
            "O que deseja? (0 para sair) 5\n",
            "Quantos? 1\n",
            "------------------------------------------------------\n",
            "                       Menu                       \n",
            "------------------------------------------------------\n",
            "\n",
            "  1 - Cachorro Quente    ---- R$ 3,00\n",
            "  2 - Sanduíche de atum  ---- R$ 5,00\n",
            "  3 - X-Salada           ---- R$ 7,00\n",
            "  4 - Ambúrguer          ---- R$ 15,00\n",
            "  5 - X-Tudo             ---- R$ 19,00\n",
            "------------------------------------------------------\n",
            "O que deseja? (0 para sair) 3\n",
            "Quantos? 4\n",
            "------------------------------------------------------\n",
            "                       Menu                       \n",
            "------------------------------------------------------\n",
            "\n",
            "  1 - Cachorro Quente    ---- R$ 3,00\n",
            "  2 - Sanduíche de atum  ---- R$ 5,00\n",
            "  3 - X-Salada           ---- R$ 7,00\n",
            "  4 - Ambúrguer          ---- R$ 15,00\n",
            "  5 - X-Tudo             ---- R$ 19,00\n",
            "------------------------------------------------------\n",
            "O que deseja? (0 para sair) 0\n",
            "Saindo ...\n",
            "\n",
            "\n",
            "------------------------------------------------------\n",
            "                       Pedido                        \n",
            "------------------------------------------------------\n",
            "   Qtde              Descricao              valor   \n",
            "------------------------------------------------------\n",
            "    2         Cachorro Quente    ..........R$6.00\n",
            "    4             X-Salada       ..........R$28.00\n",
            "    2            Ambúrguer       ..........R$30.00\n",
            "    1              X-Tudo        ..........R$19.00\n",
            "------------------------------------------------------\n",
            "Total a Pagar: ............................R$83.00\n"
          ]
        }
      ]
    }
  ],
  "metadata": {
    "colab": {
      "provenance": [],
      "authorship_tag": "ABX9TyPzNgj2ikDqJ6/IFhX5e9Z1",
      "include_colab_link": true
    },
    "kernelspec": {
      "display_name": "Python 3",
      "name": "python3"
    },
    "language_info": {
      "name": "python"
    }
  },
  "nbformat": 4,
  "nbformat_minor": 0
}