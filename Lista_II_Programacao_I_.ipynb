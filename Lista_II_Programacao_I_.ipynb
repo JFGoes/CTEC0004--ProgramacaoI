{
  "nbformat": 4,
  "nbformat_minor": 0,
  "metadata": {
    "colab": {
      "provenance": [],
      "authorship_tag": "ABX9TyNMP4dQnJALWMUnBEKZE1TW",
      "include_colab_link": true
    },
    "kernelspec": {
      "name": "python3",
      "display_name": "Python 3"
    }
  },
  "cells": [
    {
      "cell_type": "markdown",
      "metadata": {
        "id": "view-in-github",
        "colab_type": "text"
      },
      "source": [
        "<a href=\"https://colab.research.google.com/github/JFGoes/CTEC0004--ProgramacaoI/blob/master/Lista_II_Programacao_I_.ipynb\" target=\"_parent\"><img src=\"https://colab.research.google.com/assets/colab-badge.svg\" alt=\"Open In Colab\"/></a>"
      ]
    },
    {
      "cell_type": "markdown",
      "metadata": {
        "id": "UaqvBckqmKY7"
      },
      "source": [
        "#Lista II de Programação I\n",
        "\n",
        "Professor: Josecley Fialho Góes\n"
      ]
    },
    {
      "cell_type": "markdown",
      "metadata": {
        "id": "WyL3AVn2l9zk"
      },
      "source": [
        "**Equipe:**\n",
        "\n",
        "\n",
        "\n",
        "*   Item da lista\n",
        "*   Item da lista\n",
        "*   Item da lista\n",
        "*   Item da lista\n",
        "\n",
        "\n",
        "\n"
      ]
    },
    {
      "cell_type": "markdown",
      "metadata": {
        "id": "5SQLz2lLXYRi"
      },
      "source": [
        "# II – Estrutura de repetição"
      ]
    },
    {
      "cell_type": "markdown",
      "metadata": {
        "id": "d8kmUAGGl5iK"
      },
      "source": [
        "## 1 --\tFaça um programa que peça uma nota, entre zero e dez. Mostre uma mensagem caso o valor seja inválido e continue pedindo até que o usuário informe um valor válido."
      ]
    },
    {
      "cell_type": "code",
      "metadata": {
        "id": "Ej1eAq23m5pD",
        "colab": {
          "base_uri": "https://localhost:8080/"
        },
        "outputId": "80de8df0-b8ef-4c90-cd3e-d75b170a4403"
      },
      "source": [
        "value = True\n",
        "\n",
        "while value:\n",
        "  nota = float(input(\"Entre com uma nota entre 0 e 10: \"))\n",
        "  if nota <=0 or nota > 10:\n",
        "    print('Nota inválida!')\n",
        "  else:\n",
        "    value = False\n",
        "  "
      ],
      "execution_count": null,
      "outputs": [
        {
          "name": "stdout",
          "output_type": "stream",
          "text": [
            "Entre com uma nota entre 0 e 10: -23\n",
            "Nota inválida!\n",
            "Entre com uma nota entre 0 e 10: 89\n",
            "Nota inválida!\n",
            "Entre com uma nota entre 0 e 10: 5\n"
          ]
        }
      ]
    },
    {
      "cell_type": "markdown",
      "metadata": {
        "id": "SCl7bnKjm7DC"
      },
      "source": [
        "## 2 --\tFaça um programa que leia um nome de usuário e a sua senha e não aceite a senha igual ao nome do usuário, mostrando uma mensagem de erro e voltando a pedir as informações."
      ]
    },
    {
      "cell_type": "code",
      "metadata": {
        "id": "_4Ir8GA5nErw"
      },
      "source": [],
      "execution_count": null,
      "outputs": []
    },
    {
      "cell_type": "markdown",
      "metadata": {
        "id": "b6LTJdwxnHEQ"
      },
      "source": [
        "## 3 --\tFaça um programa que leia e valide as seguintes informações:\n",
        "####a.\tNome: maior que 3 caracteres;\n",
        "####b.\tIdade: entre 0 e 150;\n",
        "####c.\tSalário: maior que zero;\n",
        "####d.\tSexo: 'f' ou 'm';\n",
        "####e.\tEstado Civil: 's', 'c', 'v', 'd';\n"
      ]
    },
    {
      "cell_type": "code",
      "metadata": {
        "id": "6HpcbPIsoQWv"
      },
      "source": [],
      "execution_count": null,
      "outputs": []
    },
    {
      "cell_type": "markdown",
      "metadata": {
        "id": "4XfGvabLoRR0"
      },
      "source": [
        "##4 --\tSupondo que a população de um país A seja da ordem de 80000 habitantes com uma taxa anual de crescimento de 3% e que a população de B seja 200000 habitantes com uma taxa de crescimento de 1.5%. Faça um programa que calcule e escreva o número de anos necessários para que a população do país A ultrapasse ou iguale a população do país B, mantidas as taxas de crescimento."
      ]
    },
    {
      "cell_type": "code",
      "metadata": {
        "id": "nOm8Qm8roYmf"
      },
      "source": [],
      "execution_count": null,
      "outputs": []
    },
    {
      "cell_type": "markdown",
      "metadata": {
        "id": "4qXVZfoDoZif"
      },
      "source": [
        "##5 --\tAltere o programa anterior permitindo ao usuário informar as populações e as taxas de crescimento iniciais. Valide a entrada e permita repetir a operação."
      ]
    },
    {
      "cell_type": "code",
      "metadata": {
        "id": "tTkxXyieolw-"
      },
      "source": [],
      "execution_count": null,
      "outputs": []
    },
    {
      "cell_type": "markdown",
      "metadata": {
        "id": "nADgaMFhonVU"
      },
      "source": [
        "## 6 --\tFaça um programa que imprima na tela os números de 1 a 20, um abaixo do outro. Depois modifique o programa para que ele mostre os números um ao lado do outro."
      ]
    },
    {
      "cell_type": "code",
      "metadata": {
        "id": "2BhjeNpFortC"
      },
      "source": [],
      "execution_count": null,
      "outputs": []
    },
    {
      "cell_type": "markdown",
      "metadata": {
        "id": "dLfgaAA6otAa"
      },
      "source": [
        "##7 --\tFaça um programa que leia 5 números e informe o maior número."
      ]
    },
    {
      "cell_type": "code",
      "metadata": {
        "id": "BltrpmJZo4qF"
      },
      "source": [],
      "execution_count": null,
      "outputs": []
    },
    {
      "cell_type": "markdown",
      "metadata": {
        "id": "z_Fd8INfozqI"
      },
      "source": [
        "##8 --\tFaça um programa que leia 5 números e informe a soma e a média dos números."
      ]
    },
    {
      "cell_type": "code",
      "metadata": {
        "id": "Jy3daIHdoybF"
      },
      "source": [],
      "execution_count": null,
      "outputs": []
    },
    {
      "cell_type": "markdown",
      "metadata": {
        "id": "POzQrY01o6Aj"
      },
      "source": [
        "##9 --\tFaça um programa que imprima na tela apenas os números ímpares entre 1 e 50."
      ]
    },
    {
      "cell_type": "code",
      "metadata": {
        "id": "eGJzUNbzo_JE"
      },
      "source": [],
      "execution_count": null,
      "outputs": []
    },
    {
      "cell_type": "markdown",
      "metadata": {
        "id": "FJ-_ggMRo_ib"
      },
      "source": [
        "##10 --\tFaça um programa que receba dois números inteiros e gere os números inteiros que estão no intervalo compreendido por eles."
      ]
    },
    {
      "cell_type": "code",
      "metadata": {
        "id": "uDOW1eX4pDxs"
      },
      "source": [],
      "execution_count": null,
      "outputs": []
    },
    {
      "cell_type": "markdown",
      "metadata": {
        "id": "GvG6sBtbpHQI"
      },
      "source": [
        "##11 --\tAltere o programa anterior para mostrar no final a soma dos números."
      ]
    },
    {
      "cell_type": "code",
      "metadata": {
        "id": "SCxcROZZpx2N"
      },
      "source": [],
      "execution_count": null,
      "outputs": []
    },
    {
      "cell_type": "markdown",
      "metadata": {
        "id": "wsCMgjRWp0gh"
      },
      "source": [
        "##12 --\tDesenvolva um gerador de tabuada, capaz de gerar a tabuada de qualquer número inteiro entre 1 a 10. O usuário deve informar de qual numero ele deseja ver a tabuada. A saída deve ser conforme o exemplo abaixo:\n",
        "###a.\tTabuada de 5:\n",
        "###5 X 1 = 5\n",
        "###5 X 2 = 10\n",
        "#...\n",
        "###5 X 10 = 50\n"
      ]
    },
    {
      "cell_type": "code",
      "metadata": {
        "id": "T-fRqwqgp_lw"
      },
      "source": [],
      "execution_count": null,
      "outputs": []
    },
    {
      "cell_type": "markdown",
      "metadata": {
        "id": "Yu1MeVStqBBX"
      },
      "source": [
        "##13 -- Faça um programa que peça dois números, base e expoente, calcule e mostre o primeiro número elevado ao segundo número. Não utilize a função de potência da linguagem."
      ]
    },
    {
      "cell_type": "code",
      "metadata": {
        "id": "JbYDK9wZqGFn"
      },
      "source": [],
      "execution_count": null,
      "outputs": []
    },
    {
      "cell_type": "markdown",
      "metadata": {
        "id": "blATOt5oqGlp"
      },
      "source": [
        "##14 -- Faça um programa que peça 10 números inteiros, calcule e mostre a quantidade de números pares e a quantidade de números impares."
      ]
    },
    {
      "cell_type": "code",
      "metadata": {
        "id": "L8gOGhMPqTtz"
      },
      "source": [],
      "execution_count": null,
      "outputs": []
    },
    {
      "cell_type": "markdown",
      "metadata": {
        "id": "J2P282hQqUdt"
      },
      "source": [
        "##15 --\tA série de Fibonacci é formada pela seqüência 1,1,2,3,5,8,13,21,34,55,... Faça um programa capaz de gerar a série até o n−ésimo termo."
      ]
    },
    {
      "cell_type": "code",
      "metadata": {
        "id": "xkePhLs9qZm6"
      },
      "source": [],
      "execution_count": null,
      "outputs": []
    },
    {
      "cell_type": "markdown",
      "metadata": {
        "id": "4ncrytM_qaZa"
      },
      "source": [
        "##16 --\tA série de Fibonacci é formada pela seqüência 0,1,1,2,3,5,8,13,21,34,55,... Faça um programa que gere a série até que o valor seja maior que 500."
      ]
    },
    {
      "cell_type": "code",
      "metadata": {
        "id": "XGb7CYuwqfKM"
      },
      "source": [],
      "execution_count": null,
      "outputs": []
    },
    {
      "cell_type": "markdown",
      "metadata": {
        "id": "6SNPNeoyqft8"
      },
      "source": [
        "##17 --\tFaça um programa que calcule o fatorial de um número inteiro fornecido pelo usuário. Ex.: 5!=5.4.3.2.1=120"
      ]
    },
    {
      "cell_type": "code",
      "metadata": {
        "id": "TJkyQjiqqkHy"
      },
      "source": [],
      "execution_count": null,
      "outputs": []
    },
    {
      "cell_type": "markdown",
      "metadata": {
        "id": "g9Fsol-RqktP"
      },
      "source": [
        "##18 --\tFaça um programa que, dado um conjunto de N números, determine o menor valor, o maior valor e a soma dos valores."
      ]
    },
    {
      "cell_type": "code",
      "metadata": {
        "id": "o051eMuzqp56"
      },
      "source": [],
      "execution_count": null,
      "outputs": []
    },
    {
      "cell_type": "markdown",
      "metadata": {
        "id": "8BfhNv94qurr"
      },
      "source": [
        "##19 --\tAltere o programa anterior para que ele aceite apenas números entre 0 e 1000."
      ]
    },
    {
      "cell_type": "code",
      "metadata": {
        "id": "O_U9yfXAqywD"
      },
      "source": [],
      "execution_count": null,
      "outputs": []
    },
    {
      "cell_type": "markdown",
      "metadata": {
        "id": "fm5wrv7gqzom"
      },
      "source": [
        "##20 --\tAltere o programa de cálculo do fatorial, permitindo ao usuário calcular o fatorial várias vezes e limitando o fatorial a números inteiros positivos e menores que 16."
      ]
    },
    {
      "cell_type": "code",
      "metadata": {
        "id": "pNa5UFPGq387"
      },
      "source": [],
      "execution_count": null,
      "outputs": []
    },
    {
      "cell_type": "markdown",
      "metadata": {
        "id": "JvUAgoroq4bp"
      },
      "source": [
        "##21 --\tFaça um programa que peça um número inteiro e determine se ele é ou não um número primo. Um número primo é aquele que é divisível somente por ele mesmo e por 1."
      ]
    },
    {
      "cell_type": "code",
      "metadata": {
        "id": "AFcjdAqYq9GL"
      },
      "source": [],
      "execution_count": null,
      "outputs": []
    },
    {
      "cell_type": "markdown",
      "metadata": {
        "id": "D2lWHIgzq9rG"
      },
      "source": [
        "##22 --\tAltere o programa de cálculo dos números primos, informando, caso o número não seja primo, por quais número ele é divisível."
      ]
    },
    {
      "cell_type": "code",
      "metadata": {
        "id": "sBKmL010rC5T"
      },
      "source": [],
      "execution_count": null,
      "outputs": []
    },
    {
      "cell_type": "markdown",
      "metadata": {
        "id": "uHRYLSy9rEag"
      },
      "source": [
        "##23 --\tFaça um programa que mostre todos os primos entre 1 e N sendo N um número inteiro fornecido pelo usuário. O programa deverá mostrar também o número de divisões que ele executou para encontrar os números primos. Serão avaliados o funcionamento, o estilo e o número de testes (divisões) executados."
      ]
    },
    {
      "cell_type": "code",
      "metadata": {
        "id": "glbKqLRnrI7c"
      },
      "source": [],
      "execution_count": null,
      "outputs": []
    },
    {
      "cell_type": "markdown",
      "metadata": {
        "id": "N3rJs99RrJoE"
      },
      "source": [
        "##24 --\tFaça um programa que calcule o mostre a média aritmética de N notas."
      ]
    },
    {
      "cell_type": "code",
      "metadata": {
        "id": "ECt9ssgdrOVk"
      },
      "source": [],
      "execution_count": null,
      "outputs": []
    },
    {
      "cell_type": "markdown",
      "metadata": {
        "id": "dFjN8sSErOzf"
      },
      "source": [
        "##25 --\tFaça um programa que peça para n pessoas a sua idade, ao final o programa devera verificar se a média de idade da turma varia entre 0 e 25, 26 e 60 e maior que 60; e então, dizer se a turma é jovem, adulta ou idosa, conforme a média calculada."
      ]
    },
    {
      "cell_type": "code",
      "metadata": {
        "id": "g9Z0AN34r3zn"
      },
      "source": [],
      "execution_count": null,
      "outputs": []
    },
    {
      "cell_type": "markdown",
      "metadata": {
        "id": "39DlwkNar4ny"
      },
      "source": [
        "##26 --\tNuma eleição existem três candidatos. Faça um programa que peça o número total de eleitores. Peça para cada eleitor votar e ao final mostrar o número de votos de cada candidato."
      ]
    },
    {
      "cell_type": "code",
      "metadata": {
        "id": "QH1aMtWdsAiA"
      },
      "source": [],
      "execution_count": null,
      "outputs": []
    },
    {
      "cell_type": "markdown",
      "metadata": {
        "id": "s9c3goRrsh8Z"
      },
      "source": [
        "##27 -- Faça um programa que calcule o número médio de alunos por turma. Para isto, peça a quantidade de turmas e a quantidade de alunos para cada turma. As turmas não podem ter mais de 40 alunos."
      ]
    },
    {
      "cell_type": "code",
      "metadata": {
        "id": "TV7xezkLsmiR"
      },
      "source": [],
      "execution_count": null,
      "outputs": []
    },
    {
      "cell_type": "markdown",
      "metadata": {
        "id": "2gRAiZxEsnjp"
      },
      "source": [
        "##28 --\tFaça um programa que calcule o valor total investido por um colecionador em sua coleção de CDs e o valor médio gasto em cada um deles. O usuário deverá informar a quantidade de CDs e o valor para em cada um."
      ]
    },
    {
      "cell_type": "code",
      "metadata": {
        "id": "P1rJGQensrqC"
      },
      "source": [],
      "execution_count": null,
      "outputs": []
    },
    {
      "cell_type": "markdown",
      "metadata": {
        "id": "c8tdICUGssmT"
      },
      "source": [
        "##29 --\tO Sr. Manoel Joaquim possui uma grande loja de artigos de R$ 1,99, com cerca de 10 caixas. Para agilizar o cálculo de quanto cada cliente deve pagar ele desenvolveu um tabela que contém o número de itens que o cliente comprou e ao lado o valor da conta. Desta forma a atendente do caixa precisa apenas contar quantos itens o cliente está levando e olhar na tabela de preços. Você foi contratado para desenvolver o programa que monta esta tabela de preços, que conterá os preços de 1 até 50 produtos, conforme o exemplo abaixo:\n",
        "###a.\tLojas Quase Dois - Tabela de preços\n",
        "###1 -  1.99 real\n",
        "###2 - 3.98 reais\n",
        "#...\n",
        "###50 - 99.50 reais\n"
      ]
    },
    {
      "cell_type": "code",
      "metadata": {
        "id": "I4CBUHois9_d"
      },
      "source": [],
      "execution_count": null,
      "outputs": []
    },
    {
      "cell_type": "markdown",
      "metadata": {
        "id": "6h0fHFM4s_x_"
      },
      "source": [
        "##30 -- O Sr. Manoel Joaquim acaba de adquirir uma panificadora e pretende implantar a metodologia da tabelinha, que já é um sucesso na sua loja de 1,99. Você foi contratado para desenvolver o programa que monta a tabela de preços de pães, de 1 até 50 pães, a partir do preço do pão informado pelo usuário, conforme o exemplo abaixo:\n",
        "###a.\tPreço do pão: R$ 0.18\n",
        "###Panificadora Pão de Ontem - Tabela de preços\n",
        "###1 - 0.18 real\n",
        "###2 - 0.36 real\n",
        "##...\n",
        "###50 - 9.00 real\n"
      ]
    },
    {
      "cell_type": "code",
      "metadata": {
        "id": "3WU2G-_8tSFf"
      },
      "source": [],
      "execution_count": null,
      "outputs": []
    },
    {
      "cell_type": "markdown",
      "metadata": {
        "id": "p15o2wyZtTDP"
      },
      "source": [
        "##31 -- O Sr. Manoel Joaquim expandiu seus negócios para além dos negócios de 1,99 e agora possui uma loja de conveniências. Faça um programa que implemente uma caixa registradora rudimentar. O programa deverá receber um número desconhecido de valores referentes aos preços das mercadorias. Um valor zero deve ser informado pelo operador para indicar o final da compra. O programa deve então mostrar o total da compra e perguntar o valor em dinheiro que o cliente forneceu, para então calcular e mostrar o valor do troco. Após esta operação, o programa deverá voltar ao ponto inicial, para registrar a próxima compra. A saída deve ser conforme o exemplo abaixo:\n",
        "###a.\tLojas Tabajara\n",
        "###Produto 1: 2.20 reais\n",
        "###Produto 2: 5.80 reais\n",
        "###Produto 3: 0 real\n",
        "###Total: 9.00 real\n",
        "###Dinheiro: 20.00 reais\n",
        "###Troco: 11.00 reais\n"
      ]
    },
    {
      "cell_type": "code",
      "metadata": {
        "id": "qaF-KBFatk0l"
      },
      "source": [],
      "execution_count": null,
      "outputs": []
    },
    {
      "cell_type": "markdown",
      "metadata": {
        "id": "bCYS--lktluF"
      },
      "source": [
        "##32 --\tFaça um programa que calcule o fatorial de um número inteiro fornecido pelo usuário. Ex.: 5!=5.4.3.2.1=120. A saída deve ser conforme o exemplo abaixo:\n",
        "##a.\tFatorial de: 5\n",
        "##5! =  5 . 4 . 3 . 2 . 1 = 120\n"
      ]
    },
    {
      "cell_type": "code",
      "metadata": {
        "id": "bPgeaE2atsKL"
      },
      "source": [],
      "execution_count": null,
      "outputs": []
    },
    {
      "cell_type": "markdown",
      "metadata": {
        "id": "JBoSkTZUtvX5"
      },
      "source": [
        "##33 -- O Departamento Estadual de Meteorologia lhe contratou para desenvolver um programa que leia as um conjunto indeterminado de temperaturas, e informe ao final a menor e a maior temperaturas informadas, bem como a média das temperaturas."
      ]
    },
    {
      "cell_type": "code",
      "metadata": {
        "id": "Wpaws7FVtzmK"
      },
      "source": [],
      "execution_count": null,
      "outputs": []
    },
    {
      "cell_type": "markdown",
      "metadata": {
        "id": "4lxcaVoMt0O1"
      },
      "source": [
        "##34 -- Os números primos possuem várias aplicações dentro da Computação, por exemplo na Criptografia. Um número primo é aquele que é divisível apenas por um e por ele mesmo. Faça um programa que peça um número inteiro e determine se ele é ou não um número primo."
      ]
    },
    {
      "cell_type": "code",
      "metadata": {
        "id": "m4hBtBF6t59x"
      },
      "source": [],
      "execution_count": null,
      "outputs": []
    },
    {
      "cell_type": "markdown",
      "metadata": {
        "id": "vMY8bMpAt7FA"
      },
      "source": [
        "##35 -- Encontrar números primos é uma tarefa difícil. Faça um programa que gera uma lista dos números primos existentes entre 1 e um número inteiro informado pelo usuário."
      ]
    },
    {
      "cell_type": "code",
      "metadata": {
        "id": "OsfE9Jogt_S6"
      },
      "source": [],
      "execution_count": null,
      "outputs": []
    },
    {
      "cell_type": "markdown",
      "metadata": {
        "id": "OuIxI3FNuAYt"
      },
      "source": [
        "##36 --\tDesenvolva um programa que faça a tabuada de um número qualquer inteiro que será digitado pelo usuário, mas a tabuada não deve necessariamente iniciar em 1 e terminar em 10, o valor inicial e final devem ser informados também pelo usuário, conforme exemplo abaixo:\n",
        "###a.\tMontar a tabuada de: 5\n",
        "###Começar por: 4\n",
        "###Terminar em: 7\n",
        "\n",
        "###Vou montar a tabuada de 5 começando em 4 e terminando em 7:\n",
        "###5 X 4 = 20\n",
        "###5 X 5 = 25\n",
        "###5 X 6 = 30\n",
        "###5 X 7 = 35\n",
        "####Obs: Você deve verificar se o usuário não digitou o final menor que o inicial.\n"
      ]
    },
    {
      "cell_type": "code",
      "metadata": {
        "id": "bC77J-a-uPWv"
      },
      "source": [],
      "execution_count": null,
      "outputs": []
    },
    {
      "cell_type": "markdown",
      "metadata": {
        "id": "n8KQcnNruQR7"
      },
      "source": [
        "##37 --\tUma academia deseja fazer um senso entre seus clientes para descobrir o mais alto, o mais baixo, a mais gordo e o mais magro, para isto você deve fazer um programa que pergunte a cada um dos clientes da academia seu código, sua altura e seu peso. O final da digitação de dados deve ser dada quando o usuário digitar 0 (zero) no campo código. Ao encerrar o programa também deve ser informados os códigos e valores do clente mais alto, do mais baixo, do mais gordo e do mais magro, além da média das alturas e dos pesos dos clientes"
      ]
    },
    {
      "cell_type": "code",
      "metadata": {
        "id": "9Z7ZNVgRuVMT"
      },
      "source": [],
      "execution_count": null,
      "outputs": []
    },
    {
      "cell_type": "markdown",
      "metadata": {
        "id": "5qbc4lt3uZsq"
      },
      "source": [
        "##38 --\tUm funcionário de uma empresa recebe aumento salarial anualmente: Sabe-se que:\n",
        "###a.\tEsse funcionário foi contratado em 1995, com salário inicial de R$ 1.000,00;\n",
        "###b.\tEm 1996 recebeu aumento de 1,5% sobre seu salário inicial;\n",
        "###c.\tA partir de 1997 (inclusive), os aumentos salariais sempre correspondem ao dobro do percentual do ano anterior. Faça um programa que determine o salário atual desse funcionário. Após concluir isto, altere o programa permitindo que o usuário digite o salário inicial do funcionário.\n"
      ]
    },
    {
      "cell_type": "code",
      "metadata": {
        "id": "wirQbZ1duj7-"
      },
      "source": [],
      "execution_count": null,
      "outputs": []
    },
    {
      "cell_type": "markdown",
      "metadata": {
        "id": "-0JBpe-cu4ju"
      },
      "source": [
        "##39 --\tFaça um programa que leia dez conjuntos de dois valores, o primeiro representando o número do aluno e o segundo representando a sua altura em centímetros. Encontre o aluno mais alto e o mais baixo. Mostre o número do aluno mais alto e o número do aluno mais baixo, junto com suas alturas."
      ]
    },
    {
      "cell_type": "code",
      "metadata": {
        "id": "wqZY9EWzu9Zh"
      },
      "source": [],
      "execution_count": null,
      "outputs": []
    },
    {
      "cell_type": "markdown",
      "metadata": {
        "id": "hfvF5CODu-B4"
      },
      "source": [
        "##40 -- Foi feita uma estatística em cinco cidades brasileiras para coletar dados sobre acidentes de trânsito. Foram obtidos os seguintes dados:\n",
        "###a.\tCódigo da cidade;\n",
        "###b.\tNúmero de veículos de passeio (em 1999);\n",
        "###c.\tNúmero de acidentes de trânsito com vítimas (em 1999). Deseja-se saber:\n",
        "###d.\tQual o maior e menor índice de acidentes de transito e a que cidade pertence;\n",
        "###e.\tQual a média de veículos nas cinco cidades juntas;\n",
        "###f.\tQual a média de acidentes de trânsito nas cidades com menos de 2.000 veículos de passeio.\n"
      ]
    },
    {
      "cell_type": "code",
      "metadata": {
        "id": "-_knMpCOvGRY"
      },
      "source": [],
      "execution_count": null,
      "outputs": []
    },
    {
      "cell_type": "markdown",
      "metadata": {
        "id": "aIu5Dt3nvG6J"
      },
      "source": [
        "##41.\tFaça um programa que receba o valor de uma dívida e mostre uma tabela com os seguintes dados: valor da dívida, valor dos juros, quantidade de parcelas e valor da parcela.\n",
        "##a.\tOs juros e a quantidade de parcelas seguem a tabela abaixo:\n",
        "##Quantidade de Parcelas  % de Juros sobre o valor inicial da dívida\n",
        "###1       0\n",
        "###3       10\n",
        "###6       15\n",
        "###9       20\n",
        "###12      25\n",
        "###Exemplo de saída do programa:\n",
        "##Valor da Dívida--Valor dos Juros--Quantidade de Parcelas--Valor da Parcela\n",
        " 1.000,00 reais-------0---------1-------------1.000,00 reais\n",
        "\n",
        " 1.100,00 reais------100--------3-------------366,00 reais\n",
        "\n",
        " 1.150,00 reais------150--------6-------------191,67 reais\n"
      ]
    },
    {
      "cell_type": "code",
      "metadata": {
        "id": "D2RnRhf4w_yK"
      },
      "source": [],
      "execution_count": null,
      "outputs": []
    },
    {
      "cell_type": "markdown",
      "metadata": {
        "id": "oc3XFhDkxBS3"
      },
      "source": [
        "##42 --\tFaça um programa que gere aleatoriamente, 1000 números positivos e conte quantos deles estão nos seguintes intervalos: [0-25], [26-50], [51-75] e [76-100]. A entrada de dados deverá terminar quando for o contador atingir um número maior que 1000."
      ]
    },
    {
      "cell_type": "code",
      "metadata": {
        "id": "wSyqb0rlxGQu"
      },
      "source": [
        "import random\n",
        "import numpy as np\n"
      ],
      "execution_count": null,
      "outputs": []
    },
    {
      "cell_type": "code",
      "metadata": {
        "colab": {
          "base_uri": "https://localhost:8080/"
        },
        "id": "hbhKnbWfCb-D",
        "outputId": "9e81f0b1-c661-4ab2-e1a2-11ab5dad0c3e"
      },
      "source": [
        "count1 = 0\n",
        "count2 = 0\n",
        "count3 = 0\n",
        "count4 = 0\n",
        "cont = 0\n",
        "while cont < 1000:\n",
        "  num = random.randint(0,100)\n",
        "  #print(num)\n",
        "  if num>=0 and num <= 25:\n",
        "    count1 += 1\n",
        "  elif num>=26 and num <= 50:\n",
        "    count2 += 1\n",
        "  elif num>=51 and num <= 75:\n",
        "    count3 += 1\n",
        "  elif num>=76 and num <= 100:\n",
        "    count4 += 1\n",
        "  else:\n",
        "    print(\"valor fora do intervalo\")\n",
        "  cont+=1\n",
        "\n",
        "print(\"[0-25]: {}\".format(count1))\n",
        "print (\"[26-50]: {}\".format(count2))\n",
        "print (\"[51-75]: {}\".format(count3))\n",
        "print (\"[76-100]: {}\".format(count4))\n"
      ],
      "execution_count": null,
      "outputs": [
        {
          "output_type": "stream",
          "name": "stdout",
          "text": [
            "[0-25]: 244\n",
            "[26-50]: 241\n",
            "[51-75]: 253\n",
            "[76-100]: 262\n"
          ]
        }
      ]
    },
    {
      "cell_type": "markdown",
      "metadata": {
        "id": "ruEHZ3N0xG2B"
      },
      "source": [
        "##43.\tO cardápio de uma lanchonete é o seguinte:\n",
        "##a.\tEspecificação-----Código----Preço\n",
        "###Cachorro Quente-------100------1,20 real\n",
        "###Bauru Simples-----------101------1,30 real\n",
        "###Bauru com ovo----------102------1,50 real\n",
        "###Hambúrguer--------------103------1,20 real\n",
        "###Cheeseburguer----------104------1, real\n",
        "###Refrigerante--------------105------1,00 real\n",
        "###Faça um programa que leia o código dos itens pedidos e as quantidades desejadas. Calcule e mostre o valor a ser pago por item (preço * quantidade) e o total geral do pedido. Considere que o cliente deve informar quando o pedido deve ser encerrado.\n"
      ]
    },
    {
      "cell_type": "code",
      "metadata": {
        "id": "w8OV-o0xyGUu"
      },
      "source": [],
      "execution_count": null,
      "outputs": []
    },
    {
      "cell_type": "markdown",
      "metadata": {
        "id": "uBkDhAEnygrv"
      },
      "source": [
        "##44 --\tEm uma eleição presidencial existem quatro candidatos. Os votos são informados por meio de código. Os códigos utilizados são:\n",
        "###a.\t1 , 2, 3, 4  - Votos para os respectivos candidatos\n",
        "###(você deve montar a tabela ex: 1 - Jose/ 2- João/etc)\n",
        "###5 - Voto Nulo\n",
        "###6 - Voto em Branco\n",
        "###Faça um programa que calcule e mostre:\n",
        "###b.\tO total de votos para cada candidato;\n",
        "###c.\tO total de votos nulos;\n",
        "###d.\tO total de votos em branco;\n",
        "###e.\tA percentagem de votos nulos sobre o total de votos;\n",
        "###f.\tA percentagem de votos em branco sobre o total de votos. Para finalizar o conjunto de votos tem-se o valor zero.\n"
      ]
    },
    {
      "cell_type": "code",
      "metadata": {
        "id": "2D6DZPt_yw1l"
      },
      "source": [],
      "execution_count": null,
      "outputs": []
    },
    {
      "cell_type": "markdown",
      "metadata": {
        "id": "sH3DGc6dyxuU"
      },
      "source": [
        "##45 --\tDesenvolver um programa para verificar a nota do aluno em uma prova com 10 questões, o programa deve perguntar ao aluno a resposta de cada questão e ao final comparar com o gabarito da prova e assim calcular o total de acertos e a nota (atribuir 1 ponto por resposta certa). Após cada aluno utilizar o sistema deve ser feita uma pergunta se outro aluno vai utilizar o sistema. Após todos os alunos terem respondido informar:\n",
        "###a.\tMaior e Menor Acerto;\n",
        "###b.\tTotal de Alunos que utilizaram o sistema;\n",
        "###c.\tA Média das Notas da Turma.\n",
        "##Gabarito da Prova:\n",
        "\n",
        "###01 - A\n",
        "###02 - B\n",
        "###03 - C\n",
        "###04 - D\n",
        "###05 - E\n",
        "###06 - E\n",
        "###07 - D\n",
        "###08 - C\n",
        "###09 - B\n",
        "###10 - A\n",
        "###Após concluir isto você poderia incrementar o programa permitindo que o professor digite o gabarito da prova antes dos alunos usarem o programa.\n"
      ]
    },
    {
      "cell_type": "code",
      "metadata": {
        "id": "N8urhvJezCWz"
      },
      "source": [],
      "execution_count": null,
      "outputs": []
    },
    {
      "cell_type": "markdown",
      "metadata": {
        "id": "2x-Vy-8AzER5"
      },
      "source": [
        "##46.\tEm uma competição de salto em distância cada atleta tem direito a cinco saltos. No final da série de saltos de cada atleta, o melhor e o pior resultados são eliminados. O seu resultado fica sendo a média dos três valores restantes. Você deve fazer um programa que receba o nome e as cinco distâncias alcançadas pelo atleta em seus saltos e depois informe a média dos saltos conforme a descrição acima informada (retirar o melhor e o pior salto e depois calcular a média). Faça uso de uma lista para armazenar os saltos. Os saltos são informados na ordem da execução, portanto não são ordenados. O programa deve ser encerrado quando não for informado o nome do atleta. A saída do programa deve ser conforme o exemplo abaixo:\n",
        "###Atleta: Rodrigo Curvêllo\n",
        "\n",
        "###Primeiro Salto: 6.5 m\n",
        "###Segundo Salto: 6.1 m\n",
        "###Terceiro Salto: 6.2 m\n",
        "###Quarto Salto: 5.4 m\n",
        "###Quinto Salto: 5.3 m\n",
        "\n",
        "###Melhor salto:  6.5 m\n",
        "###Pior salto: 5.3 m\n",
        "###Média dos demais saltos: 5.9 m\n",
        "\n",
        "###Resultado final:\n",
        "###Rodrigo Curvêllo: 5.9 m\n"
      ]
    },
    {
      "cell_type": "code",
      "metadata": {
        "id": "tQw0YVRgzPu3"
      },
      "source": [],
      "execution_count": null,
      "outputs": []
    },
    {
      "cell_type": "markdown",
      "metadata": {
        "id": "ldkA6EjCzRc6"
      },
      "source": [
        "##47 --\tEm uma competição de ginástica, cada atleta recebe votos de sete jurados. A melhor e a pior nota são eliminadas. A sua nota fica sendo a média dos votos restantes. Você deve fazer um programa que receba o nome do ginasta e as notas dos sete jurados alcançadas pelo atleta em sua apresentação e depois informe a sua média, conforme a descrição acima informada (retirar o melhor e o pior salto e depois calcular a média com as notas restantes). As notas não são informados ordenadas. Um exemplo de saída do programa deve ser conforme o exemplo abaixo:\n",
        "###Atleta: Aparecido Parente\n",
        "###Nota: 9.9\n",
        "###Nota: 7.5\n",
        "###Nota: 9.5\n",
        "###Nota: 8.5\n",
        "###Nota: 9.0\n",
        "###Nota: 8.5\n",
        "###Nota: 9.7\n",
        "\n",
        "###Resultado final:\n",
        "###Atleta: Aparecido Parente\n",
        "###Melhor nota: 9.9\n",
        "###Pior nota: 7.5\n",
        "###Média: 9.04\n"
      ]
    },
    {
      "cell_type": "code",
      "metadata": {
        "id": "nV-vbEWqK2JY"
      },
      "source": [],
      "execution_count": null,
      "outputs": []
    },
    {
      "cell_type": "code",
      "metadata": {
        "id": "tQt-ax8Jzhah",
        "colab": {
          "base_uri": "https://localhost:8080/"
        },
        "outputId": "026e5881-3a67-4bee-9a4d-ddaf44889e39"
      },
      "source": [
        "# Programa para avaliar o desempenho de um atleta de ginástica\n",
        "#atleta = input(\"Entre com o nome do Atleta: \") # Para pedir a entrada do teclado descomente esta linha e comente a seginte\n",
        "atleta = \"Aparecido Parente\"\n",
        "\n",
        "notas = 0\n",
        "\n",
        "nota_min = 10.0\n",
        "nota_max = 0.0\n",
        "sum = 0\n",
        "\n",
        "print(\"Atleta: {}\".format(atleta))\n",
        "for i in range(7):\n",
        "  notas = float(input())\n",
        "  print(\"Nota {}:{}\".format(i+1,notas))\n",
        "  if notas >= nota_max:\n",
        "    nota_max = notas\n",
        "  if notas <= nota_min:\n",
        "    nota_min = notas\n",
        "  sum += notas\n",
        "\n",
        "media = (sum - nota_max - nota_min)/5\n",
        "\n",
        "print(\"Resultado Final:\")\n",
        "print(\"Atleta: {}\".format(atleta))\n",
        "print(\"Melhor nota: {}\".format(nota_max))\n",
        "print(\"Pior nota: {}\".format(nota_min))\n",
        "print(\"Média: {0:.2f}\".format(media))"
      ],
      "execution_count": null,
      "outputs": [
        {
          "output_type": "stream",
          "text": [
            "Atleta: Aparecido Parente\n",
            "9.9\n",
            "Nota 1:9.9\n",
            "7.5\n",
            "Nota 2:7.5\n",
            "9.5\n",
            "Nota 3:9.5\n",
            "8.5\n",
            "Nota 4:8.5\n",
            "9.0\n",
            "Nota 5:9.0\n",
            "8.5\n",
            "Nota 6:8.5\n",
            "9.7\n",
            "Nota 7:9.7\n",
            "Resultado Final:\n",
            "Atleta: Aparecido Parente\n",
            "Melhor nota: 9.9\n",
            "Pior nota: 7.5\n",
            "Média: 9.04\n"
          ],
          "name": "stdout"
        }
      ]
    },
    {
      "cell_type": "markdown",
      "metadata": {
        "id": "Pr16c5Xdzi9A"
      },
      "source": [
        "##48 --\tFaça um programa que peça um numero inteiro positivo e em seguida mostre este numero invertido.\n",
        "####a.\tExemplo:\n",
        " ### 12376489\n",
        " ### => 98467321\n"
      ]
    },
    {
      "cell_type": "code",
      "metadata": {
        "id": "-ppWk1pazrfb",
        "colab": {
          "base_uri": "https://localhost:8080/"
        },
        "outputId": "c84144fd-e5ab-4f81-9570-93acff3a8fb9"
      },
      "source": [
        "import math\n",
        "num = 123456789\n",
        "t = math.floor(math.log10(n)) + 1 # obter quantidade de algarismos de um número\n",
        "valor = num\n",
        "num_inv = \" \"\n",
        "while num > 0:\n",
        "      valor = num%10\n",
        "      num = int(num/10)\n",
        "      num_inv += str(valor)\n",
        "\n",
        "print(num_inv)   "
      ],
      "execution_count": null,
      "outputs": [
        {
          "output_type": "stream",
          "text": [
            " 987654321\n"
          ],
          "name": "stdout"
        }
      ]
    },
    {
      "cell_type": "markdown",
      "metadata": {
        "id": "kZXiXqfBzsAa"
      },
      "source": [
        "##49 --\tFaça um programa que mostre os n termos da Série a seguir:\n",
        "###a.\t  S = 1/1 + 2/3 + 3/5 + 4/7 + 5/9 + ... + n/m.\n",
        "###Imprima no final a soma da série.\n"
      ]
    },
    {
      "cell_type": "code",
      "metadata": {
        "id": "IIwiO0Otzyn3"
      },
      "source": [],
      "execution_count": null,
      "outputs": []
    },
    {
      "cell_type": "markdown",
      "metadata": {
        "id": "aTRdk_6nzzMI"
      },
      "source": [
        "##50 --\tSendo H= 1 + 1/2 + 1/3 + 1/4 + ... + 1/N, Faça um programa que calcule o valor de H com N termos."
      ]
    },
    {
      "cell_type": "code",
      "metadata": {
        "id": "4X9RjMgzz39c"
      },
      "source": [],
      "execution_count": null,
      "outputs": []
    }
  ]
}