{
  "nbformat": 4,
  "nbformat_minor": 0,
  "metadata": {
    "colab": {
      "provenance": [],
      "collapsed_sections": [
        "J4lIqTb70Cc7",
        "WWkJoGzCpHvc"
      ],
      "include_colab_link": true
    },
    "kernelspec": {
      "name": "python3",
      "display_name": "Python 3"
    }
  },
  "cells": [
    {
      "cell_type": "markdown",
      "metadata": {
        "id": "view-in-github",
        "colab_type": "text"
      },
      "source": [
        "<a href=\"https://colab.research.google.com/github/JFGoes/CTEC0004--ProgramacaoI/blob/master/Lista_2_Programa%C3%A7%C3%A3o_I_Estrutura_de_Decisao.ipynb\" target=\"_parent\"><img src=\"https://colab.research.google.com/assets/colab-badge.svg\" alt=\"Open In Colab\"/></a>"
      ]
    },
    {
      "cell_type": "markdown",
      "metadata": {
        "id": "lvLkQuqDzDTW"
      },
      "source": [
        "# **Lista de Programação I**"
      ]
    },
    {
      "cell_type": "markdown",
      "metadata": {
        "id": "Y2vFPh6601j_"
      },
      "source": [
        "Professor: Josecley Fialho Góes"
      ]
    },
    {
      "cell_type": "markdown",
      "metadata": {
        "id": "J4lIqTb70Cc7"
      },
      "source": [
        "# I – **Estrutura de decisão** - IF, ELIF E ELSE"
      ]
    },
    {
      "cell_type": "markdown",
      "source": [],
      "metadata": {
        "id": "1jnn9lQd5_34"
      }
    },
    {
      "cell_type": "markdown",
      "metadata": {
        "id": "KoTdBXUl0Jrv"
      },
      "source": [
        "## 1-- Faça um Programa que peça dois números e imprima o maior deles.\n",
        " \n",
        "Código:"
      ]
    },
    {
      "cell_type": "code",
      "metadata": {
        "id": "QaIGG7ag0XHM",
        "colab": {
          "base_uri": "https://localhost:8080/"
        },
        "outputId": "430ef438-fa45-4bef-e1c3-aa5a12bc3fa6"
      },
      "source": [
        "#x = int(input(\"Entre com o primeiro número inteiro: \")) # O comando input() espera a entrada do teclado\n",
        "#y = int(input(\"Entre com o segundo número inteiro: \"))  # O comando int() transforma a str em int. Podem usar float tb, dependendo do problema\n",
        "x = 3\n",
        "y = 4\n",
        "if x > y:\n",
        "  print(\"O maior é : %d\"%(x))\n",
        "else: \n",
        "  print(\"O maior é : %d\"%(y))\n",
        "\n",
        "#O MAIOR E 4\n"
      ],
      "execution_count": 20,
      "outputs": [
        {
          "output_type": "stream",
          "name": "stdout",
          "text": [
            "O maior é : 4\n"
          ]
        }
      ]
    },
    {
      "cell_type": "code",
      "metadata": {
        "id": "PXnobB7BL8BL"
      },
      "source": [],
      "execution_count": null,
      "outputs": []
    },
    {
      "cell_type": "markdown",
      "metadata": {
        "id": "O3_B5AaM0YhG"
      },
      "source": [
        "## 2 -- Faça um Programa que peça um valor e mostre na tela se o valor é positivo ou negativo.\n",
        "\n",
        "Código:"
      ]
    },
    {
      "cell_type": "code",
      "metadata": {
        "id": "b7r9ukdO0eTD"
      },
      "source": [
        "# Avaliar se o numero é maior ou menor que zero!"
      ],
      "execution_count": null,
      "outputs": []
    },
    {
      "cell_type": "markdown",
      "metadata": {
        "id": "u4RH0vAIoBD0"
      },
      "source": [
        "## 3 -- Faça um Programa que verifique se uma letra digitada é \"F\" ou \"M\". Conforme a letra escrever: F - Feminino, M - Masculino, Sexo Inválido.\n",
        "\n",
        "Código:"
      ]
    },
    {
      "cell_type": "code",
      "metadata": {
        "id": "QdTetVLfps2v"
      },
      "source": [
        "letra = input(\"Digite uma letra: \")\n",
        " \n",
        "if letra == 'f' or letra == 'F':\n",
        "  print(\"F - Feminino\")\n",
        "elif letra == 'm' or letra == 'M':\n",
        "  print(\"M - Masculino\")\n",
        "else:\n",
        "  print(\"Sexo indefinido!\")"
      ],
      "execution_count": null,
      "outputs": []
    },
    {
      "cell_type": "markdown",
      "metadata": {
        "id": "WWkJoGzCpHvc"
      },
      "source": [
        "## 4 -- Faça um Programa que verifique se uma letra digitada é vogal ou consoante.\n",
        "\n",
        "Código:"
      ]
    },
    {
      "cell_type": "code",
      "metadata": {
        "id": "hioZ_WeJpvRI"
      },
      "source": [
        "# vogais = [\"a\", \"e\", \"i\",\"o\",\"u\"] \n",
        "# letra = input(\"Entre com uma letra: \") A ou a\n",
        "# letra.lower() ou letra.upper()\n",
        "\n",
        "#if \"letra\" == \"A\" or \"letra\" == \"a\":\n",
        "#  print(\"É vogal\")\n",
        "#elif \"letra\" == \"E\" or \"letra\" == \"e\":\n",
        "#ou\n",
        "\n",
        "#if \"letra\" == \"A\" or \"letra\" == \"a\" or \"letra\" == \"E\" or \n",
        "#   \"letra\" == \"e\" or \"letra\" == \"i\" or \"letra\" == \"I\" ...:\n",
        "#   print(\"É vogal\")\n",
        "#else:\n",
        "#  print(\"É Consoante\")\n",
        "\n"
      ],
      "execution_count": null,
      "outputs": []
    },
    {
      "cell_type": "markdown",
      "metadata": {
        "id": "eE2nClNHpQI0"
      },
      "source": [
        "### 5 --\tFaça um programa para a leitura de duas notas parciais de um aluno. O programa deve calcular a média alcançada por aluno e apresentar:\n",
        "##•\tA mensagem \"Aprovado\", se a média alcançada for maior ou igual a sete;\n",
        "##•\tA mensagem \"Reprovado\", se a média for menor do que sete;\n",
        "##•\tA mensagem \"Aprovado com Distinção\", se a média for igual a dez.\n",
        "\n",
        "\n",
        "Código:"
      ]
    },
    {
      "cell_type": "code",
      "metadata": {
        "id": "VBOCipRhpwoU"
      },
      "source": [
        "# nx = notas, com x = 1,2; m = médias\n",
        "n1 = 8.0\n",
        "n2 = 9.5\n",
        "\n",
        "m = (n1 + n2)/2.0 # calculo da média\n"
      ],
      "execution_count": null,
      "outputs": []
    },
    {
      "cell_type": "markdown",
      "metadata": {
        "id": "nvmo9Lp5piDr"
      },
      "source": [
        "## 6 -- Faça um Programa que leia três números e mostre o maior deles.\n",
        "\n",
        "\n",
        "Código:"
      ]
    },
    {
      "cell_type": "code",
      "metadata": {
        "id": "UyN6-qXVpzQC"
      },
      "source": [
        "#Para gerar número aleatório use um desses comandos abaixo\n",
        "import random as rd\n",
        "# a,b,c => a>c e a>b;\n",
        "a = rd.random() * 150 # gera números floats aleatórios entre [0,y]: random() * y\n",
        "b = 100+ rd.random() * 150 # gera números floats aleatórios entre [x,y + x]: x+ random() * y\n",
        "c = rd.randint(1,10) # Gera números inteiros entre [x,y]: randint(x,y)\n",
        "d = rd.randrange(5000, 10000) # gera números inteiros entre [x,y]:randrange(x,y)\n",
        "\n",
        "x,y,z = 10,23,45 # entre com três números diretamente."
      ],
      "execution_count": 21,
      "outputs": []
    },
    {
      "cell_type": "code",
      "metadata": {
        "id": "r71CpwPVRua4",
        "colab": {
          "base_uri": "https://localhost:8080/"
        },
        "outputId": "fed307e4-6195-4e43-efd8-7af204deaae2"
      },
      "source": [
        "a, b,c,d"
      ],
      "execution_count": 22,
      "outputs": [
        {
          "output_type": "execute_result",
          "data": {
            "text/plain": [
              "(72.53498919087268, 118.8356900490997, 6, 8894)"
            ]
          },
          "metadata": {},
          "execution_count": 22
        }
      ]
    },
    {
      "cell_type": "markdown",
      "metadata": {
        "id": "2baEgiW9p3UY"
      },
      "source": [
        "## 7 -- Faça um Programa que leia três números e mostre o maior e o menor deles.\n",
        "Código:"
      ]
    },
    {
      "cell_type": "code",
      "metadata": {
        "id": "64141anxp3UZ"
      },
      "source": [],
      "execution_count": null,
      "outputs": []
    },
    {
      "cell_type": "markdown",
      "metadata": {
        "id": "LxuIXtJPqrjE"
      },
      "source": [
        "## 8 --\tFaça um programa que pergunte o preço de três produtos e informe qual produto você deve comprar, sabendo que a decisão é sempre pelo mais barato.\n",
        "Código:"
      ]
    },
    {
      "cell_type": "code",
      "metadata": {
        "id": "PoLVwawJqrjH"
      },
      "source": [],
      "execution_count": null,
      "outputs": []
    },
    {
      "cell_type": "markdown",
      "metadata": {
        "id": "EiNMTrPeq06T"
      },
      "source": [
        "## 9 --\tFaça um Programa que leia três números e mostre-os em ordem decrescente."
      ]
    },
    {
      "cell_type": "code",
      "metadata": {
        "id": "HVdThdUeq9Xv"
      },
      "source": [],
      "execution_count": null,
      "outputs": []
    },
    {
      "cell_type": "markdown",
      "metadata": {
        "id": "QlduB8tPq_ge"
      },
      "source": [
        "## 10 --\tFaça um Programa que pergunte em que turno você estuda. Peça para digitar M-matutino ou V-Vespertino ou N- Noturno. Imprima a mensagem \"Bom Dia!\", \"Boa Tarde!\" ou \"Boa Noite!\" ou \"Valor Inválido!\", conforme o caso."
      ]
    },
    {
      "cell_type": "code",
      "metadata": {
        "id": "KfwSNP6wra55"
      },
      "source": [],
      "execution_count": null,
      "outputs": []
    },
    {
      "cell_type": "markdown",
      "metadata": {
        "id": "Ont9LaRVrN0F"
      },
      "source": [
        "## 11 -- As Organizações Tabajara resolveram dar um aumento de salário aos seus colaboradores e lhe contraram para desenvolver o programa que calculará os reajustes.\n",
        "## Faça um programa que recebe o salário de um colaborador e o reajuste segundo o seguinte critério, baseado no salário atual:\n",
        "####•\tsalários até 280, 00 reais (incluindo) : aumento de 20%\n",
        "####•\tsalários entre 280,00 reais e 700,00 reais : aumento de 15%\n",
        "####•\tsalários entre 700,00 reais e 1500,00 reais: aumento de 10%\n",
        "####•\tsalários de R$ 1500,00 em diante : aumento de 5% \n",
        "## Após o aumento ser realizado, informe na tela:\n",
        "####•\to salário antes do reajuste;\n",
        "####•\to percentual de aumento aplicado;\n",
        "####•\to valor do aumento;\n",
        "####•\to novo salário, após o aumento.\n"
      ]
    },
    {
      "cell_type": "code",
      "metadata": {
        "id": "QNK8fQsprgtq"
      },
      "source": [
        "i = 20/100 # percentagem"
      ],
      "execution_count": null,
      "outputs": []
    },
    {
      "cell_type": "markdown",
      "metadata": {
        "id": "966Jxviyv1xK"
      },
      "source": [
        "## 12 -- Faça um programa para o cálculo de uma folha de pagamento, sabendo que os descontos são do Imposto de Renda, que depende do salário bruto (conforme tabela abaixo) e 3% para o Sindicato e que o FGTS corresponde a 11% do Salário Bruto, mas não é descontado (é a empresa que deposita). O Salário Líquido corresponde ao Salário Bruto menos os descontos. O programa deverá pedir ao usuário o valor da sua hora e a quantidade de horas trabalhadas no mês.\n",
        "\n",
        "####•\tDesconto do IR:\n",
        "####•\tSalário Bruto até 900 (inclusive) - isento\n",
        "####•\tSalário Bruto até 1500 (inclusive) - desconto de 5%\n",
        "####•\tSalário Bruto até 2500 (inclusive) - desconto de 10%\n",
        "####•\tSalário Bruto acima de 2500 - desconto de 20% Imprima na tela as informações, dispostas conforme o exemplo abaixo. No exemplo o valor da hora é 5 e a quantidade de hora é 220.\n",
        "Folha de Pagamento        | Valores\n",
        "-----------------------: | :-------------------:\n",
        "Salário Bruto: (5 * 220): | R\\$ 1100,00\n",
        "(-) IR (5%):              | R\\$   55,00  \n",
        "(-) INSS ( 10%):          | R\\$  110,00\n",
        "FGTS (11%):               | R\\$  121,\n",
        "Total de descontos:       | R\\$  165,00\n",
        "Salário Liquido:          | R\\$  935,00\n",
        "\n"
      ]
    },
    {
      "cell_type": "code",
      "metadata": {
        "id": "K802jiCDXD0_"
      },
      "source": [],
      "execution_count": null,
      "outputs": []
    },
    {
      "cell_type": "markdown",
      "metadata": {
        "id": "_KPLFInRv144"
      },
      "source": [
        "## 13 -- Faça um Programa que leia um número e exiba o dia correspondente da semana. (1-Domingo, 2- Segunda, etc.), se digitar outro valor deve aparecer valor inválido."
      ]
    },
    {
      "cell_type": "code",
      "metadata": {
        "id": "5iaDO8Kxxkf0"
      },
      "source": [],
      "execution_count": null,
      "outputs": []
    },
    {
      "cell_type": "markdown",
      "metadata": {
        "id": "hoBZdygBv1-E"
      },
      "source": [
        "## 14 --\tFaça um programa que lê as duas notas parciais obtidas por um aluno numa disciplina ao longo de um semestre, e calcule a sua média. A atribuição de conceitos obedece à tabela abaixo:\n",
        "\n",
        "Média de Aproveitamento | Conceito  \n",
        ":----------------------:|:---------\n",
        "  Entre 9.0 e 10.0      |  A        \n",
        "  Entre 7.5 e 9.0       |  B        \n",
        "  Entre 6.0 e 7.5       |  C        \n",
        "  Entre 4.0 e 6.0       |  D        \n",
        "  Entre 4.0 e zero      |  E\n",
        "\n",
        "#### O algoritmo deve mostrar na tela as notas, a média, o conceito correspondente e a mensagem “APROVADO” se o conceito for A, B ou C ou “REPROVADO” se o conceito for D ou E."
      ]
    },
    {
      "cell_type": "code",
      "metadata": {
        "id": "2qvWt7Gnx_z6"
      },
      "source": [],
      "execution_count": null,
      "outputs": []
    },
    {
      "cell_type": "markdown",
      "metadata": {
        "id": "QRNZwgyOv2Cq"
      },
      "source": [
        "## 15 --\tFaça um Programa que peça os 3 lados de um triângulo. O programa deverá informar se os valores podem ser um triângulo. Indique, caso os lados formem um triângulo, se o mesmo é: equilátero, isósceles ou escaleno.\n",
        "####•\tDicas:\n",
        "####•\tTriângulo Equilátero: três lados iguais;\n",
        "####•\tTriângulo Isósceles: quaisquer dois lados iguais;\n",
        "####•\tTriângulo Escaleno: três lados diferentes;\n"
      ]
    },
    {
      "cell_type": "code",
      "metadata": {
        "id": "L4d6WaRIyXF8"
      },
      "source": [],
      "execution_count": null,
      "outputs": []
    },
    {
      "cell_type": "markdown",
      "metadata": {
        "id": "q9GnFNI2v2G9"
      },
      "source": [
        "## 16 --\tFaça um programa que calcule as raízes de uma equação do segundo grau, na forma ax2 + bx + c. O programa deverá pedir os valores de a, b e c e fazer as consistências, informando ao usuário nas seguintes situações:\n",
        "####•\tSe o usuário informar o valor de A igual a zero, a equação não é do segundo grau e o programa não deve fazer pedir os demais valores, sendo encerrado;\n",
        "####•\tSe o delta calculado for negativo, a equação não possui raizes reais. Informe ao usuário e encerre o programa;\n",
        "####•\tSe o delta calculado for igual a zero a equação possui apenas uma raiz real; informe-a ao usuário;\n",
        "####•\tSe o delta for positivo, a equação possui duas raiz reais; informe-as ao usuário;\n"
      ]
    },
    {
      "cell_type": "code",
      "metadata": {
        "id": "P4iobBoKye3L"
      },
      "source": [],
      "execution_count": null,
      "outputs": []
    },
    {
      "cell_type": "markdown",
      "metadata": {
        "id": "UKxhcbiryg59"
      },
      "source": [
        "## 17 --\tFaça um Programa que peça um número correspondente a um determinado ano e em seguida informe se este ano é ou não bissexto."
      ]
    },
    {
      "cell_type": "code",
      "metadata": {
        "id": "N9DexG2czKvi"
      },
      "source": [],
      "execution_count": null,
      "outputs": []
    },
    {
      "cell_type": "markdown",
      "metadata": {
        "id": "7knYIRwMyhD7"
      },
      "source": [
        "## 18 -- Faça um Programa que peça uma data no formato dd/mm/aaaa e determine se a mesma é uma data válida."
      ]
    },
    {
      "cell_type": "code",
      "metadata": {
        "id": "N3dDong1vDIe"
      },
      "source": [],
      "execution_count": null,
      "outputs": []
    },
    {
      "cell_type": "code",
      "metadata": {
        "id": "kYk1zDV5zPik"
      },
      "source": [],
      "execution_count": null,
      "outputs": []
    },
    {
      "cell_type": "markdown",
      "metadata": {
        "id": "YoZKYoC8zRZo"
      },
      "source": [
        "## 19.\tFaça um Programa que leia um número inteiro menor que 1000 e imprima a quantidade de centenas, dezenas e unidades do mesmo.\n",
        "####•\tObservando os termos no plural a colocação do \"e\", da vírgula entre outros. Exemplo:\n",
        "####•\t326 = 3 centenas, 2 dezenas e 6 unidades\n",
        "####•\t12 = 1 dezena e 2 unidades Testar com: 326, 300, 100, 320, 310,305, 301, 101, 311, 111, 25, 20, 10, 21, 11, 1, 7 e 16\n"
      ]
    },
    {
      "cell_type": "code",
      "metadata": {
        "id": "9aftn5MOvHE2",
        "colab": {
          "base_uri": "https://localhost:8080/"
        },
        "outputId": "ceacdb49-efdc-43f8-b16a-8c68909d3031"
      },
      "source": [
        "num1=int(input(\"Digite o Número Desejado Menor que 1000: \"))\n",
        "\n",
        "textoFinal=\"\"\n",
        "\n",
        "if num1<1000:\n",
        "    if len(str(num1))==1:\n",
        "        if num1==1:\n",
        "            textoFinal+=(\" %i unidade\" %num1)\n",
        "        else:\n",
        "            textoFinal+= (\" %i unidades\" %num1)\n",
        "    elif len(str(num1))==2:\n",
        "        x=num1\n",
        "        y=int(x/10)\n",
        "        if y==1:\n",
        "            textoFinal+= (\" %i dezena e\" %y)\n",
        "        else:\n",
        "            textoFinal+= (\" %i dezenas e\" %y)\n",
        "        x1=num1%10\n",
        "        if x1==1:\n",
        "            textoFinal+= (\" %i unidade\" %x1)\n",
        "        else:\n",
        "            textoFinal+= (\" %i unidades\" %x1)\n",
        "    else:\n",
        "        w=num1\n",
        "        z=int(w/100)\n",
        "        if z==1:\n",
        "            textoFinal+= (\" %i centena,\" %z)\n",
        "        else:\n",
        "            textoFinal+= (\" %i centenas,\" %z)\n",
        "        a=num1%100\n",
        "        b=int(a/10)\n",
        "        if b==1:\n",
        "            textoFinal+= (\" %i dezena e\" %b)\n",
        "        else:\n",
        "            textoFinal+= (\" %i dezenas e\" %b)\n",
        "        x2=a%10\n",
        "        if x2==1:\n",
        "            textoFinal+= (\" %i unidade\" %x2)\n",
        "        else:\n",
        "            textoFinal+= (\" %i unidades\" %x2)\n",
        "    print(textoFinal)\n",
        "else:\n",
        "    print (\"O valor digitado não é menor que 1000\")"
      ],
      "execution_count": 24,
      "outputs": [
        {
          "output_type": "stream",
          "name": "stdout",
          "text": [
            "Digite o Número Desejado Menor que 1000: 563\n",
            " 5 centenas, 6 dezenas e 3 unidades\n"
          ]
        }
      ]
    },
    {
      "cell_type": "code",
      "metadata": {
        "id": "sXklVLI9zb4Y"
      },
      "source": [],
      "execution_count": null,
      "outputs": []
    },
    {
      "cell_type": "markdown",
      "metadata": {
        "id": "SbdKKPAlzRcu"
      },
      "source": [
        "## 20.\tFaça um Programa para leitura de três notas parciais de um aluno. O programa deve calcular a média alcançada por aluno e presentar:\n",
        "####•\tA mensagem \"Aprovado\", se a média for maior ou igual a 7, com a respectiva média alcançada;\n",
        "####•\tA mensagem \"Reprovado\", se a média for menor do que 7, com a respectiva média alcançada;\n",
        "####•\tA mensagem \"Aprovado com Distinção\", se a média for igual a 10.\n"
      ]
    },
    {
      "cell_type": "code",
      "metadata": {
        "id": "0_C39sTrzmEL"
      },
      "source": [],
      "execution_count": null,
      "outputs": []
    },
    {
      "cell_type": "markdown",
      "metadata": {
        "id": "hut1ULsvzRfw"
      },
      "source": [
        "## 21 --\tFaça um Programa para um caixa eletrônico. O programa deverá perguntar ao usuário a valor do saque e depois informar quantas notas de cada valor serão fornecidas. As notas disponíveis serão as de 1, 5, 10, 50 e 100 reais. O valor mínimo é de 10 reais e o máximo de 600 reais. O programa não deve se preocupar com a quantidade de notas existentes na máquina.\n",
        "#### •\tExemplo 1: Para sacar a quantia de 256 reais, o programa fornece duas notas de 100, uma nota de 50, uma nota de 5 e uma nota de 1;\n",
        "####•\tExemplo 2: Para sacar a quantia de 399 reais, o programa fornece três notas de 100, uma nota de 50, quatro notas de 10, uma nota de 5 e quatro notas de 1.\n"
      ]
    },
    {
      "cell_type": "code",
      "metadata": {
        "id": "FeBUo1Qnzw9I"
      },
      "source": [],
      "execution_count": null,
      "outputs": []
    },
    {
      "cell_type": "markdown",
      "metadata": {
        "id": "oQcsWz4ozRif"
      },
      "source": [
        "## 22 --\tFaça um Programa que peça um número inteiro e determine se ele é par ou impar. Dica: utilize o operador módulo (resto da divisão)."
      ]
    },
    {
      "cell_type": "code",
      "metadata": {
        "id": "zDXwtlTgz37f"
      },
      "source": [],
      "execution_count": null,
      "outputs": []
    },
    {
      "cell_type": "markdown",
      "metadata": {
        "id": "y5jSSIfvz99J"
      },
      "source": [
        "## 23 --\tFaça um Programa que peça um número e informe se o número é inteiro ou decimal. Dica: utilize uma função de arredondamento."
      ]
    },
    {
      "cell_type": "code",
      "metadata": {
        "id": "cT0odG280Dl9"
      },
      "source": [],
      "execution_count": null,
      "outputs": []
    },
    {
      "cell_type": "markdown",
      "metadata": {
        "id": "yu4a_LMez-Cn"
      },
      "source": [
        "## 24 --\tFaça um Programa que peça um número e informe se o número é inteiro ou decimal. Dica: utilize uma função de arredondamento."
      ]
    },
    {
      "cell_type": "code",
      "metadata": {
        "id": "xYgkzHVWz-Cp"
      },
      "source": [],
      "execution_count": null,
      "outputs": []
    },
    {
      "cell_type": "markdown",
      "metadata": {
        "id": "sxdo27Fsz-GR"
      },
      "source": [
        "## 25 --\tFaça um programa que faça 5 perguntas para uma pessoa sobre um crime. As perguntas são:\n",
        "####•\t\"Telefonou para a vítima?\"\n",
        "####•\t\"Esteve no local do crime?\"\n",
        "####•\t\"Mora perto da vítima?\"\n",
        "####•\t\"Devia para a vítima?\"\n",
        "####•\t\"Já trabalhou com a vítima?\" O programa deve no final emitir uma classificação sobre a participação da pessoa no crime. Se a pessoa responder positivamente a 2 questões ela deve ser classificada como \"Suspeita\", entre 3 e 4 como \"Cúmplice\" e 5 como \"Assassino\". Caso contrário, ele será classificado como \"Inocente\".\n"
      ]
    },
    {
      "cell_type": "code",
      "metadata": {
        "id": "E_hup1Rpz-GR"
      },
      "source": [],
      "execution_count": null,
      "outputs": []
    },
    {
      "cell_type": "markdown",
      "metadata": {
        "id": "VR_Wfskyz-L0"
      },
      "source": [
        "## 26.\tUm posto está vendendo combustíveis com a seguinte tabela de descontos:\n",
        "##Álcool:\n",
        "####•\taté 20 litros, desconto de 3% por litro\n",
        "####•\tacima de 20 litros, desconto de 5% por litro\n",
        "##Gasolina:\n",
        "####•\taté 20 litros, desconto de 4% por litro\n",
        "####•\tacima de 20 litros, desconto de 6% por litro Escreva um algoritmo que leia o número de litros vendidos, o tipo de combustível (codificado da seguinte forma: A-álcool, G-gasolina), calcule e imprima o valor a ser pago pelo cliente sabendo-se que o preço do litro da gasolina é 2,50 reais e o preço do litro do álcool é 1,90 real.\n",
        "\n"
      ]
    },
    {
      "cell_type": "code",
      "metadata": {
        "id": "iueC-Eu3z-L1"
      },
      "source": [],
      "execution_count": null,
      "outputs": []
    },
    {
      "cell_type": "markdown",
      "metadata": {
        "id": "_z_DKDLnz-Sw"
      },
      "source": [
        "### 27 Uma fruteira está vendendo frutas com a seguinte tabela de preços\n",
        "\n",
        "Produto          | Até 5 kg               |  Acima de 5 Kg\n",
        ":-----------|:----------------------:|:----------------:\n",
        "Morango     | 2,50 reais por Kg      |  2,20 reais por Kg\n",
        "Maçã        | 1,80 real por Kg       |    1,50 real por Kg\n",
        "\n",
        "\n",
        "\n",
        "###Se o cliente comprar mais de 8 Kg em frutas ou o valor total da compra ultrapassar R$ 25,00, receberá ainda um desconto de 10% sobre este total. Escreva um algoritmo para ler a quantidade (em Kg) de morangos e a quantidade (em Kg) de maças adquiridas e escreva o valor a ser pago pelo cliente.\n",
        "\n"
      ]
    },
    {
      "cell_type": "code",
      "metadata": {
        "id": "H1mwr3fk3l5d"
      },
      "source": [],
      "execution_count": null,
      "outputs": []
    },
    {
      "cell_type": "markdown",
      "metadata": {
        "id": "avCkxBia1PgO"
      },
      "source": [
        "## 28 -- O Hipermercado Tabajara está com uma promoção de carnes que é imperdível. Confira:\n",
        "Produto   | Até 5 Kg   | Acima de 5 Kg\n",
        ":----------|:------------:|:-----------------------:\n",
        "File Duplo| 4,90 reais por Kg | 5,80 reais por Kg\n",
        "Alcatra |5,90 reais por Kg |  6,80 reais por Kg\n",
        "Picanha | 6,90 reais por Kg | 7,80 reais por Kg\n",
        "\n",
        "####Para atender a todos os clientes, cada cliente poderá levar apenas um dos tipos de carne da promoção, porém não há limites para a quantidade de carne por cliente. Se compra for feita no cartão Tabajara o cliente receberá ainda um desconto de 5% sobre o total da compra. Escreva um programa que peça o tipo e a quantidade de carne comprada pelo usuário e gere um cupom fiscal, contendo as informações da compra: tipo e quantidade de carne, preço total, tipo de pagamento, valor do desconto e valor a pagar.\n"
      ]
    },
    {
      "cell_type": "code",
      "metadata": {
        "id": "y2EJ2Jmh4zhG",
        "colab": {
          "base_uri": "https://localhost:8080/"
        },
        "outputId": "e2b287f6-e97f-4acf-9f21-012ac63fdad7"
      },
      "source": [
        "print(\"############### BEM VINDA AO HYPERMERCADO TABAJARA #######################\\n\",\n",
        "      \"Confira nossa programação de carnes:\\n\"\n",
        "      \"Cod - Nome\\tPreço até 5kg\\tAcima de 5kg\\n\",\n",
        "      \"1 - Filé Duplo\\tR$4,90 por Kg\\tR$5,80 por Kg\\n\",\n",
        "      \"2 - Alcatra\\tR$5,90 por Kg\\tR$6,80 por Kg\\n\",\n",
        "      \"3 - Picanha\\tR$6,90 por Kg\\tR$7,80 por Kg\\n\")\n",
        "      \n",
        "cartao = input(\"Vc tem Cartao(S = sim, N = não):\")\n",
        "if(cartao.upper() == 'S'):\n",
        "    desconto = 0.95\n",
        "else:\n",
        "    desconto = 1      \n",
        "      \n",
        "      \n",
        "print(\"\\nSelecione um tipo de carne para compra pelo código:\")\n",
        "\n",
        "    \n",
        "while(True):\n",
        "    codigo = input(\"Código => \")\n",
        "    \n",
        "    if(codigo in '123'):\n",
        "        quantidade = float(input(\"Digite a quantidade:\"))\n",
        "        print(\"\\n\\n######### NOTA FISCAL #########\\n\")\n",
        "        if(quantidade <= 5):\n",
        "            if(codigo == '1'):\n",
        "                print(\"Produto:\\tFilé Duplo\\nPreço por Kg:\\tR$ 4,90\\nQuantidade:\\t%.2f kg\\nPreço Total:\\tR$ %.2f\"%(quantidade,quantidade*4.90*desconto))\n",
        "            elif(codigo== '2'):\n",
        "                print(\"Produto:\\tAlcatra\\nPreço por Kg:\\tR$ 5,90\\nQuantidade:\\t%.2f kg\\nPreço Total:\\tR$ %.2f\"%(quantidade,quantidade*5.90*desconto))\n",
        "            else:\n",
        "                print(\"Produto:\\tPicanha\\nPreço por Kg:\\tR$ 6,90\\nQuantidade:\\t%.2f kg\\nPreço Total:\\tR$ %.2f\"%(quantidade,quantidade*6.90*desconto))\n",
        "        else:\n",
        "            if(codigo == '1'):\n",
        "                print(\"Produto:\\tFilé Duplo\\nPreço por Kg:\\tR$ 5,80\\nQuantidade:\\t%.2f kg\\nPreço Total:\\tR$ %.2f\"%(quantidade,quantidade*5.8*desconto))\n",
        "            elif(codigo== '2'):\n",
        "                print(\"Produto:\\tAlcatra\\nPreço por Kg:\\tR$ 6,80\\nQuantidade:\\t%.2f kg\\nPreço Total:\\tR$ %.2f\"%(quantidade,quantidade*6.8*desconto))\n",
        "            else:\n",
        "                print(\"Produto:\\tPicanha\\nPreço por Kg:\\tR$ 7,80\\nQuantidade:\\t%.2f kg\\nPreço Total:\\tR$ %.2f\"%(quantidade,quantidade*7.8*desconto))\n",
        "        \n",
        "        if(desconto == 0.95):\n",
        "            print(\"Pagamento:\\tCartão Tabajara\")\n",
        "        else:\n",
        "            print(\"Pagamento:\\tA vista\")\n",
        "        break\n",
        "            \n",
        "                \n",
        "           \n",
        "            \n",
        "            \n",
        "    else:\n",
        "        print(\"Número invalido! Digite Novamente!\")"
      ],
      "execution_count": 25,
      "outputs": [
        {
          "output_type": "stream",
          "name": "stdout",
          "text": [
            "############### BEM VINDA AO HYPERMERCADO TABAJARA #######################\n",
            " Confira nossa programação de carnes:\n",
            "Cod - Nome\tPreço até 5kg\tAcima de 5kg\n",
            " 1 - Filé Duplo\tR$4,90 por Kg\tR$5,80 por Kg\n",
            " 2 - Alcatra\tR$5,90 por Kg\tR$6,80 por Kg\n",
            " 3 - Picanha\tR$6,90 por Kg\tR$7,80 por Kg\n",
            "\n",
            "Vc tem Cartao(S = sim, N = não):N\n",
            "\n",
            "Selecione um tipo de carne para compra pelo código:\n",
            "Código => 1\n",
            "Digite a quantidade:6\n",
            "\n",
            "\n",
            "######### NOTA FISCAL #########\n",
            "\n",
            "Produto:\tFilé Duplo\n",
            "Preço por Kg:\tR$ 5,80\n",
            "Quantidade:\t6.00 kg\n",
            "Preço Total:\tR$ 34.80\n",
            "Pagamento:\tA vista\n"
          ]
        }
      ]
    }
  ]
}
