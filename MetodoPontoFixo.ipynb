{
  "nbformat": 4,
  "nbformat_minor": 0,
  "metadata": {
    "colab": {
      "provenance": [],
      "collapsed_sections": [],
      "authorship_tag": "ABX9TyN3qQX3Djc6IYaI44lVRokh",
      "include_colab_link": true
    },
    "kernelspec": {
      "name": "python3",
      "display_name": "Python 3"
    },
    "language_info": {
      "name": "python"
    }
  },
  "cells": [
    {
      "cell_type": "markdown",
      "metadata": {
        "id": "view-in-github",
        "colab_type": "text"
      },
      "source": [
        "<a href=\"https://colab.research.google.com/github/JFGoes/CTEC0004--ProgramacaoI/blob/master/MetodoPontoFixo.ipynb\" target=\"_parent\"><img src=\"https://colab.research.google.com/assets/colab-badge.svg\" alt=\"Open In Colab\"/></a>"
      ]
    },
    {
      "cell_type": "markdown",
      "source": [
        "# Método do Ponto Fixo"
      ],
      "metadata": {
        "id": "JgWVjoDjv08Z"
      }
    },
    {
      "cell_type": "code",
      "execution_count": 5,
      "metadata": {
        "id": "cHgcS3-kt6Ak"
      },
      "outputs": [],
      "source": [
        "from sympy.plotting import *\n",
        "import sympy as sp"
      ]
    },
    {
      "cell_type": "code",
      "source": [
        "x = sp.Symbol('x')#Define uma variável"
      ],
      "metadata": {
        "id": "ehKprcrvuE3m"
      },
      "execution_count": 6,
      "outputs": []
    },
    {
      "cell_type": "code",
      "source": [
        "funcao = x**3 - 9 * x + 3"
      ],
      "metadata": {
        "id": "_ObPlqpoua5S"
      },
      "execution_count": 7,
      "outputs": []
    },
    {
      "cell_type": "code",
      "source": [
        "plot(funcao,(x,-2,2))"
      ],
      "metadata": {
        "colab": {
          "base_uri": "https://localhost:8080/",
          "height": 315
        },
        "id": "PrQndcJtuwAv",
        "outputId": "f7f2fe9b-fa24-4e45-ee8f-bd0f20955a90"
      },
      "execution_count": 8,
      "outputs": [
        {
          "output_type": "display_data",
          "data": {
            "text/plain": [
              "<Figure size 432x288 with 1 Axes>"
            ],
            "image/png": "[encoded data removed]"
          },
          "metadata": {
            "needs_background": "light"
          }
        },
        {
          "output_type": "execute_result",
          "data": {
            "text/plain": [
              "<sympy.plotting.plot.Plot at 0x7f56d0bcffd0>"
            ]
          },
          "metadata": {},
          "execution_count": 8
        }
      ]
    },
    {
      "cell_type": "markdown",
      "source": [
        "Definição da função para obter as raizes, $f(x) = 0$"
      ],
      "metadata": {
        "id": "BTrLtst7ws3k"
      }
    },
    {
      "cell_type": "code",
      "source": [
        "def f(x):\n",
        "  return x**3 - 9 * x + 3"
      ],
      "metadata": {
        "id": "-SDU3-8lu2im"
      },
      "execution_count": 11,
      "outputs": []
    },
    {
      "cell_type": "markdown",
      "source": [
        "Definição da função $\\phi(x)$"
      ],
      "metadata": {
        "id": "p4s3Y9YbCbXa"
      }
    },
    {
      "cell_type": "code",
      "source": [
        "def fphi(x):\n",
        "  return (x**3)/9 + 1/3"
      ],
      "metadata": {
        "id": "4n2n3Ue855-K"
      },
      "execution_count": 12,
      "outputs": []
    },
    {
      "cell_type": "markdown",
      "source": [
        "Método do Ponto Fixo implementado a partir do algoritmo do livro cálculo numérico - Rugiere"
      ],
      "metadata": {
        "id": "C7h2GI90w1YA"
      }
    },
    {
      "cell_type": "code",
      "source": [
        "def PontoFixo(x0,tol,iter_max):\n",
        "  iter = 1\n",
        "  tol1 = tol\n",
        "  tol2 = tol\n",
        "  if abs(f(x0)) < tol1:\n",
        "    return (f'A raiz esperada é: {x0:.6f}')\n",
        "\n",
        "  print(f'{\"iter\":^5}| {\"x\":^9}| {\"x0\":^9}| {\"fx\":^8}')\n",
        "  print('-----|----------|----------|----------')\n",
        "  \n",
        "  while iter < iter_max:\n",
        "    x1 = fphi(x0)\n",
        "    \n",
        "    print(f'{iter:^5}| {x1:^9.6f}|{x0:^10.6f}| {f(x1):^8.4E}')\n",
        "    \n",
        "    if (abs(f(x1)) < tol1) or abs(x1-x0) < tol2:\n",
        "      print(\"\\n\")\n",
        "      return (f\"A raiz esperada é: {x1:.6E}\")\n",
        "    else:\n",
        "      x0 = x1\n",
        "    iter+=1\n",
        "    \n",
        "  return 'O método não convergiu após '+ str(iter_max) + 'iterações'"
      ],
      "metadata": {
        "id": "HYVfJuN2vB50"
      },
      "execution_count": 41,
      "outputs": []
    },
    {
      "cell_type": "code",
      "source": [
        "PontoFixo(0.5,5*10**(-4),100)"
      ],
      "metadata": {
        "colab": {
          "base_uri": "https://localhost:8080/",
          "height": 161
        },
        "id": "mDoiltqvwwQA",
        "outputId": "09802c7e-bce9-4eed-be18-33e9e05e32ea"
      },
      "execution_count": 42,
      "outputs": [
        {
          "output_type": "stream",
          "name": "stdout",
          "text": [
            "iter |     x    |    x0    |    fx   \n",
            "-----|----------|----------|----------\n",
            "  1  | 0.347222 | 0.500000 | -8.3138E-02\n",
            "  2  | 0.337985 | 0.347222 | -3.2530E-03\n",
            "  3  | 0.337623 | 0.337985 | -1.2374E-04\n",
            "\n",
            "\n"
          ]
        },
        {
          "output_type": "execute_result",
          "data": {
            "text/plain": [
              "'A raiz esperada é: 3.376232E-01'"
            ],
            "application/vnd.google.colaboratory.intrinsic+json": {
              "type": "string"
            }
          },
          "metadata": {},
          "execution_count": 42
        }
      ]
    },
    {
      "cell_type": "code",
      "source": [],
      "metadata": {
        "id": "9hejm_2xw8qN"
      },
      "execution_count": 40,
      "outputs": []
    }
  ]
}