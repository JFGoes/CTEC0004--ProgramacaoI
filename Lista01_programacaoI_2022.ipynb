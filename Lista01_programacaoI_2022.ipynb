{
  "nbformat": 4,
  "nbformat_minor": 0,
  "metadata": {
    "colab": {
      "provenance": [],
      "authorship_tag": "ABX9TyOfD+VbDNBBcE9LZcdhlYnI",
      "include_colab_link": true
    },
    "kernelspec": {
      "name": "python3",
      "display_name": "Python 3"
    },
    "language_info": {
      "name": "python"
    }
  },
  "cells": [
    {
      "cell_type": "markdown",
      "metadata": {
        "id": "view-in-github",
        "colab_type": "text"
      },
      "source": [
        "<a href=\"https://colab.research.google.com/github/JFGoes/CTEC0004--ProgramacaoI/blob/master/Lista01_programacaoI_2022.ipynb\" target=\"_parent\"><img src=\"https://colab.research.google.com/assets/colab-badge.svg\" alt=\"Open In Colab\"/></a>"
      ]
    },
    {
      "cell_type": "markdown",
      "source": [
        "##Atividade 01\n",
        "\n",
        "###Professor Josecley F. Góes\n",
        "###Disciplina: Programação I\n",
        "###Turma: 2022.1"
      ],
      "metadata": {
        "id": "qP7pY8sFnolG"
      }
    },
    {
      "cell_type": "markdown",
      "source": [
        "###01 - Uma partícula, inicialmente a 2  m/s, é acelerada uniformemente e, após percorrer 8 m, alcança a velocidade de 6 m/s. Nessas condições, sua aceleração, em metros por segundo ao quadrado, é:\n",
        "\n",
        "$$v^2 = v_0^2 + 2aΔs$$"
      ],
      "metadata": {
        "id": "6ZO3ekH7n6b5"
      }
    },
    {
      "cell_type": "code",
      "execution_count": null,
      "metadata": {
        "id": "ZpEP0TF0njd8"
      },
      "outputs": [],
      "source": []
    },
    {
      "cell_type": "markdown",
      "source": [
        "### 02 - Um corpo é abandonado de uma altura de 20 m num local onde a aceleração da gravidade da Terra é dada por g = 10 $m/s^2$. Desprezando o atrito, o corpo toca o solo com velocidade:\n",
        "$$v^2 = v_0^2 + 2gh$$"
      ],
      "metadata": {
        "id": "Mf2ZVWdpppzx"
      }
    },
    {
      "cell_type": "code",
      "source": [],
      "metadata": {
        "id": "6jRKkx3VqE4H"
      },
      "execution_count": null,
      "outputs": []
    },
    {
      "cell_type": "markdown",
      "source": [
        "### 03 - Resolva as expressões algébricas:\n",
        "\n",
        "#### a) $\\left\\{15 + [(7 - 100:10^2) + (16:\\sqrt{4} - 4)]^2 + 10\\right\\}·3$\n",
        "\n"
      ],
      "metadata": {
        "id": "B9591QJnqFZ1"
      }
    },
    {
      "cell_type": "code",
      "source": [],
      "metadata": {
        "id": "rvqUmtJXr8o7"
      },
      "execution_count": null,
      "outputs": []
    },
    {
      "cell_type": "markdown",
      "source": [
        "###b) Qual o valor numérico da expressão \n",
        "$$\\dfrac{x^2 y + x}{x-y}$$ \n",
        "###da fração para $x = - 3$ e $y = 7$?"
      ],
      "metadata": {
        "id": "FGz0kLF-r9Oy"
      }
    },
    {
      "cell_type": "code",
      "source": [],
      "metadata": {
        "id": "1L8Wu3ektKZW"
      },
      "execution_count": null,
      "outputs": []
    },
    {
      "cell_type": "markdown",
      "source": [
        "###c)O valor numérico da expressão $$ax + a^2 – a^2x + ax^2 – 2x^3 + 3a^3,$$ para $a = 2$ e $x = 1$, é:"
      ],
      "metadata": {
        "id": "DfApXpNptLb0"
      }
    },
    {
      "cell_type": "code",
      "source": [],
      "metadata": {
        "id": "mULKwNKMt2r3"
      },
      "execution_count": null,
      "outputs": []
    },
    {
      "cell_type": "markdown",
      "source": [
        "###04 - Fernando é um aluno do 2º ano do ensino médio. Durante o ano escolar, suas notas por bimestre variaram. Além disso, cada uma delas tem um peso diferente. Para saber se passou de ano, Fernando precisa descobrir qual foi a sua média. Se a sua nota final for igual ou mais que 7, ele pode comemorar. Veja a seguir as notas dele por bimestre e os pesos atribuídos:\n",
        "\n",
        "    1º bimestre: 6,0 - Peso 1\n",
        "    2º Bimestre: 8,0 - Peso 2\n",
        "    3º Bimestre: 7,0 - Peso 1\n",
        "    4º Bimestre: 7,5 - Peso 3\n",
        "\n",
        "###Vamos, então, calcular a média ponderada anual das notas de Fernando na escola. Lembrando que N é cada valor do conjunto e P é o peso correspondente de cada valor do conjunto.\n",
        "\n",
        "$$M_p = [(N_1 · P_1) + (N_2 · P_2) + (N_3 · P_3) + (N_4 · P_4)] ÷ (P_1 + P_2 + P_3 + P_4)$$.\n",
        "\n",
        "### OBS: Entre com as notas a partir do teclado. "
      ],
      "metadata": {
        "id": "kjcu2k5xuzaS"
      }
    },
    {
      "cell_type": "code",
      "source": [],
      "metadata": {
        "id": "ohbwSLW6wL3K"
      },
      "execution_count": null,
      "outputs": []
    }
  ]
}