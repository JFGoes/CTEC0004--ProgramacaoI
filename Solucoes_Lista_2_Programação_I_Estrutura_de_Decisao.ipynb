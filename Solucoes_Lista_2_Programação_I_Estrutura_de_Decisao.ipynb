{
  "nbformat": 4,
  "nbformat_minor": 0,
  "metadata": {
    "colab": {
      "provenance": [],
      "collapsed_sections": [
        "J4lIqTb70Cc7",
        "WWkJoGzCpHvc"
      ],
      "include_colab_link": true
    },
    "kernelspec": {
      "name": "python3",
      "display_name": "Python 3"
    }
  },
  "cells": [
    {
      "cell_type": "markdown",
      "metadata": {
        "id": "view-in-github",
        "colab_type": "text"
      },
      "source": [
        "<a href=\"https://colab.research.google.com/github/JFGoes/CTEC0004--ProgramacaoI/blob/master/Solucoes_Lista_2_Programa%C3%A7%C3%A3o_I_Estrutura_de_Decisao.ipynb\" target=\"_parent\"><img src=\"https://colab.research.google.com/assets/colab-badge.svg\" alt=\"Open In Colab\"/></a>"
      ]
    },
    {
      "cell_type": "markdown",
      "metadata": {
        "id": "lvLkQuqDzDTW"
      },
      "source": [
        "# **Lista de Programação I**"
      ]
    },
    {
      "cell_type": "markdown",
      "metadata": {
        "id": "Y2vFPh6601j_"
      },
      "source": [
        "Professor: Josecley Fialho Góes"
      ]
    },
    {
      "cell_type": "markdown",
      "metadata": {
        "id": "J4lIqTb70Cc7"
      },
      "source": [
        "# I – **Estrutura de decisão** - IF, ELIF E ELSE"
      ]
    },
    {
      "cell_type": "markdown",
      "metadata": {
        "id": "KoTdBXUl0Jrv"
      },
      "source": [
        "## 1-- Faça um Programa que peça dois números e imprima o maior deles.\n",
        " \n",
        "Código:"
      ]
    },
    {
      "cell_type": "code",
      "metadata": {
        "id": "QaIGG7ag0XHM",
        "colab": {
          "base_uri": "https://localhost:8080/"
        },
        "outputId": "4f9a7006-219d-498d-db88-e0dbc6313a5c"
      },
      "source": [
        "#x = int(input(\"Entre com o primeiro número inteiro: \")) # O comando input() espera a entrada do teclado\n",
        "#y = int(input(\"Entre com o segundo número inteiro: \"))  # O comando int() transforma a str em int. Podem usar float tb, dependendo do problema\n",
        "x = 3\n",
        "y = 4\n",
        "if x > y:\n",
        "  print(\"O maior é : %d\"%(x))\n",
        "else: \n",
        "  print(\"O maior é : %d\"%(y))\n",
        "\n",
        "#O MAIOR E 4\n"
      ],
      "execution_count": null,
      "outputs": [
        {
          "output_type": "stream",
          "name": "stdout",
          "text": [
            "O maior é : 4\n"
          ]
        }
      ]
    },
    {
      "cell_type": "code",
      "metadata": {
        "id": "PXnobB7BL8BL"
      },
      "source": [],
      "execution_count": null,
      "outputs": []
    },
    {
      "cell_type": "markdown",
      "metadata": {
        "id": "O3_B5AaM0YhG"
      },
      "source": [
        "## 2 -- Faça um Programa que peça um valor e mostre na tela se o valor é positivo ou negativo.\n",
        "\n",
        "Código:"
      ]
    },
    {
      "cell_type": "code",
      "metadata": {
        "id": "b7r9ukdO0eTD",
        "colab": {
          "base_uri": "https://localhost:8080/"
        },
        "outputId": "eed31f8d-86fa-4ad4-fa0a-ee5c7f1d4f78"
      },
      "source": [
        "# Avaliar se o numero é maior ou menor que zero!\n",
        "x = int(input(\"Entre com um número inteiro: \"))\n",
        "if x >=0:\n",
        "  print(\"Positivo\")\n",
        "else: \n",
        "  print(\"Negativo\")"
      ],
      "execution_count": null,
      "outputs": [
        {
          "output_type": "stream",
          "name": "stdout",
          "text": [
            "Entre com um número inteiro: -4\n",
            "Negativo\n"
          ]
        }
      ]
    },
    {
      "cell_type": "markdown",
      "metadata": {
        "id": "u4RH0vAIoBD0"
      },
      "source": [
        "## 3 -- Faça um Programa que verifique se uma letra digitada é \"F\" ou \"M\". Conforme a letra escrever: F - Feminino, M - Masculino, Sexo Inválido.\n",
        "\n",
        "Código:"
      ]
    },
    {
      "cell_type": "code",
      "metadata": {
        "id": "QdTetVLfps2v"
      },
      "source": [
        "letra = input(\"Digite uma letra: \")\n",
        " \n",
        "if letra == 'f' or letra == 'F':\n",
        "  print(\"F - Feminino\")\n",
        "elif letra == 'm' or letra == 'M':\n",
        "  print(\"M - Masculino\")\n",
        "else:\n",
        "  print(\"Sexo indefinido!\")"
      ],
      "execution_count": null,
      "outputs": []
    },
    {
      "cell_type": "code",
      "source": [
        "letra = input(\"Digite uma letra: \")\n",
        "Fem=\"Ff\"\n",
        "Masc = \"Mm\"\n",
        "if letra in Fem:\n",
        "  print(\"F - Feminino\")\n",
        "elif letra in Masc:\n",
        "  print(\"M - Masculino\")\n",
        "else:\n",
        "  print(\"Sexo indefinido!\")"
      ],
      "metadata": {
        "colab": {
          "base_uri": "https://localhost:8080/"
        },
        "id": "mONe33Fg0Ju8",
        "outputId": "efb6e34f-68e6-4bc1-a382-71d52e871c0e"
      },
      "execution_count": null,
      "outputs": [
        {
          "output_type": "stream",
          "name": "stdout",
          "text": [
            "Digite uma letra: F\n",
            "F - Feminino\n"
          ]
        }
      ]
    },
    {
      "cell_type": "markdown",
      "metadata": {
        "id": "WWkJoGzCpHvc"
      },
      "source": [
        "## 4 -- Faça um Programa que verifique se uma letra digitada é vogal ou consoante.\n",
        "\n",
        "Código:"
      ]
    },
    {
      "cell_type": "code",
      "source": [
        "#Nunca faça isso em Python\n",
        "letra = input(\"Entre com uma letra: \")\n",
        "if letra == \"A\" or letra == \"a\" or letra == \"E\" or letra == \"e\" or letra == \"i\" or\\\n",
        "  letra == \"I\" or letra == \"O\" or letra==\"o\" or letra == \"U\" or letra == \"u\":\n",
        "  print(\"É vogal\")\n",
        "else:\n",
        "  print(\"É Consoante\")"
      ],
      "metadata": {
        "colab": {
          "base_uri": "https://localhost:8080/"
        },
        "id": "tOJDaVHYrDKc",
        "outputId": "ef2260c7-7676-47c1-d192-ac44903f6336"
      },
      "execution_count": null,
      "outputs": [
        {
          "output_type": "stream",
          "name": "stdout",
          "text": [
            "Entre com uma letra: s\n",
            "É Consoante\n"
          ]
        }
      ]
    },
    {
      "cell_type": "code",
      "source": [
        "vogais = \"AaEeIiOoUu\"\n",
        "consoantes = \"BbCcDdFfGgHhJjKkLlMmNnPpQqRrSsTtVvWwXxYyZz\"\n",
        "letra = input(\"Entre com uma letra do alfabeto: \")\n",
        "if letra in vogais:\n",
        "  print(\"Vogal!\")\n",
        "elif letra in consoantes:\n",
        "  print(\"Consoante!\")\n",
        "else:\n",
        "  print(\"Não é uma letra do alfabeto!\")"
      ],
      "metadata": {
        "id": "j8aPiEZNqMnO",
        "colab": {
          "base_uri": "https://localhost:8080/"
        },
        "outputId": "f791f431-63cf-4534-a378-2c6e6d564605"
      },
      "execution_count": null,
      "outputs": [
        {
          "name": "stdout",
          "output_type": "stream",
          "text": [
            "Entre com uma letra do alfabeto: ~\n"
          ]
        }
      ]
    },
    {
      "cell_type": "code",
      "metadata": {
        "id": "hioZ_WeJpvRI",
        "colab": {
          "base_uri": "https://localhost:8080/"
        },
        "outputId": "d4872fd7-dfbe-4cd3-fe13-a85a98f69f15"
      },
      "source": [
        "vogais = \"AaEeIiOoUu\"\n",
        "letra = input(\"Entre com uma letra do alfabeto: \")\n",
        "print(ord(letra))\n",
        "\n",
        "if (ord(letra) < 64 or ord(letra) > 91)  or (ord(letra) < 96 or ord(letra) >123) :\n",
        "  print(\"A entrada não é uma letra do alfabeto!\")\n",
        "elif letra in vogais:\n",
        "  print(\"Vogal!\")\n",
        "else:\n",
        "  print(\"Consoante!\")\n"
      ],
      "execution_count": null,
      "outputs": [
        {
          "output_type": "stream",
          "name": "stdout",
          "text": [
            "Entre com uma letra do alfabeto: @\n",
            "64\n",
            "A entrada não é uma letra do alfabeto!\n"
          ]
        }
      ]
    },
    {
      "cell_type": "code",
      "source": [
        "c = input(\"Entre com uma letra do alfabeto: \")\n",
        "if not c.isalpha(): \n",
        "  print(f'{c} não é uma letra do alfabeto' )\n",
        "elif c in ('AaEeIiOoUu'):\n",
        "  print('Vogal')\n",
        "else:\n",
        "  print('Consoante')"
      ],
      "metadata": {
        "colab": {
          "base_uri": "https://localhost:8080/"
        },
        "id": "eZhSNWhwmG2w",
        "outputId": "dd34face-7558-4b58-fdc1-1919346982fe"
      },
      "execution_count": null,
      "outputs": [
        {
          "output_type": "stream",
          "name": "stdout",
          "text": [
            "Entre com uma letra do alfabeto: e\n",
            "Vogal\n"
          ]
        }
      ]
    },
    {
      "cell_type": "markdown",
      "metadata": {
        "id": "eE2nClNHpQI0"
      },
      "source": [
        "### 5 --\tFaça um programa para a leitura de duas notas parciais de um aluno. O programa deve calcular a média alcançada por aluno e apresentar:\n",
        "##•\tA mensagem \"Aprovado\", se a média alcançada for maior ou igual a sete;\n",
        "##•\tA mensagem \"Reprovado\", se a média for menor do que sete;\n",
        "##•\tA mensagem \"Aprovado com Distinção\", se a média for igual a dez.\n",
        "\n",
        "\n",
        "Código:"
      ]
    },
    {
      "cell_type": "code",
      "metadata": {
        "id": "VBOCipRhpwoU"
      },
      "source": [
        "# nx = notas, com x = 1,2; m = médias\n",
        "n1 = 8.0\n",
        "n2 = 9.5\n",
        "\n",
        "m = (n1 + n2)/2.0 # calculo da média\n"
      ],
      "execution_count": null,
      "outputs": []
    },
    {
      "cell_type": "markdown",
      "metadata": {
        "id": "nvmo9Lp5piDr"
      },
      "source": [
        "## 6 -- Faça um Programa que leia três números e mostre o maior deles.\n",
        "\n",
        "\n",
        "Código:"
      ]
    },
    {
      "cell_type": "code",
      "metadata": {
        "id": "UyN6-qXVpzQC"
      },
      "source": [
        "#Para gerar número aleatório use um desses comandos abaixo\n",
        "import random as rd\n",
        "# a,b,c => a>c e a>b;\n",
        "a = rd.random() * 150 # gera números floats aleatórios entre [0,y]: random() * y\n",
        "b = 100+ rd.random() * 150 # gera números floats aleatórios entre [x,y + x]: x+ random() * y\n",
        "c = rd.randint(1,10) # Gera números inteiros entre [x,y]: randint(x,y)\n",
        "d = rd.randrange(5000, 10000) # gera números inteiros entre [x,y]:randrange(x,y)\n",
        "\n",
        "x,y,z = 10,23,45 # entre com três números diretamente.\n",
        "\n",
        "x1 = float(input(\"Entre com o x1: \"))\n",
        "x2 = float(input(\"Entre com o x2: \"))\n",
        "x3 = float(input(\"Entre com o x3: \"))\n"
      ],
      "execution_count": null,
      "outputs": []
    },
    {
      "cell_type": "code",
      "metadata": {
        "id": "r71CpwPVRua4",
        "colab": {
          "base_uri": "https://localhost:8080/"
        },
        "outputId": "fed307e4-6195-4e43-efd8-7af204deaae2"
      },
      "source": [
        "a, b,c,d"
      ],
      "execution_count": null,
      "outputs": [
        {
          "output_type": "execute_result",
          "data": {
            "text/plain": [
              "(72.53498919087268, 118.8356900490997, 6, 8894)"
            ]
          },
          "metadata": {},
          "execution_count": 22
        }
      ]
    },
    {
      "cell_type": "markdown",
      "metadata": {
        "id": "2baEgiW9p3UY"
      },
      "source": [
        "## 7 -- Faça um Programa que leia três números e mostre o maior e o menor deles.\n",
        "Código:"
      ]
    },
    {
      "cell_type": "code",
      "metadata": {
        "id": "64141anxp3UZ"
      },
      "source": [],
      "execution_count": null,
      "outputs": []
    },
    {
      "cell_type": "markdown",
      "metadata": {
        "id": "LxuIXtJPqrjE"
      },
      "source": [
        "## 8 --\tFaça um programa que pergunte o preço de três produtos e informe qual produto você deve comprar, sabendo que a decisão é sempre pelo mais barato.\n",
        "Código:"
      ]
    },
    {
      "cell_type": "code",
      "metadata": {
        "id": "PoLVwawJqrjH"
      },
      "source": [],
      "execution_count": null,
      "outputs": []
    },
    {
      "cell_type": "markdown",
      "metadata": {
        "id": "EiNMTrPeq06T"
      },
      "source": [
        "## 9 --\tFaça um Programa que leia três números e mostre-os em ordem decrescente."
      ]
    },
    {
      "cell_type": "code",
      "metadata": {
        "id": "HVdThdUeq9Xv",
        "colab": {
          "base_uri": "https://localhost:8080/"
        },
        "outputId": "886b10e4-0bad-4ae6-efe5-758bce2c1e52"
      },
      "source": [
        "a = int(input(\"Entre como o primeiro número: \"))\n",
        "b = int(input(\"Entre como o segundo número: \"))\n",
        "c = int(input(\"Entre como o terceiro número: \"))\n",
        "if a < c:\n",
        "    a, c = c, a\n",
        "\n",
        "if a < b:\n",
        "    a, b = b, a\n",
        "\n",
        "if b < c:\n",
        "    b, c = c, b\n",
        "\n",
        "print(f'A ordem decrescente é {a}, {b} e {c}')"
      ],
      "execution_count": null,
      "outputs": [
        {
          "output_type": "stream",
          "name": "stdout",
          "text": [
            "Entre como o primeiro número: 8\n",
            "Entre como o segundo número: 89\n",
            "Entre como o terceiro número: 65\n",
            "A ordem decrescente é 89, 65 e 8\n"
          ]
        }
      ]
    },
    {
      "cell_type": "code",
      "source": [
        "max(a,b,c)"
      ],
      "metadata": {
        "colab": {
          "base_uri": "https://localhost:8080/"
        },
        "id": "xmui1qEB-b0j",
        "outputId": "92a2c354-a4b6-402e-a56d-46b72aee75a3"
      },
      "execution_count": null,
      "outputs": [
        {
          "output_type": "execute_result",
          "data": {
            "text/plain": [
              "89"
            ]
          },
          "metadata": {},
          "execution_count": 11
        }
      ]
    },
    {
      "cell_type": "code",
      "source": [
        "min(a,b,c)"
      ],
      "metadata": {
        "colab": {
          "base_uri": "https://localhost:8080/"
        },
        "id": "-lFBtdkm-mSs",
        "outputId": "481d408b-053f-4893-9a81-8ba43d6e0d7f"
      },
      "execution_count": null,
      "outputs": [
        {
          "output_type": "execute_result",
          "data": {
            "text/plain": [
              "8"
            ]
          },
          "metadata": {},
          "execution_count": 12
        }
      ]
    },
    {
      "cell_type": "markdown",
      "metadata": {
        "id": "QlduB8tPq_ge"
      },
      "source": [
        "## 10 --\tFaça um Programa que pergunte em que turno você estuda. Peça para digitar M-matutino ou V-Vespertino ou N- Noturno. Imprima a mensagem \"Bom Dia!\", \"Boa Tarde!\" ou \"Boa Noite!\" ou \"Valor Inválido!\", conforme o caso."
      ]
    },
    {
      "cell_type": "code",
      "metadata": {
        "id": "KfwSNP6wra55"
      },
      "source": [
        "# Mesmo que na questão 3"
      ],
      "execution_count": null,
      "outputs": []
    },
    {
      "cell_type": "markdown",
      "metadata": {
        "id": "Ont9LaRVrN0F"
      },
      "source": [
        "## 11 -- As Organizações Tabajara resolveram dar um aumento de salário aos seus colaboradores e lhe contraram para desenvolver o programa que calculará os reajustes.\n",
        "## Faça um programa que recebe o salário de um colaborador e o reajuste segundo o seguinte critério, baseado no salário atual:\n",
        "####•\tsalários até 280, 00 reais (incluindo) : aumento de 20%\n",
        "####•\tsalários entre 280,00 reais e 700,00 reais : aumento de 15%\n",
        "####•\tsalários entre 700,00 reais e 1500,00 reais: aumento de 10%\n",
        "####•\tsalários de R$ 1500,00 em diante : aumento de 5% \n",
        "## Após o aumento ser realizado, informe na tela:\n",
        "####•\to salário antes do reajuste;\n",
        "####•\to percentual de aumento aplicado;\n",
        "####•\to valor do aumento;\n",
        "####•\to novo salário, após o aumento.\n"
      ]
    },
    {
      "cell_type": "code",
      "metadata": {
        "id": "QNK8fQsprgtq",
        "colab": {
          "base_uri": "https://localhost:8080/"
        },
        "outputId": "1f15bc2f-c977-4ca2-bf50-836c53a0ae6b"
      },
      "source": [
        "#i = 20/100 # percentagem\n",
        "\n",
        "salario = float(input(\"Salario: \"))\n",
        "\n",
        "if salario <= 280.00:\n",
        "  taxa = 20/100 # 20%\n",
        "elif salario > 280.00 and salario <=700.0:\n",
        "  taxa = 15/100 # 20%\n",
        "  \n",
        "valor_aumento = salario * taxa\n",
        "novo_salario = salario + valor_aumento\n",
        "print(f\"Taxa = {taxa}\\nAumento = {valor_aumento:,.2f}\\nNovo Salário: {novo_salario:,.2f}\")\n",
        "\n"
      ],
      "execution_count": null,
      "outputs": [
        {
          "output_type": "stream",
          "name": "stdout",
          "text": [
            "Salario: 270\n",
            "Taxa = 0.2\n",
            "Aumento = 54.00\n",
            "Novo Salário: 324.00\n"
          ]
        }
      ]
    },
    {
      "cell_type": "markdown",
      "metadata": {
        "id": "966Jxviyv1xK"
      },
      "source": [
        "## 12 -- Faça um programa para o cálculo de uma folha de pagamento, sabendo que os descontos são do Imposto de Renda, que depende do salário bruto (conforme tabela abaixo) e 3% para o Sindicato e que o FGTS corresponde a 11% do Salário Bruto, mas não é descontado (é a empresa que deposita). O Salário Líquido corresponde ao Salário Bruto menos os descontos. O programa deverá pedir ao usuário o valor da sua hora e a quantidade de horas trabalhadas no mês.\n",
        "\n",
        "####•\tDesconto do IR:\n",
        "####•\tSalário Bruto até 900 (inclusive) - isento\n",
        "####•\tSalário Bruto até 1500 (inclusive) - desconto de 5%\n",
        "####•\tSalário Bruto até 2500 (inclusive) - desconto de 10%\n",
        "####•\tSalário Bruto acima de 2500 - desconto de 20% Imprima na tela as informações, dispostas conforme o exemplo abaixo. No exemplo o valor da hora é 5 e a quantidade de hora é 220.\n",
        "Folha de Pagamento        | Valores\n",
        "-----------------------: | :-------------------:\n",
        "Salário Bruto: (5 * 220): | R\\$ 1100,00\n",
        "(-) IR (5%):              | R\\$   55,00  \n",
        "(-) INSS ( 10%):          | R\\$  110,00\n",
        "FGTS (11%):               | R\\$  121,\n",
        "Total de descontos:       | R\\$  165,00\n",
        "Salário Liquido:          | R\\$  935,00\n",
        "\n"
      ]
    },
    {
      "cell_type": "code",
      "metadata": {
        "id": "K802jiCDXD0_"
      },
      "source": [],
      "execution_count": null,
      "outputs": []
    },
    {
      "cell_type": "markdown",
      "metadata": {
        "id": "_KPLFInRv144"
      },
      "source": [
        "## 13 -- Faça um Programa que leia um número e exiba o dia correspondente da semana. (1-Domingo, 2- Segunda, etc.), se digitar outro valor deve aparecer valor inválido."
      ]
    },
    {
      "cell_type": "code",
      "metadata": {
        "id": "5iaDO8Kxxkf0",
        "colab": {
          "base_uri": "https://localhost:8080/"
        },
        "outputId": "be0690f2-db44-4858-8aa7-5df6bfe2c3b0"
      },
      "source": [
        "semana = {1:\"Domingo\",2:\"Segunda\",3:\"Terça\",4:\"Quarta\",5:\"Quinta\",6:\"Sexta\",7:\"Sábado\"}\n",
        "\n",
        "num = int(input(\"Digite um número: \"))\n",
        "if num in semana.keys():\n",
        "  print(f\"{semana[num]}\")\n",
        "else:\n",
        "  print(\"Valor Inválido!\")"
      ],
      "execution_count": null,
      "outputs": [
        {
          "output_type": "stream",
          "name": "stdout",
          "text": [
            "Digite um número: 8\n",
            "Valor Inválido!\n"
          ]
        }
      ]
    },
    {
      "cell_type": "code",
      "source": [
        "num = int(input(\"Digite um número: \"))\n",
        "\n",
        "if num == 1:\n",
        "  print(\"Domingo\")\n",
        "elif num == 2:\n",
        "  print(\"Segunda\")\n",
        "elif num == 3:\n",
        "  print(\"Terça\") \n",
        "elif num == 4:\n",
        "  print(\"Quarta\")\n",
        "elif num == 5:\n",
        "  print(\"Quinta\")\n",
        "elif num == 6:\n",
        "  print(\"Sexta\")\n",
        "elif num == 7:\n",
        "  print(\"Sábado\")\n",
        "else:\n",
        "  print(\"Valor inválido!\")"
      ],
      "metadata": {
        "id": "q34vp4oDJmdP"
      },
      "execution_count": null,
      "outputs": []
    },
    {
      "cell_type": "code",
      "source": [],
      "metadata": {
        "colab": {
          "base_uri": "https://localhost:8080/"
        },
        "id": "o1UfuuuUStVU",
        "outputId": "db059298-5279-47c0-d1ed-95acc9a0c424"
      },
      "execution_count": null,
      "outputs": [
        {
          "output_type": "stream",
          "name": "stdout",
          "text": [
            "False\n"
          ]
        }
      ]
    },
    {
      "cell_type": "markdown",
      "metadata": {
        "id": "hoBZdygBv1-E"
      },
      "source": [
        "## 14 --\tFaça um programa que lê as duas notas parciais obtidas por um aluno numa disciplina ao longo de um semestre, e calcule a sua média. A atribuição de conceitos obedece à tabela abaixo:\n",
        "\n",
        "Média de Aproveitamento | Conceito  \n",
        ":----------------------:|:---------\n",
        "  Entre 9.0 e 10.0      |  A        \n",
        "  Entre 7.5 e 9.0       |  B        \n",
        "  Entre 6.0 e 7.5       |  C        \n",
        "  Entre 4.0 e 6.0       |  D        \n",
        "  Entre 4.0 e zero      |  E\n",
        "\n",
        "#### O algoritmo deve mostrar na tela as notas, a média, o conceito correspondente e a mensagem “APROVADO” se o conceito for A, B ou C ou “REPROVADO” se o conceito for D ou E."
      ]
    },
    {
      "cell_type": "code",
      "metadata": {
        "id": "2qvWt7Gnx_z6"
      },
      "source": [],
      "execution_count": null,
      "outputs": []
    },
    {
      "cell_type": "markdown",
      "metadata": {
        "id": "QRNZwgyOv2Cq"
      },
      "source": [
        "## 15 --\tFaça um Programa que peça os 3 lados de um triângulo. O programa deverá informar se os valores podem ser um triângulo. Indique, caso os lados formem um triângulo, se o mesmo é: equilátero, isósceles ou escaleno.\n",
        "####•\tDicas:\n",
        "####•\tTriângulo Equilátero: três lados iguais;\n",
        "####•\tTriângulo Isósceles: quaisquer dois lados iguais;\n",
        "####•\tTriângulo Escaleno: três lados diferentes;\n",
        "\n",
        "Em um triângulo, segundo a condição de existência, temos que:\n",
        "\n",
        "$$a + b > c$$\n",
        "\n",
        "$$b + c > a$$\n",
        "\n",
        "$$a + c > b$$\n",
        "\n",
        "Veja mais sobre \"Triângulo\" em: https://brasilescola.uol.com.br/matematica/triangulo.htm\n"
      ]
    },
    {
      "cell_type": "code",
      "metadata": {
        "id": "L4d6WaRIyXF8",
        "colab": {
          "base_uri": "https://localhost:8080/"
        },
        "outputId": "84662177-fe80-4001-86e8-91dc7addeb27"
      },
      "source": [
        "l1 = float(input('Entre com o l1: '))\n",
        "l2 = float(input('Entre com o l2: '))\n",
        "l3 = float(input('Entre com o l3: '))\n",
        "\n",
        "if (l1 + l2) > l3 and (l1 + l3) > l2 and (l3 + l2) > l1:\n",
        "  print(\"os lados formam um triângulo!\\n\")\n",
        "  if l1 == l2 == l3:\n",
        "    print(\"Triângulo equilátero!\")\n",
        "  elif l1 == l2 or l1 == l3 or l2 == l3:\n",
        "    print(\"Triângulo isósceles!\")\n",
        "  else:\n",
        "    print(\"Triângulo escaleno!\")\n",
        "else: \n",
        "  print(\"Os lados informados não formam um triângulo!\")"
      ],
      "execution_count": null,
      "outputs": [
        {
          "output_type": "stream",
          "name": "stdout",
          "text": [
            "Entre com o l1: 1\n",
            "Entre com o l2: 2\n",
            "Entre com o l3: 5\n",
            "Os lados informados não formam um triângulo!\n"
          ]
        }
      ]
    },
    {
      "cell_type": "markdown",
      "metadata": {
        "id": "q9GnFNI2v2G9"
      },
      "source": [
        "## 16 --\tFaça um programa que calcule as raízes de uma equação do segundo grau, na forma $ax^2 + bx + c$. O programa deverá pedir os valores de $a$, $b$ e $c$ e fazer as consistências, informando ao usuário nas seguintes situações:\n",
        "####•\tSe o usuário informar o valor de A igual a zero, a equação não é do segundo grau e o programa não deve fazer pedir os demais valores, sendo encerrado;\n",
        "####•\tSe o delta calculado for negativo, a equação não possui raizes reais. Informe ao usuário e encerre o programa;\n",
        "####•\tSe o delta calculado for igual a zero a equação possui apenas uma raiz real; informe-a ao usuário;\n",
        "####•\tSe o delta for positivo, a equação possui duas raiz reais; informe-as ao usuário;\n"
      ]
    },
    {
      "cell_type": "code",
      "metadata": {
        "id": "P4iobBoKye3L"
      },
      "source": [],
      "execution_count": null,
      "outputs": []
    },
    {
      "cell_type": "markdown",
      "metadata": {
        "id": "UKxhcbiryg59"
      },
      "source": [
        "## 17 --\tFaça um Programa que peça um número correspondente a um determinado ano e em seguida informe se este ano é ou não bissexto."
      ]
    },
    {
      "cell_type": "markdown",
      "source": [
        "Anos bissextos são aqueles que são múltiplos de 4, como 1996, 2000, 2004 etc (que podem ser divididos por 4 deixando resto 0).\n",
        "Porém, há uma exceção: múltiplos de 100 que não sejam múltiplos de 400.\n",
        "\n",
        "Uma das duas condições a seguir deve ser verdadeira:\n",
        "> **Condição 1**: Ser múltiplo de 4 e não ser múltiplo de 100\n",
        "\n",
        "> **Condição 2**: Ser múltiplo de 400 (se for múltiplo de 400 automaticamente é de 4)"
      ],
      "metadata": {
        "id": "85k-7JjF3CnY"
      }
    },
    {
      "cell_type": "code",
      "metadata": {
        "id": "N9DexG2czKvi",
        "colab": {
          "base_uri": "https://localhost:8080/"
        },
        "outputId": "b13024a0-2363-408e-e862-e5e45335a05f"
      },
      "source": [
        "ano = int(input('Ano: '))\n",
        "\n",
        "if (ano%4 ==0 and ano%100!=0)or (ano%400==0):\n",
        "    print('Bissexto')\n",
        "else:\n",
        "    print('Não é bissexto')\n"
      ],
      "execution_count": null,
      "outputs": [
        {
          "output_type": "stream",
          "name": "stdout",
          "text": [
            "Ano: 2024\n",
            "Bissexto\n"
          ]
        }
      ]
    },
    {
      "cell_type": "code",
      "source": [
        "from calendar import isleap\n",
        "\n",
        "ano = int(input('Digite o ano: '))\n",
        "\n",
        "if isleap(ano):\n",
        "    print('É bissexto')\n",
        "else:\n",
        "    print('Não é bissexto')"
      ],
      "metadata": {
        "colab": {
          "base_uri": "https://localhost:8080/"
        },
        "id": "xIbNJthg3pwI",
        "outputId": "dfae27ad-dcce-4dab-fddd-dbb5a358b8c3"
      },
      "execution_count": null,
      "outputs": [
        {
          "output_type": "stream",
          "name": "stdout",
          "text": [
            "Digite o ano: 2020\n",
            "É bissexto\n"
          ]
        }
      ]
    },
    {
      "cell_type": "markdown",
      "metadata": {
        "id": "7knYIRwMyhD7"
      },
      "source": [
        "## 18 -- Faça um Programa que peça uma data no formato dd/mm/aaaa e determine se a mesma é uma data válida."
      ]
    },
    {
      "cell_type": "markdown",
      "source": [
        "O grande segredo nesse algoritmo é o mês.\n",
        "\n",
        "Primeiro vamos testar se o mês digitado tem 31 dias.\n",
        "São os meses 1, 3, 5, 7, 8, 10 ou mês 12.\n",
        "Se tiver digitado um desses valores para 'mes', vamos verificar a variável 'dia' é menor ou igual a 31. Se for, a data é válida e fazemos 'valida = True'\n",
        "Se não for, continua sendo False\n",
        "\n",
        "Agora vamos testar os meses que tem 30 dias.\n",
        "Eles são os meses 4, 6, 9 e o mês 11.\n",
        "Nesses meses, temos que avaliar se a variável 'dia' tem um número menor ou igual a 30. Se sim, fazemos 'valida = True'.\n",
        "\n",
        "Por fim, vamos avaliar o mês mais problemático, o mês 2, fevereiro.\n",
        "Inicialmente, é preciso verificar se é ano bissexto, se for bissexto a variável 'dia' deve ser testada para saber se o valor digitado é 29 ou menos. Se sim, validamos a data com 'valida = True'\n",
        "\n",
        "Se não for ano bissexto, testamos a variável 'dia' para saber se o valor digitado foi 28 ou menos. Se for, 'valida = True'\n",
        "\n",
        "Caso não tenham digitado um número de 1 até 12 em mês, a variável 'valida' continua tendo valor False, pois não caiu em nenhum IF ou ELIF."
      ],
      "metadata": {
        "id": "n9nsc4WK5gEx"
      }
    },
    {
      "cell_type": "code",
      "metadata": {
        "id": "N3dDong1vDIe",
        "colab": {
          "base_uri": "https://localhost:8080/"
        },
        "outputId": "6f65be58-dceb-4dbf-f694-6c861421d417"
      },
      "source": [
        "dia = int( input('Dia: ') )\n",
        "mes = int( input('Mês: ') )\n",
        "ano = int( input('Ano: ') )\n",
        "meses31 = [1,3,5,7,8,10,12]\n",
        "meses30 = [4,6,9,11]\n",
        "valida = False\n",
        "    \n",
        "# Meses com 31 dias\n",
        "if mes in meses31:\n",
        "  if dia <= 31:\n",
        "    valida = True\n",
        "  # Meses com 30 dias\n",
        "elif mes in meses30:\n",
        "  if dia <= 30:\n",
        "    valida = True\n",
        "elif mes==2:\n",
        "  # Testa se é bissexto\n",
        "  if (ano%4==0 and ano%100!=0) or (ano%400==0):\n",
        "    if(dia<=29):\n",
        "      valida = True\n",
        "  elif(dia<=28):\n",
        "    valida = True\n",
        "\n",
        "if(valida):\n",
        "  print(f'Data válida: {dia}/{mes}/{ano}')\n",
        "else:\n",
        "  print('Inválida')"
      ],
      "execution_count": null,
      "outputs": [
        {
          "output_type": "stream",
          "name": "stdout",
          "text": [
            "Dia: 23\n",
            "Mês: 11\n",
            "Ano: 2012\n",
            "Data válida: 23/11/2012\n"
          ]
        }
      ]
    },
    {
      "cell_type": "code",
      "metadata": {
        "id": "kYk1zDV5zPik"
      },
      "source": [],
      "execution_count": null,
      "outputs": []
    },
    {
      "cell_type": "markdown",
      "metadata": {
        "id": "YoZKYoC8zRZo"
      },
      "source": [
        "## 19.\tFaça um Programa que leia um número inteiro menor que 1000 e imprima a quantidade de centenas, dezenas e unidades do mesmo.\n",
        "####•\tObservando os termos no plural a colocação do \"e\", da vírgula entre outros. Exemplo:\n",
        "####•\t326 = 3 centenas, 2 dezenas e 6 unidades\n",
        "####•\t12 = 1 dezena e 2 unidades Testar com: 326, 300, 100, 320, 310,305, 301, 101, 311, 111, 25, 20, 10, 21, 11, 1, 7 e 16\n"
      ]
    },
    {
      "cell_type": "code",
      "metadata": {
        "id": "9aftn5MOvHE2",
        "colab": {
          "base_uri": "https://localhost:8080/"
        },
        "outputId": "ceacdb49-efdc-43f8-b16a-8c68909d3031"
      },
      "source": [
        "num1=int(input(\"Digite o Número Desejado Menor que 1000: \"))\n",
        "\n",
        "textoFinal=\"\"\n",
        "\n",
        "if num1<1000:\n",
        "    if len(str(num1))==1:\n",
        "        if num1==1:\n",
        "            textoFinal+=(\" %i unidade\" %num1)\n",
        "        else:\n",
        "            textoFinal+= (\" %i unidades\" %num1)\n",
        "    elif len(str(num1))==2:\n",
        "        x=num1\n",
        "        y=int(x/10)\n",
        "        if y==1:\n",
        "            textoFinal+= (\" %i dezena e\" %y)\n",
        "        else:\n",
        "            textoFinal+= (\" %i dezenas e\" %y)\n",
        "        x1=num1%10\n",
        "        if x1==1:\n",
        "            textoFinal+= (\" %i unidade\" %x1)\n",
        "        else:\n",
        "            textoFinal+= (\" %i unidades\" %x1)\n",
        "    else:\n",
        "        w=num1\n",
        "        z=int(w/100)\n",
        "        if z==1:\n",
        "            textoFinal+= (\" %i centena,\" %z)\n",
        "        else:\n",
        "            textoFinal+= (\" %i centenas,\" %z)\n",
        "        a=num1%100\n",
        "        b=int(a/10)\n",
        "        if b==1:\n",
        "            textoFinal+= (\" %i dezena e\" %b)\n",
        "        else:\n",
        "            textoFinal+= (\" %i dezenas e\" %b)\n",
        "        x2=a%10\n",
        "        if x2==1:\n",
        "            textoFinal+= (\" %i unidade\" %x2)\n",
        "        else:\n",
        "            textoFinal+= (\" %i unidades\" %x2)\n",
        "    print(textoFinal)\n",
        "else:\n",
        "    print (\"O valor digitado não é menor que 1000\")"
      ],
      "execution_count": null,
      "outputs": [
        {
          "output_type": "stream",
          "name": "stdout",
          "text": [
            "Digite o Número Desejado Menor que 1000: 563\n",
            " 5 centenas, 6 dezenas e 3 unidades\n"
          ]
        }
      ]
    },
    {
      "cell_type": "code",
      "metadata": {
        "id": "sXklVLI9zb4Y"
      },
      "source": [],
      "execution_count": null,
      "outputs": []
    },
    {
      "cell_type": "markdown",
      "metadata": {
        "id": "SbdKKPAlzRcu"
      },
      "source": [
        "## 20.\tFaça um Programa para leitura de três notas parciais de um aluno. O programa deve calcular a média alcançada por aluno e apresentar:\n",
        "####•\tA mensagem \"Aprovado\", se a média for maior ou igual a 7, com a respectiva média alcançada;\n",
        "####•\tA mensagem \"Reprovado\", se a média for menor do que 7, com a respectiva média alcançada;\n",
        "####•\tA mensagem \"Aprovado com Distinção\", se a média for igual a 10.\n"
      ]
    },
    {
      "cell_type": "code",
      "metadata": {
        "id": "0_C39sTrzmEL"
      },
      "source": [],
      "execution_count": null,
      "outputs": []
    },
    {
      "cell_type": "markdown",
      "metadata": {
        "id": "hut1ULsvzRfw"
      },
      "source": [
        "## 21 --\tFaça um Programa para um caixa eletrônico. O programa deverá perguntar ao usuário a valor do saque e depois informar quantas notas de cada valor serão fornecidas. As notas disponíveis serão as de 1, 5, 10, 50 e 100 reais. O valor mínimo é de 10 reais e o máximo de 600 reais. O programa não deve se preocupar com a quantidade de notas existentes na máquina.\n",
        "#### •\tExemplo 1: Para sacar a quantia de 256 reais, o programa fornece duas notas de 100, uma nota de 50, uma nota de 5 e uma nota de 1;\n",
        "####•\tExemplo 2: Para sacar a quantia de 399 reais, o programa fornece três notas de 100, uma nota de 50, quatro notas de 10, uma nota de 5 e quatro notas de 1.\n"
      ]
    },
    {
      "cell_type": "code",
      "metadata": {
        "id": "FeBUo1Qnzw9I",
        "colab": {
          "base_uri": "https://localhost:8080/"
        },
        "outputId": "41ce3701-6a92-4c1b-b0d0-fd4c0f2c2e9a"
      },
      "source": [
        "numero = int(input('Valor para sacar [10-600]: '))\n",
        "\n",
        "cem = int(numero / 100)\n",
        "numero = numero - (cem*100)\n",
        "    \n",
        "cinquenta = int(numero/50)\n",
        "numero = numero - (cinquenta*50)\n",
        "\n",
        "dez = int(numero/10)\n",
        "numero = numero - (dez*10)\n",
        "\n",
        "cinco = int(numero/5)\n",
        "numero = numero - (cinco*5)\n",
        "\n",
        "um = numero\n",
        "    \n",
        "print('Notas R$100,00 = ',cem)\n",
        "print('Notas R$ 50,00 = ',cinquenta)\n",
        "print('Notas R$ 10,00 = ',dez)\n",
        "print('Notas R$  5,00 = ',cinco)\n",
        "print('Notas R$  1,00 = ',um)"
      ],
      "execution_count": null,
      "outputs": [
        {
          "output_type": "stream",
          "name": "stdout",
          "text": [
            "Valor para sacar [10-600]: 562\n",
            "Notas R$100,00 =  5\n",
            "Notas R$ 50,00 =  1\n",
            "Notas R$ 10,00 =  1\n",
            "Notas R$  5,00 =  0\n",
            "Notas R$  1,00 =  2\n"
          ]
        }
      ]
    },
    {
      "cell_type": "markdown",
      "metadata": {
        "id": "oQcsWz4ozRif"
      },
      "source": [
        "## 22 --\tFaça um Programa que peça um número inteiro e determine se ele é par ou impar. Dica: utilize o operador módulo (resto da divisão)."
      ]
    },
    {
      "cell_type": "code",
      "metadata": {
        "id": "zDXwtlTgz37f"
      },
      "source": [],
      "execution_count": null,
      "outputs": []
    },
    {
      "cell_type": "markdown",
      "metadata": {
        "id": "y5jSSIfvz99J"
      },
      "source": [
        "## 23 --\tFaça um Programa que peça um número e informe se o número é inteiro ou decimal. Dica: utilize uma função de arredondamento."
      ]
    },
    {
      "cell_type": "code",
      "metadata": {
        "id": "cT0odG280Dl9"
      },
      "source": [],
      "execution_count": null,
      "outputs": []
    },
    {
      "cell_type": "markdown",
      "metadata": {
        "id": "yu4a_LMez-Cn"
      },
      "source": [
        "## 24 --\tFaça um Programa que peça um número e informe se o número é inteiro ou decimal. Dica: utilize uma função de arredondamento."
      ]
    },
    {
      "cell_type": "code",
      "metadata": {
        "id": "xYgkzHVWz-Cp"
      },
      "source": [],
      "execution_count": null,
      "outputs": []
    },
    {
      "cell_type": "markdown",
      "metadata": {
        "id": "sxdo27Fsz-GR"
      },
      "source": [
        "## 25 --\tFaça um programa que faça 5 perguntas para uma pessoa sobre um crime. As perguntas são:\n",
        "####•\t\"Telefonou para a vítima?\"\n",
        "####•\t\"Esteve no local do crime?\"\n",
        "####•\t\"Mora perto da vítima?\"\n",
        "####•\t\"Devia para a vítima?\"\n",
        "####•\t\"Já trabalhou com a vítima?\" O programa deve no final emitir uma classificação sobre a participação da pessoa no crime. Se a pessoa responder positivamente a 2 questões ela deve ser classificada como \"Suspeita\", entre 3 e 4 como \"Cúmplice\" e 5 como \"Assassino\". Caso contrário, ele será classificado como \"Inocente\".\n"
      ]
    },
    {
      "cell_type": "code",
      "metadata": {
        "id": "E_hup1Rpz-GR"
      },
      "source": [],
      "execution_count": null,
      "outputs": []
    },
    {
      "cell_type": "markdown",
      "metadata": {
        "id": "VR_Wfskyz-L0"
      },
      "source": [
        "## 26.\tUm posto está vendendo combustíveis com a seguinte tabela de descontos:\n",
        "##Álcool:\n",
        "####•\taté 20 litros, desconto de 3% por litro\n",
        "####•\tacima de 20 litros, desconto de 5% por litro\n",
        "##Gasolina:\n",
        "####•\taté 20 litros, desconto de 4% por litro\n",
        "####•\tacima de 20 litros, desconto de 6% por litro Escreva um algoritmo que leia o número de litros vendidos, o tipo de combustível (codificado da seguinte forma: A-álcool, G-gasolina), calcule e imprima o valor a ser pago pelo cliente sabendo-se que o preço do litro da gasolina é 2,50 reais e o preço do litro do álcool é 1,90 real.\n",
        "\n"
      ]
    },
    {
      "cell_type": "code",
      "metadata": {
        "id": "iueC-Eu3z-L1"
      },
      "source": [],
      "execution_count": null,
      "outputs": []
    },
    {
      "cell_type": "markdown",
      "metadata": {
        "id": "_z_DKDLnz-Sw"
      },
      "source": [
        "### 27 Uma fruteira está vendendo frutas com a seguinte tabela de preços\n",
        "\n",
        "Produto          | Até 5 kg               |  Acima de 5 Kg\n",
        ":-----------|:----------------------:|:----------------:\n",
        "Morango     | 2,50 reais por Kg      |  2,20 reais por Kg\n",
        "Maçã        | 1,80 real por Kg       |    1,50 real por Kg\n",
        "\n",
        "\n",
        "\n",
        "###Se o cliente comprar mais de 8 Kg em frutas ou o valor total da compra ultrapassar R$ 25,00, receberá ainda um desconto de 10% sobre este total. Escreva um algoritmo para ler a quantidade (em Kg) de morangos e a quantidade (em Kg) de maças adquiridas e escreva o valor a ser pago pelo cliente.\n",
        "\n"
      ]
    },
    {
      "cell_type": "code",
      "metadata": {
        "id": "H1mwr3fk3l5d"
      },
      "source": [],
      "execution_count": null,
      "outputs": []
    },
    {
      "cell_type": "markdown",
      "metadata": {
        "id": "avCkxBia1PgO"
      },
      "source": [
        "## 28 -- O Hipermercado Tabajara está com uma promoção de carnes que é imperdível. Confira:\n",
        "Produto   | Até 5 Kg   | Acima de 5 Kg\n",
        ":----------|:------------:|:-----------------------:\n",
        "File Duplo| 4,90 reais por Kg | 5,80 reais por Kg\n",
        "Alcatra |5,90 reais por Kg |  6,80 reais por Kg\n",
        "Picanha | 6,90 reais por Kg | 7,80 reais por Kg\n",
        "\n",
        "####Para atender a todos os clientes, cada cliente poderá levar apenas um dos tipos de carne da promoção, porém não há limites para a quantidade de carne por cliente. Se compra for feita no cartão Tabajara o cliente receberá ainda um desconto de 5% sobre o total da compra. Escreva um programa que peça o tipo e a quantidade de carne comprada pelo usuário e gere um cupom fiscal, contendo as informações da compra: tipo e quantidade de carne, preço total, tipo de pagamento, valor do desconto e valor a pagar.\n"
      ]
    },
    {
      "cell_type": "code",
      "metadata": {
        "id": "y2EJ2Jmh4zhG",
        "colab": {
          "base_uri": "https://localhost:8080/"
        },
        "outputId": "e2b287f6-e97f-4acf-9f21-012ac63fdad7"
      },
      "source": [
        "print(\"############### BEM VINDA AO HYPERMERCADO TABAJARA #######################\\n\",\n",
        "      \"Confira nossa programação de carnes:\\n\"\n",
        "      \"Cod - Nome\\tPreço até 5kg\\tAcima de 5kg\\n\",\n",
        "      \"1 - Filé Duplo\\tR$4,90 por Kg\\tR$5,80 por Kg\\n\",\n",
        "      \"2 - Alcatra\\tR$5,90 por Kg\\tR$6,80 por Kg\\n\",\n",
        "      \"3 - Picanha\\tR$6,90 por Kg\\tR$7,80 por Kg\\n\")\n",
        "      \n",
        "cartao = input(\"Vc tem Cartao(S = sim, N = não):\")\n",
        "if(cartao.upper() == 'S'):\n",
        "    desconto = 0.95\n",
        "else:\n",
        "    desconto = 1      \n",
        "      \n",
        "      \n",
        "print(\"\\nSelecione um tipo de carne para compra pelo código:\")\n",
        "\n",
        "    \n",
        "while(True):\n",
        "    codigo = input(\"Código => \")\n",
        "    \n",
        "    if(codigo in '123'):\n",
        "        quantidade = float(input(\"Digite a quantidade:\"))\n",
        "        print(\"\\n\\n######### NOTA FISCAL #########\\n\")\n",
        "        if(quantidade <= 5):\n",
        "            if(codigo == '1'):\n",
        "                print(\"Produto:\\tFilé Duplo\\nPreço por Kg:\\tR$ 4,90\\nQuantidade:\\t%.2f kg\\nPreço Total:\\tR$ %.2f\"%(quantidade,quantidade*4.90*desconto))\n",
        "            elif(codigo== '2'):\n",
        "                print(\"Produto:\\tAlcatra\\nPreço por Kg:\\tR$ 5,90\\nQuantidade:\\t%.2f kg\\nPreço Total:\\tR$ %.2f\"%(quantidade,quantidade*5.90*desconto))\n",
        "            else:\n",
        "                print(\"Produto:\\tPicanha\\nPreço por Kg:\\tR$ 6,90\\nQuantidade:\\t%.2f kg\\nPreço Total:\\tR$ %.2f\"%(quantidade,quantidade*6.90*desconto))\n",
        "        else:\n",
        "            if(codigo == '1'):\n",
        "                print(\"Produto:\\tFilé Duplo\\nPreço por Kg:\\tR$ 5,80\\nQuantidade:\\t%.2f kg\\nPreço Total:\\tR$ %.2f\"%(quantidade,quantidade*5.8*desconto))\n",
        "            elif(codigo== '2'):\n",
        "                print(\"Produto:\\tAlcatra\\nPreço por Kg:\\tR$ 6,80\\nQuantidade:\\t%.2f kg\\nPreço Total:\\tR$ %.2f\"%(quantidade,quantidade*6.8*desconto))\n",
        "            else:\n",
        "                print(\"Produto:\\tPicanha\\nPreço por Kg:\\tR$ 7,80\\nQuantidade:\\t%.2f kg\\nPreço Total:\\tR$ %.2f\"%(quantidade,quantidade*7.8*desconto))\n",
        "        \n",
        "        if(desconto == 0.95):\n",
        "            print(\"Pagamento:\\tCartão Tabajara\")\n",
        "        else:\n",
        "            print(\"Pagamento:\\tA vista\")\n",
        "        break\n",
        "            \n",
        "                \n",
        "           \n",
        "            \n",
        "            \n",
        "    else:\n",
        "        print(\"Número invalido! Digite Novamente!\")"
      ],
      "execution_count": null,
      "outputs": [
        {
          "output_type": "stream",
          "name": "stdout",
          "text": [
            "############### BEM VINDA AO HYPERMERCADO TABAJARA #######################\n",
            " Confira nossa programação de carnes:\n",
            "Cod - Nome\tPreço até 5kg\tAcima de 5kg\n",
            " 1 - Filé Duplo\tR$4,90 por Kg\tR$5,80 por Kg\n",
            " 2 - Alcatra\tR$5,90 por Kg\tR$6,80 por Kg\n",
            " 3 - Picanha\tR$6,90 por Kg\tR$7,80 por Kg\n",
            "\n",
            "Vc tem Cartao(S = sim, N = não):N\n",
            "\n",
            "Selecione um tipo de carne para compra pelo código:\n",
            "Código => 1\n",
            "Digite a quantidade:6\n",
            "\n",
            "\n",
            "######### NOTA FISCAL #########\n",
            "\n",
            "Produto:\tFilé Duplo\n",
            "Preço por Kg:\tR$ 5,80\n",
            "Quantidade:\t6.00 kg\n",
            "Preço Total:\tR$ 34.80\n",
            "Pagamento:\tA vista\n"
          ]
        }
      ]
    }
  ]
}