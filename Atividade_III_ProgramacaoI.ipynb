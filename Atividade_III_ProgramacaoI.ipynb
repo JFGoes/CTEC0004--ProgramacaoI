{
  "nbformat": 4,
  "nbformat_minor": 0,
  "metadata": {
    "colab": {
      "provenance": [],
      "collapsed_sections": [
        "H_8HiBVxFKJF",
        "vLOHqZiXFgq5",
        "U2nxxOiIGWdw",
        "e2Jh7Cs8Glfo",
        "mooeiJBfG5Bd",
        "KaVDDDsRHXfA",
        "6TCG-7xoASlX",
        "GytCZ2DVD02W",
        "So5fHfrEGjj_",
        "xqhls_3jMgzd",
        "I-etxRcVPlCt",
        "tUVLjrfIR0QT",
        "NW3OuURuTzWn",
        "n90UWMEYXstP",
        "nlDAfF--YSWd",
        "jkLGnfxhPsM5",
        "iT6TcTDcTwLp",
        "-CCuQ0H8U0j8",
        "GupxINChVRpQ",
        "VItv4YP-VqaW",
        "Ws3ThyZpVuvt",
        "ysUtnY_9WC2z",
        "YHbkaCv1WQvt",
        "n7lYqMOhWmEq",
        "iFdNdooeXE_S",
        "uUQ_D4MWXRzX",
        "qoKSHRztXYVn",
        "DVRpw8slXfNb",
        "ivbma1QRXlin"
      ],
      "authorship_tag": "ABX9TyP9Xstw1LUD64tlsivxu3Cm",
      "include_colab_link": true
    },
    "kernelspec": {
      "name": "python3",
      "display_name": "Python 3"
    }
  },
  "cells": [
    {
      "cell_type": "markdown",
      "metadata": {
        "id": "view-in-github",
        "colab_type": "text"
      },
      "source": [
        "<a href=\"https://colab.research.google.com/github/JFGoes/CTEC0004--ProgramacaoI/blob/master/Atividade_III_ProgramacaoI.ipynb\" target=\"_parent\"><img src=\"https://colab.research.google.com/assets/colab-badge.svg\" alt=\"Open In Colab\"/></a>"
      ]
    },
    {
      "cell_type": "markdown",
      "metadata": {
        "id": "mmHaxm48HEnL"
      },
      "source": [
        "# **Atividades III**"
      ]
    },
    {
      "cell_type": "code",
      "metadata": {
        "id": "Sl2pJulaG6nx"
      },
      "source": [],
      "execution_count": null,
      "outputs": []
    },
    {
      "cell_type": "markdown",
      "metadata": {
        "id": "L-MTz8OhYZhL"
      },
      "source": [
        "# III – Listas"
      ]
    },
    {
      "cell_type": "markdown",
      "metadata": {
        "id": "entihFT7b6Bk"
      },
      "source": [
        "## 1 --\tFaça um Programa que leia um vetor de 5 números inteiros e mostre-os."
      ]
    },
    {
      "cell_type": "code",
      "metadata": {
        "id": "GeffjzNFb_vy",
        "colab": {
          "base_uri": "https://localhost:8080/"
        },
        "outputId": "ec126a33-718c-40fd-ea4a-515d9c700a77"
      },
      "source": [
        "vetorlista = [9, 12, 19, 25, 28]\n",
        " \n",
        "i = 0\n",
        "while i < len(vetorlista):\n",
        "    print(vetorlista[i])\n",
        "    i = i + 1"
      ],
      "execution_count": 1,
      "outputs": [
        {
          "output_type": "stream",
          "name": "stdout",
          "text": [
            "9\n",
            "12\n",
            "19\n",
            "25\n",
            "28\n"
          ]
        }
      ]
    },
    {
      "cell_type": "markdown",
      "metadata": {
        "id": "7eaRVg4jcBrx"
      },
      "source": [
        "##2 -- Faça um Programa que leia um vetor de 10 números reais e mostre-os na ordem inversa."
      ]
    },
    {
      "cell_type": "code",
      "metadata": {
        "id": "3vQxuMhwCkDL"
      },
      "source": [],
      "execution_count": null,
      "outputs": []
    },
    {
      "cell_type": "markdown",
      "metadata": {
        "id": "o2x_trTwDhbI"
      },
      "source": [
        "## 3 -- Faça um Programa que leia 4 notas, mostre as notas e a média na tela.\n"
      ]
    },
    {
      "cell_type": "code",
      "metadata": {
        "id": "G4SolEDDD8Lr",
        "colab": {
          "base_uri": "https://localhost:8080/"
        },
        "outputId": "810c6acb-af72-407c-b419-19a27583f305"
      },
      "source": [
        "notas = [int(input(\"Digite a nota \"+str(x+1)+\" \" ) ) for x in range(4)]\n",
        "print(\"Segue as notas\", notas)\n",
        "print(\"Segue a média\", sum(notas)/4) "
      ],
      "execution_count": 3,
      "outputs": [
        {
          "output_type": "stream",
          "name": "stdout",
          "text": [
            "Digite a nota 1 56\n",
            "Digite a nota 2 89\n",
            "Digite a nota 3 78\n",
            "Digite a nota 4 50\n",
            "Segue as notas [56, 89, 78, 50]\n",
            "Segue a média 68.25\n"
          ]
        }
      ]
    },
    {
      "cell_type": "markdown",
      "metadata": {
        "id": "N8Q2HznKD93V"
      },
      "source": [
        "## 4 -- Faça um Programa que leia um vetor de 10 caracteres, e diga quantas consoantes foram lidas. Imprima as consoantes.\n"
      ]
    },
    {
      "cell_type": "code",
      "metadata": {
        "id": "O_M_AbXnEYzC"
      },
      "source": [],
      "execution_count": null,
      "outputs": []
    },
    {
      "cell_type": "markdown",
      "metadata": {
        "id": "zqtr6mx8Efoj"
      },
      "source": [
        "## 5 -- Faça um Programa que leia 20 números inteiros e armazene-os num vetor. Armazene os números pares no vetor PAR e os números IMPARES no vetor impar. Imprima os três vetores.\n"
      ]
    },
    {
      "cell_type": "code",
      "metadata": {
        "id": "PsDusn1uEsHc"
      },
      "source": [
        "#Crie 3 vetores, uma para a lista, outro para os números pares e outra para o ímpares\n",
        "lista_num = []\n",
        "lista_pares = []\n",
        "lista_impares = []"
      ],
      "execution_count": null,
      "outputs": []
    },
    {
      "cell_type": "markdown",
      "metadata": {
        "id": "cWeUfnMHEwd3"
      },
      "source": [
        "## 6 -- Faça um Programa que peça as quatro notas de 10 alunos, calcule e armazene num vetor a média de cada aluno, imprima o número de alunos com média maior ou igual a 7.0.\n"
      ]
    },
    {
      "cell_type": "code",
      "metadata": {
        "id": "jINhnQiAFFMw"
      },
      "source": [],
      "execution_count": null,
      "outputs": []
    },
    {
      "cell_type": "markdown",
      "metadata": {
        "id": "H_8HiBVxFKJF"
      },
      "source": [
        "## 7 --Faça um Programa que leia um vetor de 5 números inteiros, mostre a soma, a multiplicação e os números.\n"
      ]
    },
    {
      "cell_type": "code",
      "metadata": {
        "id": "TK44vu3ZFYLz"
      },
      "source": [],
      "execution_count": null,
      "outputs": []
    },
    {
      "cell_type": "markdown",
      "metadata": {
        "id": "vLOHqZiXFgq5"
      },
      "source": [
        "## 8 -- Faça um Programa que peça a idade e a altura de 5 pessoas, armazene cada informação no seu respectivo vetor. Imprima a idade e a altura na ordem inversa a ordem lida.\n"
      ]
    },
    {
      "cell_type": "code",
      "metadata": {
        "id": "kh7xnRQeF105"
      },
      "source": [],
      "execution_count": null,
      "outputs": []
    },
    {
      "cell_type": "markdown",
      "metadata": {
        "id": "q00ogXYSF63r"
      },
      "source": [
        "## 9 -- Faça um Programa que leia um vetor A com 10 números inteiros, calcule e mostre a soma dos quadrados dos elementos do vetor.\n"
      ]
    },
    {
      "cell_type": "code",
      "metadata": {
        "id": "zJA_xghEGUhv",
        "colab": {
          "base_uri": "https://localhost:8080/"
        },
        "outputId": "f6418db4-02e7-4eb1-e32a-b721d336147c"
      },
      "source": [
        "vetorA = []\n",
        "soma = 0\n",
        "for numero in range(0,10):\n",
        "  vetorA.append(int(input(\"digite um número \"+ str(numero+1)+\": \")))\n",
        "  soma = soma + vetorA[len(vetorA)-1]**2\n",
        "\n",
        "print(\"A soma dos quadrados dos vetores dos elementos do vetor A é \" + str(soma))"
      ],
      "execution_count": 8,
      "outputs": [
        {
          "output_type": "stream",
          "name": "stdout",
          "text": [
            "digite um número 1: 23\n",
            "digite um número 2: 12\n",
            "digite um número 3: 45\n",
            "digite um número 4: 56\n",
            "digite um número 5: 78\n",
            "digite um número 6: 56\n",
            "digite um número 7: 12\n",
            "digite um número 8: 23\n",
            "digite um número 9: 12\n",
            "digite um número 10: 12\n",
            "A soma dos quadrados dos vetores dos elementos do vetor A é 16015\n"
          ]
        }
      ]
    },
    {
      "cell_type": "markdown",
      "metadata": {
        "id": "U2nxxOiIGWdw"
      },
      "source": [
        "## 10 -- Faça um Programa que leia dois vetores com 10 elementos cada. Gere um terceiro vetor de 20 elementos, cujos valores deverão ser compostos pelos elementos intercalados dos dois outros vetores.\n"
      ]
    },
    {
      "cell_type": "code",
      "metadata": {
        "id": "4-ggQcSYGiM0"
      },
      "source": [],
      "execution_count": null,
      "outputs": []
    },
    {
      "cell_type": "markdown",
      "metadata": {
        "id": "e2Jh7Cs8Glfo"
      },
      "source": [
        "## 11 -- Altere o programa anterior, intercalando 3 vetores de 10 elementos cada.\n"
      ]
    },
    {
      "cell_type": "code",
      "metadata": {
        "id": "gnBQrywDGyBf"
      },
      "source": [],
      "execution_count": null,
      "outputs": []
    },
    {
      "cell_type": "markdown",
      "metadata": {
        "id": "mooeiJBfG5Bd"
      },
      "source": [
        "## 12 -- Foram anotadas as idades e alturas de 30 alunos. Faça um Programa que determine quantos alunos com mais de 13 anos possuem altura inferior à média de altura desses alunos."
      ]
    },
    {
      "cell_type": "code",
      "metadata": {
        "id": "8Ux_zdrjHIdz"
      },
      "source": [],
      "execution_count": null,
      "outputs": []
    },
    {
      "cell_type": "markdown",
      "metadata": {
        "id": "KaVDDDsRHXfA"
      },
      "source": [
        "## 13 -- Faça um programa que receba a temperatura média de cada mês do ano e armazene-as em uma lista. Após isto, calcule a média anual das temperaturas e mostre todas as temperaturas acima da média anual, e em que mês elas ocorreram (mostrar o mês por extenso: 1 – Janeiro, 2 – Fevereiro, . . . ).\n"
      ]
    },
    {
      "cell_type": "code",
      "metadata": {
        "id": "0c0g-PX7HgBK"
      },
      "source": [],
      "execution_count": null,
      "outputs": []
    },
    {
      "cell_type": "markdown",
      "metadata": {
        "id": "6TCG-7xoASlX"
      },
      "source": [
        "## 14 -- Utilizando listas faça um programa que faça 5 perguntas para uma pessoa sobre um crime. As perguntas são:\n",
        "a.\"Telefonou para a vítima?\"\n",
        "\n",
        "b. \"Esteve no local do crime?\"\n",
        "\n",
        "c. \"Mora perto da vítima?\"\n",
        "\n",
        "d.\"Devia para a vítima?\"\n",
        "\n",
        "e.\"Já trabalhou com a vítima?\"\n",
        "\n",
        "a.\"Telefonou para a vítima?\"\n",
        "\n",
        "b. \"Esteve no local do crime?\"\n",
        "\n",
        "c. \"Mora perto da vítima?\"\n",
        "\n",
        "d.\"Devia para a vítima?\"\n",
        "\n",
        "e.\"Já trabalhou com a vítima?\"\n",
        "\n",
        " O programa deve no final emitir uma classificação sobre a participação da pessoa no crime. Se a pessoa responder positivamente a 2 questões ela deve ser classificada como \"Suspeita\", entre 3 e 4 como \"Cúmplice\" e 5 como \"Assassino\". Caso contrário, ele será classificado como \"Inocente\".\n",
        " "
      ]
    },
    {
      "cell_type": "code",
      "metadata": {
        "id": "m15C7NBiBgBK"
      },
      "source": [],
      "execution_count": null,
      "outputs": []
    },
    {
      "cell_type": "markdown",
      "metadata": {
        "id": "GytCZ2DVD02W"
      },
      "source": [
        "## 15 -- Faça um programa que leia um número indeterminado de valores, correspondentes a notas, encerrando a entrada de dados quando for informado um valor igual a -1 (que não deve ser armazenado). Após esta entrada de dados, faça:\n",
        "Mostre a quantidade de valores que foram lidos;\n",
        ".Exiba todos os valores na ordem em que foram informados, um ao lado do outro;\n",
        "\n",
        ".Exiba todos os valores na ordem inversa à que foram informados, um abaixo do outro;\n",
        "\n",
        ".Calcule e mostre a soma dos valores;\n",
        "\n",
        ".Calcule e mostre a média dos valores;\n",
        "\n",
        ".Calcule e mostre a quantidade de valores acima da média calculada;\n",
        "\n",
        ".Calcule e mostre a quantidade de valores abaixo de sete;\n",
        "\n",
        ".Encerre o programa com uma mensagem;\n"
      ]
    },
    {
      "cell_type": "code",
      "metadata": {
        "id": "H9aUOFuFD-Wq"
      },
      "source": [],
      "execution_count": null,
      "outputs": []
    },
    {
      "cell_type": "markdown",
      "metadata": {
        "id": "So5fHfrEGjj_"
      },
      "source": [
        "#### 16 -- Utilize uma lista para resolver o problema a seguir. Uma empresa paga seus vendedores com base em comissões. O vendedor recebe $\\$200$ por semana mais 9 por cento de suas vendas brutas daquela semana. Por exemplo, um vendedor que teve vendas brutas de $\\$3000$ em uma semana recebe $\\$200$ mais 9 por cento de $\\$3000$, ou seja, um total de $\\$470$. Escreva um programa (usando um array de contadores) que determine quantos vendedores receberam salários nos seguintes intervalos de valores:\n",
        "a. $\\$200 - \\$299$</br>\n",
        "b. $\\$300 - \\$399$</br>\n",
        "c. $\\$400 - \\$499$</br>\n",
        "d. $\\$500 - \\$599$</br>\n",
        "e. $\\$600 - \\$699$</br>\n",
        "f. $\\$700 - \\$799$</br>\n",
        "g. $\\$800 - \\$899$</br>\n",
        "h. $\\$900 - \\$999$</br>\n",
        "i. $\\$1000$ em diante\n",
        "\n",
        "**Desafio:** Crie ma fórmula para chegar na posição da lista a partir do salário, sem fazer vários ifs aninhados.\n"
      ]
    },
    {
      "cell_type": "code",
      "metadata": {
        "id": "BNJLquQ9M2XU"
      },
      "source": [],
      "execution_count": null,
      "outputs": []
    },
    {
      "cell_type": "markdown",
      "metadata": {
        "id": "xqhls_3jMgzd"
      },
      "source": [
        "## 17 -- Em uma competição de salto em distância cada atleta tem direito a cinco saltos. O resultado do atleta será determinado pela média dos cinco valores restantes. Você deve fazer um programa que receba o nome e as cinco distâncias alcançadas pelo atleta em seus saltos e depois informe o nome, os saltos e a média dos saltos. O programa deve ser encerrado quando não for informado o nome do atleta. A saída do programa deve ser conforme o exemplo abaixo:\n",
        "Atleta: Rodrigo Curvêllo\n",
        " \n",
        "Primeiro Salto: 6.5 m\n",
        " \n",
        "Segundo Salto: 6.1 m\n",
        " \n",
        "Terceiro Salto: 6.2 m\n",
        " \n",
        "Quarto Salto: 5.4 m\n",
        " \n",
        "Quinto Salto: 5.3 m\n",
        " \n",
        "Resultado final:\n",
        "Atleta: Rodrigo Curvêllo\n",
        " \n",
        "Saltos: 6.5 - 6.1 - 6.2 - 5.4 - 5.3\n",
        " \n",
        "Média dos saltos: 5.9 m\n"
      ]
    },
    {
      "cell_type": "code",
      "metadata": {
        "id": "bWTbSQ5rM-Oj"
      },
      "source": [],
      "execution_count": null,
      "outputs": []
    },
    {
      "cell_type": "markdown",
      "metadata": {
        "id": "I-etxRcVPlCt"
      },
      "source": [
        "## 18 -- Uma grande emissora de televisão quer fazer uma enquete entre os seus telespectadores para saber qual o melhor jogador após cada jogo. Para isto, faz-se necessário o desenvolvimento de um programa, que será utilizado pelas telefonistas, para a computação dos votos. Sua equipe foi contratada para desenvolver este programa, utilizando a linguagem de programação C++. Para computar cada voto, a telefonista digitará um número, entre 1 e 23, correspondente ao número da camisa do jogador. Um número de jogador igual zero, indica que a votação foi encerrada. Se um número inválido for digitado, o programa deve ignorá-lo, mostrando uma breve mensagem de aviso, e voltando a pedir outro número. Após o final da votação, o programa deverá exibir:\n",
        ".O total de votos computados;\n",
        "\n",
        ".Os númeos e respectivos votos de todos os jogadores que receberam votos;\n",
        "\n",
        ".O percentual de votos de cada um destes jogadores;\n",
        "\n",
        ".O número do jogador escolhido como o melhor jogador da partida, juntamente com o número de votos e o percentual de votos dados a ele.\n",
        "\n",
        ".Observe que os votos inválidos e o zero final não devem ser computados como votos. O resultado aparece ordenado pelo número do jogador. O programa deve fazer uso de arrays. O programa deverá executar o cálculo do percentual de cada jogador através de uma função. Esta função receberá dois parâmetros: o número de votos de um jogador e o total de votos. A função calculará o percentual e retornará o valor calculado. Abaixo segue uma tela de exemplo. O disposição das informações deve ser o mais próxima possível ao exemplo. Os dados são fictícios e podem mudar a cada execução do programa. Ao final, o programa deve ainda gravar os dados referentes ao resultado da votação em um arquivo texto no disco, obedecendo a mesma disposição apresentada na tela.\n",
        "Enquete: Quem foi o melhor jogador?\n",
        " \n",
        "Número do jogador (0=fim): 9\n",
        " \n",
        "Número do jogador (0=fim): 10\n",
        " \n",
        "Número do jogador (0=fim): 9\n",
        " \n",
        "Número do jogador (0=fim): 10\n",
        " \n",
        "Número do jogador (0=fim): 11\n",
        " \n",
        "Número do jogador (0=fim): 10\n",
        " \n",
        "Número do jogador (0=fim): 50\n",
        " \n",
        "Informe um valor entre 1 e 23 ou 0 para sair!\n",
        "Número do jogador (0=fim): 9\n",
        " \n",
        "Número do jogador (0=fim): 9\n",
        " \n",
        "Número do jogador (0=fim): 0\n",
        " \n",
        "Resultado da votação:\n",
        " \n",
        "Foram computados 8 votos.\n",
        " \n",
        "Jogador         Votos           %\n",
        " \n",
        "9               4              50,0%\n",
        " \n",
        "10              3              37,5%\n",
        " \n",
        "11              1              12,5%\n",
        " \n",
        "O melhor jogador foi o número 9, com 4 votos, correspondendo a 50% do total de votos.\n",
        "nde"
      ]
    },
    {
      "cell_type": "code",
      "metadata": {
        "id": "eqkD0bIjP1yA"
      },
      "source": [],
      "execution_count": null,
      "outputs": []
    },
    {
      "cell_type": "markdown",
      "metadata": {
        "id": "tDs2r-EyRbpT"
      },
      "source": [
        "## 19 -- Uma empresa de pesquisas precisa tabular os resultados da seguinte enquete feita a um grande quantidade de organizações:\n",
        "\"Qual o melhor Sistema Operacional para uso em servidores?\"\n",
        " \n",
        "As possíveis respostas são:\n",
        " \n",
        "1- Windows Server\n",
        " \n",
        "2- Unix\n",
        " \n",
        "3- Linux\n",
        " \n",
        "4- Netware\n",
        " \n",
        "5- Mac OS\n",
        " \n",
        "6- Outro\n",
        " \n",
        "Você foi contratado para desenvolver um programa que leia o resultado da enquete e informe ao final o resultado da mesma. O programa deverá ler os valores até ser informado o valor 0, que encerra a entrada dos dados. Não deverão ser aceitos valores além dos válidos para o programa (0 a 6). Os valores referentes a cada uma das opções devem ser armazenados num vetor. Após os dados terem sido completamente informados, o programa deverá calcular a percentual de cada um dos concorrentes e informar o vencedor da enquete. O formato da saída foi dado pela empresa, e é o seguinte:\n",
        "Sistema Operacional     Votos   %\n",
        "-------------------     -----   ---\n",
        "Windows Server           1500   17%\n",
        " \n",
        "Unix                     3500   40%\n",
        " \n",
        "Linux                    3000   34%\n",
        " \n",
        "Netware                   500    5%\n",
        " \n",
        "Mac OS                    150    2%\n",
        " \n",
        "Outro                     150    2%\n",
        "-------------------     -----\n",
        "Total                    8800\n",
        " \n",
        "O Sistema Operacional mais votado foi o Unix, com 3500 votos, correspondendo a 40% dos votos.\n",
        "pres"
      ]
    },
    {
      "cell_type": "code",
      "metadata": {
        "id": "E5RuGaSERuWw",
        "colab": {
          "base_uri": "https://localhost:8080/",
          "height": 574
        },
        "outputId": "2229c623-90c8-40b6-98dc-7ea37ba90bac"
      },
      "source": [
        "from prettytable import PrettyTable\n",
        "# Criando tabela de números-sistemas\n",
        "tabela_sistemas = PrettyTable([\"Nº\", \"SISTEMA OPERACIONAL\"])\n",
        "\n",
        "# Alinhando colunas à esquerda (left)\n",
        "tabela_sistemas.align[\"Nº\"] = \"l\"\n",
        "tabela_sistemas.align[\"SISTEMA OPERACIONAL\"] = \"l\"\n",
        "\n",
        "# Deixando espaço entre borda da coluna e conteúdo\n",
        "tabela_sistemas.padding_width = 1\n",
        "\n",
        "#Adicionando linhas à tabela\n",
        "tabela_sistemas.add_row([\"[1]\",\"Windows Server\"]) \n",
        "tabela_sistemas.add_row([\"[2]\",\"Unix\"]) \n",
        "tabela_sistemas.add_row([\"[3]\",\"Linux\"]) \n",
        "tabela_sistemas.add_row([\"[4]\",\"Netware\"]) \n",
        "tabela_sistemas.add_row([\"[5]\",\"Mac OS\"])\n",
        "tabela_sistemas.add_row([\"[6]\",\"Outro\"]) \n",
        "tabela_sistemas.add_row([\"[0]\",\"Encerrar enquete\"]) \n",
        "\n",
        "#Impressão da tabela de sistemas\n",
        "print(tabela_sistemas)\n",
        "\n",
        "#Dicionário de votos válidos\n",
        "dic_votos = {1 : \"Windows Server\", 2 : \"Unix\", 3 : \"Linux\", 4 : \"Netware\", 5 : \"Mac OS\", 6 : \"Outro\"}\n",
        "\n",
        "#Lista de votos válidos\n",
        "votos_válidos = [0,1,2,3,4,5,6]\n",
        "votos_resultados = [0,0,0,0,0,0]\n",
        "votos_resultados2 = [0,0,0,0,0,0]\n",
        "\n",
        "#Leitura dos votos\n",
        "verifica =  False\n",
        "while verifica == False:\n",
        "  voto = input(\"\\nNº do voto: \")\n",
        "  try: \n",
        "    voto = int(voto)\n",
        "    if voto in votos_válidos and voto != 0:\n",
        "      print(\"\\nVoto em \" + dic_votos[voto]  + \" validado.\")\n",
        "      n = voto\n",
        "      votos_resultados[n-1] += 1 #Adicionando votos à contagem\n",
        "      votos_resultados2[n-1] += 1 #Adiconando votos à contagem que será colocada em ordem crescente\n",
        "    elif voto in votos_válidos and voto == 0:\n",
        "      print(\"\\nEnquete encerrada. \\n\")\n",
        "      verifica = True\n",
        "    else:\n",
        "      print(\"\\nVoto inválido. Por favor, escolha um número da tabela.\")\n",
        "  except:\n",
        "    print(\"\\nVoto inválido. Por favor, escolha um número da tabela.\")\n",
        "\n",
        "#Cálculo da porcentagem\n",
        "total_votos = sum(votos_resultados)\n",
        "porcentagem_lista = [0,0,0,0,0,0]\n",
        "z = 0\n",
        "for i in range (len(votos_resultados)):\n",
        "  porcentagem = (votos_resultados[z]/total_votos)\n",
        "  porcentagem2 = round(porcentagem, 2)\n",
        "  porcentagem2 = porcentagem2*100\n",
        "  porcentagem_lista[z] = porcentagem244444\n",
        "  z += 1\n",
        "\n",
        "#Exibição dos resultados\n",
        "# Criando tabela de números-resultados-número de votos - porcentagem\n",
        "tabela_resultados = PrettyTable([\"SISTEMA OPERACIONAL\", \"Nº DE VOTOS\", \"%\"])\n",
        "\n",
        "# Alinhando colunas à esquerda (left)\n",
        "tabela_resultados.align[\"SISTEMA OPERACIONAL\"] = \"l\"\n",
        "tabela_resultados.align[\"Nº DE VOTOS\"] = \"l\"\n",
        "tabela_resultados.align[\"%\"] = \"l\"\n",
        "\n",
        "# Deixando espaço entre borda da coluna e conteúdo\n",
        "tabela_resultados.padding_width = 1\n",
        "\n",
        "#Adicionando linhas à tabela\n",
        "tabela_resultados.add_row([\"Windows Server\", votos_resultados[0], str(porcentagem_lista[0]) + \"%\"]) \n",
        "tabela_resultados.add_row([\"Unix\", votos_resultados[1], str(porcentagem_lista[1]) + \"%\"]) \n",
        "tabela_resultados.add_row([\"Linux\", votos_resultados[2], str(porcentagem_lista[2]) + \"%\"])\n",
        "tabela_resultados.add_row([\"Netware\", votos_resultados[3], str(porcentagem_lista[3]) + \"%\"])\n",
        "tabela_resultados.add_row([\"Mac OS\", votos_resultados[4], str(porcentagem_lista[4]) + \"%\"])\n",
        "tabela_resultados.add_row([\"Outro\", votos_resultados[5], str(porcentagem_lista[5]) + \"%\"])\n",
        "\n",
        "print(tabela_resultados)\n",
        "\n",
        "# Criando tabela total de votos\n",
        "tabela_total = PrettyTable([\"TOTAL DE VOTOS\", total_votos])\n",
        "\n",
        "print(tabela_total)\n",
        "\n",
        "votos_resultados2.sort() #Colocando a lista de resultados2 em ordem crescente para reconhecer o mais votado\n",
        "mais_votado = votos_resultados2[5] #Já em ordem crescente, verifiquei qual o último elemento, ou seja, o maior, que obteve mais votos\n",
        "vencedor = dic_votos[votos_resultados.index(mais_votado) + 1] #Procurando o mais votado no dicionário de sistemas operacionais\n",
        "\n",
        "porcentagem_lista.sort() #Colocando as porcentagens em ordem crescente\n",
        "maior_percentual = porcentagem_lista[5] #Determinando a maior porcentagem\n",
        "\n",
        "#Verificando possibilidade de empate\n",
        "if maior_percentual == porcentagem_lista[4]:\n",
        "  empate = True\n",
        "else: \n",
        "  empate = False\n",
        "\n",
        "#Análise do resultado\n",
        "if empate == True:\n",
        "  print(\"\\nHouve um empate na enquete. Verifique a tabela para visualizar os mais votados.\")\n",
        "else:\n",
        "  print(\"\\nO sistema operacional mais votado foi o \" + vencedor + \" com \" + str(maior_percentual) + \"% dos votos\" + \", totalizando \" + str(mais_votado) + \" votos.\")"
      ],
      "execution_count": 9,
      "outputs": [
        {
          "output_type": "stream",
          "name": "stdout",
          "text": [
            "+-----+---------------------+\n",
            "| Nº  | SISTEMA OPERACIONAL |\n",
            "+-----+---------------------+\n",
            "| [1] | Windows Server      |\n",
            "| [2] | Unix                |\n",
            "| [3] | Linux               |\n",
            "| [4] | Netware             |\n",
            "| [5] | Mac OS              |\n",
            "| [6] | Outro               |\n",
            "| [0] | Encerrar enquete    |\n",
            "+-----+---------------------+\n"
          ]
        },
        {
          "output_type": "error",
          "ename": "KeyboardInterrupt",
          "evalue": "ignored",
          "traceback": [
            "\u001b[0;31m---------------------------------------------------------------------------\u001b[0m",
            "\u001b[0;31mKeyboardInterrupt\u001b[0m                         Traceback (most recent call last)",
            "\u001b[0;32m<ipython-input-9-e343b4e63bc0>\u001b[0m in \u001b[0;36m<module>\u001b[0;34m\u001b[0m\n\u001b[1;32m     33\u001b[0m \u001b[0mverifica\u001b[0m \u001b[0;34m=\u001b[0m  \u001b[0;32mFalse\u001b[0m\u001b[0;34m\u001b[0m\u001b[0;34m\u001b[0m\u001b[0m\n\u001b[1;32m     34\u001b[0m \u001b[0;32mwhile\u001b[0m \u001b[0mverifica\u001b[0m \u001b[0;34m==\u001b[0m \u001b[0;32mFalse\u001b[0m\u001b[0;34m:\u001b[0m\u001b[0;34m\u001b[0m\u001b[0;34m\u001b[0m\u001b[0m\n\u001b[0;32m---> 35\u001b[0;31m   \u001b[0mvoto\u001b[0m \u001b[0;34m=\u001b[0m \u001b[0minput\u001b[0m\u001b[0;34m(\u001b[0m\u001b[0;34m\"\\nNº do voto: \"\u001b[0m\u001b[0;34m)\u001b[0m\u001b[0;34m\u001b[0m\u001b[0;34m\u001b[0m\u001b[0m\n\u001b[0m\u001b[1;32m     36\u001b[0m   \u001b[0;32mtry\u001b[0m\u001b[0;34m:\u001b[0m\u001b[0;34m\u001b[0m\u001b[0;34m\u001b[0m\u001b[0m\n\u001b[1;32m     37\u001b[0m     \u001b[0mvoto\u001b[0m \u001b[0;34m=\u001b[0m \u001b[0mint\u001b[0m\u001b[0;34m(\u001b[0m\u001b[0mvoto\u001b[0m\u001b[0;34m)\u001b[0m\u001b[0;34m\u001b[0m\u001b[0;34m\u001b[0m\u001b[0m\n",
            "\u001b[0;32m/usr/local/lib/python3.7/dist-packages/ipykernel/kernelbase.py\u001b[0m in \u001b[0;36mraw_input\u001b[0;34m(self, prompt)\u001b[0m\n\u001b[1;32m    861\u001b[0m             \u001b[0mself\u001b[0m\u001b[0;34m.\u001b[0m\u001b[0m_parent_ident\u001b[0m\u001b[0;34m,\u001b[0m\u001b[0;34m\u001b[0m\u001b[0;34m\u001b[0m\u001b[0m\n\u001b[1;32m    862\u001b[0m             \u001b[0mself\u001b[0m\u001b[0;34m.\u001b[0m\u001b[0m_parent_header\u001b[0m\u001b[0;34m,\u001b[0m\u001b[0;34m\u001b[0m\u001b[0;34m\u001b[0m\u001b[0m\n\u001b[0;32m--> 863\u001b[0;31m             \u001b[0mpassword\u001b[0m\u001b[0;34m=\u001b[0m\u001b[0;32mFalse\u001b[0m\u001b[0;34m,\u001b[0m\u001b[0;34m\u001b[0m\u001b[0;34m\u001b[0m\u001b[0m\n\u001b[0m\u001b[1;32m    864\u001b[0m         )\n\u001b[1;32m    865\u001b[0m \u001b[0;34m\u001b[0m\u001b[0m\n",
            "\u001b[0;32m/usr/local/lib/python3.7/dist-packages/ipykernel/kernelbase.py\u001b[0m in \u001b[0;36m_input_request\u001b[0;34m(self, prompt, ident, parent, password)\u001b[0m\n\u001b[1;32m    902\u001b[0m             \u001b[0;32mexcept\u001b[0m \u001b[0mKeyboardInterrupt\u001b[0m\u001b[0;34m:\u001b[0m\u001b[0;34m\u001b[0m\u001b[0;34m\u001b[0m\u001b[0m\n\u001b[1;32m    903\u001b[0m                 \u001b[0;31m# re-raise KeyboardInterrupt, to truncate traceback\u001b[0m\u001b[0;34m\u001b[0m\u001b[0;34m\u001b[0m\u001b[0;34m\u001b[0m\u001b[0m\n\u001b[0;32m--> 904\u001b[0;31m                 \u001b[0;32mraise\u001b[0m \u001b[0mKeyboardInterrupt\u001b[0m\u001b[0;34m(\u001b[0m\u001b[0;34m\"Interrupted by user\"\u001b[0m\u001b[0;34m)\u001b[0m \u001b[0;32mfrom\u001b[0m \u001b[0;32mNone\u001b[0m\u001b[0;34m\u001b[0m\u001b[0;34m\u001b[0m\u001b[0m\n\u001b[0m\u001b[1;32m    905\u001b[0m             \u001b[0;32mexcept\u001b[0m \u001b[0mException\u001b[0m \u001b[0;32mas\u001b[0m \u001b[0me\u001b[0m\u001b[0;34m:\u001b[0m\u001b[0;34m\u001b[0m\u001b[0;34m\u001b[0m\u001b[0m\n\u001b[1;32m    906\u001b[0m                 \u001b[0mself\u001b[0m\u001b[0;34m.\u001b[0m\u001b[0mlog\u001b[0m\u001b[0;34m.\u001b[0m\u001b[0mwarning\u001b[0m\u001b[0;34m(\u001b[0m\u001b[0;34m\"Invalid Message:\"\u001b[0m\u001b[0;34m,\u001b[0m \u001b[0mexc_info\u001b[0m\u001b[0;34m=\u001b[0m\u001b[0;32mTrue\u001b[0m\u001b[0;34m)\u001b[0m\u001b[0;34m\u001b[0m\u001b[0;34m\u001b[0m\u001b[0m\n",
            "\u001b[0;31mKeyboardInterrupt\u001b[0m: Interrupted by user"
          ]
        }
      ]
    },
    {
      "cell_type": "markdown",
      "metadata": {
        "id": "tUVLjrfIR0QT"
      },
      "source": [
        "## 20 -- As Organizações Tabajara resolveram dar um abono aos seus colaboradores em reconhecimento ao bom resultado alcançado durante o ano que passou. Para isto contratou você para desenvolver a aplicação que servirá como uma projeção de quanto será gasto com o pagamento deste abono.\n",
        "\n",
        "Após reuniões envolvendo a diretoria executiva, a diretoria financeira e os representantes do sindicato laboral, chegou-se a seguinte forma de cálculo:\n",
        "a.Cada funcionário receberá o equivalente a 20% do seu salário bruto de dezembro; a.O piso do abono será de 100 reais, isto é, aqueles funcionários cujo salário for muito baixo, recebem este valor mínimo; Neste momento, não se deve ter nenhuma preocupação com colaboradores com tempo menor de casa, descontos, impostos ou outras particularidades. Seu programa deverá permitir a digitação do salário de um número indefinido (desconhecido) de salários. Um valor de salário igual a 0 (zero) encerra a digitação. Após a entrada de todos os dados o programa deverá calcular o valor do abono concedido a cada colaborador, de acordo com a regra definida acima. Ao final, o programa deverá apresentar:\n",
        "\n",
        ".O salário de cada funcionário, juntamente com o valor do abono;\n",
        "\n",
        ".O número total de funcionário processados;\n",
        "\n",
        ".O valor total a ser gasto com o pagamento do abono;\n",
        "\n",
        ".O número de funcionário que receberá o valor mínimo de 100 reais;\n",
        "\n",
        ".O maior valor pago como abono; \n",
        ".A tela abaixo é um exemplo de execução do programa, apenas para fins ilustrativos.\n",
        " Os valores podem mudar a cada execução do programa.\n",
        "Projeção de Gastos com Abono\n",
        "============================\n",
        " \n",
        "Salário: 1000\n",
        " \n",
        "Salário: 300\n",
        " \n",
        "Salário: 500\n",
        " \n",
        "Salário: 100\n",
        " \n",
        "Salário: 4500\n",
        " \n",
        "Salário: 0\n",
        " \n",
        " \n",
        "Salário    - Abono     \n",
        " \n",
        "R$ 1000.00 - R$  200.00\n",
        " \n",
        "R$  300.00 - R$  100.00\n",
        " \n",
        "R$  500.00 - R$  100.00\n",
        " \n",
        "R$  100.00 - R$  100.00\n",
        " \n",
        "R$ 4500.00 - R$  900.00\n",
        " \n",
        " \n",
        "Foram processados 5 colaboradores\n",
        " \n",
        "Total gasto com abonos: R$ 1400.00\n",
        " \n",
        "Valor mínimo pago a 3 colaboradores\n",
        " \n",
        "Maior valor de abono pago: R$ 900.00\n",
        "nizações Taba"
      ]
    },
    {
      "cell_type": "code",
      "metadata": {
        "id": "-loHAGUSSj-d"
      },
      "source": [],
      "execution_count": null,
      "outputs": []
    },
    {
      "cell_type": "markdown",
      "metadata": {
        "id": "OAbaBcCTSpIV"
      },
      "source": [
        "## 21 -- Faça um programa que carregue uma lista com os modelos de cinco carros (exemplo de modelos: FUSCA, GOL, VECTRA etc). Carregue uma outra lista com o consumo desses carros, isto é, quantos quilômetros cada um desses carros faz com um litro de combustível. Calcule e mostre:\n",
        ".O modelo do carro mais econômico;\n",
        "\n",
        ".Quantos litros de combustível cada um dos carros cadastrados consome para percorrer uma distância de 1000 quilômetros e quanto isto custará, considerando um que a gasolina custe R$ 2,25 o litro. Abaixo segue uma tela de exemplo. O disposição das informações deve ser o mais próxima possível ao exemplo. Os dados são fictícios e podem mudar a cada execução do programa.\n",
        "\n",
        "Comparativo de Consumo de Combustível\n",
        " \n",
        "Veículo 1\n",
        " \n",
        "Nome: fusca\n",
        " \n",
        "Km por litro: 7\n",
        " \n",
        " \n",
        "Veículo 2\n",
        " \n",
        "Nome: gol\n",
        " \n",
        "Km por litro: 10\n",
        " \n",
        " \n",
        "Veículo 3\n",
        " \n",
        "Nome: uno\n",
        " \n",
        "Km por litro: 12.5\n",
        " \n",
        " \n",
        "Veículo 4\n",
        " \n",
        "Nome: Vectra\n",
        " \n",
        "Km por litro: 9\n",
        " \n",
        " \n",
        "Veículo 5\n",
        " \n",
        "Nome: Peugeout\n",
        " \n",
        "Km por litro: 14.5\n",
        " \n",
        " \n",
        "Relatório Final\n",
        " 1 - fusca        -    7.0 -  142.9 litros - R$ 321.43\n",
        " \n",
        " 2 - gol          -   10.0 -  100.0 litros - R$ 225.00\n",
        " \n",
        " 3 - uno          -   12.5 -   80.0 litros - R$ 180.00\n",
        " \n",
        " 4 - vectra       -    9.0 -  111.1 litros - R$ 250.00\n",
        " \n",
        " 5 - peugeout     -   14.5 -   69.0 litros - R$ 155.17\n",
        " \n",
        "O menor consumo é do peugeout\n",
        "rogram"
      ]
    },
    {
      "cell_type": "code",
      "metadata": {
        "id": "TTmx_JSdTqQj"
      },
      "source": [
        "veículos = [] #Modelos dos veículos\n",
        "kmperl_lista = [] #Km/L de cada veículo\n",
        "kmperl_crescente = []\n",
        "quantidades = [] #Quantidade de litros necessários para 1000km de cada veículo\n",
        "custos =[] #Custo para quantidade de litros necessários\n",
        "\n",
        "n = 1\n",
        "for i in range(5):\n",
        "  print(\"--------------------------------\")\n",
        "  print(\"           VEÍCULO   \" + str(n))\n",
        "  print(\"--------------------------------\")\n",
        "  modelo = input(\"Modelo: \")\n",
        "  verifica = False\n",
        "  while verifica == False: #Verificando se o input é válido\n",
        "    kmperl = input(\"Km/L: \")\n",
        "    try:\n",
        "      kmperl = float(kmperl) \n",
        "      verifica = True\n",
        "    except:\n",
        "      print(\"\\nResposta inválida. Tente novamente.\\n\")\n",
        "  veículos.append(modelo)\n",
        "  kmperl_lista.append(kmperl)\n",
        "  kmperl_crescente.append(kmperl)\n",
        "  #Cálculo da quantidade de litros necessária para 1000km\n",
        "  quantidadeL = 1000/kmperl\n",
        "  quantidadeL = round(quantidadeL, 2)\n",
        "  quantidades.append(quantidadeL)\n",
        "  #Cálculo do custo \n",
        "  custo = 2.25*quantidadeL\n",
        "  custo = round(custo, 2)\n",
        "  custos.append(custo)\n",
        "\n",
        "  n += 1\n",
        "\n",
        "print(\"\")\n",
        "\n",
        "# Criando tabela de modelo- km/L- L para 1000 km - custo \n",
        "tabela_resultados = PrettyTable([\"MODELO\", \"KM/L\", \"L/1000KM\", \"CUSTO\"])\n",
        "\n",
        "# Alinhando colunas à esquerda (left)\n",
        "tabela_resultados.align[\"MODELO\"] = \"l\"\n",
        "tabela_resultados.align[\"KM/L\"] = \"l\"\n",
        "tabela_resultados.align[\"L/1000KM\"] = \"l\"\n",
        "tabela_resultados.align[\"CUSTO\"] = \"l\"\n",
        "\n",
        "# Deixando espaço entre borda da coluna e conteúdo\n",
        "tabela_resultados.padding_width = 1\n",
        "\n",
        "#Adicionando linhas à tabela\n",
        "b = 0\n",
        "for i in range(5):\n",
        "  tabela_resultados.add_row([veículos[b], kmperl_lista[b], quantidades[b], \"R$ \" + str(custos[b])])\n",
        "  b += 1\n",
        "\n",
        "#Impressão da tabela de resultados\n",
        "print(tabela_resultados)\n",
        "\n",
        "kmperl_crescente.sort() #Ordem crescente \n",
        "menor_consumo = kmperl_crescente[4] #O veículo que possuir maior Km/L será o de menor consumo\n",
        "modelo_veic = kmperl_lista.index(menor_consumo)\n",
        "\n",
        "#Imprimindo os resultados\n",
        "if kmperl_crescente[4] == kmperl_crescente[3] or kmperl_crescente[4] == kmperl_crescente[2]:\n",
        "  print(\"\\n Houve um empate. Observe a tabela para verificar quais modelos apresentaram menor consumo.\")\n",
        "elif kmperl_crescente[4] ==  kmperl_crescente[1] or kmperl_crescente[4] == kmperl_crescente[0]:\n",
        "  print(\"\\n Houve um empate. Observe a tabela para verificar quais modelos apresentaram menor consumo.\")\n",
        "else:\n",
        "  print(\"\\nMODELO DE MENOR CONSUMO: \" + veículos[modelo_veic])"
      ],
      "execution_count": null,
      "outputs": []
    },
    {
      "cell_type": "markdown",
      "metadata": {
        "id": "NW3OuURuTzWn"
      },
      "source": [
        "## 22 -- Sua organização acaba de contratar um estagiário para trabalhar no Suporte de Informática, com a intenção de fazer um levantamento nas sucatas encontradas nesta área. A primeira tarefa dele é testar todos os cerca de 200 mouses que se encontram lá, testando e anotando o estado de cada um deles, para verificar o que se pode aproveitar deles.\n",
        ".Foi requisitado que você desenvolva um programa para registrar este levantamento. O programa deverá receber um número indeterminado de entradas, cada uma contendo: um número de identificação do mouse o tipo de defeito:\n",
        ". necessita da esfera;\n",
        ".necessita de limpeza; a.necessita troca do cabo ou conector; a.quebrado ou inutilizado Uma identificação igual a zero encerra o programa. Ao final o programa deverá emitir o seguinte relatório:\n",
        "Quantidade de mouses: 100\n",
        " \n",
        "Situação               Quantidade              Percentual\n",
        "1-necessita da esfera     40                     40%\n",
        " \n",
        "2-necessita de limpeza    30                     30%\n",
        " \n",
        "3-necessita troca do cabo ou conector 15         15%\n",
        " \n",
        "4- quebrado ou inutilizado    15                 15%\n",
        " \n",
        "nização "
      ]
    },
    {
      "cell_type": "code",
      "metadata": {
        "id": "W-wMsd6zVI4s"
      },
      "source": [],
      "execution_count": null,
      "outputs": []
    },
    {
      "cell_type": "markdown",
      "metadata": {
        "id": "n90UWMEYXstP"
      },
      "source": [
        "## 23 -- uma empresa de 500 funcionários, está tendo problemas de espaço em disco no seu servidor de arquivos. Para tentar resolver este problema, o Administrador de Rede precisa saber qual o espaço ocupado pelos usuários, e identificar os usuários com maior espaço ocupado. Através de um programa, baixado da Internet, ele conseguiu gerar o seguinte arquivo, chamado \"usuarios.txt\":\n",
        "alexandre       456123789\n",
        " \n",
        "anderson        1245698456\n",
        " \n",
        "antonio         123456456\n",
        " \n",
        "carlos          91257581\n",
        " \n",
        "cesar           987458\n",
        " \n",
        "rosemary        789456125\n",
        " \n",
        "Neste arquivo, o nome do usuário possui 15 caracteres. A partir deste arquivo, você deve criar um programa que gere um relatório, chamado \"relatório.txt\", no seguinte formato:\n",
        "    Uso do espaço em disco pelos usuários\n",
        "------------------------------------------------------------------------\n",
        "Nr.  Usuário        Espaço utilizado     % do uso\n",
        " \n",
        " \n",
        "1    alexandre       434,99 MB             16,85%\n",
        " \n",
        "2    anderson       1187,99 MB             46,02%\n",
        " \n",
        "3    antonio         117,73 MB              4,56%\n",
        " \n",
        "4    carlos           87,03 MB              3,37%\n",
        " \n",
        "5    cesar             0,94 MB              0,04%\n",
        " \n",
        "6    rosemary        752,88 MB             29,16%\n",
        " \n",
        " \n",
        "Espaço total ocupado: 2581,57 MB\n",
        " \n",
        "Espaço médio ocupado: 430,26 MB\n",
        "\n",
        "O arquivo de entrada deve ser lido uma única vez, e os dados armazenados em memória, caso sejam necessários, de forma a agilizar a execução do programa. A conversão da espaço ocupado em disco, de bytes para megabytes deverá ser feita através de uma função separada, que será chamada pelo programa principal. O cálculo do percentual de uso também deverá ser feito através de uma função, que será chamada pelo programa principal\n",
        "res"
      ]
    },
    {
      "cell_type": "code",
      "metadata": {
        "id": "r20HnO_bYNA1"
      },
      "source": [],
      "execution_count": null,
      "outputs": []
    },
    {
      "cell_type": "markdown",
      "metadata": {
        "id": "nlDAfF--YSWd"
      },
      "source": [
        "## 24 --  Faça um programa que simule um lançamento de dados. Lance o dado 100 vezes e armazene os resultados em um vetor . Depois, mostre quantas vezes cada valor foi conseguido. Dica: use um vetor de contadores(1-6) e uma função para gerar numeros aleatórios, simulando os lançamentos dos dados.\n",
        "\n"
      ]
    },
    {
      "cell_type": "code",
      "metadata": {
        "id": "wmXA8s0uYrVp"
      },
      "source": [],
      "execution_count": null,
      "outputs": []
    },
    {
      "cell_type": "markdown",
      "metadata": {
        "id": "4cjnrhUEHXSW"
      },
      "source": []
    },
    {
      "cell_type": "markdown",
      "metadata": {
        "id": "KsK9QFAAYgki"
      },
      "source": [
        "# IV – Funções"
      ]
    },
    {
      "cell_type": "markdown",
      "metadata": {
        "id": "jkLGnfxhPsM5"
      },
      "source": [
        "## 1 --\tFaça um programa para imprimir:\n",
        "###•\t    1\n",
        "###•     2   2\n",
        "###•     3   3   3\n",
        "###•     .....\n",
        "###•     n   n   n   n   n   n  ... n\n",
        "## para um **n** informado pelo usuário. Use uma função que receba um valor **n** inteiro e imprima até a **n-ésima** linha.\n",
        "\n"
      ]
    },
    {
      "cell_type": "code",
      "metadata": {
        "id": "2Ir4yZiHTaZ4"
      },
      "source": [],
      "execution_count": null,
      "outputs": []
    },
    {
      "cell_type": "markdown",
      "metadata": {
        "id": "iT6TcTDcTwLp"
      },
      "source": [
        "##2 -- Faça um programa para imprimir:\n",
        "###•\t  1\n",
        "###•    1   2\n",
        "###•    1   2   3\n",
        "###•    .....\n",
        "###•    1   2   3   ...  n\n",
        "##para um **n** informado pelo usuário. Use uma função que receba um valor **n** inteiro imprima até a **n-ésima** linha.\n"
      ]
    },
    {
      "cell_type": "code",
      "metadata": {
        "id": "65MAvGbKUeyq"
      },
      "source": [],
      "execution_count": null,
      "outputs": []
    },
    {
      "cell_type": "markdown",
      "metadata": {
        "id": "-CCuQ0H8U0j8"
      },
      "source": [
        "##3 -- Faça um programa, com uma função que necessite de três argumentos, e que forneça a soma desses três argumentos."
      ]
    },
    {
      "cell_type": "code",
      "metadata": {
        "id": "_x1337uOU75D"
      },
      "source": [],
      "execution_count": null,
      "outputs": []
    },
    {
      "cell_type": "markdown",
      "metadata": {
        "id": "GupxINChVRpQ"
      },
      "source": [
        "##4 -- Faça um programa, com uma função que necessite de um argumento. A função retorna o valor de caractere ‘P’, se seu argumento for positivo, e ‘N’, se seu argumento for zero ou negativo."
      ]
    },
    {
      "cell_type": "code",
      "metadata": {
        "id": "N3CHGfcOVjFk"
      },
      "source": [],
      "execution_count": null,
      "outputs": []
    },
    {
      "cell_type": "markdown",
      "metadata": {
        "id": "VItv4YP-VqaW"
      },
      "source": [
        "##5 -- Faça um programa com uma função chamada somaImposto. A função possui dois parâmetros formais: taxaImposto, que é a quantia de imposto sobre vendas expressa em porcentagem e custo, que é o custo de um item antes do imposto. A função “altera” o valor de custo para incluir o imposto sobre vendas."
      ]
    },
    {
      "cell_type": "code",
      "metadata": {
        "id": "a6Nadih2Vt3h"
      },
      "source": [],
      "execution_count": null,
      "outputs": []
    },
    {
      "cell_type": "markdown",
      "metadata": {
        "id": "Ws3ThyZpVuvt"
      },
      "source": [
        "##6 -- Faça um programa que converta da notação de 24 horas para a notação de 12 horas. Por exemplo, o programa deve converter 14:25 em 2:25 P.M. A entrada é dada em dois inteiros. Deve haver pelo menos duas funções: uma para fazer a conversão e uma para a saída. Registre a informação A.M./P.M. como um valor ‘A’ para A.M. e ‘P’ para P.M. Assim, a função para efetuar as conversões terá um parâmetro formal para registrar se é A.M. ou P.M. Inclua um loop que permita que o usuário repita esse cálculo para novos valores de entrada todas as vezes que desejar."
      ]
    },
    {
      "cell_type": "code",
      "metadata": {
        "id": "xwpzKvvPWCZm"
      },
      "source": [],
      "execution_count": null,
      "outputs": []
    },
    {
      "cell_type": "markdown",
      "metadata": {
        "id": "ysUtnY_9WC2z"
      },
      "source": [
        "##7 -- Faça um programa que use a função valorPagamento para determinar o valor a ser pago por uma prestação de uma conta. O programa deverá solicitar ao usuário o valor da prestação e o número de dias em atraso e passar estes valores para a função valorPagamento, que calculará o valor a ser pago e devolverá este valor ao programa que a chamou. O programa deverá então exibir o valor a ser pago na tela. Após a execução o programa deverá voltar a pedir outro valor de prestação e assim continuar até que seja informado um valor igual a zero para a prestação. Neste momento o programa deverá ser encerrado, exibindo o relatório do dia, que conterá a quantidade e o valor total de prestações pagas no dia. O cálculo do valor a ser pago é feito da seguinte forma. Para pagamentos sem atraso, cobrar o valor da prestação. Quando houver atraso, cobrar 3% de multa, mais 0,1% de juros por dia de atraso."
      ]
    },
    {
      "cell_type": "code",
      "metadata": {
        "id": "3zUB6kcWWOGo"
      },
      "source": [],
      "execution_count": null,
      "outputs": []
    },
    {
      "cell_type": "markdown",
      "metadata": {
        "id": "YHbkaCv1WQvt"
      },
      "source": [
        "##8 -- Faça uma função que informe a quantidade de dígitos de um determinado número inteiro informado."
      ]
    },
    {
      "cell_type": "code",
      "metadata": {
        "id": "AeYjoenFWlcc"
      },
      "source": [],
      "execution_count": null,
      "outputs": []
    },
    {
      "cell_type": "markdown",
      "metadata": {
        "id": "n7lYqMOhWmEq"
      },
      "source": [
        "##9 -- **Reverso do número**. Faça uma função que retorne o reverso de um número inteiro informado. Por exemplo: 127 -> 721."
      ]
    },
    {
      "cell_type": "code",
      "metadata": {
        "id": "mi1aqaQ5XDzk"
      },
      "source": [],
      "execution_count": null,
      "outputs": []
    },
    {
      "cell_type": "markdown",
      "metadata": {
        "id": "iFdNdooeXE_S"
      },
      "source": [
        "##10 -- **Jogo de Craps**. Faça um programa de implemente um jogo de Craps. O jogador lança um par de dados, obtendo um valor entre 2 e 12. Se, na primeira jogada, você tirar 7 ou 11, você um \"natural\" e ganhou. Se você tirar 2, 3 ou 12 na primeira jogada, isto é chamado de \"craps\" e você perdeu. Se, na primeira jogada, você fez um 4, 5, 6, 8, 9 ou 10,este é seu \"Ponto\". Seu objetivo agora é continuar jogando os dados até tirar este número novamente. Você perde, no entanto, se tirar um 7 antes de tirar este Ponto novamente."
      ]
    },
    {
      "cell_type": "code",
      "metadata": {
        "id": "N8JiKz7KXRRf"
      },
      "source": [],
      "execution_count": null,
      "outputs": []
    },
    {
      "cell_type": "markdown",
      "metadata": {
        "id": "uUQ_D4MWXRzX"
      },
      "source": [
        "##11 -- **Data com mês por extenso**. Construa uma função que receba uma data no formato DD/MM/AAAA e devolva uma string no formato D de mesPorExtenso de AAAA. Opcionalmente, valide a data e retorne NULL caso a data seja inválida."
      ]
    },
    {
      "cell_type": "code",
      "metadata": {
        "id": "y64P_ISqXXqq"
      },
      "source": [],
      "execution_count": null,
      "outputs": []
    },
    {
      "cell_type": "markdown",
      "metadata": {
        "id": "qoKSHRztXYVn"
      },
      "source": [
        "##12 -- **Embaralha palavra**. Construa uma função que receba uma string como parâmetro e devolva outra string com os carateres embaralhados. Por exemplo: se função receber a palavra python, pode retornar npthyo, ophtyn ou qualquer outra combinação possível, de forma aleatória. Padronize em sua função que todos os caracteres serão devolvidos em caixa alta ou caixa baixa, independentemente de como foram digitados."
      ]
    },
    {
      "cell_type": "code",
      "metadata": {
        "id": "sRM4Pe1bXewj"
      },
      "source": [],
      "execution_count": null,
      "outputs": []
    },
    {
      "cell_type": "markdown",
      "metadata": {
        "id": "DVRpw8slXfNb"
      },
      "source": [
        "##13 -- **Desenha moldura**. Construa uma função que desenhe um retângulo usando os caracteres ‘+’ , ‘−’ e ‘| ‘. Esta função deve receber dois parâmetros, linhas e colunas, sendo que o valor por omissão é o valor mínimo igual a 1 e o valor máximo é 20. Se valores fora da faixa forem informados, eles devem ser modificados para valores dentro da faixa de forma elegante."
      ]
    },
    {
      "cell_type": "code",
      "metadata": {
        "id": "NlxBxL5QXlNG"
      },
      "source": [],
      "execution_count": null,
      "outputs": []
    },
    {
      "cell_type": "markdown",
      "metadata": {
        "id": "ivbma1QRXlin"
      },
      "source": [
        "##14 -- **Quadrado mágico**. Um quadrado mágico é aquele dividido em linhas e colunas, com um número em cada posição e no qual a soma das linhas, colunas e diagonais é a mesma. Por exemplo, veja um quadrado mágico de lado 3, com números de 1 a 9:\n",
        "###• 8  3  4\n",
        "###• 1  5  9\n",
        "###• 6  7  2\n",
        "##Elabore uma função que identifica e mostra na tela todos os quadrados mágicos com as características acima. \n",
        "##Dica: produza todas as combinações possíveis e verifique a soma quando completar cada quadrado. Usar um vetor de 1 a 9 parece ser mais simples que usar uma matriz 3x3.\n"
      ]
    },
    {
      "cell_type": "code",
      "metadata": {
        "id": "Dh1AmvtUY_Vj"
      },
      "source": [],
      "execution_count": null,
      "outputs": []
    },
    {
      "cell_type": "markdown",
      "metadata": {
        "id": "sz15VW_5HZPt"
      },
      "source": []
    }
  ]
}