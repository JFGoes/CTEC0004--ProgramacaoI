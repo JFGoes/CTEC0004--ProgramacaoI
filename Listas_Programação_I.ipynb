{
  "nbformat": 4,
  "nbformat_minor": 0,
  "metadata": {
    "colab": {
      "provenance": [],
      "collapsed_sections": [
        "J4lIqTb70Cc7",
        "WWkJoGzCpHvc",
        "entihFT7b6Bk",
        "NfUfrHK0aGj-"
      ],
      "toc_visible": true,
      "include_colab_link": true
    },
    "kernelspec": {
      "name": "python3",
      "display_name": "Python 3"
    }
  },
  "cells": [
    {
      "cell_type": "markdown",
      "metadata": {
        "id": "view-in-github",
        "colab_type": "text"
      },
      "source": [
        "<a href=\"https://colab.research.google.com/github/JFGoes/CTEC0004--ProgramacaoI/blob/master/Listas_Programa%C3%A7%C3%A3o_I.ipynb\" target=\"_parent\"><img src=\"https://colab.research.google.com/assets/colab-badge.svg\" alt=\"Open In Colab\"/></a>"
      ]
    },
    {
      "cell_type": "markdown",
      "metadata": {
        "id": "lvLkQuqDzDTW"
      },
      "source": [
        "# **Lista em tópicos de Programação em Python**"
      ]
    },
    {
      "cell_type": "markdown",
      "metadata": {
        "id": "Y2vFPh6601j_"
      },
      "source": [
        "Professor: Josecley Fialho Góes"
      ]
    },
    {
      "cell_type": "markdown",
      "metadata": {
        "id": "WPWgkzC_06_i"
      },
      "source": [
        "Colaboradores:\n",
        "\n",
        "* Yana Dos Santos Pereira\n",
        "* Thalia Almeida Linhares\n",
        "* Carlos Henrique Pinto da Silveira\n"
      ]
    },
    {
      "cell_type": "markdown",
      "metadata": {
        "id": "J4lIqTb70Cc7"
      },
      "source": [
        "# I – Estrutura de decisão"
      ]
    },
    {
      "cell_type": "markdown",
      "metadata": {
        "id": "KoTdBXUl0Jrv"
      },
      "source": [
        "## 1-- Faça um Programa que peça dois números e imprima o maior deles.\n",
        "\n",
        "Código:"
      ]
    },
    {
      "cell_type": "code",
      "metadata": {
        "id": "QaIGG7ag0XHM"
      },
      "source": [],
      "execution_count": null,
      "outputs": []
    },
    {
      "cell_type": "markdown",
      "metadata": {
        "id": "O3_B5AaM0YhG"
      },
      "source": [
        "## 2 -- Faça um Programa que peça um valor e mostre na tela se o valor é positivo ou negativo.\n",
        "\n",
        "Código:"
      ]
    },
    {
      "cell_type": "code",
      "metadata": {
        "id": "b7r9ukdO0eTD"
      },
      "source": [],
      "execution_count": null,
      "outputs": []
    },
    {
      "cell_type": "markdown",
      "metadata": {
        "id": "u4RH0vAIoBD0"
      },
      "source": [
        "## 3 -- Faça um Programa que verifique se uma letra digitada é \"F\" ou \"M\". Conforme a letra escrever: F - Feminino, M - Masculino, Sexo Inválido.\n",
        "\n",
        "Código:"
      ]
    },
    {
      "cell_type": "code",
      "metadata": {
        "id": "QdTetVLfps2v"
      },
      "source": [],
      "execution_count": null,
      "outputs": []
    },
    {
      "cell_type": "markdown",
      "metadata": {
        "id": "WWkJoGzCpHvc"
      },
      "source": [
        "## 4 -- Faça um Programa que verifique se uma letra digitada é vogal ou consoante.\n",
        "\n",
        "Código:"
      ]
    },
    {
      "cell_type": "code",
      "metadata": {
        "id": "hioZ_WeJpvRI"
      },
      "source": [],
      "execution_count": null,
      "outputs": []
    },
    {
      "cell_type": "markdown",
      "metadata": {
        "id": "eE2nClNHpQI0"
      },
      "source": [
        "## 5 --\tFaça um programa para a leitura de duas notas parciais de um aluno. O programa deve calcular a média alcançada por aluno e apresentar:\n",
        "##•\tA mensagem \"Aprovado\", se a média alcançada for maior ou igual a sete;\n",
        "##•\tA mensagem \"Reprovado\", se a média for menor do que sete;\n",
        "##•\tA mensagem \"Aprovado com Distinção\", se a média for igual a dez.\n",
        "\n",
        "\n",
        "Código:"
      ]
    },
    {
      "cell_type": "code",
      "metadata": {
        "id": "VBOCipRhpwoU"
      },
      "source": [],
      "execution_count": null,
      "outputs": []
    },
    {
      "cell_type": "markdown",
      "metadata": {
        "id": "nvmo9Lp5piDr"
      },
      "source": [
        "## 6 -- Faça um Programa que leia três números e mostre o maior deles.\n",
        "\n",
        "\n",
        "Código:"
      ]
    },
    {
      "cell_type": "code",
      "metadata": {
        "id": "UyN6-qXVpzQC"
      },
      "source": [],
      "execution_count": null,
      "outputs": []
    },
    {
      "cell_type": "markdown",
      "metadata": {
        "id": "2baEgiW9p3UY"
      },
      "source": [
        "## 7 -- Faça um Programa que leia três números e mostre o maior e o menor deles.\n",
        "Código:"
      ]
    },
    {
      "cell_type": "code",
      "metadata": {
        "id": "64141anxp3UZ"
      },
      "source": [],
      "execution_count": null,
      "outputs": []
    },
    {
      "cell_type": "markdown",
      "metadata": {
        "id": "LxuIXtJPqrjE"
      },
      "source": [
        "## 8 --\tFaça um programa que pergunte o preço de três produtos e informe qual produto você deve comprar, sabendo que a decisão é sempre pelo mais barato.\n",
        "Código:"
      ]
    },
    {
      "cell_type": "code",
      "metadata": {
        "id": "PoLVwawJqrjH"
      },
      "source": [],
      "execution_count": null,
      "outputs": []
    },
    {
      "cell_type": "markdown",
      "metadata": {
        "id": "EiNMTrPeq06T"
      },
      "source": [
        "## 9 --\tFaça um Programa que leia três números e mostre-os em ordem decrescente."
      ]
    },
    {
      "cell_type": "code",
      "metadata": {
        "id": "HVdThdUeq9Xv"
      },
      "source": [],
      "execution_count": null,
      "outputs": []
    },
    {
      "cell_type": "markdown",
      "metadata": {
        "id": "QlduB8tPq_ge"
      },
      "source": [
        "## 10 --\tFaça um Programa que pergunte em que turno você estuda. Peça para digitar M-matutino ou V-Vespertino ou N- Noturno. Imprima a mensagem \"Bom Dia!\", \"Boa Tarde!\" ou \"Boa Noite!\" ou \"Valor Inválido!\", conforme o caso."
      ]
    },
    {
      "cell_type": "code",
      "metadata": {
        "id": "KfwSNP6wra55"
      },
      "source": [],
      "execution_count": null,
      "outputs": []
    },
    {
      "cell_type": "markdown",
      "metadata": {
        "id": "Ont9LaRVrN0F"
      },
      "source": [
        "## 11 -- As Organizações Tabajara resolveram dar um aumento de salário aos seus colaboradores e lhe contraram para desenvolver o programa que calculará os reajustes.\n",
        "## Faça um programa que recebe o salário de um colaborador e o reajuste segundo o seguinte critério, baseado no salário atual:\n",
        "####•\tsalários até 280, 00 reais (incluindo) : aumento de 20%\n",
        "####•\tsalários entre 280,00 reais e 700,00 reais : aumento de 15%\n",
        "####•\tsalários entre 700,00 reais e 1500,00 reais: aumento de 10%\n",
        "####•\tsalários de R$ 1500,00 em diante : aumento de 5% \n",
        "## Após o aumento ser realizado, informe na tela:\n",
        "####•\to salário antes do reajuste;\n",
        "####•\to percentual de aumento aplicado;\n",
        "####•\to valor do aumento;\n",
        "####•\to novo salário, após o aumento.\n"
      ]
    },
    {
      "cell_type": "code",
      "metadata": {
        "id": "QNK8fQsprgtq"
      },
      "source": [],
      "execution_count": null,
      "outputs": []
    },
    {
      "cell_type": "markdown",
      "metadata": {
        "id": "966Jxviyv1xK"
      },
      "source": [
        "## 12 -- Faça um programa para o cálculo de uma folha de pagamento, sabendo que os descontos são do Imposto de Renda, que depende do salário bruto (conforme tabela abaixo) e 3% para o Sindicato e que o FGTS corresponde a 11% do Salário Bruto, mas não é descontado (é a empresa que deposita). O Salário Líquido corresponde ao Salário Bruto menos os descontos. O programa deverá pedir ao usuário o valor da sua hora e a quantidade de horas trabalhadas no mês.\n",
        "\n",
        "####•\tDesconto do IR:\n",
        "####•\tSalário Bruto até 900 (inclusive) - isento\n",
        "####•\tSalário Bruto até 1500 (inclusive) - desconto de 5%\n",
        "####•\tSalário Bruto até 2500 (inclusive) - desconto de 10%\n",
        "####•\tSalário Bruto acima de 2500 - desconto de 20% Imprima na tela as informações, dispostas conforme o exemplo abaixo. No exemplo o valor da hora é 5 e a quantidade de hora é 220.\n",
        "Folha de Pagamento        | Valores\n",
        "-----------------------: | :-------------------:\n",
        "Salário Bruto: (5 * 220): | R\\$ 1100,00\n",
        "(-) IR (5%):              | R\\$   55,00  \n",
        "(-) INSS ( 10%):          | R\\$  110,00\n",
        "FGTS (11%):               | R\\$  121,\n",
        "Total de descontos:       | R\\$  165,00\n",
        "Salário Liquido:          | R\\$  935,00\n",
        "\n"
      ]
    },
    {
      "cell_type": "code",
      "metadata": {
        "id": "K802jiCDXD0_"
      },
      "source": [],
      "execution_count": null,
      "outputs": []
    },
    {
      "cell_type": "markdown",
      "metadata": {
        "id": "_KPLFInRv144"
      },
      "source": [
        "## 13 -- Faça um Programa que leia um número e exiba o dia correspondente da semana. (1-Domingo, 2- Segunda, etc.), se digitar outro valor deve aparecer valor inválido."
      ]
    },
    {
      "cell_type": "code",
      "metadata": {
        "id": "5iaDO8Kxxkf0"
      },
      "source": [],
      "execution_count": null,
      "outputs": []
    },
    {
      "cell_type": "markdown",
      "metadata": {
        "id": "hoBZdygBv1-E"
      },
      "source": [
        "## 14 --\tFaça um programa que lê as duas notas parciais obtidas por um aluno numa disciplina ao longo de um semestre, e calcule a sua média. A atribuição de conceitos obedece à tabela abaixo:\n",
        "\n",
        "Média de Aproveitamento | Conceito\n",
        ":----------------------:|:---------:\n",
        "  Entre 9.0 e 10.0      |  A\n",
        "  Entre 7.5 e 9.0       |  B\n",
        "  Entre 6.0 e 7.5       |  C\n",
        "  Entre 4.0 e 6.0       |  D\n",
        "  Entre 4.0 e zero      |  E\n",
        "\n",
        "#### O algoritmo deve mostrar na tela as notas, a média, o conceito correspondente e a mensagem “APROVADO” se o conceito for A, B ou C ou “REPROVADO” se o conceito for D ou E."
      ]
    },
    {
      "cell_type": "code",
      "metadata": {
        "id": "2qvWt7Gnx_z6"
      },
      "source": [],
      "execution_count": null,
      "outputs": []
    },
    {
      "cell_type": "markdown",
      "metadata": {
        "id": "QRNZwgyOv2Cq"
      },
      "source": [
        "## 15 --\tFaça um Programa que peça os 3 lados de um triângulo. O programa deverá informar se os valores podem ser um triângulo. Indique, caso os lados formem um triângulo, se o mesmo é: equilátero, isósceles ou escaleno.\n",
        "####•\tDicas:\n",
        "####•\tTriângulo Equilátero: três lados iguais;\n",
        "####•\tTriângulo Isósceles: quaisquer dois lados iguais;\n",
        "####•\tTriângulo Escaleno: três lados diferentes;\n"
      ]
    },
    {
      "cell_type": "code",
      "metadata": {
        "id": "L4d6WaRIyXF8"
      },
      "source": [],
      "execution_count": null,
      "outputs": []
    },
    {
      "cell_type": "markdown",
      "metadata": {
        "id": "q9GnFNI2v2G9"
      },
      "source": [
        "## 16 --\tFaça um programa que calcule as raízes de uma equação do segundo grau, na forma ax2 + bx + c. O programa deverá pedir os valores de a, b e c e fazer as consistências, informando ao usuário nas seguintes situações:\n",
        "####•\tSe o usuário informar o valor de A igual a zero, a equação não é do segundo grau e o programa não deve fazer pedir os demais valores, sendo encerrado;\n",
        "####•\tSe o delta calculado for negativo, a equação não possui raizes reais. Informe ao usuário e encerre o programa;\n",
        "####•\tSe o delta calculado for igual a zero a equação possui apenas uma raiz real; informe-a ao usuário;\n",
        "####•\tSe o delta for positivo, a equação possui duas raiz reais; informe-as ao usuário;\n"
      ]
    },
    {
      "cell_type": "code",
      "metadata": {
        "id": "P4iobBoKye3L"
      },
      "source": [],
      "execution_count": null,
      "outputs": []
    },
    {
      "cell_type": "markdown",
      "metadata": {
        "id": "UKxhcbiryg59"
      },
      "source": [
        "## 17 --\tFaça um Programa que peça um número correspondente a um determinado ano e em seguida informe se este ano é ou não bissexto."
      ]
    },
    {
      "cell_type": "code",
      "metadata": {
        "id": "N9DexG2czKvi"
      },
      "source": [],
      "execution_count": null,
      "outputs": []
    },
    {
      "cell_type": "markdown",
      "metadata": {
        "id": "7knYIRwMyhD7"
      },
      "source": [
        "## 18 -- Faça um Programa que peça uma data no formato dd/mm/aaaa e determine se a mesma é uma data válida."
      ]
    },
    {
      "cell_type": "code",
      "metadata": {
        "id": "kYk1zDV5zPik"
      },
      "source": [],
      "execution_count": null,
      "outputs": []
    },
    {
      "cell_type": "markdown",
      "metadata": {
        "id": "YoZKYoC8zRZo"
      },
      "source": [
        "## 19.\tFaça um Programa que leia um número inteiro menor que 1000 e imprima a quantidade de centenas, dezenas e unidades do mesmo.\n",
        "####•\tObservando os termos no plural a colocação do \"e\", da vírgula entre outros. Exemplo:\n",
        "####•\t326 = 3 centenas, 2 dezenas e 6 unidades\n",
        "####•\t12 = 1 dezena e 2 unidades Testar com: 326, 300, 100, 320, 310,305, 301, 101, 311, 111, 25, 20, 10, 21, 11, 1, 7 e 16\n"
      ]
    },
    {
      "cell_type": "code",
      "metadata": {
        "id": "sXklVLI9zb4Y"
      },
      "source": [],
      "execution_count": null,
      "outputs": []
    },
    {
      "cell_type": "markdown",
      "metadata": {
        "id": "SbdKKPAlzRcu"
      },
      "source": [
        "## 20.\tFaça um Programa para leitura de três notas parciais de um aluno. O programa deve calcular a média alcançada por aluno e presentar:\n",
        "####•\tA mensagem \"Aprovado\", se a média for maior ou igual a 7, com a respectiva média alcançada;\n",
        "####•\tA mensagem \"Reprovado\", se a média for menor do que 7, com a respectiva média alcançada;\n",
        "####•\tA mensagem \"Aprovado com Distinção\", se a média for igual a 10.\n"
      ]
    },
    {
      "cell_type": "code",
      "metadata": {
        "id": "0_C39sTrzmEL"
      },
      "source": [],
      "execution_count": null,
      "outputs": []
    },
    {
      "cell_type": "markdown",
      "metadata": {
        "id": "hut1ULsvzRfw"
      },
      "source": [
        "## 21 --\tFaça um Programa para um caixa eletrônico. O programa deverá perguntar ao usuário a valor do saque e depois informar quantas notas de cada valor serão fornecidas. As notas disponíveis serão as de 1, 5, 10, 50 e 100 reais. O valor mínimo é de 10 reais e o máximo de 600 reais. O programa não deve se preocupar com a quantidade de notas existentes na máquina.\n",
        "#### •\tExemplo 1: Para sacar a quantia de 256 reais, o programa fornece duas notas de 100, uma nota de 50, uma nota de 5 e uma nota de 1;\n",
        "####•\tExemplo 2: Para sacar a quantia de 399 reais, o programa fornece três notas de 100, uma nota de 50, quatro notas de 10, uma nota de 5 e quatro notas de 1.\n"
      ]
    },
    {
      "cell_type": "code",
      "metadata": {
        "id": "FeBUo1Qnzw9I"
      },
      "source": [],
      "execution_count": null,
      "outputs": []
    },
    {
      "cell_type": "markdown",
      "metadata": {
        "id": "oQcsWz4ozRif"
      },
      "source": [
        "## 22 --\tFaça um Programa que peça um número inteiro e determine se ele é par ou impar. Dica: utilize o operador módulo (resto da divisão)."
      ]
    },
    {
      "cell_type": "code",
      "metadata": {
        "id": "zDXwtlTgz37f"
      },
      "source": [],
      "execution_count": null,
      "outputs": []
    },
    {
      "cell_type": "markdown",
      "metadata": {
        "id": "y5jSSIfvz99J"
      },
      "source": [
        "## 23 --\tFaça um Programa que peça um número e informe se o número é inteiro ou decimal. Dica: utilize uma função de arredondamento."
      ]
    },
    {
      "cell_type": "code",
      "metadata": {
        "id": "cT0odG280Dl9"
      },
      "source": [],
      "execution_count": null,
      "outputs": []
    },
    {
      "cell_type": "markdown",
      "metadata": {
        "id": "yu4a_LMez-Cn"
      },
      "source": [
        "## 24 --\tFaça um Programa que peça um número e informe se o número é inteiro ou decimal. Dica: utilize uma função de arredondamento."
      ]
    },
    {
      "cell_type": "code",
      "metadata": {
        "id": "xYgkzHVWz-Cp"
      },
      "source": [],
      "execution_count": null,
      "outputs": []
    },
    {
      "cell_type": "markdown",
      "metadata": {
        "id": "sxdo27Fsz-GR"
      },
      "source": [
        "## 25 --\tFaça um programa que faça 5 perguntas para uma pessoa sobre um crime. As perguntas são:\n",
        "####•\t\"Telefonou para a vítima?\"\n",
        "####•\t\"Esteve no local do crime?\"\n",
        "####•\t\"Mora perto da vítima?\"\n",
        "####•\t\"Devia para a vítima?\"\n",
        "####•\t\"Já trabalhou com a vítima?\" O programa deve no final emitir uma classificação sobre a participação da pessoa no crime. Se a pessoa responder positivamente a 2 questões ela deve ser classificada como \"Suspeita\", entre 3 e 4 como \"Cúmplice\" e 5 como \"Assassino\". Caso contrário, ele será classificado como \"Inocente\".\n"
      ]
    },
    {
      "cell_type": "code",
      "metadata": {
        "id": "E_hup1Rpz-GR"
      },
      "source": [],
      "execution_count": null,
      "outputs": []
    },
    {
      "cell_type": "markdown",
      "metadata": {
        "id": "VR_Wfskyz-L0"
      },
      "source": [
        "## 26.\tUm posto está vendendo combustíveis com a seguinte tabela de descontos:\n",
        "##Álcool:\n",
        "####•\taté 20 litros, desconto de 3% por litro\n",
        "####•\tacima de 20 litros, desconto de 5% por litro\n",
        "##Gasolina:\n",
        "####•\taté 20 litros, desconto de 4% por litro\n",
        "####•\tacima de 20 litros, desconto de 6% por litro Escreva um algoritmo que leia o número de litros vendidos, o tipo de combustível (codificado da seguinte forma: A-álcool, G-gasolina), calcule e imprima o valor a ser pago pelo cliente sabendo-se que o preço do litro da gasolina é 2,50 reais e o preço do litro do álcool é 1,90 real.\n",
        "\n"
      ]
    },
    {
      "cell_type": "code",
      "metadata": {
        "id": "iueC-Eu3z-L1"
      },
      "source": [],
      "execution_count": null,
      "outputs": []
    },
    {
      "cell_type": "markdown",
      "metadata": {
        "id": "_z_DKDLnz-Sw"
      },
      "source": [
        "### 27 Uma fruteira está vendendo frutas com a seguinte tabela de preços\n",
        "\n",
        "Produto          | Até 5 kg               |  Acima de 5 Kg\n",
        ":-----------|:----------------------:|:----------------:\n",
        "Morango     | 2,50 reais por Kg      |  2,20 reais por Kg\n",
        "Maçã        | 1,80 real por Kg       |    1,50 real por Kg\n",
        "\n",
        "\n",
        "\n",
        "###Se o cliente comprar mais de 8 Kg em frutas ou o valor total da compra ultrapassar R$ 25,00, receberá ainda um desconto de 10% sobre este total. Escreva um algoritmo para ler a quantidade (em Kg) de morangos e a quantidade (em Kg) de maças adquiridas e escreva o valor a ser pago pelo cliente.\n",
        "\n"
      ]
    },
    {
      "cell_type": "code",
      "metadata": {
        "id": "H1mwr3fk3l5d"
      },
      "source": [],
      "execution_count": null,
      "outputs": []
    },
    {
      "cell_type": "markdown",
      "metadata": {
        "id": "avCkxBia1PgO"
      },
      "source": [
        "## 28 -- O Hipermercado Tabajara está com uma promoção de carnes que é imperdível. Confira:\n",
        "Produto   | Até 5 Kg   | Acima de 5 Kg\n",
        ":----------|:------------:|:-----------------------:\n",
        "File Duplo| 4,90 reais por Kg | 5,80 reais por Kg\n",
        "Alcatra |5,90 reais por Kg |  6,80 reais por Kg\n",
        "Picanha | 6,90 reais por Kg | 7,80 reais por Kg\n",
        "\n",
        "####Para atender a todos os clientes, cada cliente poderá levar apenas um dos tipos de carne da promoção, porém não há limites para a quantidade de carne por cliente. Se compra for feita no cartão Tabajara o cliente receberá ainda um desconto de 5% sobre o total da compra. Escreva um programa que peça o tipo e a quantidade de carne comprada pelo usuário e gere um cupom fiscal, contendo as informações da compra: tipo e quantidade de carne, preço total, tipo de pagamento, valor do desconto e valor a pagar.\n"
      ]
    },
    {
      "cell_type": "code",
      "metadata": {
        "id": "y2EJ2Jmh4zhG"
      },
      "source": [],
      "execution_count": null,
      "outputs": []
    },
    {
      "cell_type": "markdown",
      "metadata": {
        "id": "5SQLz2lLXYRi"
      },
      "source": [
        "# II – Estrutura de repetição"
      ]
    },
    {
      "cell_type": "markdown",
      "metadata": {
        "id": "d8kmUAGGl5iK"
      },
      "source": [
        "## 1 --\tFaça um programa que peça uma nota, entre zero e dez. Mostre uma mensagem caso o valor seja inválido e continue pedindo até que o usuário informe um valor válido."
      ]
    },
    {
      "cell_type": "code",
      "metadata": {
        "id": "Ej1eAq23m5pD"
      },
      "source": [],
      "execution_count": null,
      "outputs": []
    },
    {
      "cell_type": "markdown",
      "metadata": {
        "id": "SCl7bnKjm7DC"
      },
      "source": [
        "## 2 --\tFaça um programa que leia um nome de usuário e a sua senha e não aceite a senha igual ao nome do usuário, mostrando uma mensagem de erro e voltando a pedir as informações."
      ]
    },
    {
      "cell_type": "code",
      "metadata": {
        "id": "_4Ir8GA5nErw"
      },
      "source": [],
      "execution_count": null,
      "outputs": []
    },
    {
      "cell_type": "markdown",
      "metadata": {
        "id": "b6LTJdwxnHEQ"
      },
      "source": [
        "## 3 --\tFaça um programa que leia e valide as seguintes informações:\n",
        "####a.\tNome: maior que 3 caracteres;\n",
        "####b.\tIdade: entre 0 e 150;\n",
        "####c.\tSalário: maior que zero;\n",
        "####d.\tSexo: 'f' ou 'm';\n",
        "####e.\tEstado Civil: 's', 'c', 'v', 'd';\n"
      ]
    },
    {
      "cell_type": "code",
      "metadata": {
        "id": "6HpcbPIsoQWv"
      },
      "source": [],
      "execution_count": null,
      "outputs": []
    },
    {
      "cell_type": "markdown",
      "metadata": {
        "id": "4XfGvabLoRR0"
      },
      "source": [
        "##4 --\tSupondo que a população de um país A seja da ordem de 80000 habitantes com uma taxa anual de crescimento de 3% e que a população de B seja 200000 habitantes com uma taxa de crescimento de 1.5%. Faça um programa que calcule e escreva o número de anos necessários para que a população do país A ultrapasse ou iguale a população do país B, mantidas as taxas de crescimento."
      ]
    },
    {
      "cell_type": "code",
      "metadata": {
        "id": "nOm8Qm8roYmf"
      },
      "source": [],
      "execution_count": null,
      "outputs": []
    },
    {
      "cell_type": "markdown",
      "metadata": {
        "id": "4qXVZfoDoZif"
      },
      "source": [
        "##5 --\tAltere o programa anterior permitindo ao usuário informar as populações e as taxas de crescimento iniciais. Valide a entrada e permita repetir a operação."
      ]
    },
    {
      "cell_type": "code",
      "metadata": {
        "id": "tTkxXyieolw-"
      },
      "source": [],
      "execution_count": null,
      "outputs": []
    },
    {
      "cell_type": "markdown",
      "metadata": {
        "id": "nADgaMFhonVU"
      },
      "source": [
        "## 6 --\tFaça um programa que imprima na tela os números de 1 a 20, um abaixo do outro. Depois modifique o programa para que ele mostre os números um ao lado do outro."
      ]
    },
    {
      "cell_type": "code",
      "metadata": {
        "id": "2BhjeNpFortC"
      },
      "source": [],
      "execution_count": null,
      "outputs": []
    },
    {
      "cell_type": "markdown",
      "metadata": {
        "id": "dLfgaAA6otAa"
      },
      "source": [
        "##7 --\tFaça um programa que leia 5 números e informe o maior número."
      ]
    },
    {
      "cell_type": "code",
      "metadata": {
        "id": "BltrpmJZo4qF"
      },
      "source": [],
      "execution_count": null,
      "outputs": []
    },
    {
      "cell_type": "markdown",
      "metadata": {
        "id": "z_Fd8INfozqI"
      },
      "source": [
        "##8 --\tFaça um programa que leia 5 números e informe a soma e a média dos números."
      ]
    },
    {
      "cell_type": "code",
      "metadata": {
        "id": "Jy3daIHdoybF"
      },
      "source": [],
      "execution_count": null,
      "outputs": []
    },
    {
      "cell_type": "markdown",
      "metadata": {
        "id": "POzQrY01o6Aj"
      },
      "source": [
        "##9 --\tFaça um programa que imprima na tela apenas os números ímpares entre 1 e 50."
      ]
    },
    {
      "cell_type": "code",
      "metadata": {
        "id": "eGJzUNbzo_JE"
      },
      "source": [],
      "execution_count": null,
      "outputs": []
    },
    {
      "cell_type": "markdown",
      "metadata": {
        "id": "FJ-_ggMRo_ib"
      },
      "source": [
        "##10 --\tFaça um programa que receba dois números inteiros e gere os números inteiros que estão no intervalo compreendido por eles."
      ]
    },
    {
      "cell_type": "code",
      "metadata": {
        "id": "uDOW1eX4pDxs"
      },
      "source": [],
      "execution_count": null,
      "outputs": []
    },
    {
      "cell_type": "markdown",
      "metadata": {
        "id": "GvG6sBtbpHQI"
      },
      "source": [
        "##11 --\tAltere o programa anterior para mostrar no final a soma dos números."
      ]
    },
    {
      "cell_type": "code",
      "metadata": {
        "id": "SCxcROZZpx2N"
      },
      "source": [],
      "execution_count": null,
      "outputs": []
    },
    {
      "cell_type": "markdown",
      "metadata": {
        "id": "wsCMgjRWp0gh"
      },
      "source": [
        "##12 --\tDesenvolva um gerador de tabuada, capaz de gerar a tabuada de qualquer número inteiro entre 1 a 10. O usuário deve informar de qual numero ele deseja ver a tabuada. A saída deve ser conforme o exemplo abaixo:\n",
        "###a.\tTabuada de 5:\n",
        "###5 X 1 = 5\n",
        "###5 X 2 = 10\n",
        "#...\n",
        "###5 X 10 = 50\n"
      ]
    },
    {
      "cell_type": "code",
      "metadata": {
        "id": "T-fRqwqgp_lw"
      },
      "source": [],
      "execution_count": null,
      "outputs": []
    },
    {
      "cell_type": "markdown",
      "metadata": {
        "id": "Yu1MeVStqBBX"
      },
      "source": [
        "##13 -- Faça um programa que peça dois números, base e expoente, calcule e mostre o primeiro número elevado ao segundo número. Não utilize a função de potência da linguagem."
      ]
    },
    {
      "cell_type": "code",
      "metadata": {
        "id": "JbYDK9wZqGFn"
      },
      "source": [],
      "execution_count": null,
      "outputs": []
    },
    {
      "cell_type": "markdown",
      "metadata": {
        "id": "blATOt5oqGlp"
      },
      "source": [
        "##14 -- Faça um programa que peça 10 números inteiros, calcule e mostre a quantidade de números pares e a quantidade de números impares."
      ]
    },
    {
      "cell_type": "code",
      "metadata": {
        "id": "L8gOGhMPqTtz"
      },
      "source": [],
      "execution_count": null,
      "outputs": []
    },
    {
      "cell_type": "markdown",
      "metadata": {
        "id": "J2P282hQqUdt"
      },
      "source": [
        "##15 --\tA série de Fibonacci é formada pela seqüência 1,1,2,3,5,8,13,21,34,55,... Faça um programa capaz de gerar a série até o n−ésimo termo."
      ]
    },
    {
      "cell_type": "code",
      "metadata": {
        "id": "xkePhLs9qZm6"
      },
      "source": [],
      "execution_count": null,
      "outputs": []
    },
    {
      "cell_type": "markdown",
      "metadata": {
        "id": "4ncrytM_qaZa"
      },
      "source": [
        "##16 --\tA série de Fibonacci é formada pela seqüência 0,1,1,2,3,5,8,13,21,34,55,... Faça um programa que gere a série até que o valor seja maior que 500."
      ]
    },
    {
      "cell_type": "code",
      "metadata": {
        "id": "XGb7CYuwqfKM"
      },
      "source": [],
      "execution_count": null,
      "outputs": []
    },
    {
      "cell_type": "markdown",
      "metadata": {
        "id": "6SNPNeoyqft8"
      },
      "source": [
        "##17 --\tFaça um programa que calcule o fatorial de um número inteiro fornecido pelo usuário. Ex.: 5!=5.4.3.2.1=120"
      ]
    },
    {
      "cell_type": "code",
      "metadata": {
        "id": "TJkyQjiqqkHy"
      },
      "source": [],
      "execution_count": null,
      "outputs": []
    },
    {
      "cell_type": "markdown",
      "metadata": {
        "id": "g9Fsol-RqktP"
      },
      "source": [
        "##18 --\tFaça um programa que, dado um conjunto de N números, determine o menor valor, o maior valor e a soma dos valores."
      ]
    },
    {
      "cell_type": "code",
      "metadata": {
        "id": "o051eMuzqp56"
      },
      "source": [],
      "execution_count": null,
      "outputs": []
    },
    {
      "cell_type": "markdown",
      "metadata": {
        "id": "8BfhNv94qurr"
      },
      "source": [
        "##19 --\tAltere o programa anterior para que ele aceite apenas números entre 0 e 1000."
      ]
    },
    {
      "cell_type": "code",
      "metadata": {
        "id": "O_U9yfXAqywD"
      },
      "source": [],
      "execution_count": null,
      "outputs": []
    },
    {
      "cell_type": "markdown",
      "metadata": {
        "id": "fm5wrv7gqzom"
      },
      "source": [
        "##20 --\tAltere o programa de cálculo do fatorial, permitindo ao usuário calcular o fatorial várias vezes e limitando o fatorial a números inteiros positivos e menores que 16."
      ]
    },
    {
      "cell_type": "code",
      "metadata": {
        "id": "pNa5UFPGq387"
      },
      "source": [],
      "execution_count": null,
      "outputs": []
    },
    {
      "cell_type": "markdown",
      "metadata": {
        "id": "JvUAgoroq4bp"
      },
      "source": [
        "##21 --\tFaça um programa que peça um número inteiro e determine se ele é ou não um número primo. Um número primo é aquele que é divisível somente por ele mesmo e por 1."
      ]
    },
    {
      "cell_type": "code",
      "metadata": {
        "id": "AFcjdAqYq9GL"
      },
      "source": [],
      "execution_count": null,
      "outputs": []
    },
    {
      "cell_type": "markdown",
      "metadata": {
        "id": "D2lWHIgzq9rG"
      },
      "source": [
        "##22 --\tAltere o programa de cálculo dos números primos, informando, caso o número não seja primo, por quais número ele é divisível."
      ]
    },
    {
      "cell_type": "code",
      "metadata": {
        "id": "sBKmL010rC5T"
      },
      "source": [],
      "execution_count": null,
      "outputs": []
    },
    {
      "cell_type": "markdown",
      "metadata": {
        "id": "uHRYLSy9rEag"
      },
      "source": [
        "##23 --\tFaça um programa que mostre todos os primos entre 1 e N sendo N um número inteiro fornecido pelo usuário. O programa deverá mostrar também o número de divisões que ele executou para encontrar os números primos. Serão avaliados o funcionamento, o estilo e o número de testes (divisões) executados."
      ]
    },
    {
      "cell_type": "code",
      "metadata": {
        "id": "glbKqLRnrI7c"
      },
      "source": [],
      "execution_count": null,
      "outputs": []
    },
    {
      "cell_type": "markdown",
      "metadata": {
        "id": "N3rJs99RrJoE"
      },
      "source": [
        "##24 --\tFaça um programa que calcule o mostre a média aritmética de N notas."
      ]
    },
    {
      "cell_type": "code",
      "metadata": {
        "id": "ECt9ssgdrOVk"
      },
      "source": [],
      "execution_count": null,
      "outputs": []
    },
    {
      "cell_type": "markdown",
      "metadata": {
        "id": "dFjN8sSErOzf"
      },
      "source": [
        "##25 --\tFaça um programa que peça para n pessoas a sua idade, ao final o programa devera verificar se a média de idade da turma varia entre 0 e 25,26 e 60 e maior que 60; e então, dizer se a turma é jovem, adulta ou idosa, conforme a média calculada."
      ]
    },
    {
      "cell_type": "code",
      "metadata": {
        "id": "g9Z0AN34r3zn"
      },
      "source": [],
      "execution_count": null,
      "outputs": []
    },
    {
      "cell_type": "markdown",
      "metadata": {
        "id": "39DlwkNar4ny"
      },
      "source": [
        "##26 --\tNuma eleição existem três candidatos. Faça um programa que peça o número total de eleitores. Peça para cada eleitor votar e ao final mostrar o número de votos de cada candidato."
      ]
    },
    {
      "cell_type": "code",
      "metadata": {
        "id": "QH1aMtWdsAiA"
      },
      "source": [],
      "execution_count": null,
      "outputs": []
    },
    {
      "cell_type": "markdown",
      "metadata": {
        "id": "s9c3goRrsh8Z"
      },
      "source": [
        "##27 -- Faça um programa que calcule o número médio de alunos por turma. Para isto, peça a quantidade de turmas e a quantidade de alunos para cada turma. As turmas não podem ter mais de 40 alunos."
      ]
    },
    {
      "cell_type": "code",
      "metadata": {
        "id": "TV7xezkLsmiR"
      },
      "source": [],
      "execution_count": null,
      "outputs": []
    },
    {
      "cell_type": "markdown",
      "metadata": {
        "id": "2gRAiZxEsnjp"
      },
      "source": [
        "##28 --\tFaça um programa que calcule o valor total investido por um colecionador em sua coleção de CDs e o valor médio gasto em cada um deles. O usuário deverá informar a quantidade de CDs e o valor para em cada um."
      ]
    },
    {
      "cell_type": "code",
      "metadata": {
        "id": "P1rJGQensrqC"
      },
      "source": [],
      "execution_count": null,
      "outputs": []
    },
    {
      "cell_type": "markdown",
      "metadata": {
        "id": "c8tdICUGssmT"
      },
      "source": [
        "##29 --\tO Sr. Manoel Joaquim possui uma grande loja de artigos de R$ 1,99, com cerca de 10 caixas. Para agilizar o cálculo de quanto cada cliente deve pagar ele desenvolveu um tabela que contém o número de itens que o cliente comprou e ao lado o valor da conta. Desta forma a atendente do caixa precisa apenas contar quantos itens o cliente está levando e olhar na tabela de preços. Você foi contratado para desenvolver o programa que monta esta tabela de preços, que conterá os preços de 1 até 50 produtos, conforme o exemplo abaixo:\n",
        "###a.\tLojas Quase Dois - Tabela de preços\n",
        "###1 -  1.99 real\n",
        "###2 - 3.98 reais\n",
        "#...\n",
        "###50 - 99.50 reais\n"
      ]
    },
    {
      "cell_type": "code",
      "metadata": {
        "id": "I4CBUHois9_d"
      },
      "source": [],
      "execution_count": null,
      "outputs": []
    },
    {
      "cell_type": "markdown",
      "metadata": {
        "id": "6h0fHFM4s_x_"
      },
      "source": [
        "##30 -- O Sr. Manoel Joaquim acaba de adquirir uma panificadora e pretende implantar a metodologia da tabelinha, que já é um sucesso na sua loja de 1,99. Você foi contratado para desenvolver o programa que monta a tabela de preços de pães, de 1 até 50 pães, a partir do preço do pão informado pelo usuário, conforme o exemplo abaixo:\n",
        "###a.\tPreço do pão: R$ 0.18\n",
        "###Panificadora Pão de Ontem - Tabela de preços\n",
        "###1 - 0.18 real\n",
        "###2 - 0.36 real\n",
        "##...\n",
        "###50 - 9.00 real\n"
      ]
    },
    {
      "cell_type": "code",
      "metadata": {
        "id": "3WU2G-_8tSFf"
      },
      "source": [],
      "execution_count": null,
      "outputs": []
    },
    {
      "cell_type": "markdown",
      "metadata": {
        "id": "p15o2wyZtTDP"
      },
      "source": [
        "##31 -- O Sr. Manoel Joaquim expandiu seus negócios para além dos negócios de 1,99 e agora possui uma loja de conveniências. Faça um programa que implemente uma caixa registradora rudimentar. O programa deverá receber um número desconhecido de valores referentes aos preços das mercadorias. Um valor zero deve ser informado pelo operador para indicar o final da compra. O programa deve então mostrar o total da compra e perguntar o valor em dinheiro que o cliente forneceu, para então calcular e mostrar o valor do troco. Após esta operação, o programa deverá voltar ao ponto inicial, para registrar a próxima compra. A saída deve ser conforme o exemplo abaixo:\n",
        "###a.\tLojas Tabajara\n",
        "###Produto 1: 2.20 reais\n",
        "###Produto 2: 5.80 reais\n",
        "###Produto 3: 0 real\n",
        "###Total: 9.00 real\n",
        "###Dinheiro: 20.00 reais\n",
        "###Troco: 11.00 reais\n"
      ]
    },
    {
      "cell_type": "code",
      "metadata": {
        "id": "qaF-KBFatk0l"
      },
      "source": [],
      "execution_count": null,
      "outputs": []
    },
    {
      "cell_type": "markdown",
      "metadata": {
        "id": "bCYS--lktluF"
      },
      "source": [
        "##32 --\tFaça um programa que calcule o fatorial de um número inteiro fornecido pelo usuário. Ex.: 5!=5.4.3.2.1=120. A saída deve ser conforme o exemplo abaixo:\n",
        "##a.\tFatorial de: 5\n",
        "##5! =  5 . 4 . 3 . 2 . 1 = 120\n"
      ]
    },
    {
      "cell_type": "code",
      "metadata": {
        "id": "bPgeaE2atsKL"
      },
      "source": [],
      "execution_count": null,
      "outputs": []
    },
    {
      "cell_type": "markdown",
      "metadata": {
        "id": "JBoSkTZUtvX5"
      },
      "source": [
        "##33 -- O Departamento Estadual de Meteorologia lhe contratou para desenvolver um programa que leia as um conjunto indeterminado de temperaturas, e informe ao final a menor e a maior temperaturas informadas, bem como a média das temperaturas."
      ]
    },
    {
      "cell_type": "code",
      "metadata": {
        "id": "Wpaws7FVtzmK"
      },
      "source": [],
      "execution_count": null,
      "outputs": []
    },
    {
      "cell_type": "markdown",
      "metadata": {
        "id": "4lxcaVoMt0O1"
      },
      "source": [
        "##34 -- Os números primos possuem várias aplicações dentro da Computação, por exemplo na Criptografia. Um número primo é aquele que é divisível apenas por um e por ele mesmo. Faça um programa que peça um número inteiro e determine se ele é ou não um número primo."
      ]
    },
    {
      "cell_type": "code",
      "metadata": {
        "id": "m4hBtBF6t59x"
      },
      "source": [],
      "execution_count": null,
      "outputs": []
    },
    {
      "cell_type": "markdown",
      "metadata": {
        "id": "vMY8bMpAt7FA"
      },
      "source": [
        "##35 -- Encontrar números primos é uma tarefa difícil. Faça um programa que gera uma lista dos números primos existentes entre 1 e um número inteiro informado pelo usuário."
      ]
    },
    {
      "cell_type": "code",
      "metadata": {
        "id": "OsfE9Jogt_S6"
      },
      "source": [],
      "execution_count": null,
      "outputs": []
    },
    {
      "cell_type": "markdown",
      "metadata": {
        "id": "OuIxI3FNuAYt"
      },
      "source": [
        "##36 --\tDesenvolva um programa que faça a tabuada de um número qualquer inteiro que será digitado pelo usuário, mas a tabuada não deve necessariamente iniciar em 1 e terminar em 10, o valor inicial e final devem ser informados também pelo usuário, conforme exemplo abaixo:\n",
        "###a.\tMontar a tabuada de: 5\n",
        "###Começar por: 4\n",
        "###Terminar em: 7\n",
        "\n",
        "###Vou montar a tabuada de 5 começando em 4 e terminando em 7:\n",
        "###5 X 4 = 20\n",
        "###5 X 5 = 25\n",
        "###5 X 6 = 30\n",
        "###5 X 7 = 35\n",
        "####Obs: Você deve verificar se o usuário não digitou o final menor que o inicial.\n"
      ]
    },
    {
      "cell_type": "code",
      "metadata": {
        "id": "bC77J-a-uPWv"
      },
      "source": [],
      "execution_count": null,
      "outputs": []
    },
    {
      "cell_type": "markdown",
      "metadata": {
        "id": "n8KQcnNruQR7"
      },
      "source": [
        "##37 --\tUma academia deseja fazer um senso entre seus clientes para descobrir o mais alto, o mais baixo, a mais gordo e o mais magro, para isto você deve fazer um programa que pergunte a cada um dos clientes da academia seu código, sua altura e seu peso. O final da digitação de dados deve ser dada quando o usuário digitar 0 (zero) no campo código. Ao encerrar o programa também deve ser informados os códigos e valores do clente mais alto, do mais baixo, do mais gordo e do mais magro, além da média das alturas e dos pesos dos clientes"
      ]
    },
    {
      "cell_type": "code",
      "metadata": {
        "id": "9Z7ZNVgRuVMT"
      },
      "source": [],
      "execution_count": null,
      "outputs": []
    },
    {
      "cell_type": "markdown",
      "metadata": {
        "id": "5qbc4lt3uZsq"
      },
      "source": [
        "##38 --\tUm funcionário de uma empresa recebe aumento salarial anualmente: Sabe-se que:\n",
        "###a.\tEsse funcionário foi contratado em 1995, com salário inicial de R$ 1.000,00;\n",
        "###b.\tEm 1996 recebeu aumento de 1,5% sobre seu salário inicial;\n",
        "###c.\tA partir de 1997 (inclusive), os aumentos salariais sempre correspondem ao dobro do percentual do ano anterior. Faça um programa que determine o salário atual desse funcionário. Após concluir isto, altere o programa permitindo que o usuário digite o salário inicial do funcionário.\n"
      ]
    },
    {
      "cell_type": "code",
      "metadata": {
        "id": "wirQbZ1duj7-"
      },
      "source": [],
      "execution_count": null,
      "outputs": []
    },
    {
      "cell_type": "markdown",
      "metadata": {
        "id": "-0JBpe-cu4ju"
      },
      "source": [
        "##39 --\tFaça um programa que leia dez conjuntos de dois valores, o primeiro representando o número do aluno e o segundo representando a sua altura em centímetros. Encontre o aluno mais alto e o mais baixo. Mostre o número do aluno mais alto e o número do aluno mais baixo, junto com suas alturas."
      ]
    },
    {
      "cell_type": "code",
      "metadata": {
        "id": "wqZY9EWzu9Zh"
      },
      "source": [],
      "execution_count": null,
      "outputs": []
    },
    {
      "cell_type": "markdown",
      "metadata": {
        "id": "hfvF5CODu-B4"
      },
      "source": [
        "##40 -- Foi feita uma estatística em cinco cidades brasileiras para coletar dados sobre acidentes de trânsito. Foram obtidos os seguintes dados:\n",
        "###a.\tCódigo da cidade;\n",
        "###b.\tNúmero de veículos de passeio (em 1999);\n",
        "###c.\tNúmero de acidentes de trânsito com vítimas (em 1999). Deseja-se saber:\n",
        "###d.\tQual o maior e menor índice de acidentes de transito e a que cidade pertence;\n",
        "###e.\tQual a média de veículos nas cinco cidades juntas;\n",
        "###f.\tQual a média de acidentes de trânsito nas cidades com menos de 2.000 veículos de passeio.\n"
      ]
    },
    {
      "cell_type": "code",
      "metadata": {
        "id": "-_knMpCOvGRY"
      },
      "source": [],
      "execution_count": null,
      "outputs": []
    },
    {
      "cell_type": "markdown",
      "metadata": {
        "id": "aIu5Dt3nvG6J"
      },
      "source": [
        "##41.\tFaça um programa que receba o valor de uma dívida e mostre uma tabela com os seguintes dados: valor da dívida, valor dos juros, quantidade de parcelas e valor da parcela.\n",
        "##a.\tOs juros e a quantidade de parcelas seguem a tabela abaixo:\n",
        "##Quantidade de Parcelas  % de Juros sobre o valor inicial da dívida\n",
        "###1       0\n",
        "###3       10\n",
        "###6       15\n",
        "###9       20\n",
        "###12      25\n",
        "###Exemplo de saída do programa:\n",
        "##Valor da Dívida--Valor dos Juros--Quantidade de Parcelas--Valor da Parcela\n",
        " 1.000,00 reais-------0---------1-------------1.000,00 reais\n",
        "\n",
        " 1.100,00 reais------100--------3-------------366,00 reais\n",
        "\n",
        " 1.150,00 reais------150--------6-------------191,67 reais\n"
      ]
    },
    {
      "cell_type": "code",
      "metadata": {
        "id": "D2RnRhf4w_yK"
      },
      "source": [],
      "execution_count": null,
      "outputs": []
    },
    {
      "cell_type": "markdown",
      "metadata": {
        "id": "oc3XFhDkxBS3"
      },
      "source": [
        "##42 --\tFaça um programa que leia uma quantidade indeterminada de números positivos e conte quantos deles estão nos seguintes intervalos: [0-25], [26-50], [51-75] e [76-100]. A entrada de dados deverá terminar quando for lido um número negativo."
      ]
    },
    {
      "cell_type": "code",
      "metadata": {
        "id": "wSyqb0rlxGQu"
      },
      "source": [],
      "execution_count": null,
      "outputs": []
    },
    {
      "cell_type": "markdown",
      "metadata": {
        "id": "ruEHZ3N0xG2B"
      },
      "source": [
        "##43.\tO cardápio de uma lanchonete é o seguinte:\n",
        "##a.\tEspecificação-----Código----Preço\n",
        "###Cachorro Quente-------100------1,20 real\n",
        "###Bauru Simples-----------101------1,30 real\n",
        "###Bauru com ovo----------102------1,50 real\n",
        "###Hambúrguer--------------103------1,20 real\n",
        "###Cheeseburguer----------104------1, real\n",
        "###Refrigerante--------------105------1,00 real\n",
        "###Faça um programa que leia o código dos itens pedidos e as quantidades desejadas. Calcule e mostre o valor a ser pago por item (preço * quantidade) e o total geral do pedido. Considere que o cliente deve informar quando o pedido deve ser encerrado.\n"
      ]
    },
    {
      "cell_type": "code",
      "metadata": {
        "id": "w8OV-o0xyGUu"
      },
      "source": [],
      "execution_count": null,
      "outputs": []
    },
    {
      "cell_type": "markdown",
      "metadata": {
        "id": "uBkDhAEnygrv"
      },
      "source": [
        "##44 --\tEm uma eleição presidencial existem quatro candidatos. Os votos são informados por meio de código. Os códigos utilizados são:\n",
        "###a.\t1 , 2, 3, 4  - Votos para os respectivos candidatos\n",
        "###(você deve montar a tabela ex: 1 - Jose/ 2- João/etc)\n",
        "###5 - Voto Nulo\n",
        "###6 - Voto em Branco\n",
        "###Faça um programa que calcule e mostre:\n",
        "###b.\tO total de votos para cada candidato;\n",
        "###c.\tO total de votos nulos;\n",
        "###d.\tO total de votos em branco;\n",
        "###e.\tA percentagem de votos nulos sobre o total de votos;\n",
        "###f.\tA percentagem de votos em branco sobre o total de votos. Para finalizar o conjunto de votos tem-se o valor zero.\n"
      ]
    },
    {
      "cell_type": "code",
      "metadata": {
        "id": "2D6DZPt_yw1l"
      },
      "source": [],
      "execution_count": null,
      "outputs": []
    },
    {
      "cell_type": "markdown",
      "metadata": {
        "id": "sH3DGc6dyxuU"
      },
      "source": [
        "##45 --\tDesenvolver um programa para verificar a nota do aluno em uma prova com 10 questões, o programa deve perguntar ao aluno a resposta de cada questão e ao final comparar com o gabarito da prova e assim calcular o total de acertos e a nota (atribuir 1 ponto por resposta certa). Após cada aluno utilizar o sistema deve ser feita uma pergunta se outro aluno vai utilizar o sistema. Após todos os alunos terem respondido informar:\n",
        "###a.\tMaior e Menor Acerto;\n",
        "###b.\tTotal de Alunos que utilizaram o sistema;\n",
        "###c.\tA Média das Notas da Turma.\n",
        "##Gabarito da Prova:\n",
        "\n",
        "###01 - A\n",
        "###02 - B\n",
        "###03 - C\n",
        "###04 - D\n",
        "###05 - E\n",
        "###06 - E\n",
        "###07 - D\n",
        "###08 - C\n",
        "###09 - B\n",
        "###10 - A\n",
        "###Após concluir isto você poderia incrementar o programa permitindo que o professor digite o gabarito da prova antes dos alunos usarem o programa.\n"
      ]
    },
    {
      "cell_type": "code",
      "metadata": {
        "id": "N8urhvJezCWz"
      },
      "source": [],
      "execution_count": null,
      "outputs": []
    },
    {
      "cell_type": "markdown",
      "metadata": {
        "id": "2x-Vy-8AzER5"
      },
      "source": [
        "##46.\tEm uma competição de salto em distância cada atleta tem direito a cinco saltos. No final da série de saltos de cada atleta, o melhor e o pior resultados são eliminados. O seu resultado fica sendo a média dos três valores restantes. Você deve fazer um programa que receba o nome e as cinco distâncias alcançadas pelo atleta em seus saltos e depois informe a média dos saltos conforme a descrição acima informada (retirar o melhor e o pior salto e depois calcular a média). Faça uso de uma lista para armazenar os saltos. Os saltos são informados na ordem da execução, portanto não são ordenados. O programa deve ser encerrado quando não for informado o nome do atleta. A saída do programa deve ser conforme o exemplo abaixo:\n",
        "###Atleta: Rodrigo Curvêllo\n",
        "\n",
        "###Primeiro Salto: 6.5 m\n",
        "###Segundo Salto: 6.1 m\n",
        "###Terceiro Salto: 6.2 m\n",
        "###Quarto Salto: 5.4 m\n",
        "###Quinto Salto: 5.3 m\n",
        "\n",
        "###Melhor salto:  6.5 m\n",
        "###Pior salto: 5.3 m\n",
        "###Média dos demais saltos: 5.9 m\n",
        "\n",
        "###Resultado final:\n",
        "###Rodrigo Curvêllo: 5.9 m\n"
      ]
    },
    {
      "cell_type": "code",
      "metadata": {
        "id": "tQw0YVRgzPu3"
      },
      "source": [],
      "execution_count": null,
      "outputs": []
    },
    {
      "cell_type": "markdown",
      "metadata": {
        "id": "ldkA6EjCzRc6"
      },
      "source": [
        "##47 --\tEm uma competição de ginástica, cada atleta recebe votos de sete jurados. A melhor e a pior nota são eliminadas. A sua nota fica sendo a média dos votos restantes. Você deve fazer um programa que receba o nome do ginasta e as notas dos sete jurados alcançadas pelo atleta em sua apresentação e depois informe a sua média, conforme a descrição acima informada (retirar o melhor e o pior salto e depois calcular a média com as notas restantes). As notas não são informados ordenadas. Um exemplo de saída do programa deve ser conforme o exemplo abaixo:\n",
        "###Atleta: Aparecido Parente\n",
        "###Nota: 9.9\n",
        "###Nota: 7.5\n",
        "###Nota: 9.5\n",
        "###Nota: 8.5\n",
        "###Nota: 9.0\n",
        "###Nota: 8.5\n",
        "###Nota: 9.7\n",
        "\n",
        "###Resultado final:\n",
        "###Atleta: Aparecido Parente\n",
        "###Melhor nota: 9.9\n",
        "###Pior nota: 7.5\n",
        "###Média: 9,04\n"
      ]
    },
    {
      "cell_type": "code",
      "metadata": {
        "id": "tQt-ax8Jzhah"
      },
      "source": [],
      "execution_count": null,
      "outputs": []
    },
    {
      "cell_type": "markdown",
      "metadata": {
        "id": "Pr16c5Xdzi9A"
      },
      "source": [
        "##48 --\tFaça um programa que peça um numero inteiro positivo e em seguida mostre este numero invertido.\n",
        "####a.\tExemplo:\n",
        " ### 12376489\n",
        " ### => 98467321\n"
      ]
    },
    {
      "cell_type": "code",
      "metadata": {
        "id": "-ppWk1pazrfb"
      },
      "source": [],
      "execution_count": null,
      "outputs": []
    },
    {
      "cell_type": "markdown",
      "metadata": {
        "id": "kZXiXqfBzsAa"
      },
      "source": [
        "##49 --\tFaça um programa que mostre os n termos da Série a seguir:\n",
        "###a.\t  S = 1/1 + 2/3 + 3/5 + 4/7 + 5/9 + ... + n/m.\n",
        "###Imprima no final a soma da série.\n"
      ]
    },
    {
      "cell_type": "code",
      "metadata": {
        "id": "IIwiO0Otzyn3"
      },
      "source": [],
      "execution_count": null,
      "outputs": []
    },
    {
      "cell_type": "markdown",
      "metadata": {
        "id": "aTRdk_6nzzMI"
      },
      "source": [
        "##50 --\tSendo H= 1 + 1/2 + 1/3 + 1/4 + ... + 1/N, Faça um programa que calcule o valor de H com N termos."
      ]
    },
    {
      "cell_type": "code",
      "metadata": {
        "id": "4X9RjMgzz39c"
      },
      "source": [],
      "execution_count": null,
      "outputs": []
    },
    {
      "cell_type": "markdown",
      "metadata": {
        "id": "BYKEZG8ez5q1"
      },
      "source": [
        "##51 -- Faça um programa que mostre os n termos da Série a seguir:\n",
        "###a.\t  S = 1/1 + 2/3 + 3/5 + 4/7 + 5/9 + ... + n/m.\n",
        "###Imprima no final a soma da série.\n"
      ]
    },
    {
      "cell_type": "code",
      "metadata": {
        "id": "poBVp5c10BEL"
      },
      "source": [],
      "execution_count": null,
      "outputs": []
    },
    {
      "cell_type": "markdown",
      "metadata": {
        "id": "L-MTz8OhYZhL"
      },
      "source": [
        "# III – Listas"
      ]
    },
    {
      "cell_type": "markdown",
      "metadata": {
        "id": "entihFT7b6Bk"
      },
      "source": [
        "## 1 --\tFaça um Programa que leia um vetor de 5 números inteiros e mostre-os."
      ]
    },
    {
      "cell_type": "code",
      "metadata": {
        "id": "GeffjzNFb_vy"
      },
      "source": [],
      "execution_count": null,
      "outputs": []
    },
    {
      "cell_type": "markdown",
      "metadata": {
        "id": "7eaRVg4jcBrx"
      },
      "source": [
        "##2 -- Faça um Programa que leia um vetor de 10 números reais e mostre-os na ordem inversa."
      ]
    },
    {
      "cell_type": "code",
      "metadata": {
        "id": "3vQxuMhwCkDL"
      },
      "source": [],
      "execution_count": null,
      "outputs": []
    },
    {
      "cell_type": "markdown",
      "metadata": {
        "id": "o2x_trTwDhbI"
      },
      "source": [
        "## 3 -- Faça um Programa que leia 4 notas, mostre as notas e a média na tela.\n"
      ]
    },
    {
      "cell_type": "code",
      "metadata": {
        "id": "G4SolEDDD8Lr"
      },
      "source": [],
      "execution_count": null,
      "outputs": []
    },
    {
      "cell_type": "markdown",
      "metadata": {
        "id": "N8Q2HznKD93V"
      },
      "source": [
        "## 4 -- Faça um Programa que leia um vetor de 10 caracteres, e diga quantas consoantes foram lidas. Imprima as consoantes.\n"
      ]
    },
    {
      "cell_type": "code",
      "metadata": {
        "id": "O_M_AbXnEYzC"
      },
      "source": [],
      "execution_count": null,
      "outputs": []
    },
    {
      "cell_type": "markdown",
      "metadata": {
        "id": "zqtr6mx8Efoj"
      },
      "source": [
        "## 5 -- Faça um Programa que leia 20 números inteiros e armazene-os num vetor. Armazene os números pares no vetor PAR e os números IMPARES no vetor impar. Imprima os três vetores.\n"
      ]
    },
    {
      "cell_type": "code",
      "metadata": {
        "id": "PsDusn1uEsHc"
      },
      "source": [],
      "execution_count": null,
      "outputs": []
    },
    {
      "cell_type": "markdown",
      "metadata": {
        "id": "cWeUfnMHEwd3"
      },
      "source": [
        "## 6 -- Faça um Programa que peça as quatro notas de 10 alunos, calcule e armazene num vetor a média de cada aluno, imprima o número de alunos com média maior ou igual a 7.0.\n"
      ]
    },
    {
      "cell_type": "code",
      "metadata": {
        "id": "jINhnQiAFFMw"
      },
      "source": [],
      "execution_count": null,
      "outputs": []
    },
    {
      "cell_type": "markdown",
      "metadata": {
        "id": "H_8HiBVxFKJF"
      },
      "source": [
        "## 7 --Faça um Programa que leia um vetor de 5 números inteiros, mostre a soma, a multiplicação e os números.\n"
      ]
    },
    {
      "cell_type": "code",
      "metadata": {
        "id": "TK44vu3ZFYLz"
      },
      "source": [],
      "execution_count": null,
      "outputs": []
    },
    {
      "cell_type": "markdown",
      "metadata": {
        "id": "vLOHqZiXFgq5"
      },
      "source": [
        "## 8 -- Faça um Programa que peça a idade e a altura de 5 pessoas, armazene cada informação no seu respectivo vetor. Imprima a idade e a altura na ordem inversa a ordem lida.\n"
      ]
    },
    {
      "cell_type": "code",
      "metadata": {
        "id": "kh7xnRQeF105"
      },
      "source": [],
      "execution_count": null,
      "outputs": []
    },
    {
      "cell_type": "markdown",
      "metadata": {
        "id": "q00ogXYSF63r"
      },
      "source": [
        "## 9 -- Faça um Programa que leia um vetor A com 10 números inteiros, calcule e mostre a soma dos quadrados dos elementos do vetor.\n"
      ]
    },
    {
      "cell_type": "code",
      "metadata": {
        "id": "zJA_xghEGUhv"
      },
      "source": [],
      "execution_count": null,
      "outputs": []
    },
    {
      "cell_type": "markdown",
      "metadata": {
        "id": "U2nxxOiIGWdw"
      },
      "source": [
        "## 10 -- Faça um Programa que leia dois vetores com 10 elementos cada. Gere um terceiro vetor de 20 elementos, cujos valores deverão ser compostos pelos elementos intercalados dos dois outros vetores.\n"
      ]
    },
    {
      "cell_type": "code",
      "metadata": {
        "id": "4-ggQcSYGiM0"
      },
      "source": [],
      "execution_count": null,
      "outputs": []
    },
    {
      "cell_type": "markdown",
      "metadata": {
        "id": "e2Jh7Cs8Glfo"
      },
      "source": [
        "## 11 -- Altere o programa anterior, intercalando 3 vetores de 10 elementos cada.\n"
      ]
    },
    {
      "cell_type": "code",
      "metadata": {
        "id": "gnBQrywDGyBf"
      },
      "source": [],
      "execution_count": null,
      "outputs": []
    },
    {
      "cell_type": "markdown",
      "metadata": {
        "id": "mooeiJBfG5Bd"
      },
      "source": [
        "## 12 -- Foram anotadas as idades e alturas de 30 alunos. Faça um Programa que determine quantos alunos com mais de 13 anos possuem altura inferior à média de altura desses alunos."
      ]
    },
    {
      "cell_type": "code",
      "metadata": {
        "id": "8Ux_zdrjHIdz"
      },
      "source": [],
      "execution_count": null,
      "outputs": []
    },
    {
      "cell_type": "markdown",
      "metadata": {
        "id": "KaVDDDsRHXfA"
      },
      "source": [
        "## 13 -- Faça um programa que receba a temperatura média de cada mês do ano e armazene-as em uma lista. Após isto, calcule a média anual das temperaturas e mostre todas as temperaturas acima da média anual, e em que mês elas ocorreram (mostrar o mês por extenso: 1 – Janeiro, 2 – Fevereiro, . . . ).\n"
      ]
    },
    {
      "cell_type": "code",
      "metadata": {
        "id": "0c0g-PX7HgBK"
      },
      "source": [],
      "execution_count": null,
      "outputs": []
    },
    {
      "cell_type": "markdown",
      "metadata": {
        "id": "6TCG-7xoASlX"
      },
      "source": [
        "## 14 -- Utilizando listas faça um programa que faça 5 perguntas para uma pessoa sobre um crime. As perguntas são:\n",
        "a.\"Telefonou para a vítima?\"\n",
        "\n",
        "b. \"Esteve no local do crime?\"\n",
        "\n",
        "c. \"Mora perto da vítima?\"\n",
        "\n",
        "d.\"Devia para a vítima?\"\n",
        "\n",
        "e.\"Já trabalhou com a vítima?\"\n",
        "\n",
        "a.\"Telefonou para a vítima?\"\n",
        "\n",
        "b. \"Esteve no local do crime?\"\n",
        "\n",
        "c. \"Mora perto da vítima?\"\n",
        "\n",
        "d.\"Devia para a vítima?\"\n",
        "\n",
        "e.\"Já trabalhou com a vítima?\"\n",
        "\n",
        " O programa deve no final emitir uma classificação sobre a participação da pessoa no crime. Se a pessoa responder positivamente a 2 questões ela deve ser classificada como \"Suspeita\", entre 3 e 4 como \"Cúmplice\" e 5 como \"Assassino\". Caso contrário, ele será classificado como \"Inocente\".\n",
        " "
      ]
    },
    {
      "cell_type": "code",
      "metadata": {
        "id": "m15C7NBiBgBK"
      },
      "source": [],
      "execution_count": null,
      "outputs": []
    },
    {
      "cell_type": "markdown",
      "metadata": {
        "id": "GytCZ2DVD02W"
      },
      "source": [
        "## 15 -- Faça um programa que leia um número indeterminado de valores, correspondentes a notas, encerrando a entrada de dados quando for informado um valor igual a -1 (que não deve ser armazenado). Após esta entrada de dados, faça:\n",
        "Mostre a quantidade de valores que foram lidos;\n",
        ".Exiba todos os valores na ordem em que foram informados, um ao lado do outro;\n",
        "\n",
        ".Exiba todos os valores na ordem inversa à que foram informados, um abaixo do outro;\n",
        "\n",
        ".Calcule e mostre a soma dos valores;\n",
        "\n",
        ".Calcule e mostre a média dos valores;\n",
        "\n",
        ".Calcule e mostre a quantidade de valores acima da média calculada;\n",
        "\n",
        ".Calcule e mostre a quantidade de valores abaixo de sete;\n",
        "\n",
        ".Encerre o programa com uma mensagem;\n"
      ]
    },
    {
      "cell_type": "code",
      "metadata": {
        "id": "H9aUOFuFD-Wq"
      },
      "source": [],
      "execution_count": null,
      "outputs": []
    },
    {
      "cell_type": "markdown",
      "metadata": {
        "id": "So5fHfrEGjj_"
      },
      "source": [
        "#### 16 -- Utilize uma lista para resolver o problema a seguir. Uma empresa paga seus vendedores com base em comissões. O vendedor recebe $\\$200$ por semana mais 9 por cento de suas vendas brutas daquela semana. Por exemplo, um vendedor que teve vendas brutas de $\\$3000$ em uma semana recebe $\\$200$ mais 9 por cento de $\\$3000$, ou seja, um total de $\\$470$. Escreva um programa (usando um array de contadores) que determine quantos vendedores receberam salários nos seguintes intervalos de valores:\n",
        "a. $\\$200 - \\$299$</br>\n",
        "b. $\\$300 - \\$399$</br>\n",
        "c. $\\$400 - \\$499$</br>\n",
        "d. $\\$500 - \\$599$</br>\n",
        "e. $\\$600 - \\$699$</br>\n",
        "f. $\\$700 - \\$799$</br>\n",
        "g. $\\$800 - \\$899$</br>\n",
        "h. $\\$900 - \\$999$</br>\n",
        "i. $\\$1000$ em diante\n",
        "\n",
        "**Desafio:** Crie ma fórmula para chegar na posição da lista a partir do salário, sem fazer vários ifs aninhados.\n"
      ]
    },
    {
      "cell_type": "code",
      "metadata": {
        "id": "BNJLquQ9M2XU"
      },
      "source": [],
      "execution_count": null,
      "outputs": []
    },
    {
      "cell_type": "markdown",
      "metadata": {
        "id": "xqhls_3jMgzd"
      },
      "source": [
        "## 17 -- Em uma competição de salto em distância cada atleta tem direito a cinco saltos. O resultado do atleta será determinado pela média dos cinco valores restantes. Você deve fazer um programa que receba o nome e as cinco distâncias alcançadas pelo atleta em seus saltos e depois informe o nome, os saltos e a média dos saltos. O programa deve ser encerrado quando não for informado o nome do atleta. A saída do programa deve ser conforme o exemplo abaixo:\n",
        "Atleta: Rodrigo Curvêllo\n",
        " \n",
        "Primeiro Salto: 6.5 m\n",
        " \n",
        "Segundo Salto: 6.1 m\n",
        " \n",
        "Terceiro Salto: 6.2 m\n",
        " \n",
        "Quarto Salto: 5.4 m\n",
        " \n",
        "Quinto Salto: 5.3 m\n",
        " \n",
        "Resultado final:\n",
        "Atleta: Rodrigo Curvêllo\n",
        " \n",
        "Saltos: 6.5 - 6.1 - 6.2 - 5.4 - 5.3\n",
        " \n",
        "Média dos saltos: 5.9 m\n"
      ]
    },
    {
      "cell_type": "code",
      "metadata": {
        "id": "bWTbSQ5rM-Oj"
      },
      "source": [],
      "execution_count": null,
      "outputs": []
    },
    {
      "cell_type": "markdown",
      "metadata": {
        "id": "I-etxRcVPlCt"
      },
      "source": [
        "## 18 -- Uma grande emissora de televisão quer fazer uma enquete entre os seus telespectadores para saber qual o melhor jogador após cada jogo. Para isto, faz-se necessário o desenvolvimento de um programa, que será utilizado pelas telefonistas, para a computação dos votos. Sua equipe foi contratada para desenvolver este programa, utilizando a linguagem de programação C++. Para computar cada voto, a telefonista digitará um número, entre 1 e 23, correspondente ao número da camisa do jogador. Um número de jogador igual zero, indica que a votação foi encerrada. Se um número inválido for digitado, o programa deve ignorá-lo, mostrando uma breve mensagem de aviso, e voltando a pedir outro número. Após o final da votação, o programa deverá exibir:\n",
        ".O total de votos computados;\n",
        "\n",
        ".Os númeos e respectivos votos de todos os jogadores que receberam votos;\n",
        "\n",
        ".O percentual de votos de cada um destes jogadores;\n",
        "\n",
        ".O número do jogador escolhido como o melhor jogador da partida, juntamente com o número de votos e o percentual de votos dados a ele.\n",
        "\n",
        ".Observe que os votos inválidos e o zero final não devem ser computados como votos. O resultado aparece ordenado pelo número do jogador. O programa deve fazer uso de arrays. O programa deverá executar o cálculo do percentual de cada jogador através de uma função. Esta função receberá dois parâmetros: o número de votos de um jogador e o total de votos. A função calculará o percentual e retornará o valor calculado. Abaixo segue uma tela de exemplo. O disposição das informações deve ser o mais próxima possível ao exemplo. Os dados são fictícios e podem mudar a cada execução do programa. Ao final, o programa deve ainda gravar os dados referentes ao resultado da votação em um arquivo texto no disco, obedecendo a mesma disposição apresentada na tela.\n",
        "Enquete: Quem foi o melhor jogador?\n",
        " \n",
        "Número do jogador (0=fim): 9\n",
        " \n",
        "Número do jogador (0=fim): 10\n",
        " \n",
        "Número do jogador (0=fim): 9\n",
        " \n",
        "Número do jogador (0=fim): 10\n",
        " \n",
        "Número do jogador (0=fim): 11\n",
        " \n",
        "Número do jogador (0=fim): 10\n",
        " \n",
        "Número do jogador (0=fim): 50\n",
        " \n",
        "Informe um valor entre 1 e 23 ou 0 para sair!\n",
        "Número do jogador (0=fim): 9\n",
        " \n",
        "Número do jogador (0=fim): 9\n",
        " \n",
        "Número do jogador (0=fim): 0\n",
        " \n",
        "Resultado da votação:\n",
        " \n",
        "Foram computados 8 votos.\n",
        " \n",
        "Jogador         Votos           %\n",
        " \n",
        "9               4              50,0%\n",
        " \n",
        "10              3              37,5%\n",
        " \n",
        "11              1              12,5%\n",
        " \n",
        "O melhor jogador foi o número 9, com 4 votos, correspondendo a 50% do total de votos.\n",
        "nde"
      ]
    },
    {
      "cell_type": "code",
      "metadata": {
        "id": "eqkD0bIjP1yA"
      },
      "source": [],
      "execution_count": null,
      "outputs": []
    },
    {
      "cell_type": "markdown",
      "metadata": {
        "id": "tDs2r-EyRbpT"
      },
      "source": [
        "## 19 -- Uma empresa de pesquisas precisa tabular os resultados da seguinte enquete feita a um grande quantidade de organizações:\n",
        "\"Qual o melhor Sistema Operacional para uso em servidores?\"\n",
        " \n",
        "As possíveis respostas são:\n",
        " \n",
        "1- Windows Server\n",
        " \n",
        "2- Unix\n",
        " \n",
        "3- Linux\n",
        " \n",
        "4- Netware\n",
        " \n",
        "5- Mac OS\n",
        " \n",
        "6- Outro\n",
        " \n",
        "Você foi contratado para desenvolver um programa que leia o resultado da enquete e informe ao final o resultado da mesma. O programa deverá ler os valores até ser informado o valor 0, que encerra a entrada dos dados. Não deverão ser aceitos valores além dos válidos para o programa (0 a 6). Os valores referentes a cada uma das opções devem ser armazenados num vetor. Após os dados terem sido completamente informados, o programa deverá calcular a percentual de cada um dos concorrentes e informar o vencedor da enquete. O formato da saída foi dado pela empresa, e é o seguinte:\n",
        "Sistema Operacional     Votos   %\n",
        "-------------------     -----   ---\n",
        "Windows Server           1500   17%\n",
        " \n",
        "Unix                     3500   40%\n",
        " \n",
        "Linux                    3000   34%\n",
        " \n",
        "Netware                   500    5%\n",
        " \n",
        "Mac OS                    150    2%\n",
        " \n",
        "Outro                     150    2%\n",
        "-------------------     -----\n",
        "Total                    8800\n",
        " \n",
        "O Sistema Operacional mais votado foi o Unix, com 3500 votos, correspondendo a 40% dos votos.\n",
        "pres"
      ]
    },
    {
      "cell_type": "code",
      "metadata": {
        "id": "E5RuGaSERuWw"
      },
      "source": [],
      "execution_count": null,
      "outputs": []
    },
    {
      "cell_type": "markdown",
      "metadata": {
        "id": "tUVLjrfIR0QT"
      },
      "source": [
        "## 20 -- As Organizações Tabajara resolveram dar um abono aos seus colaboradores em reconhecimento ao bom resultado alcançado durante o ano que passou. Para isto contratou você para desenvolver a aplicação que servirá como uma projeção de quanto será gasto com o pagamento deste abono.\n",
        "\n",
        "Após reuniões envolvendo a diretoria executiva, a diretoria financeira e os representantes do sindicato laboral, chegou-se a seguinte forma de cálculo:\n",
        "a.Cada funcionário receberá o equivalente a 20% do seu salário bruto de dezembro; a.O piso do abono será de 100 reais, isto é, aqueles funcionários cujo salário for muito baixo, recebem este valor mínimo; Neste momento, não se deve ter nenhuma preocupação com colaboradores com tempo menor de casa, descontos, impostos ou outras particularidades. Seu programa deverá permitir a digitação do salário de um número indefinido (desconhecido) de salários. Um valor de salário igual a 0 (zero) encerra a digitação. Após a entrada de todos os dados o programa deverá calcular o valor do abono concedido a cada colaborador, de acordo com a regra definida acima. Ao final, o programa deverá apresentar:\n",
        "\n",
        ".O salário de cada funcionário, juntamente com o valor do abono;\n",
        "\n",
        ".O número total de funcionário processados;\n",
        "\n",
        ".O valor total a ser gasto com o pagamento do abono;\n",
        "\n",
        ".O número de funcionário que receberá o valor mínimo de 100 reais;\n",
        "\n",
        ".O maior valor pago como abono; \n",
        ".A tela abaixo é um exemplo de execução do programa, apenas para fins ilustrativos.\n",
        " Os valores podem mudar a cada execução do programa.\n",
        "Projeção de Gastos com Abono\n",
        "============================\n",
        " \n",
        "Salário: 1000\n",
        " \n",
        "Salário: 300\n",
        " \n",
        "Salário: 500\n",
        " \n",
        "Salário: 100\n",
        " \n",
        "Salário: 4500\n",
        " \n",
        "Salário: 0\n",
        " \n",
        " \n",
        "Salário    - Abono     \n",
        " \n",
        "R$ 1000.00 - R$  200.00\n",
        " \n",
        "R$  300.00 - R$  100.00\n",
        " \n",
        "R$  500.00 - R$  100.00\n",
        " \n",
        "R$  100.00 - R$  100.00\n",
        " \n",
        "R$ 4500.00 - R$  900.00\n",
        " \n",
        " \n",
        "Foram processados 5 colaboradores\n",
        " \n",
        "Total gasto com abonos: R$ 1400.00\n",
        " \n",
        "Valor mínimo pago a 3 colaboradores\n",
        " \n",
        "Maior valor de abono pago: R$ 900.00\n",
        "nizações Taba"
      ]
    },
    {
      "cell_type": "code",
      "metadata": {
        "id": "-loHAGUSSj-d"
      },
      "source": [],
      "execution_count": null,
      "outputs": []
    },
    {
      "cell_type": "markdown",
      "metadata": {
        "id": "OAbaBcCTSpIV"
      },
      "source": [
        "## 21 -- Faça um programa que carregue uma lista com os modelos de cinco carros (exemplo de modelos: FUSCA, GOL, VECTRA etc). Carregue uma outra lista com o consumo desses carros, isto é, quantos quilômetros cada um desses carros faz com um litro de combustível. Calcule e mostre:\n",
        ".O modelo do carro mais econômico;\n",
        "\n",
        ".Quantos litros de combustível cada um dos carros cadastrados consome para percorrer uma distância de 1000 quilômetros e quanto isto custará, considerando um que a gasolina custe R$ 2,25 o litro. Abaixo segue uma tela de exemplo. O disposição das informações deve ser o mais próxima possível ao exemplo. Os dados são fictícios e podem mudar a cada execução do programa.\n",
        "\n",
        "Comparativo de Consumo de Combustível\n",
        " \n",
        "Veículo 1\n",
        " \n",
        "Nome: fusca\n",
        " \n",
        "Km por litro: 7\n",
        " \n",
        " \n",
        "Veículo 2\n",
        " \n",
        "Nome: gol\n",
        " \n",
        "Km por litro: 10\n",
        " \n",
        " \n",
        "Veículo 3\n",
        " \n",
        "Nome: uno\n",
        " \n",
        "Km por litro: 12.5\n",
        " \n",
        " \n",
        "Veículo 4\n",
        " \n",
        "Nome: Vectra\n",
        " \n",
        "Km por litro: 9\n",
        " \n",
        " \n",
        "Veículo 5\n",
        " \n",
        "Nome: Peugeout\n",
        " \n",
        "Km por litro: 14.5\n",
        " \n",
        " \n",
        "Relatório Final\n",
        " 1 - fusca        -    7.0 -  142.9 litros - R$ 321.43\n",
        " \n",
        " 2 - gol          -   10.0 -  100.0 litros - R$ 225.00\n",
        " \n",
        " 3 - uno          -   12.5 -   80.0 litros - R$ 180.00\n",
        " \n",
        " 4 - vectra       -    9.0 -  111.1 litros - R$ 250.00\n",
        " \n",
        " 5 - peugeout     -   14.5 -   69.0 litros - R$ 155.17\n",
        " \n",
        "O menor consumo é do peugeout\n",
        "rogram"
      ]
    },
    {
      "cell_type": "code",
      "metadata": {
        "id": "TTmx_JSdTqQj"
      },
      "source": [],
      "execution_count": null,
      "outputs": []
    },
    {
      "cell_type": "markdown",
      "metadata": {
        "id": "NW3OuURuTzWn"
      },
      "source": [
        "## 22 -- Sua organização acaba de contratar um estagiário para trabalhar no Suporte de Informática, com a intenção de fazer um levantamento nas sucatas encontradas nesta área. A primeira tarefa dele é testar todos os cerca de 200 mouses que se encontram lá, testando e anotando o estado de cada um deles, para verificar o que se pode aproveitar deles.\n",
        ".Foi requisitado que você desenvolva um programa para registrar este levantamento. O programa deverá receber um número indeterminado de entradas, cada uma contendo: um número de identificação do mouse o tipo de defeito:\n",
        ". necessita da esfera;\n",
        ".necessita de limpeza; a.necessita troca do cabo ou conector; a.quebrado ou inutilizado Uma identificação igual a zero encerra o programa. Ao final o programa deverá emitir o seguinte relatório:\n",
        "Quantidade de mouses: 100\n",
        " \n",
        "Situação               Quantidade              Percentual\n",
        "1-necessita da esfera     40                     40%\n",
        " \n",
        "2-necessita de limpeza    30                     30%\n",
        " \n",
        "3-necessita troca do cabo ou conector 15         15%\n",
        " \n",
        "4- quebrado ou inutilizado    15                 15%\n",
        " \n",
        "nização "
      ]
    },
    {
      "cell_type": "code",
      "metadata": {
        "id": "W-wMsd6zVI4s"
      },
      "source": [],
      "execution_count": null,
      "outputs": []
    },
    {
      "cell_type": "markdown",
      "metadata": {
        "id": "n90UWMEYXstP"
      },
      "source": [
        "## 23 -- uma empresa de 500 funcionários, está tendo problemas de espaço em disco no seu servidor de arquivos. Para tentar resolver este problema, o Administrador de Rede precisa saber qual o espaço ocupado pelos usuários, e identificar os usuários com maior espaço ocupado. Através de um programa, baixado da Internet, ele conseguiu gerar o seguinte arquivo, chamado \"usuarios.txt\":\n",
        "alexandre       456123789\n",
        " \n",
        "anderson        1245698456\n",
        " \n",
        "antonio         123456456\n",
        " \n",
        "carlos          91257581\n",
        " \n",
        "cesar           987458\n",
        " \n",
        "rosemary        789456125\n",
        " \n",
        "Neste arquivo, o nome do usuário possui 15 caracteres. A partir deste arquivo, você deve criar um programa que gere um relatório, chamado \"relatório.txt\", no seguinte formato:\n",
        "    Uso do espaço em disco pelos usuários\n",
        "------------------------------------------------------------------------\n",
        "Nr.  Usuário        Espaço utilizado     % do uso\n",
        " \n",
        " \n",
        "1    alexandre       434,99 MB             16,85%\n",
        " \n",
        "2    anderson       1187,99 MB             46,02%\n",
        " \n",
        "3    antonio         117,73 MB              4,56%\n",
        " \n",
        "4    carlos           87,03 MB              3,37%\n",
        " \n",
        "5    cesar             0,94 MB              0,04%\n",
        " \n",
        "6    rosemary        752,88 MB             29,16%\n",
        " \n",
        " \n",
        "Espaço total ocupado: 2581,57 MB\n",
        " \n",
        "Espaço médio ocupado: 430,26 MB\n",
        "\n",
        "O arquivo de entrada deve ser lido uma única vez, e os dados armazenados em memória, caso sejam necessários, de forma a agilizar a execução do programa. A conversão da espaço ocupado em disco, de bytes para megabytes deverá ser feita através de uma função separada, que será chamada pelo programa principal. O cálculo do percentual de uso também deverá ser feito através de uma função, que será chamada pelo programa principal\n",
        "res"
      ]
    },
    {
      "cell_type": "code",
      "metadata": {
        "id": "r20HnO_bYNA1"
      },
      "source": [],
      "execution_count": null,
      "outputs": []
    },
    {
      "cell_type": "markdown",
      "metadata": {
        "id": "nlDAfF--YSWd"
      },
      "source": [
        "## 24 --  Faça um programa que simule um lançamento de dados. Lance o dado 100 vezes e armazene os resultados em um vetor . Depois, mostre quantas vezes cada valor foi conseguido. Dica: use um vetor de contadores(1-6) e uma função para gerar numeros aleatórios, simulando os lançamentos dos dados.\n",
        "\n"
      ]
    },
    {
      "cell_type": "code",
      "metadata": {
        "id": "wmXA8s0uYrVp"
      },
      "source": [],
      "execution_count": null,
      "outputs": []
    },
    {
      "cell_type": "markdown",
      "metadata": {
        "id": "KsK9QFAAYgki"
      },
      "source": [
        "# IV – Funções"
      ]
    },
    {
      "cell_type": "markdown",
      "metadata": {
        "id": "jkLGnfxhPsM5"
      },
      "source": [
        "## 1 --\tFaça um programa para imprimir:\n",
        "###•\t    1\n",
        "###•     2   2\n",
        "###•     3   3   3\n",
        "###•     .....\n",
        "###•     n   n   n   n   n   n  ... n\n",
        "## para um **n** informado pelo usuário. Use uma função que receba um valor **n** inteiro e imprima até a **n-ésima** linha.\n",
        "\n"
      ]
    },
    {
      "cell_type": "code",
      "metadata": {
        "id": "2Ir4yZiHTaZ4"
      },
      "source": [],
      "execution_count": null,
      "outputs": []
    },
    {
      "cell_type": "markdown",
      "metadata": {
        "id": "iT6TcTDcTwLp"
      },
      "source": [
        "##2 -- Faça um programa para imprimir:\n",
        "###•\t  1\n",
        "###•    1   2\n",
        "###•    1   2   3\n",
        "###•    .....\n",
        "###•    1   2   3   ...  n\n",
        "##para um **n** informado pelo usuário. Use uma função que receba um valor **n** inteiro imprima até a **n-ésima** linha.\n"
      ]
    },
    {
      "cell_type": "code",
      "metadata": {
        "id": "65MAvGbKUeyq"
      },
      "source": [],
      "execution_count": null,
      "outputs": []
    },
    {
      "cell_type": "markdown",
      "metadata": {
        "id": "-CCuQ0H8U0j8"
      },
      "source": [
        "##3 -- Faça um programa, com uma função que necessite de três argumentos, e que forneça a soma desses três argumentos."
      ]
    },
    {
      "cell_type": "code",
      "metadata": {
        "id": "_x1337uOU75D"
      },
      "source": [],
      "execution_count": null,
      "outputs": []
    },
    {
      "cell_type": "markdown",
      "metadata": {
        "id": "GupxINChVRpQ"
      },
      "source": [
        "##4 -- Faça um programa, com uma função que necessite de um argumento. A função retorna o valor de caractere ‘P’, se seu argumento for positivo, e ‘N’, se seu argumento for zero ou negativo."
      ]
    },
    {
      "cell_type": "code",
      "metadata": {
        "id": "N3CHGfcOVjFk"
      },
      "source": [],
      "execution_count": null,
      "outputs": []
    },
    {
      "cell_type": "markdown",
      "metadata": {
        "id": "VItv4YP-VqaW"
      },
      "source": [
        "##5 -- Faça um programa com uma função chamada somaImposto. A função possui dois parâmetros formais: taxaImposto, que é a quantia de imposto sobre vendas expressa em porcentagem e custo, que é o custo de um item antes do imposto. A função “altera” o valor de custo para incluir o imposto sobre vendas."
      ]
    },
    {
      "cell_type": "code",
      "metadata": {
        "id": "a6Nadih2Vt3h"
      },
      "source": [],
      "execution_count": null,
      "outputs": []
    },
    {
      "cell_type": "markdown",
      "metadata": {
        "id": "Ws3ThyZpVuvt"
      },
      "source": [
        "##6 -- Faça um programa que converta da notação de 24 horas para a notação de 12 horas. Por exemplo, o programa deve converter 14:25 em 2:25 P.M. A entrada é dada em dois inteiros. Deve haver pelo menos duas funções: uma para fazer a conversão e uma para a saída. Registre a informação A.M./P.M. como um valor ‘A’ para A.M. e ‘P’ para P.M. Assim, a função para efetuar as conversões terá um parâmetro formal para registrar se é A.M. ou P.M. Inclua um loop que permita que o usuário repita esse cálculo para novos valores de entrada todas as vezes que desejar."
      ]
    },
    {
      "cell_type": "code",
      "metadata": {
        "id": "xwpzKvvPWCZm"
      },
      "source": [],
      "execution_count": null,
      "outputs": []
    },
    {
      "cell_type": "markdown",
      "metadata": {
        "id": "ysUtnY_9WC2z"
      },
      "source": [
        "##7 -- Faça um programa que use a função valorPagamento para determinar o valor a ser pago por uma prestação de uma conta. O programa deverá solicitar ao usuário o valor da prestação e o número de dias em atraso e passar estes valores para a função valorPagamento, que calculará o valor a ser pago e devolverá este valor ao programa que a chamou. O programa deverá então exibir o valor a ser pago na tela. Após a execução o programa deverá voltar a pedir outro valor de prestação e assim continuar até que seja informado um valor igual a zero para a prestação. Neste momento o programa deverá ser encerrado, exibindo o relatório do dia, que conterá a quantidade e o valor total de prestações pagas no dia. O cálculo do valor a ser pago é feito da seguinte forma. Para pagamentos sem atraso, cobrar o valor da prestação. Quando houver atraso, cobrar 3% de multa, mais 0,1% de juros por dia de atraso."
      ]
    },
    {
      "cell_type": "code",
      "metadata": {
        "id": "3zUB6kcWWOGo"
      },
      "source": [],
      "execution_count": null,
      "outputs": []
    },
    {
      "cell_type": "markdown",
      "metadata": {
        "id": "YHbkaCv1WQvt"
      },
      "source": [
        "##8 -- Faça uma função que informe a quantidade de dígitos de um determinado número inteiro informado."
      ]
    },
    {
      "cell_type": "code",
      "metadata": {
        "id": "AeYjoenFWlcc"
      },
      "source": [],
      "execution_count": null,
      "outputs": []
    },
    {
      "cell_type": "markdown",
      "metadata": {
        "id": "n7lYqMOhWmEq"
      },
      "source": [
        "##9 -- **Reverso do número**. Faça uma função que retorne o reverso de um número inteiro informado. Por exemplo: 127 -> 721."
      ]
    },
    {
      "cell_type": "code",
      "metadata": {
        "id": "mi1aqaQ5XDzk"
      },
      "source": [],
      "execution_count": null,
      "outputs": []
    },
    {
      "cell_type": "markdown",
      "metadata": {
        "id": "iFdNdooeXE_S"
      },
      "source": [
        "##10 -- **Jogo de Craps**. Faça um programa de implemente um jogo de Craps. O jogador lança um par de dados, obtendo um valor entre 2 e 12. Se, na primeira jogada, você tirar 7 ou 11, você um \"natural\" e ganhou. Se você tirar 2, 3 ou 12 na primeira jogada, isto é chamado de \"craps\" e você perdeu. Se, na primeira jogada, você fez um 4, 5, 6, 8, 9 ou 10,este é seu \"Ponto\". Seu objetivo agora é continuar jogando os dados até tirar este número novamente. Você perde, no entanto, se tirar um 7 antes de tirar este Ponto novamente."
      ]
    },
    {
      "cell_type": "code",
      "metadata": {
        "id": "N8JiKz7KXRRf"
      },
      "source": [],
      "execution_count": null,
      "outputs": []
    },
    {
      "cell_type": "markdown",
      "metadata": {
        "id": "uUQ_D4MWXRzX"
      },
      "source": [
        "##11 -- **Data com mês por extenso**. Construa uma função que receba uma data no formato DD/MM/AAAA e devolva uma string no formato D de mesPorExtenso de AAAA. Opcionalmente, valide a data e retorne NULL caso a data seja inválida."
      ]
    },
    {
      "cell_type": "code",
      "metadata": {
        "id": "y64P_ISqXXqq"
      },
      "source": [],
      "execution_count": null,
      "outputs": []
    },
    {
      "cell_type": "markdown",
      "metadata": {
        "id": "qoKSHRztXYVn"
      },
      "source": [
        "##12 -- **Embaralha palavra**. Construa uma função que receba uma string como parâmetro e devolva outra string com os carateres embaralhados. Por exemplo: se função receber a palavra python, pode retornar npthyo, ophtyn ou qualquer outra combinação possível, de forma aleatória. Padronize em sua função que todos os caracteres serão devolvidos em caixa alta ou caixa baixa, independentemente de como foram digitados."
      ]
    },
    {
      "cell_type": "code",
      "metadata": {
        "id": "sRM4Pe1bXewj"
      },
      "source": [],
      "execution_count": null,
      "outputs": []
    },
    {
      "cell_type": "markdown",
      "metadata": {
        "id": "DVRpw8slXfNb"
      },
      "source": [
        "##13 -- **Desenha moldura**. Construa uma função que desenhe um retângulo usando os caracteres ‘+’ , ‘−’ e ‘| ‘. Esta função deve receber dois parâmetros, linhas e colunas, sendo que o valor por omissão é o valor mínimo igual a 1 e o valor máximo é 20. Se valores fora da faixa forem informados, eles devem ser modificados para valores dentro da faixa de forma elegante."
      ]
    },
    {
      "cell_type": "code",
      "metadata": {
        "id": "NlxBxL5QXlNG"
      },
      "source": [],
      "execution_count": null,
      "outputs": []
    },
    {
      "cell_type": "markdown",
      "metadata": {
        "id": "ivbma1QRXlin"
      },
      "source": [
        "##14 -- **Quadrado mágico**. Um quadrado mágico é aquele dividido em linhas e colunas, com um número em cada posição e no qual a soma das linhas, colunas e diagonais é a mesma. Por exemplo, veja um quadrado mágico de lado 3, com números de 1 a 9:\n",
        "###• 8  3  4\n",
        "###• 1  5  9\n",
        "###• 6  7  2\n",
        "##Elabore uma função que identifica e mostra na tela todos os quadrados mágicos com as características acima. \n",
        "##Dica: produza todas as combinações possíveis e verifique a soma quando completar cada quadrado. Usar um vetor de 1 a 9 parece ser mais simples que usar uma matriz 3x3.\n"
      ]
    },
    {
      "cell_type": "code",
      "metadata": {
        "id": "Dh1AmvtUY_Vj"
      },
      "source": [],
      "execution_count": null,
      "outputs": []
    },
    {
      "cell_type": "markdown",
      "metadata": {
        "id": "NfUfrHK0aGj-"
      },
      "source": [
        "# V – Strings"
      ]
    },
    {
      "cell_type": "markdown",
      "metadata": {
        "id": "tQGg7up3ZyV8"
      },
      "source": [
        "##1 -- **Tamanho de strings**. Faça um programa que leia 2 strings e informe o conteúdo delas seguido do seu comprimento. Informe também se as duas strings possuem o mesmo comprimento e são iguais ou diferentes no conteúdo.\n",
        "####• Compara duas strings\n",
        "####• String 1: Brasil Hexa 2006\n",
        "####• String 2: Brasil! Hexa 2006!\n",
        "####• Tamanho de \"Brasil Hexa 2006\": 16 caracteres\n",
        "####• Tamanho de \"Brasil! Hexa 2006!\": 18 caracteres\n",
        "####• As duas strings são de tamanhos diferentes.\n",
        "####• As duas strings possuem conteúdo diferente.\n",
        "\n"
      ]
    },
    {
      "cell_type": "code",
      "metadata": {
        "id": "HXL87qImaRC3"
      },
      "source": [],
      "execution_count": null,
      "outputs": []
    },
    {
      "cell_type": "markdown",
      "metadata": {
        "id": "o69nD3hhaRaG"
      },
      "source": [
        "##2 -- **Nome ao contrário em maiúsculas**. Faça um programa que permita ao usuário digitar o seu nome e em seguida mostre o nome do usuário de trás para frente utilizando somente letras maiúsculas. Dica: lembre−se que ao informar o nome o usuário pode digitar letras maiúsculas ou minúsculas."
      ]
    },
    {
      "cell_type": "code",
      "metadata": {
        "id": "w4kLvdOTaidp"
      },
      "source": [],
      "execution_count": null,
      "outputs": []
    },
    {
      "cell_type": "markdown",
      "metadata": {
        "id": "IpXWWIjmai0D"
      },
      "source": [
        "##3 -- **Nome na vertical**. Faça um programa que solicite o nome do usuário e imprima-o na vertical.\n",
        "####•\tF\n",
        "####• U\n",
        "####• L\n",
        "####• A\n",
        "####• N\n",
        "####• O\n"
      ]
    },
    {
      "cell_type": "code",
      "metadata": {
        "id": "k7ODLA4EbNb-"
      },
      "source": [],
      "execution_count": null,
      "outputs": []
    },
    {
      "cell_type": "markdown",
      "metadata": {
        "id": "pCXN6u5zb4ht"
      },
      "source": [
        "##4 -- **Nome na vertical em escada**. Modifique o programa anterior de forma a mostrar o nome em formato de escada.\n",
        "####•\tF\n",
        "####•\tFU\n",
        "####•\tFUL\n",
        "####•\tFULA\n",
        "####•\tFULAN\n",
        "####•\tFULANO\n"
      ]
    },
    {
      "cell_type": "code",
      "metadata": {
        "id": "UBHzeVkzcJUe"
      },
      "source": [],
      "execution_count": null,
      "outputs": []
    },
    {
      "cell_type": "markdown",
      "metadata": {
        "id": "lz1C3fEubOLC"
      },
      "source": [
        "##5 -- **Nome na vertical em escada invertida**. Altere o programa anterior de modo que a escada seja invertida.\n",
        "####•\tFULANO\n",
        "####• FULAN\n",
        "####• FULA\n",
        "####• FUL\n",
        "####• FU\n",
        "####• F\n"
      ]
    },
    {
      "cell_type": "code",
      "metadata": {
        "id": "gj6twNmxcMyb"
      },
      "source": [],
      "execution_count": null,
      "outputs": []
    },
    {
      "cell_type": "markdown",
      "metadata": {
        "id": "VXmeP3D4cTwV"
      },
      "source": [
        "##6 -- **Data por extenso**. Faça um programa que solicite a data de nascimento (dd/mm/aaaa) do usuário e imprima a data com o nome do mês por extenso.\n",
        "####•\tData de Nascimento: 29/10/1973\n",
        "####•\tVocê nasceu em  29 de Outubro de 1973.\n"
      ]
    },
    {
      "cell_type": "code",
      "metadata": {
        "id": "_wzpNxlUchqw"
      },
      "source": [],
      "execution_count": null,
      "outputs": []
    },
    {
      "cell_type": "markdown",
      "metadata": {
        "id": "jUpQYT26cigB"
      },
      "source": [
        "##7 -- **Conta espaços e vogais**. Dado uma string com uma frase informada pelo usuário (incluindo espaços em branco), conte:\n",
        "####•\tquantos espaços em branco existem na frase.\n",
        "####•\tquantas vezes aparecem as vogais a, e, i, o, u.\n"
      ]
    },
    {
      "cell_type": "code",
      "metadata": {
        "id": "VP5V2181ctYF"
      },
      "source": [],
      "execution_count": null,
      "outputs": []
    },
    {
      "cell_type": "markdown",
      "metadata": {
        "id": "9nPUk_UMctxj"
      },
      "source": [
        "##8 -- **Palíndromo**. Um palíndromo é uma seqüência de caracteres cuja leitura é idêntica se feita da direita para esquerda ou vice−versa. Por exemplo: **OSSO** e **OVO** são palíndromos. Em textos mais complexos os espaços e pontuação são ignorados. A frase **SUBI NO ONIBUS** é o exemplo de uma frase palíndroma onde os espaços foram ignorados. Faça um programa que leia uma seqüência de caracteres, mostre−a e diga se é um palíndromo ou não.\n"
      ]
    },
    {
      "cell_type": "code",
      "metadata": {
        "id": "bhYpuTMPdm2w"
      },
      "source": [],
      "execution_count": null,
      "outputs": []
    },
    {
      "cell_type": "markdown",
      "metadata": {
        "id": "_cCiI_NCdnkI"
      },
      "source": [
        "##9 -- **Verificação de CPF**. Desenvolva um programa que solicite a digitação de um número de CPF no formato **xxx.xxx.xxx-xx** e indique se é um número válido ou inválido através da validação dos dígitos verificadores edos caracteres de formatação."
      ]
    },
    {
      "cell_type": "code",
      "metadata": {
        "id": "jlzsRDO1d1dZ"
      },
      "source": [],
      "execution_count": null,
      "outputs": []
    },
    {
      "cell_type": "markdown",
      "metadata": {
        "id": "Ytuaj8u3d181"
      },
      "source": [
        "##10 -- **Número por extenso**. Escreva um programa que solicite ao usuário a digitação de um número até 99 e imprima-o na tela por extenso."
      ]
    },
    {
      "cell_type": "code",
      "metadata": {
        "id": "zeUKg3had7IC"
      },
      "source": [],
      "execution_count": null,
      "outputs": []
    },
    {
      "cell_type": "markdown",
      "metadata": {
        "id": "maqAEscLd7hH"
      },
      "source": [
        "##11 -- **Jogo de Forca**. Desenvolva um jogo da forca. O programa terá uma lista de palavras lidas de um arquivo texto e escolherá uma aleatoriamente. O jogador poderá errar 6 vezes antes de ser enforcado.\n",
        "####•\tDigite uma letra: A\n",
        "####•\t-> Você errou pela 1ª vez. Tente de novo!\n",
        "####•\tDigite uma letra: O\n",
        "####•\tA palavra é: _ _ _ _ O\n",
        "####•\tDigite uma letra: E\n",
        "####•\tA palavra é: _ E _ _ O\n",
        "####•\tDigite uma letra: S\n",
        "####•\t-> Você errou pela 2ª vez. Tente de novo!\n"
      ]
    },
    {
      "cell_type": "code",
      "metadata": {
        "id": "RZQcEcDgel0M"
      },
      "source": [],
      "execution_count": null,
      "outputs": []
    },
    {
      "cell_type": "markdown",
      "metadata": {
        "id": "D2B9UcMeemOl"
      },
      "source": [
        "##12 -- **Valida e corrige número de telefone**. Faça um programa que leia um número de telefone, e corrija o número no caso deste conter somente 7 dígitos, acrescentando o '3' na frente. O usuário pode informar o número com ou sem o traço separador.\n",
        "####•\tValida e corrige número de telefone\n",
        "####•\tTelefone: 461-0133\n",
        "####•\tTelefone possui 7 dígitos. Vou acrescentar o digito três na frente.\n",
        "####•\tTelefone corrigido sem formatação: 34610133\n",
        "####•\tTelefone corrigido com formatação: 3461**-**0133\n"
      ]
    },
    {
      "cell_type": "code",
      "metadata": {
        "id": "K_08FU5MfOEE"
      },
      "source": [],
      "execution_count": null,
      "outputs": []
    },
    {
      "cell_type": "markdown",
      "metadata": {
        "id": "ZZ6wiGohfOcC"
      },
      "source": [
        "##13 -- **Jogo da palavra embaralhada**. Desenvolva um jogo em que o usuário tenha que adivinhar uma palavra que será mostrada com as letras embaralhadas. O programa terá uma lista de palavras lidas de um arquivo texto e escolherá uma aleatoriamente. O jogador terá seis tentativas para adivinhar a palavra. Ao final a palavra deve ser mostrada na tela, informando se o usuário ganhou ou perdeu o jogo."
      ]
    },
    {
      "cell_type": "code",
      "metadata": {
        "id": "a2Vac_LEflEn"
      },
      "source": [],
      "execution_count": null,
      "outputs": []
    },
    {
      "cell_type": "markdown",
      "metadata": {
        "id": "IPkzBQBGflgP"
      },
      "source": [
        "##14 -- **Leet spek generator**. Leet é uma forma de se escrever o alfabeto latino usando outros símbolos em lugar das letras, como números por exemplo. A própria palavra leet admite muitas variações, como l33t ou 1337. O uso do leet reflete uma subcultura relacionada ao mundo dos jogos de computador e internet, sendo muito usada para confundir os iniciantes e afirmar-se como parte de um grupo. Pesquise sobre as principais formas de traduzir as letras. Depois, faça um programa que peça uma texto e transforme-o para a grafia leet speak. "
      ]
    },
    {
      "cell_type": "code",
      "metadata": {
        "id": "xhuSdP24fz0A"
      },
      "source": [],
      "execution_count": null,
      "outputs": []
    }
  ]
}