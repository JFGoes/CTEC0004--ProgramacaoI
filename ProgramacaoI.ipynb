{
  "nbformat": 4,
  "nbformat_minor": 0,
  "metadata": {
    "colab": {
      "name": "ProgramacaoI.ipynb",
      "provenance": [],
      "collapsed_sections": [],
      "toc_visible": true,
      "authorship_tag": "ABX9TyN/+y8SS3XACsd2hGklpygF",
      "include_colab_link": true
    },
    "kernelspec": {
      "name": "python3",
      "display_name": "Python 3"
    }
  },
  "cells": [
    {
      "cell_type": "markdown",
      "metadata": {
        "id": "view-in-github",
        "colab_type": "text"
      },
      "source": [
        "<a href=\"https://colab.research.google.com/github/JFGoes/CTEC0004--ProgramacaoI/blob/master/ProgramacaoI.ipynb\" target=\"_parent\"><img src=\"https://colab.research.google.com/assets/colab-badge.svg\" alt=\"Open In Colab\"/></a>"
      ]
    },
    {
      "cell_type": "markdown",
      "metadata": {
        "id": "vV6WtSaDzW7d",
        "colab_type": "text"
      },
      "source": [
        "<center>\n",
        "<img src= \"https://meneguite.com/2017/10/01/golang-desbravando-uma-linguagem-de-programacao-parte-1/001.gif\" width =\"100\" height=100/>\n",
        "\n",
        "# **Programação I**\n",
        "### *Algoritmos e Python*\n",
        "</center>\n",
        "\n"
      ]
    },
    {
      "cell_type": "markdown",
      "metadata": {
        "id": "_8-qavXqzlIa",
        "colab_type": "text"
      },
      "source": [
        "# **1 -- Lógica de Programação** <img src= \"https://www.enriquedans.com/wp-content/uploads/2017/07/Algorithm-and-man.jpg\" width =\"100\" height=100>\n",
        "\n",
        "\n",
        "\n"
      ]
    },
    {
      "cell_type": "markdown",
      "metadata": {
        "id": "j72vMzDLa1Ry",
        "colab_type": "text"
      },
      "source": [
        "<p align=\"justify\">\n",
        "A <b>lógica de programação</b> é a técnica de desenvolver algoritmos (sequências lógicas) para atingir determinados objetivos dentro de certas regras baseadas na lógica matemática e em outras teorias básicas da Ciência da Computação e que depois são adaptados para a linguagem de programação utilizada pelo desenvolvedor para construir seu software <a href = \"https://medium.com/@rafaelasouza_26759/o-que-%C3%A9-a-l%C3%B3gica-de-programa%C3%A7%C3%A3o-88235cb2d8f7\">[1]</a>.\n",
        "</p>\n",
        "<p align=\"justify\">\n",
        "Qualquer programa escrito em uma linguagem de programação lógica é um conjunto de frases em forma lógica, expressando fatos e regras sobre algum problema.\n",
        "</p>"
      ]
    },
    {
      "cell_type": "markdown",
      "metadata": {
        "id": "1Kn90n7W48PP",
        "colab_type": "text"
      },
      "source": [
        "## **1.1 -- Algoritmos** <img src= \"https://library.kissclipart.com/20181122/qwe/kissclipart-algoritmo-computacional-clipart-algorithm-stock-ph-d9258b2b122d237f.jpg\"  width =\"100\" height=100>\n",
        "\n",
        "\n"
      ]
    },
    {
      "cell_type": "markdown",
      "metadata": {
        "id": "UfL1ESwoaw6p",
        "colab_type": "text"
      },
      "source": [
        "<p align=\"justify\">\n",
        "Informalmente, um <b>algoritmo</b> é qualquer procedimento computacional bem definido que toma algum valor ou conjunto de valores como entrada e produz algum valor ou conjunto de valores como saída. Portanto, um algoritmo é uma sequência de passos computacionais que transformam a entrada na saída.\n",
        "</p>\n",
        "<p align=\"justify\">\n",
        "Em outras palavras, um algoritmo é uma fórmula para resolver um problema, com base na condução de uma seqüência de ações especificadas. Um programa de computador pode ser visto como um algoritmo elaborado. Em matemática e ciência da computação, um algoritmo geralmente significa um pequeno procedimento que resolve um problema recorrente.\n",
        "</p>\n",
        "Algoritmos são muito utilizados em todas as áreas de TI."
      ]
    },
    {
      "cell_type": "markdown",
      "metadata": {
        "id": "5xEuT4A34_ie",
        "colab_type": "text"
      },
      "source": [
        "## **1.2 -- Linguagens de programação**<img src= \"https://cio.com.br/wp-content/uploads/2018/09/linguagens1_288042365.jpg\"  width =\"100\" height=100>\n",
        "\n"
      ]
    },
    {
      "cell_type": "markdown",
      "metadata": {
        "id": "Pimk2T8Garpt",
        "colab_type": "text"
      },
      "source": [
        "\n",
        "<p align=\"justify\">\n",
        "Existem dezenas de linguagens de codificação em uso hoje, e para engenheiros aspirantes, ou qualquer um que queira se dedicar à tecnologia, pode ser difícil saber por onde começar. E quais são as linguagens de programação mais importantes? É uma pergunta simples com uma resposta muito complexa. Normalmente, as pessoas querem entender qual é a linguagem mais popular, porque querem aprender assuntos em áreas onde existem empregos. Para a maioria das pessoas, faz muito pouco sentido entrar em um campo com conhecimento sobre algo que não está em demanda.\n",
        "</p>\n",
        "\n",
        "<p align=\"justify\">\n",
        "Os desenvolvedores que estão criando produtos também querem saber sobre linguagens populares, porque, se estiverem criando APIs ou outras opções de compatibilidade, eles querem garantir que estão produzindo soluções que os clientes usarão.  \n",
        "</p>\n",
        "\n",
        "<p align=\"justify\">\n",
        "Mas, se as linguagens forem igualmente úteis, escolher uma linguagem mais popular garante acesso a mais programadores e recursos, se tornando uma consideração bem importante.\n",
        "</p>\n",
        "\n",
        "<p align=\"justify\">\n",
        "Então, surge a pergunta: <b> qual a linguagem mais popular do mundo?</b>\n",
        "</p>\n",
        "\n",
        "<p align=\"justify\">\n",
        "O maior e mais completo ranking sobre linguagens de programação que existe é o levantamento anual do <a href = \"https://pt.stackoverflow.com/\">Stack Overflow</a>: são cerca de 40 perguntas para mais de 100 mil desenvolvedores do mundo inteiro.\n",
        "</p>\n",
        "\n",
        "<p align=\"justify\">\n",
        "Todos os meses, cerca de 50 milhões de pessoas visitam o site para aprender, compartilhar conhecimentos e construir suas carreiras. Estima-se que cerca de 21 milhões sejam desenvolvedores profissionais (alguns com mais de três décadas de experiência) e estudantes de nível universitário.\n",
        "</p>\n",
        "\n",
        "<p align=\"justify\">\n",
        "De acordo com o Stack Overflow, as 7 linguagens mais usadas no mundo atualmente são:\n",
        "<center>\n",
        "<img src= \"https://futuresetcamp.com/s/most-popular-programming-languages-stack-overflow-2019.png\"  width =\"300\" height=300>\n",
        "</center>\n",
        "</p>\n",
        "\n",
        "<p align=\"justify\">\n",
        "Pelo sétimo ano consecutivo, o <b>JavaScript</b> é a linguagem de programação mais usada, mas o <b>Python</b> subiu de categoria novamente. Este ano, o Python não apenas superou o </b>Java</b> no ranking geral, bem como ultrapassou o <b>C#</b> no ano passado e o <b>PHP</b> no ano anterior. Atualmente, o Python é a principal linguagem de programação que mais cresce.\n",
        "</p>\n"
      ]
    },
    {
      "cell_type": "markdown",
      "metadata": {
        "id": "npPA7WDkNMEO",
        "colab_type": "text"
      },
      "source": [
        "# **Estruturas de um algoritmo**"
      ]
    },
    {
      "cell_type": "markdown",
      "metadata": {
        "id": "1K7V8lljx4oZ",
        "colab_type": "text"
      },
      "source": [
        "Para entender como construir um algoritmo, é necessário entender primeiro a lógica da programação.\n",
        "\n",
        "## **Lógica**\n",
        "<p align=\"justify\">\n",
        "É a parte da filosofia que estuda as leis do raciocínio. É a arte de pensar corretamente ou correção do raciocínio. A lógica ensina a\n",
        "colocar ordem no pensamento.\n",
        "</p>\n",
        "\n",
        "#### <b>Exemplos:</b>\n",
        "\n",
        "* Todo mamífero é animal.\n",
        "* Todo cavalo é mamífero.\n",
        "* Portanto, todo cavalo é animal.\n",
        "\n",
        "\n",
        "Usamos a lógica para pensar, falar ou escrever:\n",
        "\n",
        "\n",
        "* Pedro é mais alto do que João\n",
        "* João é mais alto que José.\n",
        "* Portanto, Pedro é mais alto que João.\n",
        "\n",
        "* A gaveta está fechada.\n",
        "* A chave está na gaveta.\n",
        "* Preciso primeiro abrir a gaveta, para depois\n",
        "pegar a chave.\n"
      ]
    },
    {
      "cell_type": "markdown",
      "metadata": {
        "id": "Nn7Cp5K1dzyz",
        "colab_type": "text"
      },
      "source": [
        "<p align=\"justify\">\n",
        "Em geral, um algoritmo destina-se a resolver um problema: fixa um padrão de\n",
        "comportamento a ser seguido.\n",
        "<p>"
      ]
    },
    {
      "cell_type": "markdown",
      "metadata": {
        "id": "TmS2obCim4bu",
        "colab_type": "text"
      },
      "source": [
        "\n",
        "<p align=\"justify\">\n",
        "<b>Exercício de lógica:</b>\n",
        "Um homem precisa atravessar um rio com um barco que possui capacidade de carregar apenas ele mesmo e mais uma de suas três cargas, que são: um lobo, um bode e um maço de alfafa. O que o homem deve fazer para conseguir atravessar o rio sem perder suas cargas? \n",
        "\n",
        "<a href = \"https://rachacuca.com.br/jogos/o-lobo-e-a-ovelha/\">![](https://www.fredericomarinho.com/wp-content/uploads/2012/05/jogo-logica-lobo-ovelha-couve.jpg)</a>\n",
        "</p>"
      ]
    },
    {
      "cell_type": "markdown",
      "metadata": {
        "id": "aqyiQjRZ8n_S",
        "colab_type": "text"
      },
      "source": [
        "**Escreva um algoritmo que soluciona o problema:**\n",
        "\n",
        "\n",
        "\n"
      ]
    },
    {
      "cell_type": "code",
      "metadata": {
        "id": "Csutf2J79E6h",
        "colab_type": "code",
        "colab": {}
      },
      "source": [
        ""
      ],
      "execution_count": 0,
      "outputs": []
    },
    {
      "cell_type": "markdown",
      "metadata": {
        "id": "qAFQnR2s_quU",
        "colab_type": "text"
      },
      "source": [
        "Outro jogo que envolve exercício lógico é o missionários e canibais. Clique na imagem para entrar no jogo:\n",
        "\n",
        ">><a href = \"https://rachacuca.com.br/jogos/missionarios-e-canibais/\">![Clique na Imagem](https://image.winudf.com/v2/image/YWlyLmNvbS53ZWI0Z2FtZXMubWlzc2lvbmFyaWVzYW5kY2FubmliYWxzX3NjcmVlbnNob3RzXzBfOTUxYTQwMDQ/screen-0.jpg?fakeurl=1&type=.jpg)</a>."
      ]
    },
    {
      "cell_type": "markdown",
      "metadata": {
        "id": "l69VdYWW5JOz",
        "colab_type": "text"
      },
      "source": [
        "**Escreva um algoritmo que soluciona o problema:**\n"
      ]
    },
    {
      "cell_type": "markdown",
      "metadata": {
        "id": "jcpXQS549Dcj",
        "colab_type": "text"
      },
      "source": [
        "No link <a href = \"http://www.plastelina.net/games/game3.html\">Jogos de Raciocínio lógico</a> você encontra alguns jogos para treinar e construir os algoritmos."
      ]
    },
    {
      "cell_type": "markdown",
      "metadata": {
        "id": "fPyiF4w89GWc",
        "colab_type": "text"
      },
      "source": [
        ""
      ]
    },
    {
      "cell_type": "markdown",
      "metadata": {
        "id": "R6tizrCnw7aM",
        "colab_type": "text"
      },
      "source": [
        "## **Formas de Representação de Algoritmos**"
      ]
    },
    {
      "cell_type": "markdown",
      "metadata": {
        "id": "arqg6Etl9GYX",
        "colab_type": "text"
      },
      "source": [
        "Dentre as formas de representação de algoritmos mais conhecidas podemos citar:\n",
        "* Descrição Narrativa;\n",
        "* Fluxograma Convencional;\n",
        "* Pseudocódigo, também conhecido como Linguagem Estruturada ou Portugol"
      ]
    },
    {
      "cell_type": "markdown",
      "metadata": {
        "id": "7K5WG3fdAPe4",
        "colab_type": "text"
      },
      "source": [
        "### **Descrição Narrativa**\n",
        "\n",
        "Nesta forma, os algoritmos são narrados, descritos como uma linguagem normal do cotidiano, por exemplos: \n",
        "\n",
        "\n",
        "<table border=\"1\">\n",
        "    <tr>\n",
        "        <td> <b>Receita de Bolo:</b></td><td> <b>Troca de um pneu furado:</b> </td>\n",
        "    </tr>\n",
        "    <tr>\n",
        "        <td>Misture os ingredientes</td><td>Afrouxar ligeiramente as porcas</td>\n",
        "    </tr>\n",
        "    <tr>\n",
        "        <td>Despeje a mistura na forma</td><td>Retirar as porcas e o pneu</td>        \n",
        "    </tr>\n",
        "    <tr>\n",
        "        <td>Se houver coco ralado</td><td>Colocar o pneu reserva </td>        \n",
        "    </tr>\n",
        "    <tr>\n",
        "        <td>então despeje sobre a mistura</td><td>Apertar as porcas </td>        \n",
        "    </tr>\n",
        "    <tr>\n",
        "        <td>Leve a forma ao forno</td><td>Abaixar o carro </td>        \n",
        "    </tr>\n",
        "    <tr>\n",
        "        <td>Enquanto não corar deixe a forma no forno </td><td>Dar o aperto final nas porcas</td>        \n",
        "    </tr>\n",
        "    <tr>\n",
        "        <td>Retire do forno</td><td>Colocar o pneu reserva</td>        \n",
        "    </tr>\n",
        "    <tr>\n",
        "    <td> Deixe esfriar</td> <td> </td>\n",
        "    </tr>\n",
        "\n",
        "\n",
        "</table>\n"
      ]
    },
    {
      "cell_type": "markdown",
      "metadata": {
        "id": "X0tUrsoszCka",
        "colab_type": "text"
      },
      "source": [
        "<p align=\"justify\">\n",
        "Esta representação é pouco usada na prática porque o uso da linguagem natural muitas vezes dá oportunidade a más interpretações, ambigüidades e imprecisões. \n",
        "</p>"
      ]
    },
    {
      "cell_type": "markdown",
      "metadata": {
        "id": "sXY7paCuE_yl",
        "colab_type": "text"
      },
      "source": [
        "### Fluxograma Convencional \n",
        "\n",
        "<center>\n",
        "<img src= \"https://consulteq.com.br/wp-content/uploads/2018/12/mapeamento-de-processos-fluxograma.jpg\"  width =\"400\" height=300>\n",
        "</center>\n"
      ]
    },
    {
      "cell_type": "markdown",
      "metadata": {
        "id": "WdXpMvpsFGED",
        "colab_type": "text"
      },
      "source": [
        "<p align=\"justify\">\n",
        "Esta representaçã de algoritmos usa formas geométricas para identificar ações, como instruções, comandos, <it>loops</it> distintos. É uma das forma bastante utilizada por facilitar o entendimento e as ideias, mas não descreve as informações detalhdas do programa. Para esta represerntação são usadas formas geométricas. Na figura a seguir, cada figura é mostrada como e onde deve ser usada:\n",
        "</p>\n",
        "<center>\n",
        "<img src= \"https://cdn.escolaedti.com.br/wp-content/uploads/2019/07/simbologia-fluxograma.png\"  width =\"400\" height=300>\n",
        "</center>\n"
      ]
    },
    {
      "cell_type": "markdown",
      "metadata": {
        "id": "vZ92HCKEJ9j2",
        "colab_type": "text"
      },
      "source": [
        "<b> Exemplos: </b>\n",
        "<center>\n",
        "<img src= \"https://thumbs.dreamstime.com/b/algoritmo-27863175.jpg\"  width =\"400\" height=300>\n",
        "</center>\n",
        "\n",
        "<center>\n",
        "<img src= \"https://blog.masterdaweb.com/wp-content/uploads/2011/09/Fluxograma.gif\"  width =\"400\" height=300>\n",
        "</center>\n",
        "\n",
        "<center>\n",
        "<img src= \"https://fluxograma.net/wp-content/uploads/2015/12/exemplo-de-fluxograma.jpg\"  width =\"400\" height=300>\n",
        "</center>\n",
        "\n",
        "<center>\n",
        "<img src= \"https://cdn.escolaedti.com.br/wp-content/uploads/2019/07/vsm-value-stream-mapping.png\"  width =\"600\" height=400>\n",
        "</center>\n",
        "\n",
        "<center>\n",
        "<img src= \"https://cic.unb.br/~jhcf/MyBooks/ic/3.ProgramacaoBasica/TecnicasProgramacaoBasicas/FluxogramasAlgoritmos/FluxogramaAMenorQueB.gif\"  width =\"400\" height=300>\n",
        "</center>\n"
      ]
    },
    {
      "cell_type": "markdown",
      "metadata": {
        "id": "ob5qSraUS_gS",
        "colab_type": "text"
      },
      "source": [
        "### Pseudocódigo "
      ]
    },
    {
      "cell_type": "markdown",
      "metadata": {
        "id": "6xZPXw0JTtZY",
        "colab_type": "text"
      },
      "source": [
        "<p align=\"justify\">\n",
        "<b>Pseudocódigo</b> é uma forma genérica de escrever um algoritmo, utilizando uma linguagem simples (nativa a quem o escreve, de forma a ser entendida por qualquer pessoa) sem necessidade de conhecer a sintaxe de nenhuma linguagem de programação. Um exemplo de pseudocódigo é o Portugol, que utiliza o compilador <b>Visualg</b> ou <b>Portugol</b> Viana que pode ser baixado do portal de software livre SourceForge.\n",
        "</p>\n"
      ]
    },
    {
      "cell_type": "markdown",
      "metadata": {
        "id": "vJgYQiwmUcwb",
        "colab_type": "text"
      },
      "source": [
        "\n",
        "#### Modelo de pseudo-código\n",
        "<p align=\"justify\">\n",
        "Utilizaremos como padrão o seguinte modelo de pseudo-código:\n",
        "\n",
        "* Todo programa deve ser iniciado com <b>programa SeuNome</b>;\n",
        "*O Início e Fim do programa serão limitados pelos marcadores <b>Inicio</b> e <b>Fim</b>;\n",
        "* As variáveis serão declaradas no início do programa como <b>NomeVariável:tipo da variável</b>;\n",
        "\n",
        "* Variáveis não podem ter espaço em branco e não podem ter seu nome iniciada por número\n",
        "Caracteres especiais não devem ser utilizadas nos nomes das variáveis (´,`, ~,ç ,- e afins);\n",
        "* Deve-se evitar o uso de palavras-reservadas (i.e. aquelas utilizadas pelo programa para funções específicas como é o caso de <<b>Inicio</b> e <b>Fim</b> até agora). Para facilitar ao estudante colocaremos estas palavras em negrito;\n",
        "* Consideraremos que os nomes das variáveis são case sensitive, i.e. diferencia maiúsculas e minúsculas. Desta forma, o nome declarado de uma variável deve ser exatamente o mesmo, incluindo maiúsculas e minúsculas até o final;\n",
        "* Usaremos os comandos leia para receber dados do usuário e escreva para exibir dados ao usuário;\n",
        "* Os textos a serem exibidos na tela ou que tenham de ser inseridos como caractere serão colocados entre \"aspas\".\n",
        "* Os comentários sobre o código podem ser inseridos {entre chaves} servindo apenas para efeito de informação, mas não alterando o código.\n",
        "\n",
        "</p>"
      ]
    },
    {
      "cell_type": "markdown",
      "metadata": {
        "id": "SD-5SXZnWQi8",
        "colab_type": "text"
      },
      "source": [
        "\n",
        "#### Exemplos:\n",
        "<p align=\"justify\">\n",
        "Abaixo vemos o exemplo de um programa que faz a leitura de dez números e calcula a média dos números positivos:\n",
        "</p>\n",
        "```\n",
        "INÍCIO\n",
        "VARIÁVEIS\n",
        "S,C,I,A,MD:Real;\n",
        "```\n",
        "\n",
        "\n",
        "```\n",
        "S ← 0;\n",
        "C ← 0;\n",
        "PARA I de 1 ATÉ 10 FAÇA PASSO 1\n",
        "    Escreva \"Digite um número: \";\n",
        "    LEIA A;\n",
        "    SE A ≥ 0 ENTÃO\n",
        "         S ← S + A;\n",
        "         C ← C + 1;\n",
        "    FIM SE;\n",
        "FIM PARA;\n",
        "```\n",
        "\n",
        "\n",
        "```\n",
        "MD ← S / C;\n",
        "ESCREVER (\"A média é: \", MD);\n",
        "```\n",
        "\n",
        "\n",
        "```\n",
        "FIM\n",
        "```\n",
        "\n",
        "Outro exemplo de peseudocódigo: \n",
        "\n",
        "```\n",
        "programa Habilitacao\n",
        "var\n",
        "idade:numerico\n",
        "inicio\n",
        "escreva (\"informe idade:\")\n",
        "leia(idade)\n",
        "se idade >= 18 entao\n",
        "   escreva(\"pode tirar a carteira\")\n",
        "senao\n",
        "   escreva(\"não pode tirar a carteira\")\n",
        "fimse\n",
        "fimalgoritmo\n",
        "```"
      ]
    },
    {
      "cell_type": "markdown",
      "metadata": {
        "id": "VffTPebAW0gk",
        "colab_type": "text"
      },
      "source": [
        "\n",
        "\n",
        "```\n",
        "algoritmo \"exemplo1\"\n",
        "var\n",
        "   n1, n2, soma: real\n",
        "\n",
        "inicio\n",
        "\n",
        "escreva(\"digite um número \")\n",
        "leia(n1)\n",
        "escreva(\"digite outro número \")\n",
        "leia(n2)\n",
        "soma <- n1 + n2;\n",
        "escreva(\" primeiro número = \", n1)\n",
        "escreva(\" segundo número = \", n2)\n",
        "escreva(\" soma = \", soma)\n",
        "\n",
        "fimalgoritmo\n",
        "\n",
        "```\n",
        "\n"
      ]
    },
    {
      "cell_type": "markdown",
      "metadata": {
        "id": "9BljqPy7Kal1",
        "colab_type": "text"
      },
      "source": [
        "<p align=\"justify\">\n",
        "<b>Ex 01:</b> Faça uma descrição narrativa, um fluxograma e também um algoritmo para as seguintes situações:\n",
        "\n",
        "* Levantar da Cama;\n",
        "* Lavar Roupa;\n",
        "* Trocar um Pneu Furado;\n",
        "* Trocar uma Lâmpada;\n",
        "* Ir para a Balada;\n",
        "* Obedecer os Pais;\n",
        "* Lavar a louça;\n",
        "* Assistir um filme em DVD;\n",
        "* Fazer um bolo recheado;\n",
        "* Fazer uma ligação pelo celular;\n",
        "</p>"
      ]
    },
    {
      "cell_type": "code",
      "metadata": {
        "id": "Pi8Tv2YWZZ_i",
        "colab_type": "code",
        "colab": {}
      },
      "source": [
        ""
      ],
      "execution_count": 0,
      "outputs": []
    },
    {
      "cell_type": "markdown",
      "metadata": {
        "id": "3RDBEjuNK7L7",
        "colab_type": "text"
      },
      "source": [
        "<p align=\"justify\">\n",
        "<b>Ex 02:</b> Construa um algoritmo para ler dois números. Em seguida, calcule a soma, a subtração, a multiplicação e a divisão desses números, armazenando os resultados em outras variáveis. Imprimir os dados iniciais e os resultados. \n",
        "</p>\n",
        "\n"
      ]
    },
    {
      "cell_type": "code",
      "metadata": {
        "id": "NhBpyn-TZYkd",
        "colab_type": "code",
        "colab": {}
      },
      "source": [
        ""
      ],
      "execution_count": 0,
      "outputs": []
    },
    {
      "cell_type": "markdown",
      "metadata": {
        "id": "HBdw8_oUYv6K",
        "colab_type": "text"
      },
      "source": [
        "<p align=\"justify\">\n",
        "<b>Ex 03:</b>  Faça um algoritmo para ler a base e a altura de um triangulo. Em seguida, calcular a sua área. Imprimir: base, altura e a área. \n",
        "</p>"
      ]
    },
    {
      "cell_type": "code",
      "metadata": {
        "id": "0HgeiIsfZZO-",
        "colab_type": "code",
        "colab": {}
      },
      "source": [
        ""
      ],
      "execution_count": 0,
      "outputs": []
    },
    {
      "cell_type": "markdown",
      "metadata": {
        "id": "tyCzdnMWZSNz",
        "colab_type": "text"
      },
      "source": [
        "<p align=\"justify\">\n",
        "<b>Ex 04:</b>  Elabore um algoritmo para ler o nome de um aluno, sua idade (em anos) e as quatro notas (de quatro bimestres). Calcular a média anual do aluno. Imprimir: nome, idade, notas e média.\n",
        "</p>"
      ]
    },
    {
      "cell_type": "code",
      "metadata": {
        "id": "h6TkEOfKZVLE",
        "colab_type": "code",
        "colab": {}
      },
      "source": [
        ""
      ],
      "execution_count": 0,
      "outputs": []
    }
  ]
}