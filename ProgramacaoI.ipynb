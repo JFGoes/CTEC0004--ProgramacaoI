{
  "nbformat": 4,
  "nbformat_minor": 0,
  "metadata": {
    "colab": {
      "name": "ProgramacaoI.ipynb",
      "provenance": [],
      "toc_visible": true,
      "authorship_tag": "ABX9TyMfm5aZ9iO3vnq0exYdhS73",
      "include_colab_link": true
    },
    "kernelspec": {
      "name": "python3",
      "display_name": "Python 3"
    }
  },
  "cells": [
    {
      "cell_type": "markdown",
      "metadata": {
        "id": "view-in-github",
        "colab_type": "text"
      },
      "source": [
        "<a href=\"https://colab.research.google.com/github/JFGoes/CTEC0004--ProgramacaoI/blob/master/ProgramacaoI.ipynb\" target=\"_parent\"><img src=\"https://colab.research.google.com/assets/colab-badge.svg\" alt=\"Open In Colab\"/></a>"
      ]
    },
    {
      "cell_type": "markdown",
      "metadata": {
        "id": "vV6WtSaDzW7d",
        "colab_type": "text"
      },
      "source": [
        "<center>\n",
        "<img src= \"https://meneguite.com/2017/10/01/golang-desbravando-uma-linguagem-de-programacao-parte-1/001.gif\" width =\"100\" height=100/>\n",
        "\n",
        "# **Programação I**\n",
        "### *Algoritmos e Python*\n",
        "</center>\n",
        "\n"
      ]
    },
    {
      "cell_type": "markdown",
      "metadata": {
        "id": "_8-qavXqzlIa",
        "colab_type": "text"
      },
      "source": [
        "# **1 -- Lógica de Programação** <img src= \"https://www.enriquedans.com/wp-content/uploads/2017/07/Algorithm-and-man.jpg\" width =\"100\" height=100>\n",
        "\n",
        "A **lógica de programação** é a técnica de desenvolver algoritmos (sequências lógicas) para atingir determinados objetivos dentro de certas regras baseadas na lógica matemática e em outras teorias básicas da Ciência da Computação e que depois são adaptados para a linguagem de programação utilizada pelo desenvolvedor para construir seu software [[1](https://medium.com/@rafaelasouza_26759/o-que-%C3%A9-a-l%C3%B3gica-de-programa%C3%A7%C3%A3o-88235cb2d8f7)].\n",
        "\n",
        "Qualquer programa escrito em uma linguagem de programação lógica é um conjunto de frases em forma lógica, expressando fatos e regras sobre algum problema.\n",
        "\n",
        "\n"
      ]
    },
    {
      "cell_type": "markdown",
      "metadata": {
        "id": "1Kn90n7W48PP",
        "colab_type": "text"
      },
      "source": [
        "## **1.1 -- Algoritmos** <img src= \"https://library.kissclipart.com/20181122/qwe/kissclipart-algoritmo-computacional-clipart-algorithm-stock-ph-d9258b2b122d237f.jpg\"  width =\"100\" height=100>\n",
        "\n",
        "Informalmente, um **algoritmo** é qualquer procedimento computacional bem definido que toma algum valor ou conjunto de valores como entrada e produz algum valor ou conjunto de valores como saída. Portanto, um algoritmo é uma sequência de passos computacionais que transformam a entrada na saída.\n",
        "\n",
        "Em outras palavras, um algoritmo é uma fórmula para resolver um problema, com base na condução de uma seqüência de ações especificadas. Um programa de computador pode ser visto como um algoritmo elaborado. Em matemática e ciência da computação, um algoritmo geralmente significa um pequeno procedimento que resolve um problema recorrente.\n",
        "\n",
        "Algoritmos são muito utilizados em todas as áreas de TI.\n"
      ]
    },
    {
      "cell_type": "markdown",
      "metadata": {
        "id": "5xEuT4A34_ie",
        "colab_type": "text"
      },
      "source": [
        "## **1.2 -- Linguagens de programação**<img src= \"https://cio.com.br/wp-content/uploads/2018/09/linguagens1_288042365.jpg\"  width =\"100\" height=100>\n",
        "\n",
        "\n",
        "Existem dezenas de linguagens de codificação em uso hoje, e para engenheiros aspirantes, ou qualquer um que queira se dedicar à tecnologia, pode ser difícil saber por onde começar. E quais são as linguagens de programação mais importantes? É uma pergunta simples com uma resposta muito complexa. Normalmente, as pessoas querem entender qual é a linguagem mais popular, porque querem aprender assuntos em áreas onde existem empregos. Para a maioria das pessoas, faz muito pouco sentido entrar em um campo com conhecimento sobre algo que não está em demanda.\n",
        "\n",
        "Os desenvolvedores que estão criando produtos também querem saber sobre linguagens populares, porque, se estiverem criando APIs ou outras opções de compatibilidade, eles querem garantir que estão produzindo soluções que os clientes usarão.  \n",
        "\n",
        "Mas, se as linguagens forem igualmente úteis, escolher uma linguagem mais popular garante acesso a mais programadores e recursos, se tornando uma consideração bem importante.\n",
        "\n",
        "Então, surge a pergunta: **qual a linguagem mais popular do mundo?**\n",
        "\n",
        "O maior e mais completo ranking sobre linguagens de programação que existe é o levantamento anual do [**Stack Overflow**](https://pt.stackoverflow.com/): são cerca de 40 perguntas para mais de 100 mil desenvolvedores do mundo inteiro.\n",
        "\n",
        "Todos os meses, cerca de 50 milhões de pessoas visitam o site para aprender, compartilhar conhecimentos e construir suas carreiras. Estima-se que cerca de 21 milhões sejam desenvolvedores profissionais (alguns com mais de três décadas de experiência) e estudantes de nível universitário.\n",
        "\n",
        "De acordo com o Stack Overflow, as 7 linguagens mais usadas no mundo atualmente são:\n",
        "<center>\n",
        "<img src= \"https://futuresetcamp.com/s/most-popular-programming-languages-stack-overflow-2019.png\"  width =\"300\" height=300>\n",
        "</center>\n",
        "\n",
        "Pelo sétimo ano consecutivo, o **JavaScript** é a linguagem de programação mais usada, mas o **Python** subiu de categoria novamente. Este ano, o Python não apenas superou o **Java** no ranking geral, bem como ultrapassou o **C#** no ano passado e o **PHP** no ano anterior. Atualmente, o Python é a principal linguagem de programação que mais cresce.\n"
      ]
    },
    {
      "cell_type": "code",
      "metadata": {
        "id": "npPA7WDkNMEO",
        "colab_type": "code",
        "colab": {}
      },
      "source": [
        ""
      ],
      "execution_count": 0,
      "outputs": []
    }
  ]
}