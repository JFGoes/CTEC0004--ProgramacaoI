{
  "nbformat": 4,
  "nbformat_minor": 0,
  "metadata": {
    "colab": {
      "name": "ProgramacaoI.ipynb",
      "provenance": [],
      "collapsed_sections": [],
      "toc_visible": true,
      "authorship_tag": "ABX9TyPN0RA896loIJw5arCB1dIj",
      "include_colab_link": true
    },
    "kernelspec": {
      "name": "python3",
      "display_name": "Python 3"
    }
  },
  "cells": [
    {
      "cell_type": "markdown",
      "metadata": {
        "id": "view-in-github",
        "colab_type": "text"
      },
      "source": [
        "<a href=\"https://colab.research.google.com/github/JFGoes/CTEC0004--ProgramacaoI/blob/master/ProgramacaoI.ipynb\" target=\"_parent\"><img src=\"https://colab.research.google.com/assets/colab-badge.svg\" alt=\"Open In Colab\"/></a>"
      ]
    },
    {
      "cell_type": "markdown",
      "metadata": {
        "id": "vV6WtSaDzW7d",
        "colab_type": "text"
      },
      "source": [
        "<center>\n",
        "<img src= \"https://meneguite.com/2017/10/01/golang-desbravando-uma-linguagem-de-programacao-parte-1/001.gif\" width =\"100\" height=100/>\n",
        "\n",
        "# **Programação I**\n",
        "### *Algoritmos e Python*\n",
        "</center>\n",
        "\n"
      ]
    },
    {
      "cell_type": "markdown",
      "metadata": {
        "id": "_8-qavXqzlIa",
        "colab_type": "text"
      },
      "source": [
        "# **1 -- Lógica de Programação** <img src= \"https://www.enriquedans.com/wp-content/uploads/2017/07/Algorithm-and-man.jpg\" width =\"100\" height=100>\n",
        "\n",
        "\n",
        "\n"
      ]
    },
    {
      "cell_type": "markdown",
      "metadata": {
        "id": "j72vMzDLa1Ry",
        "colab_type": "text"
      },
      "source": [
        "<p align=\"justify\">\n",
        "A <b>lógica de programação</b> é a técnica de desenvolver algoritmos (sequências lógicas) para atingir determinados objetivos dentro de certas regras baseadas na lógica matemática e em outras teorias básicas da Ciência da Computação e que depois são adaptados para a linguagem de programação utilizada pelo desenvolvedor para construir seu software <a href = \"https://medium.com/@rafaelasouza_26759/o-que-%C3%A9-a-l%C3%B3gica-de-programa%C3%A7%C3%A3o-88235cb2d8f7\">[1]</a>.\n",
        "</p>\n",
        "<p align=\"justify\">\n",
        "Qualquer programa escrito em uma linguagem de programação lógica é um conjunto de frases em forma lógica, expressando fatos e regras sobre algum problema.\n",
        "</p>"
      ]
    },
    {
      "cell_type": "markdown",
      "metadata": {
        "id": "1Kn90n7W48PP",
        "colab_type": "text"
      },
      "source": [
        "## **1.1 -- Algoritmos** <img src= \"https://library.kissclipart.com/20181122/qwe/kissclipart-algoritmo-computacional-clipart-algorithm-stock-ph-d9258b2b122d237f.jpg\"  width =\"100\" height=100>\n",
        "\n",
        "\n"
      ]
    },
    {
      "cell_type": "markdown",
      "metadata": {
        "id": "UfL1ESwoaw6p",
        "colab_type": "text"
      },
      "source": [
        "<p align=\"justify\">\n",
        "Informalmente, um <b>algoritmo</b> é qualquer procedimento computacional bem definido que toma algum valor ou conjunto de valores como entrada e produz algum valor ou conjunto de valores como saída. Portanto, um algoritmo é uma sequência de passos computacionais que transformam a entrada na saída.\n",
        "</p>\n",
        "<p align=\"justify\">\n",
        "Em outras palavras, um algoritmo é uma fórmula para resolver um problema, com base na condução de uma seqüência de ações especificadas. Um programa de computador pode ser visto como um algoritmo elaborado. Em matemática e ciência da computação, um algoritmo geralmente significa um pequeno procedimento que resolve um problema recorrente.\n",
        "</p>\n",
        "Algoritmos são muito utilizados em todas as áreas de TI."
      ]
    },
    {
      "cell_type": "markdown",
      "metadata": {
        "id": "5xEuT4A34_ie",
        "colab_type": "text"
      },
      "source": [
        "## **1.2 -- Linguagens de programação**<img src= \"https://cio.com.br/wp-content/uploads/2018/09/linguagens1_288042365.jpg\"  width =\"100\" height=100>\n",
        "\n"
      ]
    },
    {
      "cell_type": "markdown",
      "metadata": {
        "id": "Pimk2T8Garpt",
        "colab_type": "text"
      },
      "source": [
        "\n",
        "<p align=\"justify\">\n",
        "Existem dezenas de linguagens de codificação em uso hoje, e para engenheiros aspirantes, ou qualquer um que queira se dedicar à tecnologia, pode ser difícil saber por onde começar. E quais são as linguagens de programação mais importantes? É uma pergunta simples com uma resposta muito complexa. Normalmente, as pessoas querem entender qual é a linguagem mais popular, porque querem aprender assuntos em áreas onde existem empregos. Para a maioria das pessoas, faz muito pouco sentido entrar em um campo com conhecimento sobre algo que não está em demanda.\n",
        "</p>\n",
        "\n",
        "<p align=\"justify\">\n",
        "Os desenvolvedores que estão criando produtos também querem saber sobre linguagens populares, porque, se estiverem criando APIs ou outras opções de compatibilidade, eles querem garantir que estão produzindo soluções que os clientes usarão.  \n",
        "</p>\n",
        "\n",
        "<p align=\"justify\">\n",
        "Mas, se as linguagens forem igualmente úteis, escolher uma linguagem mais popular garante acesso a mais programadores e recursos, se tornando uma consideração bem importante.\n",
        "</p>\n",
        "\n",
        "<p align=\"justify\">\n",
        "Então, surge a pergunta: <b> qual a linguagem mais popular do mundo?</b>\n",
        "</p>\n",
        "\n",
        "<p align=\"justify\">\n",
        "O maior e mais completo ranking sobre linguagens de programação que existe é o levantamento anual do <a href = \"https://pt.stackoverflow.com/\">Stack Overflow</a>: são cerca de 40 perguntas para mais de 100 mil desenvolvedores do mundo inteiro.\n",
        "</p>\n",
        "\n",
        "<p align=\"justify\">\n",
        "Todos os meses, cerca de 50 milhões de pessoas visitam o site para aprender, compartilhar conhecimentos e construir suas carreiras. Estima-se que cerca de 21 milhões sejam desenvolvedores profissionais (alguns com mais de três décadas de experiência) e estudantes de nível universitário.\n",
        "</p>\n",
        "\n",
        "<p align=\"justify\">\n",
        "De acordo com o Stack Overflow, as 7 linguagens mais usadas no mundo atualmente são:\n",
        "<center>\n",
        "<img src= \"https://futuresetcamp.com/s/most-popular-programming-languages-stack-overflow-2019.png\"  width =\"300\" height=300>\n",
        "</center>\n",
        "</p>\n",
        "\n",
        "<p align=\"justify\">\n",
        "Pelo sétimo ano consecutivo, o <b>JavaScript</b> é a linguagem de programação mais usada, mas o <b>Python</b> subiu de categoria novamente. Este ano, o Python não apenas superou o </b>Java</b> no ranking geral, bem como ultrapassou o <b>C#</b> no ano passado e o <b>PHP</b> no ano anterior. Atualmente, o Python é a principal linguagem de programação que mais cresce.\n",
        "</p>\n"
      ]
    },
    {
      "cell_type": "markdown",
      "metadata": {
        "id": "npPA7WDkNMEO",
        "colab_type": "text"
      },
      "source": [
        "# **Estruturas de um algoritmo**"
      ]
    },
    {
      "cell_type": "markdown",
      "metadata": {
        "id": "1K7V8lljx4oZ",
        "colab_type": "text"
      },
      "source": [
        "Para entender como construir um algoritmo, é necessário entender primeiro a lógica da programação.\n",
        "\n",
        "## **Lógica**\n",
        "<p align=\"justify\">\n",
        "É a parte da filosofia que estuda as leis do raciocínio. É a arte de pensar corretamente ou correção do raciocínio. A lógica ensina a\n",
        "colocar ordem no pensamento.\n",
        "</p>\n",
        "\n",
        "#### <b>Exemplos:</b>\n",
        "\n",
        "* Todo mamífero é animal.\n",
        "* Todo cavalo é mamífero.\n",
        "* Portanto, todo cavalo é animal.\n",
        "\n",
        "\n",
        "Usamos a lógica para pensar, falar ou escrever:\n",
        "\n",
        "\n",
        "* Pedro é mais alto do que João\n",
        "* João é mais alto que José.\n",
        "* Portanto, Pedro é mais alto que João.\n",
        "\n",
        "* A gaveta está fechada.\n",
        "* A chave está na gaveta.\n",
        "* Preciso primeiro abrir a gaveta, para depois\n",
        "pegar a chave.\n"
      ]
    },
    {
      "cell_type": "markdown",
      "metadata": {
        "id": "Nn7Cp5K1dzyz",
        "colab_type": "text"
      },
      "source": [
        "<p align=\"justify\">\n",
        "Em geral, um algoritmo destina-se a resolver um problema: fixa um padrão de\n",
        "comportamento a ser seguido.\n",
        "<p>"
      ]
    },
    {
      "cell_type": "markdown",
      "metadata": {
        "id": "TmS2obCim4bu",
        "colab_type": "text"
      },
      "source": [
        "\n",
        "<p align=\"justify\">\n",
        "<b>Exercício de lógica:</b>\n",
        "Um homem precisa atravessar um rio com um barco que possui capacidade de carregar apenas ele mesmo e mais uma de suas três cargas, que são: um lobo, um bode e um maço de alfafa. O que o homem deve fazer para conseguir atravessar o rio sem perder suas cargas? \n",
        "\n",
        "<a href = \"https://rachacuca.com.br/jogos/o-lobo-e-a-ovelha/\">![](https://www.fredericomarinho.com/wp-content/uploads/2012/05/jogo-logica-lobo-ovelha-couve.jpg)</a>\n",
        "</p>"
      ]
    },
    {
      "cell_type": "markdown",
      "metadata": {
        "id": "aqyiQjRZ8n_S",
        "colab_type": "text"
      },
      "source": [
        "**Escreva um algoritmo que soluciona o problema:**\n",
        "\n",
        "\n",
        "\n"
      ]
    },
    {
      "cell_type": "code",
      "metadata": {
        "id": "Csutf2J79E6h",
        "colab_type": "code",
        "colab": {}
      },
      "source": [
        ""
      ],
      "execution_count": 0,
      "outputs": []
    },
    {
      "cell_type": "markdown",
      "metadata": {
        "id": "qAFQnR2s_quU",
        "colab_type": "text"
      },
      "source": [
        "Outro jogo que envolve exercício lógico é o missionários e canibais. Clique na imagem para entrar no jogo:\n",
        "\n",
        ">><a href = \"https://rachacuca.com.br/jogos/missionarios-e-canibais/\">![Clique na Imagem](https://image.winudf.com/v2/image/YWlyLmNvbS53ZWI0Z2FtZXMubWlzc2lvbmFyaWVzYW5kY2FubmliYWxzX3NjcmVlbnNob3RzXzBfOTUxYTQwMDQ/screen-0.jpg?fakeurl=1&type=.jpg)</a>."
      ]
    },
    {
      "cell_type": "markdown",
      "metadata": {
        "id": "l69VdYWW5JOz",
        "colab_type": "text"
      },
      "source": [
        "**Escreva um algoritmo que soluciona o problema:**\n"
      ]
    },
    {
      "cell_type": "markdown",
      "metadata": {
        "id": "jcpXQS549Dcj",
        "colab_type": "text"
      },
      "source": [
        "No link <a href = \"http://www.plastelina.net/games/game3.html\">Jogos de Raciocínio lógico</a> você encontra alguns jogos para treinar e construir os algoritmos."
      ]
    },
    {
      "cell_type": "code",
      "metadata": {
        "id": "fPyiF4w89GWc",
        "colab_type": "code",
        "colab": {}
      },
      "source": [
        ""
      ],
      "execution_count": 0,
      "outputs": []
    },
    {
      "cell_type": "markdown",
      "metadata": {
        "id": "arqg6Etl9GYX",
        "colab_type": "text"
      },
      "source": [
        ""
      ]
    },
    {
      "cell_type": "code",
      "metadata": {
        "id": "7K5WG3fdAPe4",
        "colab_type": "code",
        "colab": {}
      },
      "source": [
        ""
      ],
      "execution_count": 0,
      "outputs": []
    }
  ]
}