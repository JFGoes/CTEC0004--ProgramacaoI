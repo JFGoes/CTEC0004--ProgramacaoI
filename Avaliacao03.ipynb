{
  "nbformat": 4,
  "nbformat_minor": 0,
  "metadata": {
    "colab": {
      "provenance": [],
      "authorship_tag": "ABX9TyOEuH87DFIZ6my17EuBhkXl",
      "include_colab_link": true
    },
    "kernelspec": {
      "name": "python3",
      "display_name": "Python 3"
    },
    "language_info": {
      "name": "python"
    }
  },
  "cells": [
    {
      "cell_type": "markdown",
      "metadata": {
        "id": "view-in-github",
        "colab_type": "text"
      },
      "source": [
        "<a href=\"https://colab.research.google.com/github/JFGoes/CTEC0004--ProgramacaoI/blob/master/Avaliacao03.ipynb\" target=\"_parent\"><img src=\"https://colab.research.google.com/assets/colab-badge.svg\" alt=\"Open In Colab\"/></a>"
      ]
    },
    {
      "cell_type": "markdown",
      "source": [
        "# Ativida  - avaliação 03"
      ],
      "metadata": {
        "id": "2zcibcI1IZTH"
      }
    },
    {
      "cell_type": "markdown",
      "source": [
        "Professor: Josecley Fialho Góes"
      ],
      "metadata": {
        "id": "XXvAV6wcIhvq"
      }
    },
    {
      "cell_type": "markdown",
      "source": [
        "Equipe:\n",
        "\n"
      ],
      "metadata": {
        "id": "AK57QdObIlxT"
      }
    },
    {
      "cell_type": "markdown",
      "source": [
        "**Questão 01:** Escreva um programa que verifica se um ponto está dentro, sobre ou fora de uma circunferência, dando como entrada, o ponto do centro da circunferência $0(x_0,y_0)$, o raio $r$ e o ponto $P(x,y)$ a ser verificado."
      ],
      "metadata": {
        "id": "BJrmb4LBInqy"
      }
    },
    {
      "cell_type": "code",
      "execution_count": null,
      "metadata": {
        "id": "bocuEKoUIQpx"
      },
      "outputs": [],
      "source": []
    },
    {
      "cell_type": "markdown",
      "source": [
        "**Questão 02:** Escreva um programa que analisa em qual quadrante do plano cartesiano um ponto $P(x,y)$ está, retornando: Primeiro quadrante, segundo quadrante, terceiro quadrante ou quarto quadrante."
      ],
      "metadata": {
        "id": "QpEJTLzZJNRa"
      }
    },
    {
      "cell_type": "code",
      "source": [],
      "metadata": {
        "id": "FoH78hq_JmcY"
      },
      "execution_count": null,
      "outputs": []
    },
    {
      "cell_type": "markdown",
      "source": [
        "Questão 03: Escreva um programa que avalia entre 100 e 1000, quais números são múltiplos de 6, imprimindo-os em duas listas, sendo uma com os múltiplos pares e a outra com os múltiplos ímpares."
      ],
      "metadata": {
        "id": "twjxAGbuJpaF"
      }
    },
    {
      "cell_type": "code",
      "source": [],
      "metadata": {
        "id": "ipY1lJolKKsB"
      },
      "execution_count": null,
      "outputs": []
    },
    {
      "cell_type": "markdown",
      "source": [
        "**Questão 04:** Escreva um programa que avalia se três números dados pele teclado formam uma sequência (P.A. ou P.G.) e imprima os 10 primeiros."
      ],
      "metadata": {
        "id": "3jCy1BIbKLMx"
      }
    },
    {
      "cell_type": "code",
      "source": [],
      "metadata": {
        "id": "zDdeAMfmK-OR"
      },
      "execution_count": null,
      "outputs": []
    }
  ]
}