{
  "nbformat": 4,
  "nbformat_minor": 0,
  "metadata": {
    "colab": {
      "provenance": [],
      "collapsed_sections": [],
      "authorship_tag": "ABX9TyNuA42aLSssECmmu0YQohjv",
      "include_colab_link": true
    },
    "kernelspec": {
      "name": "python3",
      "display_name": "Python 3"
    },
    "language_info": {
      "name": "python"
    }
  },
  "cells": [
    {
      "cell_type": "markdown",
      "metadata": {
        "id": "view-in-github",
        "colab_type": "text"
      },
      "source": [
        "<a href=\"https://colab.research.google.com/github/JFGoes/CTEC0004--ProgramacaoI/blob/master/MetodoBissecao.ipynb\" target=\"_parent\"><img src=\"https://colab.research.google.com/assets/colab-badge.svg\" alt=\"Open In Colab\"/></a>"
      ]
    },
    {
      "cell_type": "markdown",
      "source": [
        "# Método da Bisseção"
      ],
      "metadata": {
        "id": "JgWVjoDjv08Z"
      }
    },
    {
      "cell_type": "code",
      "execution_count": null,
      "metadata": {
        "id": "cHgcS3-kt6Ak"
      },
      "outputs": [],
      "source": [
        "from sympy.plotting import *\n",
        "import sympy as sp"
      ]
    },
    {
      "cell_type": "code",
      "source": [
        "x = sp.Symbol('x')#Define uma variável"
      ],
      "metadata": {
        "id": "ehKprcrvuE3m"
      },
      "execution_count": null,
      "outputs": []
    },
    {
      "cell_type": "code",
      "source": [
        "funcao = x**4 - 2 * x**3 - 4 * x**2+ 4*x + 4"
      ],
      "metadata": {
        "id": "_ObPlqpoua5S"
      },
      "execution_count": null,
      "outputs": []
    },
    {
      "cell_type": "code",
      "source": [
        "plot(funcao,(x,-2,2))"
      ],
      "metadata": {
        "colab": {
          "base_uri": "https://localhost:8080/",
          "height": 315
        },
        "id": "PrQndcJtuwAv",
        "outputId": "5fe2889c-4c77-4307-e525-be74f489ada4"
      },
      "execution_count": null,
      "outputs": [
        {
          "output_type": "display_data",
          "data": {
            "text/plain": [
              "<Figure size 432x288 with 1 Axes>"
            ],
            "image/png": "[encoded data removed]"
          },
          "metadata": {
            "needs_background": "light"
          }
        },
        {
          "output_type": "execute_result",
          "data": {
            "text/plain": [
              "<sympy.plotting.plot.Plot at 0x7f3ffe2e9110>"
            ]
          },
          "metadata": {},
          "execution_count": 7
        }
      ]
    },
    {
      "cell_type": "markdown",
      "source": [
        "Definição da função para obter as raizes, $f(x) = 0$"
      ],
      "metadata": {
        "id": "BTrLtst7ws3k"
      }
    },
    {
      "cell_type": "code",
      "source": [
        "def f(x):\n",
        "  return x**4 - 2 * x**3 - 4 * x**2+ 4*x + 4"
      ],
      "metadata": {
        "id": "-SDU3-8lu2im"
      },
      "execution_count": 3,
      "outputs": []
    },
    {
      "cell_type": "markdown",
      "source": [
        "Método da bisseção implementado a partir do algoritmo do livro cálculo numérico - Rugiere"
      ],
      "metadata": {
        "id": "C7h2GI90w1YA"
      }
    },
    {
      "cell_type": "code",
      "source": [
        "def bisseccao(a,b,tol,iter_max):\n",
        "  iter = 1\n",
        "  fa = f(a)\n",
        "  fb = f(b)\n",
        "  print(f'{\"iter\":^5}| {\"a\":^9}| {\"b\":^9}| {\"x\":^9}| {\"fx\":^8} | {\"b-a\":^9} ')\n",
        "  print('-----|----------|----------|----------|----------|-----------')\n",
        "  \n",
        "  while iter < iter_max:\n",
        "    x = (a + b) * 0.5\n",
        "    \n",
        "    fx = f(x)\n",
        "    print(f'{iter:^5}| {a:^9.6f}| {b:^9.6f}| {x:^9.6f}| {fx:^8.4f} | {b-a:^2.4E}')\n",
        "    if fa == 0 or (b-a) < tol:\n",
        "      return (f'A raiz esperar é: {x:.6f}')\n",
        "    iter+=1\n",
        "    if fa * fx > 0:\n",
        "      a = x\n",
        "      fa = fx\n",
        "    else:\n",
        "      b = x\n",
        "  return 'O método não convergiu após '+ str(iter_max) + 'iterações'"
      ],
      "metadata": {
        "id": "HYVfJuN2vB50"
      },
      "execution_count": 4,
      "outputs": []
    },
    {
      "cell_type": "code",
      "source": [
        "#Raiz no intervalo [1,2]\n",
        "bisseccao(1,2,10**(-4),100)"
      ],
      "metadata": {
        "colab": {
          "base_uri": "https://localhost:8080/",
          "height": 341
        },
        "id": "mDoiltqvwwQA",
        "outputId": "0c787ac2-7c79-447d-f99e-156e42878ca2"
      },
      "execution_count": 5,
      "outputs": [
        {
          "output_type": "stream",
          "name": "stdout",
          "text": [
            "iter |     a    |     b    |     x    |    fx    |    b-a    \n",
            "-----|----------|----------|----------|----------|-----------\n",
            "  1  | 1.000000 | 2.000000 | 1.500000 | -0.6875  | 1.0000E+00\n",
            "  2  | 1.000000 | 1.500000 | 1.250000 |  1.2852  | 5.0000E-01\n",
            "  3  | 1.250000 | 1.500000 | 1.375000 |  0.3127  | 2.5000E-01\n",
            "  4  | 1.375000 | 1.500000 | 1.437500 | -0.1865  | 1.2500E-01\n",
            "  5  | 1.375000 | 1.437500 | 1.406250 |  0.0637  | 6.2500E-02\n",
            "  6  | 1.406250 | 1.437500 | 1.421875 | -0.0613  | 3.1250E-02\n",
            "  7  | 1.406250 | 1.421875 | 1.414062 |  0.0012  | 1.5625E-02\n",
            "  8  | 1.414062 | 1.421875 | 1.417969 | -0.0300  | 7.8125E-03\n",
            "  9  | 1.414062 | 1.417969 | 1.416016 | -0.0144  | 3.9062E-03\n",
            " 10  | 1.414062 | 1.416016 | 1.415039 | -0.0066  | 1.9531E-03\n",
            " 11  | 1.414062 | 1.415039 | 1.414551 | -0.0027  | 9.7656E-04\n",
            " 12  | 1.414062 | 1.414551 | 1.414307 | -0.0007  | 4.8828E-04\n",
            " 13  | 1.414062 | 1.414307 | 1.414185 |  0.0002  | 2.4414E-04\n",
            " 14  | 1.414185 | 1.414307 | 1.414246 | -0.0003  | 1.2207E-04\n",
            " 15  | 1.414185 | 1.414246 | 1.414215 | -0.0000  | 6.1035E-05\n"
          ]
        },
        {
          "output_type": "execute_result",
          "data": {
            "text/plain": [
              "'A raiz esperar é: 1.414215'"
            ],
            "application/vnd.google.colaboratory.intrinsic+json": {
              "type": "string"
            }
          },
          "metadata": {},
          "execution_count": 5
        }
      ]
    },
    {
      "cell_type": "code",
      "source": [],
      "metadata": {
        "id": "9hejm_2xw8qN"
      },
      "execution_count": null,
      "outputs": []
    }
  ]
}