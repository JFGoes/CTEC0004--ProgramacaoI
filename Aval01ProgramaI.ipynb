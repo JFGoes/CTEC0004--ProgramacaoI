{
  "nbformat": 4,
  "nbformat_minor": 0,
  "metadata": {
    "colab": {
      "provenance": [],
      "authorship_tag": "ABX9TyPaT2uJQkuHarNPRJuWj7R+",
      "include_colab_link": true
    },
    "kernelspec": {
      "name": "python3",
      "display_name": "Python 3"
    },
    "language_info": {
      "name": "python"
    }
  },
  "cells": [
    {
      "cell_type": "markdown",
      "metadata": {
        "id": "view-in-github",
        "colab_type": "text"
      },
      "source": [
        "<a href=\"https://colab.research.google.com/github/JFGoes/CTEC0004--ProgramacaoI/blob/master/Aval01ProgramaI.ipynb\" target=\"_parent\"><img src=\"https://colab.research.google.com/assets/colab-badge.svg\" alt=\"Open In Colab\"/></a>"
      ]
    },
    {
      "cell_type": "markdown",
      "source": [
        "<center>\n",
        "\n",
        "Universidade Federal do Pará<br>\n",
        "Instituto de Engenharia e Geociências<br>\n",
        "Programa de Ciência e Tecnologia<br>\n",
        "</center>\n",
        "\n",
        "Disciplina: Programação I<br>\n",
        "Professor: Josecley Fialho Góes<br>\n",
        "Data: 15/12/2022<br>"
      ],
      "metadata": {
        "id": "qG9fn2_o8WG9"
      }
    },
    {
      "cell_type": "markdown",
      "source": [
        "Aluno: `Coloque o seu nome aqui`"
      ],
      "metadata": {
        "id": "ZzsC7Ppb9cX4"
      }
    },
    {
      "cell_type": "markdown",
      "source": [
        "<center>\n",
        "\n",
        "### Avaliação I\n",
        "</center>"
      ],
      "metadata": {
        "id": "F89rJejk9e3y"
      }
    },
    {
      "cell_type": "markdown",
      "source": [
        "**Questão 01:** Escreva um programa que solicita a entrada do teclado do número de uma cor de fundo, verifica se é uma das cores da `Tabela de cores válidas` e imprima-a na tela. Se não, imprimir o texto \"Cores inválidas\" com fundo vermelho, da `Tabela cor inválida`.\n",
        "\n",
        "Tabelas de cores válidas:\n",
        "\n",
        "código| nome da cor\n",
        ":------:|:------------:\n",
        "42 |Verde\n",
        "43 |Amarelo\n",
        "44 |Azul\n",
        "45 |magenta\n",
        "46 |Cyan\n",
        "47 |Cinza\n",
        "\n",
        "Tabela cor inválida:\n",
        "\n",
        "código| nome da cor\n",
        ":------:|:------------:\n",
        "41 |vermelho"
      ],
      "metadata": {
        "id": "JkEjempu9jA9"
      }
    },
    {
      "cell_type": "markdown",
      "source": [
        "\n",
        "\n",
        "```\n",
        "print('\\33[CORm Vermelho.\\n\\033[m')\n",
        "```\n",
        "\n"
      ],
      "metadata": {
        "id": "_Qvan59yFIK2"
      }
    },
    {
      "cell_type": "code",
      "source": [
        "#cores dadas\n",
        "print('Cor de fundo'),\n",
        "print('\\33[41m Vermelho.\\n\\033[m')\n",
        "print('\\33[42m Verde.\\n\\033[m')\n",
        "print('\\33[43m Amarelo.\\n\\033[m')\n",
        "print('\\33[44m Azul.\\n\\033[m')\n",
        "print('\\33[45m Magenta.\\n\\033[m')\n",
        "print('\\33[46m Cyan.\\n\\033[m')\n",
        "print('\\33[47m Cinza.\\n\\033[m')"
      ],
      "metadata": {
        "colab": {
          "base_uri": "https://localhost:8080/"
        },
        "id": "ZwZnJ1Hq8Vlv",
        "outputId": "123ef73e-617d-4f50-f305-cc6873e560a3"
      },
      "execution_count": 40,
      "outputs": [
        {
          "output_type": "stream",
          "name": "stdout",
          "text": [
            "Cor de fundo\n",
            "\u001b[41m Vermelho.\n",
            "\u001b[m\n",
            "\u001b[42m Verde.\n",
            "\u001b[m\n",
            "\u001b[43m Amarelo.\n",
            "\u001b[m\n",
            "\u001b[44m Azul.\n",
            "\u001b[m\n",
            "\u001b[45m Magenta.\n",
            "\u001b[m\n",
            "\u001b[46m Cyan.\n",
            "\u001b[m\n",
            "\u001b[47m Cinza.\n",
            "\u001b[m\n"
          ]
        }
      ]
    },
    {
      "cell_type": "code",
      "source": [],
      "metadata": {
        "id": "e1coY8VoDJf8"
      },
      "execution_count": null,
      "outputs": []
    },
    {
      "cell_type": "markdown",
      "source": [
        "**Questão 02:** Escreva um programa que verifica quantos números entre 0 e 100 são múltiplos de 6, usando o critério de divisibilidade e imprime-os na tela."
      ],
      "metadata": {
        "id": "buY43ZwqIwGa"
      }
    },
    {
      "cell_type": "code",
      "source": [],
      "metadata": {
        "id": "jXaYfyujJFgh"
      },
      "execution_count": null,
      "outputs": []
    },
    {
      "cell_type": "markdown",
      "source": [
        "**Questão 03:** Escreva um programa que avalia se a senha digitada é igual a senha dada: `\"prog2022\"`. Enquanto a senha estiver errada continue pedindo até que o usuário informe a senha válido. \n",
        "Mensagens de saída:<br>\n",
        "1. Ao digitar uma senha inválida, imprimir na tela: \"Senha inválida. Tente novamente!\"<br>\n",
        "2. Ao digitar a senha válida, imprimir na tela: \"Login feito com sucesso\"."
      ],
      "metadata": {
        "id": "_ETeJ9-iJGPO"
      }
    },
    {
      "cell_type": "code",
      "source": [],
      "metadata": {
        "id": "5jrzenoSLadV"
      },
      "execution_count": null,
      "outputs": []
    },
    {
      "cell_type": "markdown",
      "source": [
        "**Questão 04:** Escreva um programa que calcula o número $\\pi$ usando a fórmula abaixo:\n",
        "\n",
        "$$\\pi  = \\displaystyle \\sum_{k=0}^n \\dfrac{\\left(-\\dfrac{1}{3}\\right)^k}{2k + 1}$$\n",
        "\n",
        "Use uma aproximação de 11 casas decimais na impressão para os $n=21$ primeiros termos."
      ],
      "metadata": {
        "id": "o8pGmxcNLeet"
      }
    },
    {
      "cell_type": "code",
      "source": [],
      "metadata": {
        "id": "_EMaKpowP3Is"
      },
      "execution_count": null,
      "outputs": []
    },
    {
      "cell_type": "markdown",
      "source": [
        "**Questão 05:** Escreva um programa que descreve o menu de uma lanchonete com cinco opções de lanches e com os devidos preços. Mostre na tela a opção de escolha dos lanches, a quantidade solicitada pelo cliente e valor a pagar.\n",
        "\n",
        "Por exemplo, com duas opções:\n",
        "\n",
        "1 - Cachorro quente: R\\$5,00<br>\n",
        "2 - Misto quente:  R\\$ 3,50\n",
        "\n",
        "Pedido: \n",
        "\n",
        "Qtde  | Opções     |     Valores (R\\$)\n",
        "-------|-----------|-------------\n",
        "2 |cachorro quente |  10,00\n",
        "2 |Misto quente| 7,00\n",
        "\n",
        "Total a pagar: R\\$ 17,00"
      ],
      "metadata": {
        "id": "EsiAycDIQ5Bf"
      }
    },
    {
      "cell_type": "code",
      "source": [],
      "metadata": {
        "id": "yEm5uk8kVEbm"
      },
      "execution_count": null,
      "outputs": []
    }
  ]
}